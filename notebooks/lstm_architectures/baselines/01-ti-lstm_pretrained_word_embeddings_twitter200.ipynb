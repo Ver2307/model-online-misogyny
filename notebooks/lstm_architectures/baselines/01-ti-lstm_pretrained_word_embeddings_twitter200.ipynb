{
 "cells": [
  {
   "cell_type": "markdown",
   "metadata": {
    "collapsed": true,
    "pycharm": {
     "name": "#%% md\n"
    }
   },
   "source": [
    "# =========================\n",
    "# Load libraries\n",
    "# ========================="
   ]
  },
  {
   "cell_type": "code",
   "execution_count": null,
   "outputs": [],
   "source": [
    "import pandas as pd\n",
    "import numpy as np\n",
    "from keras.preprocessing.text import Tokenizer\n",
    "from keras import callbacks, layers, models\n",
    "import keras_metrics as km\n",
    "import matplotlib.pyplot as plt\n",
    "from keras.preprocessing.sequence import pad_sequences\n",
    "from sklearn.metrics import f1_score, confusion_matrix, roc_curve, auc\n",
    "from sklearn.model_selection import train_test_split\n",
    "\n",
    "from src.data.preprocess_word_embeddings import init_embeddings"
   ],
   "metadata": {
    "collapsed": false,
    "pycharm": {
     "name": "#%%\n",
     "is_executing": false
    }
   }
  },
  {
   "cell_type": "markdown",
   "source": [
    "# =========================\n",
    "# Load data\n",
    "# ========================="
   ],
   "metadata": {
    "collapsed": false,
    "pycharm": {
     "name": "#%% md\n"
    }
   }
  },
  {
   "cell_type": "code",
   "execution_count": null,
   "outputs": [],
   "source": [
    "# Load gold data\n",
    "data = pd.read_csv(\"../../../data/processed/gold_data_en.csv\")\n",
    "\n",
    "train_data, test_data, train_labels, test_labels = train_test_split(\n",
    "    data[\"text\"], data[\"label\"], test_size=0.2\n",
    ")"
   ],
   "metadata": {
    "collapsed": false,
    "pycharm": {
     "name": "#%%\n",
     "is_executing": false
    }
   }
  },
  {
   "cell_type": "markdown",
   "source": [
    "# =========================\n",
    "# Prepare data\n",
    "# ========================="
   ],
   "metadata": {
    "collapsed": false,
    "pycharm": {
     "name": "#%% md\n"
    }
   }
  },
  {
   "cell_type": "code",
   "execution_count": null,
   "outputs": [],
   "source": [
    "# Create unique index for every word and fit to training data\n",
    "number_of_most_frequency_words = 20000\n",
    "tokenizer = Tokenizer(num_words = number_of_most_frequency_words)\n",
    "tokenizer.fit_on_texts(train_data)\n",
    "\n",
    "# Turn each tweet into a sequence of integers of equal length\n",
    "sequences = tokenizer.texts_to_sequences(train_data)\n",
    "train_corpus_embeddings = pad_sequences(sequences)\n",
    "\n",
    "# Print the number of unique words found in the data set (not the limit placed\n",
    "# on the tokenizer), use this as feedback to the num_words arg of Tokenizer().\n",
    "print('Found %d unique words.' % len(tokenizer.word_index))"
   ],
   "metadata": {
    "collapsed": false,
    "pycharm": {
     "name": "#%% \n",
     "is_executing": false
    }
   }
  },
  {
   "cell_type": "markdown",
   "source": [
    "# =========================\n",
    "# Split data\n",
    "# ========================="
   ],
   "metadata": {
    "collapsed": false,
    "pycharm": {
     "name": "#%% md\n"
    }
   }
  },
  {
   "cell_type": "code",
   "execution_count": null,
   "outputs": [],
   "source": [
    "# Randomly shuffle data\n",
    "indices = np.arange(train_data.shape[0])\n",
    "np.random.shuffle(indices)\n",
    "train_corpus_embeddings = train_corpus_embeddings[indices]\n",
    "train_labels = train_labels.values[indices]\n",
    "\n",
    "# Split into training and validation data (approximately 80:20)\n",
    "x_train = train_corpus_embeddings[:10410]\n",
    "y_train = train_labels[:10410]\n",
    "x_val   = train_corpus_embeddings[10410:]\n",
    "y_val   = train_labels[10410:]"
   ],
   "metadata": {
    "collapsed": false,
    "pycharm": {
     "name": "#%%\n",
     "is_executing": false
    }
   }
  },
  {
   "cell_type": "markdown",
   "source": [
    "# =========================\n",
    "# Callbacks\n",
    "# ========================="
   ],
   "metadata": {
    "collapsed": false
   }
  },
  {
   "cell_type": "code",
   "execution_count": null,
   "outputs": [],
   "source": [
    "callbacks = [ callbacks.TensorBoard(\n",
    "    log_dir='log_lstm_embedding_twitter',\n",
    "    histogram_freq=1,\n",
    "    embeddings_freq = 1,\n",
    "    embeddings_data = x_train[:100],\n",
    "    ),\n",
    "    callbacks.EarlyStopping(\n",
    "    monitor='acc',\n",
    "    patience=1,\n",
    "    ),\n",
    "    callbacks.ModelCheckpoint(\n",
    "    filepath='my_model.h5',\n",
    "    monitor='val_loss',\n",
    "    save_best_only=True,\n",
    "        ),\n",
    "    callbacks.ReduceLROnPlateau(\n",
    "        monitor='val_loss',\n",
    "         factor=0.1,\n",
    "        patience=10,\n",
    "        ),\n",
    "]"
   ],
   "metadata": {
    "collapsed": false,
    "pycharm": {
     "name": "#%%\n",
     "is_executing": false
    }
   }
  },
  {
   "cell_type": "markdown",
   "source": [
    "# =========================\n",
    "# Parse GloVe word-embeddings\n",
    "# =========================\n",
    "\n",
    "# You need to download the pre-trained word vectors from:\n",
    "# https://nlp.stanford.edu/projects/glove/"
   ],
   "metadata": {
    "collapsed": false,
    "pycharm": {
     "name": "#%% md\n"
    }
   }
  },
  {
   "cell_type": "code",
   "execution_count": null,
   "outputs": [],
   "source": [
    "word_embedding_matrix = init_embeddings(tokenizer.word_index, number_of_most_frequency_words, 200, \"/home/tcake/Downloads/glove.twitter.27B/glove.twitter.27B.200d.txt\")\n",
    "\n"
   ],
   "metadata": {
    "collapsed": false,
    "pycharm": {
     "name": "#%%\n",
     "is_executing": false
    }
   }
  },
  {
   "cell_type": "markdown",
   "source": [
    "# =========================\n",
    "# Build model\n",
    "# ========================="
   ],
   "metadata": {
    "collapsed": false,
    "pycharm": {
     "name": "#%% md\n"
    }
   }
  },
  {
   "cell_type": "code",
   "execution_count": null,
   "outputs": [],
   "source": [
    "# Add Embedding layer\n",
    "# The final sigmoid layer outputs probability values between [0, 1]\n",
    "model = models.Sequential()\n",
    "model.add(layers.Embedding(number_of_most_frequency_words+1, 200, input_length = train_corpus_embeddings.shape[1]))\n",
    "model.add(layers.Dropout(0.5))\n",
    "model.add(layers.LSTM(200))\n",
    "model.add(layers.Dropout(0.5))\n",
    "model.add(layers.Dense(1, activation = 'sigmoid'))"
   ],
   "metadata": {
    "collapsed": false,
    "pycharm": {
     "name": "#%%\n",
     "is_executing": false
    }
   }
  },
  {
   "cell_type": "markdown",
   "source": [
    "# =========================\n",
    "# Load GloVe emdebbings\n",
    "# ========================="
   ],
   "metadata": {
    "collapsed": false,
    "pycharm": {
     "name": "#%% md\n"
    }
   }
  },
  {
   "cell_type": "code",
   "execution_count": null,
   "outputs": [],
   "source": [
    "# Load pretrained word embeddings\n",
    "model.layers[0].set_weights([word_embedding_matrix])\n",
    "model.layers[0].trainable = False"
   ],
   "metadata": {
    "collapsed": false,
    "pycharm": {
     "name": "#%%\n",
     "is_executing": false
    }
   }
  },
  {
   "cell_type": "markdown",
   "source": [
    "# =========================\n",
    "# Train model\n",
    "# ========================="
   ],
   "metadata": {
    "collapsed": false,
    "pycharm": {
     "name": "#%% md\n"
    }
   }
  },
  {
   "cell_type": "code",
   "execution_count": null,
   "outputs": [],
   "source": [
    "# As the model outputs probabilities, binary crossentropy is the best loss\n",
    "# metric as it measures the distance between probability distributions\n",
    "model.compile(optimizer = 'rmsprop',\n",
    "              loss = 'binary_crossentropy',\n",
    "              metrics=[km.binary_precision(), km.binary_recall()])\n",
    "\n",
    "model.summary()\n",
    "history = model.fit(x_train,\n",
    "                    y_train,\n",
    "                    epochs = 10,\n",
    "                    batch_size = 32,\n",
    "                    validation_data = (x_val, y_val),\n",
    "                    callbacks=callbacks)\n",
    "\n",
    "# Prep history dictionary\n",
    "precision = history.history['precision']\n",
    "val_precision = history.history['val_precision']\n",
    "\n",
    "recall = history.history['recall']\n",
    "val_recall = history.history['val_recall']\n",
    "\n",
    "loss = history.history['loss']\n",
    "val_loss = history.history['val_loss']\n",
    "\n",
    "epochs = range(1, len(precision) + 1)\n",
    "\n",
    "# Plot the training and validation precision\n",
    "plt.plot(epochs, precision, 'bo', label='Training Precision')\n",
    "plt.plot(epochs, val_precision, 'b', label='Validation Precision')\n",
    "plt.title('Training and validation Precision')\n",
    "plt.xlabel('Epochs')\n",
    "plt.ylabel('Precision')\n",
    "plt.legend()\n",
    "plt.show()\n",
    "\n",
    "# Plot the training and validation recall\n",
    "plt.clf()\n",
    "plt.plot(epochs, recall, 'bo', label='Training Recall')\n",
    "plt.plot(epochs, val_recall, 'b', label='Validation Recall')\n",
    "plt.title('Training and validation recall')\n",
    "plt.xlabel('Epochs')\n",
    "plt.ylabel('Recall')\n",
    "plt.legend()\n",
    "plt.show()\n",
    "\n",
    "\n",
    "# Plot the training and validation loss\n",
    "plt.plot(epochs, loss, 'bo', label='Training loss')\n",
    "plt.plot(epochs, val_loss, 'b', label='Validation loss')\n",
    "plt.title('Training and validation loss')\n",
    "plt.xlabel('Epochs')\n",
    "plt.ylabel('Loss')\n",
    "plt.legend()\n",
    "plt.show()"
   ],
   "metadata": {
    "collapsed": false,
    "pycharm": {
     "name": "#%%\n",
     "is_executing": false
    }
   }
  },
  {
   "cell_type": "markdown",
   "source": [
    "# =========================\n",
    "# Evaluate on test data\n",
    "# ========================="
   ],
   "metadata": {
    "collapsed": false,
    "pycharm": {
     "name": "#%% md\n"
    }
   }
  },
  {
   "cell_type": "code",
   "execution_count": null,
   "outputs": [],
   "source": [
    "\n",
    "# DO NOT retrain the tokenizer. Use the argument oov_token=True to reserve a\n",
    "# token for unkown words. See https://bit.ly/2lNh15g\n",
    "\n",
    "# Prepare data\n",
    "# Ensure sequences are padded to the same length as training data\n",
    "x_sequences = tokenizer.texts_to_sequences(test_data)\n",
    "x_test = pad_sequences(x_sequences, train_corpus_embeddings.shape[1])\n",
    "\n",
    "# Prepare labels, transform to binary and float32\n",
    "y_test = test_labels.values\n",
    "\n",
    "# Print results as ['precision', 'recall'] check names with model.metrics_names\n",
    "model.evaluate(x_test, y_test)[1:]"
   ],
   "metadata": {
    "collapsed": false,
    "pycharm": {
     "name": "#%%\n",
     "is_executing": false
    }
   }
  },
  {
   "cell_type": "markdown",
   "source": [
    "# =========================\n",
    "# F1 Score\n",
    "# ========================="
   ],
   "metadata": {
    "collapsed": false
   }
  },
  {
   "cell_type": "code",
   "execution_count": null,
   "outputs": [],
   "source": [
    "y_pred = model.predict(x_test, batch_size=32)\n",
    "y_pred_roc = y_pred\n",
    "y_pred = y_pred > 0.5\n",
    "y_pred = y_pred.flatten()\n",
    "y_pred = y_pred.astype(int)\n",
    "\n",
    "print(\"Confusion matrix:\")\n",
    "print(confusion_matrix(y_test, y_pred))\n",
    "\n",
    "print(\"Marco F1:%f\" % f1_score(y_test, y_pred, average=\"macro\"))\n",
    "print(\"Micro F1:%f\" % f1_score(y_test, y_pred, average=\"micro\"))\n",
    "print(\"Weighted F1:%f\" % f1_score(y_test, y_pred, average=\"weighted\"))\n"
   ],
   "metadata": {
    "collapsed": false,
    "pycharm": {
     "name": "#%%\n",
     "is_executing": false
    }
   }
  },
  {
   "cell_type": "markdown",
   "source": [
    "# =========================\n",
    "# ROC - AUC\n",
    "# =========================\n",
    "    "
   ],
   "metadata": {
    "collapsed": false
   }
  },
  {
   "cell_type": "code",
   "execution_count": null,
   "outputs": [],
   "source": [
    "fpr_keras, tpr_keras, thresholds_keras = roc_curve(y_test, y_pred_roc)\n",
    "auc_keras = auc(fpr_keras, tpr_keras)\n",
    "\n",
    "plt.figure(1)\n",
    "plt.plot([0, 1], [0, 1], 'k--')\n",
    "plt.plot(fpr_keras, tpr_keras, label='Keras (area = {:.3f})'.format(auc_keras))\n",
    "plt.xlabel('False positive rate')\n",
    "plt.ylabel('True positive rate')\n",
    "plt.title('ROC curve')\n",
    "plt.legend(loc='best')\n",
    "plt.show()\n",
    "# Zoom in view of the upper left corner.\n",
    "plt.figure(2)\n",
    "plt.xlim(0, 0.2)\n",
    "plt.ylim(0.0, 1)\n",
    "plt.plot([0, 1], [0, 1], 'k--')\n",
    "plt.plot(fpr_keras, tpr_keras, label='Keras (area = {:.3f})'.format(auc_keras))\n",
    "plt.xlabel('False positive rate')\n",
    "plt.ylabel('True positive rate')\n",
    "plt.title('ROC curve (zoomed in at top left)')\n",
    "plt.legend(loc='best')\n",
    "plt.show()"
   ],
   "metadata": {
    "collapsed": false,
    "pycharm": {
     "name": "#%%\n",
     "is_executing": false
    }
   }
  }
 ],
 "metadata": {
  "kernelspec": {
   "name": "pycharm-8b2223ef",
   "language": "python",
   "display_name": "PyCharm (study-online-misogyny)"
  },
  "language_info": {
   "codemirror_mode": {
    "name": "ipython",
    "version": 2
   },
   "file_extension": ".py",
   "mimetype": "text/x-python",
   "name": "python",
   "nbconvert_exporter": "python",
   "pygments_lexer": "ipython2",
   "version": "2.7.6"
  },
  "pycharm": {
   "stem_cell": {
    "cell_type": "raw",
    "source": [],
    "metadata": {
     "collapsed": false
    }
   }
  }
 },
 "nbformat": 4,
 "nbformat_minor": 0
}
