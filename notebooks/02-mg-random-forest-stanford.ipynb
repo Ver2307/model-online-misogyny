{
 "cells": [
  {
   "cell_type": "markdown",
   "metadata": {},
   "source": [
    "# Train a random-forest classifier\n",
    "\n",
    "Let's see how a random forest can learn to distinguish misogynistic\n",
    "speech from generic speech."
   ]
  },
  {
   "cell_type": "code",
   "execution_count": 1,
   "metadata": {
    "pycharm": {
     "is_executing": false
    }
   },
   "outputs": [],
   "source": [
    "import numpy as np\n",
    "import pandas as pd\n",
    "import spacy\n",
    "import matplotlib.pyplot as plt\n",
    "plt.style.use('ggplot')\n",
    "%matplotlib inline"
   ]
  },
  {
   "cell_type": "code",
   "execution_count": 2,
   "metadata": {
    "pycharm": {
     "is_executing": false
    }
   },
   "outputs": [],
   "source": [
    "from sklearn.decomposition import PCA\n",
    "from sklearn.ensemble import RandomForestClassifier\n",
    "from sklearn.model_selection import train_test_split\n",
    "from sklearn.metrics import auc, f1_score, confusion_matrix, roc_curve\n",
    "from sklearn.model_selection import GridSearchCV"
   ]
  },
  {
   "cell_type": "markdown",
   "metadata": {},
   "source": [
    "*Know more about Sci-kit learn: https://scikit-learn.org/stable/*"
   ]
  },
  {
   "cell_type": "markdown",
   "metadata": {},
   "source": [
    "### Load the data"
   ]
  },
  {
   "cell_type": "code",
   "execution_count": 3,
   "metadata": {
    "pycharm": {
     "is_executing": false
    }
   },
   "outputs": [],
   "source": [
    "df = pd.read_csv(\"../data/gold_data_en.csv\")"
   ]
  },
  {
   "cell_type": "code",
   "execution_count": 4,
   "metadata": {
    "pycharm": {
     "is_executing": false
    }
   },
   "outputs": [
    {
     "data": {
      "text/plain": [
       "(16265, 2)"
      ]
     },
     "execution_count": 4,
     "metadata": {},
     "output_type": "execute_result"
    }
   ],
   "source": [
    "df.shape"
   ]
  },
  {
   "cell_type": "code",
   "execution_count": 5,
   "metadata": {
    "pycharm": {
     "is_executing": false
    }
   },
   "outputs": [
    {
     "name": "stdout",
     "output_type": "stream",
     "text": [
      "<class 'pandas.core.frame.DataFrame'>\n",
      "RangeIndex: 16265 entries, 0 to 16264\n",
      "Data columns (total 2 columns):\n",
      "text     16265 non-null object\n",
      "label    16265 non-null int64\n",
      "dtypes: int64(1), object(1)\n",
      "memory usage: 254.2+ KB\n"
     ]
    }
   ],
   "source": [
    "df.info()"
   ]
  },
  {
   "cell_type": "markdown",
   "metadata": {},
   "source": [
    "### Train-test split\n",
    "\n",
    "It's important to split the data consistently\n",
    "so that we keep a 50/50 ratio both in training and test."
   ]
  },
  {
   "cell_type": "code",
   "execution_count": 6,
   "metadata": {
    "pycharm": {
     "is_executing": false
    }
   },
   "outputs": [],
   "source": [
    "df_train, df_test = train_test_split(\n",
    "            df,\n",
    "            train_size=.8,\n",
    "            shuffle=True,\n",
    "            stratify=df['label'].to_numpy(),\n",
    "            random_state=42,\n",
    "        )"
   ]
  },
  {
   "cell_type": "code",
   "execution_count": 7,
   "metadata": {
    "pycharm": {
     "is_executing": false
    }
   },
   "outputs": [
    {
     "data": {
      "text/plain": [
       "((13012, 2), (3253, 2))"
      ]
     },
     "execution_count": 7,
     "metadata": {},
     "output_type": "execute_result"
    }
   ],
   "source": [
    "df_train.shape, df_test.shape"
   ]
  },
  {
   "cell_type": "code",
   "execution_count": 8,
   "metadata": {},
   "outputs": [
    {
     "data": {
      "text/html": [
       "<div>\n",
       "<style scoped>\n",
       "    .dataframe tbody tr th:only-of-type {\n",
       "        vertical-align: middle;\n",
       "    }\n",
       "\n",
       "    .dataframe tbody tr th {\n",
       "        vertical-align: top;\n",
       "    }\n",
       "\n",
       "    .dataframe thead th {\n",
       "        text-align: right;\n",
       "    }\n",
       "</style>\n",
       "<table border=\"1\" class=\"dataframe\">\n",
       "  <thead>\n",
       "    <tr style=\"text-align: right;\">\n",
       "      <th></th>\n",
       "      <th>text</th>\n",
       "      <th>label</th>\n",
       "    </tr>\n",
       "  </thead>\n",
       "  <tbody>\n",
       "    <tr>\n",
       "      <th>12166</th>\n",
       "      <td>http://t.co/ZxbZV39jru: Our fluffy cat loves b...</td>\n",
       "      <td>0</td>\n",
       "    </tr>\n",
       "    <tr>\n",
       "      <th>2677</th>\n",
       "      <td>'Oh so when a man sleeps with lots of women he...</td>\n",
       "      <td>1</td>\n",
       "    </tr>\n",
       "    <tr>\n",
       "      <th>6229</th>\n",
       "      <td>@GavGordonToGo @lllllinda @anniemac63 @NicolaS...</td>\n",
       "      <td>0</td>\n",
       "    </tr>\n",
       "    <tr>\n",
       "      <th>6974</th>\n",
       "      <td>I’m a not a whore.</td>\n",
       "      <td>0</td>\n",
       "    </tr>\n",
       "    <tr>\n",
       "      <th>10528</th>\n",
       "      <td>@cisrabbit \"Loose\" was a Freudian reference...</td>\n",
       "      <td>1</td>\n",
       "    </tr>\n",
       "  </tbody>\n",
       "</table>\n",
       "</div>"
      ],
      "text/plain": [
       "                                                    text  label\n",
       "12166  http://t.co/ZxbZV39jru: Our fluffy cat loves b...      0\n",
       "2677   'Oh so when a man sleeps with lots of women he...      1\n",
       "6229   @GavGordonToGo @lllllinda @anniemac63 @NicolaS...      0\n",
       "6974                                  I’m a not a whore.      0\n",
       "10528     @cisrabbit \"Loose\" was a Freudian reference...      1"
      ]
     },
     "execution_count": 8,
     "metadata": {},
     "output_type": "execute_result"
    }
   ],
   "source": [
    "df_train.head()"
   ]
  },
  {
   "cell_type": "markdown",
   "metadata": {},
   "source": [
    "Let's check the class balance:"
   ]
  },
  {
   "cell_type": "code",
   "execution_count": 9,
   "metadata": {
    "pycharm": {
     "is_executing": false
    }
   },
   "outputs": [
    {
     "data": {
      "text/plain": [
       "(0.43175530279741775, 0.43160159852443897)"
      ]
     },
     "execution_count": 9,
     "metadata": {},
     "output_type": "execute_result"
    }
   ],
   "source": [
    "df_train['label'].mean(), df_test['label'].mean()"
   ]
  },
  {
   "cell_type": "markdown",
   "metadata": {},
   "source": [
    "### Balance classes\n",
    "\n",
    "To avoid bias (i.e. when an algorithm prefers one class to the other) we need to have an equal number of elements for each class."
   ]
  },
  {
   "cell_type": "code",
   "execution_count": 10,
   "metadata": {
    "pycharm": {
     "is_executing": false
    }
   },
   "outputs": [
    {
     "data": {
      "text/html": [
       "<div>\n",
       "<style scoped>\n",
       "    .dataframe tbody tr th:only-of-type {\n",
       "        vertical-align: middle;\n",
       "    }\n",
       "\n",
       "    .dataframe tbody tr th {\n",
       "        vertical-align: top;\n",
       "    }\n",
       "\n",
       "    .dataframe thead th {\n",
       "        text-align: right;\n",
       "    }\n",
       "</style>\n",
       "<table border=\"1\" class=\"dataframe\">\n",
       "  <thead>\n",
       "    <tr style=\"text-align: right;\">\n",
       "      <th></th>\n",
       "      <th>text</th>\n",
       "    </tr>\n",
       "    <tr>\n",
       "      <th>label</th>\n",
       "      <th></th>\n",
       "    </tr>\n",
       "  </thead>\n",
       "  <tbody>\n",
       "    <tr>\n",
       "      <th>0</th>\n",
       "      <td>7394</td>\n",
       "    </tr>\n",
       "    <tr>\n",
       "      <th>1</th>\n",
       "      <td>5618</td>\n",
       "    </tr>\n",
       "  </tbody>\n",
       "</table>\n",
       "</div>"
      ],
      "text/plain": [
       "       text\n",
       "label      \n",
       "0      7394\n",
       "1      5618"
      ]
     },
     "execution_count": 10,
     "metadata": {},
     "output_type": "execute_result"
    }
   ],
   "source": [
    "df_train.groupby('label').count()"
   ]
  },
  {
   "cell_type": "markdown",
   "metadata": {},
   "source": [
    "One can see here that we have a different number of elements for the two\n",
    "classes.\n",
    "Let's change that.\n",
    "First let's count the elements of the minority class."
   ]
  },
  {
   "cell_type": "code",
   "execution_count": 11,
   "metadata": {
    "pycharm": {
     "is_executing": false
    }
   },
   "outputs": [
    {
     "data": {
      "text/plain": [
       "5618"
      ]
     },
     "execution_count": 11,
     "metadata": {},
     "output_type": "execute_result"
    }
   ],
   "source": [
    "n_elements = min(df_train.groupby('label').count().to_numpy())[0]\n",
    "n_elements"
   ]
  },
  {
   "cell_type": "markdown",
   "metadata": {},
   "source": [
    "Then sample an equal number from the two classes."
   ]
  },
  {
   "cell_type": "code",
   "execution_count": 12,
   "metadata": {
    "pycharm": {
     "is_executing": false
    }
   },
   "outputs": [
    {
     "data": {
      "text/html": [
       "<div>\n",
       "<style scoped>\n",
       "    .dataframe tbody tr th:only-of-type {\n",
       "        vertical-align: middle;\n",
       "    }\n",
       "\n",
       "    .dataframe tbody tr th {\n",
       "        vertical-align: top;\n",
       "    }\n",
       "\n",
       "    .dataframe thead th {\n",
       "        text-align: right;\n",
       "    }\n",
       "</style>\n",
       "<table border=\"1\" class=\"dataframe\">\n",
       "  <thead>\n",
       "    <tr style=\"text-align: right;\">\n",
       "      <th></th>\n",
       "      <th>text</th>\n",
       "      <th>label</th>\n",
       "    </tr>\n",
       "  </thead>\n",
       "  <tbody>\n",
       "    <tr>\n",
       "      <th>11114</th>\n",
       "      <td>@SfordUponAvon equal opportunity #sexsells #MKR</td>\n",
       "      <td>1</td>\n",
       "    </tr>\n",
       "    <tr>\n",
       "      <th>10666</th>\n",
       "      <td>RT @Spainballin44 @B_Diddy010 I'm not sexist b...</td>\n",
       "      <td>1</td>\n",
       "    </tr>\n",
       "    <tr>\n",
       "      <th>2277</th>\n",
       "      <td>@HillaryClinton Why don’t you crawl back in yo...</td>\n",
       "      <td>1</td>\n",
       "    </tr>\n",
       "    <tr>\n",
       "      <th>8714</th>\n",
       "      <td>STFU KAT YA BITCH! #MKR</td>\n",
       "      <td>1</td>\n",
       "    </tr>\n",
       "    <tr>\n",
       "      <th>9992</th>\n",
       "      <td>RT @BigSmooth2 Not sexist, but females shouldn...</td>\n",
       "      <td>1</td>\n",
       "    </tr>\n",
       "  </tbody>\n",
       "</table>\n",
       "</div>"
      ],
      "text/plain": [
       "                                                    text  label\n",
       "11114    @SfordUponAvon equal opportunity #sexsells #MKR      1\n",
       "10666  RT @Spainballin44 @B_Diddy010 I'm not sexist b...      1\n",
       "2277   @HillaryClinton Why don’t you crawl back in yo...      1\n",
       "8714                             STFU KAT YA BITCH! #MKR      1\n",
       "9992   RT @BigSmooth2 Not sexist, but females shouldn...      1"
      ]
     },
     "execution_count": 12,
     "metadata": {},
     "output_type": "execute_result"
    }
   ],
   "source": [
    "df_positive = df_train[df_train['label']==1].sample(n_elements, random_state=42)\n",
    "df_positive.head()"
   ]
  },
  {
   "cell_type": "code",
   "execution_count": 13,
   "metadata": {
    "pycharm": {
     "is_executing": false
    }
   },
   "outputs": [
    {
     "data": {
      "text/html": [
       "<div>\n",
       "<style scoped>\n",
       "    .dataframe tbody tr th:only-of-type {\n",
       "        vertical-align: middle;\n",
       "    }\n",
       "\n",
       "    .dataframe tbody tr th {\n",
       "        vertical-align: top;\n",
       "    }\n",
       "\n",
       "    .dataframe thead th {\n",
       "        text-align: right;\n",
       "    }\n",
       "</style>\n",
       "<table border=\"1\" class=\"dataframe\">\n",
       "  <thead>\n",
       "    <tr style=\"text-align: right;\">\n",
       "      <th></th>\n",
       "      <th>text</th>\n",
       "      <th>label</th>\n",
       "    </tr>\n",
       "  </thead>\n",
       "  <tbody>\n",
       "    <tr>\n",
       "      <th>509</th>\n",
       "      <td>Me too is about rape and sexual assault, way t...</td>\n",
       "      <td>0</td>\n",
       "    </tr>\n",
       "    <tr>\n",
       "      <th>4805</th>\n",
       "      <td>@IssaRae Lmao this bitch got no clue what shes...</td>\n",
       "      <td>0</td>\n",
       "    </tr>\n",
       "    <tr>\n",
       "      <th>13199</th>\n",
       "      <td>@Sir5000 @StormsOnSaturn no. something went aw...</td>\n",
       "      <td>0</td>\n",
       "    </tr>\n",
       "    <tr>\n",
       "      <th>16214</th>\n",
       "      <td>You don't suck Sheri and Emilie #DontLetTheBeh...</td>\n",
       "      <td>0</td>\n",
       "    </tr>\n",
       "    <tr>\n",
       "      <th>14436</th>\n",
       "      <td>Kat, karma is going to kick you in the arse. #...</td>\n",
       "      <td>0</td>\n",
       "    </tr>\n",
       "  </tbody>\n",
       "</table>\n",
       "</div>"
      ],
      "text/plain": [
       "                                                    text  label\n",
       "509    Me too is about rape and sexual assault, way t...      0\n",
       "4805   @IssaRae Lmao this bitch got no clue what shes...      0\n",
       "13199  @Sir5000 @StormsOnSaturn no. something went aw...      0\n",
       "16214  You don't suck Sheri and Emilie #DontLetTheBeh...      0\n",
       "14436  Kat, karma is going to kick you in the arse. #...      0"
      ]
     },
     "execution_count": 13,
     "metadata": {},
     "output_type": "execute_result"
    }
   ],
   "source": [
    "df_negative = df_train[df_train['label']==0].sample(n_elements, random_state=42)\n",
    "df_negative.head()"
   ]
  },
  {
   "cell_type": "code",
   "execution_count": 14,
   "metadata": {
    "pycharm": {
     "is_executing": false
    }
   },
   "outputs": [
    {
     "data": {
      "text/html": [
       "<div>\n",
       "<style scoped>\n",
       "    .dataframe tbody tr th:only-of-type {\n",
       "        vertical-align: middle;\n",
       "    }\n",
       "\n",
       "    .dataframe tbody tr th {\n",
       "        vertical-align: top;\n",
       "    }\n",
       "\n",
       "    .dataframe thead th {\n",
       "        text-align: right;\n",
       "    }\n",
       "</style>\n",
       "<table border=\"1\" class=\"dataframe\">\n",
       "  <thead>\n",
       "    <tr style=\"text-align: right;\">\n",
       "      <th></th>\n",
       "      <th>text</th>\n",
       "      <th>label</th>\n",
       "    </tr>\n",
       "  </thead>\n",
       "  <tbody>\n",
       "    <tr>\n",
       "      <th>0</th>\n",
       "      <td>Me too is about rape and sexual assault, way t...</td>\n",
       "      <td>0</td>\n",
       "    </tr>\n",
       "    <tr>\n",
       "      <th>1</th>\n",
       "      <td>@IssaRae Lmao this bitch got no clue what shes...</td>\n",
       "      <td>0</td>\n",
       "    </tr>\n",
       "    <tr>\n",
       "      <th>2</th>\n",
       "      <td>@Sir5000 @StormsOnSaturn no. something went aw...</td>\n",
       "      <td>0</td>\n",
       "    </tr>\n",
       "    <tr>\n",
       "      <th>3</th>\n",
       "      <td>You don't suck Sheri and Emilie #DontLetTheBeh...</td>\n",
       "      <td>0</td>\n",
       "    </tr>\n",
       "    <tr>\n",
       "      <th>4</th>\n",
       "      <td>Kat, karma is going to kick you in the arse. #...</td>\n",
       "      <td>0</td>\n",
       "    </tr>\n",
       "    <tr>\n",
       "      <th>5</th>\n",
       "      <td>Any Bitch can start a war, it takes courage to...</td>\n",
       "      <td>0</td>\n",
       "    </tr>\n",
       "    <tr>\n",
       "      <th>6</th>\n",
       "      <td>@JessicaValenti Uh huh.\\n\\nLavinia Woodward ex...</td>\n",
       "      <td>0</td>\n",
       "    </tr>\n",
       "    <tr>\n",
       "      <th>7</th>\n",
       "      <td>who the fuck is calling my girl a whore and a ...</td>\n",
       "      <td>0</td>\n",
       "    </tr>\n",
       "    <tr>\n",
       "      <th>8</th>\n",
       "      <td>Let’s not let the hard won victories of the la...</td>\n",
       "      <td>0</td>\n",
       "    </tr>\n",
       "    <tr>\n",
       "      <th>9</th>\n",
       "      <td>Who is good at maths? What do they need to be ...</td>\n",
       "      <td>0</td>\n",
       "    </tr>\n",
       "    <tr>\n",
       "      <th>10</th>\n",
       "      <td>I'm gonna put that SC butterfly filter around ...</td>\n",
       "      <td>0</td>\n",
       "    </tr>\n",
       "    <tr>\n",
       "      <th>11</th>\n",
       "      <td>@roisin_morgan @RaniaKhalek And why do you ign...</td>\n",
       "      <td>0</td>\n",
       "    </tr>\n",
       "    <tr>\n",
       "      <th>12</th>\n",
       "      <td>Above all else, Trump is a stupid son of a bit...</td>\n",
       "      <td>0</td>\n",
       "    </tr>\n",
       "    <tr>\n",
       "      <th>13</th>\n",
       "      <td>Best gift ever 😘 https://t.co/xdZL6RVWLU</td>\n",
       "      <td>0</td>\n",
       "    </tr>\n",
       "    <tr>\n",
       "      <th>14</th>\n",
       "      <td>Not all men are trash just the ones who bash b...</td>\n",
       "      <td>0</td>\n",
       "    </tr>\n",
       "    <tr>\n",
       "      <th>15</th>\n",
       "      <td>@IsaNamee @Maureen6Johnson @The_Flufter @dj_fo...</td>\n",
       "      <td>0</td>\n",
       "    </tr>\n",
       "    <tr>\n",
       "      <th>16</th>\n",
       "      <td>If you say not all men to me you're getting bl...</td>\n",
       "      <td>0</td>\n",
       "    </tr>\n",
       "    <tr>\n",
       "      <th>17</th>\n",
       "      <td>@damocrat That along with being a dirty traito...</td>\n",
       "      <td>0</td>\n",
       "    </tr>\n",
       "    <tr>\n",
       "      <th>18</th>\n",
       "      <td>@hnrysmth @jeremiahfelt uh. one of his faceboo...</td>\n",
       "      <td>0</td>\n",
       "    </tr>\n",
       "    <tr>\n",
       "      <th>19</th>\n",
       "      <td>@RonWyden Talking about hysterical women, you'...</td>\n",
       "      <td>0</td>\n",
       "    </tr>\n",
       "    <tr>\n",
       "      <th>20</th>\n",
       "      <td>http://t.co/Lv87HxpP9H\\n\\nthe most bullshit te...</td>\n",
       "      <td>0</td>\n",
       "    </tr>\n",
       "    <tr>\n",
       "      <th>21</th>\n",
       "      <td>@Jules_Clarke @jmcefalas has more emotional im...</td>\n",
       "      <td>0</td>\n",
       "    </tr>\n",
       "    <tr>\n",
       "      <th>22</th>\n",
       "      <td>@nevsprada @jezbel45 @MrBucksboy @carmic3 @Nic...</td>\n",
       "      <td>0</td>\n",
       "    </tr>\n",
       "    <tr>\n",
       "      <th>23</th>\n",
       "      <td>Pepperidge farm remembers.</td>\n",
       "      <td>0</td>\n",
       "    </tr>\n",
       "    <tr>\n",
       "      <th>24</th>\n",
       "      <td>@Mello_Mark And God said, \"Don't pay them a li...</td>\n",
       "      <td>0</td>\n",
       "    </tr>\n",
       "    <tr>\n",
       "      <th>25</th>\n",
       "      <td>@cheeseplus I will forward chef all the dickpi...</td>\n",
       "      <td>0</td>\n",
       "    </tr>\n",
       "    <tr>\n",
       "      <th>26</th>\n",
       "      <td>When you're out to dinner but you wanna make s...</td>\n",
       "      <td>0</td>\n",
       "    </tr>\n",
       "    <tr>\n",
       "      <th>27</th>\n",
       "      <td>@Not_Rosi It is... she's a dirty race traitor 😒</td>\n",
       "      <td>0</td>\n",
       "    </tr>\n",
       "    <tr>\n",
       "      <th>28</th>\n",
       "      <td>RT @cheuya: If turned off by a woman performin...</td>\n",
       "      <td>0</td>\n",
       "    </tr>\n",
       "    <tr>\n",
       "      <th>29</th>\n",
       "      <td>@athenahollow it would. i'm hoping for more pe...</td>\n",
       "      <td>0</td>\n",
       "    </tr>\n",
       "    <tr>\n",
       "      <th>...</th>\n",
       "      <td>...</td>\n",
       "      <td>...</td>\n",
       "    </tr>\n",
       "    <tr>\n",
       "      <th>11206</th>\n",
       "      <td>@mykitchenrules I think the pink has gone to t...</td>\n",
       "      <td>1</td>\n",
       "    </tr>\n",
       "    <tr>\n",
       "      <th>11207</th>\n",
       "      <td>RT @LostSailorNY: @AlMartin2000 @MT8_9 @robscr...</td>\n",
       "      <td>1</td>\n",
       "    </tr>\n",
       "    <tr>\n",
       "      <th>11208</th>\n",
       "      <td>What a stupid cunt https://t.co/Wv1rVaId2D</td>\n",
       "      <td>1</td>\n",
       "    </tr>\n",
       "    <tr>\n",
       "      <th>11209</th>\n",
       "      <td>Kat is actually a bitch, but I had to laugh at...</td>\n",
       "      <td>1</td>\n",
       "    </tr>\n",
       "    <tr>\n",
       "      <th>11210</th>\n",
       "      <td>@thehill @Framechick2 Gaetz is an underhanded ...</td>\n",
       "      <td>1</td>\n",
       "    </tr>\n",
       "    <tr>\n",
       "      <th>11211</th>\n",
       "      <td>Girls claiming they're hot generally have an o...</td>\n",
       "      <td>1</td>\n",
       "    </tr>\n",
       "    <tr>\n",
       "      <th>11212</th>\n",
       "      <td>@idesequera I dozed off and missed #mkr let me...</td>\n",
       "      <td>1</td>\n",
       "    </tr>\n",
       "    <tr>\n",
       "      <th>11213</th>\n",
       "      <td>@jbouie This is a corollary of women being “hy...</td>\n",
       "      <td>1</td>\n",
       "    </tr>\n",
       "    <tr>\n",
       "      <th>11214</th>\n",
       "      <td>@KachoArinoDesu @Bananaramble Make a new damn ...</td>\n",
       "      <td>1</td>\n",
       "    </tr>\n",
       "    <tr>\n",
       "      <th>11215</th>\n",
       "      <td>@DeeSmokingGas I care , fuck that stupid bitch...</td>\n",
       "      <td>1</td>\n",
       "    </tr>\n",
       "    <tr>\n",
       "      <th>11216</th>\n",
       "      <td>Being a #Feminist is different from being a #F...</td>\n",
       "      <td>1</td>\n",
       "    </tr>\n",
       "    <tr>\n",
       "      <th>11217</th>\n",
       "      <td>@__JohnMarston__ @ZvNovaZv @TheFailgameTv If y...</td>\n",
       "      <td>1</td>\n",
       "    </tr>\n",
       "    <tr>\n",
       "      <th>11218</th>\n",
       "      <td>@joeovies @lebrownlow Someone tell the hysteri...</td>\n",
       "      <td>1</td>\n",
       "    </tr>\n",
       "    <tr>\n",
       "      <th>11219</th>\n",
       "      <td>Do Kat &amp;amp; Andre have any shame or integrity...</td>\n",
       "      <td>1</td>\n",
       "    </tr>\n",
       "    <tr>\n",
       "      <th>11220</th>\n",
       "      <td>@MacKirstys @glamadelaide but I thought femina...</td>\n",
       "      <td>1</td>\n",
       "    </tr>\n",
       "    <tr>\n",
       "      <th>11221</th>\n",
       "      <td>If I was a woman I would probably be a hoe lol...</td>\n",
       "      <td>1</td>\n",
       "    </tr>\n",
       "    <tr>\n",
       "      <th>11222</th>\n",
       "      <td>Why do women have periods? Because they deserv...</td>\n",
       "      <td>1</td>\n",
       "    </tr>\n",
       "    <tr>\n",
       "      <th>11223</th>\n",
       "      <td>RT @Kristi_Thinks: \"Rape by Fraud\" Feminazi St...</td>\n",
       "      <td>1</td>\n",
       "    </tr>\n",
       "    <tr>\n",
       "      <th>11224</th>\n",
       "      <td>RT @uberfeminist: Did anybody get glass in the...</td>\n",
       "      <td>1</td>\n",
       "    </tr>\n",
       "    <tr>\n",
       "      <th>11225</th>\n",
       "      <td>1 2 hide your boo, 3 4 lars coming thru the do...</td>\n",
       "      <td>1</td>\n",
       "    </tr>\n",
       "    <tr>\n",
       "      <th>11226</th>\n",
       "      <td>RT @clifty04 Now I'm not sexist, but it's evid...</td>\n",
       "      <td>1</td>\n",
       "    </tr>\n",
       "    <tr>\n",
       "      <th>11227</th>\n",
       "      <td>I keep seeing the dyke with weave tweet and ca...</td>\n",
       "      <td>1</td>\n",
       "    </tr>\n",
       "    <tr>\n",
       "      <th>11228</th>\n",
       "      <td>Watch this video about the big corps that are ...</td>\n",
       "      <td>1</td>\n",
       "    </tr>\n",
       "    <tr>\n",
       "      <th>11229</th>\n",
       "      <td>RT @andythewookie1: @YesYoureSexist your right...</td>\n",
       "      <td>1</td>\n",
       "    </tr>\n",
       "    <tr>\n",
       "      <th>11230</th>\n",
       "      <td>Kat should be eliminated for bad sportsmanship...</td>\n",
       "      <td>1</td>\n",
       "    </tr>\n",
       "    <tr>\n",
       "      <th>11231</th>\n",
       "      <td>@Nath569 Get up and walk the dog you little cu...</td>\n",
       "      <td>1</td>\n",
       "    </tr>\n",
       "    <tr>\n",
       "      <th>11232</th>\n",
       "      <td>Can't even get a p-value on your sample size. ...</td>\n",
       "      <td>1</td>\n",
       "    </tr>\n",
       "    <tr>\n",
       "      <th>11233</th>\n",
       "      <td>Im so glad I make more money because I'm an a ...</td>\n",
       "      <td>1</td>\n",
       "    </tr>\n",
       "    <tr>\n",
       "      <th>11234</th>\n",
       "      <td>If I had one bitch shit would b all coo I woul...</td>\n",
       "      <td>1</td>\n",
       "    </tr>\n",
       "    <tr>\n",
       "      <th>11235</th>\n",
       "      <td>RT @BJDGAF I'm not sexist, but girls shouldn't...</td>\n",
       "      <td>1</td>\n",
       "    </tr>\n",
       "  </tbody>\n",
       "</table>\n",
       "<p>11236 rows × 2 columns</p>\n",
       "</div>"
      ],
      "text/plain": [
       "                                                    text  label\n",
       "0      Me too is about rape and sexual assault, way t...      0\n",
       "1      @IssaRae Lmao this bitch got no clue what shes...      0\n",
       "2      @Sir5000 @StormsOnSaturn no. something went aw...      0\n",
       "3      You don't suck Sheri and Emilie #DontLetTheBeh...      0\n",
       "4      Kat, karma is going to kick you in the arse. #...      0\n",
       "5      Any Bitch can start a war, it takes courage to...      0\n",
       "6      @JessicaValenti Uh huh.\\n\\nLavinia Woodward ex...      0\n",
       "7      who the fuck is calling my girl a whore and a ...      0\n",
       "8      Let’s not let the hard won victories of the la...      0\n",
       "9      Who is good at maths? What do they need to be ...      0\n",
       "10     I'm gonna put that SC butterfly filter around ...      0\n",
       "11     @roisin_morgan @RaniaKhalek And why do you ign...      0\n",
       "12     Above all else, Trump is a stupid son of a bit...      0\n",
       "13              Best gift ever 😘 https://t.co/xdZL6RVWLU      0\n",
       "14     Not all men are trash just the ones who bash b...      0\n",
       "15     @IsaNamee @Maureen6Johnson @The_Flufter @dj_fo...      0\n",
       "16     If you say not all men to me you're getting bl...      0\n",
       "17     @damocrat That along with being a dirty traito...      0\n",
       "18     @hnrysmth @jeremiahfelt uh. one of his faceboo...      0\n",
       "19     @RonWyden Talking about hysterical women, you'...      0\n",
       "20     http://t.co/Lv87HxpP9H\\n\\nthe most bullshit te...      0\n",
       "21     @Jules_Clarke @jmcefalas has more emotional im...      0\n",
       "22     @nevsprada @jezbel45 @MrBucksboy @carmic3 @Nic...      0\n",
       "23                            Pepperidge farm remembers.      0\n",
       "24     @Mello_Mark And God said, \"Don't pay them a li...      0\n",
       "25     @cheeseplus I will forward chef all the dickpi...      0\n",
       "26     When you're out to dinner but you wanna make s...      0\n",
       "27       @Not_Rosi It is... she's a dirty race traitor 😒      0\n",
       "28     RT @cheuya: If turned off by a woman performin...      0\n",
       "29     @athenahollow it would. i'm hoping for more pe...      0\n",
       "...                                                  ...    ...\n",
       "11206  @mykitchenrules I think the pink has gone to t...      1\n",
       "11207  RT @LostSailorNY: @AlMartin2000 @MT8_9 @robscr...      1\n",
       "11208         What a stupid cunt https://t.co/Wv1rVaId2D      1\n",
       "11209  Kat is actually a bitch, but I had to laugh at...      1\n",
       "11210  @thehill @Framechick2 Gaetz is an underhanded ...      1\n",
       "11211  Girls claiming they're hot generally have an o...      1\n",
       "11212  @idesequera I dozed off and missed #mkr let me...      1\n",
       "11213  @jbouie This is a corollary of women being “hy...      1\n",
       "11214  @KachoArinoDesu @Bananaramble Make a new damn ...      1\n",
       "11215  @DeeSmokingGas I care , fuck that stupid bitch...      1\n",
       "11216  Being a #Feminist is different from being a #F...      1\n",
       "11217  @__JohnMarston__ @ZvNovaZv @TheFailgameTv If y...      1\n",
       "11218  @joeovies @lebrownlow Someone tell the hysteri...      1\n",
       "11219  Do Kat &amp; Andre have any shame or integrity...      1\n",
       "11220  @MacKirstys @glamadelaide but I thought femina...      1\n",
       "11221  If I was a woman I would probably be a hoe lol...      1\n",
       "11222  Why do women have periods? Because they deserv...      1\n",
       "11223  RT @Kristi_Thinks: \"Rape by Fraud\" Feminazi St...      1\n",
       "11224  RT @uberfeminist: Did anybody get glass in the...      1\n",
       "11225  1 2 hide your boo, 3 4 lars coming thru the do...      1\n",
       "11226  RT @clifty04 Now I'm not sexist, but it's evid...      1\n",
       "11227  I keep seeing the dyke with weave tweet and ca...      1\n",
       "11228  Watch this video about the big corps that are ...      1\n",
       "11229  RT @andythewookie1: @YesYoureSexist your right...      1\n",
       "11230  Kat should be eliminated for bad sportsmanship...      1\n",
       "11231  @Nath569 Get up and walk the dog you little cu...      1\n",
       "11232  Can't even get a p-value on your sample size. ...      1\n",
       "11233  Im so glad I make more money because I'm an a ...      1\n",
       "11234  If I had one bitch shit would b all coo I woul...      1\n",
       "11235  RT @BJDGAF I'm not sexist, but girls shouldn't...      1\n",
       "\n",
       "[11236 rows x 2 columns]"
      ]
     },
     "execution_count": 14,
     "metadata": {},
     "output_type": "execute_result"
    }
   ],
   "source": [
    "df_balanced = pd.concat((df_negative, df_positive)).reset_index(drop=True)\n",
    "df_balanced"
   ]
  },
  {
   "cell_type": "markdown",
   "metadata": {},
   "source": [
    "We store the balanced data in the original dataframe."
   ]
  },
  {
   "cell_type": "code",
   "execution_count": 15,
   "metadata": {
    "pycharm": {
     "is_executing": false
    }
   },
   "outputs": [],
   "source": [
    "df = df_balanced"
   ]
  },
  {
   "cell_type": "code",
   "execution_count": 16,
   "metadata": {},
   "outputs": [
    {
     "data": {
      "text/plain": [
       "0.5"
      ]
     },
     "execution_count": 16,
     "metadata": {},
     "output_type": "execute_result"
    }
   ],
   "source": [
    "df['label'].mean()"
   ]
  },
  {
   "cell_type": "markdown",
   "metadata": {},
   "source": [
    "### Load language model"
   ]
  },
  {
   "cell_type": "markdown",
   "metadata": {},
   "source": [
    "Now let's create the Spacy NLP documents from our text data.\n",
    "\n",
    "First we need to load the language model."
   ]
  },
  {
   "cell_type": "code",
   "execution_count": 17,
   "metadata": {
    "pycharm": {
     "is_executing": false
    }
   },
   "outputs": [],
   "source": [
    "nlp = spacy.load(\"en_core_web_md\")"
   ]
  },
  {
   "cell_type": "code",
   "execution_count": 18,
   "metadata": {
    "pycharm": {
     "is_executing": false
    }
   },
   "outputs": [],
   "source": [
    "# The .pipe() method batch processes all the text (will take a little while)\n",
    "docs = list(nlp.pipe(df['text']))"
   ]
  },
  {
   "cell_type": "markdown",
   "metadata": {},
   "source": [
    "### Vectors visualization\n",
    "\n",
    "Here we take the document vectors from Spacy."
   ]
  },
  {
   "cell_type": "code",
   "execution_count": 19,
   "metadata": {
    "pycharm": {
     "is_executing": false
    }
   },
   "outputs": [],
   "source": [
    "vector_matrix = np.array(list(map(lambda x: x.vector, docs)))"
   ]
  },
  {
   "cell_type": "code",
   "execution_count": 20,
   "metadata": {
    "pycharm": {
     "is_executing": false
    }
   },
   "outputs": [
    {
     "data": {
      "text/plain": [
       "(11236, 300)"
      ]
     },
     "execution_count": 20,
     "metadata": {},
     "output_type": "execute_result"
    }
   ],
   "source": [
    "vector_matrix.shape"
   ]
  },
  {
   "cell_type": "markdown",
   "metadata": {},
   "source": [
    "We use PCA to project the vectors to their principal components."
   ]
  },
  {
   "cell_type": "code",
   "execution_count": 21,
   "metadata": {
    "pycharm": {
     "is_executing": false
    }
   },
   "outputs": [],
   "source": [
    "pca = PCA(2)"
   ]
  },
  {
   "cell_type": "code",
   "execution_count": 22,
   "metadata": {
    "pycharm": {
     "is_executing": false
    }
   },
   "outputs": [],
   "source": [
    "x_pca = pca.fit_transform(vector_matrix)"
   ]
  },
  {
   "cell_type": "code",
   "execution_count": 23,
   "metadata": {
    "pycharm": {
     "is_executing": false
    }
   },
   "outputs": [
    {
     "data": {
      "text/plain": [
       "(11236, 2)"
      ]
     },
     "execution_count": 23,
     "metadata": {},
     "output_type": "execute_result"
    }
   ],
   "source": [
    "x_pca.shape"
   ]
  },
  {
   "cell_type": "code",
   "execution_count": 24,
   "metadata": {
    "pycharm": {
     "is_executing": false
    }
   },
   "outputs": [
    {
     "data": {
      "image/png": "[encoded data removed]",
      "text/plain": [
       "<Figure size 432x288 with 2 Axes>"
      ]
     },
     "metadata": {
      "needs_background": "light"
     },
     "output_type": "display_data"
    }
   ],
   "source": [
    "plt.scatter(x_pca[:, 0], x_pca[:, 1], c=df['label'].tolist(), alpha=.05, cmap='rainbow');\n",
    "plt.colorbar();"
   ]
  },
  {
   "cell_type": "markdown",
   "metadata": {},
   "source": [
    "## Random forest classifier\n",
    "\n",
    "The random forest algorithm is a pretty versatile one and generally\n",
    "performs well.\n",
    "Let's use the default parameters with just one change:\n",
    "we'll use 100 trees."
   ]
  },
  {
   "cell_type": "code",
   "execution_count": 25,
   "metadata": {
    "pycharm": {
     "is_executing": false
    }
   },
   "outputs": [],
   "source": [
    "rf = RandomForestClassifier(n_estimators=100, n_jobs=-1)"
   ]
  },
  {
   "cell_type": "markdown",
   "metadata": {},
   "source": [
    "<!-- ### Train-test split\n",
    "\n",
    "It's important to split the data consistently\n",
    "so that we keep a 50/50 ratio both in training and test. -->"
   ]
  },
  {
   "cell_type": "code",
   "execution_count": 26,
   "metadata": {
    "pycharm": {
     "is_executing": false
    }
   },
   "outputs": [],
   "source": [
    "# x_train, x_test, y_train, y_test = train_test_split(\n",
    "#     vector_matrix,\n",
    "#     df['label'].to_numpy(),\n",
    "#     train_size=.8,\n",
    "#     shuffle=True,\n",
    "#     stratify=df['label'],\n",
    "#     random_state=42,\n",
    "# )"
   ]
  },
  {
   "cell_type": "code",
   "execution_count": 27,
   "metadata": {
    "pycharm": {
     "is_executing": false
    }
   },
   "outputs": [],
   "source": [
    "# x_train.shape"
   ]
  },
  {
   "cell_type": "markdown",
   "metadata": {},
   "source": [
    "Let's check the class balance:"
   ]
  },
  {
   "cell_type": "code",
   "execution_count": 28,
   "metadata": {
    "pycharm": {
     "is_executing": false
    }
   },
   "outputs": [],
   "source": [
    "# y_train.mean(), y_test.mean()"
   ]
  },
  {
   "cell_type": "markdown",
   "metadata": {},
   "source": [
    "And now we fit the model:"
   ]
  },
  {
   "cell_type": "code",
   "execution_count": 29,
   "metadata": {},
   "outputs": [],
   "source": [
    "x_train = vector_matrix\n",
    "y_train = df['label'].to_numpy()"
   ]
  },
  {
   "cell_type": "code",
   "execution_count": 30,
   "metadata": {
    "pycharm": {
     "is_executing": false
    },
    "scrolled": false
   },
   "outputs": [
    {
     "data": {
      "text/plain": [
       "RandomForestClassifier(bootstrap=True, class_weight=None, criterion='gini',\n",
       "                       max_depth=None, max_features='auto', max_leaf_nodes=None,\n",
       "                       min_impurity_decrease=0.0, min_impurity_split=None,\n",
       "                       min_samples_leaf=1, min_samples_split=2,\n",
       "                       min_weight_fraction_leaf=0.0, n_estimators=100,\n",
       "                       n_jobs=-1, oob_score=False, random_state=None, verbose=0,\n",
       "                       warm_start=False)"
      ]
     },
     "execution_count": 30,
     "metadata": {},
     "output_type": "execute_result"
    }
   ],
   "source": [
    "rf.fit(x_train, y_train)"
   ]
  },
  {
   "cell_type": "markdown",
   "metadata": {},
   "source": [
    "Let's try the fitted model on the test set:"
   ]
  },
  {
   "cell_type": "code",
   "execution_count": 31,
   "metadata": {},
   "outputs": [],
   "source": [
    "x_test = np.array(list(map(lambda x: x.vector, nlp.pipe(df_test['text']))))"
   ]
  },
  {
   "cell_type": "code",
   "execution_count": 32,
   "metadata": {
    "pycharm": {
     "is_executing": false
    }
   },
   "outputs": [],
   "source": [
    "y_pred = rf.predict(x_test)"
   ]
  },
  {
   "cell_type": "markdown",
   "metadata": {},
   "source": [
    "We can also extract probabilities.\n",
    "The [1,0] prediction can always be recomputed\n",
    "from the probabilities, knowing that the prediction is 1 when\n",
    "the probability > 0.5 and 0 otherwise."
   ]
  },
  {
   "cell_type": "code",
   "execution_count": 33,
   "metadata": {
    "pycharm": {
     "is_executing": false
    }
   },
   "outputs": [],
   "source": [
    "y_proba = rf.predict_proba(x_test)"
   ]
  },
  {
   "cell_type": "markdown",
   "metadata": {},
   "source": [
    "There are several metrics to evaluate the performance of the model.\n",
    "Common ones include the F1-score, the confusion matrix,\n",
    "the ROC curve, and the area under the ROC curve (AUC)."
   ]
  },
  {
   "cell_type": "code",
   "execution_count": 34,
   "metadata": {},
   "outputs": [],
   "source": [
    "y_test = df_test['label'].to_numpy()"
   ]
  },
  {
   "cell_type": "code",
   "execution_count": 35,
   "metadata": {
    "pycharm": {
     "is_executing": false
    }
   },
   "outputs": [
    {
     "data": {
      "text/plain": [
       "0.7045207956600361"
      ]
     },
     "execution_count": 35,
     "metadata": {},
     "output_type": "execute_result"
    }
   ],
   "source": [
    "f1_score(y_test, y_pred)"
   ]
  },
  {
   "cell_type": "markdown",
   "metadata": {},
   "source": [
    "Let's check what we get from the training data, just for fun:"
   ]
  },
  {
   "cell_type": "code",
   "execution_count": 36,
   "metadata": {
    "pycharm": {
     "is_executing": false
    }
   },
   "outputs": [
    {
     "data": {
      "text/plain": [
       "0.9988424895378863"
      ]
     },
     "execution_count": 36,
     "metadata": {},
     "output_type": "execute_result"
    }
   ],
   "source": [
    "f1_score(y_train, rf.predict(x_train))"
   ]
  },
  {
   "cell_type": "markdown",
   "metadata": {},
   "source": [
    "This is a very high value, which is expected since the training data has been used to train the model.\n",
    "\n",
    "Let's look at what the prediction arrays look like."
   ]
  },
  {
   "cell_type": "code",
   "execution_count": 37,
   "metadata": {
    "pycharm": {
     "is_executing": false
    }
   },
   "outputs": [
    {
     "data": {
      "text/plain": [
       "array([1, 1, 1, ..., 0, 0, 1])"
      ]
     },
     "execution_count": 37,
     "metadata": {},
     "output_type": "execute_result"
    }
   ],
   "source": [
    "y_pred"
   ]
  },
  {
   "cell_type": "code",
   "execution_count": 38,
   "metadata": {
    "pycharm": {
     "is_executing": false
    }
   },
   "outputs": [
    {
     "data": {
      "text/plain": [
       "array([[0.17 , 0.83 ],\n",
       "       [0.35 , 0.65 ],\n",
       "       [0.36 , 0.64 ],\n",
       "       ...,\n",
       "       [0.65 , 0.35 ],\n",
       "       [0.585, 0.415],\n",
       "       [0.36 , 0.64 ]])"
      ]
     },
     "execution_count": 38,
     "metadata": {},
     "output_type": "execute_result"
    }
   ],
   "source": [
    "y_proba"
   ]
  },
  {
   "cell_type": "markdown",
   "metadata": {},
   "source": [
    "`y_proba` contains two columns, the first is the probability for class 0, the second is the probability\n",
    "for class 1."
   ]
  },
  {
   "cell_type": "code",
   "execution_count": 39,
   "metadata": {
    "pycharm": {
     "is_executing": false
    }
   },
   "outputs": [],
   "source": [
    "def plot_roc_auc_f1(y_test, y_proba, title=None):\n",
    "    # This is a convenience function that takes care of boring stuff\n",
    "    f1 = f1_score(y_test, y_proba[:, 1]>.5)\n",
    "    fpr, tpr, _ = roc_curve(y_test, y_proba[:, 1])\n",
    "    auc_score = auc(fpr, tpr)\n",
    "    fig, ax = plt.subplots(figsize=(6,6))\n",
    "    if title is not None:\n",
    "        ax.set_title(title)\n",
    "    ax.plot([0, 1], [0, 1], '--', label=\"Random\")\n",
    "    ax.plot(fpr, tpr, label=\"Your model\")\n",
    "    ax.set_xlabel(\"False positive rate\")\n",
    "    ax.set_ylabel(\"True positive rate\")\n",
    "    ax.annotate(f\"AUC: {auc_score:.4}\", (.8, 0.05))\n",
    "    ax.annotate(f\"F1: {f1:.4}\", (.8, 0.0))\n",
    "    ax.legend()\n",
    "    return f1, auc_score"
   ]
  },
  {
   "cell_type": "markdown",
   "metadata": {},
   "source": [
    "### ROC curve"
   ]
  },
  {
   "cell_type": "code",
   "execution_count": 40,
   "metadata": {
    "pycharm": {
     "is_executing": false
    }
   },
   "outputs": [
    {
     "data": {
      "image/png": "[encoded data removed]",
      "text/plain": [
       "<Figure size 432x432 with 1 Axes>"
      ]
     },
     "metadata": {
      "needs_background": "light"
     },
     "output_type": "display_data"
    }
   ],
   "source": [
    "f1, auc_score = plot_roc_auc_f1(y_test, y_proba);"
   ]
  },
  {
   "cell_type": "markdown",
   "metadata": {},
   "source": [
    "The straight line is equivalent to the performance of a random classifier.\n",
    "The further away from it, the better.\n",
    "The curve looks quite good and the given AUC is a decent value."
   ]
  },
  {
   "cell_type": "markdown",
   "metadata": {},
   "source": [
    "### F1-score, AUC"
   ]
  },
  {
   "cell_type": "code",
   "execution_count": 41,
   "metadata": {
    "pycharm": {
     "is_executing": false
    }
   },
   "outputs": [
    {
     "data": {
      "text/plain": [
       "(0.7045207956600361, 0.8226358977440642)"
      ]
     },
     "execution_count": 41,
     "metadata": {},
     "output_type": "execute_result"
    }
   ],
   "source": [
    "f1, auc_score"
   ]
  },
  {
   "cell_type": "markdown",
   "metadata": {},
   "source": [
    "The number of feature equals the length of the word vectors:"
   ]
  },
  {
   "cell_type": "code",
   "execution_count": 42,
   "metadata": {
    "pycharm": {
     "is_executing": false
    }
   },
   "outputs": [
    {
     "data": {
      "text/plain": [
       "300"
      ]
     },
     "execution_count": 42,
     "metadata": {},
     "output_type": "execute_result"
    }
   ],
   "source": [
    "rf.n_features_"
   ]
  },
  {
   "cell_type": "markdown",
   "metadata": {},
   "source": [
    "### A closer look at the predictions"
   ]
  },
  {
   "cell_type": "code",
   "execution_count": 43,
   "metadata": {
    "pycharm": {
     "is_executing": false
    }
   },
   "outputs": [],
   "source": [
    "# df_train, df_test = train_test_split(\n",
    "#     df,\n",
    "#     train_size=.8,\n",
    "#     shuffle=True,\n",
    "#     stratify=df['label'],\n",
    "#     random_state=42,\n",
    "# )"
   ]
  },
  {
   "cell_type": "code",
   "execution_count": 44,
   "metadata": {
    "pycharm": {
     "is_executing": false
    }
   },
   "outputs": [
    {
     "data": {
      "text/plain": [
       "(13012, 2)"
      ]
     },
     "execution_count": 44,
     "metadata": {},
     "output_type": "execute_result"
    }
   ],
   "source": [
    "df_train.shape"
   ]
  },
  {
   "cell_type": "code",
   "execution_count": 45,
   "metadata": {
    "pycharm": {
     "is_executing": false
    }
   },
   "outputs": [
    {
     "data": {
      "text/plain": [
       "(3253, 2)"
      ]
     },
     "execution_count": 45,
     "metadata": {},
     "output_type": "execute_result"
    }
   ],
   "source": [
    "df_test.shape"
   ]
  },
  {
   "cell_type": "code",
   "execution_count": 46,
   "metadata": {
    "pycharm": {
     "is_executing": false
    }
   },
   "outputs": [],
   "source": [
    "df_test['prediction'] = y_proba[:, 1]"
   ]
  },
  {
   "cell_type": "markdown",
   "metadata": {},
   "source": [
    "Let's take a look at what the model predicts.\n",
    "\n",
    "Misogynistic:"
   ]
  },
  {
   "cell_type": "code",
   "execution_count": 47,
   "metadata": {
    "pycharm": {
     "is_executing": false
    }
   },
   "outputs": [
    {
     "data": {
      "text/plain": [
       "['@_rododo feminazi',\n",
       " '@DBTillman Skank',\n",
       " '@ArielBPaiva feminazi',\n",
       " '@LauraaSilveira feminazi',\n",
       " '@TylerIsAPerson whore',\n",
       " '@JNotValid Whore',\n",
       " '@Ocotcoizo feminazi',\n",
       " '@MissTwilight12 feminazi',\n",
       " 'I liked a @YouTube video http://t.co/tr6tNfwd2f Male rights activist owns feminazi',\n",
       " '@bonesinsetember FEMINAZI',\n",
       " '... http://t.co/TXoM9j0E7V #asian #filipino #free #indian #japanese #oriental #thai #video #videos #vietnamese #whoriental #XXX',\n",
       " '@blackhairedtiny fucking whore',\n",
       " 'I liked a @YouTube video from @uhohbrochannel http://t.co/DKbZw5Qy3W Feminazi FAIL',\n",
       " 'Feminazi Blog Reminds Liberals Today Is “National Day of Appreciation for Abortion Providers”… http://t.co/HEpTZ3NsZL via @WeaselZippers',\n",
       " \"RT @johnsarkiss I'm not sexist, but female comedians just aren't funny\",\n",
       " \"RT @pay_pay247 I'm not sexist, but women's basketball makes me want to puke\",\n",
       " 'RT @brassidio: #WholsMuhammad #UElkemdeCharlieHebdoDağıtılamaz http://t.co/eIFzg1hsJK',\n",
       " 'RT @The_Loki_Jotunn: #FeminismIsAwful #WomenAgainstFeminism http://t.co/ytptIJH576',\n",
       " \"RT @P_Filippelli I'm not sexist but females can't rap\",\n",
       " \"Fucking bitch ass people.. how rude can those exols get ? Sorry I'm pissed 🙄😬😬 https://t.co/JGs0bhhgRg\",\n",
       " \"niggas think bitches supposed to suck their lil ass dick and not give a bitch head too, like that's not how it works whore !!\",\n",
       " \"RT @Mr2Wrong: @EskimoTori I'm not sexist but I do agree with gender roles. I have a dick. U don't. Gender is not the same.\",\n",
       " '@marjorieh1350 @teach_well @NickOrsini Suck my dick you stupid bitch.',\n",
       " '@Jonn_eBooks Damn Feminazi',\n",
       " '@imHewie @JoesHub you fucking whore',\n",
       " 'dumb fucking whore https://t.co/qLdOyBqUDX',\n",
       " '@Silk_ebooks Damn Feminazi',\n",
       " 'RT @Thoughtoffense: #gamergate #femfreq #antisjw http://t.co/EO8Gi9qYOK',\n",
       " \"RT @statham_sapp: I'm no sexist but there's nothing more aggravating than a female trying to talk sports with me. I'm just like get tf out …\",\n",
       " \"RT @DarwinLp777 I'm really not sexist, but most women can't drive for shit!!\",\n",
       " \"RT @c_marchionni: I'm not sexist but women need to stop trying to be country singers. #godawful #leaveittothemen\",\n",
       " '@mahohiyajo it means skank bastard u dumb bitch',\n",
       " 'RT @bigjhill23: This chick amy schumer is 2 funny! Women comics really gotta come wit it. Not sexist but most women comics are limited for …',\n",
       " '@Goguen @MarcuzJauregui @Bathanii Shut the fuck up, you stupid ass bitch',\n",
       " \"RT @farouqzaib  I'm no sexist but I've seen some really dumb girls which lend credibility to the argument.\",\n",
       " 'you fucking whore https://t.co/BCzxaVJNSb',\n",
       " \"RT @brian_day15: I swear, I'm not sexist, but I honestly just cannot stand the woman college football announcer on ESPN2\",\n",
       " \"RT @mrMICHAUD I'm not sexist but I do not like one woman rapper out\",\n",
       " \"RT @Mini_Khoza: @Masterbatker I'm not sexist, but fuck that lady. She's awful.\",\n",
       " \"Classic! @itstherealdre @yoliana24 I'm not sexist, but I do believe that women are inferior to men.\",\n",
       " \"RT @AverageSpursfan I'm not sexist but fuck me half of the women yids on Twitter are fucking clueless\",\n",
       " \"RT @John_Bunando As far as I'm concerned, girls who argue are stupid. Call me sexist.\",\n",
       " '@Bubbles8301 @LPIsaacGuest She a nasty skank Hoe who would Fuck her wolf pussy anyway ?',\n",
       " \"RT @RichyOC: I'm sorry to any women out there! I'm not sexist! But ya cant have women in the infantry doing a front line role!! Its a simpl…\",\n",
       " '@e_l_l_i_s_x0x Skank bitch',\n",
       " '@anne_theriault @hels Shut up cunt bitch whore',\n",
       " \"RT @harry_t95 I'm not sexist but women's ice hockey is just naa\",\n",
       " \"RT @TheBigKahuna12 I'm not sexist, but I'm just not a fan of all these women rappers.\",\n",
       " '@lucymilsom2 your just a dirty fuckin whore u got all this chat about me go suck ur fuckin mum u disgusting lil hoe say suttin',\n",
       " \"I liked a @YouTube video http://t.co/3Z3OAyLO69 UKIP's Nigel Farage vs loud Feminazi\",\n",
       " '@dazefulAJ @ajmitchell U FUCKING BITCH',\n",
       " \"RT @AllxnCook Sorry, I'm really not sexist, but the stereotype has yet to prove me wrong about women drivers.\",\n",
       " \"RT @D1BoundJoJo_ I'm not sexist but I don't like female refs\",\n",
       " \"@letyourvoicego @frbidden1 BITCH I AIN'T NO HOE\",\n",
       " \"RT @831SNEAKS I'm not sexist but I never want to have a daughter cause even girls know how girls are.\",\n",
       " 'RT @BlissTabitha: Feminazi Blog Reminds Liberals Today Is “National Day of Appreciation for Abortion Providers”… http://t.co/G4EqVuuKoo',\n",
       " 'fucking take that stupid bitch FILTHY whore nobody will love you fuck you idgaf if ur pregnant ill kill u go ahead call the cops nobody wi',\n",
       " \"RT @FreddyCovington Hahaha I'm not sexist but this is funny http://t.co/BBDmuKXj9W\",\n",
       " '@ben_sassin You ugly lil bitch shut the fuck up if you dont understand the stock market hoe',\n",
       " '@JEHernansanz feminazi!',\n",
       " \"RT @mensrightsrdt: #mensrights@reddit Misandrist bigot asks of #BlameOneNotAll: Do men who don't hurt women ac... http://t.co/mwlVtEWaqp #F…\",\n",
       " 'RT @Desani44 Call me sexist but I just cannot stand female rappers......yuck. That voice though.....',\n",
       " 'RT @Jean_D_Almeida: Im not sexist but its just amazing when a woman knows how to cook! #lovrmesomefood',\n",
       " \"Idc if a bitch was a hoe cause I love hoes. They're mad fun and nastyyy.\",\n",
       " \"RT @YouknowitsDoug: @NubianFelinity @YesYoureSexist they say you're a dumb bitch\",\n",
       " \"RT @ben_sulley I don't care if people call me sexist, I don't find female comedians funny\",\n",
       " \"RT @Jst_Domo: I'm noT sexist but there is a double standard with men &amp; women ! You want the guy everybody wants but we don't want the femal…\",\n",
       " \"RT @Living_Hurt I'm not sexist but I just can't watch football with a female commentator or announcer. Even my mom can't stand it.\",\n",
       " '@charlenealeisha You bitch too much over stupid shit go fuck your self stupid cunt you have shitty service anyway a… https://t.co/Ml3q077mwf',\n",
       " 'UNBIASED TOTALLY UNSEXIST MALE OPINION ALERT @isaiah_guy Im not sexist but I swear female comedians are not funny at all',\n",
       " '@girlsreallyrule Your the fucking bitch,you whore.',\n",
       " 'aka that stupid man with the ugly toes that couldnt even do his own grocery shopping BITCH charge me for this neck ass hoe ill yank ur slides off and go full chancla on u BITCH fucking BITCH fuck U fuck RETAIL oh my god bruh PLEASE may i punch YOU',\n",
       " '@NoelleBellard YOU MOTHER FUCKING BITCH😤',\n",
       " \"RT @bennyd40 Not sexist but I'm getting a little tired of female announcers.\",\n",
       " \"@Eminem you are a big piece of white trash you fucking pussy son of a bitch you're a fucking pussy .i'll bitch slap u make u my prison whore\",\n",
       " 'I hate bitches that are always mad at the world for no reason like bitch stfu and be happy hoe',\n",
       " \"RT @Senor_Andrew: @raquellykelly exactly. Like I'm not sexist, but most female sportscasters I've seen say dumb shit lol\",\n",
       " 'Dis bitch had the nerve to tell me im not from a hood. Bitch stfu ill spit on u hoe u dont know me...so mind ya business and worry bout yo child instead of me...dickriding ass girl',\n",
       " '@Ruby_Hs Hoe stop fucking lying cause i had her phone for months and its been dead till now bitch& u thought u was being disrespectful 2 my kid,it was meWHERE DA FUCK U AT? she like bitch u acting crazy..dis aint no act bitch.. talk that shit but im gonna',\n",
       " \"bitch you're a grown ass women https://t.co/77DNSI4m9e\",\n",
       " \"RT @nathanbonter21 I'm sorry but I can't handle women commentators or women talking about sports on ESPN #NotSexist\",\n",
       " 'Let me tell yall sum...yall barbz who fucking wit my sis @NICKISDAUGHTER_ Come talk to me bitch cause i will pull up on a hoe...',\n",
       " 'RT @ChristianMedna Im not sexist but I dont think girls are funny.',\n",
       " \"Hahahah fuck you @JonaahV Call me sexist, but girls just shouldn't curse.\",\n",
       " \"RT @jackheathh I'm not sexist but women drivers are bad and when i mean bad I mean BAD\",\n",
       " 'why this big fat ass ugly ass bitch like me 😭 she need to UNLIKE me!!!!! i love dick! tf',\n",
       " '@MsJuliaa1 Lets fuck whore stepmom bitch style https://t.co/JMIXZRrD7H',\n",
       " \"Bitch gots me fucked up, claiming to be a grown ass women but yet you try to compare &; bitch you still ain't shit... so what's good?\",\n",
       " '@ghostlydevin @loserwyattt i don’t want a loyal bitch i want a skank hoe who will suck another niggas dick in my be… https://t.co/mswJedEKXn',\n",
       " '@DineshDSouza Camel Toe ORourke',\n",
       " 'Lol you\\'re probably tweeting, \"it\\'s so hard to move on\" with a dick in your pussy so shut the fuck up fake hoe.',\n",
       " \"RT @oglesbeast I refuse to watch a football game if a woman is commentating. I'm not sexist but some people just don't belong in some things\",\n",
       " \"RT @marquesdaryl: I'm not sexist. But there is no chance in hell I'm letting a girl beat me at anything. Sorry\",\n",
       " 'RT @iProgram4Fun: \\'Cause, you know, they\\'re different things RT \"@YoungRightUSA: #feminist #abortion #prolife #feminazi http://t.co/3y5QkA2…',\n",
       " '@DailyMailCeleb Have a thought for the women that sick cunt raped #WoodyAllen you dumb cunt',\n",
       " '@Snxke_Elf what a dumb looking bitch\\n\\nMight have to breed her like the whore she is',\n",
       " 'I luv a classy bitch but still might fuck a bad whore💰',\n",
       " 'Yes Brooke! Give that bitch the hell she deserves. I knew it would take her to slap that skank down. #BoldandBeautiful',\n",
       " 'Ik that bitch was a hoe jus tried to change her but these hoes wana be hoes',\n",
       " 'RT @HazzMurphy: Its like im not racist, but I find racist jokes funny. Im not sexist but i find gender stereotyping funny. IMO nothin that …',\n",
       " \"@SunnyLeone @DanielWeber99 you bitch. You fucking whore. A fucking whore like you gets a chance to act in movies. What about the thousands of struggles we have? You motherfucking bitch! You bitch who doesn't know who her parents are, now acting clean! You\",\n",
       " \"RT @victorlisboa76: I'm not sexist but litteraly I'm sorry sometimes women get too many rights. Yall ain't innocent at all. Like men can ne…\",\n",
       " \"RT @katedudge I'm not sexist but I think in general, men make waaaay better music\",\n",
       " \"RT @Kaycz75 I'm not sexist but a lot of y'all. Females really ain't good for shit except catching semen.\",\n",
       " \"RT @LiamDangerSmith: Call me sexist, but I really don't like female country singers\",\n",
       " \"Have a free blindfold. @ptierney1992 I'm not sexist... But I don't wanna watch women talk to each other about sports.\",\n",
       " 'I just wanna know why the girl dont like me 😭😂 What I ever do to you hoe? Other than give you rides and be nice to you 😂🤦🏻\\u200d♀️ Hating ass hoe',\n",
       " 'RT @FG2k20z3: Im not sexist but women do not belong on ESPN as analyst or commentators!!!',\n",
       " '@joobleblob @UnburntWitch Yes.',\n",
       " '@goof_skywalker @NickTheBullsFan Its clear in the fuckin video are u fuckin stupid if u take idubbz dick out your mouth for 2 fuckin seconds you would hear him say nigger',\n",
       " \"RT @MayatYahya Not sexist but just ain't the same with a woman presenting MOTD..fuck off get Gary back\",\n",
       " '#GermanProfessor gives meaning to term FemiNazi.Doesn\\'t hire \"Indian Men\" bcz of \"Indias\\'s Rape Problem\"\\nhttp://t.co/zyvMzmeEA6\\n@TarekFatah',\n",
       " \"RT @StayingInPower Why is Thor a woman now? I am not sexist, but it just doesn't make any fucking sense.\",\n",
       " 'RT @yungmicjsu Im not sexist,  but i feel like she should be in her own level. Clearly referring men is not your calling.',\n",
       " \"RT @realalexander57: I m not sexist, but having a female as the head of the Secret Service is the one thing I believe is err. Men's reflexe…\",\n",
       " \"http://t.co/hBBh4lcCqs @lathandd Women referees suck man. And no I'm not sexist but damn bruh that wasn't a good call\",\n",
       " '@MissMelyssaFord YOU WHORE ! STANKING ASS WHORE ! Dick SUCKING ASS WHORE @Drakee_YMCMB WIT @Jumpman23 BITCH !',\n",
       " \"RT @wcrane53 I'm not sexist but I do not want to hear a female call an NFL or NBA game.\",\n",
       " 'Kat and Andre-you need to go. Kat is disgusting and her personality is black #mkr #bitch',\n",
       " '@_miidnightr Wanna speak down to my girl bitch then step up big nose ass bitch. Saw that shit off.',\n",
       " 'Have fun fucking your whore you asshole in red lip stick with a smiley face lolol what a bad bitch',\n",
       " \"RT @stuartpaget5 Not sexist, but female football commentators just don't work, can't take it serious. Netball maybe\",\n",
       " \"@chaeltz07 i've seen this skank thot basic bitch IG trash before. Her videos are the worst. Such a prostitute\",\n",
       " 'someone: breathes ada: dumb whore cunt slut your moms a hoe kill yourself bitch get shot',\n",
       " 'RT @asredasmyhair: My response 2 feminists\\' \"not all feminists are like that...feminism is about equality\" argmnt #WomenAgainstFeminism htt…',\n",
       " 'RT @Wateronatrain: @MT8_9 You might like this http://t.co/c9m2pFmFJ3 #patriarchy',\n",
       " 'Good pussy never comes from a bad bitch... 😒 https://t.co/Q1DSNN42N5',\n",
       " 'biggest struggle of liking girls is they all wanna be babi but IM FUCKIN BABI DIE WHORE',\n",
       " 'RT @YTM1staWu1fy: #QuestionsForMen Do you ever find it hard to take a # seriously when it is designed by a hardcore sexist? http://t.co/y9K…',\n",
       " 'RT @maullyolly Call me sexist, but women should never be allowed to talk about sports on TV.',\n",
       " \"You're a skank ass ho but I love you anyway. @emilyfrank210\",\n",
       " 'Kat is a fucking bitch. #MKR',\n",
       " '@lissettesus WELP. Bitch IM JUST NOW FUCKING SEEING DUMB WHORE',\n",
       " \"This bitch whom I won't name on Facebook is such a shameless woman ruining a relationship. #getalife #stopspreadinglies #hoe\",\n",
       " \"RT @darthkbub I'm not racist and I'm not sexist...I'm just tired of self-entitlement\",\n",
       " \"RT @Alfie_Game I'm not sexist, but why are women so easily confused?! #BusinessMinded?! Wouldn't have thought so\",\n",
       " \"RT @RichieT_FTW: I'm not sexist but it annoys me when people are forced to make strong female protagonists in movies and books. Lamest char…\",\n",
       " '\"Women are psychos\"\\n\\n*male tears joke gets made*\\n\\n\"SHUT THE FUCK UP DUMB FEMINAZI BITCH!! THIS IS WHY I NEED MENINISM!!\"',\n",
       " 'MONIKA WAS RIGHT? RIGHT ABOUT WHAT WHAT DID THAT FUCKING BITCH ASS THOT MOTHERFUCKING HO ASS SKANK SAY TO YOU?',\n",
       " \"RT @INKdaRapper: I made the mistake of reading that Christine Brennan article. I'm not sexist, but she really makes females journalists loo…\",\n",
       " 'Where the fuck is your face scary hoe? Dont be saying nothing about peoples looks when you to pussy to post yours. You bitches can not fucking compete. Sit the fuck down and shut the fuck up. All of you bitches wanna talk about looks, but wheres your pics? Stay in your lane.',\n",
       " \"Fuck you ugly cunt bitch don't get smacked https://t.co/oN5yaknXRz\",\n",
       " \"RT @RHoward617: @RossBarnes9 I'm not sexist but I hate hearing the female football sports casters. Idk why\",\n",
       " \"RT @LewRichardson1 I'm not sexist in the slightest but women comedians should not be allowed they aren't funny at all\",\n",
       " \"Sexist tweet par excellence @kenziee_annn I'm not sexist, but women are seriously awful drivers\",\n",
       " \"RT @ColeMcDowell2: I'm not sexist or anything by any means, but this is exactly why I won't watch girls basketball: http://t.co/Yd7tIux6cK\",\n",
       " 'She’s such an evil bitch. Now who’s not smiling? Shove it. #Kat #MKR',\n",
       " 'RT @lord_yogurt TBH you can call me sexist but the sight of girls smoking is unpleasant',\n",
       " \"RT @TorreyFlocka: I'm not sexist it's just funny to attack women's rights because they all get so defensive\",\n",
       " \"Only 2 oppressions. @Prattsays I'm not sexist, but I just remembered why I hate feminists. Unless you're Black orJewish please stop whining.\",\n",
       " 'RT @breez_15: @JakeDandrea_ @AnthonySammarco @YesYoureSexist feminists can suck my dick with their pinky in the air #classy',\n",
       " \"I'll never understand super chauvinistic or super feminist groups... not all men are bad, not all women are bad. #AHSCult\",\n",
       " 'Why tf is @realDonaldTrump a bitch made ass nigga😂 like who tf is stupid enough to put more hate in a country- we don’t like racist you fucking pelo de elote mf smd bitch🖕🏽',\n",
       " \"RT @PainfulAugustus: @lilysboo i'm no sexist, i'm a realist\",\n",
       " '@ABCNewsRadio Oh look Ipigga thinks she knows women who struggle....fuck off bitch',\n",
       " 'You’re a bitch ass cunt @HunterRowland',\n",
       " 'Hi bitch pls @ Us skank ass hoe you aint bouta to do shit but we can throw hands tomorrow since you so bold on twitter',\n",
       " \"RT @BudLightBro FUCK. I'm not sexist but I have a girl in my recruit school AGAIN. Son of a bitch.\",\n",
       " '@Sofiasweetiez @JAYDOUSE Bitch stfu ! Im just tired of you thinking you know me because of what that bum ass nigga tells you when he needs some pussy or a place to sleep',\n",
       " \"RT @Slice_of_Slater It's not sexist but I do believe most girls are not good drivers.\",\n",
       " \"RT @FrankWorleyPR: Ten things #feminists really don't care about http://t.co/0iDiNJgljE\",\n",
       " \"I feel like I'm going through withdrawals but again I'm jus being a whiny ass bitch ass skank ass brat\",\n",
       " \"RT @CalebKn: @YesYoureSexist doesn't make me sexist. I have a right to an opinion. I believe in equality for those who are equal. Man or wo…\",\n",
       " 'When you have good dick and cut her crazy ass off https://t.co/yxbvOl8uGg',\n",
       " '\"Females\" and \"guys.\" @AwkwardEP I\\'m not sexist but a lot of females lack true logic sometimes. A lot of guys are just dumb though.',\n",
       " \"RT @GenAnonCoward: .@Ali_East_West @MT8_9 @LBigmann No, that's #egalitarianism. This is my prob with feminism: they lie with the truth http…\",\n",
       " \"RT @Omg_Mitch: I'm not sexist, but sexist jokes are funny\",\n",
       " \"@em0_trash @Yogirlflaca bitch i'll give you this big ass dick then\",\n",
       " '@ADIC33 Just look at her face..sorry women but look up CUNT and you will see this bitch face. If ever a woman to get punched JS😂😂',\n",
       " \"RT @kingjake2016 I'm not sexist. But I usually walk away when women sports announcers are on Sportscenter.\",\n",
       " '@Astrophilia Fuck off feminazi shit head.',\n",
       " \"RT @venimus_vidimus: @MT8_9 @BristolBen @MaddyBaylor @Shermertron @YavoYavoyavo @Prostathlitis I'm MORE scared of women physically as I'm n…\",\n",
       " 'Shoutout to all you passive aggressive bitches... Go choke on a dick, bitch',\n",
       " 'RT @ElleDunc Call me sexist, but I preferred COD without this stupid chick.',\n",
       " 'Really getting tired of everyone telling me I look like a bitch. Like stop the fucking prejudice you fucking cunt.',\n",
       " '@bea14_x @KSIOlajidebt Oh wow what a ugly skank you are',\n",
       " 'Im such a fucking cunt bitch and i dont even mean to be goddammit',\n",
       " 'RT @JaydenKramer: I would rather have a blind dog as a ref than freakin Liz. I am sorry I am not sexist but that is why girls should not re…',\n",
       " '@FarOutAkhtar How can I promote gender equality without sounding preachy or being a \"feminazi\"? #AskFarhan',\n",
       " \"This bitch out here settin up dick appointments and your lame ass can't even get a text back https://t.co/a42yzUSTCY\",\n",
       " 'RT @Bastardo_Verde: #WhatFeminismGaveMe http://t.co/n0D9JCdUqx',\n",
       " '@AynRandPaulRyan Fucking bitch sarah fucking lying cunt',\n",
       " 'RT @J_Halas34: People call me sexist for my opinion on females &amp; professional sports.. Stop being so politically correct.',\n",
       " '@BABIEJUPI make it u fucking whore',\n",
       " 'Trump is a piece of shit and I hope he rots in hell. What a fucking cunt ass bitch https://t.co/VzDPWXm1P6',\n",
       " '@DebbieDoes69 going to bring your Slut whore ass to the states',\n",
       " 'Dirty dick ass nigga .. I hope that bitch catch sum',\n",
       " \"RT @stuartreeves I'm not sexist but the thought of an all female Ghostbusters 3, scares me more than any ghost they could think up! #badidea\",\n",
       " 'Lmaooo this girl told me I’m such a fucking bitch today bc apparently I’m demanding to the guys I like? Like OH sry b, I get what I want 🤷🏻\\u200d♀️',\n",
       " 'RT @queenofdragonsb: Pls shut the fuck up bitch',\n",
       " '@charlyne_yi no its for women who are being a fucking bitch',\n",
       " '@LilBrownBoyy @hrvyonacid bitch we r now TxF sluts',\n",
       " \"RT @Moni_KidD This is not #SEXIST but my opposite sex can't drive for shit!!!\",\n",
       " 'Girls hear you say “fuckk” during sex and think her pussy bomb First of all hoe my Girlfriend on her way',\n",
       " 'I Want Some Cunt Ass Bitches To Be Spice Girls W Me This Year',\n",
       " 'RT @vaintshit:  shut the fuck up and come suck my dick \"',\n",
       " \"RT @fruitondabottom: #IDontNeedFeminism because I hate being manipulated for feminists' entertainment. #WomenAgainstFeminism #letstalkmen h…\",\n",
       " 'IDC IF YOU FAT OR SKINNY BITCH IF YOU DONT SAY EXCUSE ME, IM NOT MOVING MY CHAIR. FUCK U HOE',\n",
       " 'MUMMY... NO bitch youll call me DADDY as you choke on my big dick! Youll call me DADDY when I bend you over and strech that cunt wide & split you in two! DADDY knows best. @rtfucker @RT4D1 @RTmutt @BrokeRTPig @RTsubby @rtsucker @RTSlutt @RTFD_ @RTPork @RTPiggyy @RTxxlslave',\n",
       " \"RT @sara771987: @ReneeRox74 @MT8_9 I know right? Can't believe he's so mad at women who belittle men and have to ability to imprison them w…\",\n",
       " 'Im so sick of people treating me like SHIT then try to come back in my life after they changed Fuck you fuck your growth cause idgaf skank bitch',\n",
       " '@Cumkitten_R2 your fucken hot im hot fuck hard do anything you want to be my slut whore and open your holes you HOT SLUT. WE LOVE TO FUCK',\n",
       " '@melissafera_ SHUT THE FUCK UP. YOU DUMB WHORE.',\n",
       " \"RT @mjb_1971: I'm no sexist but to pay the Men's and Women's Wimbledon Champions the same prize money is farcical - as jobs go, they're ent…\",\n",
       " 'RT @p4ndiamond: #QuestionsForMen #WomenAgainstFeminism #feminism #mybodymychoice http://t.co/oqPP6gEwUe',\n",
       " 'RT @kennedy_jordan How can feminists say they want equality when they see men as lesser beings? #LateNightThoughts #notsexist',\n",
       " 'bitch stfu yall call angela an ice queen but then say oh sure angelas the mean one you can say this shit and still recognize angela being a whole bitch',\n",
       " 'Every time I hear a women slut-shame another women for what their wearing I can’t help but think “Bitch you wack as fuck.”',\n",
       " 'bitch bitch dont be mad, you better be glad kus this the best piece of pussy that ya man ever had 🤸🏽\\u200d♂️ https://t.co/JJIRxyMrqk',\n",
       " 'RT @eoind87 Great comment from a lad in class \"I\\'m not sexist as sexism is wrong and I\\'m a man so I\\'m never wrong\" #damnstraight',\n",
       " \"RT @Oneiorosgrip: #HowToSpotAFeminist Doesn't want all feminists blamed for feminist lobby for anti-male discriminatry law&gt;freaks out over …\",\n",
       " 'Bitch you better be 😂😂 https://t.co/8YaXVNzhcg',\n",
       " \"Dumb blondes with pretty faces? You're definitely right on one of those statements... Guess which one...  #MKR\",\n",
       " 'go fuck yourself you stupid ugly cunt https://t.co/zjzWFx9gq5',\n",
       " \"RT @LoloKurth: I'm talking football with a girl, this is weird. #sorry #notsexist\",\n",
       " \"RT @xKilluminati_ I'm not sexist when I say women can't drive. they literally can't\",\n",
       " \"RT @king_dani3 Guys be better then women in everything !! Not sexist but it's just coz we are competitive as hell\",\n",
       " \"RT @MrSorrentino_ Oi I'm not sexist but I swear to god only like 2% of the women population in London know how to drive properly ffs.\",\n",
       " 'Lucie is a fucking bitch. No loyalty. This is why you can’t have desperate hoes around your men',\n",
       " \"RT @LimitBr8ker So, totally not sexist, but fouls should be a synonym for women's basketball.\",\n",
       " \"RT @geemichelleex3 I'm not sexist but I'm pretty positive I have no female teachers this semester\",\n",
       " \"RT @jacobselvey Call me sexist but if it's a female rapping I automatically dislike the song. #Chauvinism #VocabWord\",\n",
       " \"RT @Yooo_Fredd I'm not sexist or anything but I do not take female rappers seriously I would never buy a Nicky Minaj album or something.\",\n",
       " \"RT @TH3THINK3R I'm not sexist but anyone that thinks males and females are equal or ever will be is naive\",\n",
       " \"RT @D_Copee Call me sexist but I don't trust woman drivers .. Or atleast the woman in my family\",\n",
       " 'The same bitch is all on my boo’s shit like girl bye',\n",
       " '@shanedawson NAMES BITCH AND ILL END THAT CUNT',\n",
       " '@sinner_b @baeoflight @Henjam48 RIDICULOUS CUNT ! WOMEN DO IT IN AND OUT OF MARRIAGES THE WEAK BITCHES. WHAT DO U C… https://t.co/dAxB0DP43g',\n",
       " '@SaySplit bitch you crazy as hell if you think you not bringing MY niece to see me. The fuck. i was there when her ass was conceived gahdam!',\n",
       " 'I HAD THAT ACCOUNT SINCE 2013, AINT NO FUCKING WAY, IM FUMING BEYOND BELIEF PLEASE IF THAT GIRL COMES ONLINE IM DRAGGING HER DUMB FUCKING BITCH I CQNT EVEN GET IR BACK',\n",
       " \"RT @sharkYObitch I'm not sexist but right now I hate girls !!!!\",\n",
       " \"Its a bitch who better get her some business forreal! How the fuck u gone feel entitled to somebody! Bitch u got blackballed & u gone stay blackballed! I ain't saving no hoe! U is not apart of my Spurs dreams! The woman u see on my page had on the San Antonio Spurs Warm up Jacket\",\n",
       " '@HandzOfZeus @sara771987 @FeministFailure correction: Freedom feminists. Not gender feminists aka feminazi aka cunts',\n",
       " \"So you're sexist AND have no taste. @_ChrisNichols Call me sexist but I have no desire to see a stand alone Wonder Woman movie.\",\n",
       " \"Sometimes you just gotta finger a bitch in public to let her know who's boss https://t.co/T8eSbSoP5N\",\n",
       " 'Well shut up because you loved as fuck bitch https://t.co/d6s8cZ4q9A',\n",
       " 'RT @COVOEC1 not sexist but come on why ? ghostbusting is a job for men lol http://t.co/GNVDIfadiR',\n",
       " 'WHAT A DUMB BITCH #MKR',\n",
       " \"ESPN doesn't care what you think. @Andrew_Doe24 I'm not sexist but female sports reporters need to come to an end. Immediately\",\n",
       " \"RT @ZedSe7en What the hell man? Making Thor a woman is like making SpiderMAN a woman. I'm not sexist but you just don't do certain things.\",\n",
       " 'Childish? Dirty? Pathetic? BITCH U WAS WITH THE NIGGA.. so what that make u.. https://t.co/Ij7A9auV86',\n",
       " 'Feminazi Blog Reminds Liberals Today Is “National Day of Appreciation for Abortion Providers”… |... http://t.co/vbLsbX7Qge',\n",
       " '@CalioWilliamson @CNN Fucking bitch ! Shes doing that since 2 years when she give money to STUDENTS, STUPID HOE ! Now laugh in silence and poverty ! U want attention and like bcse its trendy ton talk shit about her ??',\n",
       " \"You ain't a real bitch unless you suckin dick , stfu\",\n",
       " 'How much gobshite can that #katesmurthwaite create? Gobby woman, feminazi does she ever come up for air?',\n",
       " '@HooliganPats @_AdrianaBarron #feminazi  😘',\n",
       " \"@MSaveryWhiteway @MoiraSSnews @HPEschools Fucking cunt where's my belt bitch suck my dick and make me cum on your mouth\",\n",
       " 'RT @asredasmyhair: Feminists, take note. #FemFreeFriday #WomenAgainstFeminism http://t.co/J2HqzVJ8Cx',\n",
       " 'A fvcking bitch who is a hoe to everyone https://t.co/EhdwqsI8jg',\n",
       " '@Alecammisano Alessia you fkn skank go change',\n",
       " 'I like boobs as much as the next guy, but usually what they are attached to are nagging menstruating fucks! #WomenSuck',\n",
       " '.@BlackOpal80 I know little more than I just told you. I just thought her smiling face of hypocrisy/misandry epitomized modern feminism.',\n",
       " \"Fuck me I hate Kat if she doesn't leave I swear #mkr\",\n",
       " \"Nothing pisses me off more than when skinny girls tweet shit like 'Fat Girl Problems' #WomenSuck\",\n",
       " \"That's funny, most House Republicans are men. @AjChip619 I'm not sexist, but women are so damn stubborn\",\n",
       " '@lgmaterna @latimes @Pegkel Hey American skank are you illiterate?',\n",
       " '@SpIashMan can u report dogshit retard link me after u beg ur fucking terrible u foreign cunt u sound like a woman fucking funder',\n",
       " \"You are a LIAR and a FLOP, you skank hoe! Even Netflix doesn't want you LMAO https://t.co/LsSzhdO4kl\",\n",
       " '@maisonmargieIas Wow that hoes aint shit, You deserve better dan that ugly whore brother',\n",
       " \"@LoveHipHopVH1 Musika you are a awful person. You or Skank want to be ugly ho I don't know what the fuck you're wearing #LHHHReunion\",\n",
       " '@Whackyrach @PennyRed Just bitch, bitch, bitch because you don’t get the attention you want or the singular self-importance.',\n",
       " 'Shut up bitch and suck my cock https://t.co/thFk4yNVEx',\n",
       " 'This bitch is stupid af. Forcing me to wake up my residents. Like wtf not like I was sitting not doing shit I was doing shit. Stupid ass.',\n",
       " '@STFU_Edward BITCH you shouldnt be putting it out there cunt nugget',\n",
       " 'FEMINAZI FEMINAZI',\n",
       " '@ardentlyaphotic Please answer... http://t.co/m7i3NFQsDY',\n",
       " 'God fucking forbid someone offend any fucking one on this planet. Idk how our species will continue when everyone is too much of a fucking cunt bitch to speak their minds @instagram please add a filter to this so it can be friendly',\n",
       " 'RT @ol_dirtymarco I\\'m not sexist, but I must admit the \"Women belong in the kitchen\" jokes were worth a chuckle.',\n",
       " 'How nasty is Kat. What a bitch #mkr',\n",
       " \"I don't care what a bitch think or how a hoe feel 🆗🗣\",\n",
       " \"Karma's a bitch, right Kat? #MKR #MKR2015\",\n",
       " 'FEMINAZI',\n",
       " '@mhdnrfrd Yes bitch its pOLe DAnCinG bcs the pay is good and i need the money and I’m a fucking whore',\n",
       " '@coffanoffski @angvaj you rly gonna say something sexist and then yell not all men? dude, take a seat. prove that n… https://t.co/cvFem2oQwo',\n",
       " '@fakeswag33 Shut up Mickey you pussy little bitch #firstoftheyear #firstofmany #mickeyhaslowt',\n",
       " '@Rosie @Shakestweetz sometimes WOMEN are stupid too! Majority of white women voted for a sexist misogynist pig!',\n",
       " \"RT @MakeFeministCry: Saying you're going to put me down Old Yeller style is triggering. Old Yeller had feelings, too. #YesAllDogs #feminazi\",\n",
       " \"RT @FScorpion678: @Jmart4info @bugaboob @RyanBermuda97 There's no point in arguing with her, she's a feminazi\",\n",
       " 'you stupid fucking whore mom',\n",
       " 'What the fuck bitch! I need more followers 🙄 i don’t even be on here but shit show me love or some',\n",
       " '@tylerfromvegas really whore',\n",
       " \"RT @of_The_Guild It really pisses me off when anime girls don't have big boobs #NotSexist\",\n",
       " '@Fergaylicious i literally blocked her ass everywhere so i wont see her again and youre bringing her to my timeline you fucking bitch',\n",
       " \"@Baddiel I don't mind her saying she's a whore, but the implication regarding other women and #MeToo goes beyond the pale.\",\n",
       " \"No you're not a feminist. You're a FEMINAZI.\",\n",
       " \"WOW can't believe all these women riding the subway today? Shouldn't these bitches be making sandwiches LOL #ihatefemales..\",\n",
       " \"Definition of sexism... @SarahKylee_13 I'm not sexist, but I believe men and women have their roles in the house.\",\n",
       " 'Why Would You Do This To My Young Fairly Innocent Heart You Fucking Hoe Bitch.',\n",
       " 'Any woman that likes me is a bitch. All women are bitches.',\n",
       " 'When you eat the wrong bitches ass https://t.co/vcyGyLuZ9i',\n",
       " \"RT @Arsenick3: @YesYoureSexist saying something enforces a stereotype isn't the same as stereotyping #JogOn\",\n",
       " \"RT @TooBadDJs I'm not sexist at all, but I don't want to watch a ghostbusters film with just women in it #SoSueMe\",\n",
       " \"RT @omahajon Don't get your pants in a bunch. I'm not sexist. But in this PC geekdom world, heaven forbid if you disagree.\",\n",
       " \"RT @S_R_Fernando: @UnfinishedToday Ah, you're a #feminist? Seeing #sexism everywhere then, do check my tweets before you call me #sexist Yo…\",\n",
       " 'FEMINAZI STOLE MY ICE CREAM',\n",
       " '〝 Bitch fuck shit cunt who─ 〞 Okayyy..',\n",
       " \"When people hear your name it's all some crazy thot nasty bitch Whore shit\",\n",
       " \"RT @RICANROLL: @YesYoureSexist tell the bitches, whores, sluts and cunts to change their behavior...that'll end the speech\",\n",
       " '@mykitchenrules Why is Kat being so nasty? Just showing what a horrible person looks like #MKR',\n",
       " \"YES BYE @KeyonMorris: I'm not sexist but if we ever get a woman president I'm moving out the country\",\n",
       " '@roseisagee Girl people really do that, like damn bitch you so selfish you don’t wanna rt me and get me clout',\n",
       " '@Deeejjaaa if I get one more email from your ass ima blow that bitch up',\n",
       " \"Ladies there's a difference between being a feminist and a feminazi\",\n",
       " '@Guinz Stupid Skank !',\n",
       " 'Blac Chyna is straight trash and an abomination to women everywhere. Don’t @ me cause I don’t care. Hoe responsibly, bitches.',\n",
       " 'RT @cheuya: TW. Default male mindset: \"women exist for me to fuck. If she shows skin around me, it\\'s *none* other than a personal invite to…',\n",
       " '@Noremacsmada She’s a whore',\n",
       " '23. the reason that fucking skank ass cunt lied about me was to cover up her shaking my kid, and being in on fucking up lawsuit',\n",
       " \"For real? @BrownNicholas11 I'm not sexist, but men are superior.\",\n",
       " \"Not really scared of them, but they're filthy as fuck and spread diseases like a SJW feminazi slut.\",\n",
       " 'next bitch that cheat on me getting pimped out, you wanna be a hoe bout shit so we gon make this money',\n",
       " 'if ur ugly -@ing women who interacted with kriss before this u deserve to have ur GI tract rammed through with a hot iron stake u smug bitch',\n",
       " 'Your friendly neighborhood dumb ass fucking bitch.',\n",
       " 'listen... i love lil b but i would not fuck with dej loaf at all. she prob got poison up in her nail polish like that bitch from holes',\n",
       " 'my neighbour is such a cunt i hope someone murders that stupid bitch. preferably tortures her first as well',\n",
       " 'RT @ReidlosToof I have difficulty relating to protagonists that are tiny Japanese girls. Sorry. Call me sexist if that makes you feel better',\n",
       " 'RT @GreyUmopepisdn: When a radical feminist or SJW tries to argue with you, try these tips. #WomenAgainstFeminism http://t.co/UP62bkHAEL',\n",
       " 'Go fuck yourself Kat, stupid slut #MKR #nofucksgiven',\n",
       " 'RT @The_Loki_Jotunn: So what does feminism propose to do about this? #WomenAgainstFeminism #FeminismIsAwful #questionsforfeminists http://t…',\n",
       " 'OKLYNTUFKITNG HODKW IM FHJS FUCKING WHORE IM AJUST A HOLE https://t.co/lsFubZoJA7',\n",
       " '\"@Transic_nyc: What do u think her punishment should be? http://t.co/ZDqmVf9K9U #QuestionsForFeminists\" #QuestionsForMen #QuestionsForWomen',\n",
       " \"@AgendaOfEvil Ironic, since Muslims rape, show up at strip clubs, but if a woman is a prostitute she's deserving of… https://t.co/FQuFOeBH1T\",\n",
       " \"@RyanAFournier She's an uppity racist bitch and those women are stupid for being there and giving her the time of day.\",\n",
       " 'I hope he tackles your bitch ass so deep into donnies pussy, so you can live happily ever after. suck a cock, nut cracker. https://t.co/atg6YOEPZv',\n",
       " 'These hoes do to much and these niggas bitch made LF',\n",
       " '@AnalBDSMPlaisir You have proper right for being anal whore!',\n",
       " '@LiquidHbox u fucking cunt u wanna fuck me duck hole cack lord bafaf, EXcuease me, i wang to flout ur hbox, please suck me dadd. top 5 gay',\n",
       " \"@CBSNews And the son of a bitch can't buy it for his little pee pee whore boy and that just rankles his ass. Shut u… https://t.co/pQAXm92M7f\",\n",
       " \"You even hear yourself? @tweaker_bell I'm not sexist but I do believe women and men play very different roles in society but are not limited\",\n",
       " \"I fucken hate you Kat. If I see you in the street I'm going to spit on you. Selfish ugly bitch. #MKR\",\n",
       " \"@ohlashaybefly ctfu tell that bitch don't be snitching she got caught whore\",\n",
       " \"RT @DarylMansbridge Just don't find Woman comedians funny in the slightest #NotSexist\",\n",
       " 'WHAT THE FUCK bitch fuk u https://t.co/9B1NZkWhw4',\n",
       " 'i literally cannot wait until this fucking bitch moves out im tired of her bullshit and starting shit where there is literally fucking nothing',\n",
       " 'Kat is such an awful bitch!!! #mkr',\n",
       " \"I love how women can just talk all day about a nigga not being shit, But soon as a nigga say sum boutta bitch. Y'all wanna attack the nigga\",\n",
       " 'RT @ColdKurd: #Kobane #YPG\\nI think that hair salons very busy right now ...\\nMany people want to shave their beards #ISIS',\n",
       " '@AlecMachet @JudgyBitch1 @masterninja ...which is a real example of feminism ruining atheism, no?',\n",
       " \"@indigomermaidd You're the exception , you weren't a rude lil cunt like some hoes. 🙃💕\",\n",
       " '@chargenewtwit @NotZelta you gonna shut the fuck up pussy?',\n",
       " 'Sheesh RT @Jerry_Capree: Bitch i wana enter every hole that you got',\n",
       " 'RT http://t.co/3bvazJfhS4 @CyCopplelops Call me sexist but men will always be superior drivers',\n",
       " 'i just had the rudest fucking bitch cunt on the phone to me at work and i want to push her off a cliff n jump on her ribs . Ent phased',\n",
       " 'Im not for abusing women but i swear to odin this bitch is about to have a permanant imprint of my fist in her face',\n",
       " 'I never understood why anybody waits to say they got raped smh rape me bitch I’m snitching soon as you leave fuck boy',\n",
       " 'You mean before she sucked dick for fame? https://t.co/GSMTuhDugL',\n",
       " 'Feminazi. A feminist who finds a hidden male agenda in EVERYTHING.',\n",
       " 'Suck it Kat, you fucking cunt. #mkr',\n",
       " 'cormacs such a cunt won’t even let me squeeze his blackheads pussy bitch',\n",
       " \"I'm back in it bitch If the head game is right and that pussy feel good Throw a rack at that bitch\",\n",
       " \"can grown women stop glorifying being a hoe, y'all don't realize the influence on the young bitches\",\n",
       " '@augietwt just stop before you make it worse. eat your cock and pussy',\n",
       " 'I can’t live my life based on what women find attractive. Lmao every single one of you hoes can suck my dick',\n",
       " 'k i come on to twitter to make fun of you but i dont fucking need to bc you do it yourself fuck off cunt hole https://t.co/RINV9CFgOz',\n",
       " '@blakeruss165 You a lying hoe',\n",
       " \"And yet somehow, they thrive without your ignorant laughter. @juckfohn Call me sexist but I just don't find women funny.\",\n",
       " 'Bitch really said city girls better than megan 🤯😂😂💀',\n",
       " \"So ... #Kat's food was about as pleasant as Kat, which is to say ... NOT. Suffer in ya jocks Kat! #MKR #SmugBitch\",\n",
       " 'guy: \"i want a girl who\\'s smart. but i also want a girl who is a total and complete slut whore.\"me: \"how bout a smart slutwhore?\"',\n",
       " 'Some cunt at Walmart went full psycho on me saying how she had no fucking space to put her shit bitch ur taking up the entire conveyor belt',\n",
       " \"SO HILARIOUS U WRITE UR OWN MATERIAL? @JesseElJefe A lot of ppl call me sexist. But those ppl are women, and their opinions don't matter.\",\n",
       " 'maybe you’re just a fucking bitch',\n",
       " 'Looks like another girl fucked up another relationship. When are you gonna learn ladies?',\n",
       " \"RT @RicciCastro: @IngridBanerjee that's because you are a feminazi with obscure views on Clarkson, He embodies all that is top gear #BringB…\",\n",
       " \"The fag stays away and so does that SLUT bitch he proffered as 'bait'....they are both fakes!\",\n",
       " 'This is besides the catcalls, the hey baby’s and calling me a slut and bitch when I wasn’t interested. Fuck this shit.',\n",
       " 'Why would u play with my pure heart u fucking hoe bitch?',\n",
       " 'Stfu you taking all this shit and I still make more money than you do you broken depression pussy ass bitch',\n",
       " 'RT @Grasspunch: @YesYoureSexist good I hope so. #InvertedAndInserted #SheWasTouched #TeamLeftItIn #Grecklodon',\n",
       " '\"just don\\'t\" = the sum total of your unconscious biases @NoPromises_ I\\'m not sexist but I just dont like female singers haha',\n",
       " 'sex is cool and all but have u ever came back from school finding out your parents arent home so u just scream out \"FUCKING BITCH IM FUCKING HOME ALONE CUNT YUHHHHHHHH\" out cuz same',\n",
       " 'One of my exes has become a feminazi that believes in homeopathy, I think her bitch ass beta boyfriend is to blame',\n",
       " 'I think this bitch drugged my shit 😭',\n",
       " 'RT @Laarrma im not sexist. but... it does bring a tear to my eye when i see a woman successfully reverse into a parking space.',\n",
       " 'All those haters calling me a whore when they could call me a dick juggling thunder cunt instead 😥 https://t.co/sYikFWFfa2',\n",
       " '@She_TheWolf Are you a feminist?',\n",
       " '@DaniellaMicaela YOU FVCKING CUNT BITCH!!! APOLOGIZE! @CNN @cnnbrk @CNNPolitics',\n",
       " \"u legit get called a 'feminazi bitch' for speaking out against even the most blatantly sexist shit i stg whatthefuck\",\n",
       " '@_CIay Clay, if this is sarcasm, its really bad, shut the fuck up. If the hats were described as womens yo bitch ass wouldnt want one.',\n",
       " \"Kat is ruthless tonight. Look out, she's a desperate woman! #mkr #mkr2015\",\n",
       " \"LOLOLOL @manorwood97 @karlmalonee @karlmalonee I'm not sexist but it's always the females that expect you to read their minds Lolol\",\n",
       " '@TheRealPerceeP post telling how you love hooking up with a filthy slut so you and that whore joke about her man(I… https://t.co/yq6CxkKH0I',\n",
       " \"WOW TOP SHELF COMEDY @TommyVirtue Siri I'm not sure if I should listen to a women giving me driving directions #sorry #notsexist\",\n",
       " 'RT @lukemac11 Ahh the chick who announces games on ESPN 2 is so annoying #gameonmute #getheroff #notsexist',\n",
       " 'RT @EllieBaker92: LOLOLOLOL #feminazi #detected http://t.co/Zqwomftl02',\n",
       " \"Don't you hate how girls just Whore around because they never got daddy's attention ?? And so they have to interfere in relationships.. hoe\",\n",
       " \"If anyone wants to argue about anything, I'm sorry but your ass is gonna have to come back tomorrow. This feminazi is all out of fucks.\",\n",
       " 'i hate those memes which go dear girls, stop doing ___ if you think boys like it because we dont like???? you fucking cunt you think i even spend a second of my day thinking about YOU or your dumbass preferences??? yall are dumb lmaoooooo women dont give a fuck about you',\n",
       " 'RT @selbyndondo: @Sir_MK_ as men i dont think we should ever be envious of other men, i find that to be a feminine trait #nosexist lots of …',\n",
       " 'People in airport bars always wanna tell you their life stories... STFU Bill, IDGAF about your stupid daughter and whore wife',\n",
       " 'RT @PoliticalCynic: @MT8_9 @findingmariah NOW it makes sense.  #Feminism is all about being full of shit.  Got it!',\n",
       " 'RT @ash_p_ash: Faaark! The blonde promo girl walks with all the grace of a tradie in drag #mkr',\n",
       " \"If a girl is cuddling with me & she tells me she don't wanna fuck, that's cool. I'll pull my dick out & beat off right next to her.\",\n",
       " \"Fundamental understanding of meaning fail @DonivanGray I'm not sexist or anything but EVERY girl is crazy no exceptions.\",\n",
       " 'OK @Krygier_Lilly Call me sexist, but most people I have muted on my twitter are women.',\n",
       " 'Mr. Rao (my soc teacher): my wife is so feminist I call her feminazi\\n\\n😂😂😂😂😂',\n",
       " \"RT @Peggy_Olrenshaw Ghostbusters 3 with an all female lead cast will not work. I'm not sexist, but it's simply a bad idea. Lost interest now\",\n",
       " 'All the men who catcall on the street I wish I could personally shove back up their moms whore cunt :)',\n",
       " '@LizGillies what a fucking cunt this slut is also I don’t want this to endddd pleaseeeee when is Tuesday gonnaaaaa… https://t.co/cKcDRxCPKl',\n",
       " \"I have never once met a woman whose mouth wasn't totally full of BULLSHIT. Stupid bitches!!\",\n",
       " \"@ShariaQueen @Twitter @metpoliceuk Bitch please. I bet the cunts won't even bother.\",\n",
       " 'these hoes done called me kelly jr bitch fuck them 😩😂😂😂',\n",
       " '@MGTOWKnight Feminists think very little of women, it turns out...',\n",
       " 'What in the fuck is an #oomf? Well if it refers to women it sucks!',\n",
       " 'Please tell me why the bitch next to me in the piercing line is so judgmental about everyone she fucking sees. SHUT THE FUCK UP.',\n",
       " '@htmlamanda you stupid cunt bitch! All women aren’t stupid, but all women who think like you are!!!!! Whore!',\n",
       " 'Why is this bitch texting me in all caps tho',\n",
       " 'That bitch is a Grade A whore! https://t.co/KZI7SHEdNF',\n",
       " 'RT @rapebombing: @TamedInsanity @MT8_9 http://t.co/QCLsQaxoJr',\n",
       " 'RT @RussellEElliott: So someone just told me that #feminism = \"lying communists who oppose equality\". Can you believe people this BS? http:…',\n",
       " '@SOLOSEAVEY theyre both disgusting! bryce called my friend a whore and a slut when she told him she wouldnt have sex w him bc she didnt know him and she was 14 😭😭',\n",
       " \"RT @waken_jake23 I'm not sexist... but seriously if you're female you need to be able to cook. it's in your DNA\",\n",
       " \"Your mom was being a bitch to you? I totally see how that's my fault. #WomenSuck\",\n",
       " 'THIS FUCKING BITCH LOL',\n",
       " \"RT @CasaMirth: I'm not sexist but also definitely not a fan of the rumour of Ghostbusters 3 with women. What next? Steel Magnolias 2 with d…\",\n",
       " 'RT @Eliah_R: \"Lets create a nicer society by acting like absolute cunts to everyone\" - Social Justice Warrior Logic #GamerGate #WomenAgains…',\n",
       " \"@Twatchkee he fucked a cousin and kicked a woman out for refusing to suck his dog's dick. #coon\",\n",
       " \"RT @Heeg5 I'm not sexist but I stand by Chris Paul, the woman ref made a bad call and couldn't take the scrutiny part of her job.\",\n",
       " \"RT @leftydammit: I'm not sexist or anything, but I want to take a brick and break every tooth in this girl's mouth, for some reason https:/…\",\n",
       " 'Being rude to you. Call u slut or bitch or everything related. U rasa putus tunang is the best way ke?',\n",
       " 'Conte being a little bitch as per. Get sacked already you average cunt 🖕🏻',\n",
       " \"Literally just saw a 10 year old girl wearing a shirt with sparkles that said 'doing my best' fucking same bitch where'd you get that😂😂😂👽⚠✖ https://t.co/24tSFVM9Ps\",\n",
       " \"It blows mine when a girl tells me to her talk during sex 'how this pussy feel, talk to me' ok bitch it's a C- and I'm trynna concentrate 😒\",\n",
       " \"Stay strong Missionary Man. Don't let these feminazi fascists tell you where you can and cant piss @dontdoxmebro_ @Ishfery @Auragasmic\",\n",
       " \"Maybe she'll have cleats on. @tbowditch12 Call me racist, call me sexist, but every time Olivia Chow talks in this debate, I wanna slap her.\",\n",
       " \"RT @Te4m_NiGhtM4Re: Apparently I'm sexist. Time to make my gf quit her job so she can clean &amp; cook. Not to mention use her as meat 4 sex ri…\",\n",
       " \"Bitches can't keep a man for shit but got a steady ass work husband at all times\",\n",
       " \"Tryin to send that bitch back to her maker and if you got a daughter older than 15 I'ma rape her Take her... right there in front of you DMX\",\n",
       " \"RT @schmeezi: @YesYoureSexist i didn't even say why it sucks let alone that I undermine her authority. Assume much? Congrats4going a step f…\",\n",
       " 'RT @CP2314 This is not sexist but I want to punch both of the girls from broad city #workaholics',\n",
       " '@ryxter5 Im not sexist but the woman who hate men stareing at their breasts are the ones who wear tops 2 sizes 2 small!! Actually annoys me!',\n",
       " \"cuf yo boy and yo girl Have you heard ‘pull a bad bitch’ by Reese's stuffed with on #SoundCloud? #np https://t.co/7lWhxofn0q\",\n",
       " 'Damn I wanted Kat the bitch to go  #mkr',\n",
       " \"@talipann bitch I'll beat your ass\",\n",
       " \"RT @DieselxNash: @ReaverBait @GrnEyedMandy why don't you go choke, one less feminazi troll in the world.\",\n",
       " \"I'm just sitting on the train, have a hard dick and would like to wank a horny girl on the big tits 💦💦💦💦💦💦💦💦💦💦💦\",\n",
       " \"Sorry but #JessieJ on #thevoiceau is being a real cunt. You're not all that.\",\n",
       " '@Yrgirlnayeli bitch that hoe mad annoying like i fr logged of your twitter bc it kept going off',\n",
       " 'Nigga hatin on me you pussy boy dont start it',\n",
       " 'RT @bjtqld: @mykitchenrules @bjtqld:  #mkr2015 #mkr I think Kat thinks she is the best chef ever. Ah hello no',\n",
       " 'RT @TooSexist: Feminists logic http://t.co/ZgvJRA73fb',\n",
       " 'RT @bazjayuu: @rachdancey @joanne_pardoe @tracci74 typical female, wants everything :-)',\n",
       " '@xWildKitty @iball @Maxxllovesya @Twitch Or stop being a whore on twitch you rat',\n",
       " '@itsfordkath back too you slut',\n",
       " 'RT @jimanish: #BlameOneNotAll is just a rehash of #NotAllMen, right?',\n",
       " \"@secretstranger9 @dyro874 That's a butt-ugly woman, and I mean that in the nicest possible way Ma'am.       🤢\",\n",
       " 'RT @facerealitynow: @thisonesakillaa I actually got an answer from a feminist today, a remarkably stupid one but an answer nonetheless http…',\n",
       " 'RT @NickCMcCarthy Not sexist, but girls on xbox live are super annoying.',\n",
       " 'RT @MarkTrueblood: TRUTH! A smart woman explains why men don\\'t want to have to \"handle\" their wives and girlfriends. http://t.co/hcEfq6lsVi…',\n",
       " 'RT @Manami_Fox: @freebsdgirl @femfreq Like your picture? HAhaha nice skin and hair ya slut.',\n",
       " 'RT @Peyton_Drinking: #NotSexist but is Erin Andrews the most average looking \"super talked about as a hottie\" ever?  Totally fine sports re…',\n",
       " 'The truth hurts ... the @gop of late is a party of pussy grabbers, pedophiles and whore paying Christians. https://t.co/5W5M5uEOCt',\n",
       " 'Your skank ass disgusts me so much',\n",
       " 'LMFAO @BrandonHonaker1 LMFAO who cares about the women UFC title match not sexist but seriously no one cares lol.',\n",
       " 'Some of you bitches should be puttin coconut oil up your vag with ya stank ass twat',\n",
       " 'RT @schmeezi Again and again I am reminded harshly that having a women boss truly sucks #sorrynotsorry #itsfact #notsexist',\n",
       " 'I scream \"WHAT A DUMB CUNT\" at the contestants on #MKR way too much for someone who just over-salted a cucumber.',\n",
       " \"You're such a bitch! Stop being such a FRIGGING SKANK and give him back!\",\n",
       " 'RT @smoovfellow The only thing a woman should help a man build is a relationship #tbh #nosexist',\n",
       " \"RT @harrymeisel Call me sexist but a pack of girls skateboarding might just be the weirdest thing I've ever seen\",\n",
       " 'That Emma chick from #MKR is a total #BumnyBoiler',\n",
       " '@ past me bitch you ok???? you fake ass slut https://t.co/4YGvMiCpKJ',\n",
       " 'if the temp is 50 degrees & up in the fall time🍂i will always wear shorts & booties. call me a slut, hoe, or whore idc🙂',\n",
       " 'RT @FeministFailure: “This is what a feminist looks like?”\\n\\nWell, this is what an anti-feminist looks like.\\n\\nRT @TerminalW00k💪 http://t.co/…',\n",
       " '@KiloGG I used to jebait other people with that, you fucking whore',\n",
       " 'RT @Connorsmart3: @rorybrown_mufc @YesYoureSexist There is a reason there is only been one female prime minister. She fucked up everything …',\n",
       " \"@HillaryClinton 'a cold, conniving bitch' and a lesbian... sorta explains why married women voted AGAINST YOU... SCHADENFREUDE reigns https://t.co/oJ5OCMtBuy\",\n",
       " 'Someone get Kat a straight Jacket!! The bitch needs some time in a padded room!! #mkr',\n",
       " 'これ、下水道も｢日本語音声/英語字幕｣だと、｢Oh wow. You scream like a fucking whore.\\nKind of a turn on to be honest.｣にはならない…？直訳だとどうなるのか楽しみ～😇',\n",
       " 'RT @glamadelaide: Fringe Review: Kirsty Mac- Feminazi  http://t.co/oTJRrspUUB #Adelaide #ADLfringe @MacKirstys @gluttony_fringe',\n",
       " 'this fucking bitch beside me thinks my boss likes her better than me 😂😂😂😂😂😂😂😂😂😂😂😂😂😂😂😂 fuck off ahslynn',\n",
       " 'Hahahahaha fuck off Jurgen you stupid cunt.',\n",
       " \"I found out something about this chick that was hiding something from me lmao bitch can't hide anything from me fake ass lying hoe\",\n",
       " \"RT @joshpowers32 Look, I'm not sexist, but tell me you don't get at least a little nervous when you see a woman truck driver\",\n",
       " \"RT @blazinbirdman10 Listen I'm not sexist but there's never been a good all girl band that's just plain fact\",\n",
       " '@TammaraMaiden1 @AdamShah1972 @TracySorrell1 @SenRandPaul @Ross_7_7 You just cant handle the truth obviously feminazi!',\n",
       " 'Talmbout. I was always feeling lmaoo bitch shut up and drop that baby fat before u try and jump on this dick. It got a Weight limit',\n",
       " '.@feministlah @GreenWeiner Way way more than one...and why not...that\\'s how they arrive at \"male privilege\"? #AntiSJW http://t.co/LmPvPJvsyx',\n",
       " '@easierthor he\\'s was like \"this fucking bitch\" LMAO',\n",
       " '@politicalcomic Oh pardon U R just a disgustingly fouled mouthed feminazi radical left winger? Less embarrassing to just say \"Democrat\"',\n",
       " \"Fuck slut for @realDonaldTrump 'daddy' Laughs. Slut cunt https://t.co/QeUlrcCWJR\",\n",
       " 'RT @BudLightBro: @jdcalamia my only experience was terrible classmate and she fucked two of the guys. Keep your slit shut, skanks!',\n",
       " 'I’m still daddies whore 🤪 https://t.co/lZMGbjoywC',\n",
       " '@rabbfam93 @masonsmiff Yea you pussy boy like I said Ill get into your room if I have too !',\n",
       " '@RepWilson How does a wretched ugly BITCH show joy at being a wretched bitch. Wilson crawl into ur hole & disappear',\n",
       " 'RT @sales88194029: The face of very ugly promo girls ! Faces like cats arsehole #mkr excited to see them@go down tonight...literally http:/…',\n",
       " 'She’s not only a bitch but she’s also a whore. She’s always touching her friends boobs too which is gross',\n",
       " \"it's sad to see a fine girl be a hoe😪\",\n",
       " 'RT @Lyall: Bosom flattering #NoMorePage3 t-shirt profile pic #FeministSelfie #irony #hypocrisy #praxis #notbad #sorry #malegaze http://t.co…',\n",
       " 'RT @EllieBaker92: Answer me this. #feminism #women #lesbian #FeminismIsAwful #gamergate #femfreq #feminazi #sex #equality #men http://t.co/…',\n",
       " 'This ignorant bitch, @HillaryClinton, should know. How many women did she destroy to protect that predator husband? https://t.co/G51IqX9yKp',\n",
       " 'i convince myself that im not a bad person and then call an old lady a stupid cunt bitch for biking in the road',\n",
       " \"*In class today* *Girl next to me* 'I hate how every girl dressed like a skank for Halloween' *Guy in front of me turns* 'IT WAS AMAZING\",\n",
       " \"@JessicaValenti oh really?! how do you explain @BillCosby then, considering it wasn't even rape and even white supremacist forums admitted he got fucked?! Love how you feminists won't ever zero in on white men! asian, indian, mid eastern, latino and most of all black men don't get away with shit\",\n",
       " \"@loftygols @Alantwatts23 @Hydro_75 Regardless, she'll always be butt ugly.\",\n",
       " \"@sooze8968 @UndercoverMutha Not fascism, no no no. Just 'common sense nationalism'. What are you: some kind of leftard feminazi?!\",\n",
       " '@beefy_girl hey bitch stop selling yourself to @INCIndia run cunt run https://t.co/3fGwEW8Loa',\n",
       " 'I’m so upset! I really wanted that stupid fucking bird! 😭😭😭 Ziriya baybe, I’m so sorry that an ugly ass bitch would even do that to you.\\nStupid fucking whore is probably gonna use it, ONCE without cleansing it before and after. Then fucking sell it for a hundred bucks on eBay',\n",
       " \"@Nk_t_ko I'm not sexist but women shuld familiarise themselves wit the pots after all a way to a man's heart is thru the stomach #JustSaying\",\n",
       " \"I have called more men the word 'cunt' than I have women, because in my experience more men are cunts than women are\",\n",
       " \"RT @GrahamInglish Hahahaha I'm sorry but if you watch Women UFC fights kys #NotSexist #ItsJustWeird\",\n",
       " '@JonMentser Think anyone who gets turned down for a date and calls her a bitch or slut. Usually a phase that can be… https://t.co/gu9KvjFDBq',\n",
       " \"I'm not vegetarian to an extent but eat anything but beef? No. @ConnorAPercival I'm not sexist to an extent but female rappers? No\",\n",
       " '@AnnCoulter Im not sure you should be calling ANYONE a hysterical woman.',\n",
       " 'these two take dumb blonde to a a new level #MKR #MKR2015',\n",
       " 'RT @Alma_NoSoul: No,i am not a feminist..i am a feminazi *throws tampon shaped grenade*',\n",
       " \"RT @firex21566: When feminazi/anti-gg cry about video game's being bad and GG is a hate group i'm like....#GamerGate http://t.co/9ZO2ZUWj1n\",\n",
       " \"Big difference between Sassy and Trashy. Sorry girls, you couldn't even work a can opener. @mykitchenrules #mkr #mykitchenrules\",\n",
       " 'Get a real woman not a hoe then. https://t.co/22fx32NGgw',\n",
       " '@verge What a dumb cunt of daughter. Social Media addicted whore.',\n",
       " \"RT @lennyfinnegan2: I'm not sexist I am sexist I'm not sexist oh wait I am no I'm not whoa whoa whoa @yesyouresexist who knows if I am or n…\",\n",
       " 'RT @AnnaDale32: Lol when you have two girlfriends @Yourfuckboy1 #huntermourer https://t.co/Bd8VcuYOB7',\n",
       " \"I don't swear much... But... Fuck you kat... And u too Andre...ur both bitches #mkr\",\n",
       " 'RT @ChopraTP: #GermanProfessor gives meaning to term FemiNazi.Doesn\\'t hire \"Indian Men\" bcz of \"Indias\\'s Rape Problem\"\\nhttp://t.co/zyvMzmeE…',\n",
       " \"I gotta stop opening DMs when I'm drunk... I wake up like who TF is this bitch and why did I send her a dick pic\",\n",
       " \"Why did God create lesbians? So feminists couldn't breed\",\n",
       " \"@wedancedonce #mkr purposely pick slightly unattractive girls who're besotted with themselves. Makes good television lol\",\n",
       " '\"u fuckin\\' faggot bitch\" aHHHHHhhH',\n",
       " 'Self-awareness at critically low levels @YouknowitsDoug im not sexist but some bitches are dumb',\n",
       " 'RT @MacKirstys: Hey #adelaidefringe2015. Only 8 shows left of #feminazi @gluttony_fringe at 9.50pm. Come larf heaps about misogyny! See you…',\n",
       " 'This bitch dead flipped a tweet to about rape for attention. I done really seen it all',\n",
       " \"@StevensFarm @MIAA033 Hysterical. And pathetic. She won. Flat out. Bunch of crybabies won't let a girl beat boys? BS\",\n",
       " \"RT @Keerufudechuu: @freebsdgirl You're bat-shit insane to *allies*, and then wonder why you HAVE so few. That's why radical feminism has al…\",\n",
       " \"@RenatoFarina arent'y you #ashamed of having insulted #AsiaArgento and the other women who spoke against #rape? #Weinstein #sexism #Italy\",\n",
       " 'RT @amybeccaaaron: When I criticised the #HeForShe campaign and a feminist responded. 2/2 #WomenAgainstFeminism http://t.co/H1KYCtEWi5',\n",
       " 'FUCK BITCH MCGOBBLE\\nHey warren, can I have a sip? https://t.co/MB1RqUncl9',\n",
       " '@WCivility @vincent_berms Hahahahahaha! I always thought she was a butt ugly woman. Now I know better.',\n",
       " '@Gonz2k Shut up Gonz. Fucking whore https://t.co/vfUtQz5DZp',\n",
       " '@WildeFreedom @CNNPolitics Really do tell! Hysterical? Strange tweet you got there. Hysterical is supporting POS #4… https://t.co/Cr9z3LZqT0',\n",
       " 'First thry have to win. If they dont. Just anothrr shit talking dyke https://t.co/7uWAZ2qILl',\n",
       " \"RT @sparks_her: @sammuraishawty Cause you are just as wrong as them but want rights at the end of the day i'm no sexist but i'm not for fem…\",\n",
       " \"@drayzze omfg!! and I did not know a man could have a camel toe  but it's there ladies  hahaha https://t.co/CO5MXCiT2Y\",\n",
       " 'It’s hysterical how much you bitch and complain over something so stupid. Don’t have to catch an attitude every 5 fuckin seconds.',\n",
       " \"RT @Jrod__RigueZ I hate when women talk football but don't know what they're talking about It's only cute when you know your shit! #NoSexist\",\n",
       " 'RT @ZStonecipher: Half the time when I read a girls tweet I read like the dude in \"Sh*t sorority girls say\" video on YouTube. #notsexist #j…',\n",
       " 'how u gonna talk about how men r trash and rape culture but u out here laughing abt a girl u hated in high school getting raped bitch fuck u',\n",
       " \"RT @FO7935: If you're a grown woman who hasn't gotten past your awkward teenage years of confusion and angst, you're probably a feminist\",\n",
       " '@CCriadoPerez Shall I add that to the Lefty Feminazi Manifesto?',\n",
       " 'ok so this is my missing yoonmin tweet : i  miss yoonmin come home bitch #Uh_Oh #G_I_DLE @G_I_DLE #여자아이들',\n",
       " \"@SenKamalaHarris Hysterical Woman, you don't speak for me or other women in my household.\",\n",
       " \"Gals ❤ 2 holler ' I'm dat bitch' Well I'm tryna 2 b 'dat woman' Dat woman wit a college degree n money.Dat woman strong in her faith in God\",\n",
       " 'Me: sup slut\\nNigga: wyd hoe\\nMe: ya mama🥴\\n*proceeds to send my website to it*',\n",
       " 'shut the fuck up you fucking pussy you wouldnt know survival if it hit you in the face you draft dodger',\n",
       " 'So those blonde chicks are gone, yayy #mkr',\n",
       " 'A woman talking about equality is a \"feminazi\", a man joking about rape and sexism gets a show on tv #justsaying',\n",
       " \"Eww these women are butt ugly lol I'm actually laughing my head of lol 😂#ENGCMR\",\n",
       " 'The blondes will get through cause they are young and can suck... Hard! #mkr',\n",
       " '@AnnCoulter @DonaldJTrumpJr Yes yes Ann, lets continue to perpetuate the hysterical woman stereotype. Such a shame. You dont deserve your position of power. A disgrace to fellow women.',\n",
       " '@FanboyDestroyer @hollyrpeete @itsgabrielleu Rape is no a joking matter or a time to speak light . Women have to re… https://t.co/V2qB3zwD7e',\n",
       " 'Sitting on steps is always massive turn on for those watching. Good girl #stephapproves #slut https://t.co/bdrpSXaZWq',\n",
       " \"Who gives a flying fuck? @Rhace138 Again, call me sexist but men shouldn't get lower back tattoos\",\n",
       " 'Do you get it, you Blondes ........... #MKR',\n",
       " 'lmao as if this cunt gives a fuck about women with anxiety https://t.co/T2soHcAF4u',\n",
       " '#mkr that Kat has to go. She is nasty.',\n",
       " 'Since the feminists at #sorryitsaboy &amp; #everydaysexism NOW just LOVE \"jokes\" I thought they\\'d like this one...right? http://t.co/y5tE6iR650',\n",
       " 'Karmas a fucking bitch and it’s so great to see it finally coming to bite someones ass.',\n",
       " '@UPI @adamczyk_ed @JacindaArdernNZ much confirms that she is a hysterical Liberal wacko. Any woman who forces pothe… https://t.co/lDt3rToqlg',\n",
       " 'Getting called a CUNT because I am the type of woman who mouths back to a disrespectful twat of a guy',\n",
       " '.@BigBadCharn Please identify the straw man, Dunce.  My sarcastic mocking hypothetical or those real examples?',\n",
       " 'My mum & dad fired me when I was 2. Didn’t make me bitter & twisted the fucking slag whore gay cunts #TheApprentice… https://t.co/93xWQ3hpld',\n",
       " 'RT @OsmanMays Am I the only one who was never aware female pilots existed? #bumpyride #notsexist',\n",
       " 'RT @athenahollow: @freebsdgirl He REALLY picked the wrong women to go after me thinks.',\n",
       " 'RT @AnimeMae: I HATE THESE GIRLS SHUT UP AND STOP CALLING YOURSELVES PRETTY AND HOT #youredreaming #notevenpretty #MKR2015 #MKR',\n",
       " '@catarybertt @lorexplo #feminazi detected',\n",
       " '@cashpointmeets Faggots pay day !! Hand it over as you get bitch slapped by my cock ! Hahaaaa',\n",
       " \"knuckle up cause I'll fight for mines Yo pussy petty, U wasting time .. U seasonal, part time U get fucked up fuckin w/ mine U lil bitch\",\n",
       " 'RT @TehMenz: #QuestionsForMen Did you know that scientists agree that women \"slut shame\" to make vaginas more valuable to you? http://t.co/…',\n",
       " '@aloshalbasrawi I am serious and sure that I want to put my penis in the hole of your ass https://t.co/LEhOciliLb',\n",
       " \"pepperspray or smth, if you dont protect yourself dont be surprised if u get raped :/' like bitch maybe just teach men not to rape women\",\n",
       " 'god fucking shit cunt dammit bitch pretentious cock sucker..... I dropped my ice cream',\n",
       " '@GhostofGigi Are you calling me a Twitter Whore? Kiss indeed..',\n",
       " 'Harvey: Ugh! Just disgusting. Pedro: Disgusting are the illuminati women because they were fucked up in every hole.',\n",
       " \"@CampbellPaton I'm not sexist but the Canadian anthem should not be changed... It's tradition we all know now that men and women are equal.\",\n",
       " 'I want a feminazi to argue with',\n",
       " 'RT @genaro_m17 Girls should shave no matter what month it is',\n",
       " '@MrSteThompson \"I\\'m not sexist, but it\\'s of note when a woman surprises me with her competence.\"',\n",
       " 'Teenage whore by hole is my fav song rn! So relatable... I miss my mall slut phase',\n",
       " 'Yo i hate being a freakin woman where can i grow my new dick',\n",
       " \"I saw a woman dressed up like a hot dog tonight. Bitch, it ain't Halloween yet\",\n",
       " \"RT @Connorsmart3: @rorybrown_mufc @YesYoureSexist Jealous cause they can't stand up while having a piss\",\n",
       " \"What the hell is this recurring weirdness @janicewidit I swear I'm not sexist but female chipotle employees can't roll burritos for shiizzzz\",\n",
       " '@spinnershells fuck you, you racist bitch, and cunt piece of shit, glad we know now where your entire family stands on social issues',\n",
       " '@PopCrave He can choke and so does his bitch hoe',\n",
       " '@femmefataleirl my dad does the same thing but he calls it my \"liberal comminist feminazi bullshit\"',\n",
       " 'Giving You A Sneak Peak Of Her Hot Little Cunt Hole https://t.co/Mr8x6U401m',\n",
       " \"@nickreviewsnews #BlameOneNotAll in the west, how aren't they? Don't men, in fact, have less rights than women now?\",\n",
       " 'So he called women who stuffed their faces fat, Jamie C a cunt and wanted to fuck Girls Aloud.. in 2002. BURN HIM AT THE STAKE #LooseWomen',\n",
       " '@SumbelinaZ @IronmanL1 @Hatewatch Sorry bitch, you did your research in your own asshole.',\n",
       " 'Im deadass so annoyed 🙄 i don’t get why people who talk so much shit about the boys pretend to be their biggest fans and say “ I deserve to meet them” like no bitch get the fuck over yourself and stop pretending',\n",
       " 'Go girls you got it go gueensland and stop being mean Kat and andre #mkr',\n",
       " '@PardusXY The idea...or the argument?',\n",
       " 'Hating men is an important part of feminism why cant these men serving brats just shut the fuck up',\n",
       " 'RT @Krayfish35: It bothers me when anyone uses foul language, but coming out of a girls mouth it seems 10x worse #KeepItClean #NotSexist',\n",
       " \"RT @babybrucewayne: every time I see Kat's face I feel like puking #mkr\",\n",
       " \"RT @IMrTrippy: @IronCurtaiNYC @YesYoureSexist I'm all for equal rights, just annoying that they complain about things that don't matter is …\",\n",
       " 'Crazy Uncle Joe.... Takes meetings with clowns....but never paid a porn skank.... https://t.co/ozkKZNjJRt',\n",
       " '@DonCannon @DJDRAMA Ole fat neck ass nigha . Release the motherfucking song ... I’ve had it with you cunt holes',\n",
       " 'If only I could get out and beat the cunt that just hit my car with 5 fucking kids in it...cops are fucking looking for you bitch 507TVB',\n",
       " 'RT @aussie_gal27: #katandandre gaaaaah I just want to slap her back to WA #MKR',\n",
       " \"You should be locked up, you sociopath. @ninjaphi To prove I'm not sexist, I'm going to punch a women in her face\",\n",
       " \"@JudgeJeanine Crawl back in your hole, you're nothing but a fame whore tv judge\",\n",
       " 'Bitch you look stupid af 🤗',\n",
       " '“I love you” First of all bitch we all know that’s a lie with your whore mouth and your floppy wiener',\n",
       " 'just another day of being a dumb fucking bitch who fell into wet asphalt',\n",
       " \"RT @fyoudbag: It's insulting to women to expect them to only be attracted to super easy games. I honestly am insulted as a parent of a girl…\",\n",
       " 'lol. is she still screeching about me blocking her? what a turd.',\n",
       " 'Sometimes you just gotta say fuck it and let a mutha fucka know you wanna have sex to their face',\n",
       " '@imogenhowson LOL, you do dress like a slut :-) you look excellent.It entertains me that you have the slutty dressing covered while I do the slutty acting',\n",
       " \"RT @thisonesakillaa: I don't blame these SJWs for hating themselves. They're just choosing the wrong reasons. Grade A white guilt. http://t…\",\n",
       " '@Gregco5088 This cunt? Probably blames women for getting raped',\n",
       " 'Women who scorn other women for charging rape are what makes it hardest for women 2 seek help. We are half the pop. 2gether we rise. #MeToo',\n",
       " \"*vomit* @j_degeorge I'm not sexist by any means, but no woman should ever be allowed to announce a football game #KnowYourPlace\",\n",
       " 'What do you call a woman who has lost 95% of her intelligence? Divorced',\n",
       " 'Obviously natural blondes!! #mkr',\n",
       " 'I ask this every year. So looking forward to the older blonde.\\nCue geggy tah \"whoever you are\"\\n #mkr',\n",
       " 'Cuffing is not DEAD If everybody stop being a hoe then you can cuff 🤷🏾\\u200d♂️😅 But nahh being fuck Buddies in style at #myasu https://t.co/3d4mo2YZvS',\n",
       " '@godlyxeli you’re: that bitch',\n",
       " '@LindseyGrahamSC Look in the mirror Lindsey. Boring and butt ugly is what you’re seeing.',\n",
       " '@landsharrk cuz girls are stupid and pick assholes. Meanwhile they friend zone the good ones',\n",
       " '@svg_shawty this bitch acts like single moms can’t date wtf. watch her dumbass get pregnant this year.',\n",
       " \"Hoes think just cause they don't reply it means there's no answer/no consequences. Lmao BITCH no reply means you guilty as shit 😂😂\",\n",
       " \"RT @mickystre: “@stweet_heart: I still refuse to believe that his real name is Drasko!\\nI'm sure that Drasko is a Drain Cleaner in Poland #M…\",\n",
       " 'Do you guys really want props for not raping or misbehaving around women? Well here you go 👏👏👏 are you happy now? #BlameOneNotAll',\n",
       " \"RT @mlktestbot: MT @aliennnqueen: Daily reminder that I 100% don't care about straight cis Jews's opinions on racism &amp; feminism.\",\n",
       " 'Stupid ass bitch unfollowed me LMAO',\n",
       " \"@ArianasBotch Ok if you fucking said leave block me. But dm me first I'm gonna kick your ass. Shut the fuck up you https://t.co/6BXkfxMEf9\",\n",
       " \"If I got a dollar for everytime Nikki did her pouty face, I still wouldn't wanna look at it. #annoying #MKR\",\n",
       " 'RT @whyisitdirty: If feminists addressed the rampant sexism and misandry in #feminism, then perhaps #WomenAgainstFeminism and #antifeminism…',\n",
       " 'These Blonde girls are full of themselves they should just leave #MKR',\n",
       " 'Is this serial killer cunt whore for real? https://t.co/GC81dS66gU',\n",
       " '@Mama_Bridgie This Meadowlands mama is just a \"pity party\" you gonna stop using a taxi coz some skank called you fat?',\n",
       " 'Let me know what the cops say. @JevenSteakobson if i see a women in mens wearhouse today im calling the police. sorry, im not sexist, but,',\n",
       " '@chAinedDesiress I know you do, slut https://t.co/Q39cuUKocS',\n",
       " \"RT @BastendorfGames: @YesYoureSexist No, I'm not, you cock sucking twink.\",\n",
       " \"RT @Quinnae_Moon: Also, I just found out about this: http://t.co/iSRfYMYrss What in Andraste's name is this nonsense?\",\n",
       " 'Some dumb bitch really sat on a “black woman are bomb” page and said that black women are copying Kylie’s braids https://t.co/dBHB9fbx5d',\n",
       " '@archibaldcrane @LostSailorNY What a fucked up insult to MLK...wow.',\n",
       " \"You're fucking hysterical, I don't know if I've ever been in a ts channel with you where I was laughing my ass off,… https://t.co/Ee3OkQ9y66\",\n",
       " '@pleasemybody they deadass digging a hole for themselves @AtlanticRecords fat bitch loose weight',\n",
       " \"RT @1Terror409 Women's sports &lt; staring at a blank TV screen... Not sexist but can't seem to get any enjoyment out of it\",\n",
       " \"@bbclaurak @BBCNews Never OK. It's just that women complaining were seen as hysterical or delusional while men were… https://t.co/RBiB1yP8fM\",\n",
       " 'Pray tell, when will \"ready\" be? Guessing \"never\" @AustinRaySmith I\\'m not sexist, but I don\\'t think America is ready for a female president.',\n",
       " \"Well, I don't know anymore. Hard to see the upside of someone so emotionally cold. Who is also a feminazi who dominants guys/manginas.\",\n",
       " 'old person: did you buy that shirt with holes in it? me: yes it’s called fashion bitch look it up',\n",
       " \"@EmmaSlutWatson oh you dirty bitch me and my friends are going to fuck all your holes till you can't take no more… https://t.co/zx8MJn5oJb\",\n",
       " \"RT @SexualTruth: Men are smarter than women that's why women always get played by men. #Truth\",\n",
       " '\"I am a Gangster\"\\n-4 min später-\\n\"What is bitch\"',\n",
       " 'RT @wiemanindenwald: @MT8_9 Feminism is a snoring issue.',\n",
       " 'Dixie Comet #hairy pics gallery https://t.co/VL0d2mtUnz Dixie has on her tight little yoga outfit. It gives her a fabulous camel toe and she',\n",
       " '#KCA #VoteJKT48ID AusPolQuestTime: Meh Ash and Camilla .. not a big fan of them much... mostly deluded #mkr #mkr2015',\n",
       " \"'aw, does the little slut love when mommy touches them? you're such a whiny mess right now. such a good whore for me, angel.'\",\n",
       " 'i was crying and this bitch really started laughing 😔😔',\n",
       " 'Roses are red, violets are blue. You a bitch ass hoe, and yo momma one too. @sha_babyy17 Yeet',\n",
       " '@boxedariel @LostSailorNY Single men cannot adopt.',\n",
       " 'Laying in my bed telling me not to suck your cock cause it smelled... we know why.. it was up some skanks arse before you came to mine',\n",
       " 'RT @M3gaToxic: @TheSavageHelios @gamespot Yep. Not sexist but women need to chill out. Us guys get called many things online and we just br…',\n",
       " 'RT @truthhonk: Wonder how many feminazi &amp; social justice warrior heads explode when Hillary makes Villaraigosa her running mate? Hopefully …',\n",
       " \"RT @cheuya: Women who disavow feminism in the name of ~advocacy~ for ~men's rights~... http://t.co/ZyhosbrFFf\",\n",
       " 'RT @jonny_stallone: Call me sexist when it comes to football idc. I hate when girls put up a pic of a \"hot\" guy and thats the team they\\'re …',\n",
       " 'This kid stated she was 13. Grown-ass men are still talking to her about bras. Oh, man. https://t.co/AaWHbICOWe',\n",
       " \"@Feminazi_Front I'm more than happy to admit I'd never want to work those jobs... Yucky icky bleeeh lmao ;3\",\n",
       " \"@ThelmaSleaze uh... did you watch the video? one of the women talked about how it's assumed she's angry because she's latina.\",\n",
       " 'Because no one likes being a stupid bitch, alone..... https://t.co/Z7xhwpgkWj',\n",
       " '@ashleylynch I like ladies more than I like men. That might be the problem.',\n",
       " \"I have a stupid man crush on Lloyd and I can't help it. #mkr2015 #mkr #sexylloydmkr\",\n",
       " \"@ValerieInsinna I thought the whole movie is about gaslighting/making women think they're hysterical/generally deny… https://t.co/daf33LyJZ7\",\n",
       " '9/28 you pussy BITCHHHHHHHH EAT IT UP LIL HOE I KNOW YOU BANG WIT US !!!! Its ROLLLLLLINNNNN ON MINE ION DO DA GROOVIN YADIG #SLUMLOVE',\n",
       " '@jalenramsey Lmfao shut the fuck up with your Brentwood Academy havin ass. Yall have one of the worst QBs in the league as far as TD/INT ratio go but you hate on every other quarterback.... Sit your pussy ass down and get swept by the Titans again.',\n",
       " \"RT @Coopster04: @AlanNRembosDDS  As a mom of daughters, I'm asking if U would call them 'sluts, sexretary or FemiNAZI'? Rush does &amp; you pay…\",\n",
       " 'Real shit like stfu and eat my pussy since u care so much',\n",
       " 'From #MeToo to Who Me? Where Are White Women Allies When A Black Woman is Called a Whore? https://t.co/aNtYGiCrcq',\n",
       " \"@Scrimshaw9 @Ahhmandah straight to 'cunt'? Over.. what exactly?? cause a woman online posted something you dislike… https://t.co/MyLrhWeVCx\",\n",
       " 'Note, @suey_park is obvs not sexist. Retweet needs a \"sincere or sarcastic?\" option.',\n",
       " \"RT @sales88194029: Colin says the meat in the thigh was moist &amp; tender ??? Are you talking about the main dish or Nicki's thighs ? #MKR\",\n",
       " '@KEEMSTAR your a cunt and you are a pussy for blocking me. Fight simon. Prove your not a bitch',\n",
       " \"@oscoscoscosc Exactly.  It's a sexist marketing ploy.\",\n",
       " '.@Shermertron @HumanistFury Real question is do feminist liberal bigots understand that different rules for men/women is sexism @jennykutner',\n",
       " 'Calling me a \"feminazi\" doesn\\'t offend me at all lol y\\'all dumb',\n",
       " '@lacerci65 She is simply hideous! Good Lord, when you put her next to First Lady Melania, you can really see how butt ugly she is. Scary as heck😳',\n",
       " 'Sucked in Kat, you mole #mkr #mkr2015',\n",
       " \"Hate to think that's exactly where the meet comes from. #heritagefestival #arkansas not trying it. #coon http://t.co/dgQZXnu68v\",\n",
       " \"RT @SxFlint93: @YesYoureSexist well I don't followyou you so stop trolling.You have tohave something better to do then to look up sexist tw…\",\n",
       " \"@smitty_one_each @KatiePavlich @rsmccain These feminazi's really have a great time redefining English to mean I hate men in 9000 words!\",\n",
       " \"I'm such a little pussy ass bitch on my period what tha fook\",\n",
       " \"If you're a chick and I followed you back its only cause you live close enough to fuck ☺️\",\n",
       " \"Pro Tip- There's nothing but sad lonely bitches at the bar drinking away their 'I'm a lonely loser' feels today\",\n",
       " '@SteampunkKanye this is a woman. she is flat out obsessed.',\n",
       " \"RT @The_Loki_Jotunn: @MT8_9 Screw feminism &amp; the sexist legal system it's directly responsible for creating. This piece of human garbage ne…\",\n",
       " 'You realize most people who cut hair are women, right? @Jovvven: I have yet to meet a woman who can cut a good haircut #notsexist',\n",
       " \"I'm not worried about a bitch that live with her mother you can't even get a place in your name you got rules stay in a child's place #COON\",\n",
       " 'You\\'re legit an asshole. Man or woman, act your fucking age. Show respect for others. Have decency to talk about things as an \"ADULT\" that you supposedly are. Dont be a fucking cunt about things ESPECIALLY if youre in the wrong.',\n",
       " 'you a stupid hoe you a you a stupid hoe',\n",
       " 'Teen Whore Lily Rader Gets Nailed And Creamed Sexy blonde loves rubbign her juicy cunt',\n",
       " 'im changing the password nobody knows backyardigans fucking bitch!',\n",
       " \"RT @iHateJono: Whos idea was it to hire a female as an NBA assistant coach. Man that is ridiculous, not sexist but that's not the place for…\",\n",
       " '@piojaa_ feminazi',\n",
       " \"When you're in love with her and find out she doesn't do anal so you're gonna have to cut her loose https://t.co/IS5fkgJ7is\",\n",
       " \"'I don't take bitch or slut as an insult.'\",\n",
       " '@13_moths @UnburntWitch Wait are you saying Antifa is Batman?\\nNarcissistic personality disorder https://t.co/JlPPqD327U',\n",
       " \"Stick it up em Kat, you're the sort of bitch that really makes the show #MKR\",\n",
       " '@AmericanHotLips @DHSgov @FBI @Alyssa_Milano Skank you are already in the streets. Make my money whore.',\n",
       " '@AnnCoulter and you are competing for the ugliest nastiest SKANK in America.....',\n",
       " 'bro i hate myself, im a fucking bitch to bucciarati',\n",
       " \"'Feminists have been stigmatized as hysterical women for a long time' Olga Marin, FARC #GVAPeaceWeek\",\n",
       " '@failedmgc Should men and women have equal legal rights?  Yes or no?',\n",
       " '@annmarievazja Skank man .. you got!!',\n",
       " '@mrpford @Lisa_Wilkinson True, many women think Karl is a dick and Lisa is fantastic',\n",
       " 'Fun Fact: Laurie Reynolds is a #StopRush communist &amp; a bitter feminazi http://t.co/SIF6n9f0D8',\n",
       " \"RT @nikeenan: @YesYoureSexist look guy, every man has look at a woman's ass at one point or another I his life.\",\n",
       " '@Onlyyaelin_ @_celesstee So you just want money skank',\n",
       " \"RT @nicolesantucci: That should wipe the smug smile off you're face Kat #rudebiatch #mkr\",\n",
       " \"Judging by your username alone, yeah, you are. @skateparkslut I'm not sexist, but I really dislike the majority of teenage girls\",\n",
       " '@crescent1023 @PaulieVerity @PartyTimeMentat Look its simple. Women talk about rape in #metoo & you say not all men… https://t.co/6JpLKLfz8e',\n",
       " \"Anyone else notice that all 3 of Katie and Nikki's dishes were based on them being sluts? Sausage, cock and tarts? #MKR #MKR2015\",\n",
       " 'How the f#*k are they \"models\"? #MKR',\n",
       " '\"Fukken anita sarkesian doesnt allow responses to her videos!! Feminazi!!\"\\n\\nhttps://t.co/WNAmh7HCTv\\n\\n*gets blocked by roguestar, AGAIN*',\n",
       " \"@ChrisCuomo @NewDay you leftist gimps are hysterical. I'd call you a lemming but that would be an insult to lemmings...\",\n",
       " \"RT @kushkingmorris: I can't even sit down and watch a period of women's hockey let alone a 3 hour class on it...#notsexist just not excitin…\",\n",
       " \"RT @the_author_: #BlameOneNotAll because men's feelings about how women discuss sexism matter more than the abuses women deal with\",\n",
       " '@realDonaldTrump Really mr. grab em by the pussy? Yes, you do talk like that and you werent elected. Your were instilled by russia. Stfu you moron. Youre going to prison, Traitor Tot.',\n",
       " \"@melaniedrinnan feelings mutual mate, just gonna give up on feminazi's like yourself\",\n",
       " '@vanbadham @TheFeedSBS Look I think you\\'ll find the real issue is \"hippy feminazi sociopath parents\"... Uggh. I can\\'t believe these are real',\n",
       " '@ALftbI You stupid ignorant cunt',\n",
       " '@MSNBC U people @MSNBC r pos. liars. More fake news. U should offer 5 women to Obama. w that skank wife he has he would take the offer.',\n",
       " '@CyanDvai FTR, I don\\'t just mean Democrat by \"liberal\" but a specific breed...',\n",
       " '@husska89 go rape your whore of a mother',\n",
       " '.@WayneJBurrows @adriennecgomez @ListenToRaisin ...feminism would only have a name issue.',\n",
       " \"@ReaverBait @GrnEyedMandy why don't you go choke, one less feminazi troll in the world.\",\n",
       " 'Mr Shorter - scum bag posting things like this -FADEC ON LSE YOU ARE A CUNT - SON OF A WHORE #hnr',\n",
       " 'It’s like women can’t wait to be a hoe when the relationship ends',\n",
       " 'Tired of this bitch using bad pictures whenever they post seunghyun articles do better be like soompi bitch',\n",
       " \"RT @taxo__: Snapchat me that PIN number, if it's... cool😅💳 #memes #lol #lmao #bruh #petty #truth #girls #love #guy #ctfu #dead #fuckery #pe…\",\n",
       " '@Jedi_sluts I moan as I watch your perfect blue pussy descend upon my big dick.',\n",
       " 'It kills me when men say women should take \"I\\'d fuck her\" as a compliment and not objectification when men will literally fuck an apple pie.',\n",
       " 'Real old whore slut and granny with thirsty vagina https://t.co/8M6jsVWvro',\n",
       " 'And bitch i was tweeting a song i got no times being sad for smeone i mean im a busy women you see.',\n",
       " 'RT @teesmurf Richard Petty was right. If Danica Patrick was a male no one would know she was on the race track. #notsexist #Daytona500',\n",
       " '@piperalex_ Unless cow tipping is classed as physical assault you should shut your fucking whore mouth, i hope you never show your face outside of whatever hole you went to hide in because frankly i would love to drop kick you off a fucking balcony xoxoxo',\n",
       " 'Im so sick and tired of folks like you using your platform to bully those with differing opinions. Just because their opinions differ doesnt make them hysterical women. And calling @CoryBooker a woman, is disrespectful. Hes a proud Black Man, put respect on that!',\n",
       " '@Zaddy__Zayn @Noleen_ZjM @anupamae hoe you dont even know??Tragique....add me back',\n",
       " \"RT @KrisTRealest @Matt_Camps Sum things jus aren't right coming from a girl'z lips... #NotSexist\",\n",
       " 'everytime i reach the highlights of smut im reading me: ok hoe calm down calm down sit your ass relax its just a smut',\n",
       " 'Anna Is Nurse By Day And Naughty Slut Whore By Night I think im addicted to your cok',\n",
       " 'RT @MKriegbaumJr: Call me sexist, but if you need a specific training segment for coaching women, it defeats the purpose of equality across…',\n",
       " 'Fuck bitch!',\n",
       " 'ROFL.. When Kat said she was humiliated... Hubs voice from the corner of the couch  \"Good\"\\n\\nHe really doesn\\'t like her at all #MKR',\n",
       " '@totallyciara YES YOU DO GO TO BED HOE',\n",
       " \"When a man gives his opinion, he's a man. When a woman gives her opinion, she's a bitch. - Bette Davis\",\n",
       " 'Some women are mad arrogant, man. How much of a douche would I sound like if I went around saying “You just talked yourself out some dick”',\n",
       " '@AnnCoulter Really, Ann? Hysterical woman? What is wrong with you?',\n",
       " \"Stop confusing good sex with love, that's childish\",\n",
       " '#MeToo women always blame men for everything . How about not dressing like a whore?',\n",
       " 'RT @PetaPan17: hahahaha Drasko HAS to be different to everyone else’s opinion #mkr',\n",
       " \"This kid too much of a bitch even do shit on his own He's gotta get some stupid ass whores to do his shit for him\",\n",
       " 'RT @gater_ebooks: You Big Government, anti-freedom fucks are why I am in favour of fat shaming',\n",
       " \"RT @_dantomlinson: I'm not sexist but girls please don't pipe up when the football is on, we all know you have no idea just sit there in si…\",\n",
       " \"Still find it stupid how Zephiel wasn't even sucking dragon dick\",\n",
       " 'They are really proving they are dumb blondes #MKR',\n",
       " \"Especially old women who can't shut their pie hole.\",\n",
       " 'RT @asyrfmzlan Girls should know guys over protective with his thing, especially his girl. He doesnt like sharing',\n",
       " 'Please rape my slut cunt and fill it up to the brim with thick, hot cum https://t.co/CCLu2S0dYH',\n",
       " \".@JamieAgathaRose  Nothing.  I like women in pink. It's a tipoff that they don't angrily reject femininity like...ahem, well, you know.\",\n",
       " \"RT @RichardMeal @sir_lummox maybe that's where they should focus? Less cunts on football. #notsexist\",\n",
       " \"Two months ago you were 'fat &; a whore' now y'all talk... boys 🙄🙄😂😂😂😂\",\n",
       " '#katandandre gaaaaah I just want to slap her back to WA #MKR',\n",
       " \"RT @WesJ14: I'm not sexist, but letting the red ranger be female in PRSS is just, not right. The red ranger is always a guy, no exceptions.\",\n",
       " '@Yami_Riki I forgot I’m your lil whore 💗',\n",
       " '#blackmilk #squirrelgirl #bmmechalegs #everydayrobot #howiwork https://t.co/OS7DgmWR0H',\n",
       " \"RT @Arab_kell: Leave the washing to mum because she's not a complete remtard #WomenEqualWashing #NotSexist #WellSlightlySexist #IMeanMumIsB…\",\n",
       " '“Rape by Fraud” Feminazi Strike Again http://t.co/ppcm8jt8cY http://t.co/0Yml1SCMNY',\n",
       " '@kezdugdale with a passionate speech covering the Stonewall Riots, current intolerance and hate crime and importantly, her commitment as a feminist to trans inclusion. @ScotParl will be poorer without her passion for equality #50YearsScotland https://t.co/aEwGMzLXdI',\n",
       " '@SenKamalaHarris @maddow Is there a more stupid person in congress than dipshit Harris? This woman fd Willie Brown, thats gross. Total skank with the intelligence of a pollywog.',\n",
       " 'I just need one kitty one butt hole to lick one person to be my NUMBER ONE FAN& support me I just need a bitch to be my peace just ONE 🤷🏽\\u200d♂️',\n",
       " 'RT @ahtweet: @freebsdgirl How dare you have feelings is a fantastic way to dehumanize someone.',\n",
       " 'Aaron you whore!!!',\n",
       " \"I simply said, I like someone's boobs. Now, that flat-chested feminazi went on about objectification, sexualization, yada yada yada.\",\n",
       " \"Everyone makes mistakes. But only women don't admit theirs #WomenSuck\",\n",
       " \"I would slap the smirk off Kat's face  #MKR\",\n",
       " 'RT @Ben_Creasey86: #MKR \"everyone under estimated us\" umm bitch you came second last, like literally just survived - you didn\\'t win! My god…',\n",
       " 'Your bitch a true thot had to let her go like a cool cop shoot u and put a hole in ur head like a juice box',\n",
       " '@TheHockeyLife48 so you admit to actin like a hoe? 💀',\n",
       " 'How every man saying not all men, but every woman been sexually assaulted....',\n",
       " 'RT @BrandonMcKenzie: Arghhhhh I want to kick in the television set right now, Kat you despicable rat #MKR',\n",
       " \"@She_TheWolf @brotheryellow Men are.  Women cannot be.  Feminism says that's equal enough.\",\n",
       " \"RT @annie_chaplin: Omg!Can't wait until try hards, crazy eyed Kat &amp; douch bag go home! She can't cheat anymore so I'm guessing that will b …\",\n",
       " \"RT @NotA_Misogynist I'm not sexist but girls get more attention when they tweet, thats why they have 832057238K followers, RTs and faves\",\n",
       " \"#MKR Awe never mind - there is always that illustrious Victoria's Secret modelling career Nikki...oh you model for Target. My bad.\",\n",
       " '@FoxNews @DLoesch Not all men...just the ones who are pussy grabbers.',\n",
       " \"RT @Mooseoftorment Call me sexist, but when I go to an auto place, I'd rather talk to a guy\",\n",
       " '\"\\'There\\'s nothing worse then a feminazi!\\' You know what\\'s worse? Nazis.\" -Robin Tran',\n",
       " \"@trumpsterMG @realDonaldTrump You're a dick. Said every woman ever\",\n",
       " '@NorthWitch69 you give me a penis boner 😘',\n",
       " \"@trimking98 @PolitiBunny @ODunavan You probably haven't seen a feminazi topless march... You don't want them topless, trust me on that...\",\n",
       " \"@maaac_daddy @N0_Pomo_ @LukeDuffy4 @Purr_Gande Oh gosh, its banter, dude. And I'm a girl bruh but sure kick  #feminazi\",\n",
       " 'show me your pussy bitch',\n",
       " '@JessicaValenti Guess it doesnt apply because its a man being assaulted instead of a women?',\n",
       " 'RT @ThumperBryan Women vocalists in rocks music... thoughts? Me personally prefer men singers, seem to have more passion #NotSexist',\n",
       " 'All these dumb shit corny ass love songs are now all about you, fucking bitch.',\n",
       " '.@BlackOpal80 Realized then that selfish hypocrisy is the crux of modern feminism, not equality.',\n",
       " 'STOP SAYING SASS OR I WILL PUT MY FOOT UP YOUR ASS #MKR',\n",
       " \"RT @MMMotorsports: @ChaseDahlaBillz @YesYoureSexist @keatonwessman @CJ_Obray Women drivers, what? I'd say we kick ass. http://t.co/3N77tA5Z…\",\n",
       " \"RT @MGTOWKnight: @MT8_9 @MegNordmann There's a platform that could easily collapse under her #AntiSJW #WomenAgainstFeminism http://t.co/l1f…\",\n",
       " \"Last I checked men HAVE THE PENIS and women DON'T. I Won't say it again but THE DICK IS ALL THAT MATTERS #MensRights!\",\n",
       " 'If you wonder what skank beat is https://t.co/lXYaPJEkHC',\n",
       " 'If the sassy models are really studying psychology they should know all about narcissism... #mkr',\n",
       " \"WOW TOP SHELF HUMOR @arabdizzle What's the point in having a cleaning lady when I have a mom and a sister? #NotSexist\",\n",
       " 'alright ms bugs life built headass now tell me how shes a skank bc apparently you you know my bestfriend better tha… https://t.co/X7lymZTXon',\n",
       " \"@ZoeJardiniere It's not just men. I read recently about a woman who was 'hysterical' after being raped. I don't kno… https://t.co/QMv2KLXrCd\",\n",
       " 'Don’t you dare call a woman a hoe in front of me, I didn’t spend all this time hoeing to not get my credit! Foh!',\n",
       " 'Im not a hoe and you not gone treat me like one, people don’t understand that. 🤦🏾\\u200d♂️',\n",
       " 'RT @gabriel403: @freebsdgirl I disagree',\n",
       " '@willberthelot Get a girl pregnant and find out...',\n",
       " 'did i really just get called a feminazi',\n",
       " 'I wish u would stfu guilty hoe',\n",
       " \"Love's a bitch..\",\n",
       " '@MidlothianPD To the girl cop who I caught looking through my window, While my car was parked. Suck my whole dick and die hoe.',\n",
       " \"Yes, WE'RE ridiculous. Rofling irl holy shit @noshirtkurt_ Feminists are ridiculous.\",\n",
       " 'RT @sunkensomething: @freebsdgirl I was being serious. It is about ethics, not a hate campaign.',\n",
       " 'There are good men out there women stop accepting ass holes that appear to be right.It is a excuse to turn lesbian cuz of a no good man.',\n",
       " 'get a life you dyke https://t.co/MfBmb8UPSi',\n",
       " '@RealJamesWoods @BeauCards How about very Unintelligent hysterical woman. This women is mental case!',\n",
       " '@Dr_SueeZ Alright dyke😭',\n",
       " \"'Your dick too small' Bitch first of all your pussy too deep https://t.co/zKIMmpwe2T\",\n",
       " '#MKR Kat -_-',\n",
       " \"RT @J_Carnivale14: Just saw a girl drive the wrong way on a one way.. Some girls really don't know how to drive. #notsexist #guysdoitbetter\",\n",
       " \"RT @BidensCreepyHug: Media shorter: we aren't going to investigate why Hillary used a private email as SOS. That would be considered sexist…\",\n",
       " 'Shut up Katie and Nikki... That is all :)\\n#MKR #MKR2015 #mykitchenrules',\n",
       " 'And look at this shit. LOOK YOU SLUT. Stop distracting yourself with your flavored dildos and LOOK. LOOK YOU FUCKS. LOOOOOOOOOOOK!!!!',\n",
       " \"What's with Petes face, looks like he's been varnished  #MKR\",\n",
       " \"@DailyCaller Let's see... Rape woman then kick the dog. This fat pig needs to be neutered & hung in the public squ… https://t.co/AExJzqyLSd\",\n",
       " '@QuazRoodt Basically, Women are the chicks, & Woolies is the #notallmen crew.',\n",
       " \"I like to fuck meme makers and never talk to them again just so I can see the angry sub posts... I'm an asshole like that\",\n",
       " \"RT @AriaAkariCo: @YesYoureSexist @IWUWildcat85 nice meme you fag, it's part of mythology and making a female Thor is an retarded try to car…\",\n",
       " '@srhbutts @ThatSabineGirl \"yeah this sounds like a thing a feminazi would say.  #nachoshield\"',\n",
       " 'They call it HB. I’m a hot bitch you a has been',\n",
       " 'RT @ShitMyPants11: Only a fraction of women are crazy. That fraction is 100/100.',\n",
       " \"some girl really tryna pick a fight bc I was 'standoffish' at a conference. bitch I'm workin\",\n",
       " '@realDonaldTrump @NFL Fuck off you Kunt',\n",
       " \"RT @Yo_aRob Some of y'all girls should be nuns for Halloween cause y'all been hoes all year round.\",\n",
       " 'RT @Crowlberg: Call me sexist but the sound of female hockey fans screeching at the ice from nosebleeds is causing me pain. Id rather hear …',\n",
       " '@ccalii__ Facts! like bitch stfu & sit in the corner hoe. Catch a fit in the corner, facing the wall',\n",
       " 'I hate Billie &; Christy hoe asses. The most annoying &; stupid people on the show',\n",
       " 'Then da cop decides to get in da car and try to make da girl suck his dick in da backseat for what reason Idk smh had to beat this nigga ass',\n",
       " '@sarahberms I find it odd that they think a woman is the authority on what men should do with their lives, but then many of them think women are inferior to men and women who want equal treatment are feminazis. WTF alt-right? Cognitive dissonance much?',\n",
       " 'IM SICK BITCH https://t.co/Wj0hJI9w39',\n",
       " 'The menus look like they were made by a 5 year old little girl...in this case just the mental age of a 5 year old girl I guess #MKR',\n",
       " \"RT @rlfrmllvwr: Nooo Sheri and Emilie, I don't want to see them in sudden death 😣 #mkr\",\n",
       " '@AnnCoulter @DonaldJTrumpJr If anyone would know about hysterical women, it would be you btch',\n",
       " \"I don't have to tell my homies not to take women cus they don't want us we just move on to the next bitch 💯\",\n",
       " \"@SexKittenParty White feminists need to focus on calling out men in a HIGHER position of power than themselves. Let's keep focus here.\",\n",
       " \"@Amb_MSteiner #GermanProfessor gives meaning to term FemiNazi.Doesn't hire Indian Men bcz of Indias's Rape Problem.\\nhttp://t.co/zyvMzmeEA6 …\",\n",
       " '@bxrdxrline Sike bitch',\n",
       " '@p4ndiamond I saw him, but I rarely engage male fems...zero point to it.  They are just following orders...',\n",
       " '@ItsNikG And you deleted your tweet you pussy shut up and take your pills old man',\n",
       " 'As a married woman with a son.. Born to an abusing woman.. Not all men are bastards',\n",
       " 'shit she knows how to walk.....you go girl...one foot in front of the other.....#MKR',\n",
       " \"@elliextaylor She clearly deserves better if that's how hes gonna act. Hes turned into a bitch. Funny how girls stay loyal mostly but boys always get tempted\",\n",
       " \"RT @BastardKeith: Over $100,000 has been raised for Darren Wilson. But man, why must liberals bring RACE into this?! It's about...oh. http:…\",\n",
       " 'I can lose weight, but you’ll always be a cunt ♥️ Don’t come at me, I will shut you the fuck down https://t.co/ZuGw6sqK6L',\n",
       " \"RT @littlebrinks2 You can call me sexist or whatever, but there's just something bout women drivers that bug me\",\n",
       " 'you could have all the drip but if you butt ugly. gtfo',\n",
       " \"Are some men actively looking to be congratulated for not abusing women? I'm confused about #BlameOneNotAll\",\n",
       " 'Me in two sentences. - may:Me: I won’t get jealousMe: Who’s this fucking whore https://t.co/W9CTVvlPNn',\n",
       " \"NBC Rachel Maddcow not concerned about Rape &; Sexual abuse of women occupying Hollywood Harvey? Straight women don't count I guess\",\n",
       " 'you coulda had a bad bitch /: @lizzo https://t.co/fIz24NJYiX',\n",
       " 'Bitch boi still doesn’t know his girl still barking up my tree 😴',\n",
       " \"I officially hate Kat and Andre!! That's more like cheating than being strategic! Really heartless animals they are. #mkr\",\n",
       " '@itsgabrielleu happens to women everywhere, not only rape but sexual abuse and pple still ask what she did to provo… https://t.co/4SnwJWGSH9',\n",
       " \"RT @Shahan_Amin: What did the doctor say to Sarah Silverman's parents? #SorryItsAFeminist\",\n",
       " 'Western males &amp; females; bred to become #spineless potato &amp; #Feminazi. ✝ http://t.co/JYf0aMADpz http://t.co/UhycB07Zk4',\n",
       " '@Allehegens Don\\'t count any chickens...most of the GOP candidates suck and could well lose to uneducated \"history\" vagina voters.',\n",
       " \"Wow that is actually the stupidest thing I've read all day. @hashtag_fritch Swear I'm not sexist but boy meets world &gt;&gt; girl meets world\",\n",
       " '@S_Elhussieny you, yes you, are the one who planted them to victimize yourself #feminazi 😂😂😂',\n",
       " 'In what world are these two mingers models?  #mkr',\n",
       " \"RT @GeorgeWorshingt  Call me sexist, but shouldn't everyone on the panel have either played or coached at the collegiate level?\",\n",
       " 'RT @metin_gozde I remember when I used to refuse to get on the bus if a woman was driving it #NotSexist',\n",
       " \"Did anyone in the movie 'Pretty Woman' even suggest\\nthat Julia Roberts' character shouldn't be such a whore? https://t.co/zNikKNhZaH\",\n",
       " 'RT @justin13j Do women announcers annoy anyone but me? #NBA #notsexist',\n",
       " '@xxxfurrygirl @AlwaysBeAPet101 I love playing with your ass will you rid my cock and I eat you out https://t.co/PyN97M8v37',\n",
       " 'The term \"feminazi\" is actually really insulting lol',\n",
       " '@ValiantRook To each their own...commenting more on the power dynamic of male fems vs fems etc',\n",
       " 'Fool me once shame on you. Pussy ho you wont fool me again.',\n",
       " '@movingfasternow @HadleyFreeman We needed a counter -balance for the rape apologists now? These hysterical women are… https://t.co/kjq4E1OuPz',\n",
       " 'RT @cheuya: Fake victim whining rapist motherfuckers. They need to die',\n",
       " 'Hyolyn fue una bully. Get that fucking bitch outta here',\n",
       " '\"Women\\'s bathrooms are so much worse than men\\'s.\"  Everyone agrees. #fuckthanksgiving',\n",
       " 'RT @sports2inflatio: @lissasauras #feminism supported pedophilia, you will find people like me fighting against it. http://t.co/gLNCGkuukp',\n",
       " \"Women ruin everything. Look at the movie Ted. Everything was fine till That bitch from That 70's Show fucked it all up #WomenSuck\",\n",
       " '@TheCaterjillar @Bohobookgrl @democracynow @TaranaBurke Hysterical screaming is what woman should try not to do - -cl… https://t.co/WjkRkhBGnt',\n",
       " \"RT @asredasmyhair: They claim to be for equality...and then cont. to focus only on women's issues. #WomenAgainstFeminism #FemFreeFriday htt…\",\n",
       " 'I gotta stop posting about not wearing condoms cause these bitches is startin to make me wear condoms',\n",
       " 'Refining thru deconstruction. Right. #MKR #killer blondes',\n",
       " '@kain_larsen @gigagiga333 Nope.',\n",
       " 'No one cares what u think. @GND_BDURHAM: Call me sexist, but heels &gt; no heels. Sorry ladies. Also nasty nails = vomit. Look clean at least.',\n",
       " '@ABCPolitics This bitch will be rape by Trump too and then denie it.',\n",
       " '@BrosukeH why? whats your problem\\nwhy would you have feminazi retards as friends',\n",
       " \"RT @KanoWyatt I'm not sexist but if I come home and my bed isn't made I'm gone kick my mum out of her own house\",\n",
       " \"Her- send me a dick pic Me-*sends dick pic* Her- that's photoshopped Me- https://t.co/AWKO4mEG5X\",\n",
       " 'The woman in El Paso on the mountain, is she high or just being hysterical? Scary stuff. #livePD',\n",
       " \"JUST FELT THE NEED 2 EXPRESS THIS 4 SOME REASON @benjorrell Don't get me wrong I'm not sexist, but seeing female engineers on site is weird\",\n",
       " '@isoFLVCKO @SavageCatcher @GoodLuckDyllion Nah. No doubt I’m the best editor in this bitch',\n",
       " '@AnnCoulter You are the most hysterical woman not there',\n",
       " 'The more WOMEN in the workplace means LESS WOMEN IN THE KITCHEN. Like and retweet if you see this as a big problem #ilovefood #homecookedm#',\n",
       " '@BrokeTilIGetRch @CriticalKaiju Nope.',\n",
       " '@thebradfordfile Sweet. Broke-assed bitch will shut her jizz-hole for once. Once.',\n",
       " 'Erol exposes the #Feminazi groomed by Zionist Jews to join them in hell, for eternity, as #misery craves company &gt;&gt; https://t.co/2ootOyI4gj',\n",
       " \"Follow my blog. See the men who *are*fighting for men's rights. #Zakatus #misandryisreal #teens #NaturalRights http://t.co/6n4V9kBtya\",\n",
       " 'RT @WizardryOfOzil: RT @YesYoureSexist: \"Says more about you than about them. @WizardryOfOzil\" not when my opinion is abnormally popular.',\n",
       " \"If u don't think rape culture exists in the US u should prob check your feed right now 'cause literally every woman u know is posting #MeToo\",\n",
       " \"All you boys going to senior week WEAR A CONDOM! Cuz when girls say they're on the pill, they're probably lying!\",\n",
       " \"Maybe the reason why people aren't approaching Annie is because she's scary #MKR\",\n",
       " \".@aguyuno @TigerClaud You are whining about an analogy. TwitFem #SJW's actually defended the predatory sexual abuse of a high school student\",\n",
       " '@dino_akin lol plot twist ..what if your girl is secretly a hoe 🤷🏽\\u200d♂🤷🏽\\u200d♂',\n",
       " 'A good luck post in case y’all wanna get a kiss this month from a gorgeous girl or a dirty boy https://t.co/99b0pSuf7y',\n",
       " 'RT @SteelThunder13: The Friendzone doesn\\'t exist. There is a \"Women exploit you for your Feelings\" Zone.',\n",
       " 'RT @nikochoski: #AdviceForYoungFeminists Remember boys are stupid, men are more stupid. Instead of rocks, throw rape allegations on them. T…',\n",
       " 'You couldn’t possibly value a girl if you still refer to women as “bitch” 😒',\n",
       " \"RT @LenLetaylor: @YesYoureSexist it was a joke. Get over it. I don't condone violence full stop. So was her racism OK then\",\n",
       " '#whatajoke #makeitadoubleelimination! #Mkr',\n",
       " '@feministlah @GreenWeiner Women have more legal rights in every Western nation.  Who is privileged?',\n",
       " '@callmemrcarter: I hope Kat gets Ebola and then hit by a train followed by a smack in the ugly face with a shovel #mkr #katandandre #mkrkat',\n",
       " '@AnElegantMinx Hips pushed forward, cock immediately entering her tight cunt and that obviously caused the Wookie to groan aloud.',\n",
       " '@thehill @AnnCoulter already won Most Hysterical Woman with her 2 day twitter freakout over leg room on a plane.',\n",
       " 'how long until this bitch realizes she isnt funny',\n",
       " 'RT @messypixels: ORLY --&gt; \"I have done more for the cause of women in tech than almost anyone.\" #stopWadhwa2015 http://t.co/vGaOHhheQS',\n",
       " 'RT @GrumpyVancouver: Issue with female hosts on sports broadcast is that most have no variation in tone of voice.    #notsexist.',\n",
       " \"RT @AdrienneRM: re: *that* sexist Newsweek article. Newsweek wasted space that could've gone to a woman who might have made useful comments…\",\n",
       " 'Surprised the \"models\" don\\'t know how to dress with style  #mkr',\n",
       " \"@Starius @38fanda Shhh...it's funnier when they don't know... http://t.co/c8CtwSTqrY\",\n",
       " 'RT @RangerStalked: The same people saying that Hillary\\'s emails are \"no big deal\" were the same ones having a shit fit over Romney\\'s \"binde…',\n",
       " 'why do bitches purposely show they camel toe?',\n",
       " 'We should be running this bitch https://t.co/NSKfACMaBx',\n",
       " 'lol where my period at 🤣 this bitch playing w me',\n",
       " 'Why does kat always need to make big eyes? You freak me out witch #mkr',\n",
       " \"RT @ESMART234: ISIS: Jihadist police beat up woman for 'exposing eyes' under veiled clothing: Women living in Mosul who offen... http://t.c…\",\n",
       " \"kat's eyeballs freaking out #MKR\",\n",
       " '@DLoesch You forgot skank in your Twitter description.',\n",
       " '@DouboTreCinco aye I already know where you stay while you retweeting shit WHORE',\n",
       " '.@NatalieTudor Agreed. I just hate that society is so economically illiterate they blame sexism rather than capitalism for those questions.',\n",
       " 'Uplay, kindly fuck off into a fire.',\n",
       " 'Cat needs to understand that she is a terrible cook and needs to strategically vote herself out of the competition #mkr',\n",
       " 'I hope Twitter rips you a new one. You make me sick. @jimboslice_13 @ry_casper \"how to discribe rape. His dick was hungry!\" #notsexist',\n",
       " '#LateNightThoughts how many Congressman dicks did women suck to finally gain voting rights',\n",
       " 'Darla you trifling skank! #QueenSugar',\n",
       " 'GOLD @cartermontg Just heard someone say \"feminists are fantastic\". I\\'m really hoping I don\\'t hear that ever again. #notsexist',\n",
       " 'RT @AgentSaffron: So the Nagaland rape case was a false charged filed by the woman. Thank you Pink Chaddi Feminazi idiot drafted laws.',\n",
       " '@Tiggs_Tao British people say cunt like American people say dude I not know this woman at counter asked me for help… https://t.co/A6n1pu0F8I',\n",
       " \"RT @Riic14 I'm not sexist, but more women know what DIY means due to arts and crafts. Lol\",\n",
       " 'How great are feminazi',\n",
       " 'Kat, you are an embarrassment to yourself #MKR',\n",
       " \"RT @taxo__: Her:I don't get what u want outta this relationship Him:Well, I was only looking for a bj but u kept coming back https://t.co/l…\",\n",
       " '@RyanGebble Yeah male Shepard is just so DIFFERENT and INTERESTING like all the other white male protags in every game ever',\n",
       " 'It’s hysterical that some1 as big as @KailLowry keeps filing PFAs. If I were the judge I’d take one look at her and say “bitch you good” 😂',\n",
       " 'I\\'m still bad at flirting with ladies. My game ends at \"how YOU doin\\'\"\\n\\nWhereas w/dudes I just demand their commit history. #everydaysexism',\n",
       " 'THIS WOMEN CAN DO ONLY ONE THINK, BACK INTO HER RAT🐀 HOLE NEVER TO COME OUT AGAIN🐀IF SHE SHOW UP ON SURFACE AM CALL… https://t.co/ieVWAepoc1',\n",
       " 'Ah feminism is still going strong, \"At least we\\'re still two young,hot, blondes.\" #MKR',\n",
       " \"When men argue that not all men are abusive, yet women are also naturally irresistible, I wonder wat it's like 2 embody cognitive dissonance\",\n",
       " 'Peter Thiel will always be a fucking bitch.',\n",
       " 'RT @WillTar: @TanyGriff @VeloUK why do women play best of 3 and men best of 5 in tennis. it is not sexist but in most sports women are not …',\n",
       " \"i can't have a girlfriend my dick's only big enough for one of us\",\n",
       " \"RT @aliffabr You're a moderator of a BIGBANG fansite, shouldn't you be more objective? Seriously, sometimes girls can't think properly.\",\n",
       " 'Not watching #MKR again until Kat is booted off. What a joke.',\n",
       " \"'She was acting hysterical' is literally what every misogynist says to describe women who call you out on your bull… https://t.co/2GeIYIB8j2\",\n",
       " 'ill throw rocks at your window you dumb whore',\n",
       " \"RT @doctorow: They have told me that writing this down is 'intimidation'\",\n",
       " \"can't decide which is the most hysterical woman between you and Booker - the batshit crazy is strong in both of you. Taking lessons from old Pelosi?\",\n",
       " \"@AGVFoundation @Twitter Thank you. Not all men are bad. In fact, this isn't just a 'man' problem. I've had women sa… https://t.co/uGc7mP6vNz\",\n",
       " 'I really wanna get a rich, married woman pregnant cause my kid deserves the best and a dad that actually cares',\n",
       " 'Well FHUTA (my gamertag) was just banned today and its all thanks to @majornelson @XboxSupport, you pussy platoon fucks decided that FHUTA was such a bad fucking word you decided to hide it in the depths of your foreskins. I hope you get ligma and die. P.S. fuck u.',\n",
       " 'RT @robinashe: Yep, #QuestionsForMen in fact. @paulawrites',\n",
       " 'Never seen two grown adults act so ridiculously childish! #badsportmanship #katandandre #mkr #happycampers',\n",
       " 'Most hysterical woman #KavanaughConfirmationHearings #BrettKavanaugh #CoryBooker #KamalaHarris',\n",
       " 'RT @crystalllllllxo: 😂😂😂 https://t.co/JFjCo32qQd',\n",
       " '#MKR Kat: the Wicked Witch from the West',\n",
       " \"honey, it's not you vs. skank. It's you versus EVERY skank. It's like she's a mighty Spartan warrior but there's a… https://t.co/hPmR9agoV3\",\n",
       " 'My grandmother was a maid. Those were the only gigs avaliable to dark skinned women in the very early 1900s. Through her skil set she became a top home economics professional for Chicago wealthy whites. Sent my pops to Unv Chicago, aunt to northwestern. Stfu lil bitch.',\n",
       " 'well ya standards are pretty low bitch #MKR',\n",
       " 'RT @Hdharris_irl: @raininblack personally I am just glad when they use the actual word and not feminazi',\n",
       " '@LisaMRomano but greasy haired Colin is a judge so messy yuck is IN 😂 #mkr',\n",
       " 'Sucks to have the smile wiped off your own face huh Kat? She in a glass house should not throw stones. #mkr  #mkr2015',\n",
       " '@asyrafx sbb kau bitch hahahahaha',\n",
       " 'i love knowing which cardinal direction various shit is. i love telling people \"its a few blocks east from here.\" im oriented as fuck bitch',\n",
       " '@AtticusGF Bc it fits the sexist narrative that men are the true victims and women are hysterical',\n",
       " '@KeithOlbermann You are a hysterical moron. https://t.co/37l7TuTdwh',\n",
       " 'Well... The Hoes might pull this off.... Pardon the pun!! #mkr',\n",
       " 'Why did women vote for Trump? bitches will vote for a bitch',\n",
       " '@NicolaSturgeon don’t tell her, show her. The country is waiting #indyref2 https://t.co/SaW2ShlVMn',\n",
       " 'Talent- Fucking up EVERYTHING',\n",
       " \"I hate When girls don't wanna start anything cuz they don't wanna ruin your friendship I DIDNT WANNA BE FRIENDS FROM THE START #WomenSuck\",\n",
       " '@PJBuckeyeFan @OHWildBill @BuckeyeGurl99 @buckeyenut82 @FullMichigan @PantalonesGordo @larry1ventresco @BuckeyevsTworld She blocked me too and I never said anything to the skank 🤷\\u200d♂️',\n",
       " 'RT @TwoThug4U: @YesYoureSexist but honestly stereotypes are light-hearted and usually harmless. Let people joke around.',\n",
       " 'MegynKelly is skank. Whore paid $$ for what? Only thing left to watch on .@nbc anymore is SNL. More truth to them t… https://t.co/Z6ZJWR2N0V',\n",
       " \"Why is twitter filled to the brim with cancer random uninteresting egirl drama lately. Nobody fucking cares, you're all fucking hypocrites begging for attention, with the exception of a few ofc. Go whore yourself out on Instagram or some shit. Stop ruining twitter :) https://t.co/vQF3O3DDq7\",\n",
       " '@crpfindia Those who rape women are talking about women role. #rapistsinuniform.',\n",
       " 'Hysterical over here bc every bitch with eye liner & an iPhone 7 is a model now 😂',\n",
       " \"RT @JackofLondon: “@myallsw: Nice arm pit vagina #MKR http://t.co/sv9HLKQ2aM” It's deconstructed.\",\n",
       " \"There is nothing sexier than a chivalrous man. #benevolentsexism is bull💩. #FeminismIsAwful &amp; #feminazi's are ridiculous. @TheFive.\",\n",
       " 'Its a dirty game out here yo',\n",
       " \"ALSO PRETTY SURE YOU DON'T HAVE THE RIGHT TO BE A PSYCHOTIC CUNT TO YOUR EX WHEN YOU'RE THE TRIFLING ASS WHORE WHO CHEATED IN THE 1ST PLACE\",\n",
       " 'Sympathy levels rising.... \"We\\'re still two hot blondes\" &amp; it\\'s gone... #mkr',\n",
       " ...]"
      ]
     },
     "execution_count": 47,
     "metadata": {},
     "output_type": "execute_result"
    }
   ],
   "source": [
    "df_test[df_test['prediction']>.5].sort_values('prediction', ascending=False)['text'].tolist()"
   ]
  },
  {
   "cell_type": "markdown",
   "metadata": {},
   "source": [
    "Non-misogynistic:"
   ]
  },
  {
   "cell_type": "code",
   "execution_count": 48,
   "metadata": {
    "pycharm": {
     "is_executing": false
    }
   },
   "outputs": [
    {
     "data": {
      "text/plain": [
       "['@Boarhound the number of times lately I\\'ve seen unironic use of \"feminazi\", \"pc police\", and for fucks sake \"thought police\" astounds me',\n",
       " 'You should be humiliated Kat! You are awful!!! #MKR',\n",
       " \"Drasko only likes his mum's hot pot, especially when she's drunk and unconscious #MKR\",\n",
       " 'Why does this stupid Herrera guy pass the ball without taking a touch then when he loses it presses like a cunt?',\n",
       " 'And just when I thought it was over, they pull me back in!  #MKR #MKR2015',\n",
       " '@JTheJudge The thing is some men are shy and some women are more forceful like me: not all men are the out front protectors.',\n",
       " 'RT @JordanWalker654 Lucky to come off that bus alive #womenbusdriverproblems #notsexist',\n",
       " 'Is there enough blue in the wardrobe department!?\\n#mkr',\n",
       " \"RT @lwilliams0594 I'm not sexist, but this woman bus driver has nearly killed 2 pedestrians in the space of 4 minutes #sortitout\",\n",
       " 'If Cameroon got called for an ankle, THAT BITCH WAS DEF OFFSIDES.',\n",
       " 'yeah colin would be looking for more fat in his sausage.... #MKR',\n",
       " 'Maybe if women want to stop being seen as inferior to men they should stop acting inferior to us!^',\n",
       " \"@picklepikkl @UnburntWitch no they're right\",\n",
       " '@photokill1 @TheMercedesXXX @GGmad_cat @Liberal_Lunacy me? One woman army. I melt feminazi brains or convert them to non zombies',\n",
       " 'Nicki\\'s \"that\\'s not good\" pout bought to you by Botox[™].\\n\\n#MKR',\n",
       " \"You're ugly. Caking on makeup can't fix ugly. It just makes it worse!\",\n",
       " 'Your little brother is a little bitch https://t.co/LRxERLsphq',\n",
       " '@Michael2Wallace i didn’t know kyrie irving was a bitch made diva',\n",
       " \"Not all men? True. But you wouldn't play Russian roulette either, but you're asking women to do exactly that. Trust has to be earned. #MeToo\",\n",
       " \"The other teams KNEW kat would vote strategically, why wouldn't they score higher to get rid of kandre #mkr #cunce #katisadog #katisdirt\",\n",
       " \"I've yet to come across a nice girl. They all end up being bitches in the end #WomenSuck\",\n",
       " '\"someone is going home, absolutely\"\\nwell, yes. #MKR',\n",
       " '@ugobananas OBVIOUSLY',\n",
       " 'RT @TheQuinnspiracy: At least Amazon had the decency to unpublish rape fanfic about real people. Christ.',\n",
       " '@aboyseth mermaids are women. Therefore they suck and have to be sacrificed #WomenSuck',\n",
       " 'Lee \"Scratch\" Perry &amp; The Upsetters - Lover\\'s Skank (aka Spanglers Clap)',\n",
       " \"Today's status: 👍😎\",\n",
       " '@AnnCoulter LOLSO TRUE!!I THINK BOOKER IS WINNING THE BATTLE OF MOST HYSTERICAL WOMEN AT THE KAVANAUGH HEARINGS!!!@CoryBooker',\n",
       " \"Fucking clueless woman should stay in the kitchen and not ruin a good man's name. - A United fan after reading this, probably\",\n",
       " \"RT @robertosamalia: @YesYoureSexist um I mean teen/young adult books, yeah there's Harry Potter and Percy Jackson but that's about it. Sorr…\",\n",
       " '@nyvic26 And 4. I was calling you the sexist. Obviously. It applies to YOU. Don’t not all men me when you can’t eve… https://t.co/ZKePJasmB1',\n",
       " \"I wish men would listen to women and call out their fellow men for their sexist behavior instead of instantly going 'not all men'\",\n",
       " '@jimmycarr Have you got the camel toe, too?',\n",
       " \"@TheRickWilson Perhaps Ann meant to tweat that she wished she herself had been present to compete for the most hysterical woman? Regarding Kavanaugh, as Harris & Booker's questions revealed, I felt that he was less than decisive, forthright with his answe\",\n",
       " 'Baba is asking if you liked the number 69, that number before 70, you get? Jeez! You have a dirty mind😁 https://t.co/ye6WtK3e9N',\n",
       " \"Dear Facebook, Jus coz I have these whores numbers in my phone doesn't mean I want them seeing my personal life, please stop suggesting them\",\n",
       " \"RT @ur_so_vanilla: Nikki &amp; Katie, didn't your 'love for boys' teach you that no two sausages are ever same? Especially Eastern European one…\",\n",
       " 'Kats face when the score was announced made me want to puke eww wtf #mkr',\n",
       " \"@themeredith I should probably make you my WCW now cause after I fuck you I'm never gonna talk to you again... At least I'm honest ☺️\",\n",
       " 'RT @missbekasue: People with babies, keep posting about how shitty they are so I always feel good about never having any.',\n",
       " 'RT @NoToFeminism: I don’t need femisnsn because men carry heavy things that i cannot!!! like shopping, boxes, and a huge sense of superiori…',\n",
       " \"@DegenerateBoy @scalzi that's not funny.\",\n",
       " 'Just asked him if sexual harrasment n rape r even recognised as crime in Islam or if yes why only women is guilty… https://t.co/rQCvLK8Rf9',\n",
       " '#MKR - I am seriously considering not watching just because I have to see Kats face. God. I want to slap it with a spatula!',\n",
       " '@katiebambatie @mrbenjaminlaw Not all men abuse women so why should you need to have more faith in men who have don… https://t.co/yDRwzGcOaU',\n",
       " \"Ovide Mercredi to Paul Schabas, 'Char's a squaw. I attack Indigenous women all the time. No one will notice if you rape her! Rape her!'\",\n",
       " \"Celine does a good elephant, she's obviously had practice #mkr\",\n",
       " 'RT @Tweet_deseballs: We gonna get turnt for #MKR rest easy brosss gone but never forgotten #A4MKR',\n",
       " 'RT @pwreclive: @YesYoureSexist taking it way too personal yo',\n",
       " '\"@ErikssonMalin85: #QuestionsForMen ever walked home in dark seen another person and becomed scared?\"  Men are attacked 4 times more often.',\n",
       " \"Can't believe #cuntandandre are still in the comp\\n#mkr\",\n",
       " \"; a longer reply AND it's butt ugly? my apologies.\",\n",
       " 'I was just called a \"feminazi\" which is sadly not unusual on the show',\n",
       " \"When you ride past that bitch that don't like you https://t.co/zKED6TgVXE\",\n",
       " 'RT @girlziplocked: .@Jason you have no idea what \"crazy internet mob\" looks like until you\\'ve seen what @femfreq @freebsdgirl and @TheQuinn…',\n",
       " '“@LIncsgq: The girls could get a job at Hienz making baby food #MKR2015 #MKR” No! Think of the children! The children!',\n",
       " '@Galaxy_Allie No, feminism opposes choice of parenthood via financial abortion for men.',\n",
       " \"@SharkFu that's absolutely hilarious\",\n",
       " 'RT @ducesettutamen: @JustLaurenB @MT8_9 Pretty much this. http://t.co/5DlDx5HCtq',\n",
       " '@hanipreet_kaur @ZeeNews What are you saying? You are not daughter of ram rahim. ?????',\n",
       " 'http://t.co/ZxbZV39jru: Playful cat #gets a surprise from her brother! http://t.co/312xj3mxAu #coon #maine #playful',\n",
       " \"I just want you to be my girlfriend without being my 'girlfriend' so I can fuck other people and you can't... Is that too much to ask?\",\n",
       " 'Last year I cuffed that bitch well now it’s over @ChiefKeef',\n",
       " '@the_author_ @UnseenPerfidy In some respects it feels like a radical elimination of vocab. They know like 15 words. RadFem, feminazi, etc.',\n",
       " '@mykitchenrules Kat be humiliated from your attitude.. Not your cooking. #MKR',\n",
       " \"@g56yu @JillFilipovic @rsmccain @ShunCampusWomen There's a difference between a feminist and a feminazi. Fools call the latter the former.\",\n",
       " '@SkoomaPipe Because she\\'s not a \"feminazi\" and is really cool. I have a lot of friends with different views.',\n",
       " 'Men who get defensive about #metoo because “not all men are like that” are part of the problem. Women know not all… https://t.co/JylC8hwnyS',\n",
       " '@icecoldbulmers @AllisonMorris1 @johnfinucane Ps the disgruntled unionist excuse was a belter 😂😂😂',\n",
       " '@geofparry7 @7NewsPerth #olwyn has done you a favour then #mkr #shittv',\n",
       " 'Kat and Andre are behaving in such a spiteful, vindictive manner. Who do they think they are - #MKR contestants?',\n",
       " 'Not all men. Rather, all men and women - - and journalists - - working in Hollywood.',\n",
       " \"@TylerBucket24 I wish I had a dollar for every time I met people who didn't understand basic psychological concepts like confirmation bias\",\n",
       " 'Pro Tip- Gray board shorts show a dick print just as good as gray sweats',\n",
       " '@liverbird17 @RespectableDenz @PissOffHon My nan was a cunt and nobody liked her. One woman cried at her funeral an… https://t.co/eV0QSFwcXq',\n",
       " 'The problem with “women are sacred” idea: It is one half of the Madonna/Whore dichotomy, long used to divide women against each other. 1/2',\n",
       " '@breecarlson_ Long rape scene? Even though there was no sex scene in the movie, and the woman agreed to a rape fantasy, then stopped it? LOL',\n",
       " \"I wouldn't have done anything if you didn't express any interest THE BITCH WAS 12 YOU MOTHER FUCKING CUNT. HE REALLY IS TRYING TO JUSTIFY HIMSELD..THIS IS EXACTLY WHY HE SHOULDN'T HAVE BEEN RELEASED\",\n",
       " '@thehill Coming from a hysterical woman.',\n",
       " \"RT @lismarie56: Oh, you're humiliated Kat? We've been embarrassed for you ever since this show started #mkr #MKR2015\",\n",
       " '“Officials were saying that mass rape couldn’t have occurred because Rohingya women were too filthy.” On Myanmar https://t.co/x5ARlKSHE8',\n",
       " \"I'm kind of a big deal for someone who ain't shit\",\n",
       " \"Hey boys instead of saying 'not all men' how bout you just ya know stop raping us\",\n",
       " '@Cmacf76 @NicolaSturgeon Yes but inclusive training of normal heterosexual young children with febrile coercive young minds about abnormal sex &amp; same sex partnerships is brainwashing them',\n",
       " '@Adrian357Adrian @ianlfc05 @ClinicalFirmino I have a big cock, doubt you can say the same',\n",
       " \"#KatandAndre: safe one day, but it's not how long you may go, but how far does your knife throw? #MKR #MKR2015\",\n",
       " \"That kitchen looks like they've re-enacted '2 Girls, 1 Cup'.\\n\\n#MKR\",\n",
       " '@parscale @Google Shut the fuck up snowflake! I think Communism and Natzis pose a hell of a lot more of a threat to democracy. Fuck your so called republic dictatorship. Google is doing America a great service if they are in fact censoring the Alt right c',\n",
       " 'i swear to god if any of these people snapchat me dick pics they are getting posted on my site.',\n",
       " 'i was called some type of whore or slut bc i was more developed. like since i was like 11 man https://t.co/l4nXZwnjtj',\n",
       " '@thehill No doubt cory wins most hysterical women his eyes are popping out of his head foaming at the mouth',\n",
       " 'Someone really wants to keep them in #MKR',\n",
       " '@NotChrisSmith Is the fact that women are asked that question \"sexist\"?',\n",
       " 'he’s such a fucking WHORE he knows what he’s doing https://t.co/Wfvq0Raz6V',\n",
       " \"For the viewers who are unable to read a bio, this account is for pure entertainment. Its a joke, like woman's rights. #YesAllMen\",\n",
       " '.@BoycottBrandy No, those are lies, too.  Read the Hanna Rosin article to understand why claiming your proof as proof is pathetic. #EqualPay',\n",
       " 'to everyone saying hyuna ruined edawn and pentagon needs to shut the fuck up. she didnt ruin it, yall who complained and sent hate to her did. because of yall sensitive and jealous asses this is what we, actual fans get.',\n",
       " '@JuliaHB1 Are you actually advocating making up claims of rape for personal gain??? That’s pretty vile (@lilyallen)',\n",
       " 'Dyke Drum Line 🥁 #DykeMarch #DykeMarchnyc @NYCDykeMarch https://t.co/aJjy6pmqUj',\n",
       " \"@UnburntWitch That's over $1200 in 2019 money lmao\",\n",
       " 'RT @sensip40: The broken ladies of my and younger generations fail this description in one way or another. And the men are to feminine to d…',\n",
       " 'If Ash wins her hair will stand on end! Oh wait... #MKR',\n",
       " 'Stick to your day jobs girls #MKR',\n",
       " 'How you bitches look with your snapchat filters https://t.co/nOkSlAMy0Y',\n",
       " \"@_JuicyGina you've turned into such trash #WomenSuck\",\n",
       " '@DavidFeild @ThelmaSleaze @the_author_ and why was the statement \"white women only\"',\n",
       " '@Bigbuffpuff @JessicaValenti Amen sister',\n",
       " \"I cannot STAND Kat and Andre. I don't even want to look at them right now. Kat is literally Satan in a red dress tonight. #MKR\",\n",
       " 'RT @immichaeldixon: Katie and Nikki, smug, vacuous, condescending, putrid, self congratulatory and bland. There. #MKR',\n",
       " '@keansburgirl67 @collectdust Nah, the only worthless skank here is you. Good job outing yourself.',\n",
       " '@Tomas3percenter Dyke.',\n",
       " \"@Oterooooo @Tigraah So you hate 'Ominous' as a hole because of this... seems legitimate and highly mature.\",\n",
       " \"RT @davidsgallant: @freebsdgirl They should call you d20, 'cuz who even knows how you're gonna roll.\",\n",
       " '@lilbeastunleash who knew that was how to do it! #MKR',\n",
       " 'someone: not all men - me: yes, you are right. lee everret would not do this',\n",
       " '\"Edgy\" means u get 2 complain about how persecuted you are for saying horrible things while u continue 2 face no consequences 4 saying them.',\n",
       " '@Snewsma @AgentP22 @NicolaSturgeon A crowd of racists. Open to all? What a joke. So anti English. You should be ashamed',\n",
       " 'THIS IS SO CRINGEWORTHY #MKR',\n",
       " \"When I'm trying to figure out how my dick hasn't fallen off yet https://t.co/dJapP8DPAT\",\n",
       " '@liamxkiwi @greenlinerzjm @halalflaws @biebervalue Another Muslim blowhard. The average GDP in Saudi is less than the US. And women r slaves',\n",
       " 'keanu shaved his fuckinh beard what the FUCK bitch',\n",
       " 'They better have spatched their own cock. #MKR',\n",
       " \"You're a horrible parent. @jrdrury13 Call me sexist but my son can do whatever he wants lol my daughter not so much\",\n",
       " 'But sexism is totally over, laydeez: http://t.co/nvFHi52cgy',\n",
       " '#MKR Are these two for real!',\n",
       " 'Keko, feminazi.',\n",
       " 'Hurry up! Kat and Andre are dicks #mkr',\n",
       " '@Saffronian Ahh, the militant feminazi finally came out. I never posted a single violent word, yet you spew violent hatred and insults.',\n",
       " 'The boys!\\n#cattery  #coon #cats http://t.co/iXbBB65YWf http://t.co/EnyxaPRXi9',\n",
       " 'NEW The Dine &amp; Dash Dater https://t.co/92CstDJjUO #single #singles #nyc #boston #story #amwriting #blog #blogger #advice #listen #comedy #podcast #instalike #instadaily https://t.co/qbQ1TJI6fi',\n",
       " \"@LeoKikiLady89 Men's rights activist or advocate.\",\n",
       " 'Now his slag mother has been blown up hopefully that lil cunt gets it nxt as well https://t.co/BTmxENcXKR',\n",
       " 'What. 😦 #mkr\\n\\nThat was. Not ok.',\n",
       " 'RT @TRobinsonNewEra: http://t.co/enEd81tCJf\\nMangaluru: Women allegedly assaulted for opposing loudspeakers in Madrasa',\n",
       " 'When someone leaves a dumb comment https://t.co/fByPKwCCiX',\n",
       " 'RT @ashleylynch: No remark necessary for this one. http://t.co/iswNgFsgOw',\n",
       " 'I was watching a fight on Facebook that was edited and the one bitch got hit so many times they said “combo whore” 💀',\n",
       " '@BrandesStoddard The princess is destined to evolve into the next queen when she one day has a daughter. At that time the current queen will be killed so that the new princess can construct a throne from the bones of her grandmother.',\n",
       " '@eminemtbfh @iconicora \"It is fact.\" &lt;-- offers no evidence',\n",
       " '...Screaming for decades ?When was last time Roe v Wade was actually threatened?Asking honestly...@SenGillibrand please, shut the fuck up.',\n",
       " '@nowthisnews I believe Putin has a video of trump screwing a 12 yr old in Moscow hotel. Trumps resorts are whore houses for the rich. He golfs a lot.',\n",
       " 'RT @OlieCoco: Fingers crossed Kat &amp; Andre go into sudden death - where they belong! #mkr #katandandre',\n",
       " \"And that's KARMA #annieandlloyd #MKR\",\n",
       " '@dodgers_randi That was butt ugly. Rockies feel pretty good right now. Wake up offense and defense',\n",
       " 'shoutout to the kid(s) who wrote on the dirt on my car saying I was a bitch and a whore :)))',\n",
       " 'I usually dont hate people but I actually hate that bitch. You tried to be friends with me outside of work and then when I had a crisis you decided to be professional and use that against me. Thats the worst type of person. Fucking cunt will get hers though.',\n",
       " '@darxtorm sigh',\n",
       " \"@Saffronian Don't worry. You were never Armenian. Your name means nothing other than showing your true colors. Man hating feminazi lunatic\",\n",
       " '@MartyRea79 @GlaikitGeezer @TheScotsman @NicolaSturgeon Haaa Haaa..what you gonna do like....Get the dump shut and get you scroungers off the dole and doing something useful for a change',\n",
       " 'RT @EBeisner @ahall012 I agree with you!! I would rather brush my teeth with sandpaper then watch football with a girl!!',\n",
       " '@The_UnSilent_ Look, I thought the same thing at first. But, cmon. We have to give the woman the benefit of the doubt. That may not be the white power symbol at all. It may be the secret signal for the Im a Feckless Fucking Cunt club. Maybe she wants to j',\n",
       " \"I can't even watch my kitchen rules without cringing at these girls #MKR\",\n",
       " 'Get rid of that Kat. The worst person I have ever seen  #MKR',\n",
       " \"@brikeilarcnn this really burns you as a feminazi doesn't it?\",\n",
       " '@AnnCoulter @jimd22551 I think Cory Booker wins the competition for most hysterical woman.',\n",
       " \"Says man who suggested an actress reported an historic rape to gain more work - you're a fully paid up cunt - https://t.co/ia9wKnM5Tm\",\n",
       " \"@trishesdishes  No.  Name one men's right they fight for...\",\n",
       " '@reeealbigsean the reason that ship sank and those guys died is because there is a woman on board of the Maverick. #notsexist #superstitious',\n",
       " 'Ew @Matty__Clark Been going to social clubs since i was 12 and to see women in the main bar is mad like just not right. #notsexist',\n",
       " \"RT @victorymonk: .@MT8_9 @McEntropy @Superjutah @Shermertron fathers who can't pay child support is the only noncombatant group who can be …\",\n",
       " '@NicolaSturgeon 48% of transwomen serving 6mth+ sentences in UK prisons are sex offenders.\\n\\nTranswomen are usually unmedicated heterosexual men &amp; have the offending profile (unsurprisingly) of unmedicated heterosexual men.',\n",
       " \"Turn up your hearing aid? A thought @C_tWINO I'm not sexist but it's nearly impossible to listen to a girl talking about football on ESPN\",\n",
       " '@realDonaldTrump YOU FUCKED PUERTO RICO & THE PEOPLE AND YOU KNOW IT! MY OWN FAMILY MEMBERS BORE WITNESS & LIVED THRU IT! AT BARE MINIMUM, STFU INSTEAD OF ATTACKING WITH LIES & BULLSHIT! YOU & YOUR PAPER TOWEL THROWING BULLSHIT! YOU FUCKING LIAR!! PIECE O',\n",
       " '@aninkyaffair I am jealous.',\n",
       " '@Gigaho @Neburrr1Neburrr Fuck love a loose kunt you can jack off into',\n",
       " 'A 10-year-old rape victim gave birth in India\\xa0–\\xa0and the girl was unaware that she was ever pregnant. https://t.co/ZKbGz5O2DP https://t.co/6Cqj4RLPZM',\n",
       " '@UnburntWitch That lime has a HUGE patch of fuzzy white mold growing on it',\n",
       " \"Have a feeling u'd find s'thing 2 complain about. @Hheath10 wouldn't care if she was just an average ref but she got it all wrong #notsexist\",\n",
       " 'its melting because you didnt put it in the freezer before you served it you dumb skank! #MKR',\n",
       " '@harikondabolu is a national treasure',\n",
       " '@V_Bottoms @plumperpass I hope you love monster cock',\n",
       " 'RT @lukeyook: If they think that dessert is refined and beautiful, now wonder they think they are pretty. #MKR',\n",
       " \"@AllisonMorris1 Exactly Allison. Situations like these reveal a person's true character.\",\n",
       " \"Never thought I'd feel bad for #promogirls, but that episode got me right in the feels. And now I feels like punching Andre #MKR\",\n",
       " 'RT @MensHumanRights: @MT8_9 @UndeadTurning @Mich_McConnell @Cerebrawl80 @TamedInsanity She doesn\\'t know cuz, \"Math is hard\" but, some Gende…',\n",
       " '@kellyhamilton49 @BachynskiBomber @SethAbramson Says the woman who supports rape',\n",
       " 'Not all men but yes all women ¯\\\\_(ツ)_/¯',\n",
       " \"'Cunt again? It was odd how men like Suggs used that word to demean women when it was the only part of a woman they valued.'\",\n",
       " \"Feminists become radicalized when they refuse to submit to their urges to be subservient to men. It's science...\",\n",
       " \"RT @candycandyilove: And for dessert, a dropped pie -like Katie's face #mkr2015 #MKR\",\n",
       " '@Shaunnagh just saw your tweet on #mkr!! These bimbos should go!',\n",
       " \"I'm voting for Marion Barry for president... That's right, a dead crackhead is a better choice than what's being offered\",\n",
       " '@1800PetMeds Macchiato would love cooking in Home Ec class! She could stay in the kitchen and sample what she made :) #win #contest',\n",
       " '@cwoodfield yah. mgt fund fees are pretty low. ~$25/year.',\n",
       " \"@brushyblues @KellyTurner99 She's in that warp where political correctness trumps reality.  It requires a lot of compartmentalization.\",\n",
       " \"@NicolaSturgeon Yes men are often the victims of male violence. That doesn't make them women.\\n\\nTry doing something about male violence please.\",\n",
       " 'How long until Kat heats up her crack pipe over the BBQ? #MKR',\n",
       " '@mar_vickers @GraceBrodie @NicolaSturgeon See you say she said that, &amp; then you tweet her saying something else. Are you deliberately misinterpreting her words, or is that what you actually believe her words mean?',\n",
       " 'I could give Colin a workout! Just saying #MKR',\n",
       " \"#HalloweenCostumeIdeas Kim Kardashian's vagina... In other words, ground beef.\",\n",
       " '@theeagle1111111 Not all men. Some. And at least im not defending them like you are with the pussy grabber',\n",
       " '@mykitchenrules #MKR The girls are bringing some \"Sassy-ges\" to the table.',\n",
       " \"@UnburntWitch Don't look back in anger...\",\n",
       " '@AnnCoulter And here they are! The most hysterical women at the #KavanaghHearing!',\n",
       " \"Niggas think their dick is big when they put it in and you gasp.... first of all I've been holding my breath cause your breath stank\",\n",
       " \"RT @JulianDeVizio: Can't get enough of My Kitchen Rules at the moment #MKR\",\n",
       " \"Via Daniella Peled 'hysterical' Jews and 'frenzied' women https://t.co/uGgFiMioSI\",\n",
       " \"I say 'I do' a lot for someone that would never say I do...\",\n",
       " 'Goals AF https://t.co/dqTQ26GqZi',\n",
       " '@lloydkennedy28 @MaxBlumenthal ROFL. Good one.',\n",
       " 'RT @mark_fulton: Drasko paints over the Mona Lisa cuz he thinks it needs more yellow. #MKR',\n",
       " '@Stan_Philo agreed.',\n",
       " 'the penis is a standard unit of measurement, you feminazi',\n",
       " 'RT @ThePatriot143: DEAR STATE DEPARTMENT: WHERE IS HILLARY CLINTON’S OF-109 FORM http://t.co/aNkzFa5iVP #HillaryEmail #tcot #PJNET http://t…',\n",
       " '@NigglyPuffsJr EDGY THREADBARE HUMOR IS EDGY AND THREADBARE',\n",
       " '@jacquard612 @Loveussr Go back to sucking off your little Nazi master, Putin. You are blocked.',\n",
       " 'Can ya stop putting this bitch on my TL, I haven’t even opened the video and I already know it’s about to be loud and annoying af lol https://t.co/ZHLuD8uFKz',\n",
       " 'So bummed the dull chicks on #MKR are using such a great name for their restaurant. #Sassy #Iamlatetothepartytonight #IQ',\n",
       " 'RT @QuiltingMuriel: My mother fought 2 vote at the beginning of last century. Incredible women must still fight 4 equality &amp; safety in this…',\n",
       " '@HTC_GabriellaW @TexansCheer Here comes your camel toe pics the entire world is gonna see',\n",
       " \"If you've ever laughed at a dead baby joke, or chuckled at a dead lawyer joke, then don't bitch about a rape joke. Perspective, please!\",\n",
       " 'I bet Drasko loves a bit of spatchcock #MKR',\n",
       " '#MKR #MKRAUS This will be my face when your nasally, bogan head is banished from my TV! #superbogan #cheats #ihateyou http://t.co/2PNnMR0r5f',\n",
       " 'The one thing that could actually end the \"harassment\" of #GamerGate... http://t.co/RuMt3nVPXS',\n",
       " \"RT @PatriceChienne: Everything is deconstructed. They're no good at erections then? #MKR\",\n",
       " 'if u like #MKR, i like u',\n",
       " '@hoshigang bitch why are you digging up middle school memories',\n",
       " 'His bitch stay on my social media. Why? Idk. You’re sweating me mama chill',\n",
       " '@JessicaValenti \"Why don\\'t they come forward? If it\\'s rape, the court will punish them!\" https://t.co/ZNC9yFTsej',\n",
       " \"Ain't that the truth https://t.co/M21cQHhrht\",\n",
       " \"When you're flexin on these bitches https://t.co/7fR6wozeU4\",\n",
       " '2 really slow days. [ not even sarcastic, this is considered low volume ] http://t.co/J0UNIsPQkc',\n",
       " '2014/15 Coke puts names on cans 2016 Coke puts lyrics on cans 2030 Coke puts dick and pussy pics on cans',\n",
       " \"We are not all men and women of God in this context, I'm not talking generalization, I'm talking about Gods prophet… https://t.co/Fpv0cEs0Co\",\n",
       " '@Brokenshard_ @LSXYZ9 ram man, why are you such a white knight on social media?',\n",
       " \"RT @melbsonmymind: I have that ice cream maker. She's got the central insert in upside down. #mkr\",\n",
       " '@EdWardMDBlog @haaretzcom Why would I care about your insane BS? Are the Daesh Libya?',\n",
       " '@TomiLahren Sorry Tomi not all men were raised correctly! I was raised that all women are ladies until they prove otherwise!!!',\n",
       " 'RT @DavidCleevely: Raspberry Pi Foundation looking for a new CEO. One of the most exciting jobs in the charity sector!  https://t.co/GnoefX…',\n",
       " '@JessicaValenti @Good_Haro Reading this makes me feel disgusted. Rape is any instance you are forced into sex without your consent',\n",
       " 'Man taylor tweeted this cause i aint stay in the kitchen w her why she cooked dinner lmfao',\n",
       " \"Kat's face on hearing the score. #mkr http://t.co/5rHJcyLSok\",\n",
       " 'Every time I try to read this book I get to the part where school &amp; YA are a murderous feminazi conspiracy, and stop http://t.co/W03kbqJQqZ',\n",
       " \"@theMirai @gigagiga333 You can't just generalize. You feminazi's wanna generalize when it suits you but get special treatments individually\",\n",
       " 'RT @join_oapi: Revenge Porn and doxxing was just banned from Twitter. http://t.co/e0LndwyWJA https://t.co/m2ZigUXYSh',\n",
       " 'The woman who accused Nelly of rape last weekend is dropping her case. Should he get a public apology? https://t.co/iBw0SdxuPL',\n",
       " \"Ash &amp; the brunette one People's Choice #mkr 🎈🎈🎈 http://t.co/NwMHtTHuGr\",\n",
       " 'Well it seems that Trump tweet has cooled off, wow being a woman and insulting him do not go well together, you just get called a skank and get told you have STDs but I mean the misogyny goes with the base I guess lol. Also someone called me a hick which is the ultimate irony wow',\n",
       " \"According to Yik-Yak, I'm a Feminazi. So beware or I'll smite you with my uterus\",\n",
       " 'Kat and Andre are a bit “Sassy” tonight.. #mkr',\n",
       " \"Last night God took Dan out of the He She and now women won't find as much energy to bitch w/ about men. The bogus agenda needs to stop now\",\n",
       " '@TheSunNewspaper #pinkbus the feminazi bus arrives in Wales Tomaz @TeamSophy2015 @F4JOfficial @DaveyoneF @fathers4equalty #votedad',\n",
       " 'Fuck everything. Back on the road.',\n",
       " 'Im already bursting into tears what the fuck bitch the love of my life will be there',\n",
       " '@DanielleDASH @mikeleffingwell his wife Barbara',\n",
       " 'Women are children. They require men in their lives to set boundaries and teach them lessons.@',\n",
       " \"Darlington Rape Verdict: Attacker with hatred of women who described England as a 'bitch country' https://t.co/NgZi7Swttv\",\n",
       " 'This is why I hate people https://t.co/19E4rarP5j',\n",
       " 'a dyke in my mentions\\nsomeone pls escort them out',\n",
       " '.@usdnobody @graphicfire I was sure it was fake...until it went too long...no one works that hard on a Poe...just vapid childish PC trash.',\n",
       " '@DanielleDASH Can you keep your voice down plz',\n",
       " '.@cooperlewis_  None. I was going to go w/ \"toxic femininity\" or something if they answered but #50ShadesIsAbuse has great plate discipline.',\n",
       " '@cwgusu Your example is 42 years old, you realize?',\n",
       " '@MairiJCam @ValDobson @NicolaSturgeon @MhairiBlack Wikipedia: \"A\\xa0woman\\xa0is a\\xa0female\\xa0human\\xa0being. The word\\xa0womanis usually reserved for an\\xa0adult, with\\xa0girl\\xa0being the usual term for a female\\xa0child\\xa0or\\xa0adolescent. The plural\\xa0women\\xa0is also sometimes used for female humans, regardless of age, as in phrases such as \"women\\'s rights\" 1/',\n",
       " '\"It\\'s a deconstructed tart like us.\" #MKR',\n",
       " 'Are they going to \"sudden debt\" or \"sudden death\"?\\n\\n#MKR',\n",
       " 'My fave too now bring on the #salmondish #MKR yuuuummmm #peopleschoice http://t.co/aLVZUYUJ4y',\n",
       " '“not all men” but like... it’s a solid 78% of you guys',\n",
       " \"@amberhasalamb  Separate conversations.  She told a guy concerned about circumcision that he can't get laid.  Exactly what she whined about.\",\n",
       " 'RT @emilypoultney On Halloween girls should go out with no makeup on, now that would be scary',\n",
       " 'Pokemon Gooooooo fuck yourself',\n",
       " 'RT @syazlicious: Best describes Kat and Andre #mkr http://t.co/Qaa6BWi4PM',\n",
       " 'Kat and Andre scored strategically just so stay in the bloody competition. SO UNFAIR! #katandandre #mkr #katieandnikki',\n",
       " '@ayeeetippp same AF',\n",
       " 'See you GF week #mkr for the real stuff #boring #imdone',\n",
       " 'RT @Bunnie_girl57: How did they get a 7 for that stupid desert yuck  #MKR',\n",
       " '@Bryan_G_URU @Antifada161 @UnburntWitch Says who?',\n",
       " '@DQTwitchStream Allegedly did Hartnells ugly wife.',\n",
       " 'When her head game is as good as she claimed it to be so you gotta smile and thank god 🙏🏼 https://t.co/WtXYbiJNBH',\n",
       " 'a women without a man is like a car without an engine; it doesnt work.',\n",
       " 'Drasko in #MKR looks unnervingly like crazy Clay from TV show #Banshee',\n",
       " 'And then some bent cunt turns up for a flyer.....last time on this shit hole!',\n",
       " 'RT @TastelessGents: When you first start dating vs a year later https://t.co/vTFfxoGGeJ',\n",
       " '@DefaultProphet this even caused some controversy, iirc.',\n",
       " 'Does he think women will like him more if he capitulates to their hysterical agenda? Or perhaps he thinks that mock… https://t.co/6ttTEGdzAo',\n",
       " '#mkr is it ok if I hit Kat? Cause that was not cool',\n",
       " \"@JustJennnnnni @seroovilbrooks That's what's so ridiculous to me. It's like watching the 'feminazi stole my ice cream' thing in real life.\",\n",
       " '@mykitchenrules #MKR #mkr2015 #IHateThemAndTheirGuts they should have been eliminated from the competition ages ago hahahhaha yeah xoxo',\n",
       " 'My dicks name is Curiosity... Cause it kills the kat',\n",
       " 'My bathroom vs your boyfriends https://t.co/jameGae0SU',\n",
       " \"Just because a woman decides to drop charges concerning a rape allegation doesn't mean it didn't happen. The legal… https://t.co/iiCbGA3kVY\",\n",
       " \"Food's not for you, lol @KING_CONNAR Coming downstairs and four girls are cooking dinner, not sexist but not complaining\",\n",
       " '@IAmThe1Teacher @IronmanL1 @stevecorrales80 Try reality teacher. http://t.co/X8sqLd5jZU',\n",
       " '“The Fat Girl Behind the Fitness App” by @naomialderman https://t.co/VGb5Dluy3a',\n",
       " \"When someone says they're unfollowing for what I post on MY FUCKING PAGE.... FOH https://t.co/KKZq7w5LtC\",\n",
       " 'I see your maturity level has remained at the same level as then @billyhiphop Not sexist but the last thing a woman changed in me is diapers',\n",
       " \"News flash: It's not for you. @_REDDY71 A word to all the ladies in very short skirts or shorts this summer - 'Thanks'. #NotSexist #Grateful\",\n",
       " 'JODER xDDD @InkingMyPast @feminazi',\n",
       " '@Brandy_t_alex @TgirlPromo1 Mmmmm sweet pussy hole :) xx',\n",
       " \"Friend- I'm getting married Me- https://t.co/hzRDvjRHJU\",\n",
       " \"your girlfriend a major snorter but that bitch ain't worth a quarter 😬\",\n",
       " 'When someone with stank breath tries talking to you https://t.co/ASyQxZrM3u',\n",
       " 'that is very true, any good Psychologist will tell you the same thing. Rape is rape by a more powerful assailant. https://t.co/juHGriHSvQ',\n",
       " \"RT @PatriceChienne: Deconstructed lemon tart, because we're too bloody lazy and incompetent to do it properly? #MKR\",\n",
       " 'Dudes, We love all the RTs/Likes &; enjoy a few comments here/there. But cock pix &; writing novels under our pix/vids gets you blocked! 😠',\n",
       " 'Pro Tip- Stop thinking you are special... You in fact are not',\n",
       " \"So @CoryBooker is a faker and a tool. And he's competing with @SenKamalaHarris to see who can be the most hysterical woman in the Senate. What a surprise.#Kavanaugh #Trump2020\",\n",
       " '@DrHaque @MaxBlumenthal @NYCJulieNYC @mehdirhasan @tnr You have to be dumber than a rock to think that ISIS wants a Jewish state.',\n",
       " '@harmlesstree2 Here. https://t.co/xWJzpSodGj',\n",
       " 'Following Kat &amp; Andre i would love Annie &amp; Lloyd to piss off they are almost as bad. Miss ray of sunshine is as fake as her hair colour #MKR',\n",
       " \"@WhoopiGoldberg When Roman Polanski drugged, raped and sodomized a 13 year old girl it wasnt 'rape, rape' right Whoppi? https://t.co/fmsGHPUZPh\",\n",
       " \"You ever look at someone and think 'yeah Ima fuck you'\",\n",
       " '@ChubsSays ...for life.  Yes.',\n",
       " '#mkr another reality tv twist. please stop. look how this secret round turned out.',\n",
       " \"LRT: It's fucking rich when women are delegated the lion's share of housework and then mocked for their prowess at it.\",\n",
       " '@KonradZ17 @JessicaValenti @denizoce You’re not wrong. I just don’t go easy when it comes to rape, as a rape victim. I honestly just hate to see it but you are right about the system!!',\n",
       " '@Republican_Mrs\\n#IDontNeedFeminism #WomenAgainstFeminism #feminazi http://t.co/0QCfPycW5p\\nwhen was the last Amazon empire?',\n",
       " '@MrAndyNgo Please don’t stop being kind. There are women out here that know not all men are pervs.',\n",
       " 'Even if a woman goes to a nude beach .. doesnt warrant sexual abuse assault or rape .. stop victim shameing #metoo',\n",
       " \"Yo @KJAllianceGoA it must suck to be that terrible at pvp. I'd have to invent rumors about being against 40 people too if I was that bad. :(\",\n",
       " '@MrStephenHowson you had a great chance to show everyone that you’re not a cunt on tv tonight and you fucked it up.',\n",
       " \"Me- refuses to answer anyone's phone calls Also me- infuriated when people don't answer my phone calls\",\n",
       " \"When you're fat but so cute that everyone loves you anyway https://t.co/k6j7xAbcEf\",\n",
       " 'can you choke me with your left hand and slap my head with that book and step fucking me on the face with those heels okay thank you',\n",
       " \"RT @NikFuq: @magali_c @YesYoureSexist another thing u haven't realized is that this post is a joke. A mock of posts I see during black hist…\",\n",
       " \"@themeredith and I'd rather shove the fat side of a wine bottle up your ass... We all have our preferences 🌚\",\n",
       " 'RT @thetrudz: + Lauren\\'s name. Defended misuse of \"chief!\" To an Indigenous woman critiquing settler colonialism! Then she insulted Aura, &amp;…',\n",
       " \"That's nothing new 🙄 https://t.co/lkXHwgSzK9\",\n",
       " 'RT @catesish: THEY JUST CROSSED THE STREET AND ARE NOW WALKING DIRECTLY OPPOSITE OF ME',\n",
       " \"@dylanw that's why I explained. I still think you're an asshole.\",\n",
       " \"RT @benpobjie: It's either Katie and Nikki or Kat and Andre to go, so as viewers we cannot lose. Or win. #MKR\",\n",
       " '500,000 angry Democrat women swarm Hollywood to protest rampant rape, misogyny and sexism Oh, wait............. Ne… https://t.co/8UZToh3opq',\n",
       " \"Shoutout to all the single moms that got pregnant thinking they'd keep a man &; celebrate days like today... lol how'd that work out for you\",\n",
       " '@RampaigerA79 @Gigglemittens @nomuru2d @mjanetmars @JamieAgathaRose @Chartoc being a washed up feminazi with no connections doesnt help',\n",
       " '#MKR #MKR2015 #killerblondes #mykitchenrules #eatlikelopizzo #funnyblog #episodesynopsis http://t.co/OQWFinbwc9',\n",
       " '@JessicaValenti Unacceptable I’m furious',\n",
       " 'd for DYKE',\n",
       " '@korvys 800 sq ft',\n",
       " '@asr1018 @M_pritchh @angela_idalia Hey skank you wanna take a huge step back before we have to get everyone on your… https://t.co/U3zSojqdvG',\n",
       " 'Women drivers no survivors',\n",
       " '@KKallDay36 @iRunNewJerz 😂😂😂😂😂 that dyke wild af https://t.co/2jiwy9kBQn',\n",
       " '@JagoSarbahaara @autumnrainwish you forgot Ram mandir',\n",
       " '@femfreq Anita is equating gamergate to cosby and weinstein so she can equate herself to actual rape victims so she can keep playing the card',\n",
       " 'I thought everyone on Twitter hated the butcher/promo girls when they were saying mean &amp; self-absorbed stuff about other contestants? #mkr',\n",
       " \"RT @join_oapi: We're looking for volunteers! http://t.co/uWFHoYhK4x\",\n",
       " '@EllieBaker92 Yes it is legit, Sweden is one place any living thing should NEVER visit.  Feminazi and extremist word is law there.',\n",
       " 'That guy kept going for a while, too. I think he proposed. Are we married now? Does this mean I have health insurance?',\n",
       " '@BristolBen Not aimed at you.',\n",
       " \"My uncle Vern said women get their peiods because it's the only way God could get rid of some of their evil #womenareevil #evilwomen!!\",\n",
       " '@jacksfilms Anti-Feminazi also uploaded the same video... just saying.',\n",
       " \"Thousands descend on Dolores Park for San Francisco's annual Dyke\\xa0March https://t.co/dhYyZLDX8U https://t.co/93CfSyESXc\",\n",
       " 'gozleme is taking way too long #mkr',\n",
       " '@combatbooty How are death threats any less reprehensible than rape threats? would you rather be killed than raped? #MeToo #NotAllMen',\n",
       " '@cakickboxher one day you will be that skank😥😎',\n",
       " \"Hey, Twitter, @Grasspunch is probably a rapist. If you google his handle you can also see he's a white stoner gamer. SHOCKING\",\n",
       " \"@aquarianfool same. it's a hard thing for me to talk about because i come from a position of privilege.\",\n",
       " 'RT @olivewhippet: Kat and Andre are serving \"floaters\" for dessert #MKR http://t.co/nhvsgYh3NF',\n",
       " '@prpltnkr you might remember me as that guy who you blocked because I called Princess Pinkie a feminazi.',\n",
       " \"This is how you support women. 'Not all men' doesn't cut it. Be better. https://t.co/hv2GPN1lmb\",\n",
       " '@Russell_Barth @Angry_Feminazi @liamfinn19 @PattyArquette ...maybe you should start reading these?',\n",
       " 'RT @Charlotte1776: #TweetLikeAFeminist Grandad nearly died working in coal mines, but grandma was the REAL victim for having to cook the fo…',\n",
       " 'Is it me or are teams missing on #mkr tonight ?',\n",
       " '@JamesMelville @NicolaSturgeon Have you seen this?',\n",
       " \"Guess one of em isn't too bad ;) #mkr\",\n",
       " \"RT @markthegraves_x: take that Kat &amp; Andre, scum of the earth LOL #mkr. I just can't with them...\\n#mykitchenrules.\",\n",
       " 'When you see your ex in public and they start smiling at you all weird n shit https://t.co/zE2IBpWTKm',\n",
       " \"m all back. Even Crowley. 'Cause after everything you've done, you owe us, you son of a bitch. So you get your ass down here, and you make t\",\n",
       " '@SuperSpacedad @ChrisWarcraft it was a joke. :P',\n",
       " '@JessicaValenti @BittrScrptReadr You mean white boys who grow up to be white men who make laws against women, immigrants, minorities and the poor... https://t.co/0cCXCr9b7A',\n",
       " \"RT @jamesy_cuv: The best part of a woman's body is their hands, simply because they can make sandwiches and clean shit with them #notsexist\",\n",
       " 'Oh hey, you should be ashamed of your disgusting self. @TheMajesticPlum http://t.co/B4obsliTUg',\n",
       " \"Are you kidding me? These girls on #MKR didn't cook their own tomatoes or peppers?!?\",\n",
       " '@kcgreenn Do you have any comment?',\n",
       " 'Summer? More like camel toe season',\n",
       " \"If you can't spell 'masturbate' right, we can't sext... I don't have time for that kind of negativity in my life\",\n",
       " '\"We proved that we\\'re not just pretty faces\". Oh Nikki you proved that when you first appeared on TV. #mkr',\n",
       " \"If you've never choked on a dick have you really ever had sex?\",\n",
       " \"Everything is deconstructed. They're no good at erections then? #MKR\",\n",
       " '@howradisit @UnburntWitch \"Like we treated nazis in America\" guess what? Silence and politeness isn\\'t what happened there',\n",
       " '@nolanwhyte @mistaphill ...K.  Thanks for demonstrating a firm understanding of legal rights.',\n",
       " 'RT @jhamby: This guy is comedy gold, @freebsdgirl. And Popehat is encouraging him, wtf smh. https://t.co/87sQXHjh6Q http://t.co/eVLbzoZVoC',\n",
       " 'you’re not going to tell me to say happy birthday to someone that called me a cunt and a slut within the span of 10 minutes',\n",
       " \"@ncoghlan_dev i'm a jerk with an ego the size of texas, and i'm still having probs wrapping my head around it.\",\n",
       " \"@PeerWorker @DerAmazingLarry @Quinnae_Moon @feministing you're really fond of lying about everything. I said they aren't ISIS.\",\n",
       " 'RT @BackCzech88: When a dog bites a child, nobody blames the child for being afraid of all dogs after. #BlameOneNotAll',\n",
       " 'nbs stfu hoe ik bout you',\n",
       " '@SecPompeo The criminal occupying regime of Iran is a dirty criminal regime',\n",
       " \"#MKR Annie's never cooked on a BBQ before. See...she is an alien.\",\n",
       " '@HawkeyeFootball OMG!! These are butt ugly!! Worse than MSU’s neon crap and most of Oregon’s shit show unis!! Absolutely awful!!!! 😡',\n",
       " 'That was definitely rigged. #MKR',\n",
       " \"@halalcunty @biebervalue @liamxkiwi @greenlinerzjm @halalflaws I know you can't leave country without male permission.\",\n",
       " '@pNibbler @AlterNet @MaxBlumenthal Hate Nazism, not the Nazis.',\n",
       " \"@Kokomothegreat I feel your pain.\\n\\nThat's the EXACT same thing my rapist said to me.\\n\\nCalled me a whore while he raped me.\\n\\nI stand beside you.\\n\\n#StrongerTogether\",\n",
       " 'Shame on @NicolaSturgeon for excluding non binary people #NotMyAlly  #Pride https://t.co/ROo4rnT7AK',\n",
       " 'Hahahaha http://t.co/JRPkJCNVH9',\n",
       " \"Drasco's Gay Porn Star Name:\\n\\n#PorkNinja #MKR\",\n",
       " \"RT @JMontgomery94: I'm not sexist, but I've seen 5 pieces of the most dreadful driving this morning in this garage, everytime it's been a w…\",\n",
       " 'Guy with the cap and Pete said.\\nBye Kat and Minion #mkr',\n",
       " \"@BBCRadio4 the media show is hysterical. Journalist ' Women can be predators too' Presenter - 'isn't that blaming the victim?' Emmmmmmm no\",\n",
       " \"#mkr That steaming cunt will go down in flames in a very short time. They still can't cook\",\n",
       " 'Ooh this is getting into Shakespearean levels of manipulation. And of course he goes for the hysterical woman angle, with a side order of using Hanssens feelings for Roxanna against her. #HolbyCity',\n",
       " 'im on the wather',\n",
       " \"I can't believe that amidst a rape discussion, a whole woman called in to remind us that not all men are trash. Increds.\",\n",
       " 'ram demon covered in wax who only mutilates politicians. 6/10, might eat you ❤︎',\n",
       " '#YesAllWomen should stay in the kitchen',\n",
       " 'RT @CathyYoung63: After the #BorisNemtsov murder, I\\'m at 0 patience for special snowflakes who bleat about feeling \"unsafe\" b/c someone sai…',\n",
       " 'Nikki has massive #armpitvaginas #mkr',\n",
       " '@elsveel SOLO JE VOIS CES BITCH SOLO JE VOIS CES BITCH OUNGA GROS BAILS',\n",
       " \"'Australia's favourites are back'? Uhh.... what?! #MKR\",\n",
       " \"Anything that bleeds for a week and doesn't die is a monster #WomenSuck\",\n",
       " '@beerandfeminism @Wyowanderer777 Which is?',\n",
       " 'Seen it many times. Hair brushes too https://t.co/yGPJNmMz7g',\n",
       " 'Actually u need help @purexelegance Call me sexist but I actually have nightmares about Nancy Pelosi, Hillary Clinton, and Elizabeth Warren.',\n",
       " '#atlas picking His toy for the night! #game on! #coon #cat #5monthsold #mainecoone #mainecoon_id #cute… http://t.co/9xkRhRAHTs',\n",
       " '@Steve_Mac112 @NicolaSturgeon Blocked.',\n",
       " 'Kat the #CuntFaceBitch #mkr lives to fight on. http://t.co/ngtgO2U85R',\n",
       " \"@realDonaldTrump This from the guy who bragged about grabbing you women by the PUSSY!!!STFU you Fat Bloated Lying Piece of SHIT!You shouldn't have been elected b/c of your speech as well as many more reasons, that your so-called CONSERVATIVE BIBKE BEATERS\",\n",
       " \"Kat I'd love to slap your face with a pork cutlet #MKR\",\n",
       " 'I just watched #LawAndOrderSVU. It was... distressing. Corny early in the ep, but then... jesus.',\n",
       " '“@mykitchenrules: Do you prefer a sweet or savoury breakfast? #mkr #hungrycampers” Pancakes all the way!!!',\n",
       " 'I hate playing never have I ever cause I have',\n",
       " 'RT @ChuckPfarrer: KOBANE SITUATION MAP: 24 JAN 2015. 1100 EDT. Major gains in E and W. #Kobane #Kobani #BijiKurdistan #Kobanebattlemap http…',\n",
       " \"@RuleofThumbUMD Let's think critically...WHO is talking about that?\",\n",
       " '@GPerplexx Stfu pussy, no more Apple Music for you',\n",
       " '@sahouraxo N countries where women hve bigX political power.rape is rare/ Fareed Zakaria interviewed HRC this a.m.T… https://t.co/Lbht92EOxU',\n",
       " 'Kat and Andre...drown yourself #MKR #mkr2015',\n",
       " '@damilne1 @NicolaSturgeon \"Overfunded and increasingly threatening\" you mean terfs',\n",
       " 'Everytime I see someone share a Feminazi post I get one step closer to having a heart attack 🌋 You need to CHECK YOURSELF',\n",
       " '@ColeMcDowell2 So maybe the issue is not \"BOYS ARE BETTER AT SPORTS\" but \"they are children playing school sports so leave them alone.\"',\n",
       " \"RT @oldgfatherclock: @YesYoureSexist @mjb_1971 it's not the same job...otherwise they'd be competing against each other. Better sportsperso…\",\n",
       " 'And the 2 best mates from QLD...ugh #MKR',\n",
       " '@MsBlaireWhite Just watched the video, I thought Candace’s behaviour was shocking. The woman is hysterical, you did well Blaire.',\n",
       " 'Pokemon go is quite in fact the real walking dead',\n",
       " '@kebesays &lt;3 kathy sierra. everything she writes is pretty awesome.',\n",
       " 'RT @myallsw: Nice arm pit vagina #MKR http://t.co/VkBHQCwlJW',\n",
       " 'Kat and Andre are so so mean. #mkr',\n",
       " '@sjhough Hey...how did you make that =/= thing?',\n",
       " 'Me and my girl Lokra. #selfie http://t.co/pt5R7QXRC1',\n",
       " \"jacquirudd: This is why this show is ridiculous - it's not about the cooking...it's about the game playing. #mkr #whogivesa1\",\n",
       " \".@a2daj123456 Thanks.  I think it's hilarious.  But, I realize there is a limited market for Terry Pendleton humor...\",\n",
       " \"Mufasa: Everything the light touches is the Internet.\\nS: What about that shadowy place?\\nM: That's feminazi Tumblr. You must never go there.\",\n",
       " 'I had a dream I was drowning last night moe I think this bitch gave me a fake perc',\n",
       " '@RudawEnglish Utterly insane article.',\n",
       " 'Waking up today like.... https://t.co/Q5op9KcqUg',\n",
       " '@MichaelToes @MrRepzion and here we see the lesser spotted feminazi being ridiculed by equalitarians',\n",
       " \"RT @VikingsFan1964: “@NFL_Memes: NFL Valentine's Day Cards http://t.co/VTT7oRsboe” @steelchick34 @PollyY2C\",\n",
       " 'RT @NACCHOAustralia: Nutrition is key to closing the #Aboriginal life expectancy gap http://t.co/IHtNiRJMa9 #MKR2015 #MKR http://t.co/ktnqA…',\n",
       " 'RT @EntirelyAmelia: #BlameOneNotAll gives those who think they’re innocent a pass to be complacent in systematic oppression.',\n",
       " '@MetroUK Only if youre a skank who cant afford wireless headphones. Stick with rotten Android phones. Buh-bye.',\n",
       " 'No, “not all men” are like Harvey Weinstein – but apparently the left wants you to think so https://t.co/g6UOi32CGk https://t.co/U7k4DY2Lo2',\n",
       " '@gkrnours bastards',\n",
       " \"It's pathetic tbh https://t.co/UOxQbG1KVg\",\n",
       " '@captain_panties blackmilk.',\n",
       " 'RT @SenJohnMcCain: Now we tell the enemy when, where &amp; with what forces we will attack them - unbelievable. http://t.co/PLSWblQ8PM #ISIS #M…',\n",
       " \"I love little kid 'foodies'.  #mkr\",\n",
       " 'Remind me what I pay NI for. And what the fuck have you done with our money cunt? https://t.co/OGyzE5SxrO',\n",
       " '@EmmetMcDB @AllisonMorris1 @irish_news You are so virtuous. Impressive what a good guy.',\n",
       " \"@davecmrn @angeleyes_1980 @Pink @NicolaSturgeon Oh, and by the way it's Trekkie you numbskull.\",\n",
       " 'RT @DisgruntleGamer: @JustLaurenB @grybranix @MT8_9 @clitbabe @JulianDavis @Synthovine In Canada 10-18% of us are not fathered by the man w…',\n",
       " '@BryanRenno blackmilk.',\n",
       " 'RT @LisaGinNZ: Charlie Hebdo attacks prove critics were right about Islam http://t.co/EnE8KqwxmX via @tennessean',\n",
       " '@UnburntWitch But we can agree that in retail, closers work harder than openers, right?',\n",
       " '@johnmichealfol1 @mackay_87 @NicolaSturgeon These yoon bots really are afraid they are popping up everywhere shitebags! Alot of them want a dictatorship and think democracy ended in 2014 how disgusting',\n",
       " \"They're so bitchy! They're just saying whatever comes to mine, do they have no shame or filter in their heads? #mkr\",\n",
       " '@0xabad1dea BM is getting closer with their newer LT sizes.',\n",
       " '.@BristolBen @TheGags29 has either taken to some seriously ham fisted trolling or shes on meth/out of meth which I have suspected about her',\n",
       " '@DreadLegend_ Its gone be all worth it when i’m in my final dyke form lol',\n",
       " \"Why can't girls just tells us how they feel? It'll save us guys so much time and effort #WomenSuck\",\n",
       " \"@sarcarsten they don't have my size. too big.\",\n",
       " 'These are the same people screeching about how Sarkeesian is an \"angry feminazi\" even though her videos are never less than calm &amp; measured.',\n",
       " \"@CappyD Man, I thought Chevaldayoff was a human paper weight...what a trade for the Jets. As good a deal as I've seen in years (decades?)...\",\n",
       " 'HA-HA-HA.... TAKE THAT KAT!!!!! YOU SUCK!! #MKR',\n",
       " \"RT @loganbrown64 It's good to talk with your wife but it's so much easier to say shut up n make me a sammich #notsexist lol\",\n",
       " 'RT @PeterTownsend7: #islam #islamic #ISIS engages in sexual slavery. Is this Anti-Islamic? http://t.co/O97BgHT1rF http://t.co/ovuQTlwxH6',\n",
       " \"Today one of my students spoke loudly and openly about how it's unfair that women get shit for doing No Shave November. There is hope.\",\n",
       " 'Blocking people is my cardio',\n",
       " \"in any serious forum, i will fully support feminism.  feminazi's, however, are a real thing and in their presence i will be a #meninist\",\n",
       " \"@thoughtxriot @lilmissagitated I was specifically on her side, 'cunt' was directed against the woman who compared b… https://t.co/a7whjEtaBX\",\n",
       " 'I need a gif of a woman laughing derisively while dropping garbage in the trash, because that is my mentions.',\n",
       " '@mykitchenrules Hot pot?  Come on girls  . About as technical as a ham and cheese toastie. #disappointing #MKR',\n",
       " 'Do yourself a favor and read this badass shit: http://t.co/xmM2JWwyr1',\n",
       " '@scarmichael18 @shaner38 Not legally.',\n",
       " '@holliebakerlutz What does that 23% figure represent?  How was it derived?',\n",
       " '@HPluckrose @Feminazi_Front Nature provided man &amp; women with exactly (average) the degree of strength etc that each requires',\n",
       " 'So the Nagaland rape case was a false charged filed by the woman. Thank you Pink Chaddi Feminazi idiot drafted laws.',\n",
       " '@dylanw his behavior - and yours, for that matter - are pretty typical. sorry if the truth hurts.',\n",
       " \"A frightening piece from the zealot Jessica Valenti of @EverydaySexism fame: universities right to deny education to anyone who's ever been a racist.https://t.co/86JGdZYcwY\",\n",
       " 'How far can you go down the rabbit hole ?',\n",
       " 'This hysterical woman is just completely brain dead. Come on CA, you can do better than this empty bag of skin.',\n",
       " '\"Our pancakes are selling like hotcakes Shaz\" - yes, yes they are Jac! We wish we could sample some! #MKR #tvweekmag',\n",
       " \"When your leg cramps up while you're fuckin https://t.co/T0zRokkUAV\",\n",
       " '@reddroostermann @No1_2Trust Their position now is democratic confederalism.',\n",
       " \"I am going to smack down anyone I see bitching about how cernovich bought his followers. You're spreading unsubstantiated rumors. Not cool.\",\n",
       " 'Proof there is no God.\\n\\nKat survives.\\n\\n#mkr',\n",
       " \"Kat and Andre shouldn't be there they suck dick holes. The moles win my vote with the burnt butter icecream #mkr\",\n",
       " '@realDonaldTrump STFU Donnie. Theres no one who gives grades for things like natural disaster relief. You f*cked that one up and 3,000 people are dead. Now youre mocking them. Youre a loser, a pussy, and a bully all wrapped up in a flabby orange skinsuit.',\n",
       " '@youfoundthecard ?',\n",
       " '@juliaferraioli purchased from sock dreams, sadly. :P',\n",
       " 'PVP TIME #selfie #warlords http://t.co/5CehYdUyBs',\n",
       " '@mykitchenrules Oh the sass #MKR2015 #MKR #katieandnikki #thepromogirls #somuchsass http://t.co/kmRyabcIRo',\n",
       " '@kmx1974  Stupid. Got it.',\n",
       " '@AnnCoulter And I was the most hysterical woman while watching comedians tear you a new one at the roast of Rob Lowe!!! Hahahahaha Hysterical!!!',\n",
       " 'Investigation underway after woman reports rape on OU campus https://t.co/l0B7PTwmnk',\n",
       " \"RT @doctorow: They have summoned the 'SOC'\",\n",
       " '@NicolaSturgeon Thought may resigns??no longer pm just mp',\n",
       " 'RT @peteevansnot: OK - get this off my FB page asap!\\n\\n#paleo #mkr http://t.co/n3Y2cItgLV',\n",
       " 'the fact that cube would rather fuck their whole existence, along with the artists careers under their label to TRY AND PUNISH A RELATIONSHIP IS BEYOND ME. I hope they choke on a dusty ass dick.',\n",
       " '@fuck________off well what is your sc',\n",
       " \"People don't like surprises, but they're on a reality show. irony. #MKR\",\n",
       " 'British actress becomes fifth woman to accuse of rape... https://t.co/K3Et2iI7xU',\n",
       " \"Only that in you which is me can hear what I'm saying. ~Baba Ram Dass\",\n",
       " 'Wonder what bitter FemiNazi wrote that RT \"@totalgolfmove: Proof that you can\\'t please everyone http://t.co/XolrT1cQeX\"',\n",
       " 'Mood GO HOME AND GET YA FUCKIN SHINE BOX',\n",
       " '@mykitchenrules come on Sheri and Emilie!!!! I have all the faith in the world girls!!! #MKR',\n",
       " 'Yo /baph my address was never even that apartment. Why are you so dumb? 😜 https://t.co/usngQfjkjo',\n",
       " \"RT @AIIAmericanGirI: 🇺🇸\\nFeminazi's Want To Replace The Andrew Jackson On The $20 Bill With This Hosebeast http://t.co/rqJYklTM93 #WIUNION\",\n",
       " \"If you're a man, women can't be trusted. They'll turn against you, it's in their nature.!\",\n",
       " '@HumanistFury @gabystama @JimyIsAHappyBoy How is that the same education?  Did he get a teaching degree, as well?',\n",
       " 'What do you think of the two teams facing Sudden Death on Monday? #mkr #suddendeath',\n",
       " \"If you've ever mentioned me to your therapist, give her my number, she probably wants to try out the dick that ruined you too\",\n",
       " \"Ego's bruise harder than any belt ever could\",\n",
       " 'RT @nrrrdcore: At the very least, questions will be raised. And we now understand that women in our industry must choose between incompeten…',\n",
       " '@JDefiant9 I am tennis neutral.  Just setting up the joke.',\n",
       " '@EXT0PD0LL @JessicaValenti nope.  no care for women, POC, or the poor',\n",
       " \"@SkyeCitySeries @AOC That's funny.\",\n",
       " 'FUCK YOUR STRAIGHT PRIDE. HOW ARE YOU DISCRIMINATED AGAINST FOR BEING HETEROSEXUAL? OH YEAH, YOURE FUCKING NOT. STRAIGHT PEOPLE IN THE PAST DIDNT HAVE TO FIGHT AND BE KILLED FOR THEIR COMMUNITY TO GET WHERE IT IS TODAY LIKE THE LGBT COMMUNITY DID.',\n",
       " 'Bitch is literal referring to the mass murder of falsely accused women (and one man). Weinstein isn’t even to court… https://t.co/wg9UH72Ot4',\n",
       " 'Who is toby? http://t.co/NVq8FKo1YH',\n",
       " 'Happy birthday to you Naveen Patnaik Orissa CM Om Sai Ram Bhola Re Rock On 2',\n",
       " '@Ryan140GG Nope. Adoption and safe haven.  She is not bound.',\n",
       " '@realDonaldTrump #johnfkelly. I remember the golden woman years in the NJ State Police being callked a cunt for 20 years. Sacred,I think not',\n",
       " '@PrideofGypsies Hey your awesome! We all make mistakes! If taken in context(your charater did that,) I do not believe you condone Rape.',\n",
       " '@98Halima @johnnygjokaj @somersert @cdnKhadija @BilalIGhumman @rfrankh53 And why do we care about this guy?',\n",
       " \"Girls are not human beings, they're objects\",\n",
       " '@femfreq But how can they be raped if no men are there to rape them?',\n",
       " \"@TommyWard15 I'm sure your mommy still does your laundry, but mine can defend against a child's foolish words.\",\n",
       " 'No trending in Alexandria VA,\\nYoga pants and camel toe 👀',\n",
       " '@MaddyBaylor Hey @BristolBen please translate this nonsensical nonanswer if you can...TY. @FutureFeminism',\n",
       " \"@georgialewis76 @roosta81 You basically don't give a damn about the contempt in which British men are held, do you, in your feminazi bubble.\",\n",
       " 'From @JessicaValenti ---&gt; Pregnant Women Who Are Assaulted Are Being Treated Like Criminals\\u200a—\\u200aNot Victims: https://t.co/hwGp58PaKW',\n",
       " '#mkr where are the Americans and the Brits?',\n",
       " \"RT @carlscrush: It's April fools day but I clown you bitches every day. Imma take the day off, have a good day, see you tomorrow (Stolen fr…\",\n",
       " '@Purpliser @TGMD81 @NicolaSturgeon Go on then, I\\'ll bite:\\n\\nWhat have I said that could possibly be construed as \"defending\" anyone?\\n\\nWhat am I saying? You make stuff up, doncha?',\n",
       " '@HPluckrose @Feminazi_Front Nature/evolution provided men &amp; women with perfect equanimity',\n",
       " 'I greeted the Uber driver with a simple “hello”, and he dead came off mad rude. Do I need to tell you that it smells like a dirty McDonald’s uniform in this car?',\n",
       " '@Royal__Reporter @NicolaSturgeon Never seem krankie daily tweet mentioning this, I wonder why?😜',\n",
       " \"How's this for sassy? From #voguecafe @MacquarieCentre But if I hear that word again I'll throw a shoe at the tv #mkr http://t.co/RJ56iwjy2x\",\n",
       " \"When someone announces that they are 'officially unfollowing' https://t.co/suuWPZ2tnN\",\n",
       " '@JessicaValenti Still less annoying then that pantsless commuting day.',\n",
       " 'How can you say stfu and leave me alone in a good way? lol',\n",
       " \"I'm confident cause I've earned the right to be, don't confuse that with arrogance\",\n",
       " '@aninkyaffair yes :D',\n",
       " '@AmarinaW You, too.',\n",
       " \"@GlasgowMake @xxprivilege @jamesarchie98 @littelray2 @taylormcgregor6 @NicolaSturgeon When i said proof, i meant like, y'know, sources? Reliable sources?\\nBecause at the moment I've seen more stories about ciswomen attacking butch lesbians in bathrooms then i have about transwomen attacking ciswomen.\",\n",
       " \"#Metoo 'If all the women who have been [#rape(d)] wrote 'Me too.' as a status we might give people a sense of the magnitude of the problem.”\",\n",
       " 'Her- I have a man Me- https://t.co/m1U02Zx5kM',\n",
       " 'Roster reconfiguration season is coming up',\n",
       " \"When're I go to a wedding all I can think about is how many times the bride is going to get pounded after the wedding #HoneyMoonPoon\",\n",
       " '@ENDSexAbuseNOW Who is to blame for that?',\n",
       " '@FockerRN529 It’s hysterical him watching that woman and eating chicken',\n",
       " 'after nearly 2 years this bitch came back to our home only to be hysterical. when will this bitch get hit by a raging bus????',\n",
       " 'is this a dirty tl 🥺',\n",
       " '@AllisonMorris1 @irish_news poor don-yeoo, his only crime was posting banter.😔',\n",
       " '@tskillet69 Feminazi- the dress is being raped with your privelige',\n",
       " \"Kat you don't look suspicious at all!  #MKR\",\n",
       " '@Suppose_Not @DoeringNorman @JustLaurenB Hmm.  Cathy Young and who are other two?',\n",
       " \"Talking about 'in the bible, a woman is a man's property.' Therefore as a senseless misogynist, rape in married women cannot happen.\",\n",
       " 'Bitches are quick to put their height in their tinder bio.... Do me a favor and add your weight too...',\n",
       " '\"Why won\\'t she let me sit in her lap, too?\" http://t.co/sTV8VdOMDt',\n",
       " \"@Beachlovin82 @abc15 You're aware that not all men like women right? Get out of your bubble\",\n",
       " '@foshtown @macfadyenangus @Derych @NicolaSturgeon I have a mean streak too... Helps when planning to win.. 😉😉',\n",
       " '@mutaSawwif @TawheedNetwork_ Are you actually denying that Sharia says that apostates must be killed?',\n",
       " \"#mkr kat is gonna score low for one\\n1.there last\\n2. She's crazy\",\n",
       " '@Dreysander1 Sons are at much greater risk now than daughters because of feminist laws.',\n",
       " 'RT @UnderYourPorch: Deconstructing things needs to end #mkr',\n",
       " 'Hahahahah #mkr',\n",
       " '#Egyptian president wants joint #Arab force to fight Islamist terror http://t.co/YWQlC0YUIM via @timesofisrael',\n",
       " 'In the past 12h, @spacekatgal is seeing the most targeted abuse, with 194 (36 OC/158 RT) GG hashtaged tweets mentioning her. Congrats!',\n",
       " 'Hey ladies and men, rape, and sexual assault, etc of any sort is not acceptable in society. For those of you who commit these acts, pls die.',\n",
       " \"If you're fearful to go down rabbit hole, then those who spread oppression, have you right where they want you- 100% controlled. - #Cagsil\",\n",
       " \"@asem_1994 Yes, Islam, Judism, Christianity are all Abrahamic religions. But science can only advance when it get's past superstition.\",\n",
       " \"I apologise on behalf of my generation for Nikki and Katie. We aren't all so vapid. #MKR #NikkiandKatie\",\n",
       " '@UnburntWitch I love them',\n",
       " 'I got an actual real life ‘not all men’ today, have I officially made it as a difficult woman now?',\n",
       " \"FFS you're such a loser 😊 https://t.co/hYNJnOy1E5\",\n",
       " \"RT @PeerWorker: @freebsdgirl The threats are either serious or they aren't.  I guess you don't view #GamerGate as emotional terrorism.\",\n",
       " 'Pizza shops owner and 3 workers gang rape lost girl who asked them for directions https://t.co/XxyMNhfeHM',\n",
       " \"What bullshit. Kat &amp; Andre rejoicing because they got through. But they scored a 1. That's the equivalent of cheating. #mkr #killerblondes\",\n",
       " \"@UnseenPerfidy Plus the ones you miss will spin this as a plot by the evil Feminazi Cabal. And they'll buy you more fake followers!\",\n",
       " 'Today is co-founder and steering group member @kezdugdale’s last sitting day in Scottish Parliament. Huge thanks to her for pushing forward the work towards women’s fair representation in her role as MSP for the lothians 👍🏽',\n",
       " \"RT @WittySam: Colin's review of Kat &amp; Andre is equivalent of a teacher saying well done on writing your name in pencil. #mkr\",\n",
       " \"Kat and andre make me sick they don't deserve to be there. #mkr\",\n",
       " \"@buellerishere I've watched the ISIS guys argue with Saudi Muslim scholars here on twitter. The scholars always loose.\",\n",
       " '@Sheilam19534814 @catskiv @IanMurrayMP @NicolaSturgeon Sad lonely Ian. Wee nervous man from yesterday’s party, confirming that he has absolutely no grasp on politics, no interest in Scotland or Scottish peoples welfare and is only a Labour luvvie apologist for a party that’s maybe pro Brexit, who knows? The weakest WM opposition ever',\n",
       " 'lol. i know that editor.',\n",
       " \"@petite_royale Hmmm...... But you know it's not all men\",\n",
       " \"If I'm only nice to you and don't insult you, I don't want to sleep with you\",\n",
       " 'Today: emails, twitter, emails, emails, whatup congress, code, code, code, emails, world of warcraft.',\n",
       " \"'IT'S NOT ALL MEN, THOUGH!' but if he does time for violating someone, you quickly forgive him. he's 'learnt his lesson'.\",\n",
       " \".@SopranoJM  ...can't relate.  Have to be overtime of Game 7 of the Stanley Cup Finals w/ no DVR.\",\n",
       " '@dgbattaglia Saw this this morning... http://t.co/9YUwOuZugw',\n",
       " '@hypatiadotca a million times this.',\n",
       " 'RT @FLOSSWeekly: Just added to the schedule for April 8:\\xa0Randi Harper - Online Abuse Prevention Initiative (http://on...: Just ... http://t…',\n",
       " 'RT @facerealitynow: @MT8_9 I asked that question recently and actually got an answer http://t.co/oD98sptcGT',\n",
       " \"https://t.co/XjDnKjjfdU rape and murdered children what do you expect from the religion of peace and women don't count as human, think\",\n",
       " \"Dealing with journalists 101: Don't use slang if you don't fully understand the implications. // @wadhwa\",\n",
       " 'Poudriere is pretty slick, even if I have no idea how to pronounce it. #freebsd http://t.co/28MOzyRYKx',\n",
       " \"RT!!!!! @countrygirl7406 Call me sexist I don't care! But NASCAR is a mans sport!!!!! #sorrynotsorry\",\n",
       " '@edgeofthesandbx @batchelorshow @FearDept And any fool can read about Stephan Bandera and find that he had no Nazi ideaology.',\n",
       " '#mkr hey Pete, maybe what those kids need is some liver milk! http://t.co/On9xzxiMOr',\n",
       " 'In Australia, we have always had tall poppy syndrome. Since when did sabotage and bitchy behaviour get you on national TV??  #MKR #mkr2015',\n",
       " '@TamedInsanity Jessica is a special type of human feces.',\n",
       " \"Colin can't taste the food if he hasn't got his eyes closed #mkr\",\n",
       " '#MKR praying these two bloody bimbos will leave the comp in the next round',\n",
       " 'Kanye with a hint of more Kanye, the fuck you thought',\n",
       " '@timothypmurphy @DavidCornDC I will fight him.5 rounds and at 5 minutes in cage match. Looser leaves town match. Come on you pussy.',\n",
       " \"By making it a Muslim man's right to rape non -Muslim women and children. Normalize it, and remove the outrage. https://t.co/2lCvwPiDxh\",\n",
       " '@tjathurman @sarahlicity Women must be addressed as milady until they turn you down at which point the correct form of address is \"feminazi\"',\n",
       " \"i'll make sure you let everyone hear how good mommy's making you feel. show them what a good whore you can be for mommy.\",\n",
       " 'Awwww. Snowfury loves cuddles. http://t.co/v6jCteRhoo',\n",
       " 'RT @sports2inflatio: @MT8_9 our court system is failing us by letting these criminals walk free. Victim matters, gender does not. Crime Mat…',\n",
       " 'https://t.co/Q4CRFHSgGi https://t.co/ywh5j97YuJ Harvey Weinstein: More women accuse Hollywood producer of rape https://t.co/ZCoSAY8Z9R https://t.co/5Q38IViAYW',\n",
       " '@realDonaldTrump @NFL This is hysterical. It’s YOU who’s too much talk and not enough action. DO YOUR JOB and stop tweeting !!!!',\n",
       " '@kezdugdale ...feeling proud of yourself Kez....\\nAll down to you I’m afraid. https://t.co/1pD8WQ6ges',\n",
       " '@reddroostermann @No1_2Trust Of course there are countries where there are no greedy corporations and no private banks, like North Korea.',\n",
       " 'I will always love you & Ken though @LisaVanderpump I really admire you & feel like a mother tiger with you! I could of jumped through the TV when that skank slapped your face! That upset me! A lot!!!',\n",
       " \"Trump also refuses to release Melania Trump's immigration papers and give and explanation to how she got an Einstein visa for being the world's greatest stripping whore https://t.co/8HbQKHwWlU\",\n",
       " \"Celine isn't funny stop it #mkr\",\n",
       " \"You'd have to ask @instagram cause they have yet to respond to me https://t.co/Fe3J4jPO66\",\n",
       " '@TimCField supposedly battery life &amp; auto-dimming display?',\n",
       " \"@UnburntWitch I mean you weren't wrong\",\n",
       " '@inkiebird @JustMarn direct quote from OP: \"When it comes to learning i prefer a male\" so nice try',\n",
       " '\"Do you think the other teams are going to pick on the pretty girls tonight?\"  Are there some other girls coming to dinner? #MKR',\n",
       " \"How I feel when I'm drunk at the bar buying everyone shots https://t.co/Opm6ccZylT\",\n",
       " 'Van Dyke suffered w/a LOT of drops in his pro day. Sure, a few throws were off, but those dudes he was throwing to were TRAAAAAAAAAASH',\n",
       " \"@VijayTrehan9 @Swamy39 Ask your mom, you son of filthhyy pimp. BTW how's your mom surviving in her Red Light District Area quarters\",\n",
       " 'You would understand if you had robot legs. http://t.co/NO19qeRXY6',\n",
       " 'RT @sarahkendzior: \"When I was seven years old, Woody Allen took me by the hand, led me into an attic and sexually assaulted me.\" http://t.…',\n",
       " \"I actually can't believe they make contestants pay for the food on this show. #mykitchenrules #mkr\",\n",
       " '@JulianAssange Dude you’re a truth traitor. You literally deal in stolen information. And not all men are like that - liar.',\n",
       " '#MotivationMonday \"Good leaders make good leaders.\" -- Logan Dyke, a #CommunityPartnershipSchool student leader spoke to @MZSHAUNEE @iHeartMedia with @Community4us1 about the model and the impact on students and entire communities. Listen HERE: https://t.co/WyvF4HHwDi',\n",
       " '@nancyleong The guy who has spent five years hiding from a rape inquiry thinks that a powerful woman is creepy, man… https://t.co/OvlQAJS1ek',\n",
       " '@Elizabe19845961 @CNNPolitics You seem hysterical.',\n",
       " \"@CharliceHurst NM.  Sorry, didn't read your TL first.  I see you are not a feminist.\",\n",
       " \"If you ''Repeatedly'' Rape Stab Carry Acid Incite Murder you 'may' Go to Prison..what Fuckin Planet am i Living on...\",\n",
       " '@UnburntWitch @gewalker No you mean,\" I\\'m saying im delaying it because i dont actually have any intention of actually doing what i said i was going to do.\"',\n",
       " 'If Richard Stallman has 1 GB of RAM, and if you have 1 GB of RAM, Richard Stallman has more RAM than you.',\n",
       " '@JessicaValenti Unless he is black. Then his parents his Eagle Scout medals and great school don’t mean shit! Lock that judge up!!! Investigate more white privilege from this ass wipe!!! 🤦\\u200d♂️',\n",
       " \"RT if you've ever been fucked over by a girl. Actually it's not a matter of 'if', but 'when' #WomenSuck\",\n",
       " 'And the secret twist. Kat and Andre are eliminated for being cunts!!!! #MKR',\n",
       " 'This dialogue is woeful. These MKR producers are out of control. #mkr',\n",
       " '@pattonoswalt Going to be where no one will leave the house or even look at a woman because she will claim “rape”.… https://t.co/gyhAbEtqSA',\n",
       " \"Junk on the plate and in Katie's trunk #MKR\",\n",
       " \"Women have a hard time In stores understanding '3 for 5'...that means you have to get 3 not 2, or 6. The deal is '3 for 5' #FUCK\",\n",
       " '@HumanistFury You pay, yes.  Split, no.  She pays, no.',\n",
       " '@DoctorAvenue sorry 😟',\n",
       " \"@MsBritBritBritt that's the spirit #MKR\",\n",
       " 'RT @CarlyandTresne: Come on Jac and Shaz #peopleschoice #mkr #happycampers',\n",
       " \"@travisalabanza @LGBTIQoutside Anyone who tries to defend women's rights is accused of transphobia.\",\n",
       " 'Can men please stop shooting people for a goddamn second?',\n",
       " \"#menrdecent India men should grab the RSS feed of my blog to see men of the world fighting for men's rights. http://t.co/6n4V9kBtya\",\n",
       " 'Being a pizza delivery person before GPS or mapquest must’ve been a bitch',\n",
       " 'When daddy leaves cute notes for you https://t.co/SfxgxFHOVy',\n",
       " 'When someone online tries to come at me and thinks I care... https://t.co/3ag1u1elsY',\n",
       " 'RT @KitttyKattz: .@Scomiche_ or we could not watch . . . bit over it all!! #mkr',\n",
       " '*snort*',\n",
       " \"@krisaubuchon it looks like it's white with shitty color balance.\",\n",
       " 'RT @uberfeminist: #TwitterFeminism tries to get people fired over nothing, later asks for sympathy when people are \"excluded\" by the indust…',\n",
       " 'If you *really* can’t see any difference between @Nigel_Farage and @NicolaSturgeon, then you clearly are blinded by your own ideology or political allegiance... Edinburgh South voters should take note of this https://t.co/Z3liPGPjho',\n",
       " \"RT @PSogeco: Little short and to the point ISLAM Lesson's for us which are ignorant http://t.co/m4Jcka5iR0 http://t.co/GANRH4K87a via @PSog…\",\n",
       " \"RT @JacobScottStill: If you're a girl and don't make me food when I ask/tell, there's a good chance I might just hit you #MaleDominance\",\n",
       " 'Ash found her inner bogun #whistle #fingersinthemouth Ewwww #MKR',\n",
       " 'a gay just wanted to go to pride once to say they’ve done so but now i can definitively say that the dyke march was like at least 50x better than chicago pride',\n",
       " 'How butter faces take selfies https://t.co/ATmUujnVN0',\n",
       " \"She said 'true' 😌 https://t.co/XOALF4NZSs\",\n",
       " 'in other news, just been called a skank and a cunt for telling a man not to hit, headbutt and slap his child',\n",
       " '“Pregnant Women Who Are Assaulted Are Being Treated Like Criminals\\u200a—\\u200aNot\\xa0Victims”\\u200a—\\u200a@JessicaValenti https://t.co/nvivFqI07G',\n",
       " \"NOOOOOOOO!!!!! I'm so annoyed Kat and Andre are still there! #MKR\",\n",
       " 'Yep, by stoning women to death when they report rape. No reporting. No more scandals. https://t.co/vcGLojHDsj https://t.co/sfQ5CbN4fT',\n",
       " 'Pro Tip- Never go down on someone that has food poisoning',\n",
       " '@officialKidluke truth',\n",
       " 'KUNT DONT JOIN ME IF YOU HAVE NEVER DONE CALUS BEFORE. IM NOT HERE TO CARRY. FUCK ME SIDEWAYS!!',\n",
       " \"@DCpierson Feminazi Activia: When you want to shit all over everyone's freedom and entertainment.\",\n",
       " '@KirstyStricklan @NicolaSturgeon Good one Kirsty. 😂',\n",
       " '@athenahollow YOU ARE MARRIED YOUNG MISS GO HITHER',\n",
       " '@Mora_Fornelli An enemy of @clementine_ford is good enough for me...F/F',\n",
       " '@RepStevenSmith Since you believe in justice for rape victims I hope you will stand up for the women who have accus… https://t.co/d4b9AFEOAT',\n",
       " 'RT @musicshooter: Oh Shit. Now we have to put up with freaking Kat and No Balls Andre for another week. FMD.  #mkr',\n",
       " 'RT @LynneMcGranger: OH NO!!!!! ( she says sticking needles in her eyes!!)#mkr',\n",
       " 'gamergate just called @j4cob a \"copy boy or personal assistant\" on 8chan.',\n",
       " \"@MDuette I'm truly sorry. I'm sure you'll hear the 'not all men' line, which probably doesn't mean much to you or a… https://t.co/o6AJkACoMV\",\n",
       " '@SoyerJanis @alsdowntown @SteveBannen Hysterical! You are going to be disappointed Jan',\n",
       " '@UnburntWitch You obviously have never watched his content',\n",
       " \"@Cawnporiah @nanditathhakur Acharya.. have you read the analysis/opinion given by our 'historians' to SC wrt Ram Temple? Even 'WTF' will be ashamed. @indiantweeter\",\n",
       " 'RT @PaulyPMC: I object to any food item that rhymes with \"turd\" #MKR',\n",
       " \"Ever been so hungover that your stomach feels like it's eating itself\",\n",
       " '@SharkFu You have to be kidding! This is some Bull! https://t.co/Iv5KjVUtVG',\n",
       " \"Most women just want to be ravaged... But sadly most of these men don't know what that means and wouldn't know where to begin...\",\n",
       " '#BlameOneNotAll good job, I guess, for being decent humans? Is a cookie or a gold star in order?',\n",
       " \"He won't stop staring at me. http://t.co/4sKaCpLNhN\",\n",
       " 'I still can’t believe someone actually typed out “pedophile isn’t a dirty or shameful word” and then sent the tweet',\n",
       " 'not to be mean but that album cover is butt ugly https://t.co/mz5GNkOzON',\n",
       " '@JessicaValenti Why is the survivor not considered by this judge? Why is it all about the rapist ?',\n",
       " '@shaner38 Avs REALLY needed the D man too...but they made right pick.',\n",
       " \"I haven't ever complained about #pokisquad stream sniping me lol\\n\\nI have only spoken about the type of @UnburntWitch #gamergate harassment and DPR type or threats made on my life because y'all support @pokimanelol\\n\\nI even changed my lag on my @TeamYouTube to help you snipe me🤣\",\n",
       " '@Millexnium [ ho~ you doubt me?',\n",
       " 'This is an ex-coworker of mine. She was also an enforcer for far longer than I was.\\n\\nhttps://t.co/NByQoZCiK0',\n",
       " 'See https://t.co/VHThRdRIYr thread for more info on how this is quantified.',\n",
       " '@JessicaValenti Looks like “white boys.”  Not all boys (see what happened to the Exonerated Five)',\n",
       " '7% of all hearing loss is a result of sitting in a restaurant next to a table full of women who just received dessert. #KillerBlondes #MKR',\n",
       " '@AOC Are there any grown ups in their party? You can’t drag free people into socialism.',\n",
       " \"I hate it when people say they're never gonna talk to me again... And then they do...\",\n",
       " '“not all men” first of all, you stay quiet when women want respect/equality.',\n",
       " \"Figured out my #MKR hit list.\\n1. Kat and Andre\\n2. Kat and Andre\\n3. Kat and Andre\\nBut once they're gone, much harder choice fro next to go!!\",\n",
       " '@Xer0Dynamite uh, okay?',\n",
       " '@Ifehadeoti @Ent_Redefined ROFL. Islam outlaws music.',\n",
       " '\"Sarah Sanders Doesn\\'t Deserve Reporters\\' \\'Civility\\'\"\\u200a-\\u200a@JessicaValenti https://t.co/oAdkYOiObC https://t.co/m8pxiixWld',\n",
       " 'Talent- Making people feel way more comfortable with me than they should be',\n",
       " '@Spangnation Her continued production of carbon dioxide.',\n",
       " 'But the plant gets devoured by the animal, and the animal devoured by us, because nature, rather like I spoke of women before, is a cunt.',\n",
       " 'Not all men treat women badly. There are some really great ones and they deserve recognition. Maybe this way we can show our daughters...',\n",
       " \"@voretaq7 you don't know that.\",\n",
       " \"@amberhasalamb I didn't realize I was supposed to treat you as a child whose opinion is irrelevant, sorry.  My bad.\",\n",
       " \"Neter Sesen Book 2 Verses 61 -62: Tehuti: 'Do not all men have a mind?' Sesen: ' Be cautious what you say, for I... https://t.co/k5Rz1ym2Zt\",\n",
       " \"Tell you one thing-- I've seen more'n enough dick and balls tonight to last me a lifetime.\",\n",
       " \"RT @fee_bee_63: Kat - you're not a morning, lunchtime, evening person either. I'm not sure you're human. #mkr\",\n",
       " \"if before y'all start comin @ me like DASS ESSPENSIVE bitch until u watch a mile in my shoes (THERE IS LITERALLY HOLES) you'll understand\",\n",
       " '@p4ndiamond A known \"dudebro\".',\n",
       " 'Before I rip you a new asshole vs after https://t.co/F8tNFmarSZ',\n",
       " 'New dress!!! http://t.co/extjriLnty',\n",
       " 'Nooooooooooooooooo #mkr',\n",
       " \"RT @IronmanL1: The Quran likens taking a life to 'killing all of humanity' . . . kind of. . . not really.  #islam http://t.co/hdxmhyV06D\",\n",
       " 'RT @GloriaMitchell6: Suit yourself: Utah court lets woman sue herself over fatal wreck http://t.co/jyfHMI63BC @FoxNews She wants money for …',\n",
       " '@DanielleDASH Hi',\n",
       " '@wonderzombie world of warcraft related things.',\n",
       " \"@Bruciebabe @andyblueskyz @End_Bigotry @chezkig1 @ericcartmanfat @AbbsWinston Muslims celebrate Int. women's day. http://t.co/88WG2XX3op\",\n",
       " '@flvwerchild @autumnrainwish Ya recently here a guy got acquitted of rape charges becos apparently the woman in question said no feebly',\n",
       " 'RT @exposerealitytv: The \"promo girls\" should be on cigarette packets smiling then everyone would quit #mkr',\n",
       " \"Just played: I Know I'll See You - A Place to Bury Strangers - A Place to Bury Strangers(Killer Pimp)\",\n",
       " \"Kat and Andre just don't deserve to be there. Even compared to Katie (can't cook) and Nikki (hates all food) #MKR #MKR2015\",\n",
       " 'Rigged #MKR',\n",
       " '@FilmBayona @TheHoyt08 I was hoping more scary in this movie like a woman getting killed will be scary!!!! I mean only Zira is the first and only woman on screen to be killed their was second woman that got likely killed in elevator of JWFk from indoraptor But we couldn’t see it',\n",
       " 'Usually it’s about thus time shopping with my Mom I start being a bitch because I have no patience for it but I am trying so hard to be good.',\n",
       " '@ingyusarms If I were blinded by hatred I would feel same about Buddhism, Hinduism, Tao, etc.  You are blinded by stupidity.',\n",
       " \"@SxFlint93 Oh I do plenty but picking rotten low hanging sexist fruit doesn't take up much of my day :)\",\n",
       " 'RT @morninggloria: . @MT8_9 where can I buy this in bulk',\n",
       " '@travisalabanza mood',\n",
       " 'Princess of Monday mornings. http://t.co/HhxEEvOpnz',\n",
       " '@JessicaValenti Na this ain’t for real.',\n",
       " '@Damhan97 How is that related to Islam?',\n",
       " 'has anybody ever met a dyke that isn’t a vegetarian....i was the last one i think',\n",
       " \"What's the difference between a blonde and a washing machine? A washing machine won't follow you around all day after you drop a load in it\",\n",
       " \"@XuetaoShi @simon_lindsell no, it wasn't. I'm a minority and it was used to try to silence me and other women.\",\n",
       " 'You \"fought hard\" so it \"wouldn\\'t be fair\" to be eliminated? Are you joking me? You scored unfairly the whole time! #mkr',\n",
       " 'where are my fellow hysterical women who would have either been a) an oracle in ancient greece or b) burned at the stake in medieval times..make some noise ladies',\n",
       " '@FeministFailure @MaravillaTom What is the event?',\n",
       " \"It's not the walk of shame if you're shameless\",\n",
       " \"@mummygirl @TheScotsman @NicolaSturgeon I think #Sturgeon is more concerned about oil revenue being diverted to Westminster than she'll ever be about handing it over to #EU. She's a dyed-in-the-non-Scottish-wool #globalist - &amp; the Scots have no idea what that means. #Mugs\",\n",
       " '@RudhoeEnglish Living under ground like rats is very appropriate for the Daesh.',\n",
       " '@JessicaValenti @nchammer326 maybe we should stop letting rapists be judges',\n",
       " \"What's the difference between your wife and your job? After 5 years, your job still sucks\",\n",
       " \"@Skawtnyc @gregtitus  that's a relief.\",\n",
       " \"@realDonaldTrump I though in a free country you could worship whoever you want too? Isnt america the home of the free? You're a cunt\",\n",
       " \"@daffy5dugs @Janela_X @MhairiHunter @Ips_cali @BBCPhilipSim @theSNP @NicolaSturgeon But you don't see that person as doing anything wrong because he supports your thinking....ideology so that's OK then eh🤔🤔🤔🤔\",\n",
       " '@scarmichael18 @shaner38 No idea what u said.',\n",
       " 'RT @JuddApatow: Releasing private Sony e mails to hurt people is the same as releasing nude photos of Jennifer Lawrence.  Why are they ok t…',\n",
       " '@desertfox899 original content. vs retweet.',\n",
       " '#mkr The only thing these promo girls are going be able to sell after this episode will be black hair dye #painfulmorons not #killerblondes',\n",
       " \"5mins in &amp; I'm already hoping Katie &amp; Nikki are eliminated tonight #MKR\",\n",
       " 'So fucking proud of Zoe right now. And it is so weird being part of an entourage :P',\n",
       " '#BlameOneNotAll in a nutshell.\\n\\nhttp://t.co/un0m0L2Cy3 http://t.co/EGQA6Oab0H',\n",
       " '“Here’s the deal, cooking is cooking!” Ouch! You tell ‘em, Colin! #mkr #hungrycampers #noexcuses',\n",
       " 'Sub or not all men are weak & stupid for me be useful and keep fetching my clips @ https://t.co/bQ2h7877nr… https://t.co/xHYKoHgHyN',\n",
       " 'RT @natpattherat &lt;&lt;&lt;as funny as a fart in an elevator : They have treated this lemon tart worse than Brandis did Triggs #MKR',\n",
       " 'I should not be up this early, but this bitch ass bird flew into my window and now we can’t fall back asleep',\n",
       " '@rabcyr @gewt If someone on stormfront calls you a feminazi js that an insult or a compliment?',\n",
       " 'PLEASE VOTE CELINE OFF THE ISLAND!!! #MKR',\n",
       " '@willberthelot @naaadnerb Deadbeat dad-ism is ILLEGAL.  This is the LEGAL system screwing him.',\n",
       " 'RT @Drift0r: I said \"we got raped\" in a video today and the white knights came out in force. Guess it is time to dust off the ban hammer an…',\n",
       " \"OMG I love the pommies!! (That's partly bc I am one) they are great! #pommiesForTheWin #mkr\",\n",
       " 'RT @pperrin: Oh... so Rotherham was Tony Blair/Labours sacrifice of innocent English virgins to pacify the satanic horror of Islam (having …',\n",
       " '@shaner38 Toss \"denied student loans\" onto that list, as well.',\n",
       " 'hypnotize synthesize love is a lie like a hole in the sky then you die',\n",
       " 'Brilliant, stone a woman after rape, there is no scandal. https://t.co/tzvGXBpDnZ',\n",
       " \"I don't care what BS cernovich has done, have some goddamn ethics. For real, though.\",\n",
       " 'A 7! Colin dipping his end in! #mkr',\n",
       " '@gripusa Yeah, I love idiots like you who tell me that I have to tolerate  the intolerant.  You can stick that.',\n",
       " 'When autocorrect just gets you https://t.co/WbzNS46a9Q',\n",
       " '@NicolaSturgeon @Wimbledon What ?????? You’re obviously not watching Evans and Sousa then 😂😂',\n",
       " \"Seriously, though. I'm still pretty upset about Leonard Nimoy.\",\n",
       " \"#MKR you'd think in her downtime Annie would have paid Napoléon Perdis a visit and learnt not to use the same coloured blush as your hair...\",\n",
       " 'Aw 😍😘 I owe you a mustache ride! https://t.co/uGmuakhXFH',\n",
       " 'RT @IsraelandStufff: #Police shot dead #Arab driver in vehicular terror-attack injuring 2 Policemen in #Jerusalem\\n\\nMale &amp; female... http:/…',\n",
       " \".@MyKeyMoonShine @Grummz i don't think you understand what gaslighting means. but that's adorable.\",\n",
       " '@ANN_Lynzee the thing i fight with is when i see minorities mob signing off on the exact behavior they know is terrible.',\n",
       " '#WomensMarch collected hundreds of hysterical women to display their best hysteria upon cue during Sen Hearing - sounds like a try out for a TV show',\n",
       " '@Icegirl69 @PeachyKeenBean7 @JessicaValenti *sad',\n",
       " 'RT @redbrasco: The best statement I`ve seen about #Kurdistan.The West needs 2 wake-up and fully support the #Kurds. #TwitterKurds http://t.…',\n",
       " '@AllisonMorris1 It wiĺl be interesting to see if these rumoured 12 Tory MPs are really willing to bring down Govt to stop a no deal',\n",
       " '@UnburntWitch Holmes &amp; Watson\\xa02018',\n",
       " 'RT @TatsianaL: @etreilly @phakanm @nyheternajohan  nobody attacks people in Ukrainian towns until there\\'s\" russian world\" Look at Slavyansk…',\n",
       " '@NNdabbour64 They kill him.',\n",
       " '@LeftisEvil6 Legally it is rape if you inserted something inside someone without their consent',\n",
       " 'Men are fighting for their rights. Subscribe with RSS. #EqualParenting #bb16 http://t.co/6n4V9kBtya',\n",
       " '@JessicaValenti This brings rage inducing levels of disgust',\n",
       " '@erinjmccarty YUP. Clemson Uni.',\n",
       " 'How basic bitches wash away their weekend sins and mistakes https://t.co/pw5xSg1ENt',\n",
       " 'RT @Larryputt: The Victims of Islam: http://t.co/13nJXgMgkl +',\n",
       " '@rdxxxz @Whore_Hey97 Streams',\n",
       " '@Alison_McGovern @WirralCouncil @ThisGirlCanUK @EverydaySexism Unlikely they’d have done the same poster aimed at men. With women it’s ALL about looks!',\n",
       " 'Christians in Africa: \"You have three days to go or you will be killed!\" https://t.co/dLMySyLMAW Where is the outrage? What is the Church doing?',\n",
       " 'I kinda want to see you again just so I can punch you in the kidney. #WomenSuck',\n",
       " \"They weren't kidding when they said deconstructed! #mkr\",\n",
       " \"RT @natashaessell: You guys are scoring them a 1? Really Kat and Andre? I think the fat on the pork is actually more edible that your 'home…\",\n",
       " \"Yes, we get it. You're pretty. Tone down the self promo and just cook! @mykitchenrules #MKR\",\n",
       " 'Friend- do you wanna be buried or cremated? Me- https://t.co/uQSTSW8FTW',\n",
       " '@TURBOCUNT my new babies: http://t.co/rFODaqEHAW',\n",
       " '@UnburntWitch @jephjacques gambling catgirl helsing?!',\n",
       " 'With Petes so called Paleo Diet. I call BS BS BS on him eating &amp; swallowing. Wheres the Bin #MKR2015 #MKR',\n",
       " '@mattmfm Wrong, you slithering kunt.',\n",
       " '.@MarciaCrocker01 @trishesdishes ..mistake. I find both abortion &amp; child abandonment detestable. But, if one gets an awful choice, both must',\n",
       " '@PrisonPlanet Telemarketer did same to me called me a whore and said he would rape me. Nice.',\n",
       " '@Friday13 @DarkSim7 @InvisibleJimBSH @iam8bit your mom was uncalled for.',\n",
       " 'Y’all.. when this bitch said “look into my eyes” I only kept eye contact for 1 second bc I was so intimidated. 😳👀',\n",
       " 'Watching last nights #MKR ... Celine would be an absolute hoot to know!!',\n",
       " \"They'll be back in The Never Say Die Never Say Never Again round. #mkr\",\n",
       " '@Skank_Huntt_42 @TheAfriCitizn Ok',\n",
       " '@MoiraDonegan @JessicaValenti Yes. Pay for my therapy.',\n",
       " \"Compulsory femininity is expensive and exhausting. I don't want jewelry, perfume, makeup I carry around to reapply, hair accessories, etc.\",\n",
       " 'Maine coon\\n\\n#Maine #coon http://t.co/iiwhpAoV8B',\n",
       " '@UnburntWitch On an “Empire Strikes Back” Hoth monster ❤️',\n",
       " 'RT @victorymonk: Oh, I have one too!!!  @MT8_9 @HisFeministMama @fruitondabottom http://t.co/jrvmjyILge',\n",
       " '@FoxDefeated @UnburntWitch none, this is What If? number 44, a single issue. hell of a single issue',\n",
       " \"Jesus Sex Trafficking is grim. A lot of these women were damaged by something happening to them and that's where the pimp took advantage\",\n",
       " 'When you finally get what you deserve https://t.co/1QWuExw4jL',\n",
       " 'This is superb. Practical guide for rights of women esp at divorce and rape in marriage. @HHbruichladdich @RehmanYasmin @SBSisters https://t.co/DTWy7j77Ri',\n",
       " \"I'm sure that sausage on the hotpot looks more like a turd.. #MKR\",\n",
       " \"How do you deconstruct a lemon tart? It's custard in a tart shell. #mkr\",\n",
       " '@AOC Obama built those cages',\n",
       " '@LemboTheGeneral @Leigh_Lupindo MEN ARE NEVER EMOTIONAL',\n",
       " '@gameragodzilla @Totalbiscuit @Grummz @BenKuchera as slurs such as feminazi and the like get shouted around, and everyone goes into',\n",
       " \"When he promised you he was gonna 'fuck the shit out of you' but can't even make it to round two. https://t.co/jE6bWfYiPP\",\n",
       " '@UltClassicRock M &amp; M and RAM have absolutely NOTHING to do with Classic Rock so why are you doing this?',\n",
       " \"lol @ dude in my mentions defending software piracy, saying it doesn't create financial harm.\",\n",
       " '@JessicaValenti @abradacabla *white boys can',\n",
       " '#mkr devo @EmilySymons_ . Oh  well .... Big breath and time to move on 😒',\n",
       " 'Look, the spatchcock has come back.....as vomit\\n\\n#MKR',\n",
       " \"@ASK_des Oh dear, because you don't agree with him you describe him as hysterical? BTW 44m didn't vote Leave.\",\n",
       " '@Ohmisssally @13_moths @UnburntWitch Says someone who should be in the kitchen',\n",
       " 'And now for the dish that best represents the girls...... A big deconstructed TART  #MKR',\n",
       " '@hansmollman ah, describing women as hysterical, how innovative, original, striking',\n",
       " 'Wonder if @NicolaSturgeon will tweet about this today, she normally likes to boast about her special meetings\\n\\nFeel for her majesty having to sit  with her today https://t.co/OAnOMEIoqJ',\n",
       " '@shornawx_ @WoleOdeleye 10 year old you is hysterical.',\n",
       " '@witch_sniffer @auntysoapbox I know...was on #NoMorePage3 for that whole thing.  Best troll EVER.',\n",
       " '(1) @DebraMessing < STFU These women put their babies in harms way &Subject them 2 rape &more by the coyotes who they pay 2 bring them here.',\n",
       " \"Happy 4th of July everyone! Ladies don't fuck it up! () () () () <---- vaginas\",\n",
       " \"@Bill_Owen A moron thus probably thinks that rape is a form of aggressive romance. People this stupid don't merely exist, many have inordinate power DT\",\n",
       " '@tjxwavy1 @d_zaldanaa Dyke is a strong and derogatory term  that we refrain from using in 2019. Thank you',\n",
       " '@AnonMnom @LBigmann Any real world examples of women actually being jailed for it?',\n",
       " '@ULTRAGLOSS Thank you Logan for building my childhood leading me up to being a white mans whore by being in the Percy Jackson movies',\n",
       " \"@a_wood20 @AllisonMorris1 I think with the public becoming less keen on a hard brexit this will be reflected in a GE and is therefore too risky, so Boris won't risk it.\",\n",
       " '@KristianJosephs Do you know how traumatizing rape is?',\n",
       " '@stericasantos @JessicaValenti Pig.',\n",
       " 'Be careful what you do to a good woman because you will have to deal with the bitch you created 😏',\n",
       " 'Because a man who sexually assaulted my friend in high school with two others is now a cop in my home town. #YesAllWomen',\n",
       " '@boxedariel @LostSailorNY No one said she should.',\n",
       " \"@oolon you know this is like the only time a dude's code was ever incorrectly attributed to a chick, ever. :P\",\n",
       " '@Liafuckrbhisss @JessicaValenti @denizoce Or more specifically it seems to be favoring privileged whites like Trump, kavanaugh, Epstein, Moore etc. These people trick the poor whites to support them by focusing their anger towards minorities.',\n",
       " \"Why you always actin mad? Always bringin' up my past You in your feelings about a hoe that don't matter Know that I'll give you my last\",\n",
       " 'I hope to god Kat cant sleep at night #MKR',\n",
       " \"When it's not your fathers birthday... https://t.co/YdJI9M0NN5\",\n",
       " \"Remember nothing says 'I love you' like letting her pay for dinner... It shows her that you really trust her to take care of you\",\n",
       " \"@drayzze I'm having a hard time with the camel toe thing going on as well.\",\n",
       " '@adriennecgomez money :P',\n",
       " 'RT @victorymonk: @thisonesakillaa @MT8_9 Reminds me of Simpsons where grandpa was screaming \"Death!!!\" at everything. Now it\\'s rape. https:…',\n",
       " '@ArcticPriMe @danishdragon The fact that people seriously use the word feminazi these days... &gt;_&gt;',\n",
       " 'the fact that who comments on this cube problem is mostly not a cube stan?? yall be creating tweets so you can get rts and like. shut the fuck up if you dont know anything about cube, jesus',\n",
       " '@GOP @POTUS A man with 3 wives, 15 women accused him of assault, 13 yr old girl accused him of rape, makes speech about religion &; values. Funny! https://t.co/qq8L27OwFh',\n",
       " '@VeganStar2001 @purity95433873 When did the first feminazi learn to read?',\n",
       " '@Vent_Oh your caveat that \"it\\'s not cool when men do it either\" is a false equivalence. Those statements have unequal weights.',\n",
       " \"RT @ColinCowell: Don't go bacon my heart .......#mkr2015 #mkr I couldn't if I fried http://t.co/heJYmIoJaS\",\n",
       " 'Booooooo #MKR ratings win aye!!',\n",
       " '@BLUNTmoms How?',\n",
       " '@Swamy39 Sir why you are brewing frustration of #Gurudaspur on #Lord Ram',\n",
       " '#mkr if the contestants opened a restaurant: http://t.co/e5RvGzeDkT',\n",
       " '@RejectRaine @willberthelot Legally in a Western nation?',\n",
       " 'If you stand with rape survivors against rape, then stand up and practice what you preach. #womentakeovertwitter',\n",
       " \".@facerealitynow I saw/RT'ed it.  Too funny.  I saw this one today... http://t.co/NLIUdKfD7w\",\n",
       " 'THIS BITCH SAID THE CHILD IS MISSING A CHURCH FAN 😭 please I’m no more good 🤣🤣🤣🤣🤣🤣 https://t.co/DANgCMosJ5',\n",
       " '@nickalicious_49 @FilmFatale_NYC You 😊 sure 😊 are 😊 #NotAllMen',\n",
       " 'Having a dirty mind makes life a lot more enjoyable.',\n",
       " 'Maybe the girls should have less tickets on themselves and worry about the cooking. #MKR',\n",
       " \"When someone announces they're unfollowing https://t.co/pF44Lw5NzL\",\n",
       " 'A fisherman found this sea turtle wrapped up in a gill net in North Carolina’s inside coastal waters Thursday night. Any guesses on how many sea turtles are allowed to be killed annually to keep the large mesh gill net fishery open in NC inshore waters? https://t.co/qbtbeuyatV',\n",
       " \"RT @KanoWyatt: @jennahhhx I pay the bills in this household it's the least she can do\",\n",
       " '@liz6153 @InvisibleChoice @SofonisbaAngui7 @patrickharvie @agcolehamilton @kezdugdale @ChristinaSNP @NicolaSturgeon I don\\'t know how to further break down the description of \"a lesbian who is transphobic or acts in a transphobic manner\" without either insulting your intelligence or suggesting you\\'re not familiar enough with terminology to even be part of this debate, sorry.',\n",
       " 'How good would sudden death be with Annie &amp; Lloyd vs Kat &amp; Andre. #mkr',\n",
       " \"Lol instead of killing a wasp I saved it. Ellen was super surprised but if I were trapped inside I wouldn't want to be killed, let me the fuck ouuuuttt\",\n",
       " \"Don't ever apologize for knowing your worth... Even if you're worthless\",\n",
       " '@CarlyandTresne you are the best #MKR',\n",
       " \"@edgeofthesandbx @batchelorshow @FearDept All I can tell you is that if you really want to understand Putin, read Masha Gessen's book.\",\n",
       " 'Wow.  Kat &amp; annie make the perfect horrible couple #MKR',\n",
       " '@ceruleetheblue @UnburntWitch I’m saying white nationalists are clowns with poisoned minds who kill people every week and never get laid',\n",
       " '@alston_myles @Mrminibagel ...sorry, just checked your TL.  I thought you were arguing in concert w/ this genius... http://t.co/CSEPnXse48',\n",
       " \"@KUROl_TENSHl you lost me to hysterical laughter at 'hotdogs on legs' 😂😂😂😂\",\n",
       " '@cloutlessrat i just took a dna test, turns out i’m 100% am for tomorrow\\n\\nwtf is that even supposed to mean (yes i typed it out while playing bitch lasagna in my head)',\n",
       " \"@Angry_Feminazi @FeministFailure it's seems to mainly to be young women mostly. I hope these post haunt her forever.\",\n",
       " '@BBCPolitics @kezdugdale @jessphillips All aboard the latest bandwagon',\n",
       " '@mykitchenrules nailed it!!! #MKR',\n",
       " \"@youfoundthecard @ChrisWarcraft I'm not as young as you think I am :P\",\n",
       " '@rosscolquhoun @NicolaSturgeon You might want to revise the figure on your front page #LiarsForIndy https://t.co/Z1pHRHdn8q',\n",
       " \"@Prostathlitis I know.  You know.  My intent is to prove they don't know.\",\n",
       " \"I feel we're in for one hell of a ride on #MKR thanks to the inclusion of Crazy-Kat. http://t.co/nYriPVKbJt\",\n",
       " 'Obama just said \"user face desginer\" - oh no. no no no.',\n",
       " '@cruzesmeralda Are you complaining? Do you know how to defeat ISIS with no civilian or property damage?',\n",
       " '@jameslikesowls How do you screw up cooking bread... in a cooking competition #mkr',\n",
       " 'Un ejemplo de how stupid some people look saying not all men',\n",
       " \"RT @SydneyEditor1: I keep looking for Rob/Lynzey &amp; Debra/Eva but they're safe right? #MKR\",\n",
       " '@mykitchenrules time! THE TEXAN IS BACK BABY! #mykitchenrules #mkr',\n",
       " '#MKR France Vs Ireland Vs Paleo Pete...LETS RUMBLE!',\n",
       " \"Colin's back #MKR\",\n",
       " '@kennedy_jordan I see your strawman and I raise you a Zoidberg http://t.co/HDtd6nTWkz',\n",
       " '@comradejotaro @brassidio Maybe instead of telling me what to do, you try this - kiss my ass.',\n",
       " \"If I ever do get scared, you'll never know. 😘\",\n",
       " '@jkronenwetter18 So secure in his unshakeable faith in patriarchy that he banned me from retweeting his asinine reply',\n",
       " \"No one even likes you Kat &amp; Andre. You won't last long...#mkr\",\n",
       " '@MCNMG @SethAbramson Says the woman who votes for rape enabling criminal and supports killing babies',\n",
       " '@fussybabybitch @FunVampire02 he has dyed hair.... the SJW FEMINAZI ILLUMINATI GOT TO HIM!!!!!!',\n",
       " '#mkr \"we cook all the time\" yup they cook so much they don\\'t know how to use a can opener',\n",
       " \"@pmbairrins It's not hysterical or exaggeration. Abortion is horrendous. There are other ways to help women in crisis\",\n",
       " \"When you're out to eat with your girl and the waitress knows you by name https://t.co/Q5LoPZiODu\",\n",
       " '@All4Av BASICALLY ME',\n",
       " 'RT @KelAnne_: Bit rich calling other people elephants, Celine and Vicky. #MKR',\n",
       " '@Addiecfc Pretty sure white men make more than everyone else and have lowest unemployment, so 200+ yr aff. action program is still working',\n",
       " '@NUBionicwoman Is it wrong to argue by implying the other person cannot get laid?',\n",
       " 'It is a glorious life that I lead https://t.co/FoFKtBEElV',\n",
       " '@NatalieTudor Gray sweat pants/sweatshirt.',\n",
       " \"@Oneiorosgrip @Dogsplained That's what I thought at first...haven't read comics in a while, so...I have no reference.  Awesome job if fake.\",\n",
       " '@AdnanSadiq01 @sibeledmonds And there would have been no Iraq elections.  Real shame.',\n",
       " '@ilovegarick @BayAreaOSS sure! email me, randi@randi.io',\n",
       " '@AnnCoulter @DonaldJTrumpJr You need to crawl back under your are the hysterical woman.',\n",
       " '@Go__Pete__Go Why would you not like a damn who administration is attempting to decriminalize being homosexual or trans in places where you would be killed for being gay etc as I see you have a rainbow flag in your name',\n",
       " \"Tonight's #MKR confirms the casting people trawl the dark depths of the seriously delusional, the supremely misguided &amp; plain rotten cooks.\",\n",
       " '@DontKillMyVibe9 We understand. They need to understand that men are born to be in control. Thanks for supporting our cause!',\n",
       " 'did u know meatballs are a food of choice for ppl who frequent libraries or disneyland?? #mkr',\n",
       " 'Social Media Ambassadors | WOAR - Women Organized Against Rape https://t.co/llp2iEFhin',\n",
       " '@mabdinur85 @JessicaValenti It’s sad',\n",
       " 'LMGTFY might be my favorite way to educate people I have no obligation to educate.',\n",
       " \"Normally when Kat &amp; Andre go to campgrounds, it's so they can enjoy some dogging #MKR\",\n",
       " 'I forgot how much I dislike the mum and son team #MKR',\n",
       " \"Waiting for outrage. You'll see.\",\n",
       " \"@BruceLeVinePuck @StarsAsylum &gt; Taking emotion out of the equation, isn’t this an upgrade?\\n\\nThat's the point. I can't take emotion out of the equation. Winning dirty doesn't feel good. Perry is a dirty player.\",\n",
       " \"Robert DeNiro used his 'Tribeca Grill' as after hours whorehouse to Pimp young women to Harvey Weinstein. #MeToo https://t.co/X5LMjds4Bv\",\n",
       " \"@RobertGBeckel Bobbys a little butt hurt today. Go have a drink and STFU you are the a**hole. I've lost all respect for you. I used to think you spoke real\",\n",
       " 'Everyone has immunity this week...Kat and Andre are sure to fail big time #mkr',\n",
       " \"@safirnewstv Gee, an opinion with zero evidence.  I'm convinced.\",\n",
       " '@HalpernAlex @MattNowak1 @UnburntWitch Similar to MeToo right? Just like all those other grifters who faked being raped and abused. Just like Andy, I guess they deserved everything they got.',\n",
       " '@MKriegbaumJr Yeah! Why do we feed the hungry but not the full? Why do we give shelter to the homeless but not the homed? SO UNEQUAL',\n",
       " '@HalfwayToHobo @JessicaValenti Oh geez that would be the most horrible fate',\n",
       " 'Kat and Andre are the shittest cooks to get a pass on this show #MKR',\n",
       " '@filthy_degen Everything I post is free to be reused.',\n",
       " \"Life's too short to be giving people second chances\",\n",
       " \"When your friend owes you money and they're taking a little too long to pay you back https://t.co/wReKiIdH0c\",\n",
       " '@TSUpdatesNYBU @radaronline Delulu 🤣 For someone irrelevant, you didn’t, honey. Taylor’s going on top. This bitch 🤣',\n",
       " '@shubHASHISH OMG EXCELLENT JOKE ARE YOU ON FOX NEWS?',\n",
       " 'Felling love with this Couture Inspired Sandwich Maker by Dash: https://t.co/sfozqEj4ta #sandwichmaker #appliance… https://t.co/BLKaWIvcAD',\n",
       " '@DanielBaguley Libya was on a rise till you guys bombed them to hell hole, now talking bout backwards',\n",
       " '@AllisonMorris1 @JamieBrysonCPNI @irish_news Just like wille did when Martin McGuinness died aye',\n",
       " '@Terroriser Brian you should’ve got RGB ram!!!',\n",
       " '@AzakaelTweets blasphemy',\n",
       " \"TMI GAME\\n\\n1. idk 5'4/5'5\\n2. idk whoops\\n3. libra\\n4. 2\\n5. hmm bi ig???\\n6. brown\\n7. back\\n8. 'MERICAAA\\n9. Grenada\\n10. italy, France, Spain\\n11. what\\n12. Visions of China\\n13. White Mice\\n14. whore\\n\\ndrop an emoji &amp; i’ll dm you the questions\",\n",
       " 'Guilty: Man did rape woman on Darlington riverbank https://t.co/fZtcevTJI9',\n",
       " '#BlameOneNotAll because Benedict Cumberbatch, David Tennant, Jared Padalecki, and Jensen Ackles must all be rapists too, right tumblr girls?',\n",
       " '@amishman84 @Tara_lyn1 @NicolaSturgeon You say we’re angry. If you were to consider women’s point of view at all, you would realise why. How is it that you empathise so readily with transwomen, yet not with women?',\n",
       " 'Me https://t.co/cgZaAbBQ8R',\n",
       " \"@joanneleon @ChristophHeer52 ... Nazi ideological indoctrination. And wiki will tell you that half the world's neo Nazis live in Russia.\",\n",
       " 'http://t.co/ZxbZV39jru: Maine Coon Babys www.#of-loveliness.de http://t.co/hnuMt7cCMK #babys #coon #maine',\n",
       " \"@PeerWorker @EvvyKube Nope. You keep saying that, but we both know you're lying. Show me where I called you stupid.\",\n",
       " \"RT @Quinnae_Moon: The ease with which one can dogpile others is scary, not least because we all think we're acting as individuals rather th…\",\n",
       " \"RT @120dollarsfood: This show is going to air until Christmas isn't it? #MKR\",\n",
       " \"Yes Kat and Andre were unsportsmanlike but even if they scored 3 or 4 like everyone else the bimbos still wouldn't have got through #mkr\",\n",
       " \"@YesWeCan_scot @TheHughMcMillan @NicolaSturgeon Are you suggesting that England can't import it from elsewhere? Have you considered that England imports from Scotland because of the Union?\",\n",
       " 'Gotta keep it on me don’t wanna die young. I rather be judged by 12 than be killed by 6!!!',\n",
       " '@LBigmann Best meme ever.  Yours?  Or where did you find it?',\n",
       " \"a kickstarter is tempting. but I'm just so weird about money. I still feel kind of squick about my patron tbh. blame FOSS mentality.\",\n",
       " \"@OfRedAndBlue oh. See, that's really tough. Anger is often justified. But it's a question of who we are actually angry at.\",\n",
       " '@67fisherman @AdamSchefter And since you love trials and false equivalency between athletes and protecting women how about this one Duke lacrosse rape??????',\n",
       " 'People choice even better!! #mkr',\n",
       " '@StuMcK7 @JeanFind @Call_It_Out_ @deejaypb @MhairiHunter @HumzaYousaf @NicolaSturgeon @AnasSarwar @SusaninLangside An expression of our freedoms, beliefs, religion and history. Nothing to do with hatred.',\n",
       " '@ZilayHumaDar How could I forget my buddy @SJzehri. But with not a dirty but very sharp and intelligent mind.. 😊😊',\n",
       " \"@shaner38 I said it for months.  Didn't know how good McKinnon was...\",\n",
       " \"@Kaya786 @fai3an_H And I don't walk in circles around a black meteor in Mecca under the delusion that it will please god.\",\n",
       " 'Because if Elliot Rodger had killed just ONE woman who had rejected him for a date, it would not be national news. #YesAllWomen',\n",
       " \"Well it's a mystery to me too https://t.co/PDMgmgL8DB\",\n",
       " \"@nat_com1 @Feminazi_Front It doesn't really make sense to complain abt inequality when it comes to biology.\",\n",
       " \"It's called being an ally, pissants. Pay attention, you might learn something.\",\n",
       " \"@UnburntWitch s'not a big deal, only a 5.0\",\n",
       " 'Do you get up off the couch and stand for the Anthem when youre at home? Then shut the fuck up.',\n",
       " \"When you're trying your best to fit in https://t.co/o78N69sDOm\",\n",
       " 'Dude next door: “So what you wanna do about the tp situation?” Me: “ummm you buy your own and I buy mine....” Me to Me: “this kunt 😑”',\n",
       " 'Count on it https://t.co/ThQNtovafg',\n",
       " 'Damn Kat &amp; Andre sneak through, would much rather Katie &amp; Nikki had gotten through #mkr #damnukat',\n",
       " '@hayleyjoness ...as a result there is a POSSIBLE supply of 100% of the population for all \"female\" jobs vs. maybe 20% for some \"male\" jobs.',\n",
       " 'Seriously! two couples who could actually cook are gone while two others clearly should not even be on the show reputations in ruins  #MKR',\n",
       " '#Arab Man Arrested Trying To Enter Same #Nuclear Facility Warned http://t.co/PQtv6yBmue Islamic_Terror_Bomb_Waiting_To_Go_Off.php',\n",
       " '@sinboy or just scary',\n",
       " 'I have been in mortal fear of ever destroying my iPhone because I 2FA everything.',\n",
       " '@MelissaHovey1 MELISSA, YOU’RE HYSTERICAL. 😂 I AM GIVING YOU A HAPPY DANCE FOR TODAY🙌🏻 https://t.co/91e6zXZEDH',\n",
       " '@SFtheWolf there are better ways to make that comic &amp; not scare off all your female customers.',\n",
       " 'I see @legobutts!!! #gameloading',\n",
       " ...]"
      ]
     },
     "execution_count": 48,
     "metadata": {},
     "output_type": "execute_result"
    }
   ],
   "source": [
    "df_test[df_test['prediction']<=.5].sort_values('prediction', ascending=False)['text'].tolist()"
   ]
  },
  {
   "cell_type": "markdown",
   "metadata": {},
   "source": [
    "### Visualization of probability distribution"
   ]
  },
  {
   "cell_type": "code",
   "execution_count": 49,
   "metadata": {
    "pycharm": {
     "is_executing": false
    }
   },
   "outputs": [
    {
     "data": {
      "image/png": "[encoded data removed]",
      "text/plain": [
       "<Figure size 432x288 with 1 Axes>"
      ]
     },
     "metadata": {
      "needs_background": "light"
     },
     "output_type": "display_data"
    }
   ],
   "source": [
    "df_test['prediction'][df_test['label']==1].plot.hist(bins=99, alpha=.5, label=\"Misogyny\")\n",
    "df_test['prediction'][df_test['label']!=1].plot.hist(bins=99, alpha=.5, label=\"No Misogyny\");\n",
    "plt.legend();"
   ]
  },
  {
   "cell_type": "markdown",
   "metadata": {},
   "source": [
    "## Parameter Optimization\n",
    "\n",
    "One can fine-tune the model's hyperparameters in order to\n",
    "find the best possible model."
   ]
  },
  {
   "cell_type": "code",
   "execution_count": 50,
   "metadata": {
    "pycharm": {
     "is_executing": false
    }
   },
   "outputs": [],
   "source": [
    "estimator = RandomForestClassifier(n_jobs=-1, random_state=42)"
   ]
  },
  {
   "cell_type": "code",
   "execution_count": 51,
   "metadata": {
    "pycharm": {
     "is_executing": false
    }
   },
   "outputs": [],
   "source": [
    "# BEWARE: Searching for more than just a couple parameters will increase the calculation time exponentially!\n",
    "param_grid = {\n",
    "    \"n_estimators\": [50, 200],\n",
    "#     \"max_depth\": [3, None],\n",
    "#     \"max_features\": [1, 10, 100],\n",
    "#     \"min_samples_split\": [10, 100, 1000],\n",
    "#     \"bootstrap\": [True, False],\n",
    "#     \"criterion\": [\"gini\", \"entropy\"],\n",
    "}"
   ]
  },
  {
   "cell_type": "code",
   "execution_count": 52,
   "metadata": {
    "pycharm": {
     "is_executing": false
    }
   },
   "outputs": [],
   "source": [
    "grid_search = GridSearchCV(estimator, param_grid=param_grid, cv=5, iid=False, verbose=2, n_jobs=-1)"
   ]
  },
  {
   "cell_type": "code",
   "execution_count": 53,
   "metadata": {
    "pycharm": {
     "is_executing": false
    }
   },
   "outputs": [
    {
     "name": "stdout",
     "output_type": "stream",
     "text": [
      "Fitting 5 folds for each of 2 candidates, totalling 10 fits\n"
     ]
    },
    {
     "name": "stderr",
     "output_type": "stream",
     "text": [
      "[Parallel(n_jobs=-1)]: Using backend LokyBackend with 4 concurrent workers.\n",
      "[Parallel(n_jobs=-1)]: Done  10 out of  10 | elapsed:   38.9s finished\n"
     ]
    },
    {
     "name": "stdout",
     "output_type": "stream",
     "text": [
      "CPU times: user 29.4 s, sys: 138 ms, total: 29.6 s\n",
      "Wall time: 46.8 s\n"
     ]
    },
    {
     "data": {
      "text/plain": [
       "GridSearchCV(cv=5, error_score='raise-deprecating',\n",
       "             estimator=RandomForestClassifier(bootstrap=True, class_weight=None,\n",
       "                                              criterion='gini', max_depth=None,\n",
       "                                              max_features='auto',\n",
       "                                              max_leaf_nodes=None,\n",
       "                                              min_impurity_decrease=0.0,\n",
       "                                              min_impurity_split=None,\n",
       "                                              min_samples_leaf=1,\n",
       "                                              min_samples_split=2,\n",
       "                                              min_weight_fraction_leaf=0.0,\n",
       "                                              n_estimators='warn', n_jobs=-1,\n",
       "                                              oob_score=False, random_state=42,\n",
       "                                              verbose=0, warm_start=False),\n",
       "             iid=False, n_jobs=-1, param_grid={'n_estimators': [50, 200]},\n",
       "             pre_dispatch='2*n_jobs', refit=True, return_train_score=False,\n",
       "             scoring=None, verbose=2)"
      ]
     },
     "execution_count": 53,
     "metadata": {},
     "output_type": "execute_result"
    }
   ],
   "source": [
    "%%time\n",
    "grid_search.fit(x_train, y_train)"
   ]
  },
  {
   "cell_type": "code",
   "execution_count": 54,
   "metadata": {
    "pycharm": {
     "is_executing": false
    }
   },
   "outputs": [
    {
     "data": {
      "text/plain": [
       "{'mean_fit_time': array([ 6.00189438, 20.41637735]),\n",
       " 'std_fit_time': array([0.06625505, 6.74117391]),\n",
       " 'mean_score_time': array([0.11927028, 0.22210913]),\n",
       " 'std_score_time': array([0.02566628, 0.03788422]),\n",
       " 'param_n_estimators': masked_array(data=[50, 200],\n",
       "              mask=[False, False],\n",
       "        fill_value='?',\n",
       "             dtype=object),\n",
       " 'params': [{'n_estimators': 50}, {'n_estimators': 200}],\n",
       " 'split0_test_score': array([0.72064057, 0.73176157]),\n",
       " 'split1_test_score': array([0.74644128, 0.7566726 ]),\n",
       " 'split2_test_score': array([0.72864769, 0.74688612]),\n",
       " 'split3_test_score': array([0.73063224, 0.74220837]),\n",
       " 'split4_test_score': array([0.71460374, 0.72573464]),\n",
       " 'mean_test_score': array([0.7281931 , 0.74065266]),\n",
       " 'std_test_score': array([0.01077834, 0.01095001]),\n",
       " 'rank_test_score': array([2, 1], dtype=int32)}"
      ]
     },
     "execution_count": 54,
     "metadata": {},
     "output_type": "execute_result"
    }
   ],
   "source": [
    "grid_search.cv_results_"
   ]
  },
  {
   "cell_type": "code",
   "execution_count": 55,
   "metadata": {
    "pycharm": {
     "is_executing": false
    }
   },
   "outputs": [
    {
     "data": {
      "text/plain": [
       "RandomForestClassifier(bootstrap=True, class_weight=None, criterion='gini',\n",
       "                       max_depth=None, max_features='auto', max_leaf_nodes=None,\n",
       "                       min_impurity_decrease=0.0, min_impurity_split=None,\n",
       "                       min_samples_leaf=1, min_samples_split=2,\n",
       "                       min_weight_fraction_leaf=0.0, n_estimators=200,\n",
       "                       n_jobs=-1, oob_score=False, random_state=42, verbose=0,\n",
       "                       warm_start=False)"
      ]
     },
     "execution_count": 55,
     "metadata": {},
     "output_type": "execute_result"
    }
   ],
   "source": [
    "grid_search.best_estimator_"
   ]
  },
  {
   "cell_type": "code",
   "execution_count": 56,
   "metadata": {
    "pycharm": {
     "is_executing": false
    }
   },
   "outputs": [
    {
     "data": {
      "text/plain": [
       "0.7133019209858644"
      ]
     },
     "execution_count": 56,
     "metadata": {},
     "output_type": "execute_result"
    }
   ],
   "source": [
    "f1_score(y_test, grid_search.predict(x_test))"
   ]
  },
  {
   "cell_type": "code",
   "execution_count": 57,
   "metadata": {
    "pycharm": {
     "is_executing": false
    }
   },
   "outputs": [],
   "source": [
    "y_proba = grid_search.predict_proba(x_test)"
   ]
  },
  {
   "cell_type": "code",
   "execution_count": 58,
   "metadata": {
    "pycharm": {
     "is_executing": false
    }
   },
   "outputs": [
    {
     "data": {
      "image/png": "[encoded data removed]",
      "text/plain": [
       "<Figure size 432x432 with 1 Axes>"
      ]
     },
     "metadata": {
      "needs_background": "light"
     },
     "output_type": "display_data"
    }
   ],
   "source": [
    "plot_roc_auc_f1(y_test, y_proba, title=\"Random forest - Grid search best result\");"
   ]
  },
  {
   "cell_type": "markdown",
   "metadata": {},
   "source": [
    "## Predict user input - A quick test\n",
    "\n",
    "Remember: 0 is not misogynistic, 1 is misogynistic."
   ]
  },
  {
   "cell_type": "code",
   "execution_count": 59,
   "metadata": {
    "pycharm": {
     "is_executing": false
    }
   },
   "outputs": [],
   "source": [
    "best_rf = grid_search.best_estimator_"
   ]
  },
  {
   "cell_type": "code",
   "execution_count": 60,
   "metadata": {
    "pycharm": {
     "is_executing": false
    },
    "scrolled": true
   },
   "outputs": [],
   "source": [
    "misog_vector = nlp(\"Women are inferior to men.\").vector"
   ]
  },
  {
   "cell_type": "code",
   "execution_count": 61,
   "metadata": {
    "pycharm": {
     "is_executing": false
    }
   },
   "outputs": [
    {
     "data": {
      "text/plain": [
       "array([[0.455, 0.545]])"
      ]
     },
     "execution_count": 61,
     "metadata": {},
     "output_type": "execute_result"
    }
   ],
   "source": [
    "best_rf.predict_proba(misog_vector.reshape(1, -1))"
   ]
  },
  {
   "cell_type": "code",
   "execution_count": 62,
   "metadata": {
    "pycharm": {
     "is_executing": false
    }
   },
   "outputs": [
    {
     "data": {
      "text/plain": [
       "array([[0.585, 0.415]])"
      ]
     },
     "execution_count": 62,
     "metadata": {},
     "output_type": "execute_result"
    }
   ],
   "source": [
    "best_rf.predict_proba(nlp(\"Have a nice day\").vector.reshape(1, -1))"
   ]
  },
  {
   "cell_type": "markdown",
   "metadata": {},
   "source": [
    "Seems to be working! :-)"
   ]
  },
  {
   "cell_type": "code",
   "execution_count": null,
   "metadata": {
    "pycharm": {
     "is_executing": false
    }
   },
   "outputs": [],
   "source": []
  }
 ],
 "metadata": {
  "kernelspec": {
   "display_name": "Python 3",
   "language": "python",
   "name": "python3"
  },
  "language_info": {
   "codemirror_mode": {
    "name": "ipython",
    "version": 3
   },
   "file_extension": ".py",
   "mimetype": "text/x-python",
   "name": "python",
   "nbconvert_exporter": "python",
   "pygments_lexer": "ipython3",
   "version": "3.7.6"
  },
  "pycharm": {
   "stem_cell": {
    "cell_type": "raw",
    "metadata": {
     "collapsed": false
    },
    "source": []
   }
  }
 },
 "nbformat": 4,
 "nbformat_minor": 2
}
