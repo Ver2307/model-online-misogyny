{
 "cells": [
  {
   "cell_type": "markdown",
   "metadata": {},
   "source": [
    "# Train a random-forest classifier\n",
    "\n",
    "Let's see how a random forest can learn to distinguish misogynistic\n",
    "speech from generic speech."
   ]
  },
  {
   "cell_type": "code",
   "execution_count": 1,
   "metadata": {
    "pycharm": {
     "is_executing": false
    }
   },
   "outputs": [],
   "source": [
    "import numpy as np\n",
    "import pandas as pd\n",
    "import spacy\n",
    "import matplotlib.pyplot as plt\n",
    "plt.style.use('ggplot')\n",
    "%matplotlib inline"
   ]
  },
  {
   "cell_type": "code",
   "execution_count": 2,
   "metadata": {
    "pycharm": {
     "is_executing": false
    }
   },
   "outputs": [],
   "source": [
    "from sklearn.decomposition import PCA\n",
    "from sklearn.ensemble import RandomForestClassifier\n",
    "from sklearn.model_selection import train_test_split\n",
    "from sklearn.metrics import auc, f1_score, confusion_matrix, roc_curve\n",
    "from sklearn.model_selection import GridSearchCV"
   ]
  },
  {
   "cell_type": "markdown",
   "metadata": {},
   "source": [
    "*Know more about Sci-kit learn: https://scikit-learn.org/stable/*"
   ]
  },
  {
   "cell_type": "markdown",
   "metadata": {},
   "source": [
    "### Load the data"
   ]
  },
  {
   "cell_type": "code",
   "execution_count": 3,
   "metadata": {
    "pycharm": {
     "is_executing": false
    }
   },
   "outputs": [],
   "source": [
    "df = pd.read_csv(\"../data/gold_data_en.csv\")"
   ]
  },
  {
   "cell_type": "code",
   "execution_count": 4,
   "metadata": {
    "pycharm": {
     "is_executing": false
    }
   },
   "outputs": [
    {
     "data": {
      "text/plain": [
       "(16265, 2)"
      ]
     },
     "execution_count": 4,
     "metadata": {},
     "output_type": "execute_result"
    }
   ],
   "source": [
    "df.shape"
   ]
  },
  {
   "cell_type": "code",
   "execution_count": 5,
   "metadata": {
    "pycharm": {
     "is_executing": false
    }
   },
   "outputs": [
    {
     "name": "stdout",
     "output_type": "stream",
     "text": [
      "<class 'pandas.core.frame.DataFrame'>\n",
      "RangeIndex: 16265 entries, 0 to 16264\n",
      "Data columns (total 2 columns):\n",
      "text     16265 non-null object\n",
      "label    16265 non-null int64\n",
      "dtypes: int64(1), object(1)\n",
      "memory usage: 254.2+ KB\n"
     ]
    }
   ],
   "source": [
    "df.info()"
   ]
  },
  {
   "cell_type": "markdown",
   "metadata": {},
   "source": [
    "### Balance classes\n",
    "\n",
    "To avoid bias (i.e. when an algorithm prefers one class to the other) we need to have an equal number of elements for each class."
   ]
  },
  {
   "cell_type": "code",
   "execution_count": 6,
   "metadata": {
    "pycharm": {
     "is_executing": false
    }
   },
   "outputs": [
    {
     "data": {
      "text/html": [
       "<div>\n",
       "<style scoped>\n",
       "    .dataframe tbody tr th:only-of-type {\n",
       "        vertical-align: middle;\n",
       "    }\n",
       "\n",
       "    .dataframe tbody tr th {\n",
       "        vertical-align: top;\n",
       "    }\n",
       "\n",
       "    .dataframe thead th {\n",
       "        text-align: right;\n",
       "    }\n",
       "</style>\n",
       "<table border=\"1\" class=\"dataframe\">\n",
       "  <thead>\n",
       "    <tr style=\"text-align: right;\">\n",
       "      <th></th>\n",
       "      <th>text</th>\n",
       "    </tr>\n",
       "    <tr>\n",
       "      <th>label</th>\n",
       "      <th></th>\n",
       "    </tr>\n",
       "  </thead>\n",
       "  <tbody>\n",
       "    <tr>\n",
       "      <th>0</th>\n",
       "      <td>9243</td>\n",
       "    </tr>\n",
       "    <tr>\n",
       "      <th>1</th>\n",
       "      <td>7022</td>\n",
       "    </tr>\n",
       "  </tbody>\n",
       "</table>\n",
       "</div>"
      ],
      "text/plain": [
       "       text\n",
       "label      \n",
       "0      9243\n",
       "1      7022"
      ]
     },
     "execution_count": 6,
     "metadata": {},
     "output_type": "execute_result"
    }
   ],
   "source": [
    "df.groupby('label').count()"
   ]
  },
  {
   "cell_type": "markdown",
   "metadata": {},
   "source": [
    "One can see here that we have a different number of elements for the two\n",
    "classes.\n",
    "Let's change that.\n",
    "First let's count the elements of the minority class."
   ]
  },
  {
   "cell_type": "code",
   "execution_count": 7,
   "metadata": {
    "pycharm": {
     "is_executing": false
    }
   },
   "outputs": [
    {
     "data": {
      "text/plain": [
       "7022"
      ]
     },
     "execution_count": 7,
     "metadata": {},
     "output_type": "execute_result"
    }
   ],
   "source": [
    "n_elements = min(df.groupby('label').count().to_numpy())[0]\n",
    "n_elements"
   ]
  },
  {
   "cell_type": "markdown",
   "metadata": {},
   "source": [
    "Then sample an equal number from the two classes."
   ]
  },
  {
   "cell_type": "code",
   "execution_count": 8,
   "metadata": {
    "pycharm": {
     "is_executing": false
    }
   },
   "outputs": [
    {
     "data": {
      "text/html": [
       "<div>\n",
       "<style scoped>\n",
       "    .dataframe tbody tr th:only-of-type {\n",
       "        vertical-align: middle;\n",
       "    }\n",
       "\n",
       "    .dataframe tbody tr th {\n",
       "        vertical-align: top;\n",
       "    }\n",
       "\n",
       "    .dataframe thead th {\n",
       "        text-align: right;\n",
       "    }\n",
       "</style>\n",
       "<table border=\"1\" class=\"dataframe\">\n",
       "  <thead>\n",
       "    <tr style=\"text-align: right;\">\n",
       "      <th></th>\n",
       "      <th>text</th>\n",
       "      <th>label</th>\n",
       "    </tr>\n",
       "  </thead>\n",
       "  <tbody>\n",
       "    <tr>\n",
       "      <th>8910</th>\n",
       "      <td>@initials_games Big news! Wait does kat actual...</td>\n",
       "      <td>1</td>\n",
       "    </tr>\n",
       "    <tr>\n",
       "      <th>6245</th>\n",
       "      <td>@DBTillman Skank</td>\n",
       "      <td>1</td>\n",
       "    </tr>\n",
       "    <tr>\n",
       "      <th>7880</th>\n",
       "      <td>RT @Po0le_Boy: Call me sexist, but if you're w...</td>\n",
       "      <td>1</td>\n",
       "    </tr>\n",
       "    <tr>\n",
       "      <th>8762</th>\n",
       "      <td>RT @jeremymonti98 I'm not sexist but is this b...</td>\n",
       "      <td>1</td>\n",
       "    </tr>\n",
       "    <tr>\n",
       "      <th>8746</th>\n",
       "      <td>Managed to hit a bird and a small rodent on my...</td>\n",
       "      <td>1</td>\n",
       "    </tr>\n",
       "  </tbody>\n",
       "</table>\n",
       "</div>"
      ],
      "text/plain": [
       "                                                   text  label\n",
       "8910  @initials_games Big news! Wait does kat actual...      1\n",
       "6245                                   @DBTillman Skank      1\n",
       "7880  RT @Po0le_Boy: Call me sexist, but if you're w...      1\n",
       "8762  RT @jeremymonti98 I'm not sexist but is this b...      1\n",
       "8746  Managed to hit a bird and a small rodent on my...      1"
      ]
     },
     "execution_count": 8,
     "metadata": {},
     "output_type": "execute_result"
    }
   ],
   "source": [
    "df_positive = df[df['label']==1].sample(n_elements, random_state=42)\n",
    "df_positive.head()"
   ]
  },
  {
   "cell_type": "code",
   "execution_count": 9,
   "metadata": {
    "pycharm": {
     "is_executing": false
    }
   },
   "outputs": [
    {
     "data": {
      "text/html": [
       "<div>\n",
       "<style scoped>\n",
       "    .dataframe tbody tr th:only-of-type {\n",
       "        vertical-align: middle;\n",
       "    }\n",
       "\n",
       "    .dataframe tbody tr th {\n",
       "        vertical-align: top;\n",
       "    }\n",
       "\n",
       "    .dataframe thead th {\n",
       "        text-align: right;\n",
       "    }\n",
       "</style>\n",
       "<table border=\"1\" class=\"dataframe\">\n",
       "  <thead>\n",
       "    <tr style=\"text-align: right;\">\n",
       "      <th></th>\n",
       "      <th>text</th>\n",
       "      <th>label</th>\n",
       "    </tr>\n",
       "  </thead>\n",
       "  <tbody>\n",
       "    <tr>\n",
       "      <th>4452</th>\n",
       "      <td>@talipann you won't retweet me pussy</td>\n",
       "      <td>0</td>\n",
       "    </tr>\n",
       "    <tr>\n",
       "      <th>12650</th>\n",
       "      <td>\"We know that you gave it everything you have,...</td>\n",
       "      <td>0</td>\n",
       "    </tr>\n",
       "    <tr>\n",
       "      <th>6304</th>\n",
       "      <td>@KTMSays @RichTD5 @stephenfry @EverydaySexism ...</td>\n",
       "      <td>0</td>\n",
       "    </tr>\n",
       "    <tr>\n",
       "      <th>3303</th>\n",
       "      <td>The next message you need is always right wher...</td>\n",
       "      <td>0</td>\n",
       "    </tr>\n",
       "    <tr>\n",
       "      <th>12875</th>\n",
       "      <td>@Pixelfish @ChrisWarcraft I shitposted in barr...</td>\n",
       "      <td>0</td>\n",
       "    </tr>\n",
       "  </tbody>\n",
       "</table>\n",
       "</div>"
      ],
      "text/plain": [
       "                                                    text  label\n",
       "4452                @talipann you won't retweet me pussy      0\n",
       "12650  \"We know that you gave it everything you have,...      0\n",
       "6304   @KTMSays @RichTD5 @stephenfry @EverydaySexism ...      0\n",
       "3303   The next message you need is always right wher...      0\n",
       "12875  @Pixelfish @ChrisWarcraft I shitposted in barr...      0"
      ]
     },
     "execution_count": 9,
     "metadata": {},
     "output_type": "execute_result"
    }
   ],
   "source": [
    "df_negative = df[df['label']==0].sample(n_elements, random_state=42)\n",
    "df_negative.head()"
   ]
  },
  {
   "cell_type": "code",
   "execution_count": 10,
   "metadata": {
    "pycharm": {
     "is_executing": false
    }
   },
   "outputs": [
    {
     "data": {
      "text/html": [
       "<div>\n",
       "<style scoped>\n",
       "    .dataframe tbody tr th:only-of-type {\n",
       "        vertical-align: middle;\n",
       "    }\n",
       "\n",
       "    .dataframe tbody tr th {\n",
       "        vertical-align: top;\n",
       "    }\n",
       "\n",
       "    .dataframe thead th {\n",
       "        text-align: right;\n",
       "    }\n",
       "</style>\n",
       "<table border=\"1\" class=\"dataframe\">\n",
       "  <thead>\n",
       "    <tr style=\"text-align: right;\">\n",
       "      <th></th>\n",
       "      <th>text</th>\n",
       "      <th>label</th>\n",
       "    </tr>\n",
       "  </thead>\n",
       "  <tbody>\n",
       "    <tr>\n",
       "      <th>0</th>\n",
       "      <td>@talipann you won't retweet me pussy</td>\n",
       "      <td>0</td>\n",
       "    </tr>\n",
       "    <tr>\n",
       "      <th>1</th>\n",
       "      <td>\"We know that you gave it everything you have,...</td>\n",
       "      <td>0</td>\n",
       "    </tr>\n",
       "    <tr>\n",
       "      <th>2</th>\n",
       "      <td>@KTMSays @RichTD5 @stephenfry @EverydaySexism ...</td>\n",
       "      <td>0</td>\n",
       "    </tr>\n",
       "    <tr>\n",
       "      <th>3</th>\n",
       "      <td>The next message you need is always right wher...</td>\n",
       "      <td>0</td>\n",
       "    </tr>\n",
       "    <tr>\n",
       "      <th>4</th>\n",
       "      <td>@Pixelfish @ChrisWarcraft I shitposted in barr...</td>\n",
       "      <td>0</td>\n",
       "    </tr>\n",
       "    <tr>\n",
       "      <th>5</th>\n",
       "      <td>This sentiment needs to be killed at the earli...</td>\n",
       "      <td>0</td>\n",
       "    </tr>\n",
       "    <tr>\n",
       "      <th>6</th>\n",
       "      <td>@CarlosD22428844 @Maureen6Johnson @NicolaSturg...</td>\n",
       "      <td>0</td>\n",
       "    </tr>\n",
       "    <tr>\n",
       "      <th>7</th>\n",
       "      <td>RT @PatriceChienne: Pony burgers from Annie wi...</td>\n",
       "      <td>0</td>\n",
       "    </tr>\n",
       "    <tr>\n",
       "      <th>8</th>\n",
       "      <td>@AlfieKent98 Grow up you slag</td>\n",
       "      <td>0</td>\n",
       "    </tr>\n",
       "    <tr>\n",
       "      <th>9</th>\n",
       "      <td>@Leonard_Delaney no more discrimination agains...</td>\n",
       "      <td>0</td>\n",
       "    </tr>\n",
       "    <tr>\n",
       "      <th>10</th>\n",
       "      <td>You lost me! I can't stand watching those conc...</td>\n",
       "      <td>0</td>\n",
       "    </tr>\n",
       "    <tr>\n",
       "      <th>11</th>\n",
       "      <td>@love_hp_ @thewisecampaign @INWED1919 @WES1919...</td>\n",
       "      <td>0</td>\n",
       "    </tr>\n",
       "    <tr>\n",
       "      <th>12</th>\n",
       "      <td>I'm going to LARP as someone from a TV show be...</td>\n",
       "      <td>0</td>\n",
       "    </tr>\n",
       "    <tr>\n",
       "      <th>13</th>\n",
       "      <td>@RKD39 @DevinCow @stevenmnuchin1 @DevinNunes N...</td>\n",
       "      <td>0</td>\n",
       "    </tr>\n",
       "    <tr>\n",
       "      <th>14</th>\n",
       "      <td>@AngryBlackLady Always glad to see when a revo...</td>\n",
       "      <td>0</td>\n",
       "    </tr>\n",
       "    <tr>\n",
       "      <th>15</th>\n",
       "      <td>@LungileNdabula Love, let not all men be equal...</td>\n",
       "      <td>0</td>\n",
       "    </tr>\n",
       "    <tr>\n",
       "      <th>16</th>\n",
       "      <td>@IsaNamee @The_Flufter @dj_forrester @Bibbeth6...</td>\n",
       "      <td>0</td>\n",
       "    </tr>\n",
       "    <tr>\n",
       "      <th>17</th>\n",
       "      <td>@ChrisTaylor0183 @JQScottish @theSNP @NicolaSt...</td>\n",
       "      <td>0</td>\n",
       "    </tr>\n",
       "    <tr>\n",
       "      <th>18</th>\n",
       "      <td>BLOODY LOVE JOSH &amp;amp; ROSE!!! #MKR</td>\n",
       "      <td>0</td>\n",
       "    </tr>\n",
       "    <tr>\n",
       "      <th>19</th>\n",
       "      <td>@UnburntWitch You have been an inspiration to ...</td>\n",
       "      <td>0</td>\n",
       "    </tr>\n",
       "    <tr>\n",
       "      <th>20</th>\n",
       "      <td>If any woman is a victim of sexual assault I p...</td>\n",
       "      <td>0</td>\n",
       "    </tr>\n",
       "    <tr>\n",
       "      <th>21</th>\n",
       "      <td>@UnburntWitch That was a loooong one</td>\n",
       "      <td>0</td>\n",
       "    </tr>\n",
       "    <tr>\n",
       "      <th>22</th>\n",
       "      <td>@_Median_ @ZiOrim @RushetteNY @Banko40 No poin...</td>\n",
       "      <td>0</td>\n",
       "    </tr>\n",
       "    <tr>\n",
       "      <th>23</th>\n",
       "      <td>Next year, on My Kitchen Rules..... We may eve...</td>\n",
       "      <td>0</td>\n",
       "    </tr>\n",
       "    <tr>\n",
       "      <th>24</th>\n",
       "      <td>People with good intentions can still do shitt...</td>\n",
       "      <td>0</td>\n",
       "    </tr>\n",
       "    <tr>\n",
       "      <th>25</th>\n",
       "      <td>Siiiiiiigh http://t.co/6jSQojSuE2</td>\n",
       "      <td>0</td>\n",
       "    </tr>\n",
       "    <tr>\n",
       "      <th>26</th>\n",
       "      <td>That's you tryna see me https://t.co/sfsedRrlqB</td>\n",
       "      <td>0</td>\n",
       "    </tr>\n",
       "    <tr>\n",
       "      <th>27</th>\n",
       "      <td>@derridalicious A whole lot of 'not all men' a...</td>\n",
       "      <td>0</td>\n",
       "    </tr>\n",
       "    <tr>\n",
       "      <th>28</th>\n",
       "      <td>The final is in November  #MKR</td>\n",
       "      <td>0</td>\n",
       "    </tr>\n",
       "    <tr>\n",
       "      <th>29</th>\n",
       "      <td>@SteveScalise stfu trump incites and promotes ...</td>\n",
       "      <td>0</td>\n",
       "    </tr>\n",
       "    <tr>\n",
       "      <th>...</th>\n",
       "      <td>...</td>\n",
       "      <td>...</td>\n",
       "    </tr>\n",
       "    <tr>\n",
       "      <th>14014</th>\n",
       "      <td>ash and camilla have grown on me, but can Kat ...</td>\n",
       "      <td>1</td>\n",
       "    </tr>\n",
       "    <tr>\n",
       "      <th>14015</th>\n",
       "      <td>Kat on not winning people's choice: \"I can't b...</td>\n",
       "      <td>1</td>\n",
       "    </tr>\n",
       "    <tr>\n",
       "      <th>14016</th>\n",
       "      <td>@GibberAUS That girl is hideous in every way...</td>\n",
       "      <td>1</td>\n",
       "    </tr>\n",
       "    <tr>\n",
       "      <th>14017</th>\n",
       "      <td>Ik that bitch was a hoe jus tried to change he...</td>\n",
       "      <td>1</td>\n",
       "    </tr>\n",
       "    <tr>\n",
       "      <th>14018</th>\n",
       "      <td>Arghhhhh I want to kick in the television set ...</td>\n",
       "      <td>1</td>\n",
       "    </tr>\n",
       "    <tr>\n",
       "      <th>14019</th>\n",
       "      <td>RT @Mattlegend27 Not sexist but that guy is ne...</td>\n",
       "      <td>1</td>\n",
       "    </tr>\n",
       "    <tr>\n",
       "      <th>14020</th>\n",
       "      <td>#mkr that was useless from nikki</td>\n",
       "      <td>1</td>\n",
       "    </tr>\n",
       "    <tr>\n",
       "      <th>14021</th>\n",
       "      <td>@BABIEJUPI make it u fucking whore</td>\n",
       "      <td>1</td>\n",
       "    </tr>\n",
       "    <tr>\n",
       "      <th>14022</th>\n",
       "      <td>RT @Keerufudechuu: @freebsdgirl You're bat-shi...</td>\n",
       "      <td>1</td>\n",
       "    </tr>\n",
       "    <tr>\n",
       "      <th>14023</th>\n",
       "      <td>RT @iHateJono: Whos idea was it to hire a fema...</td>\n",
       "      <td>1</td>\n",
       "    </tr>\n",
       "    <tr>\n",
       "      <th>14024</th>\n",
       "      <td>@MTBinDurham @Char22U @JessicaValenti I'm sure...</td>\n",
       "      <td>1</td>\n",
       "    </tr>\n",
       "    <tr>\n",
       "      <th>14025</th>\n",
       "      <td>Me personally I would've dragged that girl dow...</td>\n",
       "      <td>1</td>\n",
       "    </tr>\n",
       "    <tr>\n",
       "      <th>14026</th>\n",
       "      <td>This bitch @Adriannalemuss has been with 4 guy...</td>\n",
       "      <td>1</td>\n",
       "    </tr>\n",
       "    <tr>\n",
       "      <th>14027</th>\n",
       "      <td>first goes to bitch ass janelle. FUCK YOU MESS...</td>\n",
       "      <td>1</td>\n",
       "    </tr>\n",
       "    <tr>\n",
       "      <th>14028</th>\n",
       "      <td>RT @naattss_: FEMINAZI FEMINAZI</td>\n",
       "      <td>1</td>\n",
       "    </tr>\n",
       "    <tr>\n",
       "      <th>14029</th>\n",
       "      <td>RT @ConnellyBock Im not sexist but I hate woma...</td>\n",
       "      <td>1</td>\n",
       "    </tr>\n",
       "    <tr>\n",
       "      <th>14030</th>\n",
       "      <td>RT @PoliticalCynic: @MT8_9 @PardusXY If they d...</td>\n",
       "      <td>1</td>\n",
       "    </tr>\n",
       "    <tr>\n",
       "      <th>14031</th>\n",
       "      <td>RT @SaS2AFoundation: Hillary Clinton deleted 3...</td>\n",
       "      <td>1</td>\n",
       "    </tr>\n",
       "    <tr>\n",
       "      <th>14032</th>\n",
       "      <td>RT @TheBoghdady: Can I cry now? I think I'll c...</td>\n",
       "      <td>1</td>\n",
       "    </tr>\n",
       "    <tr>\n",
       "      <th>14033</th>\n",
       "      <td>@PsychScientists @geekyjessica Can you explain...</td>\n",
       "      <td>1</td>\n",
       "    </tr>\n",
       "    <tr>\n",
       "      <th>14034</th>\n",
       "      <td>RT @stevenbirt4real: @RampaigerA79 @MT8_9 I ho...</td>\n",
       "      <td>1</td>\n",
       "    </tr>\n",
       "    <tr>\n",
       "      <th>14035</th>\n",
       "      <td>ok babies i'll go to sleep ok bitch shut the f...</td>\n",
       "      <td>1</td>\n",
       "    </tr>\n",
       "    <tr>\n",
       "      <th>14036</th>\n",
       "      <td>RT @FScorpion678: @Jmart4info @bugaboob @RyanB...</td>\n",
       "      <td>1</td>\n",
       "    </tr>\n",
       "    <tr>\n",
       "      <th>14037</th>\n",
       "      <td>#MKR Stop rolling the sausages like that.... g...</td>\n",
       "      <td>1</td>\n",
       "    </tr>\n",
       "    <tr>\n",
       "      <th>14038</th>\n",
       "      <td>Seriously - just when you think that stupid Ka...</td>\n",
       "      <td>1</td>\n",
       "    </tr>\n",
       "    <tr>\n",
       "      <th>14039</th>\n",
       "      <td>RT @LydiaJoy2015: Pretty sure most people are ...</td>\n",
       "      <td>1</td>\n",
       "    </tr>\n",
       "    <tr>\n",
       "      <th>14040</th>\n",
       "      <td>@nat_com1 @Feminazi_Front We know there is a b...</td>\n",
       "      <td>1</td>\n",
       "    </tr>\n",
       "    <tr>\n",
       "      <th>14041</th>\n",
       "      <td>RT @CathyYoung63: To @MHarrisPerry, #BlackLive...</td>\n",
       "      <td>1</td>\n",
       "    </tr>\n",
       "    <tr>\n",
       "      <th>14042</th>\n",
       "      <td>RT @Alfie_Game I'm not sexist, but why are wom...</td>\n",
       "      <td>1</td>\n",
       "    </tr>\n",
       "    <tr>\n",
       "      <th>14043</th>\n",
       "      <td>STOP SMELLING THOSE SANDWINCHES YOU HIDEOUS CO...</td>\n",
       "      <td>1</td>\n",
       "    </tr>\n",
       "  </tbody>\n",
       "</table>\n",
       "<p>14044 rows × 2 columns</p>\n",
       "</div>"
      ],
      "text/plain": [
       "                                                    text  label\n",
       "0                   @talipann you won't retweet me pussy      0\n",
       "1      \"We know that you gave it everything you have,...      0\n",
       "2      @KTMSays @RichTD5 @stephenfry @EverydaySexism ...      0\n",
       "3      The next message you need is always right wher...      0\n",
       "4      @Pixelfish @ChrisWarcraft I shitposted in barr...      0\n",
       "5      This sentiment needs to be killed at the earli...      0\n",
       "6      @CarlosD22428844 @Maureen6Johnson @NicolaSturg...      0\n",
       "7      RT @PatriceChienne: Pony burgers from Annie wi...      0\n",
       "8                          @AlfieKent98 Grow up you slag      0\n",
       "9      @Leonard_Delaney no more discrimination agains...      0\n",
       "10     You lost me! I can't stand watching those conc...      0\n",
       "11     @love_hp_ @thewisecampaign @INWED1919 @WES1919...      0\n",
       "12     I'm going to LARP as someone from a TV show be...      0\n",
       "13     @RKD39 @DevinCow @stevenmnuchin1 @DevinNunes N...      0\n",
       "14     @AngryBlackLady Always glad to see when a revo...      0\n",
       "15     @LungileNdabula Love, let not all men be equal...      0\n",
       "16     @IsaNamee @The_Flufter @dj_forrester @Bibbeth6...      0\n",
       "17     @ChrisTaylor0183 @JQScottish @theSNP @NicolaSt...      0\n",
       "18                   BLOODY LOVE JOSH &amp; ROSE!!! #MKR      0\n",
       "19     @UnburntWitch You have been an inspiration to ...      0\n",
       "20     If any woman is a victim of sexual assault I p...      0\n",
       "21                  @UnburntWitch That was a loooong one      0\n",
       "22     @_Median_ @ZiOrim @RushetteNY @Banko40 No poin...      0\n",
       "23     Next year, on My Kitchen Rules..... We may eve...      0\n",
       "24     People with good intentions can still do shitt...      0\n",
       "25                     Siiiiiiigh http://t.co/6jSQojSuE2      0\n",
       "26       That's you tryna see me https://t.co/sfsedRrlqB      0\n",
       "27     @derridalicious A whole lot of 'not all men' a...      0\n",
       "28                        The final is in November  #MKR      0\n",
       "29     @SteveScalise stfu trump incites and promotes ...      0\n",
       "...                                                  ...    ...\n",
       "14014  ash and camilla have grown on me, but can Kat ...      1\n",
       "14015  Kat on not winning people's choice: \"I can't b...      1\n",
       "14016    @GibberAUS That girl is hideous in every way...      1\n",
       "14017  Ik that bitch was a hoe jus tried to change he...      1\n",
       "14018  Arghhhhh I want to kick in the television set ...      1\n",
       "14019  RT @Mattlegend27 Not sexist but that guy is ne...      1\n",
       "14020                   #mkr that was useless from nikki      1\n",
       "14021                 @BABIEJUPI make it u fucking whore      1\n",
       "14022  RT @Keerufudechuu: @freebsdgirl You're bat-shi...      1\n",
       "14023  RT @iHateJono: Whos idea was it to hire a fema...      1\n",
       "14024  @MTBinDurham @Char22U @JessicaValenti I'm sure...      1\n",
       "14025  Me personally I would've dragged that girl dow...      1\n",
       "14026  This bitch @Adriannalemuss has been with 4 guy...      1\n",
       "14027  first goes to bitch ass janelle. FUCK YOU MESS...      1\n",
       "14028                    RT @naattss_: FEMINAZI FEMINAZI      1\n",
       "14029  RT @ConnellyBock Im not sexist but I hate woma...      1\n",
       "14030  RT @PoliticalCynic: @MT8_9 @PardusXY If they d...      1\n",
       "14031  RT @SaS2AFoundation: Hillary Clinton deleted 3...      1\n",
       "14032  RT @TheBoghdady: Can I cry now? I think I'll c...      1\n",
       "14033  @PsychScientists @geekyjessica Can you explain...      1\n",
       "14034  RT @stevenbirt4real: @RampaigerA79 @MT8_9 I ho...      1\n",
       "14035  ok babies i'll go to sleep ok bitch shut the f...      1\n",
       "14036  RT @FScorpion678: @Jmart4info @bugaboob @RyanB...      1\n",
       "14037  #MKR Stop rolling the sausages like that.... g...      1\n",
       "14038  Seriously - just when you think that stupid Ka...      1\n",
       "14039  RT @LydiaJoy2015: Pretty sure most people are ...      1\n",
       "14040  @nat_com1 @Feminazi_Front We know there is a b...      1\n",
       "14041  RT @CathyYoung63: To @MHarrisPerry, #BlackLive...      1\n",
       "14042  RT @Alfie_Game I'm not sexist, but why are wom...      1\n",
       "14043  STOP SMELLING THOSE SANDWINCHES YOU HIDEOUS CO...      1\n",
       "\n",
       "[14044 rows x 2 columns]"
      ]
     },
     "execution_count": 10,
     "metadata": {},
     "output_type": "execute_result"
    }
   ],
   "source": [
    "df_balanced = pd.concat((df_negative, df_positive)).reset_index(drop=True)\n",
    "df_balanced"
   ]
  },
  {
   "cell_type": "markdown",
   "metadata": {},
   "source": [
    "We store the balanced data in the original dataframe."
   ]
  },
  {
   "cell_type": "code",
   "execution_count": 11,
   "metadata": {
    "pycharm": {
     "is_executing": false
    }
   },
   "outputs": [],
   "source": [
    "df = df_balanced"
   ]
  },
  {
   "cell_type": "markdown",
   "metadata": {},
   "source": [
    "Now let's create the Spacy NLP documents from our text data.\n",
    "\n",
    "First we need to load the language model."
   ]
  },
  {
   "cell_type": "code",
   "execution_count": 12,
   "metadata": {
    "pycharm": {
     "is_executing": false
    }
   },
   "outputs": [],
   "source": [
    "nlp = spacy.load(\"en_core_web_md\")"
   ]
  },
  {
   "cell_type": "code",
   "execution_count": 13,
   "metadata": {
    "pycharm": {
     "is_executing": false
    }
   },
   "outputs": [],
   "source": [
    "# The .pipe() method batch processes all the text (will take a little while)\n",
    "docs = list(nlp.pipe(df['text']))"
   ]
  },
  {
   "cell_type": "markdown",
   "metadata": {},
   "source": [
    "### Vectors visualization\n",
    "\n",
    "Here we take the document vectors from Spacy."
   ]
  },
  {
   "cell_type": "code",
   "execution_count": 14,
   "metadata": {
    "pycharm": {
     "is_executing": false
    }
   },
   "outputs": [],
   "source": [
    "vector_matrix = np.array(list(map(lambda x: x.vector, docs)))"
   ]
  },
  {
   "cell_type": "code",
   "execution_count": 15,
   "metadata": {
    "pycharm": {
     "is_executing": false
    }
   },
   "outputs": [
    {
     "data": {
      "text/plain": [
       "(14044, 300)"
      ]
     },
     "execution_count": 15,
     "metadata": {},
     "output_type": "execute_result"
    }
   ],
   "source": [
    "vector_matrix.shape"
   ]
  },
  {
   "cell_type": "markdown",
   "metadata": {},
   "source": [
    "We use PCA to project the vectors to their principal components."
   ]
  },
  {
   "cell_type": "code",
   "execution_count": 16,
   "metadata": {
    "pycharm": {
     "is_executing": false
    }
   },
   "outputs": [],
   "source": [
    "pca = PCA(2)"
   ]
  },
  {
   "cell_type": "code",
   "execution_count": 17,
   "metadata": {
    "pycharm": {
     "is_executing": false
    }
   },
   "outputs": [],
   "source": [
    "x_pca = pca.fit_transform(vector_matrix)"
   ]
  },
  {
   "cell_type": "code",
   "execution_count": 18,
   "metadata": {
    "pycharm": {
     "is_executing": false
    }
   },
   "outputs": [
    {
     "data": {
      "text/plain": [
       "(14044, 2)"
      ]
     },
     "execution_count": 18,
     "metadata": {},
     "output_type": "execute_result"
    }
   ],
   "source": [
    "x_pca.shape"
   ]
  },
  {
   "cell_type": "code",
   "execution_count": 19,
   "metadata": {
    "pycharm": {
     "is_executing": false
    }
   },
   "outputs": [
    {
     "data": {
      "image/png": "[encoded data removed]",
      "text/plain": [
       "<Figure size 432x288 with 2 Axes>"
      ]
     },
     "metadata": {
      "needs_background": "light"
     },
     "output_type": "display_data"
    }
   ],
   "source": [
    "plt.scatter(x_pca[:, 0], x_pca[:, 1], c=df['label'].tolist(), alpha=.05, cmap='rainbow');\n",
    "plt.colorbar();"
   ]
  },
  {
   "cell_type": "markdown",
   "metadata": {},
   "source": [
    "## Random forest classifier\n",
    "\n",
    "The random forest algorithm is a pretty versatile one and generally\n",
    "performs well.\n",
    "Let's use the default parameters with just one change:\n",
    "we'll use 100 trees."
   ]
  },
  {
   "cell_type": "code",
   "execution_count": 20,
   "metadata": {
    "pycharm": {
     "is_executing": false
    }
   },
   "outputs": [],
   "source": [
    "rf = RandomForestClassifier(n_estimators=100, n_jobs=-1)"
   ]
  },
  {
   "cell_type": "markdown",
   "metadata": {},
   "source": [
    "### Train-test split\n",
    "\n",
    "It's important to split the data consistently\n",
    "so that we keep a 50/50 ratio both in training and test."
   ]
  },
  {
   "cell_type": "code",
   "execution_count": 21,
   "metadata": {
    "pycharm": {
     "is_executing": false
    }
   },
   "outputs": [],
   "source": [
    "x_train, x_test, y_train, y_test = train_test_split(\n",
    "    vector_matrix,\n",
    "    df['label'].to_numpy(),\n",
    "    train_size=.8,\n",
    "    shuffle=True,\n",
    "    stratify=df['label'],\n",
    "    random_state=42,\n",
    ")"
   ]
  },
  {
   "cell_type": "code",
   "execution_count": 22,
   "metadata": {
    "pycharm": {
     "is_executing": false
    }
   },
   "outputs": [
    {
     "data": {
      "text/plain": [
       "(11235, 300)"
      ]
     },
     "execution_count": 22,
     "metadata": {},
     "output_type": "execute_result"
    }
   ],
   "source": [
    "x_train.shape"
   ]
  },
  {
   "cell_type": "markdown",
   "metadata": {},
   "source": [
    "Let's check the class balance:"
   ]
  },
  {
   "cell_type": "code",
   "execution_count": 23,
   "metadata": {
    "pycharm": {
     "is_executing": false
    }
   },
   "outputs": [
    {
     "data": {
      "text/plain": [
       "(0.5000445037828215, 0.49982200071199717)"
      ]
     },
     "execution_count": 23,
     "metadata": {},
     "output_type": "execute_result"
    }
   ],
   "source": [
    "y_train.mean(), y_test.mean()"
   ]
  },
  {
   "cell_type": "markdown",
   "metadata": {},
   "source": [
    "And now we fit the model:"
   ]
  },
  {
   "cell_type": "code",
   "execution_count": 24,
   "metadata": {
    "pycharm": {
     "is_executing": false
    },
    "scrolled": true
   },
   "outputs": [
    {
     "data": {
      "text/plain": [
       "RandomForestClassifier(bootstrap=True, class_weight=None, criterion='gini',\n",
       "                       max_depth=None, max_features='auto', max_leaf_nodes=None,\n",
       "                       min_impurity_decrease=0.0, min_impurity_split=None,\n",
       "                       min_samples_leaf=1, min_samples_split=2,\n",
       "                       min_weight_fraction_leaf=0.0, n_estimators=100,\n",
       "                       n_jobs=-1, oob_score=False, random_state=None, verbose=0,\n",
       "                       warm_start=False)"
      ]
     },
     "execution_count": 24,
     "metadata": {},
     "output_type": "execute_result"
    }
   ],
   "source": [
    "rf.fit(x_train, y_train)"
   ]
  },
  {
   "cell_type": "markdown",
   "metadata": {},
   "source": [
    "Let's try the fitted model on the test set:"
   ]
  },
  {
   "cell_type": "code",
   "execution_count": 25,
   "metadata": {
    "pycharm": {
     "is_executing": false
    }
   },
   "outputs": [],
   "source": [
    "y_pred = rf.predict(x_test)"
   ]
  },
  {
   "cell_type": "markdown",
   "metadata": {},
   "source": [
    "We can also extract probabilities.\n",
    "The [1,0] prediction can always be recomputed\n",
    "from the probabilities, knowing that the prediction is 1 when\n",
    "the probability > 0.5 and 0 otherwise."
   ]
  },
  {
   "cell_type": "code",
   "execution_count": 26,
   "metadata": {
    "pycharm": {
     "is_executing": false
    }
   },
   "outputs": [],
   "source": [
    "y_proba = rf.predict_proba(x_test)"
   ]
  },
  {
   "cell_type": "markdown",
   "metadata": {},
   "source": [
    "There are several metrics to evaluate the performance of the model.\n",
    "Common ones include the F1-score, the confusion matrix,\n",
    "the ROC curve, and the area under the ROC curve (AUC)."
   ]
  },
  {
   "cell_type": "code",
   "execution_count": 27,
   "metadata": {
    "pycharm": {
     "is_executing": false
    }
   },
   "outputs": [
    {
     "data": {
      "text/plain": [
       "0.7284576393917451"
      ]
     },
     "execution_count": 27,
     "metadata": {},
     "output_type": "execute_result"
    }
   ],
   "source": [
    "f1_score(y_test, y_pred)"
   ]
  },
  {
   "cell_type": "markdown",
   "metadata": {},
   "source": [
    "Let's check what we get from the training data, just for fun:"
   ]
  },
  {
   "cell_type": "code",
   "execution_count": 28,
   "metadata": {
    "pycharm": {
     "is_executing": false
    }
   },
   "outputs": [
    {
     "data": {
      "text/plain": [
       "0.9991100035599858"
      ]
     },
     "execution_count": 28,
     "metadata": {},
     "output_type": "execute_result"
    }
   ],
   "source": [
    "f1_score(y_train, rf.predict(x_train))"
   ]
  },
  {
   "cell_type": "markdown",
   "metadata": {},
   "source": [
    "This is a very high value, which is expected since the training data has been used to train the model.\n",
    "\n",
    "Let's look at what the prediction arrays look like."
   ]
  },
  {
   "cell_type": "code",
   "execution_count": 29,
   "metadata": {
    "pycharm": {
     "is_executing": false
    }
   },
   "outputs": [
    {
     "data": {
      "text/plain": [
       "array([0, 0, 1, ..., 0, 1, 0])"
      ]
     },
     "execution_count": 29,
     "metadata": {},
     "output_type": "execute_result"
    }
   ],
   "source": [
    "y_pred"
   ]
  },
  {
   "cell_type": "code",
   "execution_count": 30,
   "metadata": {
    "pycharm": {
     "is_executing": false
    }
   },
   "outputs": [
    {
     "data": {
      "text/plain": [
       "array([[0.64, 0.36],\n",
       "       [0.8 , 0.2 ],\n",
       "       [0.47, 0.53],\n",
       "       ...,\n",
       "       [0.59, 0.41],\n",
       "       [0.48, 0.52],\n",
       "       [0.51, 0.49]])"
      ]
     },
     "execution_count": 30,
     "metadata": {},
     "output_type": "execute_result"
    }
   ],
   "source": [
    "y_proba"
   ]
  },
  {
   "cell_type": "markdown",
   "metadata": {},
   "source": [
    "`y_proba` contains two columns, the first is the probability for class 0, the second is the probability\n",
    "for class 1."
   ]
  },
  {
   "cell_type": "code",
   "execution_count": 31,
   "metadata": {
    "pycharm": {
     "is_executing": false
    }
   },
   "outputs": [],
   "source": [
    "# This is a convenience function that takes care of boring stuff\n",
    "def plot_roc_auc_f1(y_test, y_proba, title=None):\n",
    "    f1 = f1_score(y_test, y_proba[:, 1]>.5)\n",
    "    fpr, tpr, _ = roc_curve(y_test, y_proba[:, 1])\n",
    "    auc_score = auc(fpr, tpr)\n",
    "    fig, ax = plt.subplots(figsize=(6,6))\n",
    "    if title is not None:\n",
    "        ax.set_title(title)\n",
    "    ax.plot([0, 1], [0, 1], '--', label=\"Random\")\n",
    "    ax.plot(fpr, tpr, label=\"Your model\")\n",
    "    ax.set_xlabel(\"False positive rate\")\n",
    "    ax.set_ylabel(\"True positive rate\")\n",
    "    ax.annotate(f\"AUC: {auc_score:.4}\", (.8, 0.05))\n",
    "    ax.annotate(f\"F1: {f1:.4}\", (.8, 0.0))\n",
    "    ax.legend()\n",
    "    return f1, auc_score"
   ]
  },
  {
   "cell_type": "markdown",
   "metadata": {},
   "source": [
    "### ROC curve"
   ]
  },
  {
   "cell_type": "code",
   "execution_count": 32,
   "metadata": {
    "pycharm": {
     "is_executing": false
    }
   },
   "outputs": [
    {
     "data": {
      "image/png": "[encoded data removed]",
      "text/plain": [
       "<Figure size 432x432 with 1 Axes>"
      ]
     },
     "metadata": {
      "needs_background": "light"
     },
     "output_type": "display_data"
    }
   ],
   "source": [
    "f1, auc_score = plot_roc_auc_f1(y_test, y_proba);"
   ]
  },
  {
   "cell_type": "markdown",
   "metadata": {},
   "source": [
    "The straight line is equivalent to the performance of a random classifier.\n",
    "The further away from it, the better.\n",
    "The curve looks quite good and the given AUC is a decent value."
   ]
  },
  {
   "cell_type": "markdown",
   "metadata": {},
   "source": [
    "### F1-score, AUC"
   ]
  },
  {
   "cell_type": "code",
   "execution_count": 33,
   "metadata": {
    "pycharm": {
     "is_executing": false
    }
   },
   "outputs": [
    {
     "data": {
      "text/plain": [
       "(0.7284576393917451, 0.8132628179781205)"
      ]
     },
     "execution_count": 33,
     "metadata": {},
     "output_type": "execute_result"
    }
   ],
   "source": [
    "f1, auc_score"
   ]
  },
  {
   "cell_type": "markdown",
   "metadata": {},
   "source": [
    "The number of feature equals the length of the word vectors:"
   ]
  },
  {
   "cell_type": "code",
   "execution_count": 34,
   "metadata": {
    "pycharm": {
     "is_executing": false
    }
   },
   "outputs": [
    {
     "data": {
      "text/plain": [
       "300"
      ]
     },
     "execution_count": 34,
     "metadata": {},
     "output_type": "execute_result"
    }
   ],
   "source": [
    "rf.n_features_"
   ]
  },
  {
   "cell_type": "markdown",
   "metadata": {},
   "source": [
    "### A closer look at the predictions"
   ]
  },
  {
   "cell_type": "code",
   "execution_count": 35,
   "metadata": {
    "pycharm": {
     "is_executing": false
    }
   },
   "outputs": [],
   "source": [
    "df_train, df_test = train_test_split(\n",
    "    df,\n",
    "    train_size=.8,\n",
    "    shuffle=True,\n",
    "    stratify=df['label'],\n",
    "    random_state=42,\n",
    ")"
   ]
  },
  {
   "cell_type": "code",
   "execution_count": 36,
   "metadata": {
    "pycharm": {
     "is_executing": false
    }
   },
   "outputs": [
    {
     "data": {
      "text/plain": [
       "(11235, 2)"
      ]
     },
     "execution_count": 36,
     "metadata": {},
     "output_type": "execute_result"
    }
   ],
   "source": [
    "df_train.shape"
   ]
  },
  {
   "cell_type": "code",
   "execution_count": 37,
   "metadata": {
    "pycharm": {
     "is_executing": false
    }
   },
   "outputs": [
    {
     "data": {
      "text/plain": [
       "(2809, 2)"
      ]
     },
     "execution_count": 37,
     "metadata": {},
     "output_type": "execute_result"
    }
   ],
   "source": [
    "df_test.shape"
   ]
  },
  {
   "cell_type": "code",
   "execution_count": 38,
   "metadata": {
    "pycharm": {
     "is_executing": false
    }
   },
   "outputs": [
    {
     "name": "stderr",
     "output_type": "stream",
     "text": [
      "/home/guzzo/anaconda3/envs/study-online-misogyny/lib/python3.7/site-packages/ipykernel_launcher.py:1: SettingWithCopyWarning: \n",
      "A value is trying to be set on a copy of a slice from a DataFrame.\n",
      "Try using .loc[row_indexer,col_indexer] = value instead\n",
      "\n",
      "See the caveats in the documentation: http://pandas.pydata.org/pandas-docs/stable/indexing.html#indexing-view-versus-copy\n",
      "  \"\"\"Entry point for launching an IPython kernel.\n"
     ]
    }
   ],
   "source": [
    "df_test['prediction'] = y_proba[:, 1]"
   ]
  },
  {
   "cell_type": "markdown",
   "metadata": {},
   "source": [
    "Let's take a look at what the model predicts."
   ]
  },
  {
   "cell_type": "code",
   "execution_count": 39,
   "metadata": {
    "pycharm": {
     "is_executing": false
    }
   },
   "outputs": [
    {
     "data": {
      "text/plain": [
       "['@Bourgholtzer feminazi',\n",
       " 'Feminazi Blog Reminds Liberals Today Is “National Day of Appreciation for Abortion Providers”… http://t.co/hUIwlu7HCb via @WeaselZippers',\n",
       " '@MissTwilight12 feminazi',\n",
       " 'Feminazi Blog Reminds Liberals Today Is “National Day of Appreciation for Abortion Providers”… http://t.co/JzmTLkVeyK',\n",
       " 'Feminazi 😳',\n",
       " '... http://t.co/c6uBtx6TqE #asian #filipino #free #indian #japanese #oriental #thai #video #videos #vietnamese #whoriental #XXX',\n",
       " 'whore https://t.co/aFLn8TY6sF',\n",
       " '... http://t.co/BI912bPbrG #asian #filipino #free #indian #japanese #oriental #thai #video #videos #vietnamese #whoriental #XXX',\n",
       " '@TylerIsAPerson whore',\n",
       " 'I liked a @YouTube video from @uhohbrochannel http://t.co/Tpi0bCYLem Feminazi FAIL',\n",
       " 'I liked a @YouTube video from @uhohbrochannel http://t.co/DKbZw5Qy3W Feminazi FAIL',\n",
       " '@mikeytheddking dumb fucking whore',\n",
       " '@blackhairedtiny fucking whore',\n",
       " 'fucking bitch anSWER ME @thefembisexual https://t.co/XkoeqxKMZ0',\n",
       " 'RT @THEBIRD_19: @MissTwilight12 feminazi',\n",
       " \"RT @Tom_Greenbean I'm not sexist, but women should not be refs\",\n",
       " \"RT @P_Filippelli I'm not sexist but females can't rap\",\n",
       " \"Classic! @itstherealdre @yoliana24 I'm not sexist, but I do believe that women are inferior to men.\",\n",
       " \"RT @LouisRITHPotter I'm not sexist, but sometimes women proper need to stfu http://t.co/mgTp6Tst9N\",\n",
       " \"RT @rinehart33 I'm not sexist.. But women drivers are terrible.\",\n",
       " \"RT @AA_Messinger I swear I'm not sexist but, women CAN NOT drive\",\n",
       " 'http://t.co/DZj5QCkc4s Feminazi Blog Reminds Liberals Today Is “National Day of Appreciation for Abortion Providers”… #CNRapp',\n",
       " '@thuuiee stfu hoe you are a bad bitch!',\n",
       " 'RT @TheDarkManChris: Call me sexist but I think some women are seriously lacking knowledge l when it comes to feminism #random',\n",
       " \"RT @_AceStayIcy: I'm not sexist but girls can't rap\",\n",
       " 'Me:Kpop twitter: shut the fuck up you old raggedy piece of shit. fucking bitch ass smelly ass stinky ass hoe ass ugly! You dont even know what (insert group name) has done for its fans and the world and youve done nothing but eat shit your whole life suck a dick and die hoe',\n",
       " '@JEHernansanz feminazi!',\n",
       " \"@letyourvoicego @frbidden1 BITCH I AIN'T NO HOE\",\n",
       " \"RT @Ezmac_Thedream: Im not sexist, but women just can't drive\",\n",
       " '@KellyannePolls @POTUS You nasty ugly whore!!! No one cares what you think and #THEBIGDUMP only sucks black dick now so stop trying to suck #donthecon dick. 🖕🖕🖕🖕💩💩',\n",
       " \"RT @AverageSpursfan I'm not sexist but fuck me half of the women yids on Twitter are fucking clueless\",\n",
       " 'RT @WLeM32 Call me sexist but I do not like girl refs for football.....',\n",
       " \"RT @kieranMDK I'm not sexist but women comedians are fucking shit\",\n",
       " 'first goes to bitch ass janelle. FUCK YOU MESSY MF ASS BITCH i literally was on a call with her and her dumb ass twisted my words and ran to tattle on me to ari. like it legit made her pussy wet to go and talk shit abt me so fuck u ill come beat ur ass thats why u stole a listers',\n",
       " 'RT @oldgfatherclock: @YesYoureSexist @All_HailCaesar not really sexist though is it, taking the piss out of feminists, not women.',\n",
       " 'seeing hoes blatantly try to take my man then watching him turn their lame thot ass down is truly fucking hysterical 😂 lol bitch u tho(ugh)t',\n",
       " 'RT @stephenstephan: Feminazi Blog Reminds Liberals Today Is “National Day of Appreciation for Abortion Providers”… http://t.co/JzmTLkVeyK',\n",
       " \"@snapchatmypussy If you don't like the song bitch keep it moving hoe. You can't sing you can't do shit but suck dick bitch stfu you dumb white trash ass bitch\",\n",
       " 'RT @randomfox: #ManSpreading #FeminismIsAwful #WomenAgainstFeminism http://t.co/fuQj7C0Wbt',\n",
       " '@_miidnightr Wanna speak down to my girl bitch then step up big nose ass bitch. Saw that shit off.',\n",
       " '#Mkr',\n",
       " 'RT @patrick_fish3 Im not sexist, but 2 girl refs. Really',\n",
       " '@Yoamberlee1 Bitch you better be sorry, you whore!',\n",
       " 'RT @Desani44 Call me sexist but I just cannot stand female rappers......yuck. That voice though.....',\n",
       " 'RT @Millhouse66 @Maureen_JS nooo not sexist but most women are bad drivers',\n",
       " \"RT @x_xjoycee I'm not sexist but I hate a guy that lacks masculinity. It's the worst.\",\n",
       " '@ oomf: SGUT THE FUCK UP NO ONE FUCKIN CARES ABOUT WHAT YOU HAVE TO FUCKING SAY STUPID BITCH ASS CUNT GO SUCK YOUR UGLYASS BOYF DICK',\n",
       " '@RepWilson @BarackObama Eat fucking shit you stupid cunt bitch whore twat',\n",
       " '@CliffShep @MiaFarrow @realDonaldTrump Shut the fuck up cunt if you actually like Donald trump than you can suck a dick. He is terrible and you are blinded just because of his MONEY!! people dont like cunts bitch',\n",
       " \"You're a dumb asshole. @jamiecowan92 I'm no sexist btw cause I'd punch a woman to show that she's equal #equality\",\n",
       " \"Wow, you're a huge asshole! @JonTaylorr I'm not sexist, but women's football should be in the Paralympics.\",\n",
       " 'Where the fuck is your face scary hoe? Dont be saying nothing about peoples looks when you to pussy to post yours. You bitches can not fucking compete. Sit the fuck down and shut the fuck up. All of you bitches wanna talk about looks, but wheres your pics? Stay in your lane.',\n",
       " 'Wanna kno what I deadass LOVE? I’ve never seen my mans name under any whore ass bitches picture on social media...ever. #NoLikesForYall',\n",
       " '@jgralba bitch',\n",
       " 'RT @MitchKelly1701 #amyadams call me sexist but I think she should win a #bestactress for her looks alone.',\n",
       " \"RT @Lewis__Duncan I'm not sexist but an all-female Ghostbusters is going to be just awful\",\n",
       " 'what the fuck 😔😔😔😳😳😳 Travis your a dumb ass bitch Kylie i still love yah girl btw 💕💕😩',\n",
       " \"RT @Dumpweed_: @Dumpweed_ like I'm not sexist, but feminists sometimes are stupid. women make mistakes too. You are not perfect. Nobody is …\",\n",
       " '@thegeek_chick Please answer... http://t.co/mNh301bayI',\n",
       " \"RT @ThomBomb17 I'm not sexist but just because a woman scored a great goal does not mean women's football is any good #SorryNotSorry\",\n",
       " '@FunkAd3 feminazi.',\n",
       " \"RT @NathanWassihun I'm not sexist but BITCHES CANNOT DRIVE\",\n",
       " \"RT @TexasSerge Chicks just aren't that funny....call me sexist\",\n",
       " \"RT @marquesdaryl: I'm not sexist. But there is no chance in hell I'm letting a girl beat me at anything. Sorry\",\n",
       " \"RT @flortana_: No i'm not sexist but no I do not like Thor being a woman, he's a MALE mythological figure, that's like making Zeus a chick …\",\n",
       " \"RT @nathanbonter21 I'm sorry but I can't handle women commentators or women talking about sports on ESPN #NotSexist\",\n",
       " \"RT @AnthonySammarco: I am not sexist. But when girls beg to wear yogas, don't get uptight if you see a guy looking. Then you are just helpi…\",\n",
       " '@Sello_OFFICIAL Your lady probably is a bitch though. Most women are bitches and whores. A woman who wants you to f… https://t.co/SgGbxhEAEi',\n",
       " \"RT @jrdnvns: @HighKush420 @YesYoureSexist &amp; i'm saying that as a male feminist.\",\n",
       " \"RT @millermad1976 Not sexist but don't find women stand up comedians funny ever\",\n",
       " 'STUPID FUCKING CUNT ASS CUNT BITCH DIDNT STOP AT HER STOP SIGN AND TOTALED MY FUCKING CAR THAT I USE TO MAKE FUCKING MONEY OH MY FUCKING GOD YOU STUPID FUCKING BITCH',\n",
       " '@adejeon FUCK YOU WHORE',\n",
       " \"@CrazyKOs @CrushingClipss Girl or not if I saw that I'd knock the cunt out! How dare you hurt a child like that. Fucking sick twisted bitch\",\n",
       " \"RT @ben_thomas93 Call me sexist but really don't find female comedians funny at all\",\n",
       " 'MYSTERIO YOU UGLY ASS FUCKING BITCH',\n",
       " '@TayrnG @WhiteHouse You are a stupid idiot. F U. NASTY TRASY SKANK',\n",
       " \"RT @Ronn_Deezy Had to do it, swear I'm not sexist... #hilarious #true http://t.co/yIVOa9R2yt\",\n",
       " '\"Rape by Fraud\" Feminazi Strike Again: https://t.co/quJYAuigqh via @YouTube',\n",
       " \"RT @JesslikesTSS: Ladies there's a difference between being a feminist and a feminazi\",\n",
       " '@HEHe06033701 @Mikey_boludo Shut the fuck up dumb bitch. If you dont like it dont fucking reply You childish slut',\n",
       " '@svgethe3rd She is a fucking slut wtf cunt she deserves to fall in that river dumb hoe that shit is fucked cunt',\n",
       " \"RT @aristeodgo95 I swear I'm not sexist but damn! SOME women should not be behind the wheel of a vehicle...\",\n",
       " 'How you take half naked pics but you not a hoe? Smh fake ass bitch.',\n",
       " 'RT @GamingWorldUK: #Feminazi #Revolution60 http://t.co/dofLbucj0D',\n",
       " '@Sofiasweetiez @JAYDOUSE Bitch stfu ! Im just tired of you thinking you know me because of what that bum ass nigga tells you when he needs some pussy or a place to sleep',\n",
       " 'RT @truflo619 Im really not sexist, but its such a turn off when girls say bro like 20 times in every sentence. ...so fuckn ignorant. .lol',\n",
       " \"RT @LordMafffsss: @NigerianNytmare but he's a dude though. I'm not sexist but I tend to affiliate with the male characters. Majority of com…\",\n",
       " 'RT @sports2inflatio: This is how #feminism use young minds to do their dirty job, #GamerGate #notyourshield #adviceforyoungfeminists http:/…',\n",
       " \"Fuck you ugly cunt bitch don't get smacked https://t.co/oN5yaknXRz\",\n",
       " 'RT @PhilBrindAmour Call me sexist but female sports anchors r the worst. Makes me uncomfortable when women know more about sports than I do',\n",
       " '@MsJuliaa1 Lets fuck whore stepmom bitch style https://t.co/JMIXZRrD7H',\n",
       " 'U fucking cunt bitch https://t.co/1sIzyePn1h',\n",
       " '@okaayythen bitch ass whore ass motherfucker',\n",
       " 'Bitch people in petsmart are looking at me like I’m a crack whore https://t.co/dxu7SLQQtl',\n",
       " \"RT @travisnashh: @YesYoureSexist because you hate a group doesn't make you sexist dumbass\",\n",
       " 'Hazel e is a joke. Girl you bashing dark skin women who all look better than you !!! Wack ass hoe',\n",
       " 'RT @joelnoizes im not sexist but girls should not rap, its weird',\n",
       " \"RT @B_Eds517 I'm not sexist but damn why do they let Females act like they know basketball...\",\n",
       " 'Whoever made these, ya moms a mf hoe bitch -.- https://t.co/ccAHTnGr4j',\n",
       " \"RT @TheTokenNegro: Not sexist, but I'll never vote for a woman president because I don't think any woman is mentally stable enough... Maybe…\",\n",
       " \"RT @TorreyFlocka: I'm not sexist it's just funny to attack women's rights because they all get so defensive\",\n",
       " 'The poor kid wanted a fuck and got a bitch prego and now is fucked for life hahahahaha dumb cunts',\n",
       " \"RT @FAN590Walker: No, it's not SEXIST...But I do have a theory that females are UNABLE to tell the difference between Standard and High def…\",\n",
       " 'I wonder if rick will make another deal with those crazy ass women 🤔 and if that crazy ass nigga will actually hoe Daryl again 😐',\n",
       " 'What a suprise my Ex Wife is being a Whore for haloween wait until the kids turn 18 karen FUCK YO.u Whore Bitch You Lying Steali',\n",
       " '@kurisuwu Fuck you cunt hoe no you won’t ily😘',\n",
       " \"RT @bam_bambam3 I fucking hate rich ass snobby women that don't know there place in front of men! #notsexist #justventing\",\n",
       " \"Yes, you're both. @kfuru16: My sister is a woman and Asian. She is the worst driver in America #notracist #notsexist\",\n",
       " '@Bubbles8301 @LPIsaacGuest She a nasty skank Hoe who would Fuck her wolf pussy anyway ?',\n",
       " \"RT @Vulc4nMind @Aandapples  // nope. I'm not sexist but I think the doctor should stick with a male\",\n",
       " 'EHAT THE FUCK @AmazingPhil I LOVE YOU SO M7CH FUCKING BITCH',\n",
       " 'Dear Akkorou, Bitch ass nigga cunt on a stick fuck shit bitch kike small cocked cunt Love, Dj Rits',\n",
       " '@ben_sassin You ugly lil bitch shut the fuck up if you dont understand the stock market hoe',\n",
       " \"RT @Ectocooler_hi_c: #Questionsformen proves a man can be sexist without trying but women can't even when they create a hashtag explicitly …\",\n",
       " 'Lol you\\'re probably tweeting, \"it\\'s so hard to move on\" with a dick in your pussy so shut the fuck up fake hoe.',\n",
       " \"Titties are 😎 but where's your ass bitch\",\n",
       " \"RT @_oimatewtf: I'm not sexist but girls who have abs and all that nonsense are really not attractive\",\n",
       " \"RT @WillHinders: Girls can dig football I'm not sexist.. But girls that hate football but then watch the World Cup and have an opinion.. Na…\",\n",
       " 'This is when a guy says something like “I don’t want to date a hoe” n a woman responds with “But you n your sister got different daddies” bitch so...still not dating a hoe lol https://t.co/sMQcWdZnRL',\n",
       " \"RT @screamingfuck I'm not sexist but I think sexism is hilarious\",\n",
       " \"RT @RyBen3: @LJoyce11 my comment was sexist, but I'm not personally, always a sexist.\",\n",
       " '@badzachx you pussy ass bitch. stfu',\n",
       " \"RT @atchley62 Call me sexist, but I really don't like when women do the commentating for football games.\",\n",
       " \"RT @BrianRienecker Call me sexist but I just can't stand women auto journalists. Something just isn't right about it.\",\n",
       " '@eileenmdm @ldontgotanyhoes I hate you you fucking cunt bitch how fucking dare you I hope you wake up with mad cott… https://t.co/XXb8oWQuv9',\n",
       " '@KristenBowen3 @MariaVermeule bitch if u dont hop off my dick and go do somethin with yo loud mouth ass , mothball… https://t.co/5Zioz4R8Ew',\n",
       " 'bitch FIRST of all thats how i talk i meant he, SECOND you da hoe hoe so stfu',\n",
       " \"RT @S_R_Fernando: @UnfinishedToday Ah, you're a #feminist? Seeing #sexism everywhere then, do check my tweets before you call me #sexist Yo…\",\n",
       " 'Ion take hoe shit from nan bitch but that’s the difference between a little girl and a grown ass woman they don’t know when to SHUT UP',\n",
       " 'Yes, i am a hoe:\\n\\nHeaven\\nOn\\nEarth\\nJk I’m just a big fat fucking whore and slut like literally just a huge hoe',\n",
       " 'RT @sports2inflatio: @lissasauras #feminism supported pedophilia, you will find people like me fighting against it. http://t.co/gLNCGkuukp',\n",
       " \"im so trill, ur hoe can't handle it but damn, that bitch can suck a diiiiickkkk\",\n",
       " \"I fucken hate you Kat. If I see you in the street I'm going to spit on you. Selfish ugly bitch. #MKR\",\n",
       " 'fucking take that stupid bitch FILTHY whore nobody will love you fuck you idgaf if ur pregnant ill kill u go ahead call the cops nobody wi',\n",
       " 'RT @KaiSchnitker13: Im not sexist or anything but womans college basketball is super lame',\n",
       " 'RT @nowlinn Not sexist but I hate female sports announcers',\n",
       " 'RT @JoshuaYowler I\\'m not sexist. But damn. You want equality? Learn to not pull the \"I\\'m a woman\" card.',\n",
       " 'Hoes in the city so recycled you just a rerock lil whore',\n",
       " '@zachcampbel @NICKIMINAJ Bitch stfu you was just talking shit about her stop tryna get clout fat neck hoe',\n",
       " \"RT @URBINA52 @my_sweetness_ I'm not sexist, but show me a good women driver... One in a million lol\",\n",
       " \"RT @Stef_C_80: Call me sexist but this is exactly why girls should not be taking serious with football! 3nil down and she's smiling http://…\",\n",
       " '@sumeshs82673978 @EndiZentarmi your are an idiot. go fight yourself if you know better. each of those women will kick your cunt ass bitch',\n",
       " 'RT @charlwhat HOLY FUCK IM NOT SEXIST BUT ALOT OF WOMEN CANNOT FUCKING DRIVE',\n",
       " '@bellelarocque @LucyLoveMary #feminazi',\n",
       " \"RT @GlockzRTR: Females Need To Stop Thinking That They'll Be Treated Exactly The Same As Males...Society Wont Let It Happen #FactsOfLife #N…\",\n",
       " \"RT @BipolarBrute Not sexist but i don't like weak women POV. i like kickass women POV like Cersei...you know.\",\n",
       " '@BarbraStreisand @HillaryClinton Why any DECENT woman would think this skank should be 1st female potus is beyond m… https://t.co/BYZMc7tdiz',\n",
       " '@AynRandPaulRyan Fucking bitch sarah fucking lying cunt',\n",
       " \"#totallyneededtobetweeted @PowerbombJutsu I'm not sexist but I just don't care about women's wrestling\",\n",
       " 'some people at this school literally drive me insane. like cool bitch! im depressed too!! doesnt mean im a fucking cunt',\n",
       " 'Oh Kat you do something new every night to make yourself look even more like a hateful twat! #mkr #karmaisabitch',\n",
       " \"RT @blackocracy: I'm not sexist or anything so I hope no single broad try to swerve me but... a woman's ultimate position is to be by a man…\",\n",
       " \"RT @fkn_always_ I'm not sexist but I don't like movies with women with the main role.\",\n",
       " \"RT @IndyVoices: #BlameOneNotAll: Do men who don't hurt women actually need to be congratulated? http://t.co/2MASnVrU4I http://t.co/HMYaj5Ew…\",\n",
       " 'SHUT UP THE FUCK YOU SLUT!',\n",
       " \"RT @kohfuckyourself I'm not sexist, but Feminists make me sick in how they go about fighting for equality. Sorry.\",\n",
       " 'Looooooooool I can’t believe ‘BEN WOTTS’ aka dick head fuck boy send me a pic of his hairy ass hole n asked me to peg him.. weird cunt 🤣🤣🤣',\n",
       " 'RT @morganastra: Have you noticed how EVERY SINGLE trans woman is a complete fucking badass? I sure have. I fucking love trans women.',\n",
       " \"RT @LOTRQuotes69: Women are stupid. Fuck 'em then leave 'em. If you want to be intelligent hang out with men. #SorryNotSorry #NotSexist #So…\",\n",
       " 'bitch i’m fucking trying https://t.co/qUrzGmU8T6',\n",
       " 'RT @WinerNick Not sexist, but the majority of feminists piss me off.',\n",
       " 'Fucking bitch. https://t.co/DkVp7BPzPJ',\n",
       " \"Why tf these hoes be hoein while pregnant? Bitch you can't get a regular ass job for 9months or what? Smdh\",\n",
       " \"RT @bennyd40 Not sexist but I'm getting a little tired of female announcers.\",\n",
       " \"Honestly I can't even keep up with all the sexist #Thor tweets right now. I hope Lady!Thor is butch as hell and marries Wonder Woman\",\n",
       " 'i just had the rudest fucking bitch cunt on the phone to me at work and i want to push her off a cliff n jump on her ribs . Ent phased',\n",
       " 'Ew a year ago I was chillin w/ a nasty coke head looking skank 😷😷😷😷😷 bitch you nasty',\n",
       " 'Just saw clips of how the #Oscars Mammified #OctaviaSpencer. Why would she #Coon herself out like that? Oh, so she can play another Maid...',\n",
       " '... http://t.co/6Gm76stOCp #asian #filipino #free #indian #japanese #oriental #thai #video #videos #vietnamese #whoriental',\n",
       " 'http://t.co/IVjy6SB1PE: #hentai drive vol.4 02 http://t.co/ijxnLkLoFB #asian',\n",
       " 'RT @ol_dirtymarco I\\'m not sexist, but I must admit the \"Women belong in the kitchen\" jokes were worth a chuckle.',\n",
       " \"RT @GalenHerron I'm not sexist at all, but I do hold the firm belief that girls/women shouldn't be allowed to drive. No need to explain why\",\n",
       " 'i swear to god my bf pisses me off the MOST smh that fucking bitch makes no senseeee',\n",
       " 'Hoe asss bitch what the fuck',\n",
       " 'A fvcking bitch who is a hoe to everyone https://t.co/EhdwqsI8jg',\n",
       " 'LMFAO lil biddy whores prison rape bitch im whose bitch',\n",
       " \"RT @ChrisFelipe__: Call me sexist but I won't watch OITNB cause all the main characters are women\",\n",
       " \"RT @RYANKRONG I'm not sexist but Hennessy is definitely a mans drink.\",\n",
       " \"RT @geemichelleex3 I'm not sexist but I'm pretty positive I have no female teachers this semester\",\n",
       " '\"just don\\'t\" = the sum total of your unconscious biases @NoPromises_ I\\'m not sexist but I just dont like female singers haha',\n",
       " 'RT @FuxkRello_ Lol swear im not sexist but most a yall chicks be dumb af',\n",
       " '@HillaryClinton shut the fuck up you treasonous bitch of a whore hurry up and die already',\n",
       " \"RT @Deanowen118: I'm not sexist, but why the fuck do girls try and talk / tweet about football to impress lads. This is our thing, don't ru…\",\n",
       " '@SpIashMan can u report dogshit retard link me after u beg ur fucking terrible u foreign cunt u sound like a woman fucking funder',\n",
       " \"Don't you hate when bitches act like sluts but aren't even down? Like that bitch from American Beauty.\",\n",
       " 'dumb fucking bitch',\n",
       " \"You've just proved that you are two blondes with fucked up faces!! #MKR\",\n",
       " \"RT @RyanGebble Hey so I'm not sexist but if you think Female Shepard is better than Male Shepard on Mass Effect you're basically broken\",\n",
       " 'No one cares @IkeMahrer6551 call me sexist, but i hate to hear girls argue bout sports',\n",
       " 'RT @queenofdragonsb: Pls shut the fuck up bitch',\n",
       " 'RT @lord_yogurt TBH you can call me sexist but the sight of girls smoking is unpleasant',\n",
       " 'RT @therealtjorsini not sexist but girls just cant sing country as well as guys',\n",
       " '@JudgeJeanine YOU MEXI SHITMOUTH UGLY A** BI**H GO FUCK A DEAD DOG YOU TRANNY WHORE CUNT REDSKIN PEICE OF SHIT LEAVE AMER TO AMER WHORE',\n",
       " 'I don’t appreciate getting called a slut a whore and a cunt for just taking you off Snapchat ur telling me 2grow up no sweetie you need too',\n",
       " 'Fuck fakes ass friends and fuck a lying ass dirt nasty whore. Have a nice day.',\n",
       " '@MINHYUKYBOY boo you whore',\n",
       " \"RT @JWMofficial: You're wearing yoga pants to show off your ass. Don't give me this bull shit 'they're comfy!' we all know the truth ladies #ASS #ASS #ASS\",\n",
       " \"these cunt whore are lickers are all army & their family if they get a female they all gang bang her ' whore all... https://t.co/fWNzj0b7Yf\",\n",
       " \"RT @SxFlint93: I'm not sexist but women should play football past the age of 12 unless they're over 285\",\n",
       " '@brucebahenol WHAT THE FUCK BITCH?!',\n",
       " \"RT @wk1jase I'm not sexist but they really making it hard to act otherwise. #franga\",\n",
       " 'straight people flirting boy: *takes girls phone and fucking smashes it to pieces* you’re stupid and a bitch girl: omg Kyle...stooop 😂 😂',\n",
       " '@eugenegaytard BUT BUT WOMEN CAN\"T RAPE! no this breaks ma feminazi brainsz',\n",
       " \"Yes! #weirdsexism is back! @hehweh It's kinda weird to think women have #genitals. #notsexist #justsaying\",\n",
       " '@shanedawson NAMES BITCH AND ILL END THAT CUNT',\n",
       " \"'Keisha Phillips is a dumb cunt dyke bitch hoe. Waste of a pick. Stupid idiot.' -Coach Q\",\n",
       " 'RT @Lizzethismetal: Probably gonna piss off some #feminists\\n#yesallmen\\n@MT8_9 http://t.co/QHo6dhumjc',\n",
       " 'RT @DaveParky14 Not sexist but an all female cast for a re hash of ghostbusters sounds....well shit really',\n",
       " '@Steffersxoxo stupid women fuck up my life #WomenSuck',\n",
       " 'RT @BeLikeNaNaNa: those blond girls make me crazy, they are so annoying #mkr',\n",
       " '@IssaRae Lmao this bitch got no clue what shes even attracted too...show any women vulnerability and shes gonna be… https://t.co/uBxj2EjIfk',\n",
       " \"RT @Mbrew87 Call me sexist or whatever you'd like but I can not listen to a female calling or analyze a mens college basketball game.\",\n",
       " 'uh @TommytheTank3 @SaintMarche whatever about a man (sorry im not sexist) but a woman should never let herself go...',\n",
       " 'RT @Ryan_Clevenger Call me sexist but I get annoyed by women anchors on SportsCenter',\n",
       " 'RT @FeministMirror: @beerandfeminism @MT8_9 @sh00ter_d So wait, doing that disgusting act on a misandrist tattoo is misogyny? HAHAHAHA! #Do…',\n",
       " 'RT @ProWomanChoice: This makes me laugh. Every single time. #feminazi #feminism #YesALLWomen #feminist #misogyny #fem2 #WarOnWomen #p2 http…',\n",
       " \"@hindu_whore Yeah bitch that's where you deserve my CUM\",\n",
       " \"RT @RICANROLL: @YesYoureSexist tell the bitches, whores, sluts and cunts to change their behavior...that'll end the speech\",\n",
       " \"bad cougar bitch and i'm trappin wit her son\",\n",
       " \"This nigga is on snap fucking a bitch while she sucking somebody else's dick 😂😂😂 bruh\",\n",
       " 'I can’t live my life based on what women find attractive. Lmao every single one of you hoes can suck my dick',\n",
       " '@Angeleyez_17 @beelvia @SenSanders Slut. Whore. Floozy. Harlot. Skank. Pick whatever word you want, and keep the sa… https://t.co/cLpUl32uDP',\n",
       " \"@xJenniferWhitex @thecherryclub You are Beautiful charming Bitch Jennifer white Nobody's fuck like you Amazing sucking Cocks 💝💝💝👑👑👑👑👑👑\",\n",
       " 'these hoes done called me kelly jr bitch fuck them 😩😂😂😂',\n",
       " \"RT @Moni_KidD This is not #SEXIST but my opposite sex can't drive for shit!!!\",\n",
       " \"Something y'all dudes fail to realize about a pretty girl is; she's never lonely. 💁🏼\",\n",
       " 'Shut up bitch and suck my cock https://t.co/thFk4yNVEx',\n",
       " \"@realDonaldTrump @foxandfriends Bitch please. You're nothing more than Putin's whore\",\n",
       " '@Slutty_Elf @RiotQuickshot You shut your whore mouth',\n",
       " '@WismerTrashCry ?',\n",
       " 'I never understood why anybody waits to say they got raped smh rape me bitch I’m snitching soon as you leave fuck boy',\n",
       " '@PressStartKofi You a whore',\n",
       " 'Some cunt at Walmart went full psycho on me saying how she had no fucking space to put her shit bitch ur taking up the entire conveyor belt',\n",
       " '@havoc5656 Fuck you, you dirty red-jesd whore.',\n",
       " \"This bitch out here settin up dick appointments and your lame ass can't even get a text back https://t.co/a42yzUSTCY\",\n",
       " \"JUST FELT THE NEED 2 EXPRESS THIS 4 SOME REASON @benjorrell Don't get me wrong I'm not sexist, but seeing female engineers on site is weird\",\n",
       " \"These dudes out here sending dick pics to anyone... Y'all dumb AF... I ain't sendin shit without a pussy pic first... Insurance if you will\",\n",
       " '@Ronnie2K FUCK YOU STUPID BITCH',\n",
       " \"@A1_Infinite fuck you u a fucking whore Lil bitch I don't even like u tbh\",\n",
       " \"RT @Yooo_Fredd I'm not sexist or anything but I do not take female rappers seriously I would never buy a Nicky Minaj album or something.\",\n",
       " \"Only 2 oppressions. @Prattsays I'm not sexist, but I just remembered why I hate feminists. Unless you're Black orJewish please stop whining.\",\n",
       " '@Jaykordeii @rainbowhairedqt @KENotBeStopped4 @blackgoddessv @RowWhlgn Lmfao boi! Stfu you definitely it getting any pussy with that mentality I know!',\n",
       " 'So over everything being called a fucking bitch ass whore daily when Im the only one that does anything takes care of 8 kids alone,done dont want to be here any fucking more. Gone',\n",
       " 'Jervea ass bout to really come up missing stupid hoe got me sick 🤦🏾\\u200d♂️',\n",
       " 'Can someone give Kat a slap across the head #mkr #bitch',\n",
       " \"RT @pcaudi15: I'm not sexist but I can honestly say I've never felt safe riding in a car with a woman driving!\",\n",
       " 'seeing ur close girlfriends in public: HEY U STUPID FUCKING SLUT BITCH I HATE U seeing girls u dont really like: hey girl omgggg how u beeeennn its been foreverrrrrr',\n",
       " \"RT @Coopster04: @MtBakerTheatre As a mom of daughters, I'm asking if U would call them 'sluts, sexretary or FemiNAZI'? Rush does &amp; you pay …\",\n",
       " '*Fires back* hoe ass bitch with a big ass forehead 😭 I knowwwwww 😭😭😭',\n",
       " \"@em0_trash @Yogirlflaca bitch i'll give you this big ass dick then\",\n",
       " 'DUMB CUNT OMM, JUST KNOW IM COMIN FOR YOU HOE',\n",
       " \"You're not a feminazi, right?  #5WordDealBreakers   @midnight\",\n",
       " 'oh you want a name fight ! ❛ you stupid COCK loving slut ! ,you fucking WHORE ! how do you like that huh you little shit ! ❜',\n",
       " 'RT @JustMarn Im not sexist, but When it comes to learning i prefer a male .. All my fave teachers were male.',\n",
       " '@DavidJoBrexit Fucking cunt bitch has learned nothing from the election',\n",
       " 'RT @RationalMale: #QuestionsForMen Do you realize how powerful feminism really is? http://t.co/xb0e1KiEfs',\n",
       " 'Fuck bitch, fuck biiiiitchhhhh',\n",
       " \"@sassybarbara12 @SheriffClarke @FoxNews @FoxBusiness @BreitbartNews Hell, this stupid bitch @Sexytranny1 said I wasn't even black, but a white person in blackface just because I said the NA isn't racist.\",\n",
       " 'Bitches fav line is “Am I supposed to be scared?” Listen here lil bitch you don’t have to be scared to get your ass beat. So wassup😊',\n",
       " 'Ok like stfu HOE',\n",
       " \"@chaeltz07 i've seen this skank thot basic bitch IG trash before. Her videos are the worst. Such a prostitute\",\n",
       " 'RT @joeyramos67: Something about women commentating on football really fucking bugs me #notsexist  #dotheyreallyknow or #readingaprompter',\n",
       " \"RT @DarrellHall_: I'm not sexist but a female can't do what a nigga do... In the end y'all gonna look like a hoe and a dude gonna look like…\",\n",
       " \"@anniekfox Hmmm...that's a good point. Bathing in male tears is more of a feminist thing, huh?\",\n",
       " 'Real old whore slut and granny with thirsty vagina https://t.co/8M6jsVWvro',\n",
       " 'fuck you hoe you ugly anyways I was just trynna see what that pum pum like Twanny said it make noises, skank ass hoe says the Nigga that had no chance',\n",
       " \"So boring. @CrossMagic I'm not sexist. But women should not drive. Ever.\",\n",
       " '@realDonaldTrump @realDonaldTrump your bitch of a mother should of swallowed you like the whore she was',\n",
       " 'RT @dairemaureen I just think Men are better Comedians....#sns #notsexist',\n",
       " '@TEAMNASA_KE Ur the bitch motherfucker Nasa is sick with what I call attention seeking cunt disorder',\n",
       " 'Stop calling women whores! Crazy ass. https://t.co/HMc3Z47Zdu',\n",
       " \"@chicgeek240 You're a fucking bitch get over yourself\",\n",
       " 'These girls really put the ASS in sass #mkr',\n",
       " \"bitch you're a grown ass women https://t.co/77DNSI4m9e\",\n",
       " 'KAT IS A FUCKING CUNT #mkr',\n",
       " '@Kaira_slays Third I DO NOT remember calling her a slut or a whore or a bitch o saying anything else at all so char… https://t.co/m0HyFWTUbL',\n",
       " 'Ewk man this bitch be with mad whores',\n",
       " \"RT @AuntyNannon: I can't figure out if that promo chick has a receding hair line or just a massive forehead\\n#mkr\",\n",
       " 'I’m still daddies whore 🤪 https://t.co/lZMGbjoywC',\n",
       " \"RT @niamh_bull: #katandandre #mkr far out if someone doesn't let a can of whoop ass out on u I will!! Grrrrrr\",\n",
       " '@HandzOfZeus @sara771987 @FeministFailure correction: Freedom feminists. Not gender feminists aka feminazi aka cunts',\n",
       " \"@SymoneDSanders @RepWilson BS WILSON IS A SKANK WHORE AND A LIAR . DIDDN'T YOU KNOW ALL LIBERALS LIE\",\n",
       " 'Blac Chyna is straight trash and an abomination to women everywhere. Don’t @ me cause I don’t care. Hoe responsibly, bitches.',\n",
       " 'So only women can experience sexism? I call BS! #feminismiscancer #EqualityforAll #MAGA https://t.co/N0Bhgzo8S9',\n",
       " 'Imagine getting your ass dragged by Kali Uchis bc you were being a rude ass bitch',\n",
       " \"RT @bquinn18 I'm not sexist but all women suck at driving and they should not have the right to get behind the wheel\",\n",
       " \"RT @RachelInnes1st I don't know what it is, but women in fiction drive me mental #NotSexist #HateMyOwnGender #Bitches\",\n",
       " 'RT @Deyzho I don\\'t intend on my wife being a \"working\" woman, call me sexist.',\n",
       " '@nhandss_ Bitch stfu i talk to u everyday u the one who forget yo place, HOE',\n",
       " '@CurlyManJay @Medd1k stfu bitch nigga who told u to talk hoe',\n",
       " 'RT @Akhdre_: \"You too skinny, imma hurt you\" Girl  if you don\\'t shut the fuck up and ride this dick. Imma be aight. I got Obamacare.\"',\n",
       " \"RT @Arsenick3: @YesYoureSexist saying something enforces a stereotype isn't the same as stereotyping #JogOn\",\n",
       " 'da dyke now say she want she dick suck, oh my days 😭',\n",
       " 'RT @RyanD_18 Call me sexist but I hate hearing female rappers, I will switch the song with no hesitation whatsoever',\n",
       " \"RT @bnixole: bitch shut the fuck up you're fucking your best friends dad https://t.co/1YR6ydZMgc\",\n",
       " 'RT @deanesmay: I\\'m not kidding when I say it: today, #FeminismIsHate -- \"nice\" feminists should stop caling themselves that. @5StringOmen @…',\n",
       " 'I FUCKUNG GET TWEETS FROM FANS IF THAT PIECE OF SHIT WHORE SLUT DISGUSTING HUMAN BEING ABOUT HER NEW SONG FUUUUUUUUUUUUUUUUUCK',\n",
       " \"@HEIZEFVCKS Fucking whore you're my whole fucking life man gtfo\",\n",
       " 'RT @amyriding98: Why are guys expected to text girls first? #equalrights #yesallmen',\n",
       " \"RT @JoeParker45 Not sure women's darts should be on tv unless these too are just really bad! Seen better in the pub #notsexist #justshocking\",\n",
       " \"zzzz @hammmyy96 Call me sexist but I'm yet to see a funny female comedian\",\n",
       " '@XnxxHotSex damm baby girl you got a nice pussy right there and be sites you pussy look morh bigger than my girl pussy',\n",
       " '@yg_steve Thank you Lil bro bitch skank thot!😂🤘🏾🤘🏾🤘🏾🤘🏾',\n",
       " 'RT http://t.co/3bvazJfhS4 @CyCopplelops Call me sexist but men will always be superior drivers',\n",
       " 'like damn bitch if youre hungry shut the fuck up and eat im trying to sleep!!!',\n",
       " '@maisonmargieIas Wow that hoes aint shit, You deserve better dan that ugly whore brother',\n",
       " \"For real? @BrownNicholas11 I'm not sexist, but men are superior.\",\n",
       " \"Has anyone noticed how it's never really attractive women being feminazi cunts. It's always ham beasts no man wants to stick their dick in.\",\n",
       " '@Cumkitten_R2 your fucken hot im hot fuck hard do anything you want to be my slut whore and open your holes you HOT SLUT. WE LOVE TO FUCK',\n",
       " 'that bitch wanna act funny bitch ima act hysterical',\n",
       " \"RT @__gershom I'm not sexist but some foods are gender specific please. I don't want a woman mixing my shawarma.\",\n",
       " \"Don't fuck with me I fucking despise Kat and Andre fuck off #mkr\",\n",
       " 'RT @NickCMcCarthy Not sexist, but girls on xbox live are super annoying.',\n",
       " 'Im perfectly happy with my boyfriend bitch but dont worry karma is coming for your skank ass',\n",
       " \"*yawn* @Eminent_dude Im sorry but women cannot drive, call me sexist or whatever but it's true.\",\n",
       " 'go fuck yourself you stupid ugly cunt https://t.co/zjzWFx9gq5',\n",
       " 'RT @pmb527: #GamerGate obviously Madden is a sexist video game series that refuses to add female characters. #TweetLikeAFeminist',\n",
       " 'She’s a whore and her moms a drug addict. Don’t fall for these hoes https://t.co/QBquhnW7PY',\n",
       " 'Suck shit Kat you dumb shit. Go back into the swamp behind ya and shut the fuck up. #MKR',\n",
       " 'RT @aps111: How does Kat justify her statement \"they worked so hard\" SHE CANT COOK FUCKING BREAD #mkr',\n",
       " 'SLUT BITCH LIKED IT TOO! https://t.co/1KfS2SwAOl',\n",
       " 'HAHAHAHA @Mr9iceGuY: a woman SHOULD NOT be proposing to a man under no circumstances b..u cant tell me nothing. call me sexist idccccc',\n",
       " \"I didn't think I'd hate a couple more than these girls but Kat needs to wipe those smiles off her face. She's horrible. #mkr2015 #mkr\",\n",
       " \"RT @angelacarwile: Chivalry is now sexist...I've heard it all now!\\n#Feminazi's gone wild! Smh!😒\\n#KellyFile #Hannity #TCOT\",\n",
       " \"I hate girls that thing they are super hot when they're ugly as fuck! #WomenSuck\",\n",
       " \"@ClaymoreZX Wah, did I just hear they're making the marvel character thor female?.. I'm not sexist, but really? #thorlorealadsherewecome\",\n",
       " 'Fucking whore',\n",
       " '@PopCrave He can choke and so does his bitch hoe',\n",
       " \"RT @TH3THINK3R I'm not sexist but anyone that thinks males and females are equal or ever will be is naive\",\n",
       " 'RT @DamianMichael93: I am not sexist but when I say I hate the two idiot female roommates I got stuck with, without choice. I mean it. Perf…',\n",
       " \"Free speech has no limitations what so ever, otherwise it's not free speech you crazy fucking bitch! #FreeSpeech\",\n",
       " '@UPI @adamczyk_ed @JacindaArdernNZ much confirms that she is a hysterical Liberal wacko. Any woman who forces pothe… https://t.co/lDt3rToqlg',\n",
       " '@Vickiegogreen Filthy SKANK',\n",
       " \"@sksnky @Schmidt4Donnie @HillaryClinton @dawnresist The filthy skank lost. Time for you loser's to grow up. No one likes whiny little bitchs.\",\n",
       " 'You @ItsMainaKageni should understand most of these women want to be single moms until finances bit then they bitch #MainaAndKingangi',\n",
       " '\"Females\" and \"guys.\" @AwkwardEP I\\'m not sexist but a lot of females lack true logic sometimes. A lot of guys are just dumb though.',\n",
       " \"@Iipkloss being a fuckface to a girl who just agreed, she doesn't want a feminazi hoe in her business, so fuck off.\",\n",
       " \"@ArianasBotch Ok if you fucking said leave block me. But dm me first I'm gonna kick your ass. Shut the fuck up you https://t.co/6BXkfxMEf9\",\n",
       " '@kimguilfoyle Skank.',\n",
       " '@boomalottashit you a lame bitch',\n",
       " \"RT @rkp12588: @YesYoureSexist @DaveGreene11 Just wanted to point out overseas labour isn't solely women in sweatshops... http://t.co/8EvgBu…\",\n",
       " 'I always fight this boy at school who calls me a feminazi for being a feminist he has an absolute asshole',\n",
       " '@Thomas1774Paine I thought you were leaving the country you washed up skank ass?',\n",
       " \"It must suck to hate me, I'm a mother fuckin delight, bitch\",\n",
       " 'RT @asredasmyhair: Feminists, take note. #FemFreeFriday #WomenAgainstFeminism http://t.co/J2HqzVJ8Cx',\n",
       " 'RT @sales88194029: The face of very ugly promo girls ! Faces like cats arsehole #mkr excited to see them@go down tonight...literally http:/…',\n",
       " \"@PhilMphela You're the most dumb nigga in the history of dumb niggas, arguing with women like a lil bitch\",\n",
       " 'Go get you a bank roll don’t worry bout these skank hoes',\n",
       " '#feminazi',\n",
       " \"Hey @rosemcgowan why not fight a real enemy like islams treatment of women? Oh that's right ,would require a spine. Talentless twat feminazi\",\n",
       " '@daily_politics @EstherMcVey1 What a stupid bitch , talks utter shite this woman . pure fucking evil too .',\n",
       " '#TheTalk is the typical sexist bigoted all-female show that berates males. End #misandry today! Men are fighting!! http://t.co/6n4V9kBtya',\n",
       " 'Donald- you stupid bitch Hillary- you fuckin buffoon Donald- think they believe we hate each other? Ah fuck it lets go get a drink https://t.co/bbx98NCySX',\n",
       " 'Stupid ass bitch unfollowed me LMAO',\n",
       " '#MKR Kat is better TV. She is a natural villian unlike Ash who is a fake one.',\n",
       " \"RT @jcantrell12: For the record, I'm not sexist. But if you can prove me wrong about female comedians, I'll make a formal apology to the wo…\",\n",
       " \"LOLOLOL @babaaibrahim the bitch was driving it. God damn I'm not sexist but that is not a car that should be driven by a female ever lol\",\n",
       " \"Bitches that wear chokers that aren't complete whores is why I hate you bitches\",\n",
       " \"RT @Belfastscouse1: @OK_Commuter_ same. No one involved with the original apparently. And I'm not sexist AT ALL but female Ghostbusters? Li…\",\n",
       " \"RT @NathanPoole3: Song if you're guna hit someone don't punch them like a girl #WasteOfARedCard #NotSexist #10SecondHeadLoss\",\n",
       " 'WHAT THE FUCK bitch fuk u https://t.co/9B1NZkWhw4',\n",
       " 'Go home Kat. cunt faced bitch #mkr http://t.co/YsPBfitZtB',\n",
       " '@Astrophilia Fuck off feminazi shit head.',\n",
       " \"@LoveHipHopVH1 Musika you are a awful person. You or Skank want to be ugly ho I don't know what the fuck you're wearing #LHHHReunion\",\n",
       " '\"girl sports\" gives it away here @LM26_LYE_ERA I dont even understand why girl sports are televised #notsexist #justsaying',\n",
       " '@DIAMONDPWUSSY like when they say \"real men dont rape women\"/\"if you hit a girl you\\'re not a man you\\'re a bitch\"',\n",
       " 'Put a bra on Nikki, you dumb slut #MKR #MKR2015',\n",
       " 'Says the bitch wit a HAT, WEAVE, & a FULL FACE, in her ICON.... lol fucc outta here you SEWER RAT, GUTTER SLUT, TRO… https://t.co/QmNBWN6uR7',\n",
       " '“Fucking slut. I knew you were cheating on me.” https://t.co/mHmhJytNd6',\n",
       " '@becksss___ Love you😘 be nice if I could retweet ya but youre a pussy bitch on private😂',\n",
       " 'His dads a fucking whore so who’s to think this nigggggggguh ain’t?!?',\n",
       " 'Str8 girl @ dyke march: i havent seen one single dick today uwuu',\n",
       " \"So ... #Kat's food was about as pleasant as Kat, which is to say ... NOT. Suffer in ya jocks Kat! #MKR #SmugBitch\",\n",
       " \"RT @k_halvy22 Women shouldn't be football announcers. #NotSexist #JustAnnoyed\",\n",
       " 'Please invade my pole land\\n\\nRT @ProWomanChoice: This makes me laugh. #feminazi #feminism #YesALLWomen #fem2 #p2 http://t.co/bvSnfrXsKm',\n",
       " 'You are very whore and your cunt enjoys it https://t.co/Z5tQRkFByy',\n",
       " 'Well then call me a sexist, which Im not. This is no doubt a hysterical woman protestor. BTW, there have been several hysterical male protesters but we havent seen news on them. Id say THAT is sexist my dear. Oh, sorry, my dear is sexist? Sorry dolly.',\n",
       " '@ex_lex_sive Either your a dirty girl or a good bitch. Choose',\n",
       " 'Wow. Wiped that bitchy smile right of your face Kat #MKR #Fail',\n",
       " \"Bitches can't keep a man for shit but got a steady ass work husband at all times\",\n",
       " 'This bitch always want us to do work that ain’t even for a grade. Hoe, a bitch don’t do this for our health.',\n",
       " \"RT @Arsenick3 I'm not sexist, I follow some very well informed and knowledgeable female fans but the comment was daft!\",\n",
       " '@buzzard1984 yeah can they be anymore racist painting black males with criminal colors is just disgustingly racist #BlameOneNotAll',\n",
       " \"I wish y'all hoes with no self respect would stop putting y'all sex life on twitter bitch be a lady please 🤢\",\n",
       " \"This bitch for real said you're not a woman without boobs.\",\n",
       " 'Fuck bitch!',\n",
       " 'Having a resting bitch face 24/7 especially if like somebody is taking a pic of you and you still don’t smile and just look like a bitch isn’t cute lol for fucks sake smile for ONCE.',\n",
       " 'Fuck off you stupid cunt https://t.co/N5ASjrnHOm',\n",
       " '@EmilyKnoxxxx YOU ALWAYS HAVE MY DICK. ONCE YOU START USING MINE AND YOU WILL NEVER FEEL YOU PUSSY IS EMPTY AND ONCE YOUR PUSSY STARTS TASTING MY DICK IT WILL NOT ACCEPT OTHER DICK, IT WILL DIE TO HAVE MINE ALL THE TIME. FUCK U BABY',\n",
       " 'RT @MiracleCuresYou: Yet another #Gift; Erol sums-up the weaponised #Feminazi #paedophile-run system ✙ http://t.co/nR4V2EySOx http://t.co/a…',\n",
       " '@justcurious5432 @JustLaurenB Feminism.',\n",
       " '@jellsoval You’re just a dumb little cunt who had an abortion to go be a hoe, and you eat your tampons tryna be “fe… https://t.co/UtFOtQ1C19',\n",
       " \"@NARAL @theashleygraham Bitch, do you think those women are stupid? Don't even try to kiss and lick their ass.  The… https://t.co/UOWAD5IOpR\",\n",
       " '@TheRealPerceeP post telling how you love hooking up with a filthy slut so you and that whore joke about her man(I… https://t.co/yq6CxkKH0I',\n",
       " '@_amanda_lol @inlistalex Ok bitch stfu now get over it suck a dick ride a dick choke on a dick and die',\n",
       " '@AnnCoulter Dont worry Ann. No one will ever accuse you of being a hysterical woman or any kind of woman',\n",
       " '@alexandervoro14 stupid cunt.',\n",
       " \"@natashavc &lt;Prime example of a lying feminazi pussy. Skank can't take the blowback of her exposure &amp; locks her tweets. #WarOnWalker #Libtard\",\n",
       " 'OMG the sluts are going to get through #mkr',\n",
       " \"@iHeartRadio should fire @billhandelshow NOW for calling @RepWilson a whore! He can't stand strong black women https://t.co/OdeS6t6bPW\",\n",
       " \"RT @dloman62: I'm not sexist but whenever I get mad at another car when driving and I see that it is a woman driver I am no longer mad and …\",\n",
       " '“You have sex, youre a whore. You dont have sex, youre a stuck up prude.Youre a bitch if youre serious, but youre a joke if you never care”',\n",
       " '#mkr oh kat u silly silly fucking thing...open ur eyes',\n",
       " 'RT @TichacekWill I need a woman to do my laundry #notsexist #Truth',\n",
       " \"Kat is ruthless tonight. Look out, she's a desperate woman! #mkr #mkr2015\",\n",
       " \"Hannah you stupid selfish fucking whore ass bitch!!! How could you do that? You're so fucking messed up!!\\n\\nGod i fucking hate the people in this goddamn show!\\n\\nAnd now Claudia!! God damn it!! This whole episode is frustrating!!\",\n",
       " 'RT @yjoyding: Male friend who interviewed at Uber asked about gender diversity &amp; got the answer \"Our recruiters are so hot\".',\n",
       " 'i wan no bitch till iknow she gone stay down fa me.. kus all these hoes doin dicks & ian goin for it',\n",
       " 'RT @Matt_Toppa I hate women sports analysts #notsexist #theyrejustannoying',\n",
       " 'You’re a stupid piece of shit, you’re stupid fucking bitch',\n",
       " \"Boooring @antrooney10 Am not sexist but women can't play football!\",\n",
       " 'Nah If i kiss my girl my dick gonna get hard &; im tryna fck 🤷🏻\\u200d♀️ You sleep !! https://t.co/4KNYEJAaB5',\n",
       " \"RT @martyncapp26 I can't take that female sky sports commentator seriously, she just said boom. #notsexist\",\n",
       " \"RT @Gyutoki: Oh Katie and Nikki, just because you're both (bottle) blondes that doesn't automatically make you pretty. #MKR #MKR2015\",\n",
       " '@ThcGreenBeast I hope that dumb cunt gets her face beat in by a black woman over hearing her using the word nigga.',\n",
       " 'Disgusting , and bitch you are NO ROCK STAR !! YOU are a no class skank🤡😱🐍🙈🙉🙊👁 https://t.co/aYZB1jMUW2',\n",
       " \"RT @Marshall_SS: Call me sexist but if a song is sung by a girl there is a 94% chance I'm going to hate it.\",\n",
       " 'You can tell bro wishes he can go back in time and wrap that because that bitch butt ugly dead homies https://t.co/NHX1lD9dcp',\n",
       " \"Just a bad artist? @ocaritna Aaand call me sexist, I drew females above their chest, and draw males with their chest showing off. I'm sorry.\",\n",
       " \"@unlimitedclout Brittany is a beautiful woman and not a hee hoe I'm gonna love her forever\",\n",
       " \"RT @MagallonaIan: I'm not politically correct. People call me sexist for acknowledging gender differences and distinctives and I... http://…\",\n",
       " '@ADIC33 Just look at her face..sorry women but look up CUNT and you will see this bitch face. If ever a woman to get punched JS😂😂',\n",
       " 'If you voted yes ya moms a hoe',\n",
       " '@CheyOsrs @equilibriumsoul But then it\\'s a 50/50 between receiving a dick pic or a \"LOL u ugly any bitch fuck u slut\" message',\n",
       " '@MelodyHensley @JeffSharlet @GQMagazine what kind of woman joins the feminazi cause?',\n",
       " \"RT @baum_erik: Lol I'm not surprised these 2 accounts blocked me @femfreq #FemiNazi #Gamergate &amp; @MomsAgainstWWE #ParanoidParent http://t.c…\",\n",
       " 'S8EP12\\n- WHAT THE FUCK BITCH IM CRYING',\n",
       " \"RT @No_Berger Woman's half pipe is hard to watch... I'm not sexist but this is brutal. One finished run in the last 6 athletes #iwanttocry\",\n",
       " 'How much gobshite can that #katesmurthwaite create? Gobby woman, feminazi does she ever come up for air?',\n",
       " 'Men joke about rape: \"It\\'s just a joke! Women have no sense of humor!\" Women joke about consensual sex: \"Women are too raunchy! Not funny!\"',\n",
       " 'RT @EllieBaker92: Answer me this. #feminism #women #lesbian #FeminismIsAwful #gamergate #femfreq #feminazi #sex #equality #men http://t.co/…',\n",
       " '@Gonz2k Shut up Gonz. Fucking whore https://t.co/vfUtQz5DZp',\n",
       " \"@DrPhil you mean she still has morals after what we put her through? Let's rape her, give her herpes and call her a fame whore to everyone!\",\n",
       " \"Women ruin everything. Look at the movie Ted. Everything was fine till That bitch from That 70's Show fucked it all up #WomenSuck\",\n",
       " 'Im not for abusing women but i swear to odin this bitch is about to have a permanant imprint of my fist in her face',\n",
       " '7: because every single fucking woman in Austin, is nothing but a gold-digging bitch.',\n",
       " \"Fuck off forever, dickweed. @RedDogRoberts: @LtotheEWIS women can't park. #notsexist #fact\",\n",
       " '@roseisagee Girl people really do that, like damn bitch you so selfish you don’t wanna rt me and get me clout',\n",
       " '.@NatalieTudor Agreed. I just hate that society is so economically illiterate they blame sexism rather than capitalism for those questions.',\n",
       " 'For example, \"How you ain\\'t gon fuck?! Bitch I\\'m me!\" is certainly my favorite opening lines from Ludacris.',\n",
       " '@SkyNews She’s actually a clown! They should sue her for being a fucking dumb cunt and falling down the hole nearly squashing the winners 😂',\n",
       " '@FlamingBot WHAT YOU SAY BITCH NIGGA HOE?',\n",
       " 'Yes, you put in the wrong way. Cue dumb blonde jokes. #MKR',\n",
       " \"RT @AndiSaputro: Not sexist but I'm glad there'll be a female driver on F1. Just imagine we can finally see some great accidents thanks for…\",\n",
       " 'That blonde chick from #mkr is wearing my hot pink #becandbridge dress!! Lol',\n",
       " 'Butt ugly looking whatever she is https://t.co/a6Z4nVTxHL',\n",
       " 'LMAO you stupid fucking bitch talking shit about me when you got a 4 year degree to work at the same job as me while I make more FUNNY',\n",
       " '#MKR \"If I could score them a zero then I would because I\\'m a super slut\". #cheats #irritate #ratingsbonanza #uglycow http://t.co/vJv8DCRqcQ',\n",
       " \"RT @bdv1968: I'll say it if no one else will......that Kat needs serious medication #MKR #MKR2015\",\n",
       " 'RT @Jord_Is_Dead: @YesYoureSexist @PurpleKissCo many of the #YesAllWomen tweets are degrading men, I support the campaign but many women ca…',\n",
       " 'RT @Hannibal_Luther: @devonbarr every guy knows that the only thing that will make a woman happy is making any man a sandwich #notsexist',\n",
       " '@godlyxeli you’re: that bitch',\n",
       " \"If you compare being #feminist with the holocaust, I'm proud of saying that I'm a fucking feminazi\",\n",
       " '@sinner_b @baeoflight @Henjam48 RIDICULOUS CUNT ! WOMEN DO IT IN AND OUT OF MARRIAGES THE WEAK BITCHES. WHAT DO U C… https://t.co/dAxB0DP43g',\n",
       " \"KALAGOT LAGE!!! CANT YOU FUCKING WAIT FOR AC'S UPDATE? FYT ME SKANK https://t.co/anfzn9vfX5\",\n",
       " \"http://t.co/5a8IkXqSIx @anandkothekar #ArnabGoswami is a woman. Just can't stop talking. #NotSexist\",\n",
       " \"Dumb blondes with pretty faces? You're definitely right on one of those statements... Guess which one...  #MKR\",\n",
       " \"RT @CWortho: Some woman was proper staring at me whilst I was parking my car. It's ok babe, I male therefore I CAN drive. #NotSexist #Truth…\",\n",
       " \"RT @JakeyDayy: I'm not sexist, and I honestly do feel bad, but I just read through and laughed at 97% of @TooSexist's jokes. #itsjustajoke\",\n",
       " 'Bitch you stupid but you aint stupid stupid 😂😂😂 https://t.co/6VUtod81wI',\n",
       " 'RT @johnnycashman8 If i let a girl drive my car it means something. #notsexist #justscience',\n",
       " \"I have some news for you. @BDJ_Mauri I'm not sexist but sexist jokes are the funniest jokes out there... in my opinion\",\n",
       " \"At least we know they're natural blondes #mkr\",\n",
       " \"RT @BastendorfGames: @YesYoureSexist No, I'm not, you cock sucking twink.\",\n",
       " 'RT @mcRelyt: #FeministsAreUgly http://t.co/OqRhk26Rrf',\n",
       " 'RT @JustLaurenB: #IDontNeedFeminism http://t.co/euBRYUJlUW',\n",
       " 'That reign bitch is hot as fuck, why am I being attacked by beautiful women https://t.co/qbSQB8dKnx',\n",
       " '@JayteKz Tekashi a whole bitch lol fuck that nigga he stole a whole other niggas song and rapes little girls',\n",
       " \"@peeezP says the bitch that won't stop saying it. stfu hoe\",\n",
       " '#mkr was not a fan of the promo girls, but Kat is worse !',\n",
       " '@landsharrk cuz girls are stupid and pick assholes. Meanwhile they friend zone the good ones',\n",
       " 'RT @ReligionChoice: Please invade my pole land\\n\\nRT @ProWomanChoice: This makes me laugh. #feminazi #feminism #YesALLWomen #fem2 #p2 http://…',\n",
       " \"Hoes ain't shit I'll die happy lonely..... Kuz I'll be damn if I trust another bitch who don't make her own money.......\",\n",
       " \"RT @jeffhumps: A woman doing college play-by-play just sounds wrong. I'm not sexist, but seriously get back in the kitchen.\",\n",
       " 'Domestic abuse is never okay.... Unless your wife is a bitch #WomenSuck',\n",
       " '\"Women\\'s bathrooms are so much worse than men\\'s.\"  Everyone agrees. #fuckthanksgiving',\n",
       " \"RT @MrWolfeee: Can't stand female announcers doing play by play for football. Not sexist but every time I hear Holly Rowe doing a game I ca…\",\n",
       " 'If You Wanna Be Stupid Over Some Dick Do Your Thang Sus 🤣🤷🏽\\u200d♀️ Im Jus Not Gone Fwu Nomore 🗣✅💯',\n",
       " 'RT @brotheryellow: but a girl doesnt run as fast as a boy #LikeAGirl so focus on what she can do. like get pregnant and glorify motherhood …',\n",
       " 'RT @johnrbubba: I am not sexist, but I have yet to hear one good woman play by play announcer.',\n",
       " 'RT @GRIMACHU: @coathangerproj This happens to men all the time. Men have no reproductive rights whatsoever. #Questionsformen',\n",
       " \"You right about that! So I'm going to learn from you and treat women the right way! I don't wanna be a male whore… https://t.co/KDPHLbOdh5\",\n",
       " \"@ibthatdood It's the nature of women to want to be guided by a strong man. Hysterical go -girl feminist types are fi… https://t.co/mpxW7kyBp1\",\n",
       " '@qurbanov_zaur sup bitch yo be fuxking care ful i find out ur touching my man. ima find you. be scared whore be fuxking scared.',\n",
       " \"RT @spencerb14: I'm not sexist or anything but the idea of a female Captain Marvel irks me, stick with the original. Same goes with the fem…\",\n",
       " '@Dr_SueeZ Alright dyke😭',\n",
       " \"RT @LoloKurth: I'm talking football with a girl, this is weird. #sorry #notsexist\",\n",
       " 'RT @whyisitdirty: If feminists addressed the rampant sexism and misandry in #feminism, then perhaps #WomenAgainstFeminism and #antifeminism…',\n",
       " \"Shut the fuck upYou idiots wonder why people call you entitled misogynistic assholesYou're literally pinning all the blame of a female character not having huge titties on one woman. Do you read what you post? This is a game made by hundreds, and you choose one woman to blame\",\n",
       " 'Who told these fucking girls they were hot #mkr #cuntofahead',\n",
       " '@BBCNews #InternationalWomensDay #feminazi #jessicasilva #auspol',\n",
       " '@forevercellular yeah the stupid bitch',\n",
       " 'RT @Burning4Buddy: @YodaSG1 @eCSVA Sorry you need to add 200 lbs of fat for the Western feminazi',\n",
       " '@EbersohlMyra @Lolomonet @mandee_boo @_morganmariaa Bitch you look like a dog',\n",
       " 'What a glorious cunt you have. Too bad youre a basic bitch. Always were always will be. Stay mad. Hoe. #Imtalkingaboutadude 😂😂😂',\n",
       " \"@ShariaQueen @Twitter @metpoliceuk Bitch please. I bet the cunts won't even bother.\",\n",
       " \"fuck cunts tellin ppl w strtched ears that theyll 'learn from their mistakes' BITCH IT AINT A MISTAKE IF THEY FEEL BEAUTIFUL DOING IT FUCKU\",\n",
       " 'for them niggas who think im pussy gon and show me hoe',\n",
       " '@Tbagshitpants Uhhhhhh, that’s stupid LITTLE bitch, ma’am 😉',\n",
       " 'Darla you trifling skank! #QueenSugar',\n",
       " 'Stupid fucking cunt, what you dont like me so youre gonna speed through a stopped bus to what? Try & run me & my 4 year old down? Wanna act like a tough ass, come do it to my face. Dont put my kids safety at risk cause youre a stupid bitch.',\n",
       " \".@knux1995 Close up shop.  #Feminism is just a roadblock in #egalitarianism's way at this point.  #Equality must be equal.  Not gynocentric.\",\n",
       " \"LOLOLOL @manorwood97 @karlmalonee @karlmalonee I'm not sexist but it's always the females that expect you to read their minds Lolol\",\n",
       " \"RT @Alexsim23: Why are the women's events always on after the men's? It can only ever be disappointing in comparison. #notsexist #commonsen…\",\n",
       " \"@women_trumpton Go fuck yourself Feminazi. Hope you and @WomenDefyUKIP both get raped by your precious Muslim rape gangs and Saville's ghost\",\n",
       " '..that makes me a man-hating feminazi! So now, I\\'m just like: \"Fuck it. Might as well hang for sheep than a lamb\" http://t.co/ur3dElufWJ',\n",
       " 'Being rude to you. Call u slut or bitch or everything related. U rasa putus tunang is the best way ke?',\n",
       " 'RT @Emoroffle: @freebsdgirl Gotta love that \"We determine the good feminists, and it\\'s men\" mentality that GG has. Zero self-awareness.',\n",
       " 'Just want to slap the stupid out of these bimbos!!! #mkr',\n",
       " '@IATL2Q__ IM glad I\\'m a \"feminazi\" unlike you who thinks disrespecting women is okay',\n",
       " 'Hyolyn fue una bully. Get that fucking bitch outta here',\n",
       " 'RT @tweek75: BTW, using terms like #feminazi and #libtard are good ways to make yourself look like an ignorant buffoon, @xkit. @LTock',\n",
       " 'Seriously, who the fuck are  half of these ppl #MKR',\n",
       " '@pettylo_hoe BITCH TEXT ME',\n",
       " 'Bitches always tryna hide their ugly with big ass sunglasses',\n",
       " '“wow your family is so cool on both sides youre such a fucking BITCH”',\n",
       " 'Love is a fucking bitch',\n",
       " '@callmemrcarter: I hope Kat gets Ebola and then hit by a train followed by a smack in the ugly face with a shovel #mkr #katandandre #mkrkat',\n",
       " \"RT @leftydammit: I'm not sexist or anything, but I want to take a brick and break every tooth in this girl's mouth, for some reason https:/…\",\n",
       " 'Why Would You Do This To My Young Fairly Innocent Heart You Fucking Hoe Bitch.',\n",
       " 'RT @davidalice Why are LA women so bitchy? #notsexist',\n",
       " '@xxxfurrygirl @AlwaysBeAPet101 I love playing with your ass will you rid my cock and I eat you out https://t.co/PyN97M8v37',\n",
       " \"RT @A1_WithMines I'm no sexist, but ion know how I'd react if my son came down the stairs in heels... Prolly throw a football at his head\",\n",
       " '@JohnBrennan An angry dyke hating her country is not what I’d call USA representation.',\n",
       " 'RT @dilettante: #stopwadhwa2015\\nkind of still can\\'t believe that Wadhwa \"I\\'ve done more for women in tech tan women in tech\" got a story a…',\n",
       " \"If I was crazy, why this bitch respond? So there's Russians down the street from my home.\",\n",
       " 'My bitch so bad that I don’t even go to sleep!! Pussy so good it make you wanna buy a ring #Guwop',\n",
       " \"RT @rubium: @Scashriel The Para's here are the elite of the British Army! Most applicants fail P company! I'm not sexist but women will nev…\",\n",
       " 'RT @Scouse_ma: 😂😂😂 https://t.co/ueBm0enQzH',\n",
       " 'RT @jimboslice_13: @YesYoureSexist you insinuated twitter raping me yesterday. Also saying only women get raped, that is sexist. Little bes…',\n",
       " 'Ima end up fighting this bitch fr !! You getting on my nerves lil hoe !!',\n",
       " \"WHO'S THE WHORE NOW YOU PIECE OF SHIT\",\n",
       " \"RT @MrMySoggyKnees: #Sorryitsaboy Salon feminist tactic... claim your oppression is worse than the group you're oppressing, so its ok.  htt…\",\n",
       " '@ekhatami Die in a fire you fucking skank.',\n",
       " \"@secretstranger9 @dyro874 That's a butt-ugly woman, and I mean that in the nicest possible way Ma'am.       🤢\",\n",
       " 'RT @amandapalmer: cartoonist @KivaBay is kickstarting a feminist deck ... http://t.co/cRqcBFoXyy',\n",
       " 'Women are bitches. 1 time, this bitch in BAL asked me to fill in on higher bracket tennis league...I did & won, but hadn\\'t \"registered\" ...',\n",
       " \"Especially old women who can't shut their pie hole.\",\n",
       " '@TODAYshow @benshapiro @megynkelly Many women aren’t innocent! Megyn is an attention whore who lies to keep herself relevant.',\n",
       " 'hes a try hard cunt who needs to stay away from women as much as possible https://t.co/thpWc7Trti',\n",
       " 'RT @Oh_tobs: If there was a god she would have fallen off #MKR',\n",
       " \"RT @sara771987: @ReneeRox74 @MT8_9 I know right? Can't believe he's so mad at women who belittle men and have to ability to imprison them w…\",\n",
       " 'Steven Crowder OBLITERATES ‘gender gap’ myth with simple economics - VIDEO: http://t.co/O10yzjKG1Q @scrowder #Feminism #EqualPay #Feminazi',\n",
       " \"RT @EmmaKallenbach_: @HarryFremantle @TheJordanDenton it's true, women's sport is awful, it lacks so much quality... I'd rather watch men's…\",\n",
       " '\"Because they want to be a mother and maid to some loser\" @ThoughtCatalog 7 Reasons Girls Should Date A Nice Guy http://t.co/p2t9aLs5YX',\n",
       " 'PREYING ON WOMEN IS A BITCH TENDENCY ‼️🗣',\n",
       " \"I'd like to claim 'not all men,' but I too have been a misogynistic & sexist ass to women who have been & remain my friends. I repent.\",\n",
       " '@DDUB789 That bitch is giving me the fuck u I just filled ur glass....Simone is getting 24% instead of 25....thats right whore Im talking to YOU. Oh no, thank you just the bill it was good. (It really fucking wasnt)',\n",
       " \"Also. Some of you Latina women and your white people racism can also eat a giant dick. Cuz they don't like your ass either. 👏🏾\",\n",
       " \"I'm surprised my ex-girlfriend isn't on Shark Week.... She was a vicious bitch! #WomenSuck\",\n",
       " 'LSKSLSLSLS THIS BITCH REALLY DID THAT EYE— https://t.co/sglHXfpV9M',\n",
       " 'How can a bitch fuck with a man who has a girlfriend .. A PREGNANT GIRLFRIEND LMAO fucking hoes',\n",
       " 'Please tell me why the bitch next to me in the piercing line is so judgmental about everyone she fucking sees. SHUT THE FUCK UP.',\n",
       " \"If you're a #Masochist #StayAndEndure #Feminazi #Fags #Pigs &amp; #Paedophiles, whilst #Jewfs #Genocide you http://t.co/bbVLXjmyGE\",\n",
       " 'She’s not only a bitch but she’s also a whore. She’s always touching her friends boobs too which is gross',\n",
       " '@KoltenAdermann You are not giving me strikes you fucking whore',\n",
       " '\"@ErikssonMalin85: Have you ever been threatened with rape by a woman? #QuestionsForMen\"  Yes.  Many times, but ONLY by feminist women.',\n",
       " \"RT @AnthonySammarco: @YesYoureSexist @JakeDandrea_ Y'all can exit this conversation because nobody likes a feminist you piss everybody off,…\",\n",
       " \"Yeah nothing to do with growing up being told as such @liamkiniery Men's MMA is far better than women MMA #notsexist #justbiology\",\n",
       " \"RT @AriaAkariCo: @YesYoureSexist @IWUWildcat85 nice meme you fag, it's part of mythology and making a female Thor is an retarded try to car…\",\n",
       " \"' teaching women how to wear modest clothes and looking unattractive will reduce rape' WHAAAAAT? https://t.co/BsZO42LzqA\",\n",
       " '@natashavc another stupid liberal feminazi journalist....with a grudge on her man like shoulders',\n",
       " 'Alexander Dullinger Burggrub 53 91332 Heiligenstadt Exposed Gay German Sissy Faggot Whore Hure Nutte - Home https://t.co/p0kq84pexo Gay Slut',\n",
       " '@grxmd I dont think this fat whore could even get sex from rape.',\n",
       " \"#IMayBeAThiefBut but I'm not a mean girl. OK I was once, but is calling my bestie a cunt and a whore so bad? Oh, an… https://t.co/vsyVbszlj4\",\n",
       " 'My irls know I’m a whore now oops',\n",
       " 'Kat is actually a bitch, but I had to laugh at her response.  #MKR',\n",
       " \"Bitch are you fucking kidding me??? So if women get hit by their husbands its cuz they're hitam?? Not bc he's an abusive asshole?? 😒😒 https://t.co/afVBebxRVo\",\n",
       " 'Dont compare your self to me ! Cause im a bitch and your a slut ! 👊💪😏🌵',\n",
       " 'RT @GoJonnyBananas I hate tweeting this but, the blonde girl on the British curling team has extraordinary eyes #notsexist #justsaying',\n",
       " 'Overheard: Feminazis be like... - Me: plays shut up and dance for me. Feminazi: were not holding back its... http://t.co/9SyS2m1jn4',\n",
       " 'Not all men are misogynists and not all women are feminists. Being vociferous alone cannot equate a woman to be a feminist.',\n",
       " '@jezzellll then why tho?? u damn stupid hoe 😂',\n",
       " \"Oooohhhh bitch didn't even listen to the dead kennedys what a cunt lol I'm 34 and hate rap\",\n",
       " 'RT @RognarB: #BlameOneNotAll seems like another instance where 1st world women gets to wag their fingers because someone else spoke in the …',\n",
       " '@BB_Updates Okay come on do these other house guest not see how obsessed this bitch of a wanna be man he is about Kimmi I mean shit come on.',\n",
       " '@imogenhowson LOL, you do dress like a slut :-) you look excellent.It entertains me that you have the slutty dressing covered while I do the slutty acting',\n",
       " '@realDonaldTrump Dont you mean killing Americans. You lowlife piece of garbage i hope you rot in hell you son of a bitch',\n",
       " \"@JenAshleyWright men are so stupid they can't tell the difference between a wink and rape!\",\n",
       " '@onnyssaaa well stfu then BITCH you coming to some yeen got NO BUSINESS being in. You need to mind the business that pays you hoe',\n",
       " \"RT @RykerDomz When a woman gets in a wreck I'm not surprised. #notsexist\",\n",
       " 'What a stupid cunt https://t.co/Wv1rVaId2D',\n",
       " \"Alyssa Milano, a brainless whore l, isn't empower women in any way. Women in science mathematics engineering and medicine are actually .\",\n",
       " '#polialbertoisla @maria_patino #feminazi detected.',\n",
       " 'if ur ugly -@ing women who interacted with kriss before this u deserve to have ur GI tract rammed through with a hot iron stake u smug bitch',\n",
       " \"#MKR. Look at Kat's face. It looks like she's just been told Andre's been banging the promo girls\",\n",
       " 'Package Thief Slips And Breaks Her Leg - Instant justice via @YouTube Stupid fucking bitch. Deserved every bit of that. Cunt. LOLOL',\n",
       " '@JulianAssange @anna12061 Your a no nothing woman hating cunt Reliving you sad little hatred of your unloving mothe… https://t.co/1GwVHd3PG9',\n",
       " 'MOTHERFUCKING PERIOD BITCH!!! EXCLAMATION POINT BITCH!!!! https://t.co/4amLpjg4IA',\n",
       " 'I wanna see this bitch faint, hurry up https://t.co/aPvRh87Ppd',\n",
       " 'Somehow, I doubt it. @sellis94 More people would be satisfied with me as president than a women #notsexist #NeverYield',\n",
       " \"@awzurcher Women don't WANT to be sacred. That is some patriarchal controlling virgin/whore bullshit.\",\n",
       " 'loved her anyway and now she just a hoe. I love when they acting hard but pussy on the low.',\n",
       " \"RT @maxcaras: @YesYoureSexist @BastendorfGames that's dumb. there's nothing wrong with satire and sexist jokes.\",\n",
       " 'Mom: \"Feminazi???? Who uses that term??\"\\nMe: \"Straight white boys who don\\'t know what feminism is\"\\n\\nI almost said fuckboys',\n",
       " 'After calling me a bitch I didn’t think much of it but now that your bothering people that I truly love and care for you’re gon get a fucking bitch',\n",
       " 'Im sorry, but this generation of females have no self respect. The internet shouldnt know when youre horny, wet, how good you pussy is & etc. & Yall wonder why these boys treat yall like hoes ! Praying for this generation',\n",
       " 'typical u find a nice woman and some dumb cunt tells her u will get more tips if u turn greys off',\n",
       " 'This bitch scrolled through my shit gave me 1 like lol petty ass hoes',\n",
       " '@Pontifex go rape a dog you fucking cunt',\n",
       " \"This kid too much of a bitch even do shit on his own He's gotta get some stupid ass whores to do his shit for him\",\n",
       " 'Girls hear you say “fuckk” during sex and think her pussy bomb First of all hoe my Girlfriend on her way',\n",
       " 'Your skank ass disgusts me so much',\n",
       " 'A guy in my jr high called me a slut, bitch and whore bc i didnt like him 🙃 thus began relentless bullying by my pe… https://t.co/KXnRi2w9PN',\n",
       " \"@ravenswng_ @JohnFugelsang Wow for real? You are a clueless, insensitive ass. We know it's not ALL men you jerk. We… https://t.co/9ooTxssP5I\",\n",
       " \"These chicks promo in porn. 'Fat girls need fucking too'. #MKR\",\n",
       " \"What the hell is this recurring weirdness @janicewidit I swear I'm not sexist but female chipotle employees can't roll burritos for shiizzzz\",\n",
       " 'Tattooed Str8 latino fucking hardcore faggot bitch\\xa0boy https://t.co/XyjRB8gLkE',\n",
       " '@Spacekatgal I\\'d say this is accurate of the feminazi girl \"gamurz\".',\n",
       " \"When you're both a couple of filthy whores https://t.co/MgCHRRKHVq\",\n",
       " '🤤I need a bitch thats gon pay all my bills I don’t like broke women 🤢🚮😷🚮🤧',\n",
       " \"'Come up here and say somethin now you broke, beggin, fingers in the booty ass bitch' https://t.co/2T1Ub2dS8F\",\n",
       " 'If ya bitch ass didn’t wish me a happy Birthday then don’t ever hit me up again! You’re trash! Yes I am talking about you hoe! 👏🏼',\n",
       " '@Kmskimm @kenziisgay fag idiot cunt loser egirl slut cumholder',\n",
       " \"But anyway my point is - men don't lose sleep wishing they were Nicer like other men are. Women do. Try not to, I'm not saying be a cunt\",\n",
       " \"What's worse than a girl who gives rough handjobs? A feminist.\",\n",
       " 'I cant fucking believe yall call this rape bitch wtf',\n",
       " '@VICE_Video An absolute disgraceful woman how could you show such a cunt...',\n",
       " 'Redhead girls are hot! But Ginger girls are USUALY fugly',\n",
       " '@Brianwest1West @theNataliaSTARR @JillKassidyy Every woman deserves a BIG DICK!',\n",
       " '@ziadwaeladawy Now people want to attack eminem because hes older and they think hes garbage. People have the balls to talk shit now because they think revival is weak and whack but BOYY! Why didnt you pussy fucks respond back then? Scared to get bodied?',\n",
       " '“What’s wrong you pathetic little slut, can’t take much of daddy’s cock like you thought you did? Can you?”',\n",
       " '@ccalii__ Facts! like bitch stfu & sit in the corner hoe. Catch a fit in the corner, facing the wall',\n",
       " \"I dislike Kat more than the blondes who are going to tell us they're hot another 50,000 times #MKR #notaustraliasnexttopmodel\",\n",
       " 'As much as I was looking forward to the girls getting their comeuppance, I absolutely hate Kat &amp; Andre.. Bloody ridiculous scoring #mkr',\n",
       " 'RT @Alma_NoSoul: No,i am not a feminist..i am a feminazi *throws tampon shaped grenade*',\n",
       " 'Kate you stupid woman!  #mkr',\n",
       " \"RT @wordspinster: #blameonenotall is an odd concept. Sure, not all men abuse women. But are we rewarding people for what's surely just #eve…\",\n",
       " 'Men really don’t care being called a hoe or whore . Shit don’t bother us',\n",
       " 'RT @p4ndiamond: i love equal rights, fuck men , i love men , men are rapists ,not all men i care about MGM , LOL HIS DICK GOT CUT OFF #Twee…',\n",
       " '@BaIerionReborn i literally explained it in the simplest terms what more do you fucking want from me? you’re a stupid fucking bitch and i can’t fix that. opinions are fucking opinions https://t.co/myfK7IOQLE',\n",
       " \"RT @A_Truth94 Call me sexist I don't care but a Pakistani girl should know how to make Roti\",\n",
       " \"BITCH KIM WOOJIN'S VOCALS ARE NO JOKE AMEN\",\n",
       " \"It's not rape if women are considered objects! You can't rape an object! Islam is completely anti rape! https://t.co/q4A9l0vWWC\",\n",
       " '@AnnCoulter Booker is the more hysterical woman, while Harris is just a common slut.',\n",
       " '@squirrelknutz @christinasnp Probably all a FEMINAZI PLOT ;)',\n",
       " '@TomiLahren Were out in huge numbers and I can say thank you to this skank and who she represents. I wasnt involved until I saw this illiterate hooker and her pimp try to influence others. No ones walking away republican barbie. But those anal warts wont',\n",
       " '@Langdoggydog Yeah how is a game where a woman fights by becoming progressively naked sexist! OUTRAGE!',\n",
       " \"@RawStory Hey guys... maybe it is okay to wink at a woman if you don't attempt to rape her? Don't gimme that where do I draw the line crap.\",\n",
       " \"I love my religious brothers and sisters, but @realDonaldTrump, FUCK YOU, YOU'RE NOT EVEN A REAL THEOCRAT YOU FAT USLESS BITCH.\",\n",
       " \"The bitch done had a baby shower in McDonald's 🤦🤦.. loud forgive the lil whores u made .\",\n",
       " \".@feministlah @GreenWeiner I never said men didn't have privileges or that women didn't face biases, but its more 50/50 than one way street.\",\n",
       " \"I know why men spout #NotAllMen. It erases their individuality. Suck it up boys. You've been denying women their individuality for ever.\",\n",
       " 'shes a fucking bitch and has a drinking problem but that pussy good',\n",
       " \"@JessicaValenti oh really?! how do you explain @BillCosby then, considering it wasn't even rape and even white supremacist forums admitted he got fucked?! Love how you feminists won't ever zero in on white men! asian, indian, mid eastern, latino and most of all black men don't get away with shit\",\n",
       " 'RT @SF_XVII I tend to think an rsx is a chick car though lol #notsexist',\n",
       " \"NO. NO NO NO NO NO NO NO. GET KAT AND HER STUPID CAT'S BUM MOUTH OFF MY TELEVISION. #mkr\",\n",
       " \"@family__jules You're a vapid whore &; one day you'll be ugly and begging for dick scraps\",\n",
       " 'OK @middle_Borman When I watch espn, I want some guys, not women, telling me the latest news and showing highlights. Call me sexist I guess!',\n",
       " 'Whut @RebeL_BLacC Btw Im no Sexist, I jus mean same woman barking in da office, is same one kneeling or submitting in da bedroom..!',\n",
       " '@lNDlEROCK No true feminist... http://t.co/RNU2MPjhjh',\n",
       " \"RT @nicolesantucci: That should wipe the smug smile off you're face Kat #rudebiatch #mkr\",\n",
       " 'When did #Kat become #MrBurns??? #evil #mkr #shameonyou',\n",
       " '@rayraynxtdoor A woman saying cunt is the equivalent of a black person saying nigger. They can say it but woe to so… https://t.co/rnG0KG5Utd',\n",
       " '#mkr The only thing these promo girls are going be able to sell after this episode will be black hair dye #painfulmorons not #killerblondes',\n",
       " 'When the pussy stank but she looks so good you gotta finish https://t.co/6bjfQjt9ia',\n",
       " '- A Misogynist @parody_guy A woman wants her man to treat her like a princess to the world and fuck her like a whore. - Someone',\n",
       " 'Not \"one bit,\" eh? @rpickett52 I\\'m not sexist one bit but a girl should not be playing football. End of story',\n",
       " \"RT @PierreSoDope Girls should be dressing as women for halloween because most of the year y'all been dressing like hoes\",\n",
       " 'From why did i shag at fucking whore at kid is a mistake en the mis stake its self obviously we burnt a few innocent women thank them whores',\n",
       " 'RT @grexican: @roseveleth OH NO! Heaven forbid a man finds a woman visually appealing! THE HORROR! Grow up. #notsexist #freespeech #science…',\n",
       " \"@Ventos234 because I'm single, therefore I am a sexist pig, by feminazi standards. :^)\",\n",
       " \"RT @A24Brett I'm not sexist but diva matches annoy me. And tag team diva matches...\",\n",
       " 'nope. http://t.co/5a8IkX8Jup @nzzml @amirashaa #fact women talk 3 times more than men #NotSexist',\n",
       " 'Ima make her h20, out her pussy hole',\n",
       " \"No that little tattoo of a flower on your ankle doesn't make you a whore... Or your trampstamp... Fuck it, YOU'RE A WHORE #WomenSuck\",\n",
       " \"@She_TheWolf @brotheryellow Men are.  Women cannot be.  Feminism says that's equal enough.\",\n",
       " \"Nikki looks like the kind of girl who would ask if there's anything cheaper than a $4 skittle bomb #MKR #MKR2015\",\n",
       " '@realDonaldTrump STFU!!! Precious, nobody GAF about anything u complaining for god sake, get a life. I sure miss any or all past presidents at leats they knew how to be real men and not complaint all day long like menopausal women #hotflashtrump',\n",
       " \"Wow they said people would be outraged but I'm so happy those blonde girls are going home. #mkr\",\n",
       " 'DRUDGE_REPORT: British actress becomes fifth woman to accuse of rape... https://t.co/tCErO1gyw0 #ycot #tcot #pjnet #conservative',\n",
       " '@JessicaValenti No, it’s white privilege youths thatwill get away with this shit. A minority kid does this and he is fucked for life, no if’s ands or buts.',\n",
       " \"@BoardGameBrawl These people are hysterical. It's like a commercial for why men should never marry. These women are totally nuts.\",\n",
       " 'Pro Tip- Always call skinny girls fat, they live that shit 🌚',\n",
       " \"&amp; blondes scored fairly “@K8ie_Mac: Devastated that Kat is still there, wasn't the biggest fan of blondes but liked them more than Kat #MKR”\",\n",
       " \"RT @averagemeninist: Sorry feminazi but I'm a fuckMAN OK?\",\n",
       " \"I don't have time for you whores bitch can't you tell? I only spend time with money & that's because she pays me well\",\n",
       " 'RT @souperfan2012: Hollywoods newest Feminazi movie remake will be titled \"Ben Her\".~Me',\n",
       " 'lolololololol RT @tysonpickler: @annmariebrok Stop spreading feminazi lies http://t.co/20rlV7fG4L',\n",
       " '@DanRiehl I think her and Warren sound like bitter old feminazi skanks and would not come off as pleasant or motherly like they think',\n",
       " \"RT @Bene_TheJet It still bothers me that Cammi Granato got in the hall of fame before Adam Oates. I'm not sexist but really?\",\n",
       " '@kerpen @33jpj ...and Hillary pro-rapist.',\n",
       " \"@artbychristinem @AnnCoulter Hysterical woman does in both cases. I don't think Booker would mind given his proclivity for deliberate histrionics.\",\n",
       " 'There are good men out there women stop accepting ass holes that appear to be right.It is a excuse to turn lesbian cuz of a no good man.',\n",
       " 'RT @LeviathanPride I can always tell if a girls tits are fake by how loud she screams when I bite her nipples off.',\n",
       " 'bitch stfu w the twitter fingers & step to me in real life hoe',\n",
       " 'this bitch always rude on this tv show  https://t.co/L3fUhtJs0r',\n",
       " \"@shelbylynne74 @MechaSauce You just said men don't need equality.\",\n",
       " 'DYKE DYKE DYKE DYKE DYKE  https://t.co/WMu27h6VGR',\n",
       " '@SumbelinaZ @IronmanL1 @Hatewatch Sorry bitch, you did your research in your own asshole.',\n",
       " \"If you havent hired a man over a woman in the workplace due to SMARTNESS I don't want to even KNOW you. Men are SMARTER it's a FACT. #menS;;\",\n",
       " 'Apparently you are not following the many misogynists I RT @Ben_Humes Why is everything for girls or related to girls on Twitter? #NotSexist',\n",
       " 'Kat is a nasty piece of work tbh #MKR',\n",
       " \"Katie and Nikki... Who's been feeding your egos?? You're really not great looking #MKR #MKR2015\",\n",
       " '@Kristinaa_Egger Kat just got what she deserved #whack #mkr',\n",
       " '@PyrocynicalVEVO Upload you skank',\n",
       " 'STOP SAYING SASS OR I WILL PUT MY FOOT UP YOUR ASS #MKR',\n",
       " \"@realDonaldTrump Utter cunt. I've managed to work for more than 30 years and avoid grabbing women by the pussy.\",\n",
       " 'Why #WomenBoycottTwitter? because you act like Ms. Whore.',\n",
       " 'why whore when you could cookie?',\n",
       " '“ you so mean “ bitch idgaf!',\n",
       " 'iF yOUr PuSSy sO gOoD wHY yOu NoT pREgNAnT because i killed it stfu hoe',\n",
       " 'The term \"feminazi\" is actually really insulting lol',\n",
       " '\"@botticellicream: I\\'m curvy. The kind men fap over, not the type of curvy feminists want you to think men fap over\" http://t.co/LrGri79gqo',\n",
       " 'Kat is an awful human being! #mkr',\n",
       " \"RT @DamianFeria1: @BasedxDom oh my phone followed you :(( God damn. Pls no feminazi posts. You're so great besides that lol\",\n",
       " 'Also - Kat is a completely rank cow but by God Annie is annoying... #mkr',\n",
       " 'Terrible cunt sticking up for tory sex pests she has no shame lower than a snakes belly vermin woman #marr',\n",
       " '.@GRIMACHU Sounds a bit too much like \"separate but equal\". It\\'s sexism, bias, bigotry, you name it. @MoJGovUK is clearly infested w bigots.',\n",
       " 'Arghhhhh I want to kick in the television set right now, Kat you despicable rat #MKR',\n",
       " '...she understan- FUCKING WHORE! alexa volume 12- volUME 69 ALEXA! aleXA PLAY MUSI- no that won’t work, alexa you SLUT PLAY ME DAVE MATH- ALEXA”',\n",
       " \"@sevans623 @coolmesser @pattonoswalt Women are all harassed? And it's also all men unless we prove other wise? You're a clueless cunt👍\",\n",
       " 'RT @FederalTyranny: Sexist Femi Nazi Aborts Male Baby\\nhttp://t.co/KK5Z1SKl2c\\n\\n#FemiNAZI\\n\\n-------&gt; #LifeBeginsAtConception\\n\\n#StopTheSlaughter',\n",
       " 'Feminazi (?)',\n",
       " 'I refuse to be a stuck up, judgmental, hypocritical, boring, non progressive cunt, just to put other women streamers down',\n",
       " \"RT @Scouse_ma: RT if you're a cunt\",\n",
       " '@dimebag1969 @HillaryClinton This is no costume party pic, just the slut bitch doing a nude lesbian photo.',\n",
       " \"Maybe most women generally get along with each other really well because we don't have to deal with weird ass bitch… https://t.co/uyoCWMgGrV\",\n",
       " 'I dont see why some people get so offended by what i say. its not like im making this shit up, women really do suck.',\n",
       " 'Me trying to flirt- Hey cum dumpster, wanna fuck?',\n",
       " 'RT @ashleylynch: #HowToSpotAFeminist rubbing Call of Duty discs on her vagina to change the content to lesbians firing kittens into the arm…',\n",
       " 'Not sure how the women can fall in love on #DoubleShotOfLove when one of the guys looks like a human camel toe.',\n",
       " \"Y'all made one point more... Calm your tits #MKR\",\n",
       " 'I woke up to the most hysterical message. “Wtf is @yasminvaaa in jail?” 😂😂😂 Nooo! You dumb bitch she’s in boot camp.',\n",
       " 'jameson a FUCKING BITCH',\n",
       " \"Everyone makes mistakes. But only women don't admit theirs #WomenSuck\",\n",
       " '@DonaldJTrumpJr @robinlecronesco The reason #HarveyWeinstein had to grope and rape women is because who in their ri… https://t.co/ICOQbEL8hi',\n",
       " \"R u fucking kidding - catwalk - all that's missing is a pole #mkr\",\n",
       " 'RT @FakeToniaTodman: If Kat stays, we can watch her descent into meth induced insanity. #mkr',\n",
       " \"RT @johnpstringer: Not sexist, but really, isn't there a guy who has actually played college or pro ball who can be the reporter other than…\",\n",
       " \"@SassBaller @zenmoimehin @FoxNews You misspelled 'cunt'. Ugly word, for an ugly woman that turns on her fellow woma… https://t.co/GWykH1V10C\",\n",
       " 'My dicks name is Curiosity... Cause it kills the kat',\n",
       " 'wife *visibly depressed*\\nhusband: WELL WHAT THE FUCK BITCH\\n\\nthis book i s2g',\n",
       " '@chrislhayes Bwhaha the news is she’s butt ugly.. wouldn’t touch her with a ten foot pole',\n",
       " \"@celebutaunte Of course, you're gonna delete the tweets and try and prove of no interaction, because you're a bitch made ass female in the body of a obviously, not attractive male.\\n\\nPeople like you are weak and disgusting to the advancement of human sincerity.\",\n",
       " 'This girl is such an attention whore on FB 😩',\n",
       " \"Self-aware sexism = still sexist! Magic! @farinjini @micaleel Pizza for dinner? I'd say you need a wife, but twitter would call me sexist.\",\n",
       " '@thehill This crazy fuck thinks WOMEN are hysterical and driven only by their hormones. Look in the mirror fake -accent loon.',\n",
       " '#didyouknow the male brain is 3.4 times larger than the female brain? #maledominance',\n",
       " 'New ~ https://t.co/HsEqt9GxBg Glorious ebony woman is having fun with a midget’s tiny cunt Daddy luvs THIS',\n",
       " \"@washingtonpost Oh yeah the good ol' Madonna -Whore dichotomy: where only chaste women had value and then only as pr… https://t.co/ZAaKdPtrKH\",\n",
       " \"RT @hadyn1878: Hate girls who think they're really hot because they get with a different person every week, when really it's because they'r…\",\n",
       " 'im single & its staying that way for a long time because I hate all you pussy niggas!',\n",
       " '“Rape by Fraud” Feminazi Strike Again http://t.co/ppcm8jt8cY http://t.co/0Yml1SCMNY',\n",
       " 'I forgot how annoying Drasko is 😡🔫#mkr2015 #mkr',\n",
       " '@OfficMattPenny @IrkMeIngram Ah, I see. Men \"raise their voices.\" Women \"scream.\"',\n",
       " \"I called this guy a motherless bitch child 10 hours ago and he's still in my inbox blasting me. Lmao get over it, cunt. Fucking weak egos.\",\n",
       " '@HugginsDanna White Bitch it’s you I wanna rape and fill with my cum and let you full of my load on the ground my b… https://t.co/oCQejMu4ej',\n",
       " 'Drasco u are not a chef just a wanka! One day your misses will ask her self what the fuck am i doing with this dick? #mkr',\n",
       " '@PauliePatron1 @benshapiro Keep following you bitch wannabe cunt. I am important to you because I am your God. I wi… https://t.co/P4o34jEvNA',\n",
       " 'RT @hsaymssik: Sucks to have the smile wiped off your own face huh Kat? She in a glass house should not throw stones. #mkr  #mkr2015',\n",
       " \"Narcissus was an attention whore, an asshole, a snitch, and just a complete fucking cunt in general. I'm kinda glad he isn't coming back.\",\n",
       " '\"@CarlyandTresne: I still can\\'t believe that Katie and Nikki are out! Seriously... (Oops prob shouldn\\'t say that) #mkr\"  totes awkward lol',\n",
       " 'Feminazi Agenda Forces Innocent Man From College: http://t.co/aXl9Lr25u0 via @YouTube',\n",
       " 'I hate this British woman of letters bitch',\n",
       " \"RT @Coopster04: .@Laurel325 As a mom of daughters, I am asking if you would call them 'sluts, sexretary or FemiNAZI'? Rush does &amp; you pay f…\",\n",
       " '#LateNightThoughts how many Congressman dicks did women suck to finally gain voting rights',\n",
       " '@M_AubScates97 Don’t talk shit on me when everyone calls you a whore too boo❤️',\n",
       " '@amaziah_filani What a fucking cunt I hate seeing kids getting neglected and used as parents experiment. So fucking sad. I tell you if I ever saw this whore Id definitely hurt her.',\n",
       " \"Most young women haven't been raped so you might need to apply a new logic to your theory. Also, you're a cunt 🙃 https://t.co/mxrna7BsyA\",\n",
       " \"@gregersn you're a feminazi!\",\n",
       " \"Never met a dirty mirror selfie I didn't like 📸\\n\\n#saturdaynight #datetoronto #thickthighssavelives #lifehacker https://t.co/TzVvUniKPz\",\n",
       " '@jimmycarr Camel toe on him mind 😱',\n",
       " '@DrMartyFox @FBI This old bitch needs to go out to pasture! Dig a hole too racist',\n",
       " 'Around 70 messages from men &amp; fake accounts honestly 🙄 you are Soooooooooooo boring send nudes,do you like cock, how wet are you 😴#TeenSlut',\n",
       " 'my fucking mom was trying to describe a dude she was trying to set me up with and this bitch goes “he was built like a brick shit-house” LMAOOOO',\n",
       " '@GhostofGigi Are you calling me a Twitter Whore? Kiss indeed..',\n",
       " 'Whatya know, Kat is still a cunt! #MKR',\n",
       " 'Soooo love that Emma made a comment and had a dig at Kats strategic behaviour bout bloody time #mkr',\n",
       " \"I can be a rude cunt sometimes but don't be a bitch about it👍💯 just lax it out and kick back✊💯\",\n",
       " 'Only a hoe would say some stupid shit like that. lol “pull your daddy and make you my stepson” I’ve heard it all now lmao https://t.co/jp7YpVNr9U',\n",
       " \"When you're in love with her and find out she doesn't do anal so you're gonna have to cut her loose https://t.co/IS5fkgJ7is\",\n",
       " '@NiccoMontano @pokipokiabq Relinquish the belt you pussy',\n",
       " 'So a woman shouldn\\'t be questioned if you does a \\'Bobbitt\" on him in his sleep! Women are stupid to let ANY man bea… https://t.co/hv7BcGXVvU',\n",
       " 'sometimes your girlfriend gets kidnapped by a bird and her bitch',\n",
       " \"I prefer to be married and always in between my Wife's legs but if that shit is not panning out I MIGHT AS WELL BEGIN TO TAKE WHAT I CAN GET FORNICATION STYLE WHILE ALWAYS BEING LEFT WITH A BITCHES MIDDLE FINGER IN MY FACE AFTER ACCEPTING MY LOVING? WHAT THE FUCK BITCH? !!!!!!!!!\",\n",
       " '@RaidersGirl20 How is that sexist?',\n",
       " '#kandre are so vile I actually feel sorry for the #killerblondes #mkr',\n",
       " 'RT @Louise_Fio8: Sheri &amp; Emilie are my faves! They seem like such genuine girls #mkr',\n",
       " 'Reagan was the #1 bitch whore of corporate America, next comes.... vote the GOP out. https://t.co/X9l1cuUClG',\n",
       " 'You a pussy bitch watch when I catch you I’m beat tf outta you',\n",
       " 'I was called a whore and slut and accused of doing all kinds of shit when I was definitely a whole virgin.',\n",
       " '@ritacantemail @ZarqaNawaz Liar.  Men and women are segregated in Mosques.',\n",
       " '@MrRichardPowell They are nice. You mean, mean whore',\n",
       " '@falaflames HE ONLY SAID UR NAME U DUMB FUCKING WHORE',\n",
       " '@JaydotCortes Call me old fashioned..call me sexist..but I feel a WOMAN needs to know how to throw down in the kitchen. And a MAN provides.',\n",
       " '@BlackOpal80 ...I learned that doing so made me a \"misogynist\".',\n",
       " 'RT @Crowlberg: Call me sexist but the sound of female hockey fans screeching at the ice from nosebleeds is causing me pain. Id rather hear …',\n",
       " '@jonoread @Davee8989 Fat cunt most likely made the hole lmao',\n",
       " \"So General Kelly thinks women were 'sacred' when he was growing up... classic virgin and whore dichotomy.\",\n",
       " 'Frost is a stupid bitch. @AF1Frost',\n",
       " \"A hit with 5-year-olds @adnan_bahatti55 Don't treat women like an object. It doesn't like it... #JK #NotSexist #SorryNotSorry\",\n",
       " '@SuperheroFeed fuck Feminazi hail feminists',\n",
       " \"@g56yu @PoliticalCynic To what end?  It's a beta cuck in a college rag...\",\n",
       " \"I don't think I've ever seen a cunt smile so smugly! ... #cuntandandre #mkr\",\n",
       " 'I wanna give a bitch my heart but i can’t though, can’t fall in love with a stank hoe',\n",
       " 'U mean like this 1? @S_R_Fernando Good luck buying a razor sharp enough to shave your hirsute fanny, armpits and legs #trademarkfeminist',\n",
       " \"RT @Willy_Goncalves I'm not sexist in any way, shape or form but the female presenters on sky sports news are soo prestigious\",\n",
       " 'RT @HeatherMcIntyre: Posing in front of the mirror every day does not make you a model! #mkr #MKR2015',\n",
       " \"RT @rfc884: I'm not sexist but I bet if I had one month of training I could do all these snowboard tricks the girls are doing and I've neve…\",\n",
       " \"Bitches be like 'my man has never cheated on me' lol nah bitch, you're just too stupid to catch him\",\n",
       " 'You wore the yoga pants on purpose! You know us guys are gonna stair so stop getting all pissy! #WomenSuck',\n",
       " '@cbouzy \"If this bitch doesn\\'t get away from me...\"',\n",
       " \"If she has sunglasses on in every pic, she's hiding the ugly\",\n",
       " 'Gee, the useless feminazi #BaharMustafa gets to keep the job she no doubt fails to do, all while still preaching her Manson-level cult shit.',\n",
       " '@ChardGels Google your ass you Immature cunt.',\n",
       " '\"Deconstructed hot dog\" 😂😂 #MKR',\n",
       " 'James Toback: Anyone who says he lured women with film roles is “a lying cocksucker or cunt” https://t.co/v4mmJRZn62 https://t.co/SfNb10zsl3',\n",
       " 'I’m out this bitch though. I deserve better.',\n",
       " \"Idgaf bout not 1 bitch lol yall hoes can die & i promise I won't b at the funeral 😂😂💯\",\n",
       " \"Next time you get a haircut and your girl doesn't mention it, freak out on her and withhold the dick for a week\",\n",
       " '@JaelenBrown “I want women to have equal rights” ... unless you don’t fit my exact definition of how a woman should be then you’re a hoe',\n",
       " 'great my lymph node is swollen again. shows how stressed i am cos of some fucking whore &; her spreadshit &; stupid frens who believe her.',\n",
       " \"@JessicaValenti I pray this judge has no daughters or grandaughters ,nieces or even a wife cause this is some off the wall shit. Only 🤔 umm yeah so I'll just keep that one comment to myself . F&amp;#+3d that his ass needs to register as a sex offender IDC how old his privilege ass is!!!!!!!!!\",\n",
       " 'loki you stupid fucking bitch please come back i miss you',\n",
       " '#Feminazi #prorape #congo #conflict Women empowering site asks does domination alone or more things cause rape http://t.co/V2tNiDapDa',\n",
       " 'RT @swearingpat Buses with woman drivers are always late #NotSexist #JustAnObservation',\n",
       " 'RT @cristoBALLIN_: Im not sexist but the day that the marine corps makes infantry open to women &amp;/or we get a female Commadant is the day I…',\n",
       " 'RT @TwoThug4U: @YesYoureSexist but honestly stereotypes are light-hearted and usually harmless. Let people joke around.',\n",
       " 'Dumb nigga gone say “you act like I’m the first person to wish you would die get over it”... tf? First of all I hurt my ex very bad and that nigga never even said no shit like that. I can’t get over that a mother raised such a Bitch made son',\n",
       " 'RT @jowilliams293: On #InternationalWomensDay women who inspire me: @CHSommers @Fox_Claire @clairlemon @cl_kitchens @CathyYoung63 @XXFactor…',\n",
       " \"Women want u to automatically believe women who scream rape they don't understand our position....\",\n",
       " 'Not all men are the same......oh wait yes they are. And yes I love my bf. And yes men are still trash. Fuck you pay me bitch.',\n",
       " '@ElizabethHobso6  I remember you praising a French feminist as being a good fem like CHS, what was her name again?',\n",
       " 'RT @khristafer No sexist, but I like how Arya\\'s a \"boy,\" now, yet she\\'s washing dishes, still. #Lol #GoT',\n",
       " '@LindseyGrahamSC @BarackObama @realDonaldTrump Way to have some balls and talk shit like this after McCain no longer around. You know he would have told you to stfu. Pussy!',\n",
       " 'With #Paraphiliacs in charge; #LGBT &amp; #Feminazi collapse everything http://t.co/FbLfi4XUMi',\n",
       " \"@KeithOlbermann Hillary is stuck in her own anger for loosing she has always been evil, don't forget how she treated the women Bill rape\",\n",
       " 'i said i was a whore, bro i can be a real bitch as much as u want',\n",
       " \"RT @Feminazi_Front: @She_TheWolf @brotheryellow @MT8_9 here's a simple picture on why people dislike feminism. It's a simple concept http:/…\",\n",
       " 'RT @Laarrma im not sexist. but... it does bring a tear to my eye when i see a woman successfully reverse into a parking space.',\n",
       " '@UntouchableShe No, sorry, even the rosiest definition of feminism is still unequal.',\n",
       " \"Wow they tried to give me a FEMALE DOCTOR TODAY. I didn't even know those EXISTEd...\",\n",
       " '@thistallawkgirl @anaislaffin You hysterical women caught up in more conspiracy theories again? 😂😂😂 liberals are to… https://t.co/VdYulaKbsm',\n",
       " \"White women are stupid https://t.co/iHrUinilX8'\",\n",
       " \"88% of restaurant dishwashers are men: http://t.co/y6xi08Nt9Q @TAdams1604 Call me sexist, but doing dishes isn't a mans job.\",\n",
       " \"RT @Russian_Starr: News editors aren't hiring black people, so Twitter has become their newsroom. And they're doing a great job, too! Black…\",\n",
       " 'I can lose weight, but you’ll always be a cunt ♥️ Don’t come at me, I will shut you the fuck down https://t.co/ZuGw6sqK6L',\n",
       " 'Because no one likes being a stupid bitch, alone..... https://t.co/Z7xhwpgkWj',\n",
       " 'Why do girls follow me? All I do is make fun of them for how dumb they are #WomenSuck',\n",
       " 'RT @JusFappinAround: @nflis that a female referee? Not sexist but...  They are only for camps right? This will not be happening in the regu…',\n",
       " '@hezzzzah why? So you can look like a trashy mess? #WomenSuck',\n",
       " 'When someone ugly slides in your DM.... Naked... https://t.co/A4ntqO7SZ4',\n",
       " \"RT @Nayadrikj: GO AWAY PHOTOBOMB, YOU'RE CREEPY #ThanksGrandma http://t.co/eltBNrIcOL\",\n",
       " 'Its because you are always a hysterical woman @SenKamalaHarris',\n",
       " 'RT @KingAreed: Call me sexist or whatever but if ur my gf/woman/wife keeping the house(exception our room) laundry &amp; folding clothes is a M…',\n",
       " 'Then da cop decides to get in da car and try to make da girl suck his dick in da backseat for what reason Idk smh had to beat this nigga ass',\n",
       " 'RT @JL_Whitaker: Who is writing the bimbolines? #mkr',\n",
       " '@AnnCoulter Thats a real low blow to hysterical women.',\n",
       " 'Gonna be the sexiest Bat Woman in that bitch😈😈😈',\n",
       " 'Jesus Kat, shut the fuck up and let it go :/ your a fucking tool #MKR',\n",
       " 'uggghhh i forgot this bitch is 17 fuck!! &gt;:(',\n",
       " \"Sip wine with yo bitch while she explain shit to you, you couldn't understand as a man on yo own. Women's perspective will help you grow if you stfu & listen.\",\n",
       " '@Allehegens Don\\'t count any chickens...most of the GOP candidates suck and could well lose to uneducated \"history\" vagina voters.',\n",
       " \"Here's my review of 99% of games I've ever played: FUCK THIS MISOGYNIST BULLSHIT *heaves menstrual blood at the screen*\",\n",
       " '@KTTunstall @broadcastscot Actually, yes I do. The cunt is the vagina. All women have one. It is a beautiful, wonde… https://t.co/F6EDYgX3nF',\n",
       " 'RT @HuffPoLifestyle: \"Not all men oppress women\" - powerful campaign sticks up for the good guys http://t.co/3QXV9ZyfdI #BlameOneNotAll htt…',\n",
       " 'Hey Kat, \"gloat\" is not a pretty colour to wear, love. Makes you look bitchy. Oh that\\'s your normal face? My mistake. #mkr',\n",
       " \"my sister is pissed cause' I called her a feminazi 😂 #oops\",\n",
       " \"I'm objectifying you. I hear that's all the rage in feminazi circles.\\n@ZombieNeith @GRIMACHU\",\n",
       " \"RT @DustyPee: If #cuntandandre make it through, I'll... I don't know what I will do. #mkr\",\n",
       " 'What do you call a woman who has lost 95% of her intelligence? Divorced',\n",
       " \"OMG  Kat!  Calling them suckers?  I can't wait to see what they said about your slop... Who's the suckers now?  HA-HA!!!  #MKR...\",\n",
       " '@realDonaldTrump \"Grab them by the pussy\" \"Rosie is fat and ugly\" \"I like people who weren\\'t captured\"- You demean and belittle and still got elected. Shut the fuck up',\n",
       " '\"feminazi\" Nice http://t.co/0JwoXzcRgv',\n",
       " \"They're staying...just so that the producers can have a showdown between them and the posh bitches #mkr #bringit\",\n",
       " 'its melting because you didnt put it in the freezer before you served it you dumb skank! #MKR',\n",
       " 'Y’all Trump supporters are always so hysterical about y’all’s dumbass army where are you now hm',\n",
       " 'I just need one kitty one butt hole to lick one person to be my NUMBER ONE FAN& support me I just need a bitch to be my peace just ONE 🤷🏽\\u200d♂️',\n",
       " '@glaiveXD WHERE THE FUCK AM I U STUPID CUNT',\n",
       " \"RT @DrBobbyFlavor: #AdviceforYoungFeminists Beware of con artists who co-opt feminism. Don't expect people who profit from a problem to sol…\",\n",
       " '@AspenRomanoff Your a dirty little girl..',\n",
       " \"D: DID THAT GUY JUST NOW FLIRT WITH YOU L: No, wait, it's not what you think D. I WON'T HESITATE; BITCH *shoots down the innocent fanboy*\",\n",
       " 'Sassy.. More like trashy #MKR2015 #MKR',\n",
       " 'Do you get it, you Blondes ........... #MKR',\n",
       " '@joannasbarlow Youre not going to die so shut the fuck up moaning and get in with it',\n",
       " '@harikondabolu And \"Feminazi\" and \"Meninist.\" Douchebag wordsmiths strike again!',\n",
       " \"RT @Loganopatrick Call me sexist but honestly mass majority of woman can't cut it in combat arms, it's a liability\",\n",
       " 'Niggas Might Want You But You A Regular Bitch To Me',\n",
       " 'Are you serious a score of 1???? Uh I hate Kat and Andre #MKR',\n",
       " '@BenSasse We shouldnt worry our pretty little heads over things like perjury?Ask your wife if women should accept todays corrupt GOPs plan to return us to 1950s where the hysterical women stayed barefoot & pregnant.Youve shown us who you are & I believe y',\n",
       " 'had to block all my rl friend bc of that stupid hoe @ameliaorodio',\n",
       " 'RT @mark_fulton: Drasko paints over the Mona Lisa cuz he thinks it needs more yellow. #MKR',\n",
       " \"Feminazi's Sink Their Claws Into Lewinsky Over Sexy Tell-All - #TCOT #TLOT #p2 #TGDN #RedNation http://t.co/BXF1n5U1Wh\",\n",
       " 'My kitchen rules or my vagina rules? #MKR http://t.co/CXXgcf1MHl',\n",
       " '@DW_Grant @bungdan I\\'ll summarize mad Maddow for you. \"It\\'s the filthy redneck Republicans fault.\" There, now you won\\'t need to watch.',\n",
       " 'Roses are red, violets are blue. You a bitch ass hoe, and yo momma one too. @sha_babyy17 Yeet',\n",
       " 'https://t.co/lOjEyuOoNc #NYHitsRadio ♪ Glam Skanks - Bad Bitch by Glam Skanks ♪',\n",
       " '@NotChrisSmith Is the fact that women are asked that question \"sexist\"?',\n",
       " \"//*Squints at @KuyashiiKanyo's bio* This bitch know they facts. 💖\",\n",
       " \"You don't like Nigerian men. We get it. Go and marry your American or British men. Any small thing, Nigerian men this, Nigerian men that.You're not being a feminist. You're being a man-hating-cretin and it all stems from blowbacks from your greed and bad taste in men. STFU.\",\n",
       " 'i have stomach pain, i have back pain, i have boobs pain, i have nausea pms is a fucking bitch',\n",
       " '@__enimey__ http://t.co/BdgM9pSZbD',\n",
       " '\"why they snappin like this... what the fuck is goin on?? how many rappers in this bitch???\" LMFAOOOOO',\n",
       " \"@Vuhhnessuhhh_ Bitch you don't know my mf life I'll see you when I do hoe\",\n",
       " 'Trynna look like a bad bitch with a side of hoe for homecoming.',\n",
       " \"No apple, I don't want an amber alert for a stupid 16 yr old bitch that got into a 21 yr old pedos car .\",\n",
       " \"'not all men hurt women but all women are hurt by men' tattoo that on ur tits and fuck them\",\n",
       " 'No. https://t.co/vpiOhlNGFy',\n",
       " 'RT @RichardDawkins: Watching \"India\\'s Daughter\", horrifying. Lawyer defending rapists: \"We have the best culture. In our culture there\\'s no…',\n",
       " \"If ye don't skank abit of bass hunter you're a cunt and should block me x\",\n",
       " \"“@zandermercury: I feel like starting a Twitter fight.” Your opinion is wrong because I'm a giant feminazi\",\n",
       " '@artsyvalkyrie yOU CANT RESIST FLOOD ESCAPE WITH ME WHORE',\n",
       " \"RT @ZombieNeith: &gt;Mfw fems imply porn reduces women to objects but they're the only ones in the thread debasing over career choices http://…\",\n",
       " 'RT @Jack_McCormick1: I like my pickles like my women: thin and cut #NotSexist',\n",
       " 'Since when did @Mamamia give a fuck about science? go sell your advertisers cosmetics wuth their wild claims #mkr',\n",
       " 'How retarded must you be to have a skank shave your legs 🤦🏻\\u200d♀️ #jeremykyle',\n",
       " \"@PartyTimeMentat Meanwhile the same women need only to be 1. Not fat 2. Not a cunt And can't even pull that off\",\n",
       " '.@rawobjectivism @robscragga @BlackOpal80 \"Google Christina Hoff Sommers Wage Gap or Pay Gap\"  She uses real facts, not anecdotes. #EqualPay',\n",
       " \"RT @ToriKyuun Someone, recommend me a good book (not sexist, but prefer not having main character female; can't connect, ya know?)\",\n",
       " '@Sazarah_76 @SofonisbaAngui7 @s_bruce_alba @Kelzedar @NicolaSturgeon But you haven’t though.  Because if transwomen were women, they wouldn’t have to transition to women.  They would just be women.  So you’re kind of shooting yourself in the foot here love. Transwomen are transwomen. Own it.  It’s fab.  Be who you are.  A proud transwoman',\n",
       " 'SHOVE IT DEEP IN YOUR WILLING KUNT PULLUNG OUT N B... — cunt* https://t.co/ju24EIixMg',\n",
       " 'Im not gonna sit back and let you categorize ALL WHITE MEN are targeting blacks people. Wtf are you even talking about? My best friend since middle school is BLACK. Half of all my friends are BLACK. This cop who gave me a warning yesterday is BLACK. Stfu with that racist mindset',\n",
       " 'Ugh I love Briana even thou that bitch can drive me crazy! I’ll always love that whore 🤧❤️',\n",
       " \".@aamattyhealy You won't answer, like most feminists, because the answer exposes your OPPOSITION to #equality.  You fool only yourselves...\",\n",
       " 'RT @TheMeninism: guys who sell drugs get more girls than guys with degrees, but that says more about women than men ☕️🐸',\n",
       " \"Me personally I would've dragged that girl down the stairs lol but she was getting it..beat that fat hoe 😂😂\",\n",
       " \"@ROBOdell4thewin @WSJ He's a butt ugly hybrid.\",\n",
       " \"@khanumarfa A tweet about 'rape jihaad'. Since non -muslim women without hijab are whores, they must be raped and be… https://t.co/bZZbvwaHAi\",\n",
       " 'RT @DestinTrueheart: People do not get it.Definition of Sexual assault on campus is so broad it makes most dating interactions chargeable a…',\n",
       " 'I liked a @YouTube video from @kristi_thinks http://t.co/QiGEErlZpj \"Rape by Fraud\" Feminazi Strike Again',\n",
       " '@AnnCoulter And I think @CoryBooker wins as most hysterical woman! Kamala is runner up but the Drama Queen going way gay w that I am Spartacus Hysteria!',\n",
       " 'Kat adds \"delusional\" to her list of personality faults. #mkr',\n",
       " 'Just get rid of the two big drips #MKR',\n",
       " '@casecyanide DUMBEST BITCH IN THE INDUSTRY WELL DONE',\n",
       " '@JessicaValenti What about the girl? Lock him up. No excuse.',\n",
       " \"@Starius @38fanda Shhh...it's funnier when they don't know... http://t.co/c8CtwSTqrY\",\n",
       " \"@SomeKindaBoogin @rooshv @ebruenig\\nA bat shit crazy #Feminazi ur screwed- You'll have a division-strength contingent of @rosie's on u 4ever\",\n",
       " \"I liked a @YouTube video http://t.co/3Z3OAyLO69 UKIP's Nigel Farage vs loud Feminazi\",\n",
       " \"I liked a @YouTube video http://t.co/IAeaigb8mC UKIP's Nigel Farage vs loud Feminazi\",\n",
       " '#feistyfoodies can suck a fat one #mkr',\n",
       " '#Retweet: My famous post exposing #Zionist Jews, EVIL #Gay &amp; #Feminazi behind genocide http://t.co/TLZGlfdYEo http://t.co/Ig82cZpURC',\n",
       " '@k677y Who let that mothafoken skank on that foken plane https://t.co/DrkjHWLkUD',\n",
       " '@csnaith8_c @AnnCoulter Biden handled it well.  Camel Toe Harris has only two things going for her 1.) Willie Brown blow jobs, and 2.) her black female anger',\n",
       " 'RT @EntirelyAmelia: It’s men’s job to fix sexism. White ppl -&gt; racism Straight ppl -&gt; homophobia. Cis ppl -&gt; transphobia.NOT the oppressed’…',\n",
       " \"@IngridBanerjee that's because you are a feminazi with obscure views on Clarkson, He embodies all that is top gear #BringBackClarkson\",\n",
       " '@pleasemybody they deadass digging a hole for themselves @AtlanticRecords fat bitch loose weight',\n",
       " '@FO7935 I love this # but I am legit grossed out by that...fems could end any argument w/ me by posting their armpit hair pics...',\n",
       " \"@natbenkowski @George1Panos @bryn_adams so #YesAllWomen is fine but #YesAllMen should burn in hell? Looks like someone didn't get their way\",\n",
       " 'I feel like some people should go back to basic anatomy.\\n\\nAlso, not all women purposely camel toe. It just happens. https://t.co/s21xd4mCEp',\n",
       " \"@JustLaurenB @accountrejected Hmm...I think it's the jaw...her head is kinda shaped like home plate...to carry on the baseball motif...\",\n",
       " \"Just so you know, I'm a righteous Dick Cheney Impersonator, which is not like a thing or anything.\",\n",
       " '@Cmacf76 @BPowell300 @NicolaSturgeon You are doing this all through the prism of post-modern gender identity politics, a form of identity politics which has sexist and homophobic implications. You’re not even an organisation that recognises a same-sex sexual orientation. Abandon self-id of sex, it’s harmful hokum.',\n",
       " '@OhSoSoftley Yep, not sexist at all!',\n",
       " \"When a man gives his opinion, he's a man. When a woman gives her opinion, she's a bitch. - Bette Davis\",\n",
       " \"IT'S 4AM IF YOU WANT TO CALL SOMEONE A FEMINAZI THEN DO IT LATER WHY IS MY FLOOR SO GROSS U G H\",\n",
       " \"Well that's bullshit #mkr. Kat and Andre do not deserve to get what they want.\",\n",
       " 'WHO.. ARE. YOOUU? This is not mario kart. You are no princess peach. Get your skank ass up out my lane or I take you off the goddamn road.',\n",
       " \"RT @tobyrobertbull: @YesYoureSexist R U saying men piss in restaurants all the time without comment, but as soon as a woman does, there's c…\",\n",
       " '@egotastic This is a camel toe https://t.co/Np93XsIBKQ',\n",
       " 'RT @dubhe80: @Maja_Stina raised by women, majority of coworkers r women.\"Interpret\" my words as you wish. No matter how much you twist em, …',\n",
       " \"RT @Cariaddraig @cocojambo75 If it gets the men out from under their wives feet I'm all for it #notsexist\",\n",
       " 'RT @MyDearWormwood: \"I want equal rights, but I still want your seat on the bus, and you still pay for all dates, and no sexist jokes!\" -ig…',\n",
       " '@artbychristinem @AnnCoulter Oh look another hysterical women',\n",
       " \"RT @PhilDoran21: @Deanowen118 they don't see us tweeting about sanitary towels do they ! #GetMeAFuckinBeer #Slag\",\n",
       " \"I'm tired of all you feminazi's\",\n",
       " \"@Scouse_ma 😭😭😭 you ain't shit\",\n",
       " \"Stop the spread of #misandry. Fight for men's rights today! #OWS #tcot #tlot #AskTheHEEL #WomenAgainstFeminism http://t.co/6n4V9kBtya\",\n",
       " '@LeoKikiLady89 Oh, I dont.  Even the ERA only says \"rights\" not equal responsibility.  Feminism is allergic to equal accountability.',\n",
       " '@_alyyssssaaa Women don’t do cunt',\n",
       " \"Have some dignity! Stop using whore shit to set the standard, we got grandmother's etc. We know what real women is\",\n",
       " \"@OliverAge24 @sampepper Why wouldn't he ? Because some SJW Feminazi starts crying about how bad of a person he is ?\",\n",
       " \"@TheShujaatAli @AsheSchow is awesome, if you don't know her.  Write the truth about feminism.\",\n",
       " '.@ListenToRaisin No question. Feminists have the media. Did you see any mention of Clem Fords OPEN bigotry, etc?  Nope. \"Narrative\" is all.',\n",
       " \"@travyola222   Kat is a total moron. Unfortunately we're stuck with her for a while yet. #MKR (I won't watch because of her)\",\n",
       " 'isnt it just fkn dyno when one of ur ‘best pals’ turns oot to b a wee snake like off u go slither back 2 ur hole ya sly cunt x',\n",
       " '@AnnCoulter @DonaldJTrumpJr And you have won SKANK OF THE YEAR',\n",
       " \"Invite her over, play Rihanna 'Sex with Me' on repeat, then give her the worst sex of her life... #wastehertime2016\",\n",
       " 'bc were women, we automatically get labeled as a slut or whore when attacked, or accused of wanting it. too much goes unheard #metoo',\n",
       " 'jus gonna say it...again....DUMB BITCH! #MKR',\n",
       " \"@queensoverbitch and we're smarter than that bitch\",\n",
       " 'Celine fuck off. 🔫 #mkr',\n",
       " 'Ugh. Fuck off Kat. Your turns next.  #mkr',\n",
       " '@HegartyKatie @BlaBluebBlib79 @kelly_o_hara Unless you compare women and men with same profession and experience you are just a sexist.',\n",
       " 'We better not ever have a woman president @WomenSuckk',\n",
       " \"When I make it ain't no White bitch letting me rape her they won't get this black man\",\n",
       " 'So, feminists will trend #FeministsAreUgly and then complain how the fact #FeministsAreUgly is trending is proof of misogyny in society.  K.',\n",
       " 'RT @mylittlepwnies3: People praising an uncreative #Ghostbusters cash in because it panders to their gender politics says a lot about moder…',\n",
       " 'feminazi stole my ice cream sdds',\n",
       " \"RT @Newmanzaa: There's something wrong when a girl wins Wayne Rooney street striker #NotSexist\",\n",
       " 'mature naked womenluzbel pornxtime tvgymnast camel toe https://t.co/13NZ3WtyVk',\n",
       " 'if you’re really gonna sit and bitch about women hating on men for raping and harassing them, please exit my life immediately and forever',\n",
       " '@MariBurrlaFlare You tried to spazz out on me too whore for waking your narcoleptic ass up 🤔',\n",
       " 'http://t.co/hKlr3dDNqY\\n@PolitiBunny @FemsHaveBallz\\n#IfWomenRuledTheWorld #FeminismIsAwful #feminazi #WomenAgainstFeminism',\n",
       " 'RT @benpobjie: Endorsed RT @tollplaza: Y’know what?\\n\\nF U C K “deconstructed” anything. #mkr',\n",
       " 'RT @asredasmyhair: Well...its a valid question. #FemFreeFriday http://t.co/fqOZCwc1ZB',\n",
       " 'RT @robinashe: Yep, #QuestionsForMen in fact. @paulawrites',\n",
       " 'Ignore the sunburn! :P',\n",
       " 'Managed to hit a bird and a small rodent on my drive to Huxley this evening #Oops #Asian #Female #Teen #TripleThreat',\n",
       " 'Nikki has massive #armpitvaginas #mkr',\n",
       " \"if before y'all start comin @ me like DASS ESSPENSIVE bitch until u watch a mile in my shoes (THERE IS LITERALLY HOLES) you'll understand\",\n",
       " \"@EuroSlavA @brenbarber Those two are the only self ID'ed feminist I can think of who are legit.\",\n",
       " 'Women are like elephants. Everyone likes to look at them but no one wants to keep one  #WomenSuck',\n",
       " 'RT @ZStonecipher: Half the time when I read a girls tweet I read like the dude in \"Sh*t sorority girls say\" video on YouTube. #notsexist #j…',\n",
       " '@lovelynicolee_ She probably was using it already before she took it stupid bitch.',\n",
       " 'Well... The Hoes might pull this off.... Pardon the pun!! #mkr',\n",
       " \"Another fucking piece of a crap. You have gone too far in chasing mirages, Kashmiri women do not sleep around with RSS men, you fucking cunt, there is no sanity left in you now. You must have heard that phrase. 'Langoor Ke haath angoor' this shit is similar.\",\n",
       " 'How to Pronounce Bitch Chameleon ↺RT❤ https://t.co/eGr8fHrLrD #fake #fuss #denounce #accuse #porcupine #crab #whore #bitc',\n",
       " '.@HumanistFury @Shermertron @jennykutner From now on, I\\'ll use \"Little Girl\". Except it insults preteen females comparing them to feminists.',\n",
       " '@Grummz And the wonder why they get the label \"feminazi\" hmmm... i don\\'t know at all lol',\n",
       " ...]"
      ]
     },
     "execution_count": 39,
     "metadata": {},
     "output_type": "execute_result"
    }
   ],
   "source": [
    "df_test[df_test['prediction']>.5].sort_values('prediction', ascending=False)['text'].tolist()"
   ]
  },
  {
   "cell_type": "code",
   "execution_count": 40,
   "metadata": {
    "pycharm": {
     "is_executing": false
    }
   },
   "outputs": [
    {
     "data": {
      "text/plain": [
       "[\"@ArielaMigdal You know that's pure propaganda for dumb people right?\",\n",
       " \"Go ahead, sit on my purse strap and not get up when I say EXCUSE ME, it's not like I exist or take up space. #fuckmenonpublictransit\",\n",
       " '@logie @PCairnsPhoto @ChrisGPackham @theSNP @NicolaSturgeon Change ur @ I’ll pay pal u 9.41 ty',\n",
       " \"Erol is the world's leading light on #psychopaths, all psychopaths have a female brain &gt;&gt; https://t.co/L1lL5BkyLH &lt;&lt; #MGTOW #Feminazi #PTSD\",\n",
       " 'RT @dearsarah: @MadcapOcelot @freebsdgirl also (the awesome) @ellenchisa counted the # of women he follows &amp; wrote about it here http://t.c…',\n",
       " \"@slainv_fr never said there wasn't. i just rarely see women using that term.\",\n",
       " 'RT @11thEarl: Priceless that #BringBackClarkson got more petitioners in a day than #feminazi - led #NoMorePage3 got in 3 years...oh the del…',\n",
       " \"RT @theeaglesfan005: @Kbeelrsreiyen not my fault people feed stereotypes. For example my sister... She's been in multiple accidents\",\n",
       " '#YesAllWomen should stay in the kitchen',\n",
       " \"RT @clay10wareagle3: Can't lie this was generally clever, funny, and relatable without ruining it with girlishness #NotSexist https://t.co/…\",\n",
       " 'Nikki...Kermit the frog called and he wants his voice back #MKR #MKR2015 #KillerBlondes @mykitchenrules',\n",
       " 'So happy the bae, Ash (and her perfect hair to match her perfect self), is back #mkr',\n",
       " 'RT @DM_BallSoHard: @YesYoureSexist therefore resulting in the fact that everyone is bias or in your case \"sexist\" making your twitter accou…',\n",
       " 'RT @Drift0r: @YesYoureSexist These seems extremely unlikely. 16% of the entire female population are rape victims?',\n",
       " 'Summary of Kat-stupid,vicious,aggressive,disrespectful,dishonest,shameless,lack of cooking skills.Please feel free to add more. #mkr #bully',\n",
       " 'Girls in Yoga Pants Camel Toe (20 Pictures) https://t.co/ZMqJBXG4ZE https://t.co/vqFbUKQc0m',\n",
       " \"@comattwow @ChubsSays Everyone here opposes rape male or female.  Everyone here supports preventative measures.  It's all good...\",\n",
       " \"@MacKirstys @glamadelaide but I thought feminazi's all had EXTREME views?? Haha\",\n",
       " \"When she says 'stick it in my ass and fill me up, daddy' https://t.co/n40Op5QSf9\",\n",
       " '#mkr that was useless from nikki',\n",
       " \"RT @Trunthepaige: @freebsdgirl @RissaDueling @Spacekatgal #GamerGate is only interested in game journalists and SJW's who put politics ahea…\",\n",
       " 'RT @JillWetzler: Or they say things like, \"We\\'re looking to hire more women for our world class team!”',\n",
       " \"Eric Cartman: How 'bout we sing, 'Kyle's Mom is a stupid bitch' in D Minor.\",\n",
       " \"@cjn159u You've seen the article by founder of NOW's sister, right?  More and more I see feminism thru this prism... http://t.co/7jOETvnH9A\",\n",
       " 'Hand modelling career over? #MKR',\n",
       " '@RemingtonWild @TheMercedesXXX i agree, nobody should use the term \"feminazi\" because it is degrading to actual nazis',\n",
       " \"When she's telling you about her day and she didn't catch your side bitch running out the back door https://t.co/u0BYfJCXOZ\",\n",
       " 'Find jarring “Not all men are trash” some of us are good” “we love you Nubian queens” just shit up 😂😂',\n",
       " 'RT @uberfeminist: #TwitterFeminism is a protection racket. Except nobody can actually guarantee your brand any safety as the \"movement\" is …',\n",
       " 'RT @VILLEGOD I always really wish i had a girlfriend when im hungry. #NotSexist #ImHighOkay #TooLazy',\n",
       " \"Eat the ass like you're Jeffery Dahmer...\",\n",
       " 'God is dead, Jesus is a cunt and the Virgin Mary was a whore.',\n",
       " 'I been knocked out round this bitch today..got me some well needed rest fasho',\n",
       " '@AOC @USWNT Remember AOC this team doesn’t allow latinas on the squad, as a Latina you should be aware of this.',\n",
       " \"@Davidsalas87 Cause you're a Bitch and you love those situations! 🤷🏼\\u200d♂️\",\n",
       " 'BITCH ITS SATURDAY WTFFF?!!',\n",
       " '@AnimeFemsplainr All women deserve an opinion and have the right to, you on the other hand my dear are a cunt who d… https://t.co/f66e68hLQq',\n",
       " \"I don't know why women wear watches, there's a perfectly good clock on the stove. #WomenSuck\",\n",
       " 'When she says she only dates black guys https://t.co/sRVduKYg6L',\n",
       " '@dbongino Kapernick is a dirty word. Whatever that guy touches turns to garbage.',\n",
       " 'Fuck love wat love that fake love u give u lil kid u bitch that once i turn woman on u u run away',\n",
       " '@skayla915 I thought you meant dressing like a skank until I saw you dressed like one too',\n",
       " '@o_glyndwr1404 @Baddiel You actually believe that bollocks',\n",
       " \"I didn't know they were models #MKR\",\n",
       " \"Why do bitches from Philly and Jersey always ask 'do you have a Wawa?' Yeah bitch, we got Wawa but I don't eat at gas stations, FOH\",\n",
       " \"@mykitchenrules Girls, please don't let the leftovers go to waist. My dog would really appreciate it! #MKR\",\n",
       " \"@MaxwellTolvo @SuperSpacedad she threatened to cut herself if we didn't pay her money.\",\n",
       " 'Men get hurt once and that’s the end. They stuck on that bitch for life. Women get hurt 1,000 times and they’re still out looking for love',\n",
       " 'If you ever tell me you’re curious about sucking cock you better believe that this is your future, slut 😂… https://t.co/Lk3EDrDohE',\n",
       " \"Stop tweeting about football. You're a girl and you opinion doesn't count.  #WomenSuck\",\n",
       " 'RT @taxo__: @Yourfuckboy1 @queensoverbitch Aye! Make your dreams come true! ...Go out there and suck a dick!😂😂',\n",
       " 'Poor Kat.hahahaha #mkr',\n",
       " '#CuntAndAndre #CuntAndAndre #CuntAndAndre #MKR biggest FLOGS the show has ever had on it. EVER!! #CANTCOOK  #FUCKOFF #KatAndAndre',\n",
       " '@UnburntWitch too small',\n",
       " '@GEslave Woow.. You can smoke cigaret and suke May Dick ...😉😊',\n",
       " 'How basic bitches wash away their weekend sins and mistakes https://t.co/pw5xSg1ENt',\n",
       " '@comattwow @sweharris i have no idea what that is?!   a spam bot??? what is your malfunction?',\n",
       " 'Corsetry, bloomers and hat pins will be back in fashion by the time this series ends. #MKR',\n",
       " '@Kristinaa_Egger I hope Eva and Debra win the competition #MKR',\n",
       " 'Can I please punch Jessie and Biswa in the face #mkr',\n",
       " \"I support #GamerGate because I'm a Gamer and i don't want a bunch of corrupt Media Feminazi's ruining video games for everyone.\",\n",
       " \"#MKR @mykitchenrules I hope Kat (The cat) and Andre lose and leave the show. Kat is a nasty piece of work who can't win fairly\",\n",
       " '@BBCSport Come on, Lioness! Give that bitch a proper reason to not go to the White House.',\n",
       " '#cuntandandre #cuntandandre #cuntandandre, here we go again,  you strategic arseholes! #mkr',\n",
       " '@realDonaldTrump 1st - You were not elected; you & Russia rigged the system2nd - We all heard \"Pussy Grabbing\" so STFU3rd - You LIE - Reporters Report TRUTH4th - All you do all day long is demean & belittle EVERYONE5th - FACT: WE DO SEE FACTS & say You\\'re',\n",
       " '@BlackGirlDanger cigarette trousers?',\n",
       " '@JudgeBambi @Republican_Mrs ...by doing what exactly?',\n",
       " 'Feminists have a few valid arguments worth talking about. lol jk',\n",
       " 'RT @Boarhound: every time you use the word \"feminazi\" an SJW gets their wings\\n\\n*flutters away on 2535 pairs of wings*',\n",
       " 'Nikki &amp; Katie PLZ shut the fuck up #mkr',\n",
       " \"@MaxPower_83 they're both as awful as each other! Those accents are clearly fake! #MKR\",\n",
       " 'Woke up angry bc 2 years ago a groomsman &I were supposed to walk into the reception doing the Bernie but this cunt of a bridesmaid insisted that they were gonna do it so we quickly made something up while in line to go and then this fucking bitch walks in & DOESNT FUCKING DO IT',\n",
       " \"Example 01: Boyfriend: 'I think my girlfriend is cheating on me.' Boyfriend's friend: 'Yeah, bitch got a penis!'\",\n",
       " \"@RamiAlLolah If you can't figure out who the world will side with you are really stupid.\",\n",
       " 'Are these girls out west or on the Central Coast??? #MKR2015 #MKR',\n",
       " \"@xdannock maybe someone will use Kat's weber #mkr\",\n",
       " \"@devhowellll Taylor Swift is an untalented skank who can't sing, knows 3 guitar chords, and has an Adams apple #WomenSuck\",\n",
       " \"@NataliaAPhd The article is glorifying a dipshit feminazi that believes everything is the patriarchy's fault and that all men are rapists.\",\n",
       " '@avacadosoup ...unless you learn propaganda.',\n",
       " '@kathygriffin Which one of the two wins the prize for most hysterical woman?',\n",
       " 'RT @Yaakov_Shmuel: 1 more former #Obama General unloads on WH: \"paralyzed\" &amp; \"playing defense\" against Islamists. http://t.co/9QvLI3KrLz ht…',\n",
       " '@karengeier Go on...',\n",
       " 'But wadhwa just writes off women on social media as being \"uninformed\" or NOT EVEN REAL because we don\\'t agree with him.',\n",
       " \"RT @DM_BallSoHard: @YesYoureSexist 3. I am all for women of power it's a great thing 4. Depending upon your sex there is bias towards the g…\",\n",
       " \"@EscapologistGl @EscapologistGl So weird, b/c I think you're gorgeous &amp; smart &amp; hilarious. Suppose that makes me a feminazi sympathizer?\",\n",
       " '@korvys target them... not ideal.',\n",
       " '@dankmtl @PeaceNotHate_ Undoubtedly you jerk your cock to every new Blumenthal tweet.',\n",
       " \"@_lamamama That's what's killing this country 🤦\\u200d♂️🤦\\u200d♂️... Because she's having a dirty job.. Doesn't me she's dirty... It's a job...\\n\\nWhy is it that all we want in this country is to have fancy job..\\n\\nIf all those white people think like u do... U won't be spending allot on their products 😏\",\n",
       " \"@ANN_Lynzee ie: someone once told me it didn't matter if a rape accusation was accurate because the target was a terrible person.\",\n",
       " '@betterpakistan @ImranKhanPTI Hoe your dreams also return to you as nightmare',\n",
       " \"RT @youngvulgarian: I like #BlameOneNotAll because it's like the perfect lovechild of the shitshows that are 'Not All Men' &amp; 'But What Abou…\",\n",
       " '@RachaeltheLord I hate when other women drink the Kool -Aid. Sexual assault and rape is about power and control. Tha… https://t.co/9wVBaFihrS',\n",
       " 'some random little girl tried to kiss my baby today and was getting to touchy, then the mom gave me a dirty ass look when I asked her not to touch.. sorry but that’s not okay to me 😡',\n",
       " 'Damn this means j have to see more of their faces #MKR #MKR2015',\n",
       " 'RT @Hevallo: Turkish Dep PM says \\'We hope they will not forget the role we played in Kobane!\" Don\\'t worry, we won\\'t! #TwitterKurds http://t…',\n",
       " '@joeovies @lebrownlow Someone tell the hysterical woman that the last time Cam was without Benjamin he won league MVP.',\n",
       " '@B52Malmet @tweetzydeetzy Yep. @realDonaldTrump is just a dirty old man.',\n",
       " '@Snugglekins76 @Toby1k @KTMSays @RichTD5 @stephenfry @EverydaySexism Right...I wasn’t accusing you of being misogynistic. Next straw man.',\n",
       " '@UnburntWitch Play postal 2',\n",
       " 'when you go to park all by yourself then some bitch fuck decides they wna park right next to you 😑',\n",
       " 'I never realize how long a minute actually is until I get stuck listening to a minute long voice memo about a bunch of shit idgaf about',\n",
       " '@UnburntWitch That is a real familiar sight, except our dog tries to plug the air leak by sticking her tongue in.',\n",
       " \"Roses are red, my balls are blue, here's my cock, you know what to do\",\n",
       " '@notdred @SharkFu He was so annoying post debates!',\n",
       " '@LeoKikiLady89 Not concerned w/ equal here... http://t.co/7DOkGSR8lG',\n",
       " \"it's when you get called a cunt 45 times a day for simply existing as a woman who dares to have her own youtube account.\",\n",
       " '@IrinaLV143 Everybody get a little greasy on #mkr',\n",
       " 'in bred bastards should all be killed at birth to stop the spread of their disease filthy fucking animals. https://t.co/tqNyQjhaKf',\n",
       " 'Did you know, that when a woman says “men are trash,” a random man will appear out of thin fuckin’ air just to yell about, “NOT ALL MEN -“',\n",
       " 'bf: sends me pics of the Sim he made of me with cute captions\\nme: why’d you make me butt ugly',\n",
       " \"Nikki looks like jai'me walking the catwalk  #MKR\",\n",
       " \"I don't think this call exists. That's weird.\",\n",
       " 'Was getting elbowed by a triple chinned cunt with nails like a woman ont train Let a smelly fart out before moving… https://t.co/mAo0mdzGve',\n",
       " '@IsaGreyjoy I have to agree, nothing worse than a camel toe, but to exaggerate it with this, yuk!',\n",
       " \"And for dessert, a dropped pie -like Katie's face #mkr2015 #MKR\",\n",
       " '@Corter_back no I said hope. I hope you women learn your place! #SitDownInTheKitchen',\n",
       " \"@misterbrilliant what is this gamergate thing? I assume it's some sort of feminazi crusade judging by all the sanctimony and faux outrage?\",\n",
       " '@Safya77 The Daesh are so scared and helpless that all they have left is a propaganda campaign of lies.',\n",
       " \"Get Gordon Ramsay on there he'll sort #cuntandandre out\\n#mkr\",\n",
       " \"na na na na na na na na na na na na na na na na BANTHEMMM @Jordypordy88 I'm not sexist but female comedians are all shite!!! #banthem\",\n",
       " 'RT @The_Loki_Jotunn: @MT8_9 my latest version😂 http://t.co/zeAFT6Danr',\n",
       " 'simba u must be a feminazi',\n",
       " \"I'm not a lover, I'm a fighter... But I'll still fuck you right\",\n",
       " \"Grace is literally the most boujee girl on the planet and it's hysterical\",\n",
       " \"''feminazi''\",\n",
       " \"@cmclymer we're not talking about 'reasonable', this woman is a rodeo clown in full costume, it's hysterical https://t.co/c5adJcJnXw\",\n",
       " '@SindhuBoddu It will always be ready and hard for you to bring your holes and beat it with your cunt and ass https://t.co/OtoJQvC7FF',\n",
       " 'RT @joman_23: Why is it that all slip and slide car accidents in the snow are caused by female drivers? Have yet to see a male driver cause…',\n",
       " \"I don't think Kat &amp; Andre deserve to be in the competition anymore 😡 #mkr2015 #mkr\",\n",
       " 'OMG this churner feels like razor blades on my hand! Oh wait... #mkr',\n",
       " '@benshapiro Spartacus/Hysterical Woman 2020',\n",
       " 'My dog has vomited better meals than that #MKR',\n",
       " 'I was hoping someone would say \"let\\'s get Kat out, we\\'ll score a 10\" #mkr',\n",
       " '@kmx1974 Who said that?',\n",
       " 'When you and your mom are trying to figure out how to make you seem like a bigger whore than your sister https://t.co/F4GnjMdj5a',\n",
       " 'No wonder they are fucked, they are relying on Annies charm #MKR',\n",
       " 'of course they keep the girls hat cause drama could see that coming a mile off #MKR',\n",
       " 'Sleepytime peach tea with lavender infused honey, you complete me.',\n",
       " 'Bye bye basic bitches 👋 #mkr',\n",
       " 'Following Kat &amp; Andre i would love Annie &amp; Lloyd to piss off they are almost as bad. Miss ray of sunshine is as fake as her hair colour #MKR',\n",
       " \"@krainboltgreene right now, i'm feeling pretty fucking gaslit, so that always puts me in a mood to educate, you know.\",\n",
       " \"@FukuFukuNoGiven\\nTbh\\nI have know idea what half the words the feminazi's say mean\\nBut I know I just hate them\",\n",
       " '@mymenarche @McIncount2 @LeighDrunkClown @CHOBITCOIN @keozeo According to who? The feminazi gestapo?',\n",
       " '@KTHopkins Caveat: you must be a Muslim woman to avoid abuse, otherwise you are a permitted target of rape',\n",
       " 'RT @_Mistayyyy: im this asshole. 😎 https://t.co/PsG5VG4pZF',\n",
       " 'shut the fuck up, Jonghyun died as a decent person who made a lot for the music industry, not as a women abuser bitch',\n",
       " 'RT @randi_ebooks: @Queer_Dalek @KaylinEvergreen @freebsdgirl you could just start an ebooks account just so i had more shit to argue with.',\n",
       " '@shaner38 Toss \"denied student loans\" onto that list, as well.',\n",
       " 'I got my food stamps , new bitch who dis 😭',\n",
       " '@TURBOCUNT they have some crazy flavors. wasabi? red bean?',\n",
       " 'RT @SerbanDaniela18: ‘Sooner or later, liberal Europe must fight back’ http://t.co/YbAOdiibBC',\n",
       " 'stop skin out your hole and then you will see a man treat you like a women u want to be treated .',\n",
       " 'On point: http://t.co/eYA8Nm9jK4',\n",
       " \"I CAN'T EVEN http://t.co/RuphlEaXls\",\n",
       " 'RT @colonelkickhead: Evil triumphed over a slightly lesser evil.....I guess that is some sort of moral of some description #MKR',\n",
       " '@I_Am_Chantastic Men are attacked 4 times more, just FYI.',\n",
       " '@smasuch oh great, more feminazi trolls, i have been bored of this arguement for a while now',\n",
       " '&lt;tsui-ji&gt; gyl: go into #asian and tell em you are white, have muscles and drive a nice car and mad chicks will msg you',\n",
       " 'World - Woman Who Accused Nelly of Rape Wants to Drop Case, Will Not Te >> https://t.co/Bgc1oiLB3X https://t.co/aFQmU6TmqX',\n",
       " '“@TheHausOfKunte:Too many contestants makes a Kunte quickly loose interest #MKR #WhoAreHalfThesePeople” YES!! How many rounds *were* there?!',\n",
       " '@HumanistFury \"Sorry\" for confusing me?  What am I looking at?',\n",
       " '@AgentP22 @NicolaSturgeon What does Ian Blackford have to say about this shocking racism?',\n",
       " 'Love is love is love is love is love is love is love is love cannot be killed or swept aside- Lin-Manuel Miranda #WorldPride',\n",
       " 'Jesus how dumb can you get #mkr',\n",
       " \"RT @dontdofacebook: @Mich_McConnell @MT8_9 Good article explaining here (but 'pay' and 'earning' still mistakenly conflated by author) http…\",\n",
       " \"RT @BadCathal: @YesYoureSexist the Redskins surely don't have anything to do with the masthead you're posting under. Just get a damn person…\",\n",
       " '@FOXSoccer @mPinoe @USWNT Ironic that a dyke scored a goal by putting a ball between other females legs.',\n",
       " 'And the secret twist. Kat and Andre are eliminated for being cunts!!!! #MKR',\n",
       " 'RT @AsheSchow: A look at how Clinton accusers would be treated under today’s sexual assault standards —&gt;  http://t.co/b9A6R1aMJ8',\n",
       " 'Tyler Van Dyke has had a good morning at the @Elite11. https://t.co/bSSUUxjHcu',\n",
       " '#meatgirls bamboozled by a can opener and the sorbet churner #promogirls for Danis direct #MKR',\n",
       " '#adasrhliberals follow feminazi liberalism, where males are asked to leave the country, so that they can feel safe in their head as well.',\n",
       " \"Stop trying to prove you're a good driver ladies. Who do you think you're fooling?\",\n",
       " 'Hilarious!! Shrieking hysterical women are annoying. Regardless of what point they are trying to get across. Just be an adult.',\n",
       " \"I have no desire to even communicate with chicks that have bf's. You might as well be a rock cuz there's no point talking to you #WomenSuck\",\n",
       " 'I honestly think Kat has mental health issues. #mkr',\n",
       " 'Strategic scoring should have been banned, then it would have clearly shown how bad Kat and Andre really are #mkr',\n",
       " '@momsydaisy social justice is bullshit.',\n",
       " \"@SpinCheychael__ you're a goddamn savage\",\n",
       " \"RT @NotAllBhas: things that don't automatically oppress women: rap lyrics, religious clothing worn by choice, being from certain part of th…\",\n",
       " \"@wittertalk @NicolaSturgeon Trans women's inclusion in women's spaces has already been the law for decades. In no place has that led to an increase in the rates of violence.\\n\\nAnd trans women are women. They're not predatory men.\",\n",
       " 'Well that is interesting #MKR',\n",
       " 'Its really hard to tell who the most hysterical woman is at these Senate hearing this week - @CoryBooker or @SenKamalaHarris ?',\n",
       " \"#mkr if we have to see Kat on the TV past tonight, I'm out\",\n",
       " \"I'm loving Eva and Debra's whiteboard &amp; timers lol #MKR\",\n",
       " '@yunglibertarian I keep trying to explain...GOP needs CO to get to 270.  Nominate a Drug War-rior like Romney and you lose CO...and the WH.',\n",
       " 'bitch i woke up early so i can get up in time to go to the movies with my irl and i cant even go😐',\n",
       " 'How the fuck did they manage that #MKR',\n",
       " \"@fedginator @BladesScarlett @edin_su @NicolaSturgeon It proves that some trans women are violent-can get other egs if you really want. Go find EVEN ONE eg of a violent woman who declares as trans man, demands access to men's space and then attacks them. I'm sure most trans aren't violent, just as most men aren't.\",\n",
       " 'How are women and rocks alike? You skip the flat ones',\n",
       " \"Shame Katie and Nikki .. Kat - you're going down #mkr\",\n",
       " \"#BlameOneNotAll praises people for being decent humans, suggesting most aren't, men and women alike. It's incomprehensibly infantilizing.\",\n",
       " 'i can’t stand a dirty home 🥴 gross',\n",
       " 'Hmm, not sure we’d like to eat Vicky and Celine’s breakfast if it tastes anything like it looks! #mkr #hungrycampers',\n",
       " '@Mich_McConnell Link?',\n",
       " '@Dreysander1 Biurny Pegeuro put a man in jail for 20 years, never even had sex. Lied to her friends about ditching them at a club, so she...',\n",
       " '@The_Loki_Jotunn ...WTF?',\n",
       " '@KatMari05015136 @TheDweck @anaislaffin So happy you hysterical women who believe in conspiracy theories lost 👌🏼👌🏼🇺🇸🇺🇸',\n",
       " 'Omfg Kat. I will cut you for being horrible. Do. Not. #MKR  #mykitchenrules',\n",
       " \"@SeibaaHomu They get mad at women like us for not feeling comfortable around men alone because 'not all men are lik… https://t.co/o1oTh78IEt\",\n",
       " '@Liistarr LOVE THIS BITCH IM SAD I MISSED THIS',\n",
       " 'Failure of men to police their own *is* the common narrative of women, trans, and non-binary folk. #yesallwomen #YesAllMen  #BlameOneNotAll',\n",
       " \"🙄Says a colored woman of a race that claims to have a ' Hysterical Fear ' of the Police. 🤫 https://t.co/CDO6cgCizf\",\n",
       " 'Oops he meant Katie #bigthighs #mkr',\n",
       " 'How Bianca puts up with Drasko is beyond me. #MKR',\n",
       " 'Camel toe or Pizza puff ?',\n",
       " 'The veggie crisper will cool it down faster, ladies #MKR',\n",
       " \"@TheShaggyMarlin Ive told this story many a time: first time I heard 'cunt' used against a woman was in 'One Flew O… https://t.co/ROTH48b5Hj\",\n",
       " 'a dirty dirty egg and wine dinner',\n",
       " '@cspanwj He saw the South and North Korean Leaders do this and what kind of publicity they got, so the attention whore wants the same. Imagine what these same RapepubliKKKlans would say if Obama was courting Dictators like this man.',\n",
       " \"If they're not harassing or assaulting you they're calling you stupid, crazy, irrational, over emotional.\",\n",
       " \"Obviously #mkr doesn't believe in slip, slop, slap.  They all look sunburnt.\",\n",
       " 'guys. calm down. it was a joke.',\n",
       " '@ARCBloodNorCal will do! 😘',\n",
       " 'Emily Does vagina had dirt, gravel and pine needles in it after Brock turned raped her while she laid unconscious on the ground. You dont want women to prove they were raped, you want them to accept it and shut the fuck up.',\n",
       " \"'H' COVERED UP RAPES SEXUAL ATTACKS BILLY HAD SEX ALL OVER THE CLINTON WHORE HOUSE A BABY LIED IMPEACHED THAT HOW HE LOST HIS ATTY LICENSES\",\n",
       " '#MKR - I am seriously considering not watching just because I have to see Kats face. God. I want to slap it with a spatula!',\n",
       " '@jaredchase this is in WoD.',\n",
       " '.@EuroSlavA @JudgyBitch1 Might need some lube.  The tip is wider than her hips...',\n",
       " '@informationchef i have no idea what these mean: requestContext, seriesList. guessing intervalstring would be 5m?',\n",
       " \"in any serious forum, i will fully support feminism.  feminazi's, however, are a real thing and in their presence i will be a #meninist\",\n",
       " '@sluggn_ @UnburntWitch Bruh',\n",
       " \"Mathematicians know best (women have your man translate these symbols for you if you're confused) #YesAllMen http://t.co/sgfPaYfGzE\",\n",
       " '#MKR the blonds talk about themselves too much they need to work harder in their cooking.',\n",
       " '@AnnCoulter Said the flack parroting talking pointsYou wouldnt know courage of convictions or risking your career if you tripped over them and landed right on top of themBtw, hysterical woman is a wonderful, sexist insult. Couldnt resist, huh?',\n",
       " \"Uh. This is what /angry looks like with undead. It's supposed to be fist in air, not slapping my own butt. http://t.co/YGzCldXqWQ\",\n",
       " '@billyt501 @kezdugdale @patrickharvie @THTScotland Billy are you shorter than Patrick? 👀',\n",
       " \"RT @fruitondabottom: @MT8_9 Didn't you hear about the abhorrent display of sexism on The Good Wife?! Tragic! http://t.co/eyWCr7woaF\",\n",
       " \"@halcyon2001 @mykitchenrules she's NO relative of mine her surname is different #KatTheCunt #MKR\",\n",
       " \"I don't have to smile, my emojis do that for me\",\n",
       " '@BBCandrewkerr @NicolaSturgeon Serious question Andrew, Did you snigger when he said it?',\n",
       " 'Also leave the eliminated contestants weight out of it, what did they ever do to you, how does their weight affect your life? #mkr #MKR2015',\n",
       " 'Want more women in FOSS? Dropkick these people into the sun.',\n",
       " \"They should have called their restaurant Crumbs'R'Us ! #MKR\",\n",
       " \"Okay, they've brought it on themselves and I don't like them either, but everyone needs to stop calling Katie fat. #mkr #MKR2015\",\n",
       " '@BristolBen Not aimed at you.',\n",
       " '@DLoesch You forgot skank in your Twitter description.',\n",
       " '@Roostrwoodstock @EnaLolena You are a lying bitch. Nothing of the kind ever happened. 260 rabbis from Uk wrote Putin - no discrimination.',\n",
       " 'Hollywood women would be whores and crack addicts. When caught, they were raped. That is their story. https://t.co/F9ZVGUTnB6',\n",
       " \"#MKR Kat and Andre don't like anything but yet Andrés plate was clean funny that, fuck off already guys\",\n",
       " \"@brikeilarcnn this really burns you as a feminazi doesn't it?\",\n",
       " \"@OfRedAndBlue yes. It's so hard.\",\n",
       " 'I’m a whore for a bag of Doritos',\n",
       " \"'What do you look for in a woman?' https://t.co/zbnDFOkFbB\",\n",
       " 'Ladies, Before you request a dick pic, you must send a nude first. Be mindful.',\n",
       " '@ryankay94 @McGiff Oh my god hahaha! Yeh Rardi! How dare you have bare walls in the middle of decorating . Just do it the skank way and paper over the previous...',\n",
       " '@aussielung And FYI \"Can u\" is asking YOU.',\n",
       " \"RT @MensHumanRights: .@CBCToronto This drunk woman legally knows better than to endanger lives driving drunk but, can't decide whether or n…\",\n",
       " 'not all men youre right, gomez addams would never do this',\n",
       " '@SenKamalaHarris @CoryBooker Competing for Most Hysterical Woman at the Kavanaugh hearings\" Trying to create outrage and Hate',\n",
       " \"@rosemcgowan 4/ unfailing respect and concern. The tired old narrative of 'hysterical', 'paranoid', 'crazy' women w… https://t.co/NSNnZI2aHZ\",\n",
       " 'Whichever one is gonna end up on my bedroom floor https://t.co/bIiXvxmwob',\n",
       " '@Friday13 @DarkSim7 @InvisibleJimBSH @iam8bit your mom was uncalled for.',\n",
       " '@PrisonPlanet Telemarketer did same to me called me a whore and said he would rape me. Nice.',\n",
       " '@V_bergs always extremely skeptical when these things first come out Call me sexist or whatever you want but sexual assault is a broad term',\n",
       " \"@EvrydayFeminism Sexism goes both ways. some advice: stop whining and use your man's money for things other than mini skirts #YesAllMen\",\n",
       " \"Rape and the sexual domination of women seems to be 'part and parcel' of the Muslim world. Just how big a piece of… https://t.co/UBC3Y0cJWq\",\n",
       " '@thegeek_chick What does the \".77 on the dollar\" figure describe?',\n",
       " \"@TupperwareBox you get to wear the cute shirts, so i'll call it even. :P\",\n",
       " 'RT @HarryIsaacJr: .@SexyIsntSexist #GamerGate Maybe people are saying the school system is failing, because the school system is failing. @…',\n",
       " \"@AnonHeel That's like saying that if I hate Naziism it is my mental problem.  Complete nonsense statement.\",\n",
       " '@fai3an_H Yes, I hate the religion of hate.',\n",
       " '#MKR no one wanted to put Lloyds meat balls in their mouth poor Lloyd 😭😭',\n",
       " '@AllisonMorris1 @johnfinucane Why could it not be spoken of? Seems odd',\n",
       " \"Mascarpone aaaand marscarpone sorbet??? How's this gonna work out!? #MKR\",\n",
       " \"Leo looks at Girl Scout cookies the way I look at pussy before I'm about to eat it https://t.co/nVY6iXLnNv\",\n",
       " '@AAlwuhaib1977 @dankmtl @PeaceNotHate_ The only time that bitch ever sees the inside of a church is when she brings supplies to Muslim ....',\n",
       " 'They starting to act and look like a couple of B grade hookers to me #MKR',\n",
       " \"This woman has some nerve. To even speak right now is beyond hysterical considering what's right around the corner… https://t.co/9CNbyBTgSG\",\n",
       " 'Me trying to flirt- I wanna eat your hot pocket',\n",
       " \"@anncoulter - right on the money as always! #MAGAAnn Coulter: Booker and Harris 'competing for Most Hysterical Woman'\",\n",
       " \"It would be really funny if they kicked out the 2 lowest teams as a surprise wouldn't it! 😉 #mkr #mkr2015\",\n",
       " 'wow did not see that coming #mkr',\n",
       " 'Johnny Castle loves always wet warm fuck hole of Rilynn Rae with tiny bottom and trimmed cunt https://t.co/K2XEWvdWhV',\n",
       " 'I like to blog about masculinity, fascism, alternative ideas, heres my next account',\n",
       " \"RT @ur_so_vanilla: Nikki &amp; Katie, didn't your 'love for boys' teach you that no two sausages are ever same? Especially Eastern European one…\",\n",
       " 'Katie &amp; Nikki going home? Now who will they have to constantly tell how pretty they think they are? #MKR',\n",
       " \"That's an abortion on a plate #mkr\",\n",
       " 'Those eggs were nowhere near ready. #mkr #hungrycampers',\n",
       " 'Lemme guess, the blondies stay, South Africans go.. #mkr',\n",
       " 'Spatchcock strut time #mkr',\n",
       " 'RT @Missy310588: Double drool! Colin and Manu 😻 #MKR @manufeildel @FourinHand @mykitchenrules',\n",
       " 'Sherie &amp; Emilie are @CarlyandTresne 2.0 #MKR',\n",
       " '@cptmashek uh. every dev makes mistakes.',\n",
       " '@randi_ebooks no one stops dogbot',\n",
       " 'lqq’s been gone for a minute and thank god bc i cannot stand him ‘YoU KiLlEd mY dAd’ bitch shut UP',\n",
       " 'I seriously think that \"to perfection\" has become my absolute least favourite phrase ever uttered in the history of humanity. #mkr',\n",
       " \"What's the difference between your bonus and your dick? You don't have to beg a woman to blow your bonus\",\n",
       " '@AnnCoulter Ann Coulter winning most hysterical woman WATCHING the Kavanaugh hearings.',\n",
       " '\"The legendary actor attributes his agility to \\'good genes and not getting hit by a bus.\\'\" https://t.co/Llxu5S1m57',\n",
       " \"@comattwow @ChubsSays ...it's not a negative or anti-you action.\",\n",
       " \"@asredasmyhair Isn't that their goal?\",\n",
       " '@DoWeWantTo @LMargolez Pedos.',\n",
       " \"I'm my only liability\",\n",
       " '@stubbornella eep. :(',\n",
       " '@WomenintheWorld @emilyslist @OnwardMarchDC erasing 58 prominent women and MILLIONS of female supporters to bitch about ONE man. 👏👏👏👏👏👏👏👏👏👏👏',\n",
       " 'They say home is where the heart is. But I got a hole where my heart is because I let a whore where my heart is',\n",
       " 'I have a few favourites #mkr',\n",
       " \"RT @cage_rusty: #BlameOneNotAll but don't walk home alone, don't get drunk, don't take naked pictures of yourself bc you're asking for trou…\",\n",
       " \"When you thought you'd try a little s &; m and now your ass hurts so bad you can hardly sit https://t.co/vt5rSwnRTx\",\n",
       " '@dgbattaglia Saw this this morning... http://t.co/9YUwOuZugw',\n",
       " '@__VictorLopez__ 200 lines of tequila driven perl. Good times.',\n",
       " \"And Moses said to the people 'Bitches Be Crazy.' ~Romans 10:13~\",\n",
       " \"Same cycle 'I'm so miserable now that she's gone' then 'she treated me like grabage, stupid skank' then 'I'm over it now' then repeat\",\n",
       " 'instead of telling young women to dress appropriately, teach young men to NOT rape, that NO means NO and to love accordingly. #MeToo',\n",
       " \"I should start a drinking game..  Everytime the girls compliment themselves skull. I wouldn't be in great shape tomz tho 😳 #MKR2015 #mkr\",\n",
       " '@Jack_Tracey It is yes but I can still bitch about it. Lol I really just would’ve loved to see a 2-2 ET game.',\n",
       " '@HelenaWayneBlog STFU with that stupid rape culture retardation.',\n",
       " '@MemberBerries pimp Butters 😂”do you understand what I am saying?”',\n",
       " '@BasicMountain I WILL CREATE A LITERAL WALL',\n",
       " '@mykitchenrules My Kitchen Rules\\u200b What do you think of the two teams facing Sudden Death on Monday? #mkr #suddendeath really intense but I',\n",
       " 'Poor Sheri and Emilie #mkr',\n",
       " \"Let's have some fun. Let me rape your wallet. You'll watch, stroke &amp; thank me for abusing you like a whore! #Findom #walletdrain #paypig\",\n",
       " 'seriously colin stop smiling/smirking. frowning looks better on you. #mkr',\n",
       " '@JulianAssange Julian, you are currently hiding in a cupboard to avoid a rape allegation or two....',\n",
       " 'RT @LynnMagic: sj2neo! Database queries as social justice ~\\n\\nhttp://t.co/tU2YOo9W3m http://t.co/aSJLYF5Gcd',\n",
       " '@ThorsProvoni @NafeezAhmed @MaxBlumenthal @Number10gov Okay,you had your chance.You are are race baiting POS and gone',\n",
       " 'I hope Kat breaks both of her ankles. #MKR',\n",
       " \"My uncle Vern said women get their peiods because it's the only way God could get rid of some of their evil #womenareevil #evilwomen!!\",\n",
       " '@sschinke that would imply he knew a programming language.',\n",
       " \"@Janela_X @TheEuroGirl @theSNP @NicolaSturgeon @AngusRobertson They won't. They support it from the top down!\\n\\nNasty nationalists\",\n",
       " 'So annoying. Kat &amp; Andre go home #MKR',\n",
       " \"Everyone else, despite our commentary, has fought hard too. It's not just you, Kat.  #mkr\",\n",
       " '@ellarosyy Right. But you know squat, so who cares...',\n",
       " \"@JWYoder i can't play this game drunk.\",\n",
       " '@JessicaValenti You spelt white wrong',\n",
       " '@DanielleDASH But the handmaids tale is such a cute aesthetic 😒\\n\\nNaw this is fuckiing chilling, thanks for bringing my attention',\n",
       " \"@VijayTrehan9 @Swamy39 Ask your mom, you son of filthhyy pimp. BTW how's your mom surviving in her Red Light District Area quarters\",\n",
       " 'RT @The_Eccles: \"We are losing our mum and dad..\"\\nWell don\\'t cry about it, when Bruce Wayne lost his parents he became Batman! #MKR',\n",
       " 'I’ve said it a million times and I’ll say it again, body dysmorphia is a SKANK',\n",
       " 'RT @The_Loki_Jotunn: @MT8_9 @JudgyBitch1 @judgybitch2 @BloomfieldJanet But how else can they defend their bigotry if not by censoring those…',\n",
       " 'These white racists are unqualified and were only hired because of affirmative action for whites, otherwise known as life.',\n",
       " '@Maureen6Johnson @NicolaSturgeon Absolutely.  Any normal teenage girl would be thinking of their favourite pop idol.  She was sitting in her room dreaming of breaking up the UK.',\n",
       " \"If you need a laugh or if you have '80HD' (You'll get that in a sec...), these are hysterical. https://t.co/ASoFljGF9s\",\n",
       " \"Says man who suggested an actress reported an historic rape to gain more work - you're a fully paid up cunt - https://t.co/ia9wKnM5Tm\",\n",
       " \"@cage_rusty @VickyChandler now isn't this a pretty turn of events. Yet you troll #BlameOneNotAll\",\n",
       " \"Stop tweeting about love. Youre like 16 stfu. You've probably never even seen a penis before #WomenSuck\",\n",
       " '@memneon @CCriadoPerez They can learn how to be a man (as long as the women they listen to are wise and kind and not hysterical egomaniac).',\n",
       " '@DRUDGE_REPORT Better vetting is all we asked for but the left went hysterical like a little girl in Barbie doll factory.',\n",
       " '.@ILivUndrUrBed  Anything but yourself.  Like EVERY feminist on Earth.',\n",
       " 'Won’t show no sympathy cuz it’s a dirty game',\n",
       " \"I've been called a son of a whore and a cunt today already. It's not even 1 yet\",\n",
       " '@oliviaspitfire @VirginActiveUK @EverydaySexism And how is that (what you\\'ve \"just witnessed\") sexist? So right now if a man of a different race parks too close to me and I (stupidly) lose my temper and shout at him to move away, does that make me racist?',\n",
       " \"Fuck you and your strategic unfair voting! Don't like either team but at least they weren't c*nts like Kat and Andre. So disappointed. #MKR\",\n",
       " 'RT @Oneiorosgrip: #adviceforyoungfeminists Use \"wasn\\'t me\" as a get out of responsibility free card for your movement. http://t.co/SFF00gEP…',\n",
       " '@LindaSuhler It wasnt a mistake-it is a more than appropriate and accurate description of those hysterical women.',\n",
       " 'My only goal in life is to fuck at least 1 follower from each social media platform... Twitter is the only 1 left... @themeredith your move',\n",
       " \"@AMohedin Again skipping what you don't like. It says that men are in charge of women and men are superior to women. http://t.co/5mAnQbibj1\",\n",
       " 'Actually Nikki really is quite good looking, wait till my shots hit the newstand! #mkr #photography #fashion',\n",
       " 'This world is Rotten.Rotten people should be killed off to cleanse this world \"Yagami Raito\" #OtakuQuote #L',\n",
       " 'Anyone for choc cake with White choc frosting #cake #chocolate #yum #mkr #masterchef #yum #getinmabelly https://t.co/QT7CjsbJCB',\n",
       " 'Emma Roberts?  #mkr',\n",
       " 'RT @mykitchenrules: What happens next??? 😱 #MKR',\n",
       " '@midhatkidwai @slavish @polysmind what is the name of the hole from where your shit?? dou you shit from your brain?… https://t.co/wWsASwAiH3',\n",
       " 'How can they get away with that. Kat &amp; Andre are cunts. #MKR',\n",
       " '@_DirtyTruths No, like the idiot leftist that you are, you believe that endless repetition constitutes truth.',\n",
       " 'IM THE BIGGEST WHORE FOR ICED COFFEE',\n",
       " \"Guess one of em isn't too bad ;) #mkr\",\n",
       " '“They told her they had this hysterical—because I was—hysterical girl on the end of the line that needed to see... https://t.co/7v6b6GnKne',\n",
       " \"@Abu_witness @abunaseeha2 ISIS just kills the civilians if they don't support ISIS or do what ISIS demands. So the Pesh are kind by compare.\",\n",
       " 'As soon as we cancel all holidays honoring men! @jvolk2 Im not sexist but can we stop making up holidays for women',\n",
       " 'Cory Booker and Kamala Harris competing for Most Hysterical Woman at the Kavanaugh hearings, Coulter hilariously tweeted.And yes, liberals immediately got triggered on Twitter, saying her joke was offensive. To them we say, suck it up, snowflakes.',\n",
       " \"A middle aged woman just shouted 'well done' at me while I was running so I guess I'll just go crawl in a hole and die now.\",\n",
       " 'Mmmm thinking about #MKR maybe I could start to see an addiction forming #ILoveFood #Delicious #Foodie',\n",
       " '@jessicamales96 Yeah, but the USA is not one of those places. So feel free to be a Feminazi somewhere else.',\n",
       " 'i’ve been rocking the camel toe all day https://t.co/nlzETwhumK',\n",
       " \"I apologise on behalf of my generation for Nikki and Katie. We aren't all so vapid. #MKR #NikkiandKatie\",\n",
       " \"@MrJackalstalks @LemmonTeaGG Me, too.  Oddly, Anita has not... I'm a bit insulted...\",\n",
       " 'RT @syazlicious: The truth behind another elimination round...to get rid of #cuntandandre #mkr',\n",
       " 'Kat and Andre are seriously shit people #MKR #mkr2015',\n",
       " '@I0I0IOO0 @Anjuna97077864 @AllisonMorris1 Definitely.. I’d say his hard drive is worth a look.. doth protest too much Padraig..',\n",
       " '@davidsgallant yup!',\n",
       " '@fuck________off my age but wishes she was younger',\n",
       " \"Is it lost on most #QuestionsForMen was essentially Ford's way of exempting her schlocky clickbait from criticism? http://t.co/29pgEhzUQT\",\n",
       " 'RT @Bearable_Baloo: Tough talk from behind a 10K+ blocklist, @leighalexander. https://t.co/BuCTeimFL2 http://t.co/BdD6pe0mVD',\n",
       " \"@Ammaawah @jm111t Come on Ammarrah, have some pride and dignity.  Believe in yourself.  Don't let Islam make you inferior.\",\n",
       " \"No, they only speak up to tell women 'Not me, not all men, don't generalized us, I have never abused any woman' https://t.co/rZoi5QYokP\",\n",
       " '\"Your sausage was a little bit short\" bet Colin\\'s been told that before #MKR',\n",
       " \"@LynnMagic right? i don't even have tattoos and now i want one.\",\n",
       " \"Because running the world is harder than you'd think. #YesAllMen\",\n",
       " 'this the last straw w this bitch. i’m sick of the bs. stay out my life 😂',\n",
       " '@Steve_Mac112 @NicolaSturgeon Scottish and proud ?? Aye right mate 😂',\n",
       " '@JWYoder ouch.',\n",
       " 'RT @hyperion5182: @freebsdgirl @PolitiBunny Oh you have no idea what its like to be set upon by the #BunnyArmy you really want to see that …',\n",
       " \"263 miles... When I get home, I'm watching twister. http://t.co/ZrMmH6EeEG\",\n",
       " '@AMohedin Being strong physically does not mean strong mentally. The verse clearly says that a husband can force his will on a wife.',\n",
       " 'I\\'ve been playing the \"sass\" word drinking game and I\\'ve managed to deconstruct myself #MKR',\n",
       " '\"I don\\'t want waiting....\" BWAHAHAHA #mkr',\n",
       " 'Annie and Lloyd shocked by Kat and andre http://t.co/UHVJqLA4ap glad those two r Australias #mkr villains, I HATE kat',\n",
       " '@semzyxx @NAInfidels @owais00 The Hadith are real bitch.  I invite anyone to look them up anywhere and prove you are the liar.',\n",
       " '@halalcunty @biebervalue @liamxkiwi @halalflaws Female slavery in Saudi. http://t.co/fcZ8We5Cso',\n",
       " \"@BBCandrewkerr @NicolaSturgeon First sentence doesn't even make sense.\\n\\nIs it Rees-Mogg that can't speak English or have you paraphrased him incorrectly?\",\n",
       " 'That moment when you wanna go crawl in a hole and stay down there forever #rightnow #FridayThe13th #curbsarenotmyfriend',\n",
       " 'Men ( not all men ) should realize that women are on their job to work and not be taken for some s. e. x. Toy. https://t.co/OgBaeCZt1p',\n",
       " 'Tonight on Nikki knows....how to be eliminated on #mkr',\n",
       " 'Kat might as well go home now since she has no chance of beating the other teams #mkr',\n",
       " 'Rape is not a synonym for \"treated unfairly\" or \"defeated,\" @Samklein28.@Warnkemg got raped by his phone',\n",
       " '@S_Elhussieny you, yes you, are the one who planted them to victimize yourself #feminazi 😂😂😂',\n",
       " \"Omg. Its okay girls!!! Don't stop cooking!! #killerblondes #mkr #goodnight everybody!!! Ill be here all year xx\\nM A D A M\",\n",
       " \"Are you kidding me? These girls on #MKR didn't cook their own tomatoes or peppers?!?\",\n",
       " 'RT @nihonmama: \"women should let the boys have their social media, while they save the world.” ~@wadhwa\\n\\nEnough said.\\n\\nThanks @ameliagree…',\n",
       " '@bIueperiod That’s annoying. Not all men are the same and not all women are. Whatever works for two consenting adul… https://t.co/Yu2ibbAVTZ',\n",
       " 'RT @PatrickMurphy75: @TeamSkyNick the Belgium blonde near the end was a great spot',\n",
       " \"#mkr where's the bloody marys?!\",\n",
       " '@LindseyGrahamSC I have watched you talk out of both sides of your mouth for months now. We see you. Nothing but a greedy fame whore.',\n",
       " 'Cringing every time I see Kat &amp; Andre #mkr',\n",
       " '@DUALIPA @AmnestyUK You are just a dirty mercenary and a political prostitute, do not infringe your borders, Saudi Arabia is a red line, and we will pursue you legally everywhere\\nhttps://t.co/ZJYhmr8A9w',\n",
       " \"http://t.co/6n4V9kBtya See the monthly post, that highlights men of action. Men's rights are here! #CallMeCam #MenRights #shrewculture\",\n",
       " '#WomensMarch collected hundreds of hysterical women to display their best hysteria upon cue during Sen Hearing - sounds like a try out for a TV show',\n",
       " '@mattfahrner @JessicaValenti But i like to imagine AOC shouting in some 300 lb dude\\'s face, \"I will kick your ass, watch if I don\\'t.\"',\n",
       " 'These hysterical women would benefit from listening to @DennisPrager. Women should learn to control their emotional, irrational female side the way men have learned to control their aggressive, sexual nature. Men are quite obviously the more evolved of the sexes in this regard.',\n",
       " 'Pocky 4ever. http://t.co/Sah8xed05T',\n",
       " 'When your girl tryna be slick and get the password to your phone https://t.co/CdJdo1ZmM6',\n",
       " 'charli: fuck you bitch charli: omg why am i so extra wjahjaaj',\n",
       " 'Trying to find something pretty about these blonde idiots.#MKR',\n",
       " \"@feministlah This is the tag's founder... http://t.co/FRGiq2MN1g\",\n",
       " \"@aspann91 @GrahamAllen_1 @B1_4Change @AOC Hate crimes are up 56% thanks to liberals who can't accept they LOST! If not for liberals we would be living in a peaceful world. These are the days of the #LiberalMeltdown #LiberalismIsAMentalDisorder\",\n",
       " 'Lovely that apparently Twitter has a problem with the word CUNT or they just didn’t appreciate real Islamic information. Murder and Rape',\n",
       " \"@Transic_nyc With luck, she'll be a stylist...\",\n",
       " '@BlackGirlDanger they are all pretty much synonyms. cigarette, pencil, skinny, etc.',\n",
       " \"@DCpierson Feminazi Activia: When you want to shit all over everyone's freedom and entertainment.\",\n",
       " '@MagicaHalfNegro Ty Davis did you just Not All Men me',\n",
       " 'Foreign car swerving pot holes bad bitch she from chicago',\n",
       " \"@GlennF @ChrisWarcraft lyons is just one of those people i hope i never encounter. i'm not violent but i have a good death glare.\",\n",
       " \"I can't even watch my kitchen rules without cringing at these girls #MKR\",\n",
       " 'Both are dopes, who cares who wins the \"Most Hysterical Women\" award? Give it both they both worked hard for it and they both deserve it.',\n",
       " '@ControlsRcw That’s a dirty and expensive mistake.',\n",
       " \"The only thing that's churning is my stomach. At the thought of you two girls. Vom. #MKR #MKR2015\",\n",
       " '@KhaledHamaki Where did he say that?',\n",
       " 'RIP fat Jonah Hill #ShitWomenDontSay #WomenSuck',\n",
       " \"i just made a you're/your grammar mistake omg stop drinking randi\",\n",
       " '@Bahai144 How do Assad and Boko justify ISIS? More idiots logic.',\n",
       " \"@ktonieskacze @Femitheist Agreed. Thoughtful. Every once in a while an old tweet of mine lumping her Poe in w Gearheart is RT'ed. I cringe.\",\n",
       " 'I see you use social media. @cmsteele96 I want all social media sites to go down for a week just to see how the girls react. #notsexist',\n",
       " '@snarkyRedhd anyone *can* block IP addresses. it seems a fairly unwise thing to do, given NAT and dynamic IPs.',\n",
       " '@StuPolitics Does this @EverydaySexism make my mouth look big?',\n",
       " 'Plastic surgeon- what can I do for you, Khloe? Khloe- just make me less ugly Plastic surgeon- say no more, fam https://t.co/MaCLGFw5Mf',\n",
       " '@TrissyGang For once a bitch made the bus lol',\n",
       " '@CheckItCool @CriticalKaiju U realize QuestionsForMen existed before Ford started posting snide crap in it, right? http://t.co/EaKt1gODFy',\n",
       " \"C'mon Annie and Loyd you can do it!!!! #mkr hey Dad, Mom, and Lisa\",\n",
       " '#KillerBlondes? Food so shit it killed all the other contestants? #MKR',\n",
       " \"RT @misa_lisaa: @Yourfuckboy1 your drunk Q&;A's on snapchat are entertaining af.\",\n",
       " 'What a riveting little lesson in walking the catwalk. Thanks ladies #MKR',\n",
       " 'someone please tell me that Kat &amp; Andre get sent home tonight #mkr',\n",
       " \"@piggys90210 @CensoredC1 @wilsondk5 @AOC The left can't meme.\",\n",
       " '@SethMacFarlane just started #TheOrville, glad you got the bro dick jokes out the way early because it has become the series we need. Bravo',\n",
       " \"We can't have a woman in the White House. What if she starts PMSing and drops bombs everywhere?/\",\n",
       " \"Tw: I keep waking up to new women coming forward about their assaults. Does it matter if it's 'not all men' if it is all women?\",\n",
       " 'RT @The_Loki_Jotunn: @MT8_9 Least we not forget the suffragettes handing out white feathers during WW1 @TonyChiaroscuro @SexyIsntSexist htt…',\n",
       " 'RT @Noaaammmyyy: @YesYouresexist @EverydaySexism excellent short film by Eleonore Pourriat - everyday sexism to a man http://t.co/MpxBuaZc9…',\n",
       " '@comattwow @sweharris look dude, i want to be nice to you, but FUCK OFF. you got harassed by a spam bot. leave me alone.',\n",
       " '@SbBarclay @NicolaSturgeon Are you hearing voices too?',\n",
       " '@AOC I agree.',\n",
       " \"Darlington Rape Verdict: Attacker with hatred of women who described England as a 'bitch country' https://t.co/NgZi7Swttv\",\n",
       " '@AnnCoulter Ann:Including Sen. Cory Booker as part of your \"Most Hysterical Woman\"?? Come on now, you cn do better than that. This is so beneath your intellectual acumen and although I disagree with most of what you say, come up with something more origin',\n",
       " 'Karma will get you Kat u kunt #mkr',\n",
       " 'RT @sports2inflatio: @soundscaper fathers are disposable, remember that. #adviceforyoungfeminists http://t.co/pEcDM6BHpg',\n",
       " 'Katie and Nikki go down. Maybe not well. But down none the less.\\n#mkr',\n",
       " '@techgirlwonder @IdahoEv yup! People should be able to do whichever they want.',\n",
       " 'Thank you #Pac12AfterDark #MTN8Final #BMFConference2017 Johann van Graan chile con la ram https://t.co/tsegV7s8pD',\n",
       " '@ericaeckes I would vote for you',\n",
       " \"@discerningmumin No, they aren't.\",\n",
       " '@ABC What a liar - get the story I paid him $380k after the fact because he attacked me. What a skank and so is every woman who looks the other way on this story because of the greater good.',\n",
       " '@polNewsInfinity Dont forget: in event of a woman accusing men of rape;under sharia you just dig a hole, tie her hands, put her in hole, stone her to death',\n",
       " \"The 'I'm such a feminist' niggas will 'Not all men' you to death. LMAO\",\n",
       " '@Monkfights @incredibleindia @PMOIndia @ttindia @ANI @CSIR_IND If you really believe that #FeminismIsCancer, maybe… https://t.co/oSeFm3NkKR',\n",
       " \"@BjCruickshank @Sharonwifey Well, I hope @NicolaSturgeon acts now... can't wait any longer\",\n",
       " 'nbs stfu hoe ik bout you',\n",
       " 'And the oxygen masks fall down from the ceiling #mkr',\n",
       " '@PennyRed A bit of consistency from the left regarding rape would be helpful. You lot only care when it’s white middle class types vs the patriarchy.',\n",
       " '@NancyPelosi I can take the heat, thats why l stay in the kitchen.You cant deny she is a woman with no fear who speaks truth to power without hesitation. She may be older and not your cup of tea, but she fights for love of country over politics.',\n",
       " '#MKR Lloyd likes some thick juicy pork, poor Annie',\n",
       " 'Facebook post on giving anti-harassment talk at #GirlDevWeek. How can something be both ironic and apropos? http://t.co/AuD0rqnyrz',\n",
       " 'Gordie is Making sure his buddy goes to sleep ok! #Gord #allElbows #someWhiskers #cat #coon http://t.co/TpSbprVWGG',\n",
       " '@RejectRaine @willberthelot Legally in a Western nation?',\n",
       " \"@LADFLEG @jandraderocha Although if you slag Muslims off ..you're probably get a knock at the door\",\n",
       " 'Brown Nose Nikki, You were silent when Donnie talked about his PUSSY GRABBING, You were silent when he call black countries SHIT HOLES, you were silent when he spewed his RACIST VITRIOL, you were silent about CHARLOTTSVILLE. I can go on and on....SO STFU!',\n",
       " \"RT @taxo__: When it's Friday &; you're feeling kinda Thugish💂🏼 https://t.co/iCJJNtfnYb\",\n",
       " 'Finally, an Egyptian broadcaster says what the Politically correct American and European left refuse to say. http://t.co/NzEVQaoAPv #Islam',\n",
       " \"Thank you, uncle, brother, male cousin, father, male friend ... random MAN, for not doing what you weren't supposed to do. #BlameOneNotAll\",\n",
       " 'Irony is dead @debayan_CFC We all get bored of women. They stop making sense after sometime. Especially the talking part. #NotSexist',\n",
       " 'RT @DisgruntleGamer: @JustLaurenB @grybranix @MT8_9 @clitbabe @JulianDavis @Synthovine In Canada 10-18% of us are not fathered by the man w…',\n",
       " 'SF Dyke March &amp; Rally 2019 | Dolores Park   Saturday, June 29 – All Day |    Cost: FREE | Dolores Park',\n",
       " 'Katie is all sASS   #MKR',\n",
       " \"@XanozIchimonji People obviously don't remember mr. Socko, a finisher that was literally putting a dirty sock puppet in his opponents mouth https://t.co/Fl11vamtuG\",\n",
       " \"Let me make this super fucking clear. I will not compromise my beliefs in any way just to get donations. That isn't happening, ever.\",\n",
       " '@SirLoinDeBoeuf Not all men. You are all driven by the same lusts women are, some just persue those lusts differently 😏',\n",
       " 'Those chicken livers look massive. Did they come from foghorn leghorn? #MKR',\n",
       " 'RT @shanley: The message is clear: This target *WILL* be left COMPLETELY ISOLATED as we torture, terrorize and abuse them with impunity... …',\n",
       " 'Just started a new char and she came with pink armor. Glorious. http://t.co/BVfjNSh3K7',\n",
       " 'RT @KateFoxy: Kat and Andre can fuck right off. #MKR',\n",
       " \"@KoriganStone @SwiftOnSecurity there is not a story that can't be told using taylor swift gifs.\",\n",
       " '@OKPaulista @VickyChandler yet you claim #BlameOneNotAll but are ok blaming people not even there. Massive hypocrisy.',\n",
       " '@Snowgordon gotta pay the bills bruh',\n",
       " '@Ron4VA If you support someone who bragged about grabbing women by the pussy and being able to shoot someone in the middle of 5th Avenue without losing a vote, you can kindly STFU about uplifting discourse.',\n",
       " \"Its not the only thing she's done a lot of I'm guessing  #mkr\",\n",
       " \"@SirajZarook @BilalIGhumman @OdiniaInvictus @IsraeliRegime A. I don't have a faith. B. Your tweet is incoherent.\",\n",
       " '#MKR Spotted sound guy *drinks*',\n",
       " 'Life is to short to not dress like every day is a party. http://t.co/3Z4mpovzTK',\n",
       " '@AnnCoulter Ann you are the funniest. I think Corey B. Is the most hysterical woman in the hearing, for sure.',\n",
       " 'Joe is looking hopeful. #MKR',\n",
       " '@JessicaValenti @PadmaLakshmi That is disgraceful.',\n",
       " 'Ah lol Colin....#MKR http://t.co/yPl75FxggC',\n",
       " \"How did the medical community come up with the term 'PMS'? 'Mad Cow Disease' was already taken.\",\n",
       " 'Wow!!! Good on you Ash and Camila! I feel like these guys are good humans who just take the mic now and then #MKR',\n",
       " 'Deconstructed a Lemon Curd or was it turd.... #MKR',\n",
       " \"When your best friend asks you where's a good place to hide a body https://t.co/515SZV8khs\",\n",
       " 'This stupid dick head didn’t say thank you when I held the door for him going into 7/11 so I pulled that shit close in his face when I left',\n",
       " \"RT @ChrisWarcraft: And let me be clear - OAPI may have been catalyzed into existence by #Gamergate, but it's addressing a problem affecting…\",\n",
       " \"@DaniDaniDaniii1 with spinich - who doesn't love spinich! #mkr\",\n",
       " 'RT @AlejandroDaGr8: So you basically arrested the female Liam Neeson. Goddamn Colombiana. SALT. And lived? Seems legit.',\n",
       " '@thehill Corky BOoger is hands down the most hysterical woman of the bunch, he wins',\n",
       " '@NurayDuran They will say anything to get the bombing to stop.',\n",
       " \"When they tell you 'just be yourself' so you show them what a piece of shit you really are...\",\n",
       " '@ibnHlophe @eeviewonders @CTFleaMarkets You are lying. http://t.co/bubv6WkQzr',\n",
       " '@UnburntWitch Your industry? You’re a hack writer and a con artist.',\n",
       " '@UnburntWitch Fall for what? Hoaxedabout what? What exactly is it that you’re using to justify violent assault?',\n",
       " 'RT @StephenAtWar: @freebsdgirl\\n\\nAnd Origin can join it.',\n",
       " \"Aaaawwwwwww! How I've missed Annie!!!!!! She always makes me smile :) #mkr\",\n",
       " '@NUBionicwoman Is it wrong to argue by implying the other person cannot get laid?',\n",
       " '@TruthsJustice @johnnygjokaj @BilalIGhumman @98Halima @cdnKhadija @rfrankh53 Another conspiracy theory idiot with no data.',\n",
       " '@pattonoswalt Going to be where no one will leave the house or even look at a woman because she will claim “rape”.… https://t.co/gyhAbEtqSA',\n",
       " '@LarryWest42 mostly joan jett lyrics.',\n",
       " '@AllisonMorris1 @Deborah_utv Be glad its not glitter 😱',\n",
       " '@irish_news @AllisonMorris1 I suppose like yourself Allison he does not want his dirty laundry washed in public, should we just assume this is the ugly side of Journalism. Or do you want to Publicly challenge these claims? I will keep an openmind until I read your article.\\nhttps://t.co/xzCVj64IXp',\n",
       " '@_toriiclarkee Too bad you have to be a skank in order to stay relevant',\n",
       " 'jfc get out of open source you toolbag',\n",
       " \"#cuntandandre unlike MH370, I can't wait to see you crash and burn. #mkr\",\n",
       " '@eguevara2012 \"Obviously this and that\" without a shred of evidence for any of it.  This is just meat for conspiracy theory lunatics.',\n",
       " \"You don't go to parties with your significant other... You go to parties to try and get other peoples significant others #WomenSuck\",\n",
       " \"It's #Trumpianity. Rape, pillage, and steal but as long as you say #MerryChristmas it's ok. https://t.co/mK3AuORzjn\",\n",
       " 'nothing worse than a raw cock....oh wait....#MKR',\n",
       " \"RT @Wibbys: Well I've had 2 spewers In my cab in 2 days, not sexist but both time girls, my guess they don't eat b4 they drink joys of a ca…\",\n",
       " '@UnburntWitch I definitely bookmarked this',\n",
       " '@lilbeastunleash I know right, just shoot them all get it out of the way #MKR #bored',\n",
       " \"RT @KWRose: .@RE_invent_ED and I are safe. We are outside hiding behind the concrete. Officer is bleeding badly. But I'm not posting unedit…\",\n",
       " '#mkr NOOOOO!!! I wanted Kat and Andre to lose!!!',\n",
       " '@ananavarro You people are hysterical. Dow up 26% since election!',\n",
       " 'Sucked in Kat and Andre you should be embarrassed not just with your food but your behavior #karmaisabitch @mykitchenrules #mkr',\n",
       " 'RT @AlMartin2000: @Jackbarnesmra @AVoiceForMen @girlwriteswhat @JustLaurenB @BlackBeard20096 @MT8_9  Da womenz.. dey be sooo oppwessed! htt…',\n",
       " '@Spangnation Her continued production of carbon dioxide.',\n",
       " 'Dehydrated vaginas - I mean pears - for breakfast. http://t.co/JTRMHHTMTj',\n",
       " 'Feeling a whole lot of gozleme pain for Sherri &amp; Em #MKR',\n",
       " '@drimranqamar She is lying.',\n",
       " \"News flash: It's not for you. @_REDDY71 A word to all the ladies in very short skirts or shorts this summer - 'Thanks'. #NotSexist #Grateful\",\n",
       " \"Still baffles me that Baylor's football team can rape women w literally everyone knowing (including the police) and nothing is done abt it\",\n",
       " 'I wonder who the first person to think of a sewage system was... I mean there must have been shit everywhere',\n",
       " 'Women bleed so much because God realized he made a mistake and is trying to kill them. Right|',\n",
       " 'RT @glassresistor: @thereaIbanksy @freebsdgirl first its triggering, second its an inaccurate portrayal of partner violence, third its tacky',\n",
       " '\"I thought you had the trolley mate!\" \"I\\'m crossing off the list mate!\" Hahaha gotta love Jac and Shaz! #mkr',\n",
       " '@quietrightly What do you mean by that you cunt? My English is perfect! 😊',\n",
       " 'I want to see the butchered girls go up against the Texan (who has male sass) and his daughter (who is actually good looking) #MKR',\n",
       " '@Suppose_Not @DoeringNorman @JustLaurenB Good call.',\n",
       " 'Lets go down the Slate rabbit hole: Christina Cauterucci is a woman who seems to think men FALSELY accused of rape… https://t.co/XikXpQAVsd',\n",
       " '@CassandraYoung Name that state.',\n",
       " \"Idk why people tell me their problems... All I do is repeatedly ask 'why' like a 4 year old that's not getting his way... Then I laugh\",\n",
       " 'Four or for?\\nFour!!!  A golf term...\\nYou might be killed!\\nFor!!!\\nYou might get killed!\\n\\nNot much difference',\n",
       " '@dgbattaglia Impossible usually.',\n",
       " 'Adrian Lee, Co-Founder of Drive.SG http://t.co/5NArmtw3rv #asian #entrepreneur #entrepreneurship #RentCar #online #business @LaingCallum',\n",
       " 'RT @ItalyGG: The average anti-#gamergate \"man\"; pretending to protect women\\'s rights as a last resort attempt to lose virginity. http://t.c…',\n",
       " 'Comments @NicolaSturgeon  please! https://t.co/Vzb4QJHH4I',\n",
       " 'boyfriends are like cats, you spend ETERNITY scratching their back, &amp; when you stop they give you a dirty look 😂',\n",
       " 'More like deconstructed lemon fart amirite #MKR',\n",
       " '@Shjade @scalzi they are what it sounds like. very deep/rich colors that resemble jewels. :)',\n",
       " '@halalflaws @AMohedin @islamdefense @haroonstyles @greenlinerzjm It says women must stay at home and not display themselves.',\n",
       " \"RT @thisonesakillaa: You could think of the worst possible idea ever, and it's still wouldn't be as bad as this one. http://t.co/hWPbTLjnS4\",\n",
       " \"@zebrahdh @nytimes Well that's a personal problem and obv not all men do it. Women abuse power as well. Not a defense.. just a fact.\",\n",
       " 'RT @Mudar_Zahran: How will we Arabs ever get to know freedom when half of our societies, women, are not free?',\n",
       " '@janielcv @JonahMarais Well duh I made the gc you a hole',\n",
       " 'Getting ready to kill stuff with my teammates! #selfie #warlords http://t.co/TyEhfh3V0S',\n",
       " \"@britain_scott @thomasmcdade1 @s26rts_stuart @Pink @NicolaSturgeon I've never felt like that when in England I find it like anywhere u go they're really nice honest people who are lovely and then u have a small bunch that are arseholes and give places bad names\",\n",
       " '@LabourNorthWest @UKLabour @Y_FovargueMP @JulieForBurnley Ah the feminazi battle bus invading a town near you soon!',\n",
       " '@boxedariel Where is your knowledge of feminism derived?',\n",
       " 'I don’t care how nice your car is or how much it cost see if youve to go over the speed ramp at 2mph your a cunt an your car is a piece of shit',\n",
       " \"@a_man_in_black WELL ACTUALLY I'm kiiiiiiiinda a rainbow haired expert.\",\n",
       " '@UnburntWitch so this is ok ?   really need to have a real think before you comment https://t.co/6hNpjwnd22 https://t.co/wjZnUz9Eli',\n",
       " \"@colinfassnidge you've lost yr credibility- 7 for that junk main? Marking models soft after acting tough so long? Poor show #MKR #sellingout\",\n",
       " 'Who would have thought, gracious winners (not) #MKR',\n",
       " '@mykitchenrules Kat be humiliated from your attitude.. Not your cooking. #MKR',\n",
       " '@PaulBalbas 2 hours',\n",
       " \"Jumping from guy to guy isn't funny or cute. It's mean. Men are human beings not pieces of meat and we deserve respect #WomenSuck\",\n",
       " '#mkr they have no shame!',\n",
       " 'Is there an #MKR anonymous?',\n",
       " 'Throwback to when vivek offered to show me around SU to shut me up. https://t.co/DoMBsoijp3',\n",
       " \"It's #mkr Survivor. Immunity idols have been issued\",\n",
       " '@adrn_ls @JessicaValenti #affluenza my question to the judge would be,”How do you know that the Rapist’s VICTIM doesn’t have even greater potential than the RAPIST?”',\n",
       " '@SamHarveyA Google \"false equivalence\" and commit to memory.',\n",
       " \"@Kateco @macohibs @NicolaSturgeon I'm not running away from arguments, we all know you can't speak sense to a bunch of idiots, whose opinions don't even matter as they are the minority of not just the population, but of feminists. You're too entrenched in your echo chamber for me to care to debate you.\",\n",
       " '\"Someone is going home. Absolutely. It\\'s in the production notes and is the premise of \"elimination round.\"\"\\n#MKR',\n",
       " '@Wordy_Librarian @SFtheWolf &gt;.&gt; i did a CW.',\n",
       " 'anytime i notice im blocked on here i know yall dyke made yall do it.',\n",
       " \"me @ ppl who continue to reply to anti -harassment posts w/ 'but not ALL men are like this': 'so did you get the point of the post or nah'\",\n",
       " 'When your Jewish friend tells you what she gave up for Lent... https://t.co/tQx7k6uTDz',\n",
       " \"@theMirai @gigagiga333 You can't just generalize. You feminazi's wanna generalize when it suits you but get special treatments individually\",\n",
       " '@BlackOpal80 People assume she saw my avi/name &amp; blocked.  Nope, blocked by her before I knew who she was. Fems use a block list. So...',\n",
       " '@cpyne you are a KUNT https://t.co/S9WtCv7nA1',\n",
       " \"@ErikaLopezDurel Bad seeds grow weeds.  Must be rooted out first or else you'd foundation cracks.\",\n",
       " 'A deconstructed tart is a biscuit and dip #Mkr',\n",
       " 'Why does Pete Evans get to decide what breakfast food is? #mkr',\n",
       " '@1Lovee_GiAna Not ALL men. I know some great men. Unfortunately we just got frogs instead of kings. If you need to… https://t.co/4UrjatyL66',\n",
       " '@UseUrTongue Get help.  Seriously.',\n",
       " '#mkr Katie &amp; Nikki are atrocities, but Kat &amp; Andre would be the ones leaving if they had scored the promoskanks fairly. Kat has no dignity.',\n",
       " \"Aww so sad goodbye Lynn &amp; Tony wish you made it through don't give up your amazing and so lovely #mkr #MKR2015\",\n",
       " 'What @AAMTheRealKB3 did was the YT equivalent of a woman making false rape claims. He fucked over any real doxxing victims in the future.',\n",
       " \"@NewYorkFBI How many more women 'FBI 'sir have to report rape by 'Harvey Weinstein ' before you arrest him. 33 women are not enough for you\",\n",
       " '@alistair1403 @GlennBBC @theSNP @NicolaSturgeon @theresa_may Fantastic point but erm looks look at facts...So post 2014....you mean the general election in 2017 where the snp lost 13.1% of their vote from the previous election and the scottish conservatives gained 13.7% in the same election...',\n",
       " '@GreggsOfficial I don’t know how you have the audacity to charge extra to eat in, the place is a shit hole #WestwoodCross thanet',\n",
       " '@RodBoydILM Moynihan was hysterical after a few cocktails. The crook to character ratio is all out of whack. You se… https://t.co/Kke5WiMmAw',\n",
       " 'Tarts for tarts ;) #mkr #mykitchenrules',\n",
       " '@AllisonMorris1 @gendo01 @irish_news Sorry, I only get the free articles lol',\n",
       " '@DifoolJohn @ElizabethHobso6 Then I have no idea.',\n",
       " 'Would put those four in a octagon cage tag team cook off  lmao #mkr #mkr2015 http://t.co/BoyayKGtp1',\n",
       " '@MGTOWKnight @FactsVsOpinion ...cue the NAFALT in 3..2...1...',\n",
       " '@Idubbbz Can you incorporate “hey, that’s pretty good” on your next video? ... Kunt ❤️',\n",
       " 'going well guys! #mkr @mykitchenrules',\n",
       " 'RT @JohnCesters: Did you know that In comparison to lean cuts of beef, game meat has about 1/3 fewer calories? #prahranmarket #chicken #MKR',\n",
       " '@PMOIndia @narendramodi You are todays saibaba,lord krishna,god ram plz help me or i will commit suicide',\n",
       " '@SfordUponAvon equal opportunity #sexsells #MKR',\n",
       " \"DFUJIOLADFSHJIOfdy808y*(!@#$hO;IFVCGDHNDASHIGFODSA' http://t.co/USop7dCoSS\",\n",
       " '@caprine no, just normal WoD expansion leveling. end of frostfire ridge quest chain for horde.',\n",
       " 'Most people want to be loved... But I thrive on being hated',\n",
       " \"I expected to have angry Feminazi's in my mentions when I returned lol\",\n",
       " \"Notice we didn't see Kat and Andre in any of those cut aways?  #mkr\",\n",
       " '@rgay MY understanding is free speech means there should never be any consequences when you say revolting things so, check MATE feminazi',\n",
       " \"It's come to the point to where, when I see the word 'all' it pisses me off because NOT ALL MEN AMD WOMEN ARE THE SAME.\",\n",
       " '@MaddyBaylor Hey @BristolBen please translate this nonsensical nonanswer if you can...TY. @FutureFeminism',\n",
       " 'Up next, a series of \"positive\" tweets about women from @mshaysoul',\n",
       " 'Even if i didnt like their food.. id score them an 8 just because i hate kat and andre. #mkr #strategic',\n",
       " '@PIMPNITEYT @DmgChris @Woodsyy_ ty for the charizard pimp i mean really thank you sadly i was too late for the marshadow haha i mean really man ty :)',\n",
       " '@Taurmaurils I need to find a tiny little house pref with hardwood floors, needs a small yard, parking. &lt;1400.',\n",
       " 'RT @hollowmaniac: Indian woman (27) who burned husband to death after luring him into a bathtub for massage found NOT GUILTY of capital mur…',\n",
       " 'RT @fabfeminism: #BlameOneNotAll Another problem with this campaign is that it gives the illusion that men should be rewarded for basic hum…',\n",
       " 'The next message you need is always right where you are ~ Ram Dass #Intuition',\n",
       " \"RT @itskieren: If Kat and Andre survive, I'll be spewing #MKR\",\n",
       " \"@CatsandCatts I never would've guessed\",\n",
       " \"RT @jenniferkateFPS: @MT8_9 I love this b/c I am also a scientist working with men w/ more education &amp; experience, yet I haven't experience…\",\n",
       " '@RampaigerA79 @Gigglemittens @nomuru2d @mjanetmars @JamieAgathaRose @Chartoc being a washed up feminazi with no connections doesnt help',\n",
       " 'No consistency in the scoring. Woeful. #mkr',\n",
       " 'My ebooks collection is getting too big. Have tech + design books on fire, splitting azw books &amp; other books on paperwhite/voyager',\n",
       " \"If I ask you how many men you slept with and you actually know, you're not the girl for me\",\n",
       " '@JessicaValenti Same in Ireland. All these rapists seem to come from ‘good families’ and we don’t them upset. Our judiciary is deeply misogynistic and class ridden.',\n",
       " 'All the people asking me about IGN - see LRT.',\n",
       " '@UnburntWitch you\\'ll go as far as to say he knew what he was doing. So when I go to a con, and there\\'s scantly clad women around, and I rape them, I can use the same defence right? \"She knew what she was doing\" no of fucking course I can\\'t. Because it wouldn\\'t be her fault. Just like this',\n",
       " '@_scott13_ @KatrinaGilles20 @fran_and5 @NicolaSturgeon She wasn’t there, it was her “friend” 🤥🤥🤥🤥🤥🤥',\n",
       " \"@RealCandaceO @AOC @AOC is a propaganda tool that's useless. Hopefully her district wakes up and votes her out. She will destroy America. Takes jobs away, fake phot ops, lies, and tries to keep children sleeping on the floor.\",\n",
       " 'Cunt of the year qualifier. Blocked the path. A woman with a six month old kid in a pram had to walk in the road with traffic because of him https://t.co/kkcZ3EL28f',\n",
       " \"@SpiritOfTroi @Snugglekins76 @KTMSays @RichTD5 @stephenfry @EverydaySexism I agree this is wrong and outrageous, I think rapists should be punished harshly and sympathise with anyone who has been assaulted - I don't see how publicly naming people before they have been charged with a crime helps anyone though.\",\n",
       " '@KrishnablueNine @Royal__Reporter @NicolaSturgeon Hear! Hear!',\n",
       " '.@JenLawliet @SwitchManZZZ Actually, I explained nothing.  I asked YOU to think for YOURSELF and answer a question... http://t.co/AB9iGgTZPh',\n",
       " 'Why are @ClydeSSB saying nothing about it ? Is @HumzaYousaf @glasgowcathcart @NicolaSturgeon all helping to try cover it up ? Why are you stopping lower than a snakes belly to help the cover up .. you want PR .. welcome to social media',\n",
       " '@haroonstyles @halalflaws @biebervalue @greenlinerzjm Tell me what your Quran 33:33 says.',\n",
       " 'Have redis db cluster analyzing abuse patterns.\\nDedicated my career to anti-abuse.\\nIn NYT, New Scientist.\\nDudes w/no exp: \"you\\'re wrong\".',\n",
       " '@anjemchoudary If that is true, why are you not joining ISIS, coward.',\n",
       " '@SumbelinaZ @IronmanL1 @Hatewatch Yeah, bitch, they did this. http://t.co/TAy4HpdRh5',\n",
       " 'You have the paddle upside down in the ice cream machine! #mkr',\n",
       " '@Sir5000 not sure. was sent screencap',\n",
       " '@ShaquillyaG You are very brave to tell your story. I promise you not all men are monsters. ❤️',\n",
       " 'Oh well, looking forward to Kat and Andre being booted soon after everyone is brought back together #MKR',\n",
       " \"@faithmel01 @nwfamsp001 @AOC My son's BFF is a BPA. He will tell you these detainees are treated better than our homeless vets! So WHY isn't anyone complaining about THAT?!\",\n",
       " '@drgrrlfriend i have like 20 alts if you need help. :P',\n",
       " '@NicolaSturgeon Dear Nicola please help and start programs where mums can get jobs as well.',\n",
       " '@wrarebit what does that have to do with anything?',\n",
       " \"i'll make sure you let everyone hear how good mommy's making you feel. show them what a good whore you can be for mommy.\",\n",
       " 'My daughter will be in university before this season of #mkr finishes',\n",
       " '@JessicaValenti @jsavite Sadly the judiciary has its dinosaurs who are not compelled to demonstrate ongoing competence in understanding issues such as sexual  assault. This happens with police interviewers school officials and judges. Poor girl',\n",
       " 'http://t.co/ZxbZV39jru: Cats!!! : Photography Set 2 http://t.co/cfVvmq9Xj4 #cats #coon #maine #photography',\n",
       " '@kmx1974 Not even close to accurate. Are you intentionally obtuse?',\n",
       " 'See you GF week #mkr for the real stuff #boring #imdone',\n",
       " \"RT @thisonesakillaa: @MT8_9 I'm dying\",\n",
       " '@garethnelson are you seriously defending software piracy?',\n",
       " '@DianH4 The slave girl has no right at all, liar. The owner could kill here and there would be no punishment.',\n",
       " '@banhammor @Spacekatgal @GlennF i think during GDC we should have a social justice league meetup at my apt kthx.',\n",
       " '@sjames626 @eigenbom @UnburntWitch Sauce?',\n",
       " '@holliebakerlutz Why was she fired, do you know?',\n",
       " 'That awkward moment when an #MKR contestant from last season favourites your snarky tweets about this season',\n",
       " '@JessicaValenti Not all boys',\n",
       " '@DQTwitchStream Allegedly did Hartnells ugly wife.',\n",
       " \"When I come across random men's accounts that have me blocked https://t.co/Z7VSxH22Hw\",\n",
       " 'Oh goody another surprise twist announcement....said no one ever in the history of watching a reality TV show ever #MKR',\n",
       " 'Some guys get so bent out of shape when you don’t reply to them it’s hysterical.',\n",
       " '@HillaryClinton @ClintonFdn The #Clintonfoundation is a dirty money laundering scheme! And you are #CrookedHillary',\n",
       " 'RT @Kipjaime8: I may stop watching the NBA if Ophra has any ownership of a professional basketball team. Not sexist, but plenty of other qu…',\n",
       " '@TheQuinnspiracy @ashleylynch @Nikeyg1 lush vanilla powder also makes a good dry conditioner.',\n",
       " \"I deleted my opening tweet about this because you know, be a good woman, keep quiet, mustn't be 'hysterical' or 'make a fuss'\",\n",
       " \"@Michaelplates It's like telling me to unlearn my hatred of Nazis.\",\n",
       " 'Q for @kezdugdale - end of term, end of parly stint. Is it Monopoly or Cluedo tomorrow?\\n(or beach ice creams?) https://t.co/OwErT6SeVQ',\n",
       " 'We as women mostly are rape and sexual assault victims. We kept quiet cos no one believes us. Still.',\n",
       " '@ChristinaLoken1 I derive the same meaning.  What have I missed?',\n",
       " 'RT @Quinnae_Moon: As if the perceived benefits of visibility outweigh the harms of harassment on some kind of cosmic balance sheet.',\n",
       " '@shaner38 @scarmichael18 Would rather.',\n",
       " \"@Lauren_Southern You're just a skank and everyone knows it otherwise you wouldn't be making excuses for not settling down whilst hanging out with multiple different guys.\",\n",
       " '@PoliticalAnt @Lithobolos @ZaibatsuNews If any White Christians polled those opinions you would be going ballistic about it.',\n",
       " '@KeenGaze I keep screengrabs not links, sorry.  Google \"Kate Millett sister NOW\" it should be near top of list.',\n",
       " 'RT @drdisco_: I love it when these judges compromise their values because the channel 7 script writers tell them to. No credibility. #MKR',\n",
       " 'Kat and Andre being partially critical. We all know that insta-restaurant was worth more than 1/10 #mkr #playingthegame',\n",
       " 'I’ve been nothing but a tired, cranky bitch lately, and I’m honestly getting sick of myself 😂',\n",
       " 'I think someone just pressed the wrong button. #MKR',\n",
       " 'You pick the guy thats a total douche to you over the one whose good to you. Got it. Makes perfect sense! #WomenSuck',\n",
       " '@ANN_Lynzee unfortunately, some people see this as me choosing sides. i see the world as more behaviors than i do people.',\n",
       " 'RT @atonal440: @freebsdgirl this comment on this article reminded me of you. Do you stilget DOS mansplainers? http://t.co/phZ5ePVnCx http:/…',\n",
       " 'Rape is DISGUSTING. No woman or man deserves to go through something as traumatic as that. Nothing can ever justify rape. Rape is a choice.',\n",
       " '@JessicaValenti Not some boys... WHITE BOYS!!!! https://t.co/97FXY8Vmca',\n",
       " '@Dominique_ITV @itvnews @NicolaSturgeon @BorisJohnson @Jeremy_Hunt she’s not wrong',\n",
       " '@SirScatters @nonirishpaddy Oh, missed that part of it.  No...no reason to get physical.',\n",
       " 'Hope these girls do amazing with their main course!!!!! @patrick6152 #mkr #mkr2015',\n",
       " \"More spoilers: too bad literally turquoise doesn't quite have the same ring to it. http://t.co/7s6jon5NsJ\",\n",
       " \"When someone ugly tells you they're out of your league https://t.co/B0usHtGGzR\",\n",
       " \"@Gus_802 @RobGeorge @CharlesVanThune @CharlesPPierce @kevinsmurray @EPWVLaw @BretStephensNYT If you think Obama's embrace of Biden as VP doesn't end the argument over Biden-as-too-cozy-with-racists, then this really will be a dirty primary, even after Biden's out.\",\n",
       " 'HEE HEE HEEEEEEE',\n",
       " 'Rape Culture is just another millenial myth made by bloggers and Instagram sluts.;;',\n",
       " '@dultery I\\'ll find a \"special occasion\".  Thanks.',\n",
       " \"@Prostathlitis I know.  You know.  My intent is to prove they don't know.\",\n",
       " '@ANN_Lynzee it is an organized group.',\n",
       " 'Read up land wubbers oh how Capt. Salty smokes small cuts of fish for five minutes in her new cook book Shit cooking ahead #mkr',\n",
       " 'Massive Crowd Cheers On As Pagans Kidnap Woman And Her Son, They Make The Son Rape His Mother, Th… https://t.co/Pb3m1cf85l via @walidshoebat',\n",
       " 'Thank you #mkr producers for making me hate Kat so much. You have done your job perfectly.',\n",
       " '@menzemerized_ Worse i have proof. A picture i took of you and one you took of me on the same night. Useless ungreatful kunt!',\n",
       " '@sschinke only leo. ;)',\n",
       " \"Problem with the progressive movement is it's inability to establish boundaries when it comes to the relationship between anti-Zionism and antisemitism. An excellent article on the topic from @fathomjournal\\n\\nhttps://t.co/RlZYgu1bFh https://t.co/KiMgNuQqJD\",\n",
       " 'Are Kat and Andre brother and sister? #mkr',\n",
       " 'Strongly debating stopping by the IKEA in Portland. No sales tax!',\n",
       " '@austin_philippi I hate people who waste their time memorizing player names as some ridic standard for authenticity. Cancer = still uncured.',\n",
       " 'Makeup time for Katie &amp; Nikki #mkr http://t.co/HTCRBAEjuS',\n",
       " \"Woo can't wait to see what happens!!! #mkr\",\n",
       " \"Here it is: not all women cheat & not all men are trash. Be better & you'll attract better. Also, please don't judge one for the whole group\",\n",
       " '@AmandaSheils1 @Colonel_Shami Regardless of who thinks what, there is only one definition of the religion.',\n",
       " \"remember women are inferior to men even though they generally test well at everything men doit's their own faults they suck there's nothing pushing them away from things!!!!!!\",\n",
       " \"I've been sucked into the trap once again thinking this show *isn't* rigged when it obviously is #mkr\",\n",
       " \"@subhamlawrence Just get out of the way so women can open the gate themselves. And don't judge the ones who aren't involved. #BlameOneNotAll\",\n",
       " '@azmoderate @JoeWSJ Sharia law: http://t.co/SJalsZ3sKK',\n",
       " \"It's a lovely evening to... http://t.co/QYVvVpXlhz\",\n",
       " '@18_xxxbabes @NastyLady70 Shit, the Camel Toe of all Time😎🐲😘😝',\n",
       " \"Today one of my students spoke loudly and openly about how it's unfair that women get shit for doing No Shave November. There is hope.\",\n",
       " '@Taurmaurils damnit. But the house was so cute. It was perfect. *sulks*',\n",
       " 'or so I can direct parents there around xmas time. :P',\n",
       " \"@JDefiant9 Well, I'd have no way of knowing. General point.\",\n",
       " '@travisalabanza so ready.',\n",
       " 'At Annie and Lloyds breakfast ... #mkr http://t.co/5SOx1OPObI',\n",
       " '@AdnanSadiq01 @PTISalarKhan @georgegalloway What is it with the religious zealots of Islam and t treatment f humanity http://t.co/2JovOZEEx0',\n",
       " 'Playing Mr. nice guy will get you nowhere but home alone rubbing one out. Man up, cupcake',\n",
       " '@blastedsilver Shame on Zuckerberg.',\n",
       " 'When you finally catch the mutha fucka getting all your favorite IG accounts deleted https://t.co/bfRTpRrwTN',\n",
       " 'Like are you really that insecure and worried that you’ll be seen as a bad guy that you have to say “not all men” ?',\n",
       " 'When you wake up and your mouth is drier than the Sahara desert https://t.co/SBJppDP9Lq',\n",
       " 'Grandma go home ur drunk and flying a rylak backwards again. http://t.co/cWVglyxhJA',\n",
       " 'Anyone else wants to punch Drasco in the head #mkr',\n",
       " \"RT @TheQuinnspiracy: I don't know what I expected but it wasnt Law And Order telling me to give up.\",\n",
       " 'There are far too many teams left on #mkr. The show should have been eliminated a few seasons ago!!! @Channel7 #mkr2015',\n",
       " \"@ouijaoli @buttercupashby I could give a f what you think about it.  The fact is you can't name anything that ISIS does that Mohammed didn't\",\n",
       " 'FUCK YOU HARVEY WEINSTEIN! Anyone who has suffered from rape and I mean all. Lock him up. I stayed silent for 24 hours. Going sue me HW?',\n",
       " 'RT @uberfeminist: Did anybody get glass in the face during an American Sniper showing? These #FiftyShades fans play for keeps',\n",
       " '@Ed_Miliband he is a Kunt and those like yourself who kept quiet while he murdered white farmer`s and stole Their land. You are a joke like',\n",
       " '„To get rid of Jeremy is part and parcel of the feminazi thought-police tactics that are strangling this country.“ http://t.co/A3ospKIpDE',\n",
       " '@OgbeideSmith Agriculture for one. Services and manufacturing too...do you live in a hole?',\n",
       " \"RT @robinashe: Doesn't work. You can be accused of rape and named the farther by someone you never had sex with. @TheFactualGamer @AgoristA…\",\n",
       " 'I will burn the building down.',\n",
       " '@mykitchenrules now would have been a great time to throw in a surprise elimination to get rid of those b*tches #MKR #whatajoke',\n",
       " \"RT @jadeCFC_ Sounds like we've got a well good ref' today, bloody women should just stay in the kitchen!\",\n",
       " '@cheeseplus Seattle is pretty much over, ever since I left.',\n",
       " \"Women are telling their stories of being assaulted & instead of listening to them, you wanna go 'not all men! I'm g… https://t.co/sLZ6yAWImh\",\n",
       " \"When you're out to dinner but you wanna make sure they know what set you claimin https://t.co/dN17nqnh28\",\n",
       " '@LisPower1 Omg this guy wants to be a Dictator- who is next to be killed by the Trump regime',\n",
       " '@SFtheWolf did you read the text of the article? that picture is really creepy/triggering as fuck.',\n",
       " '@tinkertim shoot me an email. randi at our new domain name :)',\n",
       " 'I can FaceTime myself from my iPad to find my iPhone????\\n\\nGAME CHANGING',\n",
       " \"@JessicaValenti all of Judge Troiano's cases should be reevaluated -  https://t.co/YZ6OTcfq4i\",\n",
       " 'What happened in #mkr, i was at indoor soccer',\n",
       " '@Mich_McConnell @TamedInsanity In terms of what?  Measured how?',\n",
       " 'How sassy is lemon? The sassiest of citrus #MKR',\n",
       " \"Nelly's rape accuser says she wants the case dropped: The woman who accused rapper, Nelly of rape, has refused to… https://t.co/KOlQAorwkr https://t.co/grhnsn7YgO\",\n",
       " '@MarcMThompson not once we get it shut down ^.^',\n",
       " '@dogotter63 @JordLogan16 @NicolaSturgeon And they only consist of around 1K people lol...there are 4 million in the electorate 🤣',\n",
       " \"but i'm getting pretty used to being told how bad of a person i am when i dare to defend someone that others don't like from harassment.\",\n",
       " 'RT @Drift0r: I said \"we got raped\" in a video today and the white knights came out in force. Guess it is time to dust off the ban hammer an…',\n",
       " '@YoungAdz1 Imaging @YoungAdz1 putting a dirty beat on and rapping about changing a babies nappy.😂',\n",
       " '@KissMyCassx @trishapaytas Wow! Great video. Rare to find women who agree with us. Thanks for the support. #MaleDomination',\n",
       " 'taking a shot of my non existent ab while lazying on the bed turned out to seem like a dirty shot 😂😂',\n",
       " \"@Derek_duPreez And that's only the women that have posted it.. I wrote about the 'Not All Men' culture as well - https://t.co/qx3FqiLXAb\",\n",
       " \"@ChiefCourt Oh no doubt, i stay in the kitchen. Music slappin and a lil bit of greenery and i'm cool lol. FEW businesses?! Damn thats whats up! Yeah lately theres a lot of spots like that poppin up around my way. Which is good. So what would you name it?\",\n",
       " 'Colin is obviously malnourished from their cooking cause he sounds delirious. #MKR',\n",
       " \"New release: Women's Suffrage in Scotland by Carole O'Connor, with Forewords by @NicolaSturgeon @RuthDavidsonMSP and @KezDugdale https://t.co/q2bJdmGmpk #ScottishHistory https://t.co/3zQl39b1Lq\",\n",
       " '\"Love is the best thing in the world, and the thing that lives the longest.\" — Henry Van Dyke\\u2063\\n@bakersranch @brianidocks\\u2063\\n#bakersranchwedding #allinclusivevenue #allinclusivewedding #floridaweddingvenue #weddingreception #weddingdecor #weddinginspiration #weddingceremony #we… https://t.co/p6eLWkkTTP',\n",
       " 'Oh well. They have no chance of winning anyway. Good luck you idiots #mkr',\n",
       " '@blackglass__ @jm111t @muslim The story comes from Raqqa_RT living in Raqqa, and he gets them right about 95% of the time.',\n",
       " '@JessicaValenti Now that is just messed up.',\n",
       " '\"Speaking up\" isn\\'t the same thing as \"speaking for\", and I\\'m sorry you don\\'t know the difference. @halletecco @wadhwa @Jason',\n",
       " 'Somebody could explain relative motion to the Saudi Cleric, but it would be water off a ducks back. #Islam',\n",
       " 'Applicants can receive a code or number that they must use in the title of their resumes/cover letters.',\n",
       " \"RT @_chrisdowns_: #QuestionsForMen This one's good, and topical. http://t.co/RrP5IZrRpE\",\n",
       " \"@JessicaValenti @TheDweck I bet you he wasn't poor and black. This story is deeply disturbing. It not only highlights the systemic failure to address violence against women, but also the palpable unfairness of differential sentencing based on variables like wealth and race.\",\n",
       " \"@dburbach @RadioFreeTom This is so widely under-recognized even today. People do not vote on policies they vote on how the parties 'plug into' their emotional cores. I was struck recently when trump talked about Impeachment: 'It's a dirty, filthy, disgusting word'. Those are emotional trigger words....\",\n",
       " '@SpacyTheStone @themetrobolist @LazyBunnyTDR @Metalyger @UnburntWitch no one threw cement and no one got a brain bleed',\n",
       " 'New to Twitter-- any men on here know what the process is to get #verified?',\n",
       " '@thisonesakillaa Only times I\\'ll block is if they spam or I think they\\'ll try to \"Janet\" me.',\n",
       " \"Duuuude if summer fruits were available all year round I'd be the healthiest bitch you know\",\n",
       " '@McEntropy You tell me...',\n",
       " \"@shaner38 Just my guess...it's now in my tweets as proof if it comes true.  I knew he'd rig the 2013 draft so the Avs could get Seth Jones.\",\n",
       " '@iFalasteen No, this is what Muslim brutality looks like. http://t.co/H3e7LzKBxT',\n",
       " 'WOW to all the people stating this had nothing to do with race - http://t.co/ZGMVWRzhtJ  do you even go here',\n",
       " '14 couples remain on #mkr. Means if one team is booted out every week and two in semi finals then show will finish mid May.',\n",
       " '@lIlIlllIlIllI @abu__ramadi What is vicious about the truth?',\n",
       " 'Help us all The Bitch is back. I checked the hole she went in and covered it up. https://t.co/mpKHkIWC8S',\n",
       " \"By making it a Muslim man's right to rape non -Muslim women and children. Normalize it, and remove the outrage. https://t.co/2lCvwPiDxh\",\n",
       " 'When the pizza man is more than a minute late https://t.co/NMHTNCbb38',\n",
       " 'Proud to have been part of this week’s \\u2066@bbcpodlitical\\u2069 podcast featuring \\u2066@kezdugdale\\u2069 on personality politics, our next PM, Indyref2 and the surprising uses of Vicks Vaporub https://t.co/NuNCJNo9u1',\n",
       " '.@scarmichael18 @shaner38 She will often not know.  It should be opt in not opt out so that he must be told.  Or else they will hide it.',\n",
       " 'YAY ASH! #mkr',\n",
       " '@UnburntWitch Writers and artists have complementary skillsets and should be BFFs forever. The end.',\n",
       " 'She\\'s trying to play it as \"we can have our own opinions but I still respect you\" - No. She doesn\\'t. She admitted that she was selling out.',\n",
       " 'This reminds me of barrens chat.',\n",
       " 'Ok but @queensoverbitch makes me add her to all DMs just FYI https://t.co/4XJSSCAZa8',\n",
       " 'RT @FakeToniaTodman: Another fucking instant restaurant round? Fuck. #MKR',\n",
       " \"You're the average of the 5 people you spend the most time with. So bitch let me see ya friends😏\",\n",
       " 'I AM ETERNALLY ANGRY. #MKR',\n",
       " '@PrideofGypsies a bunch of people who can’t separate a character you play, from the real world, are moaning that you “glamourise rape”, ugh!',\n",
       " 'RT @YumchaAddict: mmmm Watching SBS1 #Foodie TV now @LisaMRomano @heidi_han @garydlum @doriangray05 @mattsparks88 MUCH better than melodram…',\n",
       " \"Is it really too much to ask to shut up, don't make this about yourselves for once and SUPPORT MEN?\\n\\n#BlameOneNotAll\",\n",
       " \"When he runs his hand up the back of your head, grabs a handful of hair, kisses you &; whispers 'your pussy is mine' https://t.co/LYE336utgZ\",\n",
       " '@james_ebo If you feeling like pimp james go ahead and brush your shoulders off⚡️',\n",
       " \"Don't think that it won't go unnoticed/unchallenged. Don't put on a cape unless you plan on being a hero. It's not a photo op. It's a job.\",\n",
       " 'We have @crashoverridenw, an invaluable resource that provides emotional support for targets of harassment.',\n",
       " 'RT @sbhouse1978: @GameDiviner @MT8_9 Picture #1: Beaten, but defiant. Picture #2: Beaten until the soul is dead.',\n",
       " '@dyke_hag Not telling 😐',\n",
       " '.@manishlimbu532 No.  No reliable numbers.  But, a small town police department did a nine year study of their cases once...41% false.',\n",
       " '@cinemassacre I was a fan of the AVGN series until you decided you absolutely needed to use the phrase \"raping your favorite films.\" Bye.',\n",
       " '@AnasSarwar @kezdugdale Well said Anas.',\n",
       " 'Even cracked understands DDoS better than GamerGate. http://t.co/VRAyekyt41 (via @BonsaiTreehouse)',\n",
       " '@Banikibo “You think motels care if it’s one night?”\\n\\nHe raised a brow. Ew, it touched her leg. Might have some virus or something.\\n\\n“It has your germs. It’s a dirty pineapple now!”',\n",
       " '#MKR does deconstructed lemon tart mean i could not be bothered to make the real one?',\n",
       " \"@UnburntWitch @KenReed323 i'm sure you are not, to be weird you need to be interesting and have an actual personality\",\n",
       " 'I am sterile. #ThreeWordsSheWantsToHear',\n",
       " \"@malas_n @alnabhan_ali And they did it without Saddam's son torturing them when they lost.\",\n",
       " \"@MetroidThief I'm usually optimistic about people and their ability to change. But I've heard enough background story from reliable sources.\",\n",
       " '@helenaandvikki have you guys picked your winners for this year? Any bets? #MKR',\n",
       " \"@MikePrysner This man is a liar.  You can find YouTube interviews with the leaders of all Ukraine's groups.  None are neo Nazi.\",\n",
       " 'LMAO I just found out too that the screenshots they posted on their story abt ppl hating on them and etc was ACTUALLY THEM because they dmed me on the acc since I blocked their main omfg I knew this bitch was shady 💀💀',\n",
       " '@VeganStar2001 @purity95433873 When did the first feminazi learn to read?',\n",
       " '@OaklandElle well, yes. That was implied :P',\n",
       " 'RT @anitaespinola: 🤔🙀🐽🙈 #Repost @yourfuckboy1 with repostapp. https://t.co/YBNeGSRQCQ',\n",
       " 'RT @Gary150iq: #MKR   Bye Bye Birdies........',\n",
       " '@GBabeuf @NewsCoverUp @RJennromao @DavidJo52951945 @Novorossiyan @gbazov @rougek68 Russias army of propaganda trolls http://t.co/fjf3QZ45TH',\n",
       " '@UnburntWitch I guess he has a lot of piercings for a16 year old.',\n",
       " 'The awkward moment when Lexus is showing you how much crack fits in the cup holders... https://t.co/HCYDMyLhG5',\n",
       " 'im a dirty fucking liar and it took me like an hour to get up after my nap so ill just stream tomorrow......................... i have the day off so i got more time for it',\n",
       " '@KayinNasaki charity auction. :P',\n",
       " 'Colin eating... #mkr http://t.co/FN5iyPp86C',\n",
       " 'New blog post: ZX81 internal 16K RAM upgrade in a way which is reversible should you want to go back to the stock 1K https://t.co/HFHFW2rdfZ https://t.co/8P94dShV07',\n",
       " \"I am going to smack down anyone I see bitching about how cernovich bought his followers. You're spreading unsubstantiated rumors. Not cool.\",\n",
       " 'Recent Examples: Being the only woman & being the only one condescended to IC/OOCA teen character being called a skank & then told it was just to see my OOC reaction Being talked over Small stuff like this increases when I play a confident character, especially a young one.',\n",
       " '@MSharkess @CriticalKelly @MensHumanRights @robinashe @RampaigerA79 @Mislu_Kravin No problem, she deflected anyway...',\n",
       " \"I'm not the one to let people profit on my back... I'll break yours and take what's mine 😘\",\n",
       " '@UnburntWitch aaaaaaaa oh god i still have scars',\n",
       " \"I can hear someone texting my phone. You don't have an iPhone, so it's not going to my iPad using iMessage, and iMplayingwarcraft so...\",\n",
       " \"@NashtySteve I'm sure you were this outraged about The Manchurian Candidate, Spiderman, etc.\",\n",
       " 'RT @feministhulk: IF SOMEONE DESCRIBE PERSONAL EXPERIENCE WITH AN OPPRESSION THAT YOUR OWN PRIVILEGE PROTECT YOU FROM, BELIEVE THEM. STOP. …',\n",
       " \"Yes, I know about @leighalexander's account. It's being looked into.\",\n",
       " '@LaloDagach must be a bitch to eat with the fabric getting in the way of the cake -hole',\n",
       " 'otoh, eventually most of them were like \"wait. harper? you\\'re randi harper?\" and I still don\\'t know how to adjust to this.',\n",
       " 'RT @Lyall: Patriarchy™ will expel me if I divulge that @joelizaharrison. I have a note saved &amp; I copy &amp; paste it like a n00b. http://t.co/1…',\n",
       " \"@Allehegens Romney's image better than ever due to O but CO will not vote for a drug war supporter like him and GOP needs CO to get to 270.\",\n",
       " '#mkr here comes a roasting!!!!!!!',\n",
       " \"RT @sharonpiggott: Anything deconstructed should be banned... Unless it's a shandy &amp; I can give the lemonade to my niece!! #mkr\",\n",
       " \"@Censored31 @rupertmurdoch I don't have a religion, microbrain.  Have you found what hole that coward Baghdadi crawled into at Gwer?\",\n",
       " '@RyanSorge19 Hey, I had him on 3 of my 4 fantasy teams...',\n",
       " \"@Scouse_ma I can always tell when you're drunk cause you're lighting up Twitter in the middle of the night 🌚\",\n",
       " 'See this is what I be talking about. People get out of pocket real quick and never ever lived with these individuals a day in their life. I hate people like this. Its not just a man or woman it was just a fucked up relationship. stfu',\n",
       " '@manimeister15 Wait, do you realize you just did the very thing the tweet you posted said is wrong...?',\n",
       " '@DianH4 Being free to make your own choices is good.',\n",
       " 'Mmm Mmm chargrilled potato rosti fried on a Breville....puts fingers down throat  #mkr',\n",
       " '@DonewithBots @RRiffner @PolitiBunny keep ranting &amp; attacking people. You are making no points. Bye ✋ feminazi 😂 what a fool',\n",
       " \"@PsychBarakat @PhilipMills8 @jncatron What's funny is fucknuts like you claiming that Palestinian intentions are benign when they .....\",\n",
       " '@venus_strikes @JessicaValenti As it should be.',\n",
       " 'When you just watched your boy ruin his life but you know misery loves company so you decide to ruin yours too https://t.co/qeUNEtiF8Z',\n",
       " \"Oohhh they're back. And now there's three hot chefs on my screen. It's almost too much to bare... Almost 😉 #MKR @FourinHand\",\n",
       " '@NicolaSturgeon @Out4Indy I think you are the only one that’s sorry, you won’t be missed.',\n",
       " \"I don't really have feelings but I'm so good at faking it\",\n",
       " '@obsurfer84 @teenage I come from reality.',\n",
       " '@Pixelfish @ChrisWarcraft I shitposted in barrens chat. Not even gonna lie.',\n",
       " 'If you only knew what your name is in my phone. 😈',\n",
       " '@CheckItCool @CriticalKaiju Which tag are you referring to?',\n",
       " \"how about instead of complaining 'not all men' you stand up for those when they've been harassed or assaulted or ya… https://t.co/utSvYITsOb\",\n",
       " '@Gaelic_Norseman Excellent point Looney. Can we use this quote in our brochure? Let us know. Thanks for supporting our cause #maledominance',\n",
       " '@_aaalison__ @RealDrDana @Medium @sadydoyle @JessicaValenti @rgay \"That was how the agents of the Inquisition fortified their wills: by invoking Christianity; the conquerors of foreign lands, by extolling the grandeur of their Motherland; the colonizers, by civilization; the Nazis, by race;\" (3)',\n",
       " \"@feministlah I'm looking for them...lot of hay on top of those needles.\",\n",
       " 'sad to see the girlz go ahhhhh 👸👸 best of luck, boyz more ur thing #MKR',\n",
       " 'Stop totaling cars and get back to the kitchen #WomenSuck',\n",
       " '@handlemytweeets 15 by the time we get through it all. #mkr',\n",
       " \"@voretaq7 i can't eat super spicy. sriracha is still breaking me into the idea of spicy food.\",\n",
       " \"@mykitchenrules if the ranger's eating breakfast, who's looking after the park?! #mkr #hungrycampers\",\n",
       " 'RT @syazlicious: Best describes Kat and Andre #mkr http://t.co/Qaa6BWi4PM',\n",
       " 'RT @Mazlloree: Say sass one more time #mkr',\n",
       " 'Ewww #mkr',\n",
       " 'RT @MrShikaki: @_shemmie_ @srhbutts @cainejw @_icze4r @Dylof_ http://t.co/f1uyMrdg5G',\n",
       " '@knj_whore @BenjiKrol @jeyjeygardi Mood x10000000000000000000000',\n",
       " 'When the whole squads outfits are on point https://t.co/SbLjxccUce',\n",
       " \"@Jeremy_Hunt Scots did not vote 4 Brexit, let alone catastrophic hard Brexit u'd inflict 'with heavy heart' (to save your party; it won't) Yet, goalposts massively shifted, u'd deny @NicolaSturgeon @theSNP 2nd indy ref? Own goal! Hypocrisy not democracy.\",\n",
       " '@_sinisterBen @JakSoulbright Never heard that before.',\n",
       " '@YesYoureSexist Sometimes I read that people I follow are being harassed, and I just want to wrap them in the love/admiration I feel 4 them.',\n",
       " \"@jamesbuckley @PVBrett @RAICESTEXAS @PPFA What I meant is, it is a life form, that doesn't deserve to be killed.\\n\\nMy position is more scientific than yours.\\n\\nIf NASA finds a living cell on a planet with a potential to turn into a living organism, they will call it LIFE.\\n\\nBut a cell structure with a heart is not life?\",\n",
       " '@solri i lived in a weird place, though - village in the middle of nowhere, ~25 ppl population. not avg US experience.',\n",
       " '@j_wylie @AllisonMorris1 @Ciara87C Leave the main tourist streets and walk the back streets, you will find nice quiet squares with a small cafe or bar and see the real Venice',\n",
       " 'Kel the butcher has never heard of these silly sausages on #mkr http://t.co/CHGKB1rirW',\n",
       " \"@asianwasted we're not just objects that entertain you, we have feelings too! #YesAllMen\",\n",
       " \"When you stick it in the wrong hole on 'accident' https://t.co/KHAxEv48Bb\",\n",
       " 'Pancakes a winner with the kids! #MKR',\n",
       " '@DanaPerino @JedediahBila horror story at ACCT PHILLY! Poor boy West was on bite hold until 07/08 he bit officer when in agony and now they stamped to be killed 07/02 before even time is up! Everyone crying and willing to pay they are ignoring all PLEASE HELP! He needs you',\n",
       " '@Nayadrikj omfg #wowdrama I AM LOGGING IN WAIT FOR MEEEEE',\n",
       " '@andypbr0wn @aaronhenry313 @NicolaSturgeon Exactly, no hatred just pure joy 😂',\n",
       " '#Altright glossary term of the day: RWDS - is an acronym for Right Wing Death Squads. Alt-righters hope for right wing death squads so that their enemies (leftist, POCs, Muslims and Jews) can be killed. Often played off as a joke. #antisemitism #letthealtrightdie https://t.co/31axzkVnQb',\n",
       " 'He is not all there. And I guess he keeps forgetting that the dog just went outside and ughhhh I want to sleep.',\n",
       " \"@BurroBenjamin @fitaloon @DrW0mbat @NicolaSturgeon @ScotGovFM I'm from London, and unlike you, I'm not so full of self loathing that I'm happy for Scotland to be dragged down by its parasitic neighbour!\\nStay servile little drone.\",\n",
       " \"I guess that's one way to get around the user token count limitation per app ID.\",\n",
       " '@Animecommentary aw, thanks. ;)',\n",
       " 'Can someone tell me where to find when #MKR are cooking for the public!? I want some!!',\n",
       " \"@MelForRI @AOC @EverydaySexism There's nothing to like about that tweet. Scott MacKay should tell us why he liked it.\",\n",
       " 'When you see someone you know on tinder so you super like them and they never talk to you again 😐',\n",
       " \"@mykitchenrules I think this year all the action is in the kitchen...not 'the block' #MKR\",\n",
       " \"Trump's 4th of July 'Salute to America' event to include ticketed section for VIPs\\n\\nhttps://t.co/ng2Dar6s18\\n🖕 here's my salute. May the cheap whore and his unAmerican wife be lit ablaze by the fireworks.\",\n",
       " \"@Jenny_Trout @HarperCollins @MetaCookbook holy pileons. please don't dogpile, as much as you may hate someone. it's a form of abuse.\",\n",
       " \"@Thae86 That's weird, it's like an actual organization that ACTUALLY provides services for victims is saying: #blameonenotall\",\n",
       " '@BlackOpal80 ...as soon as you follow enough known anti-feminists their block list activates and blocks you.  Possible she is unaware of me.',\n",
       " \"@eDRoaCH @orvtech this isn't de-anonymizing. the phone # wouldn't necessarily be stored. no names would be required.\",\n",
       " 'Gay fiancé is not going to cope being away from the fresh meat #MKR',\n",
       " '@PaulKeeper99 @GuitarMoog @vickyford Yup. You *did say this @vickyford And now you have lied to get yourself out of a hole.',\n",
       " '@KieranPAndrews @kezdugdale @jeremycorbyn @theSNP Its that would or could ?Big difference .',\n",
       " '@theheraldsun Depends if these 2 cesspools came from a house that taught them integrity and morals as a child ... Sadly not 😕 #toxickat #mkr',\n",
       " '@Jeff_Skalski @nvidia not cool.',\n",
       " '@ErikTheYordle they give you a gun USE THE GUN TO SPOOK THE SPOOKERS WITH LEAD TO THE DICK',\n",
       " \"I wouldn't be talking to you if I just wanted to be friends. #WomenSuck\",\n",
       " \"Can't handle Kat &amp; Andre on #MKR. All talk. I think I'll just follow along on social media until they crash and burn like all crack addicts\",\n",
       " '@PoliticalAnt @Lithobolos And of course I would also fight against any theocracy - regardless of religion.',\n",
       " 'yeezy’s are butt ugly &amp; all of you look like fools for spending $300 on them.',\n",
       " \"Why do they always look shocked when they reveal that the final team's score will be revealed at head quarters?? It happens every year  #MKR\",\n",
       " '@AdnanSadiq01 @sibeledmonds Is Assad Syria, microbrain?',\n",
       " '@JessicaValenti I’m just so, so, so tired...',\n",
       " '@MisGrace @GBabeuf @RJennromao @DavidJo52951945 @Novorossiyan @gbazov @NewsCoverUp @rougek68 Any Putin troll can claim they are from America',\n",
       " 'Need skype verification for keybase.io.',\n",
       " '@7allo Not all men are trash. But some are. Just like not all Muslims are terrorists. And not all women are prostitutes.',\n",
       " '@MichaelRapaport Been digging the podcast. Always liked you as an actor. Keep doing your thing!! Viva Dick Ritchie!',\n",
       " '@LexiClareNZ @EverydaySexism Strongest Gif game 😂',\n",
       " 'To the woman in a car, honking at me for two blocks on Bank: you looked hysterical and idiotic, and I was getting a nice workout. So there.',\n",
       " '#MKR contestant Annie Caroline was shocked by constant negative comments from  #Perth rivals.\\nhttp://t.co/qU04wp7xyu http://t.co/AgSJFt2xZU',\n",
       " '@AOC Here is the hypocrisy of #DemocratsAreDestroyingAmerica ! @realDonaldTrump #MAGA2020\\n#KAGA2020',\n",
       " '@ToddPratt07 @nanscuvel @RealCandaceO @AOC @aoc only lasts 10 min if she talks first',\n",
       " '@nirwamehta @c_aashish You forgot the third one... Praise Sri Ram :)',\n",
       " \"Girl- can I have your number? Me- sure Girl- can I friend you on Facebook? Me- oh god no, that's entirely too personal\",\n",
       " \"Ubisoft's attempts at pushing Uplay is rage-inducing.\",\n",
       " 'berry picking cancelled! sf pride is back on!!!',\n",
       " '@maleduckplural 😂at least now you know, not all men like this but maybe go a lil easier on the ones shooting with w… https://t.co/fk6RPVmxJV',\n",
       " '@ChrisMMcDougall  He asked for it.  Did you?  Why not find an employer who will value you properly?',\n",
       " '@BonsaiTreehouse @srhbutts I was never a part of that...',\n",
       " \"maybe #mkr Katie &amp; Nikki should open an #icecream store, since it's only best thing the ppl over the dinner table. idk it could work 4 'em 💋\",\n",
       " \"Unbreakable Kinney Schmidt is one of the cuter shows I've seen on Netflix. Tina Fey always makes me happy.\",\n",
       " \"When they tell you there's no wifi https://t.co/YLs915CLdD\",\n",
       " '@CanningJames @AllisonMorris1 @dmcbfs Because I’m talking about building consensus for Irish unity.',\n",
       " 'Love all these people having a go at Kat like she is the only one ever to vote strategically in #MKR history. Happens every year.',\n",
       " \"@rosscolquhoun @NicolaSturgeon You had your once in a lifetime vote and you lost.\\nLeave the uk if you don't like it. #Brexit #LeaveMeansLeave\",\n",
       " '@hestiahdruid want more fun stuff? google the name of the person i RTed. ;) that music.',\n",
       " \"When you're hungover AF and you realize tomorrow is Monday https://t.co/vmB3CiSAT7\",\n",
       " \"@CappyD Man, I thought Chevaldayoff was a human paper weight...what a trade for the Jets. As good a deal as I've seen in years (decades?)...\",\n",
       " '@TheLifeOfMeezus @MonicaLewinsky Dozens of other women I’ve accused him of rape and they either get paid off or nobody hears from them again',\n",
       " '@SharkFu @Ashadahya Moderation is not about appeasement.',\n",
       " '#DontDateSJWs unless you want them to date you, bang you, call you, stalk you THEN cry rape &amp; do \"performance art\". http://t.co/vRPol5nc67',\n",
       " 'I added a video to a @YouTube playlist Skank - Tanto (I Want You) (Ao Vivo)',\n",
       " \"In America, only 7% of rapists are convicted. It's about power - men want to know they can rape, harass, abuse any woman &amp; get away with it.\",\n",
       " '@LynnMagic this is awesome, and I love this.',\n",
       " \"Seriously, how am I the only person that caught this? This just confirms my belief that I'm the only person that watches the morning news.\",\n",
       " 'RT @sports2inflatio: @MT8_9 our court system is failing us by letting these criminals walk free. Victim matters, gender does not. Crime Mat…',\n",
       " \"Love is like a deep hole. When you fall into it, it's really hard to come out.\",\n",
       " '@JessicaValenti Much as I hate to do so (generally), I must agree with you on this. Assuming there isn’t more to this case that you have *selectively* opted to omit (which is totally in your style) this IS reprehensible.',\n",
       " \"@KhivaTV @TheVileV @Hannah_illo @UnburntWitch I'd be careful if I were you, honey. Listening to old white men while looking like you're transitioning yourself won't do you many favours.\",\n",
       " '@JessicaValenti The current “justice” system serves no purpose other than to make a mockery of and retraumatize victims.',\n",
       " 'When you spend hours doing your makeup perfectly and bae cancels on you last minute https://t.co/LDOsPKovSz',\n",
       " '@NamesNotBecky Do you have a tow bar on your ram?',\n",
       " 'The woman who accused Nelly of rape is dropping charges: https://t.co/XgglKuKocT https://t.co/5YFcmrU6SP',\n",
       " \"I've even seen this in express itself in real life recently, truly surreal. Women are losing their minds, which is hysterical\",\n",
       " 'RT @syrianewsfeed: Syria Update : Deir Ezzor: Scores of Libyans Killed at the Military Airport * We got you * 22/02/2015 * http://t.co/2FIi…',\n",
       " 'Thanks for the heads up. I was about to go down my local to rape and harass some women but now I know I might be on The List...NO CHANCE. https://t.co/M1QSykwaAH',\n",
       " '@skank_ ela gosta eh do bixcoito',\n",
       " '@idubbbzJr @HadethR @toddysdobrik @zane You cunt, compare 25 million that rubius have versus the 5 million that David have',\n",
       " \"@ElizabethM_J It's because of like-minded people like you that I can continue. I know someone hears, someone cares. That makes it worthwhile\",\n",
       " \"Next time your girl's pissing you off, go buy some hair ties and leave one on the floor of your car\",\n",
       " 'RT @theblaze: “American Sniper” is now the number one domestic grossing war movie of all-time: http://t.co/Xg9wILy1rb\\nhttp://t.co/6apxzY6tHN',\n",
       " \"Kat and Andre don't deserve it hope they destroy them in the group rounds #mkr\",\n",
       " \"Meatballs for breakfast. Not really a breakfast item. Saying that though I'd eat them #mkr\",\n",
       " '@DoctrineDark798 You should be able to save from here...right click or hold down on them and you should get a save option.',\n",
       " '@KeiraJaneReed @UnburntWitch Can you give me a link? I want to see it.',\n",
       " '@LifeInKhilafah Lies and propaganda.  This is Raqqa. http://t.co/iBNPcw416Z',\n",
       " \"@mattkeogh Shame you won't protect children from threats of violence, harassment or rape\",\n",
       " 'RT @GinsburgJobs: How a Mid-Sized Tennessee Town Took on Comcast, Revived Its Economy, and Did It With Socialism\\xa0|\\xa0Carl Gibson http://t.co/…',\n",
       " \"@tybo10000 @Scarlet_Pheonix @Beerandreason @EverydaySexism You don't think that the damage to the person - both physically, and mentally (bear in mind the force used to slam her head was enough to cause a dent costing £800 in a BMW) might just be worth more to her than the medical bill? Alternatively: WTF is wrong with you?\",\n",
       " '@UnburntWitch Kevin spacey did it better',\n",
       " \".@Apolocalypses @TehMenz I will totally pretend to be deaf at that point...walk out like you're a ghost &amp; I'm Bruce Willis in The 6th Sense.\",\n",
       " \"@uk_rants @SirSidneySussex @NicolaSturgeon And you don't speak for Scotland. How sad a grown man has dedicated so much time to such a useless endeavour as running a Twitter troll account. Bless 😊\",\n",
       " 'I have eaten army food from tins that looked better than that. And less like a dick. #mkr',\n",
       " '@sferik do you know anything about this? am i missing something?',\n",
       " '@Janela_X @DeMcbot @MhairiHunter @Ips_cali @BBCPhilipSim @theSNP @NicolaSturgeon Interesting choice of words, shoulder to shoulder, implies ‘with’. Nice try. Anything relevant to complain about or are you reduced to cracking up about one nutter?',\n",
       " 'The feminazi pigs will always run into a battering ram and pulpify, because this is an environment never designed for them to win in.',\n",
       " \"This season's #MKR is going to finish in 2028 at this stage\",\n",
       " 'RT @AlexHoneybear: Cannot believe they made it through. Are they just going to give everyone a 1 for the rest of the comp? #feistyfoodies #…',\n",
       " ...]"
      ]
     },
     "execution_count": 40,
     "metadata": {},
     "output_type": "execute_result"
    }
   ],
   "source": [
    "df_test[df_test['prediction']<=.5].sort_values('prediction', ascending=False)['text'].tolist()"
   ]
  },
  {
   "cell_type": "markdown",
   "metadata": {},
   "source": [
    "### Visualization of probability distribution"
   ]
  },
  {
   "cell_type": "code",
   "execution_count": 41,
   "metadata": {
    "pycharm": {
     "is_executing": false
    }
   },
   "outputs": [
    {
     "data": {
      "image/png": "[encoded data removed]",
      "text/plain": [
       "<Figure size 432x288 with 1 Axes>"
      ]
     },
     "metadata": {
      "needs_background": "light"
     },
     "output_type": "display_data"
    }
   ],
   "source": [
    "df_test['prediction'][df_test['label']==1].plot.hist(bins=99, alpha=.5, label=\"Misogyny\")\n",
    "df_test['prediction'][df_test['label']!=1].plot.hist(bins=99, alpha=.5, label=\"No Misogyny\");\n",
    "plt.legend();"
   ]
  },
  {
   "cell_type": "markdown",
   "metadata": {},
   "source": [
    "## Parameter Optimization\n",
    "\n",
    "One can fine-tune the model's hyperparameters in order to\n",
    "find the best possible model."
   ]
  },
  {
   "cell_type": "code",
   "execution_count": 42,
   "metadata": {
    "pycharm": {
     "is_executing": false
    }
   },
   "outputs": [],
   "source": [
    "estimator = RandomForestClassifier(n_jobs=-1, random_state=42)"
   ]
  },
  {
   "cell_type": "code",
   "execution_count": 43,
   "metadata": {
    "pycharm": {
     "is_executing": false
    }
   },
   "outputs": [],
   "source": [
    "# BEWARE: Searching for more than just a couple parameters will increase the calculation time exponentially!\n",
    "param_grid = {\n",
    "    \"n_estimators\": [50, 200],\n",
    "#     \"max_depth\": [3, None],\n",
    "#     \"max_features\": [1, 10, 100],\n",
    "#     \"min_samples_split\": [10, 100, 1000],\n",
    "#     \"bootstrap\": [True, False],\n",
    "#     \"criterion\": [\"gini\", \"entropy\"],\n",
    "}"
   ]
  },
  {
   "cell_type": "code",
   "execution_count": 44,
   "metadata": {
    "pycharm": {
     "is_executing": false
    }
   },
   "outputs": [],
   "source": [
    "grid_search = GridSearchCV(estimator, param_grid=param_grid, cv=5, iid=False, verbose=2, n_jobs=-1)"
   ]
  },
  {
   "cell_type": "code",
   "execution_count": 45,
   "metadata": {
    "pycharm": {
     "is_executing": false
    }
   },
   "outputs": [
    {
     "name": "stdout",
     "output_type": "stream",
     "text": [
      "Fitting 5 folds for each of 2 candidates, totalling 10 fits\n"
     ]
    },
    {
     "name": "stderr",
     "output_type": "stream",
     "text": [
      "[Parallel(n_jobs=-1)]: Using backend LokyBackend with 4 concurrent workers.\n",
      "[Parallel(n_jobs=-1)]: Done  10 out of  10 | elapsed:   36.4s finished\n"
     ]
    },
    {
     "name": "stdout",
     "output_type": "stream",
     "text": [
      "CPU times: user 28.7 s, sys: 148 ms, total: 28.9 s\n",
      "Wall time: 44.2 s\n"
     ]
    },
    {
     "data": {
      "text/plain": [
       "GridSearchCV(cv=5, error_score='raise-deprecating',\n",
       "             estimator=RandomForestClassifier(bootstrap=True, class_weight=None,\n",
       "                                              criterion='gini', max_depth=None,\n",
       "                                              max_features='auto',\n",
       "                                              max_leaf_nodes=None,\n",
       "                                              min_impurity_decrease=0.0,\n",
       "                                              min_impurity_split=None,\n",
       "                                              min_samples_leaf=1,\n",
       "                                              min_samples_split=2,\n",
       "                                              min_weight_fraction_leaf=0.0,\n",
       "                                              n_estimators='warn', n_jobs=-1,\n",
       "                                              oob_score=False, random_state=42,\n",
       "                                              verbose=0, warm_start=False),\n",
       "             iid=False, n_jobs=-1, param_grid={'n_estimators': [50, 200]},\n",
       "             pre_dispatch='2*n_jobs', refit=True, return_train_score=False,\n",
       "             scoring=None, verbose=2)"
      ]
     },
     "execution_count": 45,
     "metadata": {},
     "output_type": "execute_result"
    }
   ],
   "source": [
    "%%time\n",
    "grid_search.fit(x_train, y_train)"
   ]
  },
  {
   "cell_type": "code",
   "execution_count": 46,
   "metadata": {
    "pycharm": {
     "is_executing": false
    }
   },
   "outputs": [
    {
     "data": {
      "text/plain": [
       "{'mean_fit_time': array([ 5.66335382, 18.91877933]),\n",
       " 'std_fit_time': array([0.27111775, 5.91357281]),\n",
       " 'mean_score_time': array([0.15218129, 0.22090492]),\n",
       " 'std_score_time': array([0.02808389, 0.06027611]),\n",
       " 'param_n_estimators': masked_array(data=[50, 200],\n",
       "              mask=[False, False],\n",
       "        fill_value='?',\n",
       "             dtype=object),\n",
       " 'params': [{'n_estimators': 50}, {'n_estimators': 200}],\n",
       " 'split0_test_score': array([0.73398577, 0.73176157]),\n",
       " 'split1_test_score': array([0.71708185, 0.74243772]),\n",
       " 'split2_test_score': array([0.73253227, 0.74454829]),\n",
       " 'split3_test_score': array([0.72350846, 0.73775601]),\n",
       " 'split4_test_score': array([0.72885129, 0.76090828]),\n",
       " 'mean_test_score': array([0.72719193, 0.74348237]),\n",
       " 'std_test_score': array([0.00621628, 0.00975765]),\n",
       " 'rank_test_score': array([2, 1], dtype=int32)}"
      ]
     },
     "execution_count": 46,
     "metadata": {},
     "output_type": "execute_result"
    }
   ],
   "source": [
    "grid_search.cv_results_"
   ]
  },
  {
   "cell_type": "code",
   "execution_count": 47,
   "metadata": {
    "pycharm": {
     "is_executing": false
    }
   },
   "outputs": [
    {
     "data": {
      "text/plain": [
       "RandomForestClassifier(bootstrap=True, class_weight=None, criterion='gini',\n",
       "                       max_depth=None, max_features='auto', max_leaf_nodes=None,\n",
       "                       min_impurity_decrease=0.0, min_impurity_split=None,\n",
       "                       min_samples_leaf=1, min_samples_split=2,\n",
       "                       min_weight_fraction_leaf=0.0, n_estimators=200,\n",
       "                       n_jobs=-1, oob_score=False, random_state=42, verbose=0,\n",
       "                       warm_start=False)"
      ]
     },
     "execution_count": 47,
     "metadata": {},
     "output_type": "execute_result"
    }
   ],
   "source": [
    "grid_search.best_estimator_"
   ]
  },
  {
   "cell_type": "code",
   "execution_count": 48,
   "metadata": {
    "pycharm": {
     "is_executing": false
    }
   },
   "outputs": [
    {
     "data": {
      "text/plain": [
       "0.7390988372093023"
      ]
     },
     "execution_count": 48,
     "metadata": {},
     "output_type": "execute_result"
    }
   ],
   "source": [
    "f1_score(y_test, grid_search.predict(x_test))"
   ]
  },
  {
   "cell_type": "code",
   "execution_count": 49,
   "metadata": {
    "pycharm": {
     "is_executing": false
    }
   },
   "outputs": [],
   "source": [
    "y_proba = grid_search.predict_proba(x_test)"
   ]
  },
  {
   "cell_type": "code",
   "execution_count": 50,
   "metadata": {
    "pycharm": {
     "is_executing": false
    }
   },
   "outputs": [
    {
     "data": {
      "image/png": "[encoded data removed]",
      "text/plain": [
       "<Figure size 432x432 with 1 Axes>"
      ]
     },
     "metadata": {
      "needs_background": "light"
     },
     "output_type": "display_data"
    }
   ],
   "source": [
    "plot_roc_auc_f1(y_test, y_proba, title=\"Random forest - Grid search best result\");"
   ]
  },
  {
   "cell_type": "markdown",
   "metadata": {},
   "source": [
    "## Predict user input - A quick test\n",
    "\n",
    "Remember: 0 is not misogynistic, 1 is misogynistic."
   ]
  },
  {
   "cell_type": "code",
   "execution_count": 51,
   "metadata": {
    "pycharm": {
     "is_executing": false
    }
   },
   "outputs": [],
   "source": [
    "best_rf = grid_search.best_estimator_"
   ]
  },
  {
   "cell_type": "code",
   "execution_count": 52,
   "metadata": {
    "pycharm": {
     "is_executing": false
    },
    "scrolled": true
   },
   "outputs": [],
   "source": [
    "misog_vector = nlp(\"Women are inferior to men.\").vector"
   ]
  },
  {
   "cell_type": "code",
   "execution_count": 53,
   "metadata": {
    "pycharm": {
     "is_executing": false
    }
   },
   "outputs": [
    {
     "data": {
      "text/plain": [
       "array([1])"
      ]
     },
     "execution_count": 53,
     "metadata": {},
     "output_type": "execute_result"
    }
   ],
   "source": [
    "best_rf.predict(misog_vector.reshape(1, -1))"
   ]
  },
  {
   "cell_type": "code",
   "execution_count": 54,
   "metadata": {
    "pycharm": {
     "is_executing": false
    }
   },
   "outputs": [
    {
     "data": {
      "text/plain": [
       "array([0])"
      ]
     },
     "execution_count": 54,
     "metadata": {},
     "output_type": "execute_result"
    }
   ],
   "source": [
    "best_rf.predict(nlp(\"Have a nice day\").vector.reshape(1, -1))"
   ]
  },
  {
   "cell_type": "markdown",
   "metadata": {},
   "source": [
    "Seems to be working! :-)"
   ]
  },
  {
   "cell_type": "code",
   "execution_count": null,
   "metadata": {
    "pycharm": {
     "is_executing": false
    }
   },
   "outputs": [],
   "source": []
  }
 ],
 "metadata": {
  "kernelspec": {
   "display_name": "Python 3",
   "language": "python",
   "name": "python3"
  },
  "language_info": {
   "codemirror_mode": {
    "name": "ipython",
    "version": 3
   },
   "file_extension": ".py",
   "mimetype": "text/x-python",
   "name": "python",
   "nbconvert_exporter": "python",
   "pygments_lexer": "ipython3",
   "version": "3.7.6"
  },
  "pycharm": {
   "stem_cell": {
    "cell_type": "raw",
    "metadata": {
     "collapsed": false
    },
    "source": []
   }
  }
 },
 "nbformat": 4,
 "nbformat_minor": 2
}
