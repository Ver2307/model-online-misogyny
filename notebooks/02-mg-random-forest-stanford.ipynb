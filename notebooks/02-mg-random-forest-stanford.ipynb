{
 "cells": [
  {
   "cell_type": "markdown",
   "metadata": {},
   "source": [
    "# Train a random-forest classifier\n",
    "\n",
    "Let's see how a random forest can learn to distinguish misogynistic\n",
    "speech from generic speech."
   ]
  },
  {
   "cell_type": "code",
   "execution_count": 95,
   "metadata": {
    "pycharm": {
     "is_executing": false
    }
   },
   "outputs": [],
   "source": [
    "import numpy as np\n",
    "import pandas as pd\n",
    "import spacy\n",
    "import matplotlib.pyplot as plt\n",
    "plt.style.use('ggplot')\n",
    "%matplotlib inline"
   ]
  },
  {
   "cell_type": "code",
   "execution_count": 96,
   "metadata": {
    "pycharm": {
     "is_executing": false
    }
   },
   "outputs": [],
   "source": [
    "from sklearn.decomposition import PCA\n",
    "from sklearn.ensemble import RandomForestClassifier\n",
    "from sklearn.model_selection import train_test_split\n",
    "from sklearn.metrics import auc, f1_score, confusion_matrix, roc_curve\n",
    "from sklearn.model_selection import GridSearchCV"
   ]
  },
  {
   "cell_type": "markdown",
   "metadata": {},
   "source": [
    "*Know more about Sci-kit learn: https://scikit-learn.org/stable/*"
   ]
  },
  {
   "cell_type": "markdown",
   "metadata": {},
   "source": [
    "### Load the data"
   ]
  },
  {
   "cell_type": "code",
   "execution_count": 97,
   "metadata": {
    "pycharm": {
     "is_executing": false
    }
   },
   "outputs": [],
   "source": [
    "df = pd.read_csv(\"../data/processed/stanford.csv\")"
   ]
  },
  {
   "cell_type": "code",
   "execution_count": 98,
   "metadata": {
    "pycharm": {
     "is_executing": false
    }
   },
   "outputs": [
    {
     "data": {
      "text/plain": [
       "(31014, 2)"
      ]
     },
     "execution_count": 98,
     "metadata": {},
     "output_type": "execute_result"
    }
   ],
   "source": [
    "df.shape"
   ]
  },
  {
   "cell_type": "code",
   "execution_count": 99,
   "metadata": {
    "pycharm": {
     "is_executing": false
    }
   },
   "outputs": [
    {
     "name": "stdout",
     "output_type": "stream",
     "text": [
      "<class 'pandas.core.frame.DataFrame'>\n",
      "RangeIndex: 31014 entries, 0 to 31013\n",
      "Data columns (total 2 columns):\n",
      "text     31014 non-null object\n",
      "label    31014 non-null int64\n",
      "dtypes: int64(1), object(1)\n",
      "memory usage: 484.7+ KB\n"
     ]
    }
   ],
   "source": [
    "df.info()"
   ]
  },
  {
   "cell_type": "markdown",
   "metadata": {},
   "source": [
    "### Balance classes\n",
    "\n",
    "To avoid bias (i.e. when an algorithm prefers one class to the other) we need to have an equal number of elements for each class."
   ]
  },
  {
   "cell_type": "code",
   "execution_count": 100,
   "metadata": {
    "pycharm": {
     "is_executing": false
    }
   },
   "outputs": [
    {
     "data": {
      "text/html": [
       "<div>\n",
       "<style scoped>\n",
       "    .dataframe tbody tr th:only-of-type {\n",
       "        vertical-align: middle;\n",
       "    }\n",
       "\n",
       "    .dataframe tbody tr th {\n",
       "        vertical-align: top;\n",
       "    }\n",
       "\n",
       "    .dataframe thead th {\n",
       "        text-align: right;\n",
       "    }\n",
       "</style>\n",
       "<table border=\"1\" class=\"dataframe\">\n",
       "  <thead>\n",
       "    <tr style=\"text-align: right;\">\n",
       "      <th></th>\n",
       "      <th>text</th>\n",
       "    </tr>\n",
       "    <tr>\n",
       "      <th>label</th>\n",
       "      <th></th>\n",
       "    </tr>\n",
       "  </thead>\n",
       "  <tbody>\n",
       "    <tr>\n",
       "      <th>0</th>\n",
       "      <td>11273</td>\n",
       "    </tr>\n",
       "    <tr>\n",
       "      <th>1</th>\n",
       "      <td>19741</td>\n",
       "    </tr>\n",
       "  </tbody>\n",
       "</table>\n",
       "</div>"
      ],
      "text/plain": [
       "        text\n",
       "label       \n",
       "0      11273\n",
       "1      19741"
      ]
     },
     "execution_count": 100,
     "metadata": {},
     "output_type": "execute_result"
    }
   ],
   "source": [
    "df.groupby('label').count()"
   ]
  },
  {
   "cell_type": "markdown",
   "metadata": {},
   "source": [
    "One can see here that we have a different number of elements for the two\n",
    "classes.\n",
    "Let's change that.\n",
    "First let's count the elements of the minority class."
   ]
  },
  {
   "cell_type": "code",
   "execution_count": 101,
   "metadata": {
    "pycharm": {
     "is_executing": false
    }
   },
   "outputs": [
    {
     "data": {
      "text/plain": [
       "11273"
      ]
     },
     "execution_count": 101,
     "metadata": {},
     "output_type": "execute_result"
    }
   ],
   "source": [
    "n_elements = (df['label']==0).sum()\n",
    "n_elements"
   ]
  },
  {
   "cell_type": "markdown",
   "metadata": {},
   "source": [
    "Then sample an equal number from the majority class."
   ]
  },
  {
   "cell_type": "code",
   "execution_count": 102,
   "metadata": {
    "pycharm": {
     "is_executing": false
    }
   },
   "outputs": [
    {
     "data": {
      "text/html": [
       "<div>\n",
       "<style scoped>\n",
       "    .dataframe tbody tr th:only-of-type {\n",
       "        vertical-align: middle;\n",
       "    }\n",
       "\n",
       "    .dataframe tbody tr th {\n",
       "        vertical-align: top;\n",
       "    }\n",
       "\n",
       "    .dataframe thead th {\n",
       "        text-align: right;\n",
       "    }\n",
       "</style>\n",
       "<table border=\"1\" class=\"dataframe\">\n",
       "  <thead>\n",
       "    <tr style=\"text-align: right;\">\n",
       "      <th></th>\n",
       "      <th>text</th>\n",
       "      <th>label</th>\n",
       "    </tr>\n",
       "  </thead>\n",
       "  <tbody>\n",
       "    <tr>\n",
       "      <th>10724</th>\n",
       "      <td>@DYKE_37 O que DST?</td>\n",
       "      <td>1</td>\n",
       "    </tr>\n",
       "    <tr>\n",
       "      <th>15443</th>\n",
       "      <td>A buzz cut does not a dyke make</td>\n",
       "      <td>1</td>\n",
       "    </tr>\n",
       "    <tr>\n",
       "      <th>7968</th>\n",
       "      <td>@my_suhr_guitar @KondratieffWave @NicolaSturge...</td>\n",
       "      <td>1</td>\n",
       "    </tr>\n",
       "    <tr>\n",
       "      <th>30805</th>\n",
       "      <td>@lovedayas THIS WASNT EVEN FUNNY BITCH OAK</td>\n",
       "      <td>1</td>\n",
       "    </tr>\n",
       "    <tr>\n",
       "      <th>30564</th>\n",
       "      <td>@DreadLegend_ Its gone be all worth it when im...</td>\n",
       "      <td>1</td>\n",
       "    </tr>\n",
       "  </tbody>\n",
       "</table>\n",
       "</div>"
      ],
      "text/plain": [
       "                                                    text  label\n",
       "10724                                @DYKE_37 O que DST?      1\n",
       "15443                    A buzz cut does not a dyke make      1\n",
       "7968   @my_suhr_guitar @KondratieffWave @NicolaSturge...      1\n",
       "30805         @lovedayas THIS WASNT EVEN FUNNY BITCH OAK      1\n",
       "30564  @DreadLegend_ Its gone be all worth it when im...      1"
      ]
     },
     "execution_count": 102,
     "metadata": {},
     "output_type": "execute_result"
    }
   ],
   "source": [
    "df_positive = df[df['label']==1].sample(n_elements, random_state=42)\n",
    "df_positive.head()"
   ]
  },
  {
   "cell_type": "code",
   "execution_count": 103,
   "metadata": {
    "pycharm": {
     "is_executing": false
    }
   },
   "outputs": [
    {
     "data": {
      "text/html": [
       "<div>\n",
       "<style scoped>\n",
       "    .dataframe tbody tr th:only-of-type {\n",
       "        vertical-align: middle;\n",
       "    }\n",
       "\n",
       "    .dataframe tbody tr th {\n",
       "        vertical-align: top;\n",
       "    }\n",
       "\n",
       "    .dataframe thead th {\n",
       "        text-align: right;\n",
       "    }\n",
       "</style>\n",
       "<table border=\"1\" class=\"dataframe\">\n",
       "  <thead>\n",
       "    <tr style=\"text-align: right;\">\n",
       "      <th></th>\n",
       "      <th>text</th>\n",
       "      <th>label</th>\n",
       "    </tr>\n",
       "  </thead>\n",
       "  <tbody>\n",
       "    <tr>\n",
       "      <th>0</th>\n",
       "      <td>The new Doras cute af</td>\n",
       "      <td>0</td>\n",
       "    </tr>\n",
       "    <tr>\n",
       "      <th>1</th>\n",
       "      <td>@minniemonikive well</td>\n",
       "      <td>0</td>\n",
       "    </tr>\n",
       "    <tr>\n",
       "      <th>2</th>\n",
       "      <td>@tangletorn We will be killed by a snake 3</td>\n",
       "      <td>0</td>\n",
       "    </tr>\n",
       "    <tr>\n",
       "      <th>3</th>\n",
       "      <td>@ATX_fight_club @AOC JFK was a clandestine aus...</td>\n",
       "      <td>0</td>\n",
       "    </tr>\n",
       "    <tr>\n",
       "      <th>4</th>\n",
       "      <td>@ocorreia_ @skank_ @duudamarquess_ eu tambm kk...</td>\n",
       "      <td>0</td>\n",
       "    </tr>\n",
       "    <tr>\n",
       "      <th>5</th>\n",
       "      <td>@AOC https//t.co/Ws2TTpXxAP</td>\n",
       "      <td>0</td>\n",
       "    </tr>\n",
       "    <tr>\n",
       "      <th>6</th>\n",
       "      <td>@AOC Zion</td>\n",
       "      <td>0</td>\n",
       "    </tr>\n",
       "    <tr>\n",
       "      <th>7</th>\n",
       "      <td>@DYKE_37 T pra frente hein</td>\n",
       "      <td>0</td>\n",
       "    </tr>\n",
       "    <tr>\n",
       "      <th>8</th>\n",
       "      <td>@AOC @RealGwenCarr Justice is a tricky concept...</td>\n",
       "      <td>0</td>\n",
       "    </tr>\n",
       "    <tr>\n",
       "      <th>9</th>\n",
       "      <td>@AOC Trumps a racist nut job and if anyone loo...</td>\n",
       "      <td>0</td>\n",
       "    </tr>\n",
       "    <tr>\n",
       "      <th>10</th>\n",
       "      <td>@Wojciehowicz @allenbaylus @jbenton @AthertonK...</td>\n",
       "      <td>0</td>\n",
       "    </tr>\n",
       "    <tr>\n",
       "      <th>11</th>\n",
       "      <td>@CitizenWonk @RepSpeier Zero proof he did that...</td>\n",
       "      <td>0</td>\n",
       "    </tr>\n",
       "    <tr>\n",
       "      <th>12</th>\n",
       "      <td>@adolwyn @EW @LacyMB Yes. I fear some TNG cast...</td>\n",
       "      <td>0</td>\n",
       "    </tr>\n",
       "    <tr>\n",
       "      <th>13</th>\n",
       "      <td>@rrock83571156 @RashidaTlaib @IlhanMN @AOC @Ay...</td>\n",
       "      <td>0</td>\n",
       "    </tr>\n",
       "    <tr>\n",
       "      <th>14</th>\n",
       "      <td>@Public_Citizen @AOC Please take all my money ...</td>\n",
       "      <td>0</td>\n",
       "    </tr>\n",
       "    <tr>\n",
       "      <th>15</th>\n",
       "      <td>@Gusdocs1 @dw_politics @NicolaSturgeon Actual ...</td>\n",
       "      <td>0</td>\n",
       "    </tr>\n",
       "    <tr>\n",
       "      <th>16</th>\n",
       "      <td>No one deserves to be killed in such a brutal ...</td>\n",
       "      <td>0</td>\n",
       "    </tr>\n",
       "    <tr>\n",
       "      <th>17</th>\n",
       "      <td>@NiallcNPC31 @dmcbfs @williamcrawley @AllisonM...</td>\n",
       "      <td>0</td>\n",
       "    </tr>\n",
       "    <tr>\n",
       "      <th>18</th>\n",
       "      <td>@cornwall70001 @SteveSheasby @Smur_AOK @BackBo...</td>\n",
       "      <td>0</td>\n",
       "    </tr>\n",
       "    <tr>\n",
       "      <th>19</th>\n",
       "      <td>@donnantwich @NicolaSturgeon So you agree with...</td>\n",
       "      <td>0</td>\n",
       "    </tr>\n",
       "    <tr>\n",
       "      <th>20</th>\n",
       "      <td>@IKealeySomerset @onlivvysfarm @Daily_Lib3rty ...</td>\n",
       "      <td>0</td>\n",
       "    </tr>\n",
       "    <tr>\n",
       "      <th>21</th>\n",
       "      <td>@Lstedmanbryce @NicolaSturgeon Someone on here...</td>\n",
       "      <td>0</td>\n",
       "    </tr>\n",
       "    <tr>\n",
       "      <th>22</th>\n",
       "      <td>@NicolaSturgeon @IanBlackfordMP You're silence...</td>\n",
       "      <td>0</td>\n",
       "    </tr>\n",
       "    <tr>\n",
       "      <th>23</th>\n",
       "      <td>@_mandieegraham @vnthonybvnks Tuhhhhhh thats a...</td>\n",
       "      <td>0</td>\n",
       "    </tr>\n",
       "    <tr>\n",
       "      <th>24</th>\n",
       "      <td>you see how loona hyunjin was born before skz ...</td>\n",
       "      <td>0</td>\n",
       "    </tr>\n",
       "    <tr>\n",
       "      <th>25</th>\n",
       "      <td>@notquitefrodo @UnburntWitch Is this a bio of ...</td>\n",
       "      <td>0</td>\n",
       "    </tr>\n",
       "    <tr>\n",
       "      <th>26</th>\n",
       "      <td>This lady camel toe is hanging</td>\n",
       "      <td>0</td>\n",
       "    </tr>\n",
       "    <tr>\n",
       "      <th>27</th>\n",
       "      <td>@Emolclause @pookietooth @AOC where is the jou...</td>\n",
       "      <td>0</td>\n",
       "    </tr>\n",
       "    <tr>\n",
       "      <th>28</th>\n",
       "      <td>@JLHerms @AOC Haha</td>\n",
       "      <td>0</td>\n",
       "    </tr>\n",
       "    <tr>\n",
       "      <th>29</th>\n",
       "      <td>@TEDDYBEAR2079 @IsThisAB0t @theSNP @NicolaStur...</td>\n",
       "      <td>0</td>\n",
       "    </tr>\n",
       "    <tr>\n",
       "      <th>...</th>\n",
       "      <td>...</td>\n",
       "      <td>...</td>\n",
       "    </tr>\n",
       "    <tr>\n",
       "      <th>22516</th>\n",
       "      <td>@catturd2 Note wrote that we were watching a d...</td>\n",
       "      <td>1</td>\n",
       "    </tr>\n",
       "    <tr>\n",
       "      <th>22517</th>\n",
       "      <td>@AOC Hoax !</td>\n",
       "      <td>1</td>\n",
       "    </tr>\n",
       "    <tr>\n",
       "      <th>22518</th>\n",
       "      <td>@MMFlint @RashidaTlaib @AOC @IlhanMN @AyannaPr...</td>\n",
       "      <td>1</td>\n",
       "    </tr>\n",
       "    <tr>\n",
       "      <th>22519</th>\n",
       "      <td>@AOC Have you figured out how to turn the stov...</td>\n",
       "      <td>1</td>\n",
       "    </tr>\n",
       "    <tr>\n",
       "      <th>22520</th>\n",
       "      <td>@kaiisyourhomie Then what do you mean then dyk...</td>\n",
       "      <td>1</td>\n",
       "    </tr>\n",
       "    <tr>\n",
       "      <th>22521</th>\n",
       "      <td>@EmmaVigeland @AOC Are you sure she knows what...</td>\n",
       "      <td>1</td>\n",
       "    </tr>\n",
       "    <tr>\n",
       "      <th>22522</th>\n",
       "      <td>@IamJohnBurnett @AOC could there be one of the...</td>\n",
       "      <td>1</td>\n",
       "    </tr>\n",
       "    <tr>\n",
       "      <th>22523</th>\n",
       "      <td>@possiblykpop First wow this bitch horny as fu...</td>\n",
       "      <td>1</td>\n",
       "    </tr>\n",
       "    <tr>\n",
       "      <th>22524</th>\n",
       "      <td>if god aint your core you gone go out like a w...</td>\n",
       "      <td>1</td>\n",
       "    </tr>\n",
       "    <tr>\n",
       "      <th>22525</th>\n",
       "      <td>how fucking DARE she run again this is why we ...</td>\n",
       "      <td>1</td>\n",
       "    </tr>\n",
       "    <tr>\n",
       "      <th>22526</th>\n",
       "      <td>Open war between @SpeakerPelosi and @AOC now. ...</td>\n",
       "      <td>1</td>\n",
       "    </tr>\n",
       "    <tr>\n",
       "      <th>22527</th>\n",
       "      <td>@triviabusan maybe if you would text me back s...</td>\n",
       "      <td>1</td>\n",
       "    </tr>\n",
       "    <tr>\n",
       "      <th>22528</th>\n",
       "      <td>@DougieMacM @NicolaSturgeon Excellent idea. Le...</td>\n",
       "      <td>1</td>\n",
       "    </tr>\n",
       "    <tr>\n",
       "      <th>22529</th>\n",
       "      <td>Cordae lit that bitch up, and as a group shit ...</td>\n",
       "      <td>1</td>\n",
       "    </tr>\n",
       "    <tr>\n",
       "      <th>22530</th>\n",
       "      <td>oh yeah Im sick of this bitch today I need to ...</td>\n",
       "      <td>1</td>\n",
       "    </tr>\n",
       "    <tr>\n",
       "      <th>22531</th>\n",
       "      <td>im only mad at this whole thing bc i know that...</td>\n",
       "      <td>1</td>\n",
       "    </tr>\n",
       "    <tr>\n",
       "      <th>22532</th>\n",
       "      <td>@PatriotNoTrump @jrhynes57 @secularcitizen2 @r...</td>\n",
       "      <td>1</td>\n",
       "    </tr>\n",
       "    <tr>\n",
       "      <th>22533</th>\n",
       "      <td>@RealSaavedra @AOC Liar, liar, pants on fire.</td>\n",
       "      <td>1</td>\n",
       "    </tr>\n",
       "    <tr>\n",
       "      <th>22534</th>\n",
       "      <td>@niashortass bitch you said something in that ...</td>\n",
       "      <td>1</td>\n",
       "    </tr>\n",
       "    <tr>\n",
       "      <th>22535</th>\n",
       "      <td>@NJ_2_FL @Alyssa_Milano @AOC @SpeakerPelosi @I...</td>\n",
       "      <td>1</td>\n",
       "    </tr>\n",
       "    <tr>\n",
       "      <th>22536</th>\n",
       "      <td>@AOC Bryce Canyon, Utah. Yosemite National Par...</td>\n",
       "      <td>1</td>\n",
       "    </tr>\n",
       "    <tr>\n",
       "      <th>22537</th>\n",
       "      <td>@dcexaminer @KellyannePolls @AOC @RepCummings ...</td>\n",
       "      <td>1</td>\n",
       "    </tr>\n",
       "    <tr>\n",
       "      <th>22538</th>\n",
       "      <td>@cenkuygur @justicedems @AOC @IlhanMN @Rashida...</td>\n",
       "      <td>1</td>\n",
       "    </tr>\n",
       "    <tr>\n",
       "      <th>22539</th>\n",
       "      <td>@BibbyKun24 stay on your pendejadas &amp;amp; ill ...</td>\n",
       "      <td>1</td>\n",
       "    </tr>\n",
       "    <tr>\n",
       "      <th>22540</th>\n",
       "      <td>@sadjb3410 @MrRosewatergod (o;</td>\n",
       "      <td>1</td>\n",
       "    </tr>\n",
       "    <tr>\n",
       "      <th>22541</th>\n",
       "      <td>@blackearnside @richardqspencer @BBCsarahsmith...</td>\n",
       "      <td>1</td>\n",
       "    </tr>\n",
       "    <tr>\n",
       "      <th>22542</th>\n",
       "      <td>Hope shes having a wonderful time with her won...</td>\n",
       "      <td>1</td>\n",
       "    </tr>\n",
       "    <tr>\n",
       "      <th>22543</th>\n",
       "      <td>hnn i want to be humiliated and degraded for b...</td>\n",
       "      <td>1</td>\n",
       "    </tr>\n",
       "    <tr>\n",
       "      <th>22544</th>\n",
       "      <td>Message to.. 1. Be good 2. Thanks for making m...</td>\n",
       "      <td>1</td>\n",
       "    </tr>\n",
       "    <tr>\n",
       "      <th>22545</th>\n",
       "      <td>@AOC marry me bbg</td>\n",
       "      <td>1</td>\n",
       "    </tr>\n",
       "  </tbody>\n",
       "</table>\n",
       "<p>22546 rows × 2 columns</p>\n",
       "</div>"
      ],
      "text/plain": [
       "                                                    text  label\n",
       "0                                  The new Doras cute af      0\n",
       "1                                   @minniemonikive well      0\n",
       "2             @tangletorn We will be killed by a snake 3      0\n",
       "3      @ATX_fight_club @AOC JFK was a clandestine aus...      0\n",
       "4      @ocorreia_ @skank_ @duudamarquess_ eu tambm kk...      0\n",
       "5                            @AOC https//t.co/Ws2TTpXxAP      0\n",
       "6                                              @AOC Zion      0\n",
       "7                             @DYKE_37 T pra frente hein      0\n",
       "8      @AOC @RealGwenCarr Justice is a tricky concept...      0\n",
       "9      @AOC Trumps a racist nut job and if anyone loo...      0\n",
       "10     @Wojciehowicz @allenbaylus @jbenton @AthertonK...      0\n",
       "11     @CitizenWonk @RepSpeier Zero proof he did that...      0\n",
       "12     @adolwyn @EW @LacyMB Yes. I fear some TNG cast...      0\n",
       "13     @rrock83571156 @RashidaTlaib @IlhanMN @AOC @Ay...      0\n",
       "14     @Public_Citizen @AOC Please take all my money ...      0\n",
       "15     @Gusdocs1 @dw_politics @NicolaSturgeon Actual ...      0\n",
       "16     No one deserves to be killed in such a brutal ...      0\n",
       "17     @NiallcNPC31 @dmcbfs @williamcrawley @AllisonM...      0\n",
       "18     @cornwall70001 @SteveSheasby @Smur_AOK @BackBo...      0\n",
       "19     @donnantwich @NicolaSturgeon So you agree with...      0\n",
       "20     @IKealeySomerset @onlivvysfarm @Daily_Lib3rty ...      0\n",
       "21     @Lstedmanbryce @NicolaSturgeon Someone on here...      0\n",
       "22     @NicolaSturgeon @IanBlackfordMP You're silence...      0\n",
       "23     @_mandieegraham @vnthonybvnks Tuhhhhhh thats a...      0\n",
       "24     you see how loona hyunjin was born before skz ...      0\n",
       "25     @notquitefrodo @UnburntWitch Is this a bio of ...      0\n",
       "26                        This lady camel toe is hanging      0\n",
       "27     @Emolclause @pookietooth @AOC where is the jou...      0\n",
       "28                                    @JLHerms @AOC Haha      0\n",
       "29     @TEDDYBEAR2079 @IsThisAB0t @theSNP @NicolaStur...      0\n",
       "...                                                  ...    ...\n",
       "22516  @catturd2 Note wrote that we were watching a d...      1\n",
       "22517                                        @AOC Hoax !      1\n",
       "22518  @MMFlint @RashidaTlaib @AOC @IlhanMN @AyannaPr...      1\n",
       "22519  @AOC Have you figured out how to turn the stov...      1\n",
       "22520  @kaiisyourhomie Then what do you mean then dyk...      1\n",
       "22521  @EmmaVigeland @AOC Are you sure she knows what...      1\n",
       "22522  @IamJohnBurnett @AOC could there be one of the...      1\n",
       "22523  @possiblykpop First wow this bitch horny as fu...      1\n",
       "22524  if god aint your core you gone go out like a w...      1\n",
       "22525  how fucking DARE she run again this is why we ...      1\n",
       "22526  Open war between @SpeakerPelosi and @AOC now. ...      1\n",
       "22527  @triviabusan maybe if you would text me back s...      1\n",
       "22528  @DougieMacM @NicolaSturgeon Excellent idea. Le...      1\n",
       "22529  Cordae lit that bitch up, and as a group shit ...      1\n",
       "22530  oh yeah Im sick of this bitch today I need to ...      1\n",
       "22531  im only mad at this whole thing bc i know that...      1\n",
       "22532  @PatriotNoTrump @jrhynes57 @secularcitizen2 @r...      1\n",
       "22533      @RealSaavedra @AOC Liar, liar, pants on fire.      1\n",
       "22534  @niashortass bitch you said something in that ...      1\n",
       "22535  @NJ_2_FL @Alyssa_Milano @AOC @SpeakerPelosi @I...      1\n",
       "22536  @AOC Bryce Canyon, Utah. Yosemite National Par...      1\n",
       "22537  @dcexaminer @KellyannePolls @AOC @RepCummings ...      1\n",
       "22538  @cenkuygur @justicedems @AOC @IlhanMN @Rashida...      1\n",
       "22539  @BibbyKun24 stay on your pendejadas &amp; ill ...      1\n",
       "22540                     @sadjb3410 @MrRosewatergod (o;      1\n",
       "22541  @blackearnside @richardqspencer @BBCsarahsmith...      1\n",
       "22542  Hope shes having a wonderful time with her won...      1\n",
       "22543  hnn i want to be humiliated and degraded for b...      1\n",
       "22544  Message to.. 1. Be good 2. Thanks for making m...      1\n",
       "22545                                  @AOC marry me bbg      1\n",
       "\n",
       "[22546 rows x 2 columns]"
      ]
     },
     "execution_count": 103,
     "metadata": {},
     "output_type": "execute_result"
    }
   ],
   "source": [
    "df_balanced = pd.concat((df[df['label']==0], df_positive)).reset_index(drop=True)\n",
    "df_balanced"
   ]
  },
  {
   "cell_type": "markdown",
   "metadata": {},
   "source": [
    "We store the balanced data in the original dataframe."
   ]
  },
  {
   "cell_type": "code",
   "execution_count": 104,
   "metadata": {
    "pycharm": {
     "is_executing": false
    }
   },
   "outputs": [],
   "source": [
    "df = df_balanced"
   ]
  },
  {
   "cell_type": "markdown",
   "metadata": {},
   "source": [
    "Now let's create the Spacy NLP documents from our text data.\n",
    "\n",
    "First we need to load the language model."
   ]
  },
  {
   "cell_type": "code",
   "execution_count": 105,
   "metadata": {
    "pycharm": {
     "is_executing": false
    }
   },
   "outputs": [],
   "source": [
    "nlp = spacy.load(\"en_core_web_md\")"
   ]
  },
  {
   "cell_type": "code",
   "execution_count": 106,
   "metadata": {
    "pycharm": {
     "is_executing": false
    }
   },
   "outputs": [],
   "source": [
    "# The .pipe() method batch processes all the text\n",
    "docs = list(nlp.pipe(df['text']))"
   ]
  },
  {
   "cell_type": "markdown",
   "metadata": {},
   "source": [
    "### Vectors visualization\n",
    "\n",
    "Here we take the document vectors from Spacy."
   ]
  },
  {
   "cell_type": "code",
   "execution_count": 107,
   "metadata": {
    "pycharm": {
     "is_executing": false
    }
   },
   "outputs": [],
   "source": [
    "vector_matrix = np.array(list(map(lambda x: x.vector, docs)))"
   ]
  },
  {
   "cell_type": "code",
   "execution_count": 108,
   "metadata": {
    "pycharm": {
     "is_executing": false
    }
   },
   "outputs": [
    {
     "data": {
      "text/plain": [
       "(22546, 300)"
      ]
     },
     "execution_count": 108,
     "metadata": {},
     "output_type": "execute_result"
    }
   ],
   "source": [
    "vector_matrix.shape"
   ]
  },
  {
   "cell_type": "markdown",
   "metadata": {},
   "source": [
    "We use PCA to project the vectors to their principal components."
   ]
  },
  {
   "cell_type": "code",
   "execution_count": 109,
   "metadata": {
    "pycharm": {
     "is_executing": false
    }
   },
   "outputs": [],
   "source": [
    "pca = PCA(2)"
   ]
  },
  {
   "cell_type": "code",
   "execution_count": 110,
   "metadata": {
    "pycharm": {
     "is_executing": false
    }
   },
   "outputs": [],
   "source": [
    "x_pca = pca.fit_transform(vector_matrix)"
   ]
  },
  {
   "cell_type": "code",
   "execution_count": 111,
   "metadata": {
    "pycharm": {
     "is_executing": false
    }
   },
   "outputs": [
    {
     "data": {
      "text/plain": [
       "(22546, 2)"
      ]
     },
     "execution_count": 111,
     "metadata": {},
     "output_type": "execute_result"
    }
   ],
   "source": [
    "x_pca.shape"
   ]
  },
  {
   "cell_type": "code",
   "execution_count": 112,
   "metadata": {
    "pycharm": {
     "is_executing": false
    }
   },
   "outputs": [
    {
     "data": {
      "image/png": "[encoded data removed]",
      "text/plain": [
       "<Figure size 432x288 with 2 Axes>"
      ]
     },
     "metadata": {
      "needs_background": "light"
     },
     "output_type": "display_data"
    }
   ],
   "source": [
    "plt.scatter(x_pca[:, 0], x_pca[:, 1], c=df['label'].tolist(), alpha=.05, cmap='rainbow');\n",
    "plt.colorbar();"
   ]
  },
  {
   "cell_type": "markdown",
   "metadata": {},
   "source": [
    "## Random forest classifier\n",
    "\n",
    "The random forest algorithm is a pretty versatile one and generally\n",
    "performs well.\n",
    "Let's use the default parameters with just one change:\n",
    "we'll use 100 trees."
   ]
  },
  {
   "cell_type": "code",
   "execution_count": 113,
   "metadata": {
    "pycharm": {
     "is_executing": false
    }
   },
   "outputs": [],
   "source": [
    "rf = RandomForestClassifier(n_estimators=100, n_jobs=-1)"
   ]
  },
  {
   "cell_type": "markdown",
   "metadata": {},
   "source": [
    "### Train-test split\n",
    "\n",
    "It's important to split the data consistently\n",
    "so that we keep a 50/50 ratio both in training and test."
   ]
  },
  {
   "cell_type": "code",
   "execution_count": 114,
   "metadata": {
    "pycharm": {
     "is_executing": false
    }
   },
   "outputs": [],
   "source": [
    "x_train, x_test, y_train, y_test = train_test_split(\n",
    "    vector_matrix,\n",
    "    df['label'].to_numpy(),\n",
    "    train_size=.8,\n",
    "    shuffle=True,\n",
    "    stratify=df['label'],\n",
    "    random_state=42,\n",
    ")"
   ]
  },
  {
   "cell_type": "code",
   "execution_count": 115,
   "metadata": {
    "pycharm": {
     "is_executing": false
    }
   },
   "outputs": [
    {
     "data": {
      "text/plain": [
       "(18036, 300)"
      ]
     },
     "execution_count": 115,
     "metadata": {},
     "output_type": "execute_result"
    }
   ],
   "source": [
    "x_train.shape"
   ]
  },
  {
   "cell_type": "markdown",
   "metadata": {},
   "source": [
    "Let's check the class balance:"
   ]
  },
  {
   "cell_type": "code",
   "execution_count": 116,
   "metadata": {
    "pycharm": {
     "is_executing": false
    }
   },
   "outputs": [
    {
     "data": {
      "text/plain": [
       "(0.5, 0.5)"
      ]
     },
     "execution_count": 116,
     "metadata": {},
     "output_type": "execute_result"
    }
   ],
   "source": [
    "y_train.mean(), y_test.mean()"
   ]
  },
  {
   "cell_type": "markdown",
   "metadata": {},
   "source": [
    "And now we fit the model:"
   ]
  },
  {
   "cell_type": "code",
   "execution_count": 117,
   "metadata": {
    "pycharm": {
     "is_executing": false
    },
    "scrolled": true
   },
   "outputs": [
    {
     "data": {
      "text/plain": [
       "RandomForestClassifier(bootstrap=True, class_weight=None, criterion='gini',\n",
       "                       max_depth=None, max_features='auto', max_leaf_nodes=None,\n",
       "                       min_impurity_decrease=0.0, min_impurity_split=None,\n",
       "                       min_samples_leaf=1, min_samples_split=2,\n",
       "                       min_weight_fraction_leaf=0.0, n_estimators=100,\n",
       "                       n_jobs=-1, oob_score=False, random_state=None, verbose=0,\n",
       "                       warm_start=False)"
      ]
     },
     "execution_count": 117,
     "metadata": {},
     "output_type": "execute_result"
    }
   ],
   "source": [
    "rf.fit(x_train, y_train)"
   ]
  },
  {
   "cell_type": "markdown",
   "metadata": {},
   "source": [
    "Let's try the fitted model on the test set:"
   ]
  },
  {
   "cell_type": "code",
   "execution_count": 118,
   "metadata": {
    "pycharm": {
     "is_executing": false
    }
   },
   "outputs": [],
   "source": [
    "y_pred = rf.predict(x_test)"
   ]
  },
  {
   "cell_type": "markdown",
   "metadata": {},
   "source": [
    "We can also extract probabilities.\n",
    "The [1,0] prediction can always be recomputed\n",
    "from the probabilities, knowing that the prediction is 1 when\n",
    "the probability > 0.5 and 0 otherwise."
   ]
  },
  {
   "cell_type": "code",
   "execution_count": 119,
   "metadata": {
    "pycharm": {
     "is_executing": false
    }
   },
   "outputs": [],
   "source": [
    "y_proba = rf.predict_proba(x_test)"
   ]
  },
  {
   "cell_type": "markdown",
   "metadata": {},
   "source": [
    "There are several metrics to evaluate the performance of the model.\n",
    "Common ones include the F1-score, the confusion matrix,\n",
    "the ROC curve, and the area under the ROC curve (AUC)."
   ]
  },
  {
   "cell_type": "code",
   "execution_count": 120,
   "metadata": {
    "pycharm": {
     "is_executing": false
    }
   },
   "outputs": [
    {
     "data": {
      "text/plain": [
       "0.7707832772705431"
      ]
     },
     "execution_count": 120,
     "metadata": {},
     "output_type": "execute_result"
    }
   ],
   "source": [
    "f1_score(y_test, y_pred)"
   ]
  },
  {
   "cell_type": "markdown",
   "metadata": {},
   "source": [
    "Let's check what we get from the training data, just for fun:"
   ]
  },
  {
   "cell_type": "code",
   "execution_count": 121,
   "metadata": {
    "pycharm": {
     "is_executing": false
    }
   },
   "outputs": [
    {
     "data": {
      "text/plain": [
       "0.9867564534231201"
      ]
     },
     "execution_count": 121,
     "metadata": {},
     "output_type": "execute_result"
    }
   ],
   "source": [
    "f1_score(y_train, rf.predict(x_train))"
   ]
  },
  {
   "cell_type": "markdown",
   "metadata": {},
   "source": [
    "This is a very high value, which is expected since the training data has been used to train the model.\n",
    "\n",
    "Let's look at what the prediction arrays look like."
   ]
  },
  {
   "cell_type": "code",
   "execution_count": 122,
   "metadata": {
    "pycharm": {
     "is_executing": false
    }
   },
   "outputs": [
    {
     "data": {
      "text/plain": [
       "array([0, 0, 1, ..., 0, 0, 1])"
      ]
     },
     "execution_count": 122,
     "metadata": {},
     "output_type": "execute_result"
    }
   ],
   "source": [
    "y_pred"
   ]
  },
  {
   "cell_type": "code",
   "execution_count": 123,
   "metadata": {
    "pycharm": {
     "is_executing": false
    }
   },
   "outputs": [
    {
     "data": {
      "text/plain": [
       "array([[0.53      , 0.47      ],\n",
       "       [0.52666667, 0.47333333],\n",
       "       [0.4575    , 0.5425    ],\n",
       "       ...,\n",
       "       [0.54      , 0.46      ],\n",
       "       [0.66      , 0.34      ],\n",
       "       [0.49      , 0.51      ]])"
      ]
     },
     "execution_count": 123,
     "metadata": {},
     "output_type": "execute_result"
    }
   ],
   "source": [
    "y_proba"
   ]
  },
  {
   "cell_type": "markdown",
   "metadata": {},
   "source": [
    "`y_proba` contains two columns, the first is the probability for class 0, the second is the probability\n",
    "for class 1."
   ]
  },
  {
   "cell_type": "code",
   "execution_count": 124,
   "metadata": {
    "pycharm": {
     "is_executing": false
    }
   },
   "outputs": [],
   "source": [
    "# This is a convenience function that takes care of boring stuff\n",
    "def plot_roc_auc_f1(y_test, y_proba, title=None):\n",
    "    f1 = f1_score(y_test, y_proba[:, 1]>.5)\n",
    "    fpr, tpr, _ = roc_curve(y_test, y_proba[:, 1])\n",
    "    auc_score = auc(fpr, tpr)\n",
    "    fig, ax = plt.subplots(figsize=(6,6))\n",
    "    if title is not None:\n",
    "        ax.set_title(title)\n",
    "    ax.plot([0, 1], [0, 1], '--', label=\"Random\")\n",
    "    ax.plot(fpr, tpr, label=\"Your model\")\n",
    "    ax.set_xlabel(\"False positive rate\")\n",
    "    ax.set_ylabel(\"True positive rate\")\n",
    "    ax.annotate(f\"AUC: {auc_score:.4}\", (.8, 0.05))\n",
    "    ax.annotate(f\"F1: {f1:.4}\", (.8, 0.0))\n",
    "    ax.legend()\n",
    "    return f1, auc_score"
   ]
  },
  {
   "cell_type": "markdown",
   "metadata": {},
   "source": [
    "### ROC curve"
   ]
  },
  {
   "cell_type": "code",
   "execution_count": 125,
   "metadata": {
    "pycharm": {
     "is_executing": false
    }
   },
   "outputs": [
    {
     "data": {
      "image/png": "[encoded data removed]",
      "text/plain": [
       "<Figure size 432x432 with 1 Axes>"
      ]
     },
     "metadata": {
      "needs_background": "light"
     },
     "output_type": "display_data"
    }
   ],
   "source": [
    "f1, auc_score = plot_roc_auc_f1(y_test, y_proba);"
   ]
  },
  {
   "cell_type": "markdown",
   "metadata": {},
   "source": [
    "The straight line is equivalent to the performance of a random classifier.\n",
    "The further away from it, the better.\n",
    "The curve looks quite good and AUC=0.85 is a decent value."
   ]
  },
  {
   "cell_type": "markdown",
   "metadata": {},
   "source": [
    "### F1-score, AUC"
   ]
  },
  {
   "cell_type": "code",
   "execution_count": 126,
   "metadata": {
    "pycharm": {
     "is_executing": false
    }
   },
   "outputs": [
    {
     "data": {
      "text/plain": [
       "(0.7707832772705431, 0.8481196257638852)"
      ]
     },
     "execution_count": 126,
     "metadata": {},
     "output_type": "execute_result"
    }
   ],
   "source": [
    "f1, auc_score"
   ]
  },
  {
   "cell_type": "code",
   "execution_count": 127,
   "metadata": {
    "pycharm": {
     "is_executing": false
    }
   },
   "outputs": [
    {
     "data": {
      "text/plain": [
       "300"
      ]
     },
     "execution_count": 127,
     "metadata": {},
     "output_type": "execute_result"
    }
   ],
   "source": [
    "rf.n_features_"
   ]
  },
  {
   "cell_type": "markdown",
   "metadata": {},
   "source": [
    "### A closer look at the predictions"
   ]
  },
  {
   "cell_type": "code",
   "execution_count": 128,
   "metadata": {
    "pycharm": {
     "is_executing": false
    }
   },
   "outputs": [],
   "source": [
    "df_train, df_test = train_test_split(\n",
    "    df,\n",
    "    train_size=.8,\n",
    "    shuffle=True,\n",
    "    stratify=df['label'],\n",
    "    random_state=42,\n",
    ")"
   ]
  },
  {
   "cell_type": "code",
   "execution_count": 129,
   "metadata": {
    "pycharm": {
     "is_executing": false
    }
   },
   "outputs": [
    {
     "data": {
      "text/plain": [
       "(18036, 2)"
      ]
     },
     "execution_count": 129,
     "metadata": {},
     "output_type": "execute_result"
    }
   ],
   "source": [
    "df_train.shape"
   ]
  },
  {
   "cell_type": "code",
   "execution_count": 130,
   "metadata": {
    "pycharm": {
     "is_executing": false
    }
   },
   "outputs": [
    {
     "data": {
      "text/plain": [
       "(4510, 2)"
      ]
     },
     "execution_count": 130,
     "metadata": {},
     "output_type": "execute_result"
    }
   ],
   "source": [
    "df_test.shape"
   ]
  },
  {
   "cell_type": "code",
   "execution_count": 131,
   "metadata": {
    "pycharm": {
     "is_executing": false
    }
   },
   "outputs": [
    {
     "name": "stderr",
     "output_type": "stream",
     "text": [
      "/home/tcake/coding_projects/python/opt_out/study-online-misogyny/venv/lib/python3.7/site-packages/ipykernel_launcher.py:1: SettingWithCopyWarning: \n",
      "A value is trying to be set on a copy of a slice from a DataFrame.\n",
      "Try using .loc[row_indexer,col_indexer] = value instead\n",
      "\n",
      "See the caveats in the documentation: http://pandas.pydata.org/pandas-docs/stable/indexing.html#indexing-view-versus-copy\n",
      "  \"\"\"Entry point for launching an IPython kernel.\n"
     ]
    }
   ],
   "source": [
    "df_test['prediction'] = y_proba[:, 1]"
   ]
  },
  {
   "cell_type": "markdown",
   "metadata": {},
   "source": [
    "Let's take a look at what the model predicts."
   ]
  },
  {
   "cell_type": "code",
   "execution_count": 132,
   "metadata": {
    "pycharm": {
     "is_executing": false
    }
   },
   "outputs": [
    {
     "data": {
      "text/plain": [
       "['Convinced this bitch wanna fuck with me or some',\n",
       " 'I hate this bitch https//t.co/NBn8NZKp86',\n",
       " '@cln_els23 YOU FUCKING BITCH',\n",
       " 'bitch wttffffffff https//t.co/vIGC3z4BUz',\n",
       " '@woo_ahhh stupid bitch',\n",
       " 'I hope the stupid fucking ass fuck in the black stupid bitch cunt ass truck chokes on a fucking lightbulb. Stupid fucking whore.',\n",
       " '@henderysjuul dyke',\n",
       " 'This bitch https//t.co/nV3EbKWxWm',\n",
       " 'this bitch bout Thtupid ath fuck she just REACHINNNGG for attention https//t.co/nqxUgmOwsr',\n",
       " 'Nigga Cause Im about that yeah ya heard me. Other niggas Nigga Ill bat the fuck out you and your bitch and air this bitch out Nobody has thrown a punch yet',\n",
       " 'WHORE https//t.co/QoqyRNar26',\n",
       " 'I FUCKING HATE HYUN SUA SHES A FUCKING BITCH',\n",
       " '@foreveralex7 Fucking whore',\n",
       " 'ill slap the fuck outta this nigga and this bitch on god',\n",
       " '@mimirosefanclub shut up whore',\n",
       " '@knukklehedd OH YOU FUCKING BITCH',\n",
       " '@shenanigone wow bitch can you calm down for once hoe ass',\n",
       " '@vorekhei dyke',\n",
       " '@QAdrama This bitch knows me so well',\n",
       " 'This bitch Janeia',\n",
       " '@AimeexPerez Dyke',\n",
       " 'This bitch https//t.co/aHJztbGRAK',\n",
       " \"I don't know shit about the Witcher but u better bet ur ass I'm watching it for Henry Cavill bc I am a whore\",\n",
       " '@neevaaeh bitch',\n",
       " 'IM THAT FUCKING BITCH',\n",
       " '@natgonzalx ur such a hot fuckn bitch',\n",
       " '@riatheevirgo Thats you fuck bitch',\n",
       " 'Ttu is just a fucking bitch https//t.co/mKixzB7hWD',\n",
       " 'THIS FUCKING BITCH IM@DONE',\n",
       " \"@Kthonios first of all fuck you second of all I'm just a kid so you can? suck your daddy dick fucking bitch\",\n",
       " '@woodlandeIf attention whore',\n",
       " 'Imagine this guy sending thats why I fucked yo bitch you fat motherfucker in an email https//t.co/qQiCJZ7wV7',\n",
       " '@akaDaniDaniels now ur not having porn scenes just bcoz ur ass is dumb ur fucking bitch cutt off ur fucking ass u should be born without butts u bitch',\n",
       " '@SrMiyagiZan Whore attention!',\n",
       " 'if this bitch dont shut the fuck up im boutago off',\n",
       " 'LETS GOOOOOO this bitch fucking lit https//t.co/f5x1y2iSgv',\n",
       " 'BITCH https//t.co/ZQmno5jNeb',\n",
       " '@SIGARlLYO Pwediepie bitch',\n",
       " '@Da_KZNE @DoodleDevs bitch',\n",
       " '@sunflcwerfeelin @unstiteo bitch what',\n",
       " 'I WULL NEVER BE OVER THIS BRUHSHSBSHDBD HES SO FUCKING WHORE LIKE FUCKING WHORE BITCH https//t.co/pLzXhzpkmC',\n",
       " '@angsty18 no bitch nellow stupid whore',\n",
       " '@4reuminct BITCH WOSHSQKSGSKWUWGDKISW',\n",
       " '@pjmlocket GIRLLLLLLLDBISHSJSJSJSJ BITCH',\n",
       " 'WHORE https//t.co/dp6q5yM7gq',\n",
       " '@smodolikidcudi Bitch',\n",
       " 'whore https//t.co/ZSun9czTrF',\n",
       " '@_BonnieRoberts you fucking bitch',\n",
       " 'fucking bitch anSWER ME @thefembisexual https//t.co/XkoeqxKMZ0',\n",
       " '@rkothots1 whore',\n",
       " '@pisseok whore',\n",
       " '@IlhanMN @mehdirhasan Skank',\n",
       " 'Real ass nigga give a fuck bouta bitch! She just sucked me for a gram but i only gave her .6',\n",
       " '@pkjimin69 damn right Im a whore',\n",
       " '@nataliee_fr dyke',\n",
       " 'FUCKING WHORE @taIksomuch',\n",
       " '@Maurookjr @djimetta258 Skank',\n",
       " '@kyubitch @yxyyuta YOU FUCKING BITCH',\n",
       " 'This bitch dumb https//t.co/AfhJKCmejT',\n",
       " '@problylameshit whore',\n",
       " 'shes a fucking WHORE A WHORE https//t.co/sIttPquqJW',\n",
       " '@doyoies FUCKING BITCH I HATE MY GODDAMN DATA I CANT EVEN WATCH VLIVE SKSJKS FUCK',\n",
       " 'Mfs been acting real iffy around this bitch lately . . Like I ever gave a fuck FUCK YALL',\n",
       " 'what the fuck bitch https//t.co/lS1rfRZJCw',\n",
       " '@modooborahae fucking bitch .',\n",
       " '@theborderIine why is this bitch still talking shit',\n",
       " '@JamesCheshire1 That fucking bitch',\n",
       " 'I hate this bitch so much https//t.co/pV7ppM1Eky',\n",
       " 'FUCK BITCH WITH A COMDOM THESE HOES GOT AIDS',\n",
       " 'whore https//t.co/7jPYrlG7of',\n",
       " 'This bitch lol https//t.co/5enCxkIuEq',\n",
       " '@myrkaakrym Fucking bitch',\n",
       " 'CASVAL U FUCKING BITCH I CANT BELIEVE U',\n",
       " '@lukeman0902 That fucking bitch',\n",
       " '@27nads @mel_aozz You fucking bitch',\n",
       " '@zaraispretty skank',\n",
       " 'WHORE https//t.co/NBnfHq5biv',\n",
       " 'THIS BITCH https//t.co/KpV0Sgnwwe',\n",
       " 'KSKSKSSKSKSPDNRNFTNROEIEYWCvkxfnekapqwhaWowowpqieuektntkfchjjrlALALALAALWLWLDPSKWMROE BITCH https//t.co/FKlGbTawtN',\n",
       " \"why this bitch think i'm bout to be her side bitch talking bout imma text you later i'm with my girl now\",\n",
       " 'bitch, WHAT THE FUCK https//t.co/NI6yEP73Eh',\n",
       " '@clingyseok im a fucking stupid whore how do u reply with videos',\n",
       " '@RichardsRaleigh bitch where',\n",
       " 'Youre a fucking bitch stop this right now I dont get how this is funny to you https//t.co/5b319cUrSj',\n",
       " 'what the fuck bitch ill marry u https//t.co/oMWUHQV1vw',\n",
       " 'I FEEL YOU HEARTLESS BITCH YOU STUPID FUCKING BITCH',\n",
       " '@JaceButFunny @Gomi___Bako__ @SnowMun @561Suki Reference time ahem Ok bitch boy loser cunt whore slut fuck',\n",
       " '@NX0NGRAVEST0NES i said cum on my ass. fuck me like a dirty slut',\n",
       " 'What the fuck Bitch?',\n",
       " 'Everything about his bitch bothers me. &amp; Im bothered that Im bothered by it cuz she just livin her life lmao. But got damn I hate this bitch https//t.co/RLdUmiYOUI',\n",
       " '@RocciniNavarra bitch im grade 10 and im not even whining. what is this bitch on about?',\n",
       " 'I really want to punch this bitch myi in her head she really be pissing me off',\n",
       " '@dabinstrap THIS BITCH RLY JUST',\n",
       " 'this bitch confusing me',\n",
       " 'I got my headphones in why this bitch ass hoe keep trynna yall to me !! This is my lunch break!',\n",
       " '@Taylorhunter_19 Yea I know who it is and the person is a fucking bitch',\n",
       " 'and ur saying u cant go instead of me ???? WHAT THE FUCJING HELL IS THIS BULLSHIT MOTHER FUCKER knn cb nabei fucking cibai sia u lazy ass fucking bitch',\n",
       " 'fucking bitch i dunno who i should be mad to',\n",
       " 'I HAVE A BEST FRIEND YEAH BITCH',\n",
       " 'hope you got enough lies saved up for the next bitch cause this bitch aint listening',\n",
       " '@shibuyatrap @subatoms @IceGallery_ Fucking bitch',\n",
       " 'Yoh this bitch is talking to me',\n",
       " '@852club I HATE UR HITCH ASS FUCKING BITCH',\n",
       " 'Had to make a couple bands on my lonely. Fuck bitch I dont wanna be your homie',\n",
       " \"this is so fucked up and this is all bc of this bitch i'm so mad\",\n",
       " 'Skank https//t.co/FypXsuxn0z https//t.co/9LA86qRZxA',\n",
       " 'Fucking bitch https//t.co/jqqw4EghVn',\n",
       " 'Ughhh fuck this bitch',\n",
       " 'Now this bitch wanna marry into this shit. An idiot',\n",
       " 'My ex is the biggest whore youll ever meet already fucked her step bro because I fucked his baby momma',\n",
       " 'Dumb fucking bitch https//t.co/ZVSalLnZer',\n",
       " '@LoveIsland Skank!',\n",
       " 'i didnt fuck her why would i fuck a skank LMAO',\n",
       " '@daisyiskawaii This why u always getting hurt bitch',\n",
       " \"God damn this bitch is the main reason I've been drinking every fucking day. Stressing me the fuck out, and I done fucked up cuz I actually care.\",\n",
       " 'FUCK this bitch https//t.co/l4HzFTK53m',\n",
       " '@__eddiecuz Put ya tits away u whore',\n",
       " '@thinkingab0utmy oh you whore',\n",
       " 'shut the fuck up and die cunt whore',\n",
       " 'this bitch is talking to herself on my tl',\n",
       " '@WoahxDusty Yes bitch',\n",
       " '@staardelgado Bitch Im gonna be doing this all day lol',\n",
       " 'How i felt bout my ex bitch https//t.co/KLWSWPSqFw',\n",
       " \"FLOCCULENCY IS SUCH A FUCKING WHORE LIKE LITERALLY HOME WRECKING BITCH ASS FLO BEAR LIKE WHAT THE FUCK EVEN YOU LITTLE WENCH I'LL HAVE YOU PUBLICLY EXECUTED\",\n",
       " 'fucking me every fucking bitch ass fucking day FUCK https//t.co/vLi2mqDghw',\n",
       " 'Ugly fucking bitch you dont even know what i look like lmao https//t.co/qxtosmf14R',\n",
       " 'I really hate this bitch',\n",
       " 'this stupid bitch stay bothering me',\n",
       " '@HayiKON99 Bekah my good sis ! WE GONNA GET THIS FUCKING BITCH',\n",
       " '@virtualriotxo Do it u fucking pussy bitch',\n",
       " \"Like I was really about to fight someone... I don't give two fuck who it was but you a fucking bitch for stealing my fucking phone\",\n",
       " 'This bitch say lets take a drive it might make you feel better like no Im still a mad ass bitch',\n",
       " 'Never will I dislike girl bc she fw ma ex but this bitch really tryna fucc on my ex',\n",
       " 'this bitch got bored https//t.co/Akjea5vVB1',\n",
       " 'FUCK ON YO BITCH LIKE IM HEFNER',\n",
       " '*walks past my crush* Me Hey you dumb fucking bitch ass cunt hoe, whats up?',\n",
       " '@6sprs being a whore https//t.co/8SZ9AZgX1b',\n",
       " '@moncefzna @amxbou Try me bitch',\n",
       " '@LeeleeBabees weird ass bitch',\n",
       " 'All these bitches whores I guess you just gotta find the right whore for u',\n",
       " '@cockedtail MY COUSIN KNOWS ALL THE PAW PATRIL EPISODES BY HEART AND NOW ALL IM GONNA THINK ABOUT IS FUCK 12 INCLUDING CHASES BITCH ASS IM- I CANT ALSOWOOEOEJRJEKE',\n",
       " 'Fuck bitch!',\n",
       " 'If I gotta buy my own 2k20 aint no pussy getting ate around this bitch',\n",
       " 'Hell Week Bitch',\n",
       " '@dak0119 Bitch I love you more',\n",
       " \"Bitches How This Bitch Lightskin Kiesha Gone Call Herself Lightskin When She Ain't Even Lightskin Me Bitch Did You Just Say Blondes Have More Fun, But Your Roots Blacker Than Blacc Youngsta\",\n",
       " 'BITCH EYE- https//t.co/bw1K3OInDu https//t.co/6kpBudscsD',\n",
       " 'This bitch tried to scam me at the fucking bad lmao. Bitch wtf DONT TRY MEEEEE',\n",
       " 'This show Awkward is getting me so mad omg Jenna really just let this bitch slap her',\n",
       " '@RykelBoy Shut up and enjoy California bitch ass boi',\n",
       " 'Subtweet back you whore',\n",
       " 'When i move out this bitch Im never coming the fuck back and thats on Kennedy',\n",
       " '@GodhatesAndrey @albyrktayfun Yes bitch',\n",
       " 'AHHHHH WHY THIS BITCH HAV NASTY RED HAIR IM WEAAAKFKKDKFBGNFJDNF',\n",
       " 'My Mama always talmbout Learn how to ignore them What? Im finna murk this bitch',\n",
       " '@orangeonjay ALSO VALID i love that fucking bitch',\n",
       " 'Fuck You, you fucking bitch I should spit in your face',\n",
       " 'If all you gon do is lie .. bitch find another wrong Bitch right number',\n",
       " 'That shit be making me soo mad like BITCH Im NOT MEXICAN !',\n",
       " 'Im just tryna run up these Bandz bitch I aint got time fr you fuck u and ya friends',\n",
       " \"@jkimeve I'm fucking wheezing over here too, Jennie be wondering where her fucking nail is, well bitch we found it\",\n",
       " '@CHUNGHA_MNHent im dyke',\n",
       " 'Real live hate cops. U can tell they ass was bullied as kids. Cause Dey Bitch ass really be abusin they power for the fuck of it',\n",
       " '@devilsgrxnt THIS BITCH REALLY THOUGHT',\n",
       " '@irymaj1 im lazy as fuck . bitch i dont like working lol .',\n",
       " 'im a fat and ugly whore!',\n",
       " 'Drunk as fuck, bitch you dumb as fuck',\n",
       " 'bitches really be fucking nosey like FUCK bitch mind your business',\n",
       " '@fluffiemin @YaoiClime Im being a whore ) Fuck',\n",
       " 'Im out this bitch https//t.co/eM3L5REGP8',\n",
       " 'So yeah, lil wayne is a fucking bitch xd',\n",
       " '@amorris46 Shut up bitch I do what I want',\n",
       " '@666eatass MINE BITCH',\n",
       " 'THIS BITCH IS SO FUCKING SICK IM SICK https//t.co/XKFeO3nfrx',\n",
       " '@MJSkii Fucking bitch whats her address we just wanna talk',\n",
       " 'My mouths gonna hurt trynna eat this chipotle but I dont give a fuck bitch',\n",
       " 'eat my dick you fucking whore',\n",
       " 'Any bitch that says Im ugly is mad',\n",
       " 'Everyday I thank god Im not a crybaby ass bitch.',\n",
       " 'Im literally scared of being lesbian what the fuck I think I just dont want my mom to be right; she has assumed Im a dyke and Im always like ahaha ha u crazy me? Lesbian? In this economy ?',\n",
       " 'I hate that I gotta keep reminding myself that Im a bad bitch and not a sad bitch',\n",
       " '@ni_moneyyy A bitch',\n",
       " 'ill slap this bitch https//t.co/9Y40pumsyM',\n",
       " 'Stfu lil bitch https//t.co/nz0h1nC8HW',\n",
       " 'This bitch is probably the only bitch that can make me bitch from the smallest shit to the biggest shit. Such a fucking bitch',\n",
       " 'Im in this bitch',\n",
       " \"Literally just heard Dad Boner Neighbor say And he called me a fucking bitch! AND I'M NOT BEING A BITCH\",\n",
       " 'Nah niggas be lying tryna Get they ass ironed out this bitch https//t.co/qweiuaeXDy',\n",
       " '@pyphur pyphur please just fuck me already you whore',\n",
       " \"@avarant yeah i just don't know why it let him call me a cunt but dumb whore was too far\",\n",
       " '@_LoveVsLust12 @dykemeetsworld This bitch still tryna justify her cheating dyke ass ways.',\n",
       " 'who ghe fuck is this bitch https//t.co/QBGZESVjv9',\n",
       " '@hiraijeons @gyeomier this bitch said',\n",
       " '@_killaKEE I got a second job I just be dreading goin to this bitch now',\n",
       " 'This dumb bitch bout to get a fucked up https//t.co/hIr0S6fOpU',\n",
       " 'Nigga really missed the whole ep Im on this bitch tryna put 2&amp;2 together',\n",
       " 'incase u forgot sofia richie really is that fucking bitch wooow https//t.co/fbcfJxp5O3',\n",
       " 'im a white mans whore https//t.co/90Tl7EGtM7',\n",
       " 'Uh this bitch tryna get on my ass',\n",
       " 'When you think its me calling but its really the bitch thats gon beat ya ass if youn leave me alone lmaoo',\n",
       " 'if god aint your core you gone go out like a whore',\n",
       " '@Donpeezly Wouldnt fuck this bitch w yo dick',\n",
       " 'Mimi has traffic this bitch aint come get me',\n",
       " 'Fuck an I hate rollercoasters ass bitch',\n",
       " '@iH3RMiT Dumbass whore https//t.co/IzApup1Ej3',\n",
       " '@seolaluvr ur a whore',\n",
       " 'Yes, Im an attention seeking whore. Now give attention bitch!!',\n",
       " 'I miss this bitch',\n",
       " \"I'm his bitch,im his slave ,im his whore... https//t.co/YckhDE8odF\",\n",
       " 'This bitch is BEAUTIFUL. FUCK https//t.co/bYPNMrDcJ4',\n",
       " 'what dolph say BITCH U BEEFIN WIT A DYKE',\n",
       " 'I never wanna talk to this bitch ever again in life about my phone Im still mad',\n",
       " '@doddleoddle marry me bitch',\n",
       " '@imaninyeemah Nah this bitch getting back okayyyy. My smoked out ass gonna run until i kill my self from my lungs collapsing',\n",
       " 'I hate a bitch',\n",
       " 'from babe to bitch HAHAHAHAHAA love you @edwardandrei_ goodluck mwa',\n",
       " '@MochaTweetz Lmaooo yes u bitch',\n",
       " 'If my baby mama do this ima slap the shit out her take this video to the judge &amp; get full custody of my child! I wish the fuck.. Bitch OOOH shit just made me mad https//t.co/JMDGTdmrKY',\n",
       " 'Bruh Clash is a fucking bitch lmaoo I cant stand that bald bitch. Shits annoying when she aint banned in rank https//t.co/XYzul3vf2k',\n",
       " '@theknowbuddy One month bitch',\n",
       " 'SHE CALLED HER A RAUNCHY TRIFLIN ASS WHORE SKSKSKKJSSJ LOCK TOKYO UP https//t.co/kAt1BBlxrV',\n",
       " 'Bitch youre old af talking shit about me. Imma have to call my momma to fight you',\n",
       " 'I HAD THAT ACCOUNT SINCE 2013, AINT NO FUCKING WAY, IM FUMING BEYOND BELIEF PLEASE IF THAT GIRL COMES ONLINE IM DRAGGING HER DUMB FUCKING BITCH I CQNT EVEN GET IR BACK',\n",
       " '@Ilhan what a fucking bitch.. go back to your own country',\n",
       " '@UnburntWitch hm yea this fucked me up',\n",
       " 'this bitch bout dumb as fuck',\n",
       " 'funny, whore &amp; broken. Im a funny whore with no cash damn SMH https//t.co/utqOWZdDGz',\n",
       " '@binkythageneral Im dead she called him a dirty diana bitch ass nigga',\n",
       " 'Im really starting to hate this bitch',\n",
       " '@Jada_Armani mane you funny as fuck bitch',\n",
       " 'Yo bitch.. He change this statement... It did not age well for your whore ass... https//t.co/mvYcb7rWPe',\n",
       " '@retrowheeIer thanks whore',\n",
       " '@bxrdxrline Sike bitch',\n",
       " \"I got presented an award at work. They said it was the first time ever someone in training needed to be recognized. And u know this hating ass bitch was hating. Fuckin bitch peep this success. I'm winning awards while u fuckin cheating on ur husband with this bald ass mf\",\n",
       " 'This somali girl from Sweden tryna chat but her country got my big bro locked bye whore',\n",
       " 'This bitch just sneezed in the sauna, yall know Im a germaphobe',\n",
       " '@danny_darco_ shut ur whore mouth UP',\n",
       " 'This bitch is a liar https//t.co/5gr8i0UARh',\n",
       " 'Bitch you sexually harassed folks. Shut the fuck up https//t.co/wlmK1Koewv',\n",
       " 'Picky dyke twitter aint tryna add my problematic ass',\n",
       " 'Ive never seen more of a fucking bitch in my life lmao Jesus.',\n",
       " '@taekookie_bub IM NOT A MILLIONAIRE YIU FUCKING BITCH. IM NOT GONNA BE YOUR SUGAR MOMMY FFS',\n",
       " 'Dyke bitch really had the nerve to slap my non existent ass at the club. Wtf man what is the problem',\n",
       " 'Im gonna be so fucking pissed if I have to pay UPS for this damn delivery .... Bitch I paid for shipping so bitch thats your tip fuck off my front porch',\n",
       " 'U ever been wit a female and her nigga been blowing her up the whole time and she act like its nobody worth nun damn thats hard man makes u think bout times u called and ya call was missed this a dirty game man',\n",
       " 'Here my brother go on this male whore shit',\n",
       " 'Dont get mad at me cause YO bitch lookin',\n",
       " 'This weak ass job aint never got linen i hate this bitch I gotta quit',\n",
       " 'Girl I cant stand her I was looking her up on social media and all she a dirty bitch https//t.co/BHPDg2XSU5',\n",
       " '@pis_maco a whore',\n",
       " '@_chelseeeaa Omg bitch i need one and Aria',\n",
       " 'This bitch myia dabbing in her avi and shit',\n",
       " 'why the fuck do I keep seeing this bitch tweets moe?',\n",
       " 'this bitch busy running her dick suckers like bitch its 200 bring me the cart',\n",
       " 'I lowkey love when a dyke fake act like she dont like being touched.. yea okay Tuhhh ball you right tf up',\n",
       " 'this fucking bitch clowned me for liking kpop now her ass follows treasure 13 people, oneus and ateez',\n",
       " \"My ego bigger than yo mama and that's really saying something bc when yo mama went to sea world tha whales pulled up and said hell nah we ain't family this bitch fat as hell . So yea my ego pretty big\",\n",
       " 'So sick of this bitch.',\n",
       " 'Why this bitch so hungry for noone askED uuUuUuuUuu Im bitCh',\n",
       " '@yoongsyolk CUTE WHORE BITCH STUPID STUPID',\n",
       " 'Niggas is bitch https//t.co/De4D0aIdRZ',\n",
       " 'I want blac youngsta to call me a whore',\n",
       " 'I was talking shit in the back ground of my momma call cause someone called her trying to Check her The bitch that bitch in the background can shut up My momma bitch thats my daughter and you can get yo shit rocked right now if you call her out her name again',\n",
       " 'worried bout me. bitch u need to watch yo ho',\n",
       " 'Shit people like u bitch hehz',\n",
       " 'My momma got nun but pork in this bitch and Im finna starve',\n",
       " 'Im tired of this bitch I wanna fight her cause she talk too much https//t.co/bTqq7iIt6U',\n",
       " 'Bitch you aint that Sexy',\n",
       " 'im gonna fucking take a shit on my brothers forehead this bitch deadass went on my ps4 account to play rainbow six siege and made me look like ass',\n",
       " 'My sisters a fucking bitch',\n",
       " '@naaajx No fr lmao Im tryna be dream doll in this bitch. Young niggas is winnin lol',\n",
       " 'You niggas will still hit anything, I aint trying hear this. Niggas love butt ugly hoes https//t.co/vTo0FY2oZK',\n",
       " 'I admit it, I cried like a fucking bitch at Molly Mae and Tommy. I think i need a new hobbie or something #LoveIsland',\n",
       " 'Bitch Im hilarious https//t.co/slLjqmcQkN',\n",
       " 'Moe this bitch dumb how u mad cus u dumb',\n",
       " 'Bitch gon take forever tryn dissect my mind',\n",
       " 'Had to mute this bitch all she do is tweet about how much she hate her BD sounds like u in love and want yo family back',\n",
       " '@Jendaya_Ashonti @lyrriicc_ I just feel like u aint ever finna speak up for shit and that just that on that and u see this bitch @lyrriicc_ still aint saying shit',\n",
       " 'You fucking bitch give me back my acCOUNT @Twitter',\n",
       " '@reveIuvd not this bitch again',\n",
       " 'hay freddie can i umm no bitch you fucking dumb',\n",
       " 'Aye a bitch cant get no perc dick from me she gone be to attach &amp; aggravating af, bitches already road raging off the sober dick',\n",
       " '@Goldnlifeline This is my uncles cat, fucking WHORE lmaooo',\n",
       " 'Ion know who be hyping this bitch up she straight fat af sorry not.',\n",
       " 'Apryl a dirty bitch if she pregnant by Fizz. You dont fuck ya bd mans plus get pregnant by him #TheseHoesAintLoyal',\n",
       " 'Im such a whore https//t.co/S4PdGodFIt',\n",
       " 'Nah. Fr and these nigga play a dirty game Ain letting A nigga get close til me til Im married https//t.co/L63IhE7uxt',\n",
       " '@fivethrsix THIS BITCH ON SOME MOMO SHIT',\n",
       " '@imAidaE Yall hear sumtn? Cus I do this bitch is deaf',\n",
       " 'Who got this bitch from YouTube twitter account. #ChristopherCukor expose this racist fuck. Yall need to fire this prick https//t.co/gS8uLEr81L',\n",
       " 'I know sometimes I can like not b the nicest person, a bitch as some would say.. but I know somebody gone love the fuck outta me for that shit one day',\n",
       " \"@MEENA1NONLY Us omg I'm such a slut and whore for money and products\",\n",
       " 'i threw up twice yesterday but im great today i aint no weak bitch',\n",
       " '@mishkuh I hope this bitch vommits her organs out',\n",
       " '@dannymoonmoon Lmfao you couldnt even cut me if you tried you skank luv you but suck my dick xx',\n",
       " '@luceroray83 Bitch just fucking buy one.',\n",
       " 'Fucking bitch ass twitter locked me up',\n",
       " 'I could be dying and Rithik doesnt answer. This fucking bitch.',\n",
       " '@Sleep_Live_Well fuck you fat ass',\n",
       " 'hey guys if ive ever been a bitch to you im sorry i thought it meant of course and not of fucking course https//t.co/Nxq2GNTo49',\n",
       " 'FRANCESCA YOU FUCKING BITCH',\n",
       " \"Did a dirty intelligence op create the 'collusion' probe? https//t.co/fcGdcB8Vtv via @nypost\",\n",
       " 'Im not steppin in the club unless I can bring my rod in this bitch, even though its all love with big bhomp in this bitch',\n",
       " 'She yelled at my brother for something my baby did. And i told this bitch to not speak to my fucking kids. Lord dog in me gonna kill this crack head bitch',\n",
       " '@Jinsonsoo @MonteSpice jealous bitch',\n",
       " \"Y'all I'm about to get a new boyfriend this bitch pissing me off\",\n",
       " 'Im pretty sure, you are a fucking bitch.',\n",
       " \"Every time I give J an inch, D starts her fucking shit up again. Why? Why the fuck is this still going on? Lol if I wasn't 3000 miles away I'd probably sucker punch the life out of this bitch at this point. She's unemployed now, so how is she going to report to HR? Lmaoo\",\n",
       " 'I got cute today and this bitch @Charpreceee not even here',\n",
       " 'Dont knock a skinny bitch till you seen it naked',\n",
       " '*JD finally figures out his body count* HOLY FUCK IM A FUCKING WHORE DUDE OH MY GOD',\n",
       " 'Get this bitch out before I have to get her out myself',\n",
       " 'I just pasang Eyeliner fucking bitch its ruined because of you',\n",
       " 'Why am I being a fucking bitch oh my god',\n",
       " 'Oh Molly you HAVE to flog this bitch.',\n",
       " 'This bitch playing Kodak black n rapping the n word so hard I wanna beat her ass',\n",
       " 'ugh i truly love this bitch https//t.co/tmEtQZ7YXM',\n",
       " 'i hate dyslexia im so done with this bitch',\n",
       " '@bryanlstname @kilochords Better be u dis weekend whore',\n",
       " '@jooolha @agustdnd Bitch disgusting',\n",
       " 'yall know i got this lil bob/lob going on right . bitch told me i look like this emoji hahahhahhahaha . its me , im the bitch .',\n",
       " 'this bitch popped my man LMFAAAOOOO i keep thinking about that @_redbabyyy',\n",
       " 'we out this bitch',\n",
       " 'you trickass bitch,',\n",
       " '@oluizmedeiros @annekinnn O CARA DO SKANK AHAUUAHAIAHAUAAAAAA',\n",
       " '@hutaverse @shineelgbt IM SO TIRED? IM SO TIRED i said Id support you if you came out what the fuck now Ill just bully you you gay fucking bitch! LEZBYAN! L.',\n",
       " '@MJ216_o bitch shut the fuck up you know damn well you have no power',\n",
       " 'Idk what to say to get ppl off drugs fill your gender roll n start a family ? Stop bein a bitch or dyke or demon n demon or some shit',\n",
       " 'Creepy ass mfs like bitch Im in some slacks and a dress shirt. I had a skank as face each time idk who they thought they was.',\n",
       " 'I See You Hoes Lurking Looking Searching Bitch Mad Bout A Nigga https//t.co/oBYUgBjSN1',\n",
       " \"@LanceMonroe0 I'd be out this bitch https//t.co/VvWLYvqpCj\",\n",
       " '@Fear_DreaminG Make a wish whore',\n",
       " 'blah blah im an attention whore. yes we know. im also a regular whore too',\n",
       " 'I swear this bitch upstairs from me finna come thru the floor cause bitch wyd',\n",
       " 'I cant stand this bitch https//t.co/2497XgCQzj',\n",
       " 'i will really beat tf out of this bitch',\n",
       " 'You aint fucking with no average bitch boy.',\n",
       " 'My bitch try to play me she crazy , Im fckin model chicks on the daily , either way they choose I wil never lose !',\n",
       " 'BITCH HES HOT https//t.co/V0I6ApTdVT',\n",
       " \"I know I said that I'm a queen but bitch I'm not sis do u even know a fucking imagination and if u have clear skin or ur rich and u judging idgaf at all cause at the end of the day hell is waiting for u sister periodt.\",\n",
       " 'Cock whore. @BrattyKimmyP',\n",
       " '@JennaBaby007 Live when after sex i call myself whore and it feels right',\n",
       " 'Im tired of this bitch',\n",
       " 'Ill smack the ring out this bitch nose lmao on my mother https//t.co/NwZIgq7reP',\n",
       " 'IM IN LINE AT CHICK-FIL-A YOU FUCKING BITCH https//t.co/kdyUENBBgh',\n",
       " \"@20thcenturydyke bitches stay basic and always loud about dyke tv shows. it's me. im bitches.\",\n",
       " '@girlthats_kaay Ayoooo nigga like we all birds on this bitch',\n",
       " 'you so mean bitch idgaf!',\n",
       " 'Fucking bitch... https//t.co/OJCqopk4ea',\n",
       " '@beaunessy Yea im a whore wat about it',\n",
       " 'what the fuck is going on?, told me my mom was a whore',\n",
       " 'BOSS BITCH https//t.co/IXwXGumX3H',\n",
       " 'Check it blunt smoking naked blowjob this bitch fucking it',\n",
       " 'now im in toledo and this bitch ass sub aint pulling up https//t.co/cmU8RoqYBG',\n",
       " '@mmithattye okay bitch',\n",
       " 'a bitch https//t.co/DN1Fmdcjit',\n",
       " 'Im gonna need Jeremiah to get drunk more often I love this bitch',\n",
       " 'This bitch got a bible verse tattooed on her ass.... ok',\n",
       " '@babiegirliee let me have my opinion whore',\n",
       " '@LordKing95 shes a selfish stuck up narcissistic whore lol naw jk but ahe should be suspended for a while tho lol',\n",
       " 'IM WHORE',\n",
       " '@YahnekT i remember this bitch and i still wanna fight her',\n",
       " '@parrillaslilly ew no homo dont be a dyke fuck off',\n",
       " 'This bitch really needa quit lmfao',\n",
       " '@sofiagamez_ You bitch',\n",
       " 'A dyke and a fat bitch really thought they was bouta troll me... yall whole existence is satire',\n",
       " 'This Bitch Low Key Crazy , iM Convinced',\n",
       " 'this bitch is cuttttt, sheen gotta worry ..',\n",
       " '@narmbo his servant is a whore he didnt wanna be out whored',\n",
       " '@robertmwbrammer Shes a fucking bitch x',\n",
       " 'Also thanks kendrat for the woah Im a dumb whore so idk how to do it',\n",
       " '@faIIenapartt wow what about your whore in law smh my head',\n",
       " 'I might turn ya bich to a dyke real quick',\n",
       " '@Ojpimping @iliyahh_ @FatKidDeals I can buy the shit myself if I wanted but wats the point when my bitch can ?? Feel me pimp',\n",
       " 'Cant make a whore a housewife',\n",
       " 'this bitch is illiterate i stg https//t.co/PYeiMIhTbU',\n",
       " '@__GAZilla Bitch no its not',\n",
       " 'Shut up and get on the game you fuccin whore https//t.co/jiWQUdiUta',\n",
       " '@ONLY1TECC @HotelDiabloEra Lmaoooo niggas got hands like Goro Out this bitch',\n",
       " '@itskajaya What dumbass lil Baldhead Dyke ?',\n",
       " '@iamraydiaz you are a piece of shit. Seriously. You are a waste of fucking space. You need your fucking ass beat. Abuse women? Huh. You are a fucking bitch. BITCH. Fight me pussy',\n",
       " 'When i make it out this bitch im taking all of ma brothers',\n",
       " 'All females talk about is how this nigga aint shit and how they dont like this bitch',\n",
       " 'I really have been so bad this fucking week, like mad but aint at the same time cause this bitch was fucking fun this week.',\n",
       " \"i get called asian women's whore https//t.co/mPYNvxqXN6\",\n",
       " 'Feels good to not be a broke ass bitch',\n",
       " 'yea i GOTTA delete some of the tweets on this mf i just know most of it is high bitch bs',\n",
       " 'She wants 2 fuck with the gang bros at the same time. Sorry little whore try again next time',\n",
       " '@kiyodere Xbox fuck bitch boy',\n",
       " 'i swear this bitch i just looking for things to cancel',\n",
       " 'Fucking bitch!',\n",
       " 'who hurt this bitch https//t.co/lkznEAA6jT',\n",
       " 'and he was just laughing and i went to delete the story real quick and U THOUGHT IT WAS OVER OH FUCK NO IT GETS WORSE THIS BITCH SAID so can i be on ur private and the thing is my private is not for nudes ITS FOR U GUYS LIKE SO NONE OF MY IRLS ARE ON IT DUH -',\n",
       " '@najaeminluvr U WERE NEVWR FAT WHORE DO YOU WANNA FIGHT',\n",
       " 'This bitch really had the audacity to tell me that she can bring my name up in conversation after I told her to stop slaughtering my name. Like Im so fucking confused as to why bitches have the time and day to talk about me.',\n",
       " '@DonnySaucyyTPF @llanoking Damn, talm bout a nasty bitch',\n",
       " 'Insta tryna tell me Im ugly cause it wont post nothing of mine wow BROKE HOMELESS UGLY DYKE',\n",
       " 'no im not a whore but',\n",
       " \"Keep it real wit yo dawg no matter what... Same bitch dat claim she luv ya, she'll set you up... Outchea in these streets aint no such thing as luv... Only thing i trust is this pistol &amp; these slugs...\",\n",
       " 'Bitch puh pretty please I want to come say something to me ,i really been itching to go the fuck off',\n",
       " 'nooo dont call us whores youre so sexy aha. Whore https//t.co/7nWSTws6vb',\n",
       " 'I be listening to songs an then get on this bitch saying the lyrics lmao',\n",
       " 'At the end of the day I aint gonna stop no nigga from doin him ... just dont expect to have my attention while you being a friendly Lil man whore',\n",
       " '@Fr3sh_Prince03 @applysomeariana Basic straight bitch not hearing someone out hmm cute',\n",
       " 'Everybody get on this bitch and cap if you ask me',\n",
       " 'again, this bitch said idk who nigga i had a dream about but they gotta come up off em wow.',\n",
       " 'Everytime i look this bitch and her friends laughing up bout something that gotta do with me !',\n",
       " 'Be a whore https//t.co/d5ob8d9N6J',\n",
       " \"Bitch I'm that dope, pull up looking like coke. I'm an asshole, drugs make my night slow. And I love snow, make yo bitch sniff coke. On my dick though. I got 6 hoes.\",\n",
       " 'THEY TAKE THRITY MINUTES TO GIVE ME THE RESULTS IM GONNA PASS OUT IN THIS BITCH',\n",
       " 'Im done with this bitch. Were scrapping, stupid slut monkey',\n",
       " '@d_tacticz @trilogyfuls stop being a whore',\n",
       " 'FUCK YOU WHORE COCKSUCKING MOTHERFUCKER FUCKING TRAFFIC !',\n",
       " 'bitches be going off on khloe for calling jordyn fat as if they wouldnt themself call the woman they got cheated on with an ugly fucking whore LMAO',\n",
       " 'This bitch prolly the dumbest bitch on earth . prolly aint even get the rest of the day off https//t.co/Fx3FrnfX2m',\n",
       " '@PrissThePisces @Stanmaraj2 @MarajOnika21 I SAID SHOW ME THE FUCKING PROOF FROM NIELSON MUSIC THEN YOU DUMB WHORE',\n",
       " 'BITCH IM SO BORED WTF',\n",
       " 'Fuck you Whore, i hope you catch something',\n",
       " 'BITCH, i love you',\n",
       " 'Bitch wot about me? https//t.co/U8vGfpkjY7',\n",
       " 'Your 3rd week in Vegas you was tryin to beat a bitch up for Riley. The best gf',\n",
       " 'this bitch really just deleted her highlights and insta bio and watching us freak the fuck out about a mv and her insta while eating i hate her https//t.co/WNp8fwsivC',\n",
       " 'we lived bitch https//t.co/gHnBRXqRBk',\n",
       " '@canelarason I know this bitch dizzy cus I am just from watching this https//t.co/irEpdd09JD',\n",
       " 'Jane, you are a fucking bitch !',\n",
       " 'this bitch!! https//t.co/PtqfN0ju6y',\n",
       " 'Bitches be mad when I call em hoes for cheatin and they be like dont act like you havent before and I say I havent I am a wholesome king whore',\n",
       " 'da dyke now say she want she dick suck, oh my days',\n",
       " 'after effects is being a fucking bitch!',\n",
       " 'crying means going from a sad bitch to a bad bitch quickly',\n",
       " '@Iatinarose @badbcy BITCH STOP BEING A HATER',\n",
       " 'hi stan this bitch https//t.co/ukRNac1xQl',\n",
       " 'I wanna see this bitch faint, hurry up https//t.co/aPvRh87Ppd',\n",
       " 'Alright its over for this bitch',\n",
       " 'Im gonna be a grandpa . My dog done knocked up this lil Golden Retriever bitch',\n",
       " 'Daycare 240 a week and this bitch ass nigga dont wannr help lol child support it is',\n",
       " 'I swear people are really starting to really annoy me this bitch I swear I am literally shaking with anger has some nerve messaging MY partner what else is going to go wrong if u knew the full story you would understand https//t.co/x5fBgZ7Jrq',\n",
       " '// now because of @beIlesorciere I wanna be a Hargreaves ugh you bitch',\n",
       " 'Sometimes you gotta smack a bitch to let them know',\n",
       " 'I just woke up and this bitch right here already testing me https//t.co/2EP433GzV8',\n",
       " 'I will fucking DESTROY YOUR BLOODLINE. YOU FUCKING BITCH. https//t.co/nL2cQRiyIM',\n",
       " 'WHAT THW FUCK BITCH WHY U SO FIT https//t.co/0wwn1Ff4dc',\n",
       " \"@colinmdownes to be tbh i haven't even read althusser but a trans dyke commie i know taught me about interpellation and i was like oh, this is IT\",\n",
       " \"@octoberwoman_ So you're basically beautiful nice whore HAHAHAHA the fuck is that\",\n",
       " '@profitwhore @ me next time u whore',\n",
       " 'oh bitch i need these like yesterday https//t.co/sb0Zd7QxxK',\n",
       " 'who is this bitch.',\n",
       " 'luhhhh this bitch sm https//t.co/u0bKnokvn3',\n",
       " 'This bitch thought I wouldnt block her lol bye',\n",
       " \"'YoU PrObAly TaLkInG tO SoMeOnE eLsE' bitch stfu I'm barely talkin to you wtf\",\n",
       " '@camiIastiny BITCH IM CRYING FOR U RIGHT NOE OH MY GOD I LOVE TJSY FOR U',\n",
       " 'i only like steves ending bc he wasnt killed off but stevebucky stans are annoying as fuck he left bucky damn bitch his wrinkly ass left everyone bucky aint special',\n",
       " 'This is childish people be busy sometimes ! Shoot if I fuck with you Im triple texting ring ring its me again bitch ! https//t.co/wMFoqMO7nQ',\n",
       " 'This girl is the nastiest skank bitch I have ever met!!! Do NOT trust her!!!! She is a fugly slut!!! #SpidermanFarFromHome https//t.co/o75zv49aZV',\n",
       " 'a whore for jaebeom',\n",
       " '@treyxtrey_ fuck bitch.',\n",
       " 'Tell yo bitch to tighten up cuz ...',\n",
       " 'Yo this bitch has cross the line for the last time. I hate that bluffin shit sah',\n",
       " 'One more month and Im out this bitch',\n",
       " 'This bitch want to come over here waken me up but you was just capping!! Weird ass nigga!',\n",
       " '@vanessa___rubio ily bitch',\n",
       " 'i came into this world alone , im definitely gonna leave this bitch alone !',\n",
       " 'Im going to sue pinterest like BITCH I cant even get a boyfriend https//t.co/J3DMTTyNzD',\n",
       " 'nigga number 1 better stop before i call nigga 2 and 3 lmaoooo broo this bitch is ridiculous',\n",
       " 'fuck you daisy buchanan i fucking hate you you fucking bitch',\n",
       " 'Bro fuck Kendall Jenner this bitch isnt dating Ben Simmons anymore',\n",
       " 'i get so sad bc ive bought so many leg harnesses and not a single one has fit my fatass thighs I JUST WANNA LOOK GOOD BITCH',\n",
       " 'Lovely bad whore https//t.co/AFLwbXMmfV',\n",
       " 'THIS BITCH IS RLY POSTING ON HER KRTWT ACC WHILE IN THE CLUB IM DEAD',\n",
       " 'This nigga just got mad at me cos I cant rent him a room... talking about some are you telling me Im gonna have to sleep outside in the cold? Bitch go home &amp; sleep da hell? Your car maybe? Bitch just not here bye',\n",
       " 'also my old classmate who always claimed to be straight now everyday complains that i dont flirt with her like bitch im sorry i dont want to do that?',\n",
       " 'We bout to burn this bitch down',\n",
       " 'I go out a lot because Im an alcoholic not a whore.',\n",
       " 'This bitch needs to get dragged https//t.co/nbzyMopejS',\n",
       " 'What kind of dick is this bitch smoking?? https//t.co/i86bbosUZz',\n",
       " 'SANA AND I R TRYNA GET FAKES AND HER DYKE ASS SAID DO U THINK THEY ALLOW BEANIES IN THE PIC',\n",
       " \"i'm a WHORE for knowledge, a SLUT for intellect, and a BITCH for education\",\n",
       " 'ion even know this bitch and im already in love https//t.co/Z0HfYwqDGt',\n",
       " 'scratch that fuck it he really ate his ass bitch',\n",
       " 'im not too face just a split personality bitch thats all bruh',\n",
       " 'bitch i got a DATE with the cutest',\n",
       " '@AOC u go girl lets sendmelaniaback',\n",
       " 'When I bitch and complain the 505 comes, ohhh',\n",
       " 'I stay finding whole of half of blunts in my purse like this bitch just be eating my shit',\n",
       " 'THIS BITCH. I JUST BOUGHT THAT TODAY https//t.co/6qBlSaOjuC',\n",
       " 'this bitch finally got in contact with a therapist gonna try and get Brain Healthy',\n",
       " 'i did it whore https//t.co/UKiXCNoJxT',\n",
       " 'this bitch need to get a life, shit getting ridiculous now.',\n",
       " 'previous years were bs compared to what Im living now. I SWORE up n down I wasnt gonna make it through. always cryin, doubting myself, always being a total bitch, but look at sis being in peace now. still a bitch when she gotta be one. she livin lavish',\n",
       " 'Wow. How are u not gonna say good afternoon to me u whore https//t.co/wgszkPaq0G',\n",
       " 'Lol I just wanna know why this bitch felt like its ok to come to my folks house.....',\n",
       " '@catinyy bitch ur a hag',\n",
       " '@jasmine_loveee Bitch you name it I done did it . If you are my man I am your whore',\n",
       " 'I spent a week and a fat fucking bitch u.',\n",
       " 'i bully my cat for loving me stupid little bastard loves cuddling. this bitch loves me! idiot',\n",
       " 'ever since kick-ass i have been his whore',\n",
       " 'YO SELLING THIS BITCH ASS NIGGAS ACCOUNT HMU ILL TAKE ANY OFFER HIS SHIT IS 3 MONTH LOCKED! HMU WITH OFFERS WHEN YOU BUY ILL TELL YOU METHOD ON HOW TO KEEP LOCKED @NOHOESCCRISTIAN https//t.co/wcS77spXIH',\n",
       " 'HE LOOKS SO GOOD BITCH OFJEKDJEJJD https//t.co/4Is2kOPcDF',\n",
       " 'Wow Ive been spiraling on this bitch for a week hahah',\n",
       " '@SoraSRTA Am I a quirky whore?',\n",
       " 'I just told this bitch when I text u I dnt always want to feel like Im texting this tomboy! Sometimes its ok for women to act like a woman !',\n",
       " 'I deadass wanna fight this bitch I work with because I feel like once I give her a good ass whooping shell know not to set me off',\n",
       " 'Hannah is a dirty disgusting whore for sleeping with Jedd, she didnt even sleep with Tyler? Wtf I use to really like her till the move with the elephant man aka Jedd good job getting me to hate you Hannah',\n",
       " '@rastrentt IN FUCKING CRYING SHJSJD I WAS OBSESSED WITH THIS BITCH FOR A GOOD WHILE IN 2012',\n",
       " 'im goin full dyke prolly idk well see how i feel tmrw',\n",
       " '@BADKAEE Na fr cause ima end up side eyeing a bitch and that i aint got time for',\n",
       " 'Amber is a fucking bitch. Why comment on a girls looks',\n",
       " 'Imma sneaky bitch But I aint on shit tho',\n",
       " 'Arrogant fucking bitch. Get in the bin lass https//t.co/vzInDjE3l9',\n",
       " '@cushionprincess this bitch loves you so much shed sell her right tit for you but !!! my baby te amo &lt;3',\n",
       " 'I love the Bitch too!! https//t.co/nLLwrT7wk1',\n",
       " '@xoetina OMG I LOVE YOU BITCH WE ABOUTTA BOOL WHEN I GET BACK',\n",
       " 'Broken, but whore https//t.co/AZWWh8sGPl',\n",
       " 'Bitch stranger things got me',\n",
       " 'For all this time I thought Pressa was a dyke',\n",
       " 'i gotta stop fucking around and start running everyday so i can lose weight and be a bad bitch',\n",
       " 'BLOOP this for them bitches &amp; niggas who drop that dyke &amp; stud shit in my mf face bitchhhh Ill drown YOU &amp; for the niggas? you a faggot why is you arguing w/ a female BITCH . https//t.co/EvLL4O2BTl',\n",
       " 'tHIS BITCH COMPETITIVE',\n",
       " 'met a lovely lady on my trip named Sarah who just broke up with her boyfriend two weeks before and still decided to travel by herself... now THATS a bad ass bitch',\n",
       " 'All the rich niggas wanna save this bitch',\n",
       " 'Am I really about to beat this bitch up?',\n",
       " '@caneliita_ Bitch why was I weak at that',\n",
       " 'This bitch gotta grow up! https//t.co/3u48oqwS0k',\n",
       " '@J_Diamond93 Ohh you a bad bitch by yourself',\n",
       " 'I hope this bitch is having a terrible day https//t.co/spfTKJTTdD',\n",
       " '@shessoIucky FUCK BITCH IM SO TIRED I DIDNT REALISE. ANYWAY.',\n",
       " 'This bitch stole my tattoo https//t.co/KATprl0M2A',\n",
       " \"ahoy mates. see this man? i want this man to make me his whore and punish me for misbehaving. i want his cock pounding deep into me as he whispers he won't let me cum if i make even a single sound. i want him to knock me up so bad his cock is the only thing i'll live of. https//t.co/lxuxSwrfZf\",\n",
       " '@miyoki_iman @kayyloween bitch i looked a mess',\n",
       " 'I remember when I called @gorejeess a whore infront of a Christian class and TOLD HER SHE NEEDED GOD. WOW 12 YEAR OLD ME WAS A SAVAGE DONT YOU LOVE ME?',\n",
       " 'This bitch is funk bra on god https//t.co/PKrgTE5Xik',\n",
       " 'Bitch be more thristy than niggas just seen a dyke with a local stripper on a tee shirt...yo u know she fucking for cookout and a ride home right',\n",
       " '@laurenbrcksmith Astroworld bitch',\n",
       " \"i can't wait for the farewell to start showing in my area so i can cry like a little fucking bitch\",\n",
       " 'Aquele paco rabanne exalando pra crl, s no t mais cheiroso que meu skank de',\n",
       " 'This bitch ran a red light and almost hit me. I shoulda let her ass do it too and caught some money but knowing my luck Id prolly die.',\n",
       " 'Caroline Flack is such a fucking bitch and on top of that she fucks kids so idk why shes on a high horse https//t.co/7vwv6UAV5f',\n",
       " 'Your bestfriend is a whore!',\n",
       " \"So fuckin tired of my job. Why do I have to cut into my manger while I'm on vacation because this bitch can't do shit right?\",\n",
       " '@protectjaebum YOU COULDVE JUST NAMED A SONG WHORE',\n",
       " 'We stan a bad bitch https//t.co/lOcWKORLw6',\n",
       " 'This bitch said cemetery coochie',\n",
       " 'LADIES. SHIW THIS BITCH SOME LOVE BC WTF THIS IS SO CUTE https//t.co/vGqYuBeJKa',\n",
       " '@envyneissaa im a white womans whore',\n",
       " 'Gang in this bitch https//t.co/PVXRStckEV',\n",
       " 'This bitch ass song AGAIN we stan an attention hogging legend https//t.co/yBHqxmWNba',\n",
       " 'start this bitch tf over',\n",
       " 'speaking of! rmb that gym instructor I said that probably hated me and I thought she was a dyke? I was wrong and right, shes a dyke and has a girlfriend loooool but shes cool with me',\n",
       " 'I hate when people ask me Why you Post An Delete Stuff Cuz Bitch Im Not the Same Nigga I Was 3 minutes Ago my mood changed',\n",
       " 'I Need BC Im tired Of This Bitch Every Month Damn Miss Summer',\n",
       " 'bitch you have emolga https//t.co/Xch60QJxuM',\n",
       " '@iamnotface Bitch push it',\n",
       " 'so whats next for me in this bitch world',\n",
       " 'OH MY GOD THERES LIKE 21 DAYS UNTIL SCHOOL STARTS AGAIN FOR ME AND IM STILL A FAT WHORE',\n",
       " 'I came in this world crying and everybody smiling. Im gon leave this bitch smiling ! And everybody crying https//t.co/95blQqlgxv',\n",
       " \"i'm such a dirty cum slut\",\n",
       " 'Lord PLEASE give me the strength to not punch this bitch in the throat',\n",
       " 'wonho... U Whore. https//t.co/LI3A3KfVly',\n",
       " 'why do i only have 62 followers im funny as fuck bitch',\n",
       " 'when u walk in, u gotta blessed the trap. cause u came in this bitch nothing but I bet u leave here with something',\n",
       " '@T_Barbs I see the way shes looking at you is like this bitch here....',\n",
       " '@CoCoMaiPhillips @vickygreening Am I dumb I could only find 1 word and it was whore',\n",
       " 'I swear, Im going to respond in LESS than 24hrs, as soon and that bitch drop Im on his ass! https//t.co/zFQQm1KnEv',\n",
       " 'What a horrible skank https//t.co/m2G79CAdxM',\n",
       " 'Me- Im such a bitch, is that why I dont have a bf? Claudio- maybe',\n",
       " 'bro if i see that dyke get her strap sucked on again, im blocking u',\n",
       " 'This is why I hate working with customers. This bitch made me feel like shit and that I dont matter and that my job doesnt matter. I hate the way she made me feel',\n",
       " '@GWijnaldum @JHenderson @trentaa98 @LFC Dyke',\n",
       " 'Retweet if youd rip my clothes off and fuck me until I passed out #horny #boobs #tits #pussy #porn #amateurporn #nsfw #cumslut #blowjob #sex #slut #ass #dick #cock #jailbait #bbc #gangbang #cuckold #fuck #fuckme #whore #cumtribute #nude #naked https//t.co/2Bm6PBDkqj',\n",
       " '@giselleyB12 Im like??? Why you have so much attitude for NO REASON so I went to ask someone else for something and this bitch had attitude too!Like damn okkk',\n",
       " 'RIGHT , who is this bitch https//t.co/DgYws93GX2',\n",
       " 'I was getting great sleep to whore https//t.co/BPFTSwFWF7',\n",
       " 'this bitch already has long ass lashes and she wants them to be longer?????? sayang i love you hehe https//t.co/lwsubUJ7pO',\n",
       " '@nasadicks @sincenewycrk bitch u didnt reply me either',\n",
       " 'She said hes acting like a fucking bitch',\n",
       " 'Gahdamn bitch you so fine https//t.co/h4Nm120Xnb',\n",
       " 'I almost had to fight a fucking bitch at the bank the world is REALLY testing me today huu',\n",
       " 'go fucking everyone than saying men aint shit when everyone knows your just an easy fuck, no one wants someone thats fucked everyone in town. If youve already fucked everyone move out of town cause if you sucker some new guy in town, theyll let them know your the towns whore.',\n",
       " 'Bout to fall alseep in this bitch',\n",
       " '@mmithschau THIS BITCH SAID https//t.co/aSRuMjhn0J',\n",
       " 'Never treat yo main bitch worse than yo side ho!',\n",
       " 'when you called I had it , when you needed something I had it , I stayed down even when I should of folded .. real solid ass bitch . THESE OTHER BITCHES AINT CUT LIKE ME',\n",
       " 'can he stop talkin in pout all the time bitch ill fuckigngngng kaka you',\n",
       " \"I'm a nice guy so go die you whore yikes, the irony https//t.co/ypgLKtt2xb\",\n",
       " 'MY WEEK END STARTS NOW HELL YEAH A BITCH IS GONNA R E S T',\n",
       " '@ajaschance They just cant take that a fucking bitch like me had the power - Ajer Kwen',\n",
       " '@ruby_sissy You sure did! Youre a little cock sucking whore arent you Ruby',\n",
       " 'Lmao Ill wrong bitch tf outta a mf https//t.co/pTeJS2MJxb',\n",
       " \"I ain't tryna be to evtra in this bitch but mhmm... Where I'm gone fit my compressor in this crib !\",\n",
       " 'toledo traffic is such a fucking bitch bro...',\n",
       " 'i wanna cuddle w my bff this bitch has been gone for too long',\n",
       " '@samnthaangelos @JoeyMikez1 we not whore',\n",
       " 'What more do you want bitch a fuckin outfit lmaoo',\n",
       " 'aint nothing worse than a bitch made ass nigga',\n",
       " '@WsspAyanna This bitch is on something https//t.co/5tw8txqkJX',\n",
       " 'back on this shitty ass iphone cuz my android decided to harakiri after 2 mos. fucking bitch https//t.co/oRhc2wUYr1',\n",
       " '@uhohdie You fucking whore did you not see the second tweet',\n",
       " 'My homegirl asked me last night. Whats one thing you would change about yourself? This bitch wanna say for me my gag reflex',\n",
       " '@taeriyakiii u know im an attention whore dont act surprised',\n",
       " '@Cubster_1187 Your right mate, she makes my skin crawl, what a fucking bitch',\n",
       " \"@Cardi_C__ Lmao dead ass, I'ma be the cool dyke auntie for life\",\n",
       " '@iamchellee_ Then Niggas Say Their Bitch Bad Whole Time Be Chewed Up',\n",
       " 'I love my sister but Im sorry this bitch is so STUPID I cant hold in anymore, its below me only the ancestors can help this one if shell ever claim them https//t.co/5NOv39lEsE',\n",
       " 'Gang in this Bitch',\n",
       " 'ngl xmfc is my comfort movie ive watched this bitch more times than ive seen my sister this month and i live with her',\n",
       " 'suddenly im a white mans whore again',\n",
       " 'This bitch annoy tf outta me last night',\n",
       " 'i need a white whore already https//t.co/kcvz4GaQF2',\n",
       " 'Youre really out here being a whole ass Healthy Girl lmao. A bitch has a bday in a few hours and is already a new woman https//t.co/ZkI7wYZagS https//t.co/O0gIqlM1Qa',\n",
       " 'im trynna be a bad bitch like @Lyniinii. posted up in love in tokyo instead of italy',\n",
       " '@CNN I heard she was on a bunch of sugar daddy websites. She a dirty girl! Twerk twerk.',\n",
       " 'I deadass put my headphones on just so I can talk to myself in public without looking crazy bc my anxiety is THAT bitch and this is my most efficient coping mechanism',\n",
       " '@ImMorriz Ugly ass dyke',\n",
       " '@Babaaa_Yaga the audacity of this bitch https//t.co/Tq4a2yyh4K',\n",
       " 'this bitch i been sexing, been calling and texting but ian gon answer the phone',\n",
       " 'Omg I almost got 700 followers on here. Yall really about to be fed up with my BS but I thank yall for joining this journey with me. Also, Im a multistan so im a Kpop whore.',\n",
       " '@TREKMulti k whore',\n",
       " 'Wow dont fkn disrespect @KylieJenner. She is the finest babe to walk this earth! https//t.co/XtfEoh6ROS',\n",
       " 'wow your family is so cool on both sides youre such a fucking BITCH',\n",
       " 'Im thinking of doing an ombre brown/black and some blonde (not like light blonde. Im talking a dirty blonde) for my next look. Im also gonna go back to long. This short hair is nice and all but I need to be my diva self again.',\n",
       " \"I took a cute selfie in my failed nap time clothes but my dumb ClarkKent brain doesn't know who tf this bitch without glasses on is https//t.co/mUZfbvxlhB\",\n",
       " '@brinaboo82 Im not. And this bitch will haunt niggas.',\n",
       " 'Im in the bathroom hiding meanwhile this bitch beside me shitting just OPENLY in this bathroom letting mfs know she shitting',\n",
       " 'I just need yall to know Im about to get on like a whole road skank for carnival',\n",
       " \"So i just reply to this bitch with a beyonc picture that y'all can't body shame people by their zodiac signs and this bitch doesn't know who beyonc is https//t.co/NtkYduKAZ6\",\n",
       " '@leedabn or just ult both dumb dyke',\n",
       " '@JustHead_Thanks Prolly so but imma give it everything I got lmao. Its gon be a dirty fight from the getgo',\n",
       " 'Oh you a dirty bitch https//t.co/MjgI6jxIvJ',\n",
       " 'I almost wreck my truck a big ass June bug flew in this bitch',\n",
       " '@1800DEADMOM Lets go get pizza you whore',\n",
       " 'Smfh I need tint in this bitch',\n",
       " 'we run this bitch https//t.co/FrTXzWDinx',\n",
       " 'im tired of you clowns this bitch is talentless and not asian thats all https//t.co/OrItaU1qdv',\n",
       " '@Kazura02 People are defending this bitch lmao',\n",
       " 'Karma been hitting my ass too fast back to back like damn bitch hold onnnnnnnnn',\n",
       " '@TalamantesL_ She was I saw that shit but then you came in and I was like damn this bitch got the bag secured. Okurrr',\n",
       " 'a whore, hes a literal whore',\n",
       " 'can twitter just let my say how much i want to be called a whore without crashing smh',\n",
       " 'im the white mans whore for tyler c #TheBachlorette',\n",
       " 'DYKE DYKE DYKE DYKE DYKE https//t.co/WMu27h6VGR',\n",
       " 'IF YOU USE THE R WORD YOUR MOMS A WHORE.',\n",
       " 'I came into this bitch READY TO GO',\n",
       " '@CosmicSwagDaddy epic whore fool',\n",
       " 'This bitch look like a Ferrari and a camaro fucked https//t.co/v5Gc9nyOq4',\n",
       " 'You A Bitch Going Through A Bitch Phone',\n",
       " 'If youre a nigga arguing with a female youre automatically a bitch made nigga',\n",
       " 'I want all my weed to myself... dont want help from family ... if you think Im a whore bc of that cool if u think Im white bc of that cool',\n",
       " '@curtiscgilbert This bitch hated me tf',\n",
       " 'i hate that skank but i love him',\n",
       " 'get this twunk off my screen its dyke time',\n",
       " '@97PK_ WOOOOOOOOOOOW This bitch is TRIPPING',\n",
       " 'is this bitch of the xannies y she talk like dat, swear Im just waiting for wypipo to go extinct already dayum https//t.co/wmnpgRTjGc',\n",
       " 'Algum vai comigo no show do Skank u',\n",
       " 'I thought I was the passenger in this bitch and Im alone',\n",
       " '@kalamariie Lmao bruh a bitch in there for life',\n",
       " '@crownedeclipse im a dyke? i look like a man',\n",
       " 'Why this bitch nigga dm my dad on FB',\n",
       " 'i have this neighbor ma galit ma galit everytime na magvvideoke like tf? occassionally lang naman to but y the fuck cant u be considerate u fucking bitch duh',\n",
       " '@dprsumaya Thats my bitch right there',\n",
       " '@brendaxgallardo @Salgon_ BITCH -',\n",
       " '@graaace14 SZA is rlly that bitch too tho',\n",
       " 'Karma a bitch and it wont miss you !',\n",
       " 'Gonna enemies to lovers this bitch YEet',\n",
       " 'man this bitch so choosy i think her name was ruby',\n",
       " 'This aint that bitch that aint this',\n",
       " '@FOXNashville Hell No! Get over it! Hillary was a skank!',\n",
       " 'every time @FaittthAnne takes a snapchat video of me i take a drink and she knows that. this bitch is trying to get me drunk bc shes taken at least 15 in the last 10 minutes.',\n",
       " \"i have fucked but haven't Fucked if ya know what I mean\",\n",
       " '@SirFristy Yen gets nicer at some point and she has every reason to be a bitch because he shagged Triss while he was in relationship with her so yeah',\n",
       " '@PsychoFlowerChi Because I have the right to you whore',\n",
       " 'Damn it must not be no more weed men around this bitch broke asses',\n",
       " '@HeavyHeavyd your a cunt',\n",
       " '@__Teonia bitch what did I do?',\n",
       " 'This bitch said do I have to pick her up',\n",
       " 'janeval....... dare i say that shit slaps. idc about valcarol since its always been carolmaria n im just glad ive finally got the confirmation ive been right about ms foster all along. THAT woman is a DYKE and i will not hear otherwise',\n",
       " 'ana fabrega looks like a dyke',\n",
       " 'Im a skinny mens whore https//t.co/zrHKI7MyLv',\n",
       " 'i love when my sub misbehaves bc it gives me an excuse to bend them over and spank, paddle, or flog their bratty ass mercillessly till its bruised and theyre begging to be fucked, promising to be a good whore from now on through the tears',\n",
       " '@Noremacsmada Shes a whore',\n",
       " 'Mueller looks like and acts a little fucking bitch.',\n",
       " 'What a dirty whore! https//t.co/Cs3btAC6z2',\n",
       " 'THIS BITCH REALLY LIFTED UP HIS SHIRT https//t.co/ceXmqRiNT5',\n",
       " 'I got fire head than a dyke bitch',\n",
       " 'this bitch really blurred her notification from ethan huh https//t.co/e3JWqboXSk',\n",
       " '@johndeaconfucks mine os dreams bc im a Basic whore',\n",
       " '@_mariamaaaa I dont need Twitter this bitch need me.',\n",
       " 'this bitch is like I always loved Nicole, but here I am falling in love with another woman and I only hit her once, and that was because she instigated the fight',\n",
       " 'such an every sidewalk is a runway ass bitch https//t.co/44FfMFbj2C',\n",
       " 'I hate when my depression keeps me up crying all night Like bitch, I got work in the morning',\n",
       " '@chaseIuv WE FUCKING SHOULD U BETTER BE READY TOMORROW BITCH',\n",
       " 'Thats why I do what ever I want round this bitch https//t.co/iMdp1QtbhY',\n",
       " '@_beingcam @Nkocain yadika le bitch.',\n",
       " \"I love people contradictions When you talk to ppl with any taboos, they just hate you cause aparently you're an ego/cocky piece of shit. When you don't say the very true opinions, you're a fucking whore liar bitch. You know what? Idfc! I'm sick of thatD https//t.co/1JDegOwm6w\",\n",
       " '@moghbazaar KWNFISNDIQJDIKDDIKE STOP ALL THE BIG ONES AFTER TAE ARE LIKE FUCKING BITCH STUPID HATE',\n",
       " 'i asked maisie what i was like in the dream and she says tom holland-less....... TOM HOLLANDLESS. THIS FUCKING WHORE',\n",
       " 'Going to sleep soon cant tolerate being in this house with that worthless nasty skank',\n",
       " 'swear im still a shouto stan this bitch denki just making me feel things',\n",
       " '@ObIivion___ Let a bitch fuck my father i will k*ll her',\n",
       " '@mischiefloey BITCH WHERE I LOOK EXACRLU LIKE THIS MF SKDB',\n",
       " \"y'all just wanna flaunt some ass and camel toe https//t.co/Q8tMvsSitT\",\n",
       " 'whore!',\n",
       " \"This bitch being loud and proud pokpok na baccla now he's against same-sex marriage. Wala pa naman ako sa mood. Iwan ko lang dito para balikan ko. HAHAHAHA https//t.co/1sA9J4nnTo\",\n",
       " '@DailyMailCeleb Bitch, i would too tf',\n",
       " 'Im not gone beg a bitch to do my hair . Wish I knew how to do my own hair',\n",
       " \"@YangingOnOK Just because I'm single doesn't mean I want to whore myself out..\",\n",
       " 'I dont muted/unfollowed this bitch on every account and she still watch all my snaps and retweet shit',\n",
       " 'FUCKING INBRED STUPID WHORE',\n",
       " '@kevtron6 I feel that with my soul, thats why Im moving out of this bitch Idk man just do whatever feels right',\n",
       " 'Ok dyke https//t.co/CwphVHo5Ew',\n",
       " 'This bitch at my job SWEARS shes the finest thing on this planet. BITCHH your to into your self and that shit MAKES YOU UGLY !!!',\n",
       " 'I so tired of seeing this bitch on the timeline',\n",
       " 'Insomnia is a bitch because I got in bed at 8 and now its 1142 and I cant sleep and Im trying to find out what time bayleigh was born to find out her moon sign',\n",
       " '@Getlikemeritza The facts bro lil bitch hiding now',\n",
       " \"I'm 20 and this shit still happens to me smh https//t.co/Y9xg2tuYTM\",\n",
       " 'when are girls gonna stop thinking that being an alcoholic is a personality trait like bitch crack a joke or something damn',\n",
       " '@Mdggke dancing like damn dyke',\n",
       " 'Only person Im competing with is my self and this bitch hard to compete with',\n",
       " 'Yes, please dont be a punk asss bitch tell me what it is &amp; what it aint! https//t.co/7XLxTp3UVo',\n",
       " 'A Bitch Tired Doe.',\n",
       " 'level 3 is a fucking bitch Im quitting bts can debut themselves',\n",
       " 'a whole new whore maybe https//t.co/eX4iEKfCGM',\n",
       " 'B I T T E R bitch if that man move on ki can have a respectful step mama https//t.co/zdAePlfphW',\n",
       " \"I can't fw no dyke after one tried me tb eat her pussy I thought them thangs came with straps\",\n",
       " '@BergsBrew I was talking about what collectibles not a movie u whore',\n",
       " 'Bitch EVERYBODY Was Throwing Up Last Night',\n",
       " 'Gonna brave going to glossier on a Saturday.. bitch needs a boy brow',\n",
       " 'Burn this bitch down. https//t.co/TfB7QFJwyf',\n",
       " 'Bitch got my damn throat itching',\n",
       " 'I wouldve dropped this bitch in a heart beat https//t.co/DpJr2qjJOb',\n",
       " 'e a kim lip ela tem dyke energy ao mesmo tempo que no????? https//t.co/rJExPqkIOk',\n",
       " 'im a whore for panda express',\n",
       " '@DFNP Well i won cause he left and i am still in this bitch',\n",
       " 'Bout to block this bitch',\n",
       " 'bitch am i having heart burn i ate a fucking POP TART',\n",
       " '@Jordin08997230 lil bitch XD jkjkjk',\n",
       " 'its taking everything in me not to punch the fuck out my scheduling manager this bitch schedules me the 4 days I took off months ago https//t.co/IbqHgrYsAA',\n",
       " 'zwei-ketten rainbowcookiz nerd-nugget Hangry this bitch empty YEET i love this disrespectful ass dog https//t.co/GsHjfUU3UK',\n",
       " \"Talk about 1. hoeass reply to my texts 2. omg lit rally a whole intellectual 3. we cool now 4. bitch fuck you 5. kim lip she's so,, 6. stupid ass hoe 7. best boy drop an emoji and I'll send you the questions\",\n",
       " 'Damn bitch you had me scared for a minute there',\n",
       " '@piersmorgan C U Next Tuesday. You little baby back bitch.',\n",
       " 'this bitch keeps farting on my leg',\n",
       " 'vivi rlly had me and ck pullin up to her house for free edibles but instead this bitch walks out the door and isnt in dominican republic anymore',\n",
       " 'she also got me a cute face mask that smells like matcha bc she knows im a matcha whore thanks mom',\n",
       " '5 such a tl whore',\n",
       " 'While I try to get Hollywood Whore by Papa Roach out of my damn head...Ask me anything. https//t.co/hAhlJJabRX',\n",
       " 'Heres a dirty bitch gotta catch this fade',\n",
       " '@JahirymsWorld Nah thats the easiest shit to do, bye bye bitch',\n",
       " 'Called him out and this bitch actually says I make it clap bc you got the right answer',\n",
       " 'https//t.co/sDMYmVaRbv @BetteMidler #skank',\n",
       " 'My parents why doesnt your friend come over anymore Me internally(because shes a fucking bitch thats why) What I said shes busy',\n",
       " '@ShaqDalrymple Dont worry Ive got one now skank',\n",
       " 'Ana carolina e skank amanha no altas horas esse e meu momentooo',\n",
       " 'Fuck. This. Bitch. We been knew. Smh. @bb21 https//t.co/Rkn54arxeb',\n",
       " 'if this bitch pops her gum in my face one more time',\n",
       " 'This bitch getting shared by her bd and his bro (my bd) lmao. wtf thats your kids uncle Hahahah',\n",
       " 'I honk this Twitter is hacked. Im like how am I following 100 people and I be in this bitch once a week if that.',\n",
       " '//I really hate follower whore accounts.',\n",
       " 'this bitch was really begging to be called angel',\n",
       " 'When the bitch is talking too much https//t.co/yXbZYnKVfu',\n",
       " 'Gareth Bale is such a fucking bitch',\n",
       " '@jacaristar Bitch how you fine as hell either way is beyond me',\n",
       " 'i hate latinos agringados wtf is latinx bitch ill kill u',\n",
       " 'I was just telling my friend from South Africa about my alter ego Kentucky Brittany, &amp; he didnt know the term alter ego so he thought I was talking about another actual person. After I told him about her he said I would punch the fucking bitch in the face she sounds terrible',\n",
       " '@DJMEATDADDY BITCH!!!!',\n",
       " 'My ps4 has a super random Netflix account on it somehow and Im sorry Brother Anthony wherever u are for losing where u are in all ur shows cuz they mine now bitch lol',\n",
       " 'tentando lembrar onde tocou Dois Rios do Skank e eu fiquei mo bolado ao lembrar o quanto essa musica foda',\n",
       " '@shaniahimani Thats not a dyke?',\n",
       " '@menarreola @martindemierda_ A mi me sali lo mismooooooo hahahahaha bitch wtffff',\n",
       " 'im going to die in this bitch ass corporate ass building it wont even be by choice im just going to melt into the computer and explode in a fiery blaze',\n",
       " 'im a white mans whore for jesse st james',\n",
       " 'Ew bitch.',\n",
       " 'we love a label whore done right. https//t.co/RhbJwQ77Qq',\n",
       " '@saddbino bitch i have so many things i need get off my chest pls do it',\n",
       " '@Ali_ilkzz Some skank man idk why shes getting involved she did practically the same thing.. but the time scale is much less',\n",
       " 'bro can i jump off a mf cliff wtf is this BITCH SAYINGJDVDJDJD ?!?! https//t.co/62NcPj3aKh',\n",
       " 'This girl called the main chick to her new found hubby in tears, throwing tantrums about staying away from her man, when this bitch her own',\n",
       " 'You have resting bitch face pretty boy',\n",
       " 'epic beautiful whore aww https//t.co/dtn622tbWv',\n",
       " \"This weekend i don't have to complain about not having sex i was my old whore self but back to being wholesome tomorrow\",\n",
       " 'Ultimamente eo skank que tranquilizar',\n",
       " 'i told this bitch dont call me til august when they sentence him',\n",
       " 'Overheard a little girl in Penneys saying hi I just love spending money and Ive never related to anyone so much in my life',\n",
       " \"I'm so tired but I'm literally not gonna be able to sleep all night because my clown of a bf is snoring so loud I'm bouta kill this bitch\",\n",
       " 'this girl will talk or flirt with ANY DYKE she see',\n",
       " 'I love coming up to Northern Cali this bitch is beautiful!',\n",
       " 'I woke up this morning and the first word that came out of my mouth was bitch',\n",
       " 'mom asked me if i was pregnant bc of the vomiting,, bsjdheje your daughter is a dyke D',\n",
       " 'missing this bitch nd her kids ughsjsg',\n",
       " 'i can not tell you how many times i wanna break this bitch jaw on the daily',\n",
       " '@x1guanlin feel like this since the auditions* this bitch is so dumb dkdjksj',\n",
       " 'My cousin is an avid driving texter and Im just wondering if this bitch really trying to kill me.',\n",
       " \"Oh. My fucking God. She's selling tee shirts. I wrote her love letters every night. We were bestest friends forever. And then... This fucking whore. I can't fucking believe it. She made tee shirts and she's SELLING them. She's dead to me. Fuck her. /sarcasm https//t.co/90qygii9jN\",\n",
       " '@marcytaughtem Bitch Im not playing. My boy was on his way tf up outta here when I first found out lmaoooooooo',\n",
       " \"I had a friend ask me could she post a particular pic of us for my bday (bc she knew I looked crappy too or she wouldn't have even asked) and I said no... She posted it anyway. FUCKING BITCH lmao\",\n",
       " 'Heyyy anitwt, this bitch baaaaack',\n",
       " 'That I like you text got me smiling like crazy this mornin Not ready for anythin yet, tryna focus on myself first. Gonna prepare myself for something REAL! Watch me Glo up BIIITCH',\n",
       " 'medina 2day bitch',\n",
       " '@calebebling Judge not bitch!',\n",
       " 'my eyes when i stand up too quickly my head this fucking bitch standing up too quickly again',\n",
       " 'i guess i really am the whore of the group',\n",
       " '&lt; this dumb bitch keeps forgetting the fact that she has a fuckin nose ring n so she keeps hitting it by accident.. ahaha it hurts sm',\n",
       " 'Smh this bitch is the worst bartender EVER',\n",
       " 'idk why people feel like they cant be straight up w me. bitch tell me how YOU feel',\n",
       " 'bucky is such an attention whore',\n",
       " 'your a lying fucking bitch , Trump kicked him out of mar-logo https//t.co/s4hduXewDI',\n",
       " 'Forget about BDE being big dick/dyke energy, I radiate big dumb energy Like whatthefuck is a long division? Im confused?',\n",
       " 'So since Im at the bar Im boogie. So picture me letting a nigga or a bitch questioning me without a home button. Shawty if you dont SLIDE like my phone on lock',\n",
       " 'i cant believe i was ghosted by this bitch',\n",
       " \"Fucking bitch I thought you were slashing yourself up again when I saw that neck wound pic YOU SCARED ME FUCK i am still healing regardless, now that the painkillers have worn off it's a rather painful thing to have to deal with https//t.co/X159qvTw93\",\n",
       " 'This bitch wig so trash bruh',\n",
       " 'ima keep you on my shoulder bc every cold brotha need a bitch thats 10x cooler',\n",
       " 'why this bitch trending hours later fuck off i want official confirmation ONLY #HEAR_YOURSELF',\n",
       " '@_dynashaaa bitch go lay back on ya back',\n",
       " 'Im so ?? This bitch is actually trying to turn into me. Im spooped',\n",
       " 'louco de skank kk',\n",
       " 'Mike scott aint no fucking bitch',\n",
       " 'I hate being asked what my future plans are bitch I aint tryna make it that far we playing it by ear until the last breath on this miserable rock',\n",
       " 'at this point bitch and idiot and whore are all just unassigned names to my friends',\n",
       " \"@Onikafanaccoun1 That's a demon ya know if it's lucifer yes we could take his dick but this bitch i-\",\n",
       " 'Stop the earth and let me off this bitch.',\n",
       " '@wealthyjasss On god I thought it was my phone , turned this bitch off twice',\n",
       " 'Me and this bitch in the pool drunk we just asking to drown',\n",
       " '@queissugigi @wordlay putz l se vai minha chance de ver o skank',\n",
       " 'If you still do the ask fm on Snapchat youre either 12 years old or an attention whore lol',\n",
       " 'gotta go watch some skincare YouTube vids and then go to bed and pray my skin to get better because this bitch is broke af',\n",
       " 'Ainda Gosto Dela de Skank https//t.co/nZg6h8hY7w #NowPlaying',\n",
       " 'my mans whore shorts match my white claw i think im mad',\n",
       " 'Lmao im sitting here yelling at this cold hearted bitch on my game. Ditched 2 people to be killed, one of which FOUGHT to set her free. She then ran out and let her hero die. If im ever jason, ima kill HER 1st.',\n",
       " '@thesaddyke why is this bitch invalidating ur sexuality??? so what if u end up w a man that doesnt make u less bi...the ignorance',\n",
       " 'Dyke bitches talking out they jaw',\n",
       " 'How tf u do me wrong left me for a bitch dat wont worth it like me.',\n",
       " '@marigutzp This bitch rules https//t.co/qHrbTsJzvs',\n",
       " 'WAIT IM ACTUALLY LOSING MY SHIT NARUTO IS MY FAVORITE ANIME BITCH SASUKE WAS THE ORIGINAL ANIME BOY OF THE MONTH I LOVE HIM HE IS MY SON THEY CANT KILL HIM STOP',\n",
       " 'whats fucked up is she fucked her friend who has a gf bc she gave her a dirty look',\n",
       " 'Any wasp come in a 5ft radius Im out this bitch. Bye',\n",
       " 'the whole jonah sl was so random esp that part when he suddenly started dancing ?? tf is this bitch im gonna k*ll you',\n",
       " '@80smayfieId they dont hate this dyke',\n",
       " '@skinnykeum LEARN TO READ FIRST BITCH I WILL NEVER DISRESPECT M2S LIKE THAT',\n",
       " '@kitandrew1 I never go swimming as all the skank scares me',\n",
       " 'my sister wont get up even tho she told me to wake her up and shes ignoring her alarms too bitch ill k word you',\n",
       " 'Ricardo really said hes going to show my coconut tweets to my boss lmaooo, this bitch',\n",
       " '@idelustions FUNNY BROKEN WHORE SKDLSDJKSJS IM-',\n",
       " '@jeansgallo My immediate thot was YOU COULDA HAD A BAD BITCH...NONCOMMITTAL',\n",
       " \"@eeextrraaa It's Cayman bitch\",\n",
       " '@Aurelian_jk me knowing this whore is online but doesnt text me 3 https//t.co/NbrZw6zuq7',\n",
       " 'Cardi B can really make me think Im a bad bitch',\n",
       " 'My bitch b having a nigga smoking Marlboro #Mike https//t.co/lGx7YrivKE',\n",
       " 'i was wondering why its hot in my best friends room and this whore has the fan pointed at herself',\n",
       " '@OVO_Phantom23 @Lilasiangyaldem s dum som du e i wouldnt be surprised bitch',\n",
       " 'i really want you to put me in my place and to be your little whore ugh ( hhh omg dm me https//t.co/o71EIxwBtt',\n",
       " 'so sometimes when people irl tell me things, i tell other people without thinking, meaning im a fucking bitch. and i dont know how to stop. ive written stuff on my wrist to look at and ive even like pinched myself.',\n",
       " 'Tryna be a whore for some pasta',\n",
       " 'i promise you ive heard that shit so many times &amp; its so like annoying . at first i was too big , bitch now i look sick ???',\n",
       " 'this bitch makes me want to scream she legit messes up everything el professor has planned https//t.co/wTyabvOSU3',\n",
       " 'Angel to them but for me you a whore .',\n",
       " '@L_Rocks_Well Cause he already used to it bruh. My boy got ptsd cause this bitch.',\n",
       " '@woohHASAF a bitch was panicking',\n",
       " 'go to bed whore https//t.co/vspg3nSrOc',\n",
       " 'Hes good at hurting people, this bitch https//t.co/IhyTlfbCJ9',\n",
       " '@oyzonur Skank kafasm bu kardeim',\n",
       " 'Why do dykes always turn into hood niggas ? Like Ive never met a dyke that wanted to be a gentleman or a nice young man',\n",
       " 'This guy is such a sensitive little bitch https//t.co/UJdwi27zsL',\n",
       " 'Damn right a bitch qualified',\n",
       " 'NO DYKE PLEASE https//t.co/1WrNGc9jUm',\n",
       " 'my coworker told me he feels weird about me cos i told him i like girls sounds like a you problem bitch',\n",
       " '@Tontiana__ oh no bitch dont disrespect me like that',\n",
       " 'ART BITCH! https//t.co/yGizPlEFZt',\n",
       " '@hanzbananzz I love a good looking camel toe',\n",
       " '@shephles_alt hey, i got whore, ape and bad. lol.',\n",
       " '@vingadoro VAMO FUMA UM SKANK',\n",
       " '@GemmaIsAFatCunt Dyke!',\n",
       " 'i cut this bitch up n she was in fact worth $3.28 that bitch gave me 5 sammiches. FIVE https//t.co/dPIkIyYXZe',\n",
       " '@Sammyantha69131 hard to believe thats the same person im a whore for https//t.co/Kgf7kbn0E3',\n",
       " 'My teeth used to be like Jordans but thank fuck God was like nah you about glow bitch',\n",
       " '@idkbutchyler Im confused what does Non binary dyke mean ? Are you a lesbian? Or what? Not being difficult just an older Lesbian not up on the current language.',\n",
       " '@JordanRomano4 @IGGYAZALEA this bitch be looking like Mr. Krabs',\n",
       " '@FIight8 @Future1Sen I love Zo, but this funny af. Hella sensitive comments in this bitch',\n",
       " 'blonde taeil makes me feel some sorta way,,, im not a whore but who knows https//t.co/0ZXvmxwCWG',\n",
       " 'And this bitch aint een all that cold yall tweaking https//t.co/dYlG9YHu9q',\n",
       " '@she_oops Me? Or my whore wife?',\n",
       " 'Shame On my Fucking Bitch Country We Should grown up our Humanity https//t.co/9flu4JCQpN',\n",
       " 'ICE Im ready for you bitch',\n",
       " 'im gonna say this again, do not dm me if you have not sent a tribute. my time isnt free, im not here to give away pleasure. i love being sweet and pleasant, but do not take advantage, but i can also be a total fucking bitch. #findom',\n",
       " 'Being a whore for short mam https//t.co/EAfQuQlNZg',\n",
       " 'and this bitch has too many complains like wtf gurl ano pang gusto mooo?! https//t.co/vnN3yLmbRE',\n",
       " 'youre so gorgeousss mashallah w you give out so much bad bitch energy ugh',\n",
       " '@ariibabii29 I have a chunk of my eyebrow missing because one of my horses decided to try to murder me when I was like 12, bitch dead ass turned into a fucking gymnast and backflipped on top of my ass https//t.co/Fk7O0mSBNG',\n",
       " '@MlKE24 Square up whore',\n",
       " 'BITCH WUT?!',\n",
       " \"@whore_movie @MySwilly @shaunstorey7 @Wanita_Music @PatriceLeeMusic @PatheticLoserAB Hey my dear brother - i admit , I'm high as fuck again .....was gifted xesrerday with such a funny weed ......hey all the luv to you - beautiful amazing soul ......so glad to know ya my friend ....\",\n",
       " '@Dinkiano4 bitch you a murderer ?',\n",
       " '@OvOXavier643 @alexvxand3 LMFAOOOOOOOOOOOOOOOOO BITCH IHYYYYY https//t.co/ZiW7IbnjI7',\n",
       " 'So you guys better start dating my cousin. She can give you beautiful genes. And I think shes ready to be a whore like me.',\n",
       " '@fatherpachia Bitch unarm it tf',\n",
       " 'take ur bitch to nordstrom rack thats not a flex',\n",
       " 'Story of the day you stupid fucking Bitch! Future ruined unless you are extremely wealthy! My guess is you aint https//t.co/DcYQ9nCbzq',\n",
       " 'aquele Paco Rabanne exalando p crl, s no t mais cheiroso que o skank de galo',\n",
       " 'the sun ) ! every bitch on snapchat with a job cAnt believe i HaVe to WoRK in this weather',\n",
       " 'Yes I said it! On a Monday! bitch',\n",
       " 'Uhm bitch wtf?',\n",
       " 'funny how these tiktok e-girl bitches think they stand the chance to this emo queen of every dykes dream https//t.co/iDoBFmoMSL',\n",
       " '@tootiebaby6 This bitch happy she found the password to her account',\n",
       " 'I feel like the the gif of the girl cleaning whore in lipstick off the mirror',\n",
       " 'Charlie in this bitch lookin mighty nice boy',\n",
       " 'the rumors are true i AM a whore for billie eilish',\n",
       " '@VioletSSB Um hello this bitchs name is violet https//t.co/6Fk4JkAlMK',\n",
       " 'I cannot stand a dirty bitch',\n",
       " 'im muting stud and dyke because atp yall getting on my nerves.',\n",
       " 'Spit it out like whore at the pub!',\n",
       " 'GUESS WHO LOST ONE OF HER BESTEST FRIEND FROM 5TH GRADE THIS BITCH RIGHT HEREEE',\n",
       " '@conangray is apple music the only way to watch it cuz a bitch got spotify',\n",
       " '@goodishomens bitch yes u can??????',\n",
       " 'a dyke* https//t.co/irM5wf4f0w',\n",
       " 'This bitch literally copy and pasted my whole personalityyikes the bitch is lacking originality.',\n",
       " 'I feel like shes talking about her hair the whole interview #Dyke https//t.co/n4FKFLsPXl',\n",
       " 'last night my boyfriends grandma said I was her granddaughter and bitch I almost cried',\n",
       " '@AStrongerOZ Dyke?',\n",
       " '@S3Chema Cause youre a dirty slut',\n",
       " 'If i become a rapper i am officially going to be called mac dyke',\n",
       " \"if this bitch doesn't send luke home i swear to GOD https//t.co/s50AGDwxYJ\",\n",
       " 'countdown until i see my gf again i will be tweeting a tik tok a day to keep the dyke away https//t.co/gqaLY3zzxm',\n",
       " '@jacquelinebarnz I think I watched this 2yrs ago and what came to my mind is she shd have given him a dirty and hot slap. Friends with full benefit!!!!',\n",
       " '@JustTifa_ Bitch we gotta go sap',\n",
       " 'whore lovely broken...... um https//t.co/mWqGcFmINm',\n",
       " 'This bitch really said aNd hES a TaUrUS This is why I cant take yall seriously with the astrology shit https//t.co/JHplsvlz7u',\n",
       " 'Send this bitch to jail https//t.co/Q3I0mXG7IJ',\n",
       " 'Idc WHY mfs wait so long to tell me shit ... yall little dyke bitches . Keep my name out yall mouths por favor y gracias.',\n",
       " '@jacesicarus whore, beautiful, sad',\n",
       " '@OMG_Its_M_A_C @kealaflare He a dirty nigga to me lmao ion care how much money he get lmao',\n",
       " 'Yeah am never having sex with you again if you say have you ever thought about having kidd bitch you are a play thing #fucking#women',\n",
       " 'Fuck if ya leg broke bitch hop up on ya good foot .',\n",
       " 'If I cant dress like a little whore Im not interested in going',\n",
       " 'This bitch nunca pis La Anunciata..... https//t.co/fS2uaLgr8d',\n",
       " 'i can braid with these nails whore...',\n",
       " 'Im a nice guy, but also, go die whore. #NotAllMen https//t.co/EHKPttxAmQ',\n",
       " 'Bitch YOU Like To Hear Me Talk Thats Why You Keep Finding Your Way On My Page! Your Tweets Just Be Chuck Full Of Delusional Lies So I Go To Your Page Like What This Bitch Lying Bout Today? #DelusionalBabies',\n",
       " 'tenten really is that bitch',\n",
       " 'What yall say when yall slide in the DMs? A bitch is stuck',\n",
       " 'i hate saying goodnight to someone and them not ssying it back like BITCH COME BACK',\n",
       " 'the tears wont stop im a sensitive whore',\n",
       " \"Like I'm hella excited to be in my old house by myself but also realizing I have to sleep in this bitch alone and now I feel fear.\",\n",
       " '@LosPollosTV Nah but I do have a doctors appointment at 9am so lets fire this bitch up',\n",
       " 'OKAY I APOLOGIZE BUT THIS IS HOW AMY IS DESCRIBED IN THE BOOK SHE AINT NO STUCK UP BITCH OK https//t.co/UZbT6Hylq7',\n",
       " 'I was on the phone to my girlfriend and I put her on hold cause my grandad called, this bitch took her earphones out her ear, I kept speaking, she then puts em back in telling me she heard noises and thought it was her FBI agent. What have I gotten myself into.',\n",
       " '@lunarjooon IT SAYS WHORE AND ITS @ JUNGKOOK',\n",
       " '@Igbtboes wait who is she isnt she that one dyke',\n",
       " 'Its hot out this bitch thats a good enough reason https//t.co/WsZqmQwb2o',\n",
       " \"On God this bitch got 3 fb pages bruh I'm dead asl\",\n",
       " \"What's new today bitch ?\",\n",
       " 'Supposed to get my nails done 30 minutes ago but this bitch ahead of me decided that her daughter was doing a manicure too after her feet and now im way behind everyone',\n",
       " 'i asked alexa how fish have sex and all this bitch said is fish is male',\n",
       " '@pawgsfuckdogs The type of girls on there lmao, once got a matched with a whore with a priv snap selling that coochie for $100 smfh lol https//t.co/nZvw3wBuiq',\n",
       " 'Domingo, 14/07 s 19h BEM BRASIL Venha curtir bebendo uma breja garrafa, ou caipirinha e curtindo aquele Crush ou Urso disponvel ao som de muita msica Brasileira de 1a. De Gal Pablo. De Caetano Skank. DJ Rudson Rezende Tonyy Entr R$15 ou cons R$30. https//t.co/NUJU71V8Mg',\n",
       " 'This bitch thinks Ive never seen toy story 2 https//t.co/cPgtxca5xH',\n",
       " 'Bitch if u dont go and get the side of ranch i been asking for ima SCREAM!!! https//t.co/UUCiZDEnl6',\n",
       " 'Jackie Calls Evelyn A Non Mother-F**kin Factor | Basketball Wives https//t.co/Rit987pzhj via @YouTube Evelyn acts like her daughter is 4 years old, shes a grown ass woman , Im sure she knows what a bitch is',\n",
       " 'I really was a stiff nervous bitch.',\n",
       " 'Bitch got dem koi lips',\n",
       " 'gintoki is literally so damn fine he makes all of my whore instincts go out of wack',\n",
       " '@BobbbyPeng makes me feel just reading about her .............skank !',\n",
       " 'The funny part nigga dont even speak on this bitch never be the nigga who part of our conversation',\n",
       " 'If we dont hang out with Sydney this weekend this bitch should just consider her self UNFRIENDED',\n",
       " 'dont get me wrong im a whole dyke but fyodor can like,, get it',\n",
       " 'Do you ever dislike someone so much its physically painful for you to be nice to them because Im at that point with this bitch.',\n",
       " '@SaraCarterDC Purple haired dyke does weird monkey dance',\n",
       " 'bf sends me pics of the Sim he made of me with cute captions me whyd you make me butt ugly',\n",
       " 'Cant do no touch me not ass dyke I cant touch u, u cant touch me',\n",
       " '@dingdonghyuck_ WHAT DO WE NAME THIS BITCH',\n",
       " 'This bitch is enrolled in school',\n",
       " '@itshannah_marie Literally his loss and her mistake because youre a straight up QUEEN We only allow self love and appreciation up in this bitch',\n",
       " 'I havent been a sleepy bitch lately. This is groundbreaking',\n",
       " \"@swiftvibesz I'm only a whore online luv I'm deadass a full virgin irl,,, never even hugged someone other than family((\",\n",
       " 'Dry July is going to be a bitch',\n",
       " 'Sick of seeing that purple haired dyke now',\n",
       " 'I love you so much, * is a fucking bitch and I hope you know youre worth so much more, stay strong bb ) - B tea ) i love you bri https//t.co/JP0co9fUn7',\n",
       " '@CP_1315 Shes a dirty bitch',\n",
       " 'i had the most comforting dream about zendaya i love this bitch',\n",
       " '@tainted_whore OHHHHHH',\n",
       " 'My old doctors office in Sumter want me to air that bitch out I see',\n",
       " 'Its whore knee hours',\n",
       " 'Im an overpriced brand names whore...',\n",
       " 'Not gonna argue w mfs no more im just gonna chill here and let them be killed by anger',\n",
       " 'Ai do nado no barzinho de frente com a empresa comea tocar sublime do Skank, coisa boa ein.',\n",
       " 'Era s dois copo de wisk skank e muito sexo a 2',\n",
       " \"@thegrayarea @TheOfficerTatum @AOC Love her She's gonna kick @AOC. Ass!!!\",\n",
       " 'MeParis did I feed you before I went to work this morning? My fish MeFucking bitch is always ignoring me',\n",
       " '@dvdddyy @cereal_whore what the fuck thats so scary imagine being her',\n",
       " \"Fellas if she tells you she's a lesbian, tell her you are a dyke\",\n",
       " 'angry dyke energy https//t.co/HqpJbTWles',\n",
       " 'Whole Mood Change Everytime I Walk In This Bitch',\n",
       " 'if she wanted a nigga she would date one. quit with that narrative. nobody taking a dyke with bundles seriously https//t.co/2r7dyoQ33a',\n",
       " 'bitch said as a dubainian with her whole chest https//t.co/jwNTuZaqi4',\n",
       " '@rosie2711 Oh BTW, Harry McGuire as good as Van Dyke...',\n",
       " 'Skank e paralamas so bandas boas demais, com uma sonoridade muito rica. uma pena que sejam to estereotipadas e pouco valorizadas pela galerinha.',\n",
       " 'My kitten really just turned off my computer after playing sims for 2 hrs, i didnt save anything you fucking whore',\n",
       " 'Cant never be serious w this bitch Dej',\n",
       " 'NO DO KOT PUT HER ON MY TL!!! Everytime fcking time she comes back onto the tl i d word from dyke overload. plsss spare this lesbian pls https//t.co/oByYyh3UJG',\n",
       " '@inagetawaycar YASSS BITCH HAPPY BDAY https//t.co/YyCPskZJFW',\n",
       " '@Malkavian_Whore Jajajaja. Te van a criticar por todo, tu sigue subiendo te a la azotea a fumar ilegal.',\n",
       " 'I just sat and watched like 5 make up tutorial videos and I dont even wear make up like that lmao. But this bitch looked so pretty I couldnt stop',\n",
       " ...]"
      ]
     },
     "execution_count": 132,
     "metadata": {},
     "output_type": "execute_result"
    }
   ],
   "source": [
    "df_test[df_test['prediction']>.5].sort_values('prediction', ascending=False)['text'].tolist()"
   ]
  },
  {
   "cell_type": "code",
   "execution_count": 133,
   "metadata": {
    "pycharm": {
     "is_executing": false
    }
   },
   "outputs": [
    {
     "data": {
      "text/plain": [
       "['@SluttierYote I think it fits you perfectly, really brings out your curves!',\n",
       " 'I can tell you from personal experience, that one of the most racist person I ever met was Al Sharpton. Saw him @ 4 meetings in NYC.I was dressed professionally in a nice in a suit and high heels. I was Pres. of The NYC School Board. He looked me up and down w a dirty look! https//t.co/1nD7dZcgwN',\n",
       " '@AllisonMorris1 Remember Nuremberg',\n",
       " 'Fedde le grandSKANK',\n",
       " '@mmpadellan @AOC Can you define Projection? If not refer back to your tweet',\n",
       " '@UnburntWitch Well today I learned and also explains why this one had me a lot more worried.',\n",
       " 'Day 2 French lecturer says a dirty home is a home where the wife talks above the man. People really think this marriage of a thing a bondage between a master and a slave. The crime here is voicing your opinion as a woman.',\n",
       " '@porntagonist I have the cover saved to my phone for whenever I need to snap you out of a dirty pair trance',\n",
       " \"A deal's a deal even with a dirty dealer\",\n",
       " '@blazedbruh @GAYSHAWNMENDES They just locked a bitch uo for product tampering you next',\n",
       " 'Sounds like a dirty joke to me..... https//t.co/6x03QYJ2nl',\n",
       " '@tetsumonchi Youre not seeing it more. You just note it because youre a dirty racist.',\n",
       " \"@UnburntWitch Here in the fucked Twitter verse people are loud. In the real world most people don't care who's genitals you jostle. I'm a righty and what you do is none of my business.\",\n",
       " '@EricJafMN @HouseDemocrats @AOC #brainwashed sob',\n",
       " 'Damn A Florida woman was fined $100,000 for a dirty pool and overgrown grass. When do fines become excessive? - USA TODAY https//t.co/4EtHAj0fm1',\n",
       " '@sc_whore_pio ???!!!!!',\n",
       " 'A three-faced RPG character inspired by a dirty spacecraft.',\n",
       " '@sweettlkrjihyo @yves_whore @huIadance lmao tree can see this',\n",
       " \"@crashtesterX @IDWPublishing @UnburntWitch I love Cousin It's design.\",\n",
       " 'Praying to god doesnt work I have been praying to be killed for years now and Im still here so it is not real',\n",
       " 'got unintentionally called out for having a dirty lab by a coworker who, while kind, is known for being heinously messy and deep cleaned the room out of shame',\n",
       " \"@d_redtfpD @malfunctionent @agog146 @AOC Dude, I don't care about Amazon. I really don't. I didn't bring it up. This portion of the conversation means jack shit to me.\",\n",
       " '@jensicilian @danobrien1972 @AOC Whatever you say champ',\n",
       " '@EazyBEazy3 @AOC No reparations',\n",
       " '@foxnewsradio @ScherieMurray @AOC Why did you tweet praise for AOC so hard when she was elected!?',\n",
       " '@KamalaHarris @AOC Well isnt that a hoot that Ms Career Prosecutor is concerned about the people she threw in jail/prison. @AOC dont fall for her pandering. She only cares about her career. CA Truancy Program. https//t.co/WNSWt2jQzM',\n",
       " '@SkyNews @KayBurley @NicolaSturgeon @BorisJohnson Are her interviews on continuous loop recording ?',\n",
       " '@AOC I actually think Cuba fits you best, or Iran.',\n",
       " 'And I only have one friend on here and I really need him but hes gone and done this dangerous thing and hes not answering and Im so worried about him which is not helping',\n",
       " 'Sore as a La Whor',\n",
       " '@shookycookiez im one of them uWu (who is the other?) &amp; thank you hahaha whoRe',\n",
       " '@AOC @NydiaVelazquez I wonder if Pence had any fluent Spanish speakers with him at all.',\n",
       " '@Moshaksa77 We made them like a dirty stinky underwear',\n",
       " 'ngl i am a dirty little sloot for thrift store trinkets',\n",
       " \"@DillianWhyte @MarkTibbsBoxing But you're a dirty little drug cheat!\",\n",
       " '@NicolaSturgeon @Wimbledon What ?????? Youre obviously not watching Evans and Sousa then',\n",
       " 'get you some money https//t.co/LmycNlwxvJ',\n",
       " 'Drink Tea to insult the Brits. Brilliant How can we insult the Dutch? . Put a finger in the Dyke https//t.co/LatkkEPaWG',\n",
       " '@Elsie_geselsie @goodenough_fu @NitaE143 @BrutuslWallie @goodenough03 @LockettsPeter @desires_unknown @PXZVXmc4xkvo6nz @PerlaVika @BeyondBorderlin @elisomed5 This dyke is soooooo turned on',\n",
       " '@Iesbianwrath true',\n",
       " 'layout https//t.co/MnVd1XHuRw',\n",
       " '@AOC Hoax !',\n",
       " 'minha famlia td p mim',\n",
       " 'Unfortunately, during that time of my life, a lot of people judged me that way. They had me pegged as a whore. They thought I slept with every single guy I knew. And they were ALL wrong.',\n",
       " '@AOC WOW!!!',\n",
       " '@AOC Three stooges also demand $20 an hour minimum wage',\n",
       " 'A Florida woman was fined $100,000 for a dirty pool and overgrown grass. When do fines become excessive? - USA TODAY https//t.co/HslDZuK0nh https//t.co/U9k0rTizlf',\n",
       " 'Supreme Court lawyer killed in Noida, second lawyer to be killed in Uttar Pradesh in one month https//t.co/MUfwOGTGCF',\n",
       " '@saljay13 @LoriRMixson @DontDregMeBro @BetteMidler @realDonaldTrump I want to throw up I think about how AntiChrist Trump wants to have sex with his daughter Ivanka. I think about Trump falling in love with demons like Kim Jung Un. The Whore of Babel is Melania. Read Revelations. Antichrist Trump is ushering the end times.',\n",
       " ', . . , , . , . P.S. .',\n",
       " '@AOC Obama fixed global warming/climate change. Remember?',\n",
       " '@FiguerasMurray @FernandoLeanme @GuiPopK @ProfetaArgen @AOC Eso son ustedes',\n",
       " \"I asked the driver if I can sit in the front and pay for two, unfortunately, I can't sit because the seat were reserved. So, no choice I'll seat to the back. Then this bitch Bitch Nakapila kami. Wag ka makipagsiksikan! Me [IRRITATED BECAUSE OF THE TONE] ATE MAS NAUNA AKO SAYO\",\n",
       " 'this is 100% true https//t.co/eGpNlPVujp',\n",
       " '@iluvtzu Nothing baby keep wilding',\n",
       " \"TUESDAY'S GRAY AND WEDNESDAY TOOTHURSDAY I DONT THINK I CAN RESIST Playing the classic sega genesis game the tv show butt ugly aliens.\",\n",
       " \"@madiithedoll Yeahhhhh the bare butt on a dirty floor in a room full of strangers is kind of excessive, I think. And I'm the President of the Where You Bring the Circus is Where I'm Gone Clown Association.\",\n",
       " '@Skank @DiegoRuahn Tanto',\n",
       " '@AOC Thanks for bringing this reality check and all the other onesappreciate you guys more than I can type here',\n",
       " '@ddwiese @TrumpLadyFran @AOC She owes you millions...',\n",
       " '@Eleanor34453848 @AOC Lay off the whiskey, grandma.',\n",
       " '@HairyAngus @NicolaSturgeon @ChristinaSNP @JackMcKelvie She is, isnt she.....',\n",
       " '@NicolaSturgeon @scotgov My partner spotted you from the Riverside and I guessed this was the shite news you would be having to comment on.',\n",
       " '@Squawboots @SarahLJorgensen @AOC @POTUS @ScottFordTVGuy Lady, stfu',\n",
       " \"THIS BITCH JUST DID THE 11x DRAW USING GEMS BUT STILL DIDN'T GET ANY EMPATHY CARDS WHEN I SO BADLY NEED IT. WE-- #BTSWORLD @BTS_twt @BTSW_official\",\n",
       " '@DhemaniD i am fan of dace',\n",
       " '@AOC This is a socialist manifesto!',\n",
       " '@AOC Just another stunt. She has accomplished zero so far in her first and last term.',\n",
       " '@KellyKellyKush Me a dirty h**?Mam, Im sure you have confused me with yourself. https//t.co/zgMx09L4Md',\n",
       " '@Lolviralmedia @YoufeckingIdiot Is this called tic-tac-camel toe',\n",
       " '@Krnaa_ Put Kill or be Killed by spite, you aint gotta thank me...',\n",
       " 'Woman Legally Changes Her Last Name to (I am not making this up) Camel Toe Dear lord, WHY?? https//t.co/S6dRaDhQR5',\n",
       " '@elonmir Its not my fault your mind is a dirty place! D Heck, mine absolutely is, but I didnt make that connection... XD',\n",
       " '@BlazeTV @AOC @SteveDeaceShow But Im sooo tired of them.',\n",
       " 'KAMALA HARRIS IS A DIRTY COP CAKED IN FILTH AND THE SHIT OF HER VICTIMS',\n",
       " \"@Ticketmaster Not only did your customer service guy hang up on me I followed his suggestion and still can't sell my ticket so not only rude was very quick to hang up before he even made sure my issue was taken care of! Not happy at all!\",\n",
       " \"@tinacohendang I have a regular customer who looks and sounds exactly like a 20yr old Chris Colfer, except he's a legit skank!Kurt version in appearance. Purple hair streaks and everything. I love him.\",\n",
       " 'I would do that but Im sure that I would most definitely be killed if I was caught doing that kind of shit. https//t.co/20I6DyGtEw',\n",
       " '@CoolFMNigeria @JuneUbi Whore is purely a word used by a society that is scared of female sexuality &amp; tries to control it.',\n",
       " '@Leemehnah @AOC While its Legal to seek asylum after you enter between ports of entry its ILLEGAL to enter between ports of entry- https//t.co/kQ1cV9hdpq',\n",
       " '@NicolaSturgeon @scotgov Poised and ready to get my arse up to Glasgow in an independent Scotland...',\n",
       " '@AOC Well Bernie is Stalin,so',\n",
       " '@EddaySpaghettay @_waleedshahid @AOC Interesting take.. can you list what she has accomplished?',\n",
       " '@FOX_ROBINSON hanging out with a fat dyke, disco lights on, listening to classic rock at 1 AM, is exactly how I saw his life turning out when I met him. He did not disappoint.',\n",
       " '@malcolm_ranson @Channel4News @NicolaSturgeon Your new PM lmao,laughing stock~ https//t.co/4V8tZdPLa6',\n",
       " '@AOC AOC is just a temporary diversion from reality. She will be put out to pasture when she runs for office again! Let her Twitter writers spin her ridiculous corrupt yarn for her! Few have risen so fast and then will fall so hard. It will be sorta sad. She provided so much comedy!',\n",
       " '11. 12. 13. 14. 15. , , , , 16. 17. 18. 19. 20. 21.',\n",
       " 'I was watching into the spider verse on acid when I was bitten by a dirty house spider...and let me tell you... I was not ready for the responsibility',\n",
       " 'call the police ill have sex with them!!!!',\n",
       " '@mediacuhp Hey',\n",
       " '@AOC @MSNBC impressed.',\n",
       " '@TheHughMcMillan @NicolaSturgeon Good grief. How blinkered.',\n",
       " \"@lisastark351 He's a legend in his own mind; a Dirty Harry wannabe.\",\n",
       " \"@RedState Could we have a list of times @AOC hasn't made an ass of herself. I feel like it would be a much shorter list.\",\n",
       " '@LiquidShit @AOC Did you just assume my gender?',\n",
       " '@NicolaSturgeon Sorry its late happy birthday https//t.co/Z0tbRJIgCU',\n",
       " '@NicolaSturgeon Award for the most disingenuous tweet of the year goes to Nicola',\n",
       " '@dawn40T @ChicTrumpster @AOC The...Jih@d...Squad',\n",
       " 'Hard to even look at this pathetic POS! Hes just a Dirty Old Man! He states he kept his underwear on during this Massage by a child! He expects the American People to buy the Shit that comes out of his old mouth! Youre Times Up, DERSH https//t.co/BVCr04LjJT',\n",
       " '@AOC Muller made your party look like fools. Let it go!',\n",
       " '@AOC @AyannaPressley Ayanna Pressley righteous fire? https//t.co/JIsQrTbnSw',\n",
       " '@AOC Thanks Dr. Dummy...',\n",
       " '@JonDee64170198 @theSNP @IanBlackfordMP @NicolaSturgeon He does look like Coco the clown. Sorry Coco',\n",
       " '@de_generated @NicolaSturgeon @indyref2 Hilarious Bocked',\n",
       " '@AOC Except all of the little sweet aborted babies.',\n",
       " '@NewsPuppet @IlhanMN @AOC @RashidaTlaib #IlhanIncest',\n",
       " \"@AllisonMorris1 @dup_online I've just boiled the kettle instead\",\n",
       " '@UnburntWitch Who would steam a ham?',\n",
       " 'Its 2019 and people still have company over a dirty ass house',\n",
       " '@NicolaSturgeon Looks very much like our English summer sunsets',\n",
       " '@GhostTrumps @LankLondon @AOC Too many roofies backfired on her.',\n",
       " \"@UnburntWitch we don't deserve it but she certainly does\",\n",
       " '@Neil_MacKay5 @Sharonwifey @NicolaSturgeon @theSNP https//t.co/zgh8ED8h6W',\n",
       " '@IlhanMN @RashidaTlaib @AOC @AyannaPressley https//t.co/e1VFiE50Ob',\n",
       " '@angeleyes_1980 @BonedBond @Pink @NicolaSturgeon https//t.co/txRdNlIjYh',\n",
       " '@dcexaminer @SenJohnKennedy @AOC @AOC https//t.co/UnD2xfRnsY',\n",
       " '@JamesLinkin @KaraCalavera @classicpoodle @AOC https//t.co/WyN3QZq6IF',\n",
       " '@Dorasan62500822 @wbuchek @bennyjohnson @AOC https//t.co/L0iARG2p10',\n",
       " '@SenSchumer @IlhanMN @AOC @RepAdamSchiff https//t.co/CtFp27LQ9v',\n",
       " '@RepMaxineWaters @RepMaxineWaters @AOC @DNC https//t.co/Rpvnd1BF0c',\n",
       " '@BowsandBrew @Ilhan @AOC @RashidaTlaib https//t.co/NRbcl0eRsk',\n",
       " '@KumarRaoNYC @TheBernReport @AOC @AyannaPressley https//t.co/btS12Eucgu',\n",
       " '@DonsSISELKAfEE @DLoesch @AOC Crick, crick, crick!',\n",
       " 'Quoaxxi rapper have penis removed he is a dirty human being who takes advantage of homeless women',\n",
       " 'CP got wild dimes. Set niggas up so crazy to be killed https//t.co/0GdQqc54fT',\n",
       " \"@murray_scoter @Proud2BScotBrit @NicolaSturgeon Faker than a louis Voitton bag bought at the barra's.\",\n",
       " '@Anji_Catlin @STWCarsington Great capture',\n",
       " '@TheLaunchMag Its a dirty game',\n",
       " '@nick_ramsey @WhiteHouse @SebGorka @BrianKarem @katierogers Whos the attention seeking skank disrespecting the flag???',\n",
       " '@AOC Show him the door',\n",
       " '@delmoi @AOC I know lots of people who eat off their own garden though?',\n",
       " '@NicolaSturgeon @RuthDavidsonMSP Hi guys, I know youre super busy, but would love if you could retweet this. Benefiting a school in the Highlands this week! https//t.co/TFyT3EpmIY',\n",
       " \"@gryphoenix1 @Tragedienne404 @maximus_no @UnburntWitch Ah my mistake, can you link me to the store where I can buy the kick started game please? I can't find it\",\n",
       " '@michaeljknowles @realDonaldTrump @AOC who is this clown',\n",
       " 'Mother Nature is a fickle bitch and may decide to scatter her showers on us at some point today.',\n",
       " '@Afrogoddess2 @klarissamirand1 @_ohecravestai They are weird af boy i like my men/ women with meat on em im only going for that type why do all that to build a bitch they be wanting awards cause thats their only accomplishment',\n",
       " '@PaladinCivilis She his horrified by the idea of him hanging from the gallows like that. She knows he cant be killed like mere men but the thought still sickens her. Cassandra quickly climbs up. Crawling into his lap. Her hand cupping his face. The sadness in her eyes is deep as if -',\n",
       " '@blissardz Cant tell if its the rednexican or the dyke in me that makes me thirst over big trucks https//t.co/LqnL0ddK0I',\n",
       " \"@PRstallion78 @michaelgiff31 @LaVenganza18 Not for calling her a whore sadly, but if she threatened her (unless hollywood). Sadly name calling isn't a secret service offence. Else Hella folks would be in jail... all the crap they call trump smdh\",\n",
       " \"@ColinMorris99 @Morg3n_ @AOC Dumbest thing I've read on Twitter. And this includes Alyssa Milano.\",\n",
       " '@Shaughn_A @RodStryker @AOC Loosening the grip of corporate LOBBYISTSvery LAUGHABLE',\n",
       " \"@7Noxvi You can keep saying whatever bullshit you want but you know very well that Max doesn't deserve this win. It was a dirty move and he should've been punished. But you enjoy this fake win, I know it doesn't feel good to win like this. So keep it.\",\n",
       " '@rellbot when baby',\n",
       " 'Tony where tf are you going Peter, lugging around 3 suitcases to get the aliens bitch',\n",
       " '@blorenzo @briellecoronet @AOC @shaunking Who built those cages?',\n",
       " '@AOC Yes because only big pharma pays one side of the aisle',\n",
       " \"@Idadavila6 @thebradfordfile @AOC We don't care. America\",\n",
       " '@UnburntWitch Dang it! I hit no by accent! Was aiming for yes!',\n",
       " '@CathyMcRorie @PaulJColvin @NicolaSturgeon they are bec they are unionists!!',\n",
       " '@delamadridrob @Jjlopez_almejo @Ilhan @IlhanMN @AOC @ExoSapiens @arayamas @rubengluengas @_VicenteSerrano Por qu arrobas a Aoc?',\n",
       " '@VRKurosawa @AngelGotti5 @AOC Yes its legal when u seek asylum LEGALLY',\n",
       " 'Joes room smells like a dirty little boy but i seriously get so much comfort from it',\n",
       " 'Netflix to launch all girl superhero animation series from Africa https//t.co/IfZvo2dcXn',\n",
       " '@TheNobleSwift @angelperrys @whore_of_thor @patronswift @queenofsun_ @arepswift no one is shading her lmao',\n",
       " '@AOC But learn the laws looks like a Luis Gutierrez cartoon',\n",
       " '@NicolaSturgeon Totally unacceptable',\n",
       " 'WHY TEDDY IN THE NEW YORK TIMES , YOU SON OF A BITCH, WHY, TELL ME WHY???',\n",
       " '@meerkatmierie @CorRaven You are correct thank u for this video of joy',\n",
       " 'Hoy siento que me veo cool https//t.co/GD4MlC3dl8',\n",
       " 'What a fab weekend at @TheakstonsCrime! Great to see so many friends and meet new ones. Also, found out I share a birthday with @NicolaSturgeon! Wished her a happy birthday just wish Id had a copy of my book to give her as a present! #BrothersInBlood https//t.co/hIArKrcoyU',\n",
       " \"@nickmullen I don't think any of those girls have been retired from the Whore League for 5 years. They shouldn't be eligible for the Whore Hall of Fame\",\n",
       " '@MsAvaArmstrong Youre not alone. Its ok. Theyll take their $10k paychecks and go away for another 4 years, and maybe this dumb dyke will be too old to play next time!',\n",
       " '@AllisonMorris1 Por. Tee. Down.',\n",
       " \"@AOC If everything becomes free the shit won't matter.\",\n",
       " 'I think we get a dirty finish for AJ vs Ricochet 2 which then leads to another title match at Extreme Rules. #RAW',\n",
       " \"@SouthernCharmRoamin Holiday...im watching old episodes and #Shep Rose, Naomi Olindo, Whitney, and Anyone else needs to get off #Craig Conover back!! Especially that skank #Landon!! Not ONE of y'all WORK yet you pass judgement on Craig!! Mailbox money is ass sitting\",\n",
       " '@GKeile @AOC Your exactly correct',\n",
       " \"@AOC So when a guy gets hit by a woman and he defends him self where is gender equality at. The problem is women pick and choose what part of the equality they want. When the ship is sinking all of a sudden its oh I'm a girl I should go first.\",\n",
       " '@AOC Paterson Great Falls National Park',\n",
       " '@mdx3232 @kaylow77 @AOC Well, she has cute hair, and stuff.',\n",
       " '@AllisonMorris1 Youre late allison, the first spark has been lit',\n",
       " '@AOC Probably best to avoid pedophiles when trying to get this point across',\n",
       " '@AOC How do you make these insane claims with zero scientific evidence?',\n",
       " '@AOC Yes thank you my inspiring congreesswoman',\n",
       " '@joniernst @AOC Nope. Just another GOP lie.',\n",
       " '@NicolaSturgeon Well said',\n",
       " '@brianwolven *turns back the thermostat while giving Brian a dirty look*',\n",
       " \"@AOC I prefer 'Alexandria Occasional Cortex' myself. I think it fits her intellectual capacity much better.\",\n",
       " \"@ewarren I know you like girls who fight back. Didn't this obsession with my life begin as a faux lesbian phantasy? Faux b/c you're a dyke (man with a vagina) fleshing out your fantasy for all to see Dr. Singerman https//t.co/Tu97yqRCDR Got more cars than a beach got sand... https//t.co/herDv5oLH2\",\n",
       " 'like a dirty kebab after a night out x https//t.co/I1QqgCPeoW',\n",
       " '@emorwee @AOC Yeah, but its all bullshit',\n",
       " '@NicolaSturgeon @LloydAMelville @ChristinaSNP_ Free parking in ninewells Nicola?',\n",
       " 'WTF? I thought only Beto and @aoc were fluent in word salad. https//t.co/SSCEYlv1vB',\n",
       " \"@RednorthUK @tierneykevin1 @NicolaSturgeon That's perfect\",\n",
       " '@AOC Wait wait your party has spend every day trying to unseat him. The posts just get more pathetic everyday',\n",
       " \"@RobertFriel1 @NicolaSturgeon I still have unionist respect. I'm a liberal Unionist with a social democratic outlook. I feel let down and hurt by Tory lies and sorry for decent folk down south. I dont think I'll ever be a shouty evangelic nationalist, but I feel I cant argue pro union dogma with Boris as PM.\",\n",
       " '@AOC Down with AOC',\n",
       " '@AOC @Dsparky120 four....four...not three',\n",
       " '@AOC U have done nothing but flap ur gums as if u know what ur talking about. U &amp; ur Squad took all your power and with all 4 of the Squad s votes; voted against the last boarder bill. With all 4 of ur votes, did u stop the bill? No.',\n",
       " 'WAIT WHAT WAIT WHAT WAIT WHAT #the100',\n",
       " 'ok the beginning is wow',\n",
       " \"@shell_head88 @NicolaSturgeon I'm merely asking you if you believe in the equality you preach. Do you?\",\n",
       " \"@AOC I'm behind your vision.\",\n",
       " '@TrumpGirlOnFire @ScherieMurray @AOC Vet her well, Democrat plant?',\n",
       " '@ShortysDesigns I was working a few weeks ago, (I work in grocery on front end) Lady comes in with an 800$ order (she was extremely snobby) I bagged up the whole order, I misbag one thing and she loses her shit and makes me unbag most of it Giving me and the cashier a dirty look the whole time.',\n",
       " \"@byrne2008 @HeerJeet Mary Tyler Moore's Laura Petrie wore capri pants on the Dick Van Dyke Show in the early 60's. So that's before Maude. But I don't know if she wore them outside the home. It was a controversial choice but MTM insisted that women did not wear dresses and pearls to clean house\",\n",
       " '@jpc_uk @NicolaSturgeon Feart of Boris Aye of his stability!',\n",
       " '@NicolaSturgeon Surprised you can see it with your eyes so close together',\n",
       " '@LeighMac89 Cracking bit of camel toe on view today too xx',\n",
       " \"@Hakyeons_bitch Yes and please don't mind our fancy brain\",\n",
       " \"@AOC It's called weather! End of your nonsense\",\n",
       " '@TheBi_in_Bitch Thank you!! Its from store near my house',\n",
       " '@KellyInMadison1 @JessicaValenti This is very, very troubling.',\n",
       " '@BlazeTV @AOC Does her mouth ever stop running? https//t.co/D3ARNA9Qhk',\n",
       " 'we all have that one friend who always thinks of EVERYTHING in a dirty way...',\n",
       " '@kristabridetobe @thejoshstrig @DaleL_McDowell @AOC @LindseyGrahamSC @senatemajldr New York Governor Andrew Cuomo previously said the deal would bring in approximately $27 billion in revenue in exchange for the roughly $3 billion incentive package. https//t.co/nk3lZTvj77',\n",
       " \"@Liz_Wheeler @AOC No worries Liz. We'll make sure you get all her bs and then we'll Retweet it back at her until she's blocked 1/2 the country.\",\n",
       " '@NicolaSturgeon Principles went out the window a long time ago!!!',\n",
       " '@MrRichoRBLX @crownedshaggy @SamuelNiekson Richo, you got a dirty pussy. There is no way that someone touched you.',\n",
       " 'depressy seshie time',\n",
       " \"@joshuag06160358 @5kl @BobbyMarks42 People still trying to bitch out on this technicality like Blake didn't with ROY in a redshirt too...over a year later\",\n",
       " '@AllisonMorris1 @JeremyDixonDJ *boke*........',\n",
       " '@TheGoose030 Youre wrong again. Alsonyoure the one hiding yourself behind a fake pic. Not wanting humans in cages has nothing to do with being bitch',\n",
       " \"@AOC It's about f--king time.\",\n",
       " '@AOC Parks are lovely, but dont forget about Cape Cod National Seashores kettle ponds, beaches, and pine barrens from Ptown to Chatham! #CapeCod',\n",
       " '@lost_forevers @ClintonsTweet @EverydaySexism Oh FFS',\n",
       " '@AOC Pelosi done nothing! She should step down and have someone actually do something about this. I like Cortez I hope she can change things but the problem is when people get to big they start to become bad and that is the problem with this country',\n",
       " '@NicolaSturgeon Happy birthday Nicola. X',\n",
       " 'I mean, do I just have a dirty mind? #BorisJohnson https//t.co/dJsLLpjpjk',\n",
       " '@save_nj @AOC @SpeakerPelosi @Yahoo Cat fight, cat fight... LOL',\n",
       " \"@Complex Federico Fellini in the flesh ...Sergio Tacchini inside his mesh bitch i been brackin since the '80s....\",\n",
       " '@AllisonLeeSolin @AOC Dont underestimate her. Shes a freshman congresswoman who now drives the Democratic Partys entire agenda.',\n",
       " '@realDonaldTrump U Bum @AOC and @RepRashida was born in the Bronx and Michigan respectively. Your campaign is built on foul language and racist hatred. You arent fooling anyone.',\n",
       " '@TrickstarDuel Who knew the Blue Maiden had a dirty side.',\n",
       " 'You are my song. You are my song of love. https//t.co/Mqc0vmcDQf #Lesbians #Queer #DYKE #Femmes #Kiss #Inspiration #Quote #Girlswholovegirls https//t.co/UhVV5eZMFM',\n",
       " '@LindseyGrahamSC You are a dirty Senator working for Israel AIPAC',\n",
       " 'This thread makes me a crackhead according to @UnburntWitch supporters https//t.co/58tJGPQNwk',\n",
       " 'What is a dirty mind actually means?',\n",
       " 'A man walking topless through our village threw me a dirty look as my skirt blew up in the wind exposing my bodysuit and tights. If nudity is such an issue...',\n",
       " \"Anytime this man goes to a bar the bartender should be like Sorry I'm just a dirty low life bar tender. Maybe Ivanka, can make you a drink from her nice clean white collar crime hands https//t.co/goqzur1M9N\",\n",
       " '@AOC Wear tons of deer urine.',\n",
       " '@AOC So you are helping 2.7 million people. What about the other 370 million people?',\n",
       " 'Now watching the legendary @valmcdermid being interviewed by @NicolaSturgeon #TheakstonsCrime',\n",
       " 'New York is a dirty and smelly dream, still a dream tho',\n",
       " '@AOC If you check your facts, Puerto Rico government is full of Democrats like you!',\n",
       " '@MaryCaitlinByrd I would vote for a dirty diaper. Please, anything.',\n",
       " '@MsDianaFrances @GinSecurities @USRoute41 @AOC @TheDemocrats It was a tongue n cheek response. I always thought Jarrett is playing for the other team.',\n",
       " \"@IGGYAZALEA Damn iggy you went so hard on this album!!! I respect and love you so much for continuing to strive on in the face of adversity while still serving looks. You really are *that* bitch ugh we don't desrve you\",\n",
       " '@MarinaMarraco @fox5dc hey @AOC and @SpeakerPelosi heres a guy you supported and loved so much right @realDonaldTrump ?',\n",
       " \"@AOC Well... You folks on the left have a REALLY BIG problem tonight. The first domino fell. And he's gonna want to cut a deal (tick tick tick tick tick tick tick). https//t.co/EomNgPAaSM\",\n",
       " 'Exactly!! @AOC is a narcissist who craves the spotlight. https//t.co/96Bn06Ftqi',\n",
       " '@AgentP22 @NicolaSturgeon All inclusive except England it seems .',\n",
       " '@charliekirk11 @AOC How could a mother use a child. She should not have children if she is such a piss poor excuse for a mother!!',\n",
       " \"@benleo444 except she's only allowed another 5 tournaments until she's 16.\",\n",
       " \"@s8n That's a dirty trick Santa!\",\n",
       " '@SpiderKenX @JessicaValenti @davidharsanyi This! The fact she doesnt see the irony in her jew hatred during all of this is insane',\n",
       " \"@jelani9 @JessicaValenti I let an ex take me out for my birthday. We go back to his new place but I only see the living room &amp; kitchen. His cousin (I've known for yrs) pops out of the back. Ex lived w him yrs ago. Later a woman pops out. Turns out it's their place. Ex is couch surfing &amp; still a scrub.\",\n",
       " '@JCGilly1 @smalltownandrew @AOC She can barely do an interview. It makes me hopeful that when she falls she will not easily get back up.',\n",
       " 'yall can i beat my sister.., tHIS BITCH OUT HERE SAYING LION GUARD IS BETTER THAN THE ORIGINAL LION KING wITHOUT HAVING TO EVeN WaTch IT,,, yOU liSteN HeRE YOU LIL RAT yOu dOnt DisRespEsT LiOn KinG LIKE THAT',\n",
       " '@Ichiro_Ordo957 @literaturedevil @13_moths @UnburntWitch So basically the alt right blamer blocked you',\n",
       " '@montaga @AOC Tucker needs to go on @TuckerCarlson !',\n",
       " '@KulganofCrydee @Rob_Kimbell Labour Party - where aspiration is a dirty word!',\n",
       " 'Mueller is a dirty cop. Always has been. https//t.co/rKsJ5wzqrq',\n",
       " \"I still smile, but feel so fake It's no sun, the clouds are opaque So much shade I read on one page I cant even look at your name without getting the shakes What a mistake Look how you take -Hollywood Whore #HotelDiablo\",\n",
       " '@AllisonMorris1 Spent two years in London and moved up here to north of England years ago same thing happening in this city . Some poor Irish lad died on street yesterday ..very sad',\n",
       " '@AOC Arrogant.',\n",
       " '@KatrinaGilles20 @MBS1872 @fran_and5 @NicolaSturgeon You do realise almost every junction on duke street at traffic lights is covered by cctv',\n",
       " \"@Visable1 @SarahKSilverman Not tryin to make a dirty joke, btw. even tho they're ripe for the picking. Heh heh Only asking because up until recently I'd never eaten one, and since then I've been scratching my head and wondering why anyone would plant any other kind.\",\n",
       " '@benshearts @casprtheghst @seanberdyz screw you',\n",
       " '@kylegriffin1 @AOC Your so lost its sad',\n",
       " 'nothing better in life than seeing your soon to be husband &amp; his dad play catch with a dirty diaper.',\n",
       " '@kayleighmcenany @jlew52x @AOC @IlhanMN @TeamTrump Hi Jihad Squad https//t.co/opAOgxG6LR',\n",
       " 'Light temo squats in a dirty work shirt https//t.co/tAbf1CkMmj',\n",
       " 'Sleeping because I was a dirty stop-out last night #floofage #kthxbai https//t.co/Fk0iJAgcjH',\n",
       " '@UnburntWitch Check out delta green, its fun and scary )',\n",
       " '@eidhenberg La science te remercie',\n",
       " '@JStephenBradley @chaditoburrito @wjameswright @drspinetruth @HowardA_Esq @AOC @MonsterMarcia A foul ball?',\n",
       " '@FlyNavydawg @RealCandaceO @AOC Meanwhile https//t.co/N5uMLLi4DZ',\n",
       " \"You have such a dirty mind, Jiminie, Yoongi teased and Jimin had to throw the pillow on his boyfriend's direction. He was being teased by Yoongi since they had a topic about bananas and his boyfriend was making sure to tease him every minute. Hyung, love, shut up.\",\n",
       " '@GrahamAllen_1 @SuzyQ_III @AOC Not very intelligent',\n",
       " '@JessicaValenti Sorry to tell you this, but by my experience, they move with you. -(',\n",
       " '@Robbin_Young @AOC The only extra this bunch needs is mental healtcare.',\n",
       " \"also it took me like five minutes and helps me feel like i've done something productive today\",\n",
       " '@JessicaValenti I do too. And by love I mean https//t.co/aXBqjsGlab',\n",
       " '@AOC Ana &amp; Kevin from MN, part of #TheSquad #ProgressiveSquad',\n",
       " 'Mope, Dope and Hope @aoc,@IlhanMN,@RashidaTlaib ,@MarkDice ,@realDonaldTrump ,@charliekirk11 ,@RealDeanCain https//t.co/iCkz7n7qjM',\n",
       " '@celliottjones @AP @AOC At least use an emoji!',\n",
       " '@AOC Is the bartender trying to use her brain again?',\n",
       " '@RealDrGina @AOC @IlhanMN He knows how to play them!',\n",
       " '@PatVPeters Democratic control high taxes and a dirty government',\n",
       " '@364690 @NicolaSturgeon Trainspotters.',\n",
       " '@claycane @keithboykin @AOC Grifters! The whole lot of them!',\n",
       " '@blondiesa @NicolaSturgeon @theSNP All the very best pal.',\n",
       " '@grumpybill147 @NicolaSturgeon Well said Bill desperate acts from a desperate woman , tick tock, tick tock .',\n",
       " '@TheOfficerTatum @AOC Says you.',\n",
       " '@bitch_imbb Boa',\n",
       " '@James_whore_ @joshler_boy .....',\n",
       " '@__DJWilson @QTAnon1 @AOC @AyannaPressley It burns when she pees?',\n",
       " \"@AOC I'd be pretty cheesed....at my mom for falsifying records and creating all the chaos. Then I'd begin looking for a new mom since the one I have can't be trusted with my welfare.\",\n",
       " \"@UnburntWitch Not to mention that writers are artists nonetheless, it's just less/differently visual\",\n",
       " '@LMS4477 @MattWalshBlog @AOC She will be your president some day',\n",
       " 'am i supposed to feel bad for this bitch?? because i dont. every single person thats been licking ice cream, spitting mouth wash back into the containers, etc. needs to be put in jail https//t.co/GkvYljmqhP',\n",
       " '@SkyNews @NicolaSturgeon @BorisJohnson She should ask the Scottish fishermen whether the agree with her',\n",
       " '@ZyroFoxtrot @AOC What the hell is a fecal ticket',\n",
       " '@travisalabanza Oh my good goodness you are beautiful every shoot is stun but this hair! Suits you so much',\n",
       " '@ThatGirl71187 @steelbone27 @MotherJones @AOC Learn a bit of grammar LoL',\n",
       " '@MementoMortis_ @dazaiswhore considering the fact that the word is only used against bi women when the person using it thinks theyre a lesbian, yes? if a homophobe calls a straight woman dyke is she allowed to reclaim it too? are men who are mistaken for gay allowed to reclaim the f slur?',\n",
       " '@AOC 2020 - send @aoc right back to being a barista',\n",
       " \"@bennyjohnson @AOC Correction, it's not hard to watch. It's glorious\",\n",
       " 'If you are at work, serving and youre wearing short ass shorts that are up your vagina, giving you a camel toe and your ass is hanging out, I have no respect for you. Wear some appropriate attire. No one wants to look at that while theyre eating.',\n",
       " \"@AOC Please provide me with examples of him being racist to anyone? And it got to be better then send her back because that ain't racist that applies to anyone that hates our country. Please give me a Paula Deen quote and I would accept he is a racist...\",\n",
       " 'Look what DA did to our pole banner in ward 54? They pushed it up and put their DA posters. Politics is a dirty game and if you are weak you will never win any elections.The DA z playing dirty just likANC#OksalayoWeVoteEFF https//t.co/XeMMVNq7UM',\n",
       " '@J_Sammour Daks Td 85 Wentz Td 72 Which number is greater? Do you need help with this question? Im here for your help.',\n",
       " '@caughtbydeercam @A_Dirty_Blonde Good luck doll!!',\n",
       " 'Seperti gerhana bulan saat ini. kau yang jelas-jelas terlihat namun tertutup dengan orang lain',\n",
       " '@MarisaInCali @ExDemLatina @Ilhan @AOC @RashidaTlaib @AyannaPressley They wont ever denounce anything about themselves so I think we just need to take things into our own hands and start investigating her with all her crooked shit with her obtaining her citizenship. Not to mention all her racist remarks towards white people. #Trump2020',\n",
       " '@tainted_whore on the tl? i will',\n",
       " \"@PK_PDX @UnburntWitch Feel free to despise him but keep your body parts off of him. Don't touch, him don't hit, don't kick, him don't lick him, don't poke him. Don't touch him. You have the right to hate him but you don't have the right to touch him.\",\n",
       " '@BlogAlba @NicolaSturgeon Utterly disgraceful!',\n",
       " '@AOC If thats the case then she is in denial like all his followers',\n",
       " '@Da1nOnlyCMart Dumb. Brought to you by the people who made Liberal a dirty word.',\n",
       " 'Aigoo... He wants attention. Like the media, KSK, HSH and Reporter Kang, this man is an attention whore. https//t.co/v8cyYoWMyC',\n",
       " '@NicolaSturgeon None of your business...',\n",
       " '@pastorlocke YOU are what what makes pastors a dirty word.',\n",
       " '@AOC You are a total joke making a mockery of congress.',\n",
       " '@JessicaValenti What is wrong with America?',\n",
       " '@AOC ANY QUESTIONS? https//t.co/jnRBonPFbF',\n",
       " '@MagularImpalor @JessicaValenti DM then.',\n",
       " \"@Timcanizales @AOC Latino's? She makes all Americans and all Humans look bad.\",\n",
       " '@RobChristie11 SOUNDS JUST LIKE @SpeakerPelosi &amp; @AOC',\n",
       " '@sinirlendikyine camel toe nn allah amk',\n",
       " '@wheelingwhaup @WingsScotland @theSNP @NicolaSturgeon Go forth &amp; multiply.',\n",
       " '@MollyJongFast @AOC *Molly - so are the Kardashians and Donald Trump...',\n",
       " '@UnburntWitch Maybe this can help you feel safer https//t.co/0oD0wwgmVv',\n",
       " 'hes already having Mexican, black&amp;white mixed babies- https//t.co/rMYCVPzpIl',\n",
       " '@FernandoSielaff @AOC @realDonaldTrump @GOP @tedcruz What are you are talking about?????',\n",
       " '@JessicaValenti Me too. Thanks for sharing.',\n",
       " '@gotta_hope @DrYardSale @brianstelter @AOC And projection',\n",
       " '@AOC Present',\n",
       " '@KyleLovesBernie @SenSanders @AOC @repblumenauer She will definitely endorse @ewarren',\n",
       " '@Maureen6Johnson Condemn or condone, @NicolaSturgeon @theSNP @PeterMurrell @scotgov @ScotGovFM @ScotGovEdu',\n",
       " \"WTAF??? 1??? @IanBlackfordMP @NicolaSturgeon , it's time!! https//t.co/E4PWtArRZu\",\n",
       " '@AOC Phony https//t.co/nCJ66UJYCg',\n",
       " '@steph93065 @AOC Um even twitter limits your speech so when you agree with hate speech your okay...okay..',\n",
       " '@GillDurham @NicolaSturgeon @HarrogateFest The English',\n",
       " \"@InluvwitAmerica @vicman780 @Barlutti @AOC another uninformed democrat I have to talk in circles because you guy keep going in circles don't you guys ever get dizzy?\",\n",
       " '@piersmorgan @AOC @SpeakerPelosi Mr Morgan using his word of the month still? WOKE',\n",
       " \"@AOC Don't give power to people that don't believe in science.\",\n",
       " 'Iain Stirling is a dirty Celtic fan',\n",
       " '@BlazeTV @AOC You think she keeps an onion in her hand to summon those crocodile tears',\n",
       " '@guilt_manager @GrahamP58 @NicolaSturgeon I lived there for about 11 years. Back home now where I belong',\n",
       " '@AlanPattersonMD @AOC @DNC @POTUS I would not trust a doctor that has such terrible writing and grammar skills.',\n",
       " '@wordofgreen @JessicaValenti Excellent, thoughtful thread Rebecca. Thank you for writing it.',\n",
       " '@AOC Shit I thought your job was social media?!? I thought you were working for Bernard Sanders to push socialism? You mean you actually have a different job other than whining?',\n",
       " '@NicolaSturgeon Just go...',\n",
       " '@JessicaValenti @RepStefanik Yea, Elise.',\n",
       " '@azmartin42 @AOC Maybe Pelosi is just smart.',\n",
       " '3 of 5 stars to A Dirty Job by Christopher Moore https//t.co/qUfDfVi40p',\n",
       " \"@AllisonMorris1 @irish_news Is Ben Lowry looking a new journalist at the Newsletter? Sam McBride hasn't quit has he?\",\n",
       " '@theblaze This dyke is really becoming irritating just like kaepernick people are starting to lose interest in sports because of these loudmouths',\n",
       " '@AOC Were you born saying stupid crap or is this an art form you went to school for?',\n",
       " 'Masked bitchscream',\n",
       " 'With roughly 35,000 staff members across the 3 services, that works out at less than 4 per person. @NicolaSturgeon @JeaneF1MSP',\n",
       " '@HWsWhisperer Yeah that works for sure lol. The song is suppose to be Livin On A Prayer. It was pretty funny to me.',\n",
       " '@lizcampbell41 @NicolaSturgeon Back to Westminster',\n",
       " '@SGMkVI Camel toe and all. Sorry about that.',\n",
       " '@fortismind @AOC Does @AOC represent ALL Women?',\n",
       " '@tashakaminsky @JessicaValenti Yeah. Theyre just not sending us their best people anymore.',\n",
       " \"Leo, if they find out, I'll be killed . . . I'm scared. - Amore\",\n",
       " '@jdalgoutteCE @NicolaSturgeon @BBCScotlandNews What are the adjusted requirements?',\n",
       " '@SocialistVoice Whos a dirty little #Tory #nonce then?',\n",
       " '@AOC Trump is a scam artist, a genuine con man who doesnt belong in the WH but in hell with real father Hitler',\n",
       " '@itsericathomas @itsericathomas used her race, her sex and the fact she is pregnant. What a dirty lowdown thing to do just to try and smear white America. She is the racist one and does not need to hold any public job. Step down!',\n",
       " '@Bob55492332 @babybropatto @NicolaSturgeon Bob as if she can help being gangly',\n",
       " '@CloudedPeach @kathy_markovich @realDonaldTrump @AOC @SenatorMuth @IlhanMN @RashidaTlaib I dont care about your sad feeling, pull up your big boy pants and suck it up. We all have issues, we all have sad days. Being an adult is when you suck it up and persevere regardless.',\n",
       " '@steph93065 @realDonaldTrump @WhiteHouse Trump has all of these H1B card holders working in his FL whore house. His last request to Acosta was for a new batch of H1B workers . HYPOCRITE',\n",
       " \"@The_Flufter @dj_forrester @Bibbeth6 @NicolaSturgeon I'm pretty sure that she does, son. https//t.co/4XhbVQzQTG\",\n",
       " '@AllisonMorris1 @gnelis @AerLingus And on the cover of a magazine trying to sell food!',\n",
       " '@SirCoachWhite a Dirty Sanchez taco from @torchystacos EGGS, FRIED POBLANO CHILE, GUACAMOLE, ESCABECHE CARROTS &amp; CHEESE WITH POBLANO SAUCE ON A FLOUR TORTILLA WITH SPICY DIABLO SAUCE https//t.co/ntXaAVbVP3',\n",
       " \"Dear Upcoming Artists Don't entertain any kind of beef no one wants to associate with a dirty brand. Stay clean respect yourself and your fans no matter what. If you don't know what to tweet find someone to keep updating your account.\",\n",
       " \"@SaraCarterDC @AOC @TheDemocrats my roof leaks, any democrat in congress care? i'm just an american citizen who has paid taxes for fifty years, that and i'm white... two strikes against me... oh yeah, i'm a man. now we know i don't deserve a home without leaks.\",\n",
       " \"@realDonaldTrump Coming from Donald Camel Toe Neck Trump, that's rich!\",\n",
       " '@fedupirish @darrengrimes_ @HouseofCommons @UKParliament @HumanRightsCtte @MichelBarnier @JunckerEU @MartinSelmayr @eucopresident @EU_Commission @RoyalFamily @SpanishRoyals @artists4brexit @britishlibrary @StandUp4Brexit @Change_Britain @BrexitCentral @BBCParliament @BBCNews @BBCBusiness @NATO @POTUS @Young_Tories @Conservatives @labourleave @labour @UNHumanRights @spacegovuk @Livefromjodrell @realDonaldTrump @BBCBreakfast @SecretaryRoss @SallyBundockBBC @sanchezcastejon @jeremycorbyn @DUPleader @NicolaSturgeon @fmwales @guyverhofstadt @Telegraph @UoMLibrary @BBC6Music @StateDept @BBCPapers @BorisJohnson @BBCRadio4 @rcpsych @metpoliceuk @joswinson @SpainMFA https//t.co/CXuK7PsfrM',\n",
       " \"@Norrvegicus @johnnywang94 @TylerCrumrin @I_am_not_E @BookieBeach @TheWisemanSaid2 @AOC WHAT wasn't consensual? A hypothetical scenario? SMH\",\n",
       " '@Kelzedar @NicolaSturgeon Oh, real women? What does that mean?',\n",
       " '@Pmacgiollabhain wonder if they know the Suns 93m miles away or a dirty rag newspaper full of empty space like their heids https//t.co/VV2Ayqk28H',\n",
       " \"King's Dyke crossing New builder sought as project costs rise https//t.co/nsHZZ5afLR\",\n",
       " '@HFT3102000 @theweefella1960 @thejohnsimpson @NicolaSturgeon @valmcdermid @MarkBillingham BWAHAHAHAHAHAHA!',\n",
       " '@MichaelQDelane1 @BettyBowers @AOC Maybe it is one of the Pokemon or maybe some anime character.',\n",
       " \"Trump also refuses to release Melania Trump's immigration papers and give and explanation to how she got an Einstein visa for being the world's greatest stripping whore https//t.co/8HbQKHwWlU\",\n",
       " '@FootyAccums Whats he gunna teach the kids? How to be a massive jeb end and how to have the Barnet of a dyke?',\n",
       " '@toddstarnes but can @aoc belt like @taylizlou',\n",
       " '@AOC so you blocked @RealCandaceO; well at least you recognize your shortcomings',\n",
       " \"@WSJ And because of @AOC her NYC constituents won't see any of those jobs.\",\n",
       " \"@JheanelleW @AOC the 'squad' is doing everything it can to tear down America. Socialists hate capitalism. America is a capitalism system. Therefor socialists hate America\",\n",
       " '@Bye_onara bitch but who knows when thats happening + u need to be killed by my cats + i want to give them to you yesterday',\n",
       " '@jay_210 @DPatstacks @iAmNotA_Dyke Pat shut up???',\n",
       " '@SkyNews @NicolaSturgeon @BorisJohnson And everybody else has profound concerns about her',\n",
       " \"#FinalShowdown I nearly fell asleep during Hunt's twisted explanation of 'charisma'.\",\n",
       " \"To my future husband I might not be the best cook but our house is gonna be clean af, we'll never have a dirty dish and we'll always have clean, ironed clothing\",\n",
       " 'Wearing my @AOC campaign tee in solidarity today as I head to union meetings https//t.co/CpykCwHeOv',\n",
       " '@jimmoores @margarethodge @IlhanMN @AOC Just her Morals jim,just her Morals.',\n",
       " '@JessicaValenti Bedsheets in the freezer for 1 hour.',\n",
       " '@AOC Go tend bar, its Friday maybe you can get some good tips on how to do your job!',\n",
       " '@JessicaValenti And people still question if rape culture actually exists - feel sick for the poor girl and many others going through this',\n",
       " '@UnburntWitch Keanu Reeves',\n",
       " '@DearMeYes @NicolaSturgeon Nationalist fascist.',\n",
       " '@AOC So, you mean facial recognition proves the stereotype that all black people look alike?',\n",
       " '@winslowme @AOC And theyre proud of it! Sickening!',\n",
       " \"@Jude0o0 @AllisonMorris1 It's been shamed.\",\n",
       " 'Strike At Dawn did it! An absolutely scintillating performance for our girl today at @delmarracing in allowance company. Terrific training job by Richard baltas in a Super Ride by Drayden Van Dyke Congrats to all of the partners. #DeclarationOfWar #KeenelandGrad #StayHot https//t.co/g9TXCeqjVI',\n",
       " \"@McPetey94 @NicolaSturgeon You don't agree women and transwomen should be protected from violent men? Charming...\",\n",
       " '@mjgranger1 @AOC Stop it',\n",
       " '@jenmominheels74 @HikindDov @AOC Exactly what I was thinking !',\n",
       " '@JudyMurray @NicolaSturgeon @Wimbledon And me',\n",
       " '@Tombstone1954 Mueller is a dirty corrupt partisan prosecutor!',\n",
       " '@Mythmasterjr @anitaxanaxnow @BATMANNN @AdrianMTrujillo @AOC Her so called photo shoot is considered pornography in most cultural circles',\n",
       " '@NicolaSturgeon Dry your eyes.',\n",
       " \"@JessicaValenti @pookietooth What about the girls life..Being violated by that boy..It scars her for life..He wasn't so good if he thinks it was alright..\",\n",
       " \"@augustcohen_nyc Fine! Fine August! You big MAN! Take your beak from out my heart and go wiggle your tail on 42nd Street for all I CARE! We were star-crossed from the first, me a burn-out former government worker and you a dirty socialist! I don't care what you spend your LEFTIST taxes on! ;)\",\n",
       " '@pug_burger i read watchmen and v for vendetta so Im at two strikes if i read one more Ill be killed',\n",
       " '@AOC @KellyannePolls Rumors, lie, false statements. Show us the FACTS. PROVE YOUR ACCUSATIONS FOR ONCE.',\n",
       " 'Cut the grass...chile please. Theyre better at being a bad bitch. https//t.co/C4MSM0L52J',\n",
       " 'Its always comical when people question your growth in therapy. Like bruh, the old me wouldve set this bitch off, respect my growth.',\n",
       " '@brandon_r_horan @AOC Defending a Nazi sympathizer to own Trump',\n",
       " '@LaNcENw65 @RAICESTEXAS @IlhanMN @AOC @CBP this is fake lol',\n",
       " '@DrEmilyGrossman @mallenbaker @ExtinctionR This is outdated. What about know. Also some researchers are really just dumb people',\n",
       " '@AOC One and DONE',\n",
       " 'Bitcoin price is back to five figures following downward correction and some bullish comments from U.S. lawmakers https//t.co/m3pq1XRwux',\n",
       " '@AlexandraErin @AOC Oh the irony that AOC can think at all.',\n",
       " '@FtblOwxn Youre a dirty follow tricker',\n",
       " '@MajorMurmer @TheEveningTimes @NicolaSturgeon 100 years liquid assets #blackgold #ItsTime https//t.co/MQyhtf2UR4',\n",
       " '@DeplorableChoir @AOC @IlhanMN @RashidaTlaib @AyannaPressley Youre living in a dream allright',\n",
       " '@NicolaSturgeon @chrisdeerin @NaomiWoodBooks Vested interest as know author. Mrs Hemingway by @NaomiWoodBooks also brilliant. Her mum born Glasgow Southside grew up in Ayrshire!',\n",
       " '@AOC Help ICE https//t.co/NZmL9SCaJq',\n",
       " '@MiraiBaby Sounds like someone that needs to be booted to the curb like a dirty diaper',\n",
       " '@FrancoDelTorro @AOC Take Your Meds https//t.co/ZEMkKqM3CN',\n",
       " '@sarahmccammon @JessicaValenti And... you have a new follower Sarah! Dying!',\n",
       " '@Joel_Kurtinitis @thehill @AOC So much for; Give me your tired, your poor, Your huddled masses yearning to breathe free, The wretched refuse of your teeming shore, Send these, the homeless, tempest-tost to me, I lift my lamp beside the golden door!',\n",
       " '@champrebel @ChloeSalsameda @PaleRider_1776 @AOC Yes amen!! God is in control',\n",
       " '@AOC Hopefully youll be watching his 2nd term from home on cnn after you lose your chair.',\n",
       " '@nowthisnews @AOC GET THAT GROUP AOC https//t.co/PUfQlZJiws',\n",
       " 'Atheist could be killed under blasphemy laws. Please share #FreeAyazNizami #DontHangAyazNizami',\n",
       " '@book___whore Right! Like, https//t.co/K0vxMoN3oO',\n",
       " '@mparadis87 @3636uno @AOC everyday its a clown show with these loony nuts #ClownWorld #ClownsOfCongress #insaneleft #LiberalLogic #LiberalismIsAMentalDisease #Trump2020 https//t.co/VJ9aFhWovg',\n",
       " \"@peteswandering I'm on pins and needles! (I've been told I have a dirty mind though so...)\",\n",
       " 'THIS BITCH REALLY JUST BUMPED HIS HEAD ON THE TABLE &amp; MADE THE TINIEST CUTEST THUD! IN THE WHOLE WORLDJSKDJ https//t.co/rsibClXRIf https//t.co/qPZ0KuTMd6',\n",
       " '@dejavudad Oh, I know. A deal is a deal even with a dirty dealer. Theres your tie in Futurama reference',\n",
       " '@KyleABrown37 @AOC Funny how that sentiment varies from person to person.',\n",
       " '@MilesBriggsMSP @NicolaSturgeon Jumping on the bandwagon, Miles?',\n",
       " '@aoc looks like she believes the rumors are FACTUAL! https//t.co/wTthXeK1gK',\n",
       " '@BradleyByrne @TrumpWarRoom @realDonaldTrump @AOC I agree!',\n",
       " \"@donnagrace Bill is the biggest attention whore in the universe-sorry not sorry. He is 'using' his brother just as much for attention because Tom is the much more interesting and popular person at the moment. Also who are you to say Tom isnt having fun or happy about the things Heidi posts?\",\n",
       " \"@nsubhedar @Joshua4Congress @AOC @SpeakerPelosi yeah...that'll happen...Omar and her deeply intense, practically crazed and publicly brazen despise of Jewish ppl...and they dont have any $ at all...\",\n",
       " 'Bullshit. Running a 2-year $35M investigation when you know the premise is a LIE makes you a dirty cop. Not a good man. https//t.co/yGoCiyYl5r',\n",
       " \"@juliom151 @NonsenseHonest @AOC I'm pretty sure he knows the 3 branches of government.\",\n",
       " \"@I_Am_Ilemona So when Timi posted her phone number on IG, it did not negatively affect her life abi...? Don't you know that if you are will to fight a dirty fight, everyone gets stained...? See, only timi's wife and that pastor truly knows what happened. Everyone else na just busy body\",\n",
       " '@RealCandaceO @AyannaPressley @AOC @IlhanMN Heres Omar with a Jew! https//t.co/kDhjQyzyHU',\n",
       " '@AOC just wondering how someone as dumb as you get elected?,well enjoy because the people see right through you and I believe you will never be re-elected , see ya at the bar',\n",
       " '@AOC This is Congress, not Broadway. Cut the drama; cut the bullshit',\n",
       " '@AOC @KellyannePolls DEMOCRATS IN CONGRESS ARE TO BLAME.',\n",
       " '@philipshields9 @AllisonMorris1 All',\n",
       " '@BrexitAlex Hang on. Arent you the opportunistic, self enriching skank who blatantly lied through her teeth on camera categorically denying youd worked for Cambridge Analytica..when you in fact did?. Im sure the idiots you court wont care though..right?',\n",
       " 'Sir you suffer from psychosis. Politics is really a dirty game as they say. This is a man who once was a so called activist chatting such shit. Smh https//t.co/7ml9AXBxBX',\n",
       " '@RevGeraldPalmer How did Kamela Harris and @AOC get your phone number? Buzzfeed?',\n",
       " '@MollyMary9 @NicolaSturgeon 5th Q Are separate facilities for trans, as they are with disabled, an option? Finally, thank you for engaging &amp; listening to my concerns )',\n",
       " '@greentree1001 @NicolaSturgeon @FIFAWWC What does it matter where her grandparents are from',\n",
       " '@_hublette @chic_80 @JanjoinedNRA @AOC Same. She should try harder.',\n",
       " '@HTScotPol Can some explain to me what I tell my 7 &amp; 9 year old ? They are half English half Scottish .... I teach them that to hate a race is wrong @NicolaSturgeon can you help please',\n",
       " '@arielsobelle @AOC @LaurenUnderwood They act like 5 year old kids. Theyre happy talking as much shit as they want but if someone says something back they cry and scream. If they put themselves in the news SO MUCH they will receive backlash I dont understand how they cant recognize this',\n",
       " '@irelandawakened @AllisonMorris1 @irish_news Aye he tweeted too much after a few wine alright, but I dont even think he was a peeler..',\n",
       " '@BetoORourke The only thing it preserves is private insurance companies. What does it feel like to be a whore for the healthcare industry?',\n",
       " '@ScherieMurray All I see on your website is platitudes, maybe start complaining about @AOC when you got some actual policies.',\n",
       " '@IlhanMN @AOC @RashidaTlaib @AyannaPressley youre a joke!',\n",
       " '@AOC Just stop!',\n",
       " '@UnburntWitch I have no idea what sort of dog training experience you have, but Donut has turned out so perfect I have to imagine you have a lot',\n",
       " '@AllisonMorris1 @tim_brannigan Niall Carson rings a bell. Think he joined the Associated Press afterwards,',\n",
       " '@Swallydooncally @GordonEdwards77 @NicolaSturgeon Nobody asked you darling',\n",
       " 'Kudos for team work @AOC @SenKamalaHarris , AOC team up on bill to help those with criminal records get housing https//t.co/pBXkDllzsv',\n",
       " '@domjoly @davidhogg111 @AOC Bloody immigrants, coming over here, healing our sick and doing the jobs that have vacancies!',\n",
       " '@flakkers88 @realDonaldTrump @AOC Satire.',\n",
       " \"@Skank_Huntt_42 Always approach them with caution, and don't get carried away with the amount of love and pleasure they give.\",\n",
       " \"@benjaminwittes @PeteSouza I love the way he always refers to them as lovers. It's like a dirty, unknown word for him.\",\n",
       " '@ronm4c @lawyer4laws @AOC Well with that tweet I would say youre very confused !',\n",
       " '@wigjefferson @AOC Dammit Jeff. Shhhhhhh https//t.co/AAwOJERQW3',\n",
       " '@Maxie_UK @thejohnsimpson @NicolaSturgeon @valmcdermid @MarkBillingham Partying while Scotland crumbles. She is an affront',\n",
       " '@Lstedmanbryce @NicolaSturgeon @theSNP The Express humiliated aye ok!',\n",
       " '@spicenkosi @Skank_Huntt_42 Thought I was the only one hey! https//t.co/907h01Eca9',\n",
       " '@Joseph_Dyke @nicfanciulli @TomMessham',\n",
       " '@MarshallLocke @AOC @RashidaTlaib @IlhanMN @AyannaPressley @realDonaldTrump',\n",
       " '@StefanMolyneux @Karenloves_USA @AOC',\n",
       " '@AOC https//t.co/9feXHZMM4x',\n",
       " '@Jali_Cat @MichaelJFell @AOC @Ilhan @RashidaTlaib @AyannaPressley https//t.co/5e4ex5oC5O',\n",
       " '@soba_fuko',\n",
       " '@NicolaSturgeon',\n",
       " 'https//t.co/4x2nbi1JkH',\n",
       " '@Beeline_RUS',\n",
       " '@march4progress @AOC https//t.co/6nFRLEv8ak',\n",
       " '@DeplorableChoir @AOC @IlhanMN @RashidaTlaib @AyannaPressley',\n",
       " '@drewbabeotc @socialiststeve6 @realDonaldTrump @AOC @IlhanMN @RashidaTlaib @AyannaPressley https//t.co/7VC4xWwJs3',\n",
       " '@Wkhnage @AllisonMorris1',\n",
       " '@DineshDSouza @realDonaldTrump @danielledsouzag @HeatherChilders @FoxFriendsFirst @AOC',\n",
       " '@formambuh @AOC',\n",
       " '@heraldscotland @joswinson @NicolaSturgeon',\n",
       " '@honestman2709 @NicolaSturgeon',\n",
       " '@AOC @TombStoneBub @BarbMcQuade @KimKardashian @SethAbramson @TheBabylonBee',\n",
       " '@TrumpsGAGirl @chrisreed43 @IlhanMN @RashidaTlaib @AOC @AyannaPressley',\n",
       " '@joshjame @benshapiro @AOC @IlhanMN @AyannaPressley @RashidaTlaib',\n",
       " '@CeciliaBTory @NicolaSturgeon https//t.co/82lQ19us3v',\n",
       " 'https//t.co/7yls4eI4o1 @AOC',\n",
       " '@tbzstay @Jae_Day6 BITCHHH',\n",
       " '@DCraelin @MagnusUltionis @SpeakerPelosi @RepAdamSchiff @HouseDemocrats @ClownTrad @thevikingman @PepeThe2APede @ChellHolley @calbertson @RandyEBarnett @DameofDichotomy @XVirginMary @realDonaldTrump @ewarren @NOBOXPhoto @CreativCulinary @LindaSuhler @AOC @KamalaHarris @GavinNewsom @Salon FDROTFLMFAOLSSU',\n",
       " '@elitetuans',\n",
       " '@JessicaValenti w0ah d0d elarge',\n",
       " '@renato_mariotti @AOC Prisoner#1',\n",
       " '@a_dirty_maggot',\n",
       " '@AOC https//t.co/46PJ7gGmIr',\n",
       " '@TimInHonolulu @IvankaTrump @AOC',\n",
       " '@JoshHikenGuitar @RobinsonWoodrow @FORKSTER_2013 @whore_movie @MySwilly @MichaelEdBates @mjschneider_777 @vickigs67 @TheRealSoulpax @theClaytonJohn',\n",
       " '@ChrisDico80 @AOC https//t.co/4IsnmH22ra',\n",
       " '@kelleent @GeraldoRivera @realDonaldTrump @AOC @RashidaTlaib @AyannaPressley @Ilhan @POTUS https//t.co/4IAwxDcNRZ',\n",
       " '@tainted_whore',\n",
       " '@BernieSanders @AndrewYang @ewarren @IlhanMN @RepAOC @AOC @RepJayapal @sigmalambdabeta @Solzilla @KnowMadFam',\n",
       " '@DadRepublican @AOC',\n",
       " '@ava @IlhanMN @RashidaTlaib @AyannaPressley @AOC',\n",
       " '@GadSaad @JackPosobiec @pnjaban @AOC',\n",
       " '@kouki53531 @a_dirty_maggot',\n",
       " '@JessicaValenti',\n",
       " '@a_dirty_maggot',\n",
       " '@mrdaveyd @Twitter @realDonaldTrump @AOC @IlhanMN @RashidaTlaib @jack',\n",
       " '@marutatan',\n",
       " '@AOC https//t.co/9JRYMBmji4',\n",
       " '@alisteredmond5 @STVNews @NicolaSturgeon https//t.co/91W5QdZnCY',\n",
       " '@JoshwillLewis @gabisile_ivy Askies',\n",
       " '@rustinpeace00 @briancarrickna1 @SkyNews @NicolaSturgeon @BorisJohnson',\n",
       " '@missingpets505 @MarchPaw @Martin1Williams @DavidMi04499189 @PaulNorval @Ros_ney @NaliniKate @edinburghpaper @NicolaSturgeon @antanddec @BBCBreaking @BBCScotlandNews @BBCScotNine @itvnews @jamieoliver @NetworkRailGLC @RB_Official @JohnBishop100 @martin_compston',\n",
       " '@SlobberKnocker1 @AOC',\n",
       " '@wojousmc2 @FIFAWWC @USWNT @FIFAWWC_USA @AOC @congressdotgov https//t.co/78F8JPMxgg',\n",
       " '@seanmcdonald01 @cait_mcallister @NicolaSturgeon @caatherinee1',\n",
       " '@tainted_whore ilyt',\n",
       " '@THeinrich22 @IlhanMN @AOC @Shieldmaiden444',\n",
       " '@SteveBrant @joshjame @AOC @IlhanMN @AyannaPressley @RashidaTlaib @SpeakerPelosi @neeratanden @RBReich @paulkrugman @ewarren @KamalaHarris @ShahidForChange',\n",
       " '@p_1o25',\n",
       " '@BAEKHYUNANTl Not with that camel toe',\n",
       " '@CiejkaJen @madjakecam19 @nanajoof6 @ISISbangsGoats @AOC Yes, fake account, did you',\n",
       " '@karenamyatt @AOC @SpeakerPelosi She puts her own life at risk using the crazy language she uses.',\n",
       " '@Kapp4774 @A_Chicken_Hawk @icareeicg @AOC I hope somebody pulls over and gives him directions https//t.co/WWLGeed2Qc',\n",
       " '@UnburntWitch J.Jonah Jameson, interesting! I never really saw him as a full fledged villain',\n",
       " '@RealCandaceO @AOC Youre a legend',\n",
       " '@kenvogel @AOC @KellyannePolls Why do they even bother with her?',\n",
       " '@angeleyes_1980 @eve_dickson73 @Pink @NicolaSturgeon @theSNP An now Jacqui gets aww nasty typical nationalist',\n",
       " 'A #capital #campaign #consultant dirty little secret? @AndreaKihlstedt tells you more in her latest #CapitalCampaignPRO blog https//t.co/gRHkd5md5Y',\n",
       " '@AOC Youre goin down..... Down down down down down You have to be older &amp; wiser to get that joke....',\n",
       " '@standfree3 @v8ftw @Rossco97300258 @KeithRSteele @Chunkyferryman @mclaughlan57 @TS_3502 @jamesst14586713 @scotfax @2351onthelist @DarkSideoDunoon @fishface60 @heathermorven @GrievanceMonkey @Baz175 @al_malik98 @JohnTho29498413 @EnglishUDI @Selva120Joe @KaspersM @TedDitchburnNNP @Janela_X @TheEuroGirl @thinkingscot @Brianir64009092 @snpwatch @Feroxbill1 @StrongerUnited1 @liamjohnston777 @andel69 @johnjac43552154 @ALoveGlow @StaanGratis1903 @IsThisAB0t @MW988 @CRE8NU @Dr_IRMS @AgentP22 @BoyFitba @SteveSayersOne @clr1501399bri @putey_pute @BillCerretti @KondratieffWave @Brexit011 @SugarspotAnnie @PeterBigpete @carmic3 @su49551714 @NicolaSturgeon You have been.',\n",
       " '@UnburntWitch i knew it was too good to be just sitting there pristine in the clutter of my ideas',\n",
       " \"@AOC You don't even believe this Sandy!\",\n",
       " '@SueJRN @4YrsToday @AOC Oh stop',\n",
       " \"@TylerCrumrin @I_am_not_E @BookieBeach @TheWisemanSaid2 @AOC Anything that comes out of her mouth is vial but I'll say 2 because I wouldn't want my grandkids to hear what she7 said\",\n",
       " \"@AOC it doesn't dawn on u ur hated because ur stupid and don't belong in congress and has nothing to do with race ? Funny it's like obama.. dislike him and u must be racist. Typical Dem race card. #loser #AOCResign #AOCisanidiot #aoc #LiberalHypocrisy #LiberalismIsAMentalDisease\",\n",
       " '@DescantCantus yeah bc he had to dispel the rumor that it was fish',\n",
       " 'If you leave a dirty diaper on a plane, especially in a seat back pocket, you are the worst kind of person that exists.',\n",
       " '@m0rnutz @UnburntWitch Capitalism works https//t.co/4aGBFLJ8vq',\n",
       " '@SteveMi35863272 @ThankfulThinker @AOC Crime rates arent higher than ever. That is blatantly false,',\n",
       " \"@NicolaSturgeon Didn't know it was your birthday Nicola, many happy returns and wish you more than you could ever wish for yourself\",\n",
       " '@NicolaSturgeon @BorisJohnson has discovered the magic money tree!!',\n",
       " \"@Galil_kunP5 @IlhanMN @jeremycorbyn @UKLabour @AOC @RashidaTlaib @AyannaPressley She's certainly not gonna listen to this smear like she hasn't been smeared as literally the same thing. Nice try.\",\n",
       " '@MichaelAvenatti @AOC Not if those places like jobs......',\n",
       " \"@HillGoH1 @George_Met_7 @AndyRobUnited @premierleague Ah I see, when Salah does it he is a dirty cheater &amp; diver but when Sterling does it it's just a single mistake in his whole lifetime. Hypocrite\",\n",
       " '@SarionBowers @cwolffeisenberg @EverydaySexism At the least the colleague had the good sense to point out the womans contribution. Ive seen this happen and the guy getting the credit says nothing. I just cant believe this still happens so rampantly.',\n",
       " '@charleshslin @AOC Touch my wallet,and you better know karate',\n",
       " 'Meanwhile @NicolaSturgeon is out of touch with most of her party base and most of the women and men in Scotland. https//t.co/HtsvF5uWmz',\n",
       " '@AllisonMorris1 @brendanhughes64 Definitely! Keep the pressure on!',\n",
       " '@thankbuswell If that was my dad and I sneaked in I would be killed',\n",
       " '@NicolaSturgeon @scotgov @theSNP Can Scotland please annex Manchester well be happy with you',\n",
       " \"@sapphicgeek Superman &amp; Captain Marvel, not fan of OP can't be killed characters\",\n",
       " '@sdbilly57106 @AOC Chernobyl is nice this time of year.',\n",
       " '@henrybreadstick british journalists with Konta are so capricious. No man would ever have been asked those questions. Im so mad. @EverydaySexism constantly.',\n",
       " '@charliekirk11 @AOC They can keep it as a supplement.',\n",
       " 'This bitch is disgusting. Free him?....no keep the piece of feces where he is. You are basically saying that all these black women are lying.... https//t.co/5bvzWBCMgy',\n",
       " '@JessicaValenti Unfortunately I cannot read the NYT article, but further found this... https//t.co/jHqDlSz9qY',\n",
       " '@NicolaSturgeon Happy Birthday! Thanks for all you do for Scotland',\n",
       " \"@Sarah_and_Son I'm reading this in a mock Dick Van Dyke accent , which is hopefully how you intended. Otherwise, shocking use of a double negative.\",\n",
       " \"Dyke! Powers are all over eighty-seven combinations of the Monk's ears) You need to life doesn't make some kind of nookie,\",\n",
       " \"So @AOC should say she doesn't have time for 5 letters and just call him 'rump. https//t.co/tx1hHADRhw\",\n",
       " '@AfloatHickory @AOC And if you look UP youll see the point as it goes flying over your head!',\n",
       " 'And? What did you expect? Coherent well put together logical thinking! Sorry wrong station, you need to watch CBeebies! @NicolaSturgeon https//t.co/2XGMOMWs6j',\n",
       " '@AOC You are clueless.',\n",
       " '@keiranmartin88 @Jiggallo_jimjam @NicolaSturgeon They voted snp, nicola sturgeon was put in after sex pest Salmond',\n",
       " '@evolvedpeasant @Scotpol1314 @BBCandrewkerr @yes2indy @NicolaSturgeon We do hear this Scotland loathing pish from the mad Dogs of the Press everytime they select a bonkers Scotland loathing BritNat. https//t.co/9odrlL5gpb',\n",
       " \"This name I have now, it deserves better than to be killed off and buried, forgotten. It's not really me but it's an armor that took the punishment when I couldn't. I may hate BEING this person but I don't hate the person. I feel sad for him. He deserves better. I deserve better.\",\n",
       " '@echolivecork This place is butt-ugly. Cork has a tradition for designing the worst buildings in Europe. Honestly now.',\n",
       " '@RodRosenstein @perezkellyk Actually you have alot of balls to publicly post at all. America hates what you did. You are a dirty cop.',\n",
       " '@Jojeification @Lordoflemmings @tkoch_a @AOC I tell you what state the question here and Ill answer otherwise stop trying to make my genius level iq look below your average one',\n",
       " \"@wloomis77 @NiallStanage @AOC Nope It's not! I'm WHITE. Your comment is ignorant and you're white. Own it.\",\n",
       " '@Lukeyillustrate @khalidfuI @basicallydoc @aceiooo @KHALIDFUL Nah definitely winning that someone is so hurt by the fact that I prefer vanilla ice cream over chocolate, not a big fan of chocolate anything, and felt the need to have a melt down in my DMs and thought calling me a cracker was gonna get under my skin. We can agree to disagree',\n",
       " 'A dirty fossil fuel project has no place in #NewYork. You can tell @NYSDEC &amp; @NYGovCuomo to #StopTheWilliamsPipeline using this @NRDC action page https//t.co/loiOSY9rWW',\n",
       " '@TheFlowerBothy @NicolaSturgeon Sick and scared.',\n",
       " '@Montejp231 @AOC @colleen_benn @realDonaldTrump Again no economic policy no plan no nothing just mental warfare bumper sticker politics go back to school',\n",
       " 'THE SOUNDS HE MAKES KWJSJWJDJQJSJJWJSNDIE https//t.co/SY398MPy4o',\n",
       " 'A dirty, rotten, double crossing (true) story of what happened to the Italian American mob https//t.co/162yjYacnA',\n",
       " '@RepAOC @AOC #newgreendeal https//t.co/Hu2bzcokcz',\n",
       " '@WeNeedIndyNow @NicolaSturgeon @IanBlackfordMP Exactly!!!',\n",
       " '@ScotSisterPhoto Ditto. And bugger all action from @scotgov @NicolaSturgeon @strathearnrose once again',\n",
       " '@realDonaldTrump @AyishaDiaz @IssaRae @Trevornoah @WhoopiGoldberg @TheRealDaytime @jimmyfallon @StephenAtHome @AOC @billmaher @nbcsnl @questlove @oldmanebro @cthagod @BlacKkKlansman @YBRL @AimeLeonDore @fego_ww @venusxgg @TIDAL @NiaLong @NychelleElise @HOT97 @Brittanysky @Power1051 @djenvy @YGDTopDogg @Twitter @Oprah @snohaalegra @OmariHardwick @DemetriaObilor @WarrenBuffett @IyanlaVanzant @6LACK @1future @neiltyson @SadeOfficial @USArmy @MichelleObama @KamalaHarris @tumblr @niczaira @OwnByFemme @angelayee @djkhaled they dont want you to have the biggest living room... https//t.co/TP2tjzLiX7',\n",
       " '@debsmooth @carolst06907093 @brannan_kathy @NicolaSturgeon Nope, once again youre drawing your own conclusions to suit your pre decided narrative.',\n",
       " '@Dragon17xrt @Lstedmanbryce @brexitparty_uk @NicolaSturgeon @theSNP https//t.co/pqqRi1i098',\n",
       " '@cilla1949 @ISambaman @GlennBBC @NicolaSturgeon @theresa_may https//t.co/ruH3jkw5Vt',\n",
       " '@BirdmanV @zachrobert15 @Romeo1623 @atrupar @AOC https//t.co/IIOQmqL5wL',\n",
       " '@CoryBooker @AyannaPressley @IlhanMN @AOC @RashidaTlaib https//t.co/vh3NlJYyRs',\n",
       " '@SamDalglish @ONETAP_SU @MichaelBicak @rjjago @JessicaValenti https//t.co/dHzSOW3Ott',\n",
       " '@October_Fist @NicolaSturgeon Feels disengenous to tweet about a single incident abroad when women and girls are raped daily',\n",
       " '@farmgirlmim @thegoodgodabove @AOC laughter https//t.co/sWzfCgmXvD',\n",
       " '@briancubby @ChrisMcCusker67 @meljomur @theSNP @NicolaSturgeon Himself',\n",
       " '@BradleySJV @danushdm @jmartNYT @AOC @SpeakerPelosi In other words she should know her place, right?',\n",
       " '@AOC How about where is ALL the money gonna come from? Certainly not the idiots on the left!! Remember basic economics; NOTHING is free!',\n",
       " '@Charalanahzard @DeplorableChoir @AOC @IlhanMN @RashidaTlaib @AyannaPressley I enjoyed the joke, but because I follow you, their horribleness was the first thing I had to see when I opened Twitter. What are you doing to me',\n",
       " '@MaxJustice4All @WalshFreedom @AOC She can say whatever she wants. The problem is when she sponsors anti-American policies.',\n",
       " '@Mr_GBell @NicolaSturgeon You best look up scots English for independence',\n",
       " '@TomWolfPA @levittownnow @AOC @iamcardib @JoshShapiroPA @PhillyMayor @CNNEE @CNN @TelemundoNews @MariaCeleste @TelemundoIntl @abc_es @BarackObama @MichelleObama',\n",
       " '@eatsleepravera1 @lllllinda @PoliticsScot @sunshineonleith @NicolaSturgeon Serco ? lavvy attendant ? you deluded lying little thing',\n",
       " \"Do you plan on repealing part of Medicare? @AOC @SenSanders @IlhanMN @KamalaHarris @TheDemocrats I do not see how you can ban private insurance when Medicare part C IS private insurance. I think y'all are lying and have no plan for #MedicareForAll\",\n",
       " '@SkyNews @theSNP @NicolaSturgeon @BorisJohnson You lost last time Sturgeon you will lose next time too ! Get over yourself.',\n",
       " '@FullServiceWkrs @DrTarnak @seattletimes @AOC I was simply unaware we were bringing it into our conversation.',\n",
       " '@realDonaldTrump You throw socialism around like its a dirty, scary word. Know whats even scarier? Fascism.White Nationalism',\n",
       " '@RossCol89474735 @AOC Need help linking? You showed a picture with half the caption cut off',\n",
       " '@bansisharma @AOC Same to you.',\n",
       " \"Calling sam out, no one in our sales department is called Sharon, he's a dirty liar https//t.co/2lkDKzqJvd\",\n",
       " '@ScottPresler @AOC Ooo Scott! Great!',\n",
       " \"@KarenAttiah @AOC @RashidaTlaib @RepPressley Karen, Karen, Karen. Don't be stupid.\",\n",
       " '@AllisonMorris1 @Ciara87C Gorgonzolas on the Lagan. Whatever next?',\n",
       " \"@AOC Here we go, so didn't Clinton, Obama you and your squad so please.\",\n",
       " '@HalfwayToHobo @JessicaValenti Oh geez that would be the most horrible fate',\n",
       " \"//okay, this account is probably gonna be killed off, and replaced with Junpei, but without all the bad shit I've done on this account, so I'm gonna make a thread of ideas I have for alternate universe junpei\",\n",
       " '@MichealStone88 No having a nightmare at all proven the fact your a dirty wrong yin',\n",
       " '@JessicaValenti @JillFilipovic The part where the officers complain to him about what you put us through is...something',\n",
       " 'Camel Toe Harris will be on the stage tonight with Creepy Joe. How long until the stripper pole comes out when you want to be V.P.?',\n",
       " '@sairasameerarao Compare this bitchs description of Andy Ngo to who Andy Ngo actually is and you can easily see just how irrational, hateful, and insane the Left is.',\n",
       " '@CMD_ESQ @AOC Democrats have become vile forms of themselves. Consumed with hate',\n",
       " 'Its a dirty world',\n",
       " '@KirstyStricklan @NicolaSturgeon Good one Kirsty.',\n",
       " '@AOC @guypbenson Except you havent changed a thing. Thank God!',\n",
       " \"@ndrew_lawrence @mmfa @AOC What a stupid thing to say. Name these people. You jealous racists has never met a brilliant congresswoman before who knows what she's talking about and is representing HER constituents not FOX news, trump or Nancy pelosi. Get a life\",\n",
       " 'Discipline Is Not a Dirty Word https//t.co/wtuNqXPNNA',\n",
       " '@_Proud_American @AOC So true',\n",
       " '@AOC JUST STOP WITH THE LIES &amp; HATE!! That is all you do, do your F@ing job and work with Congress &amp; stop bashing YOUR PRESIDENT',\n",
       " '@AgentP22 Has Nicola Sturgeon @NicolaSturgeon come out to publicly or on twitter defend her? I guess not. Nicola is more interested in tweeting about Donald Trump',\n",
       " '@MotherJones @AOC Are our tax payers paying for manicures for illegals now too?',\n",
       " '@ABC7 That makes me sick she should be killed',\n",
       " '@kirstiereid5 @NicolaSturgeon @IanBlackfordMP I have a beautiful 3D photo of my grandchild when she had been 6 months in the womb. Thankfully she made it to being born despite not having the rights of a human',\n",
       " '@MarciaBunney @HollyHuntley3 @Ldogls @shashatheitch22 @EveScottGarner @McGeezer67 @JacquieLeyns @kristyshl @zazzybritches @StaryStaryNlght @MynameisMok @BlueTsuni @kaslina @doug_in_nc @Tori_K_M @TammieCroft @Jessie09JZO @impinkestgirl @Mish_da_bitch @MykeyCantona7 @unbrokeMs1 @GDThor1 @medwoman1 @Alpha_Cunt @GangstaMimi @alenesmiles @MuldrowDennis @VCSParent @londongal_28 @yolalindayola @lisalbarjas1 @TheRealJTIII @media_auntie @BonJS0370 @Catastrophany @kneadinghands @OklahomaPatrio1 @FistedByJack @ldog562 @KITTYBAYOUTSFAN @IndivisibleInFL Gm',\n",
       " '@iRLLYLOVEYOONGI Niya is a dirty multi #bts #army',\n",
       " '@ellievk2 @Jhercus_boxer @jack_charlesf Youre named after a dirty cheap alchopop',\n",
       " '@Lstedmanbryce @IsThisAB0t @theSNP @NicolaSturgeon @Telegraph Have you been buzzin the glue again?',\n",
       " '@niiiiick29 @DFSSoapBox Ah not a dirty player but commits an extremely dirty play. Whatever you say',\n",
       " 'Rock on @AOC https//t.co/KRKVbw4A9P',\n",
       " '@JustEric @AOC You left off doubling down and dressing like Evita. https//t.co/reNQ8oKoMH',\n",
       " '@arreagas_whore @brandon_arreaga die. come back alive. the die',\n",
       " '@briantylercohen @georgecodezen @AOC Disgusting',\n",
       " '@dyke_karl @Baddiel Wow',\n",
       " '@GLENDA_45_TEXAS @1776_ATTITUDE @DocRyanBean1 @realDonaldTrump @SpeakerPelosi @AOC true',\n",
       " '@ArnotbUp @Mollygirl77 @Vincent56452972 @B0st0n_Chris @Donnam8470Donna @Southrngirl77 @KBUSMC2 @DanielKaroo @EArneu @beautifulcurves @fiedler_irene @scouter12 @flyby2474 @SusanMondie @lkruszka92 @stump54jumper @cadieux_jessie @madisonroad @7wellsclan7 @LogosBolo @gslade5 @SheepDogSociety @NoToMobs @AriaXing @PaHa1949 @DrNealHouston @tomtiger1968 @BadAssGramp4_45 @belgique93 @ZibaLady1 @RedDragonFly19 @CromwellLewis @maplebob23 @Yinzer89079551 @ZueYiLong @HollyWilhelm4 @sues3jewels @Richard74195773 @kimszc1 @cazam_c @RL9631 @gooner1jdc @TMURPH88 @pvtjokerus @RobertC79159297 @velvel2 @pell48 Who is a dirty spy?',\n",
       " '@AOC Where America celebrated Independence Day 2019. https//t.co/Hrp2QD6f2q',\n",
       " '@Gerald_Weaver_ @rmayemsinger The accessory of the day is Mike Pences camel toe. https//t.co/LZbpQbZald',\n",
       " '@jaynya13 @AOC Intern experience? Where will that take you. Why than is their second job is in restaurants?',\n",
       " '@JennyGilruth @ScotParl @tavishscott @kezdugdale Best of luck!',\n",
       " '@AOC Paying their taxes with the aoc coins? https//t.co/uYGGkvqJDf',\n",
       " 'AOC Absolutely Outstandingly Clueless or just plain stupid thats @AOC for yall https//t.co/Oi3WoR08O3',\n",
       " '@JessicaValenti Outrageous. Despicable. #WhitePrivilege #WarOnWomen',\n",
       " 'me ordering my tradie gear and high vis, excited for the big dyke energy Ill be throwing out into the world https//t.co/d8ciEP98Mx',\n",
       " 'You are not a dirty, rotten sinner. You are the righteousness of God. You are good at the core! https//t.co/Bnp756GTIn',\n",
       " '@DanielleDASH !!!',\n",
       " '[ @idolofhoenn i dont know enough about version of her but dawn would prolly be like oh pretty bitch. unfortunately dawn can be selfish in ships sometimes so lkejglekrgje thats not a healthy foundation even for fwb https//t.co/siuWiqUvim',\n",
       " '@AOC Say What?',\n",
       " '@NicolaSturgeon Stick that up your EU https//t.co/d1E9wOj5UE',\n",
       " '@AOC And we will fight against you because of your policies.',\n",
       " 'Yall...things have been so shitty. And I was worn and tired and hopeless. I had some sensory overload at the dyke march yesterday and almost didnt go to World Pride today...but I did. And I danced for nearly 10 hrs. And I felt home. And joy. And hope. Photo by @photomixedtapes https//t.co/vW6hBn69sk',\n",
       " '@AllisonMorris1 @irish_news I aree and when he was alive he also should have.',\n",
       " '@tobynyc Good morning, thanks for letting us know that you have submitted a Service Request. You can check status online at https//t.co/81zrjfGgwl and you may file a Dirty Sidewalk complaint at https//t.co/G7qLIUDAwh or send a DM for assistance. https//t.co/hDTCu9JZPB',\n",
       " '@johnastoehr @AOC When was there a Muslim ban?',\n",
       " \"@Marylarae6886 As long as it's not in a dirty glass. https//t.co/EgIeOpRifr\",\n",
       " 'Seriously Trump just became the cranky old bitch in Walmart screaming at POC to go back to their own country https//t.co/wU8LTVlUhW',\n",
       " '@ZionistGirl18 @AOC @IlhanMN JC, excellent question Love it!',\n",
       " '@minniemonikive well',\n",
       " '@goddersbloom and driving a dirty bomb is never a good idea https//t.co/0tAMxK841R',\n",
       " '@zhooverh @sahilkapur Everyone knows who @AOC is',\n",
       " 'Its laundry day and you have no clean draws, what you doing? Free balling or throwing on a dirty pair? Free balling. https//t.co/ih3bj7oMo1',\n",
       " '@AOC @IlhanMN Your names will go down in history with all your socialistic comrades Marx, Lenin, Engels and Owen.',\n",
       " '@Biyombonesaw @AOC @IlhanMN But there are different govts for those regions... democratically elected..',\n",
       " 'A Sunday morning treat @valmcdermid in conversation with @NicolaSturgeon - two of the most remarkable women of our time #TheakstonsCrime @TheakstonsCrime https//t.co/aVLYMWzV8C',\n",
       " \"2019. The year where people must specify that giving alcohol or drugs to your pets isn't ok. Like if it wasn't obvious already. Great year. That fucking bitch Alinity.\",\n",
       " 'Mens team nowhere close to winning a World Cup either. And I mean NOWHERE close. Sad https//t.co/4iAah2hc4H',\n",
       " '@theSNP Meanwhile @NicolaSturgeon is reading a book and thinking what tomorrows #photoopportunity will be',\n",
       " '@juliegirl1948 @Magskall @slpng_giants @SteveKingIA @AOC Bullshit.',\n",
       " '@DrugstorCowboy @atrupar @AOC We agree',\n",
       " 'Konta leads 1-0 5-2 - I need the loo and a shower so I can get to the shop',\n",
       " 'its okay for black ppl to be killed but let it be any animal white ppl be on go. you hate to see it',\n",
       " '@nmidavies @GlennBBC @BBCScotlandNews @NicolaSturgeon @theresa_may Sure like Norway the UK is sitting on a trillion dollar sovereign wealth fund',\n",
       " '@UnburntWitch The rest of the industry certainly tries to ignore you.',\n",
       " '@milliondemons and they are all gonna be killed',\n",
       " '@Delecopter If this was toby and not the main man vvd it would of been a goal thats the difference between them 1v1 verse 2v1, van dyke comes out best https//t.co/U8XDdara6d',\n",
       " '@NicolaSturgeon Just like all the speeches you make!!!!!',\n",
       " \"@UnburntWitch I can't wait. Are they going to be ongoing stories, or vignette-y like the Charles Addams strips?\",\n",
       " '@AOC Free industry training? People PAY for college but interns get paid to learn. If you are untrained, you offer the company nothing. Once you get trained, you become valuable. Once you are valuable, you get paid big. Oh and maybe lower your spending while you are training.',\n",
       " '@GrahamGGrant @MilesBriggsMSP And where is @NicolaSturgeon ? Lying on a beach in Portugal apparantely ! If she cared about Scottish people she would break off her holiday for this massive crisis ! #drugs #Scotland',\n",
       " \"@AOC Can't go wrong with The Grand Canyon.\",\n",
       " \"@AOC Why don't you take the squad to South America if you choose to represent illegals\",\n",
       " '@ChSVchild @petitmontaigu @ur_sweet_paris @pulcinodiverona @tvoya_smyert @Phoenix_Verone @renard_verone @piccolo_corvo @cher_valentino @Veronese_bitch @dracheausverona * - * .. . * * * * , ...',\n",
       " '@MaddoxTerrance @UnemployedMoron @RealCandaceO @TPUSA @AOC Bullshit.',\n",
       " 'Laundry might keep track of whether you have a clean version of the outfit you need. Maybe you choose whether to wear a dirty one (moodlet) or wash the laundry (spend time) or go in the wrong clothes (moodlet). And maybe you have the option of buying clothes freely.',\n",
       " '@leslieherod @SenadoraJulie @SerenaForCO @RashidaTlaib @IlhanMN @AOC @AyannaPressley Trump 2020',\n",
       " '@AOC Tee hee, this wont go over well. Wheres my popcorn?',\n",
       " '@AOC Love it or leave it!!!',\n",
       " \"@Trash_Candies ding dong~~~ no red/blue bec it's a bitch to format in ao3, but~~~ ahh no pressure tho pls rest up lots\",\n",
       " \"@jasheman @SpawnofJustice @Pink @NicolaSturgeon First time it's ever happened to me in England Ive always had pleasant experience with every other part of England Ive been to\",\n",
       " \"THOSE SOULFUL EYES.... I CAN'T FATHOM THAT THIS BABY IS GOING TO BE KILLED THIS BEAUTIFUL LIFE JUST ENDED BECAUSE OF PEOPLE'S SELFISHNESS.... WE NEED PLEDGES https//t.co/FV1HOWxR2M\",\n",
       " '@mike_hamm @FrankDelfinPupo @DinosoarK @RealCandaceO @AOC @SenSanders No. She is CLARIFYING her statement! In other words, SHE is explaining what she meant, rather than having a third party explain what she meant.',\n",
       " \"@lostinjosefin Siss if this right we'll be killed with the cuteness every single moment\",\n",
       " '@GeoffsAgHortHub @hamishpricenz The bitch on the left has to slum it whils her temporary domicile gets a 3 million dollar upgrade..... Apparently there is a possum problem!',\n",
       " 'We live through times when hate and fear seem stronger. We rise and fall and light from dying embers, remembrances that hope and love last longer. And love is love is love is love is love is love is love is love, cannot be killed or swept aside. @Lin_Manuel #Pride #Queer https//t.co/oKbXnH8jbH',\n",
       " \"@HouseDemocrats @AOC chief of staff. Ever heard of her? Y'all making 2020 too easy.\",\n",
       " '@antianti69 @Tihanygirl @NicolaSturgeon To be fair It seems to be the normal qualification for being a nat',\n",
       " '@BernieSanders @AOC @repblumenauer Way too old!',\n",
       " '@NewYorkerRadio @AOC Hasnt been a full year, but she has given us decades of stupidity. Hurrays for AOC!',\n",
       " '@vile_mennis Hes 10th in RBI still though. People around here bitch about other people already over 30 homers and hes at 17 which doesnt bother me.',\n",
       " '@adrielhampton @DNC @TomPerez @MikeGravel @banditelli @marwilliamson @humford @AOC @Frances_Fisher @kenklippenstein @GeoffMiami Absolute legends',\n",
       " 'Perhaps more @NicolaSturgeon than @DavidMundellDCT ? https//t.co/sM8SLgi1yH',\n",
       " 'Ok @NicolaSturgeon https//t.co/JTz129DcHw',\n",
       " '@kezdugdale @ScotParl @LGBTIScotland You will be sorely missed.',\n",
       " '@TorieValente thanks https//t.co/woHakoBbYn',\n",
       " 'Wrong. @AOC actually just understands the definition of concentration camp. https//t.co/fE6OmpNlXu https//t.co/Ys9Ar2pBth',\n",
       " '@BeauLeggs @NicolaSturgeon It distorted nothing - the subtitles are hers, and are absolutely accurate.',\n",
       " '@UnburntWitch I have questions 1. Will The Horde be played? 2. Will Kirk Cameron be involved? 3. Why Kirk Cameron? 4. Oh dear god, Kirk Cameron is terrible? 5. Was The Horde actually fun, or was I just in awe of Kirk Cameron? 6. Oh god, why does Kirk Cameron suck now?',\n",
       " 'West Belfast Border Poll scenario @impongo2 @WestBelfastUPRG @stephen82754737 @Bel_Sol_Israel @FlanniganSeamus @OnTheFence22 @CregganDerry @patriotgame1 @ussf79 @PurpleStandard @Glenn2487 @AllisonMorris1 @mairiac31 @BeattieDoug @GmUlster https//t.co/82VMznAL0m',\n",
       " 'In Augusta, Bipartisanship Is Not a Dirty Word - https//t.co/DtZMp5buM9 https//t.co/9dcnOqxMP4 #NHpolitics #fyi',\n",
       " '@FEDSBANE @ifindkarma @AOC Amnesty?',\n",
       " '@Adorable_Todd @TheJuanWilliams @realDonaldTrump @Ilhan @AOC @RepPressley @RepRashida @thehill @TheHillOpinion #truth https//t.co/mpFAkWCBoZ',\n",
       " '@thealexvanness @PolitiFact What shes @AOC really hiding https//t.co/DoQlUsJFwB',\n",
       " 'Shame on @NicolaSturgeon for excluding non binary people #NotMyAlly #Pride https//t.co/ROo4rnT7AK',\n",
       " '@Charlottemorg @NicolaSturgeon I think a lot of his opponents are somewhat rattled Charlotte!',\n",
       " '@delaruefrederic @bansisharma @AOC What in the what are you going on about?!',\n",
       " '@jeremycorbyn @UKLabour @IlhanMN @AOC @RashidaTlaib @AyannaPressley Oh wow the delusion..... I think its time you take your meds.',\n",
       " '@NicolaSturgeon U want to be independent but also wants to be in the Eu thats not independence how can a nationalist party want to be in globalist Union',\n",
       " '@cspan @RepAOC @AOC Members of Congress who perpetuate bullshit should face automatic censure.',\n",
       " \"Does @NicolaSturgeon understand this? I suspect she knows exactly what she's doing. She's obviously smart enough to understand that Conservatism is mainstream in all advanced democracies &amp; that Scotland is no different in this respect.\",\n",
       " 'A BUG HAS LANDED IN MY TERRITORY! I REPEAT, A BUG HAS LANDED IN MY TERRITORY! ALL BUGS THAT LAND HERE WILL BE KILLED',\n",
       " '@cumkichi2 YJES i want her to be killed by her target.........',\n",
       " '@Beathhigh Diplomatic incident. Will I ask @NicolaSturgeon to scramble the Scottish Navy?',\n",
       " '@VanWACitizen @MatthewAdessa1 @AOC That was spot on Matt',\n",
       " 'Stan twitter is wild. We got kids out here trying to cancel @KaceyMusgraves like she liked a post suggesting Taylors mom should be killed or something. Some of yall need to take you faves advice you need to calm down. Lordt Jesus.',\n",
       " '@mjfree @AOC @IlhanMN @realDonaldTrump LOL here we go again..... https//t.co/cnL3k0jOIl',\n",
       " '@spetersaz @evanmcmurry @AOC ... and lets try to have a calm rhetoric-free conversation on the topic.',\n",
       " '@ashtags @steph93065 @AOC By being a vocal anti-American and pro illegal alien mouthpiece which emboldens these criminals.',\n",
       " 'Women who are strangled even one time are 750% more likely to be killed by their abuser. Glass et al, 2008. When I pursued divorce, my ex strangled and raped me, telling me f u, Im still your husband. @Casey0034 #dv #strangulation #spouseware #stalking',\n",
       " \"@SexCounseling @frespirit01 @BreitbartNews I hope they lose. They probably won't, but I hope they do. I hate that this skank has forced me to cheer against my country's team.\",\n",
       " '@esugardad360 They were..',\n",
       " '@AOC Under trump borders deaths are lower than obamas in 2012 471 deaths in 2017 298 deaths . During the Obama /Biden administration 535 migrants died in one Texas county alone .Brooks County.',\n",
       " \"@RepJudyChu @JessicaValenti I'm all expletives on this one. They should be fired immediately.\",\n",
       " \"@msdhoni , Sir, Please don't join politics..it is such a dirty thing and you know all..please\",\n",
       " '@Bathilde77 @F3_Haskell @Patwtweets @ChristieC733 @AOC No, pretty sure he means those are some nasty places with nasty people that want control in order to do nasty things. Kbye',\n",
       " '@SilverSputnik @AOC Or brains',\n",
       " '@UnburntWitch Keep making them! Well keep eating them - wait, dammit, reading them! https//t.co/nAFg3JLxDt',\n",
       " '@Dapper_Dyke @DarthBannon1 @realDonaldTrump @FLOTUS I bet you worked on this meme for weeks!',\n",
       " \"You know why so many hate AOC....It's because she is the C word... Competent. Even Nancy Pelosi is like 'Blimey, this bitch might actually get something done.' - The new kid on the block is making the rest of them look very bad,\",\n",
       " '@CBSNews @AOC This lady should be considered insane or extremely stupid. Anyone who would believe anything from her mouth would have died off with the neanderthal in prehistoric times.',\n",
       " '@bennyjohnson @AOC Benny, this is so funny. FD',\n",
       " '@FionaCWriter @TheDykeenies I love them. Seen them countless times! Awwwwww!! Not Your Enemy is one of their best for me, its brilliant! Really hoping they tour again soon. I am a MASSIVE dyke...',\n",
       " '@DeplorableChoir @AOC @RashidaTlaib @IlhanMN @AyannaPressley @prismbreaker this is what I see in the corner of my room as the night terrors set in',\n",
       " '@AOC Telling people that hate this country,and disrespect our country and laws by being here illegally to go home is not racist.. I know alcohol rits the brain so I guess all the booze you e drank explains a lot. DUH',\n",
       " '@NHLhubTO @43_Kadri Ridiculous! Kadri is a DIRTY PLAYER! Suspended SIX TIMES since 2013 Hes a disgrace to the NHL &amp; its embarrassing you praise him',\n",
       " '@cluckeryDuckery @WTOL11Toledo I suppose you believed the bs story that he raped thay women? The one that just magically showed up and has now just as quickly disappeared- Ill give you guys credit - you play a dirty game when you dont get your way.',\n",
       " '@StartPlayer @NicolaSturgeon Every single one of you is welcome....',\n",
       " '@lstromness @douglaskarr @PolitiFact @AOC Luckily youre a trump supporter, you cant get any dumber!',\n",
       " '@AOC Great Smoky Mountains! It has so much to do, and so many options for activities!',\n",
       " '&gt; I think my tweets to #thenine that were critical of @JeaneF1MSP and @nicolasturgeon and @thesnp has got someone looking through my past tweets and reporting me, @twitter @TwitterSupport @jack',\n",
       " 'I know I have a dirty mind, but what do you think would happen if they dusted that disgusting body for fingerprints? https//t.co/rS9PKrFzCh',\n",
       " '@babaosamie @GeoffMiami @DrJasonJohnson @AOC not having a soul helps',\n",
       " '@warindigladys I am shook I didnt know this was a thing. In Botswana youre a dirty fiend thats failed the family if you are on nose drugs. Weed is also a disgrace but rather that',\n",
       " 'What a shame this cowardly piece of shit terrorist could only be killed just once! https//t.co/Zqf6Lm5q1f',\n",
       " '@MKeyboards Mine turned out just to be a dirty switch. After cleaning it, the chatter vanished.',\n",
       " '@ALETEMP @kylegriffin1 @AOC Still waiting on why socialism was going so amazing and ur country said never mind....so odd.',\n",
       " '@AllisonMorris1 @JamieBrysonCPNI @irish_news All trespassing scope them up .',\n",
       " \"@atzkhjss @apelnyajongho I'm going to be killed with a black haired Hongjoong, you should know that ')\",\n",
       " '@AOC You seek to continue Obamas plan to destroy our country. Not happening',\n",
       " 'No matter how good of a person you are, theres a little bit of rage that rises up when you see a dirty dish after youve just finished the dishes.',\n",
       " '@AOC An apology to President Trump is in order!',\n",
       " '@AOC @humanssuck12 Do you get paid less than the men in Congress? If not what are you gonna do about equal pay across the boards for women?',\n",
       " '@wordamentalist @NicolaSturgeon How do you manage to fit so much in to your working day #dayjob and still find time to read?',\n",
       " '@wvjoe911 @AOC Me too!',\n",
       " '@JessicaValenti @AnnaHolmes @topicstories @firstlookmedia So agree!!',\n",
       " '@ChidiNwatu @realDonaldTrump @IlhanMN @AyannaPressley @RashidaTlaib @AOC https//t.co/aIMqVcAYJZ',\n",
       " '@joethejerk84 @staceyabrams @IlhanMN @AyannaPressley @RashidaTlaib @AOC https//t.co/P8O4orFHVE',\n",
       " '@craigrobb77 @TheJadeGamer @Kurt_SDMF @PolitiBunny @AOC @ScherieMurray https//t.co/MxtQuACoVJ',\n",
       " 'Promoting Shropshire business county and nationwide at https//t.co/1RB4oiaexi @dyke_yaxley @vista_design @network_telecom @TannersWines @ClivePughDirect @CompanySelectUK @chrisbeon @rob_andrewslaw https//t.co/Igiymvadxb',\n",
       " 'Its a dirty game https//t.co/vqdwYhJDo1',\n",
       " '@wolters_ann @Dekdarion11 It seemed so tame. But I think that skank baits people for the sole purpose of reporting them, which is why I wont touch another of her pathetic Tweets.',\n",
       " \"@opinion_joe It was @AOC. There's a Wikipedia page https//t.co/KQsJtZ22ye\",\n",
       " '@cowards_are_us @JoeNBC @morningmika @NicolleDWallace @gtconway3d @JoyceWhiteVance @Alyssa_Milano @AOC @SRuhle @KatyTurNBC F{{{{ing fools https//t.co/qhLFcqvh5m',\n",
       " '. @barackobama @regsprecher @andersoncooper @alexebarker @julientoyer @Bart_DeWever @MarkDemesmaeker @carlbildt @NicolaSturgeon @owenjones84 @geertbourgeois @SJLambrinidis @AlfredBosch @claraponsati @PMOIndia @JapanGov @BernieSanders @govSlovenia @TheDesmondTutu @DalaiLama https//t.co/uDjSlegOxY',\n",
       " '@montaga @SKYRIDER4538 @AOC https//t.co/uQerUJfCkv',\n",
       " '@tnridge @mmpadellan @AOC https//t.co/fyI1B0qvF1',\n",
       " '@framcca @greentree1001 @NicolaSturgeon https//t.co/PiIrLLp9yV',\n",
       " '@Indy2S @AgentP22 @NicolaSturgeon https//t.co/kAy9JT14X2',\n",
       " '@reuvenyaaqov @thehill @AOC https//t.co/Jux94hD4BW',\n",
       " '@NicolaSturgeon @jeremycorbyn @Conservatives https//t.co/Qus2hlYPAW',\n",
       " '@silver_fox9 @KimberlyMrsR1 @AOC https//t.co/jVog6cNltb',\n",
       " '@moaningminnie6 @eddireader @NicolaSturgeon https//t.co/M8gFdrdYKE',\n",
       " '@omiagua @MichaelAvenatti @AOC https//t.co/flBlHdWcl1',\n",
       " '@CricketandLion @edgar_a_bitch @KathyBurke https//t.co/e9BRAfxqvM',\n",
       " '@NicolaSturgeon Anything to say on this Nicola ? https//t.co/Iuqr1bBDe0',\n",
       " '@ReturnTheHeart Tamatoa /snorted/. This was too good. Maui shot him a dirty look, and then raised an eyebrow. Moana really doubted him?? Ok, princess. You wanna see action? You got it. He hollered, jumped onto the edge of the boat, and spun them around. Straight shot to Te Fiti, this way!',\n",
       " \"@AOC They just don't care. As long as they have their piles of money, they don't care what the consequences are.\",\n",
       " \"@thisisdumb_82 I love Cricket. We've used them for years and have never had an issue. They run off of AT&amp;T towers.\",\n",
       " '@MagsR11 @NicolaSturgeon And take the other half of the krankies with you',\n",
       " '@AndyEMorrison @NicolaSturgeon Nothing has changed! Nothing has changed! This is fine.. https//t.co/wiBrQJ2Nt3',\n",
       " \"@AOC Hey you know what would help?? If there wasn't millions of illegal immigrants there!!\",\n",
       " 'Donald Trump is hiding a dirty little secret https//t.co/d6uI1MZcsc via @PalmerReport',\n",
       " '@Powerpopfan2 @Admdjg @TheHarryCherry @AOC The dude blocked me after his little rant. Haha, how disappointing.',\n",
       " '@Superpaperclip @JessicaValenti Still not racism.',\n",
       " '@MalcolmNance @AOC @TeamPelosi We need to pay attention to this!',\n",
       " 'I have no idea why yall think Donovan Mitchell is about to lead anyone anywhere https//t.co/sxxKHSpGre',\n",
       " \"This is Diesel. He's a great dog. Sure he may drink from the toilet, and clean his junk after licking a dirty dog ass. He might even eat a suspect burger that he pulled out of the trash. But Diesel will NEVER......EVER.......Play #Google #stadia!!! https//t.co/OSit21UjwX\",\n",
       " '@jovan_solo @EmployeeFor @AOC Which is better than the outstanding obligations they would likely have had they made a deal.',\n",
       " '@tampagirl19655 @JessicaValenti @ZerlinaMaxwell Same.',\n",
       " 'If you read this, you have to send me a gift card. My rules now be a good little bitch and follow them. Miss.effie.x@gmail.com #findom https//t.co/Eqs23xhVbS',\n",
       " \"@Twither407 @brenner_colleen @TuckerCarlson @AOC Well staffers can't be smarter than AOC, I hope those dipshits keep runnings their mouths!\",\n",
       " '@TiaBarricini @AOC @nudog71 Yea, but weve got to continue eliminating those pesky Obama environmental restrictions- trump thinks Global warming is an opinion',\n",
       " \"Well, the Dalai Lama makes for a strong point. Let's be honest if his female successor was butt ugly, who would find zen? https//t.co/d0nbiYDJtg\",\n",
       " '@daveacrick @MotherJones @AOC As someone deemed fluent in Spanish by the American education system standards, AND was raised in a home where Spanish was the dominant language spoken; I stutter. Not to mention every Latin country has different dialects. Your ignorance is showing.',\n",
       " '@vSigloV @YesScot @NicolaSturgeon Nicola Sturgeon and the SNP get my vote!',\n",
       " '@CrmsnRckStudios @PeterGilmoreArt Should be a dirty sewer rat....',\n",
       " '@W90404843 He never said go to a different country! Omar should be damn grateful to be out of the hell hole she escaped. But she is not so that bitch SHOULD go right on back to Somalia where they practice what she preaches.',\n",
       " \".@BJP4India #MLA - ' ' #Pappubhartaul #NYOOOZ https//t.co/da0a4lUIdt\",\n",
       " '@DC_MJ @tonya_still @thehill @SpeakerPelosi I think theres a huge difference between @AOCs substantive criticism of her colleagues stances and actions and @SpeakerPelosis flat out belittling of AOC and other progressive freshman woman reps.',\n",
       " \"@AnupamConnects We can't hear you no more lama. Do you think your pretty? Oh right, men can be butt ugly but this never gets mentioned or seems to impinge their progress in this world.\",\n",
       " \"@AOC do you have anything to say about this? I'd love to hear your thoughts https//t.co/OIbbk5Q7sZ\",\n",
       " \"#Animals are like people, they have their own characteristics &amp; personality! Respect them, we need them in our lives. #RespectAnimals #AnimalRights Please #Rescue #Adopt #Save #Foster a wonderful #Pet! Don't let innocence to be #killed Please #retweet Have a beautiful day https//t.co/MAdS54TX6z\",\n",
       " '@MoveOn @AOC @AyannaPressley @vgescobar @RashidaTlaib Ffs. All this crying. Is it that time of the month???',\n",
       " '@SEPTAPHILLY @TheFranklin @River_Rink Philadelphia is a dirty disgusting city. You want me to take a bus through that war zone? You take a bus.',\n",
       " \"Defend yourselves. A women/dyke/feminist only force. You invited the trouble. You fix it. Don't ask men to help. Get CressyDick and all the WPCs to fix it.\",\n",
       " '@Raymond80730582 @NicolaSturgeon @scotgov Nope.. but folk from England living here can',\n",
       " \"@AOC Don't you ever get tired of looking like a fool? https//t.co/wwZHUuQo2p\",\n",
       " '@aksbdlesbian actually, they mostly do realize dolan sucks (and has kind of a dirtbaggy public persona tbh) but still get delusional whenever big free agents go on the market',\n",
       " 'But Im honour of Canada day and pride this past month just wanna say how thankful I am to live in a world where I can be myself and not be killed or hunted or like stabbed',\n",
       " '@AaronBrodock @AOC Not everyone has a garage and/or a garbage disposal JO',\n",
       " '@AOC Except most of them were born in the US',\n",
       " '@AOC How would you like to get free food free healthcare free education free clothes free showers if these people were citizens then they would be free to go home if not then they are detained!! Or go home !',\n",
       " '@SenKamalaHarris You are correct, what happen to us that compassion is a dirty word',\n",
       " '@SpeakerPelosi These are your sparks of divinity illegals. Unfortunately many of the victims are minorities. @AOC @OANN @FoxNews @Liz_Wheeler @TuckerCarlson @JudgeJeanine @GregAbbott_TX @KenPaxtonTX #MAGA https//t.co/MSdGUQMsLG',\n",
       " \"If Scotland had won the #WWC19 I'm pretty sure we'd have heard from @NicolaSturgeon by now. Yet the US president is still silent...\",\n",
       " '@KAS_B747 @AOC Notice the unflattering picture of President Trump used by Fox News. They disgust me.',\n",
       " '@bullboy13 @yourfeminstboss @JessicaValenti Well when you become a man maybe shell consider, little boy.',\n",
       " '@sionnach15 @KarlRowland7 @dd_hall @NicolaSturgeon @IanBlackfordMP @UKParliament Plain as day eh! I reported it!',\n",
       " '@AOC We want you all to resign you have no patriotism and dont deserve your office you are no use to us',\n",
       " '@AOC Theyre not dehumanizing policies. Theyre policies that apply to humans. Furthermore, violating someones rights is not necessarily dehumanizing.',\n",
       " '@82XLeon @SophieintVeld @Europarl_EN @AOC @IlhanMN @RepPressley @RashidaTlaib @realDonaldTrump Wie zegt dat zij een hekel aan hun eigen land hebben? Zij zeggen dat zelf niet. Ze zijn alleen maar tegen Trump met zijn racisme, en dat bevalt hem niet. Maar ze doen niks onwettigs.',\n",
       " '@NicolaSturgeon and how exactly could he continue when POTUS refused to deal with him',\n",
       " '@Kingalexander61 @UnburntWitch Kids trolling AIs by suddenly taking three steps sideways without breaking stride just to see every car suddenly slam the brakes',\n",
       " '@AOC Nevermind that debt. Soon it will outpace the GDP and when that happens none of these fairytale issues of yours will matter. Just keep giving away free stuff if you want to see real problems.',\n",
       " 'Well said, lets see how long it takes @NicolaSturgeon takes up the gauntlet for the Catholic community https//t.co/GcfYxsZa2b',\n",
       " '@JennyGilruth @ScotParl @kezdugdale eh scum they pair kez and jenny',\n",
       " '@Lewdcilps Camel toe?',\n",
       " '@mmjblair @BoycottsBat @putey_pute @AndrewWyntoun @rogerlwhite @KondratieffWave @NicolaSturgeon @BonedBond @AgentP22 @PaulMcM78 @AndyEMorrison @edglasgow59 @RuthDavidsonMSP Oh yes I beg your pardon, the gentleman had three then .',\n",
       " '@AllisonMorris1 @naomi_long @Weller64 @Cheesewright3 Hit the nail on the head with this one Allison.',\n",
       " '@AOC Morning, who will you attack today? How much hate will come from you today? Are you ready to rumble? Go get em killer Democrat! #dumbdem #hater #AOCResign #witch #nasty #MondayMotivaton',\n",
       " '@AyannaPressley @AOC #Excellent #Response #RacistInChief',\n",
       " '@buckeyes1980 @AOC Shell never get it, the bitters went to her head..',\n",
       " '@imillhiser @AOC DHS is relatively new. Coast guard goes back to DOT during peacetime and DoD during wartime. Simple.',\n",
       " '@AOC AOC',\n",
       " '@Twitter @TwitterSupport @jack - This #NewTwitterLayout blows harder than a $2.00 crack whore at a Legionnaires convention. Bring back the option to switch back to the #TwitterLegacy option.',\n",
       " 'The Island Tower Dentistry team is very excited to welcome Dr. Jonathan Van Dyke to our dental practice. He is excited to share his dental expertise with the Marco Island Community. Call today to schedule your next visit! (239) 394-1004 https//t.co/XvSxoP1I1h',\n",
       " 'In my head the twitter accounts that constantly post pictures of other men and ask share your experience with him are the type of men that are butt ugly and cannot get any so they have to live vicariously through the made up experience of others',\n",
       " '#Swamprat getting schooled, ur an idiot @AOC ur staff sucs @SpeakerPelosi nofunding for reelection #gdamerica @Ilhan @RevWrightKnows #3amigos do not fund reelection of that MF @RashidaTlaib #drip @realDonaldTrump https//t.co/bstNvcxHJn',\n",
       " '@NicolaSturgeon Its also my husbands birthday today. Hes in the last year of his thirties too lol have a good one FM.',\n",
       " '@mary_fagan @NicolaSturgeon And lets get it done before clown shoes Boris does any MORE damage',\n",
       " \"@Derrick_67 @MagnusHeystek I'm looking into this. Why wait here to be killed\",\n",
       " '@SenKamalaHarris @AOC How about providing safe affordable housing to our homeless veteran population? Or do they matter less than convicted criminals?',\n",
       " '@Patrick_Fenelon @AOC I remember on the day HW Bush died, AOC said literally nothing, and her mentions were filled with angry right wingers about it.',\n",
       " \"@lyles_zhaymauri Don't think so...not really. Literally everyone from India had subscribed to them except hardcore PewDiePie fans ofc and PewDiePie himself had also urged fellow gamers and their fans to subscribe to him. It was a dirty game cannot compare here\",\n",
       " \"@DNathanson64 @FreedomWorks @AOC @saikatc Devils fan since '82. Mets. Jets. Loving life as a grandpa!\",\n",
       " \"@IsThisAB0t @KizzieWiz @NicolaSturgeon Don't hold it against me\",\n",
       " '@AOC Showing your lack of comprehension again. Mueller is a disaster for Democrats',\n",
       " '@AOC @IlhanMN @AyannaPressley @RashidaTlaib Lost 25,000 jobs for her Burroughs Had her green deal voted down 0-57 Cried outside a chain link fenced parking lot Called Pelosi a racist',\n",
       " \"@_Refused It's a Dirty Sanachez... I heard it's part of the hazing one must endure in order to be inducted into the Blue Chicken Cult Hall of Fame...\",\n",
       " \"Chantel is a saint. She showed such composure and restraint in that situation. If Pedro didn't want to wait a few hours to hear what she had to say, he shouldn't have let that skank Coraima touch him in the first place. #90DayFiance\",\n",
       " '@EpochTimes @AOC @LindseyGrahamSC They do hate this country What sad excuses for representatives',\n",
       " '@MatEvo Thanks mate. I take things like take aways very serious. Although I do have a bit left over for a dirty breakfast tomorrow',\n",
       " '@ConservTVNet @SenSanders @AOC Spoken like a typical fascist.',\n",
       " \"@NicolaSturgeon Agree totally. But why the stunning silence over the illegal slaughter of Scotland's birds of prey?\",\n",
       " '@politisuck @thehill @AOC Well under this disgusting administration, THEY SHOULD!',\n",
       " \"@handel_l @EricVonHaden1 @Elaine_Greek @BrendaWinkowsk2 @KayaJones @realDonaldTrump @KayaJones0 @TomiLahren @RealDrGina @JoeBiden @ainsleyearhardt @ShannonBream @JessicaTarlov @kayleighmcenany @ScottWalker @CrystalDani_ @tammybaldwin @AnnaG3713 @benshapiro @johnloudon @HillaryClinton @ewjjr1 @garyhgoodridge @handelsblatt @BarackObama @jack @RealCandaceO @foxandfriends @SandraSmithFox @FLOTUS @NBCNews @LindseyGrahamSC @VP @senchuckschumer @SenSchumer @charliekirk11 @bwill1130 @NRA @jillstien @HeyTammyBruce @fox47madison @IvankaTrump @USCellular @FoxNews @FoxNewsInsider @lydaloudon @AOC @IlhanMN @RepKatieHill @USWNT Stop being bullied into Ungodly Donnie Cowards ya God created all y'all to use ya imagination to create n build ya dreams as if God didn't create ya ya wouldn't have all this to move to n chase ya dreams stop being brainwashed by Ungodly Donnie n thy ya only belong here n there https//t.co/rA5eqRUF33\",\n",
       " 'Disappointed with the gender split of @BorisJohnson new cabinet. 31% female representatives is not good enough. So proud of @NicolaSturgeon Cabinet which has an equal 50/50 split! https//t.co/Xjw6DG7jHN',\n",
       " '@LiftSzn @AOC Most scariest Really. A crowd chanting? Thats the most scariest of your lifetime!?! Dude you live a posh life!',\n",
       " '@AOC .denial of science?',\n",
       " '@AOC The most profound thinking about the gop. so hard that there are more DEMOCRATS in office like you. Love you @AOC',\n",
       " \"@clmbie @defiaye @KirstiMiller30 @NicolaSturgeon @MhairiBlack I would suggest watching Mhairi Black's video released last week in it's entirety.\",\n",
       " \"@msetchell @Selinaberry @EverydaySexism I'm sorry you have that extra level of hassle after everything you've been through (\",\n",
       " 'Serves homie right tho, no WiFi, a dirty pool, no security, no generator, hot water sometimes and 3 working stoves. If non of that is fixed by the time I get back on Sunday....',\n",
       " '@CavanaughRj @kjakcar @AOC @SpeakerPelosi Wait, you forgot the walrus clap! That sure put Trump in his place.',\n",
       " \"@adkn00 @NathanMSheridan @AOC Stay in Kentucky, Angie. You're clueless about big city economics. Vote Amy McGrath 2020\",\n",
       " '@KaitMarieox @AOC Competing with Tomi for twitter attention.',\n",
       " '@AOC Sit down, and shut up little girl. Learn how the game is played, then join in. Worry about your delegates before you worry about your presidential run.',\n",
       " '@slammy99 @JackPosobiec @AOC You missed the anti-ICE Democrat hearings on Thursday? Pretty sure MSNBC amplified the anti-ICE propaganda.',\n",
       " \"@ScotNational @NicolaSturgeon A good few copies being sent to the DWP, they can spot all the walkers getting benefits because they say they can't walk.\",\n",
       " '@scotlandinunion @pamela_nash @NicolaSturgeon They have been accused of obstructing police investigation into vote leave criminal activities.',\n",
       " '@LukeRey73040782 @bombusmonticola @MhairiBlack @NicolaSturgeon They would run a mile if an angry woman challenged them',\n",
       " '@AOC You are absolutely on track with this!',\n",
       " 'A dirty child is easier to love than a distant child @traylorlovvorn https//t.co/vI66Osa22R',\n",
       " '@briever1 @scotgov @NicolaSturgeon Yeah, get on the front foot. Challenge. Make them come back at us. It will get media attention which otherwise just never gets aired.',\n",
       " \"@its_kachii And who told you I don't bash them? Any way it's your ear listen to what ever you want, don't just come here justifying it with Rape or comparing Masturbation and rape which should stay and which you be killed... Sela\",\n",
       " '@DarbyP10 @ChakraDoris @JeremiahMckinon @TheRightMelissa @AOC @SenKamalaHarris Ignorance is even more powerful',\n",
       " '@domesticworkers @AOC Why are you calling out just the Women who are domestics?',\n",
       " '@crunchyrugger @TraceyHogan @dabeard @chrislhayes @AOC Absolutely. Trump is normalizing racism, discrimination, harassment, disrespect, immorality, misogyny, criminal behavior, and every negative behavior that exists.',\n",
       " '@allen_aptos @HarpreetChima @charliekirk11 @AOC @onemedical Big Medical Troll Only here to waste our time.',\n",
       " \"@joncoopertweets @SpeakerPelosi @AOC @HouseDemocrats @DNC Im tired of Pelosi, (tired, tired, tired) because she is full of shit!! If we lose in 2020, the blood will be on her hands. Now @AOC she is championing for the people so I'm riding with her.\",\n",
       " '@GregAbbott_TX @AOC Put them in jail. This is America. Dont like it. Get out.',\n",
       " '@JSMarisnick @JLucroy20 Just a hard play to react to in a split second decision. Had that happen a couple times playing college ball. For ppl that says it was a dirty play from jake, they wouldnt know till u in that situation.',\n",
       " 'He is a dirty dog, not a master mind, Einstein was a Master Mind. https//t.co/swOHePVqNd',\n",
       " '@AOC @KellyannePolls Release them back to their country, problem solved.',\n",
       " '@dyke_karl @Gummy_YOONGIes @parkseokhyungs @BTS_twt Well BTS didnt needed that much time to become legends!',\n",
       " '@WesStreatingMP @AOC @IlhanMN Said the expert on weaponising AS for political ends.',\n",
       " \"@prageru @AOC If you're still not sure, @AOC IS CRAZY!\",\n",
       " '#IamNotAHypocrite If Bill is a dirty man.. Let the chips fall. https//t.co/2fQPW6qW7M',\n",
       " '@Rangoli_A People.......awake and do something with these 2 sisters. Kangana is a dirty woman; a liar. In the name of nationalism and women power, she is promoting her self interest. Many do get fooled and succumb to her hypocrisy and her lies. Kangana is shit period; a trash.',\n",
       " '@NicolaSturgeon Since when have you ever had a grasp of reality??',\n",
       " \"@AOC I agree with Trump!!! The Squad hasn't done Squat!!! Love our Country or LEAVE!!! No Socialism!!\",\n",
       " '@LaylaAlisha11 @Barracuda_Bella @POTUS @aoc is a moron. Same with her other 3 fools. https//t.co/SFxOaC5ylD',\n",
       " '@KonteDraco @GamerMikeH Exactly! I can only speak a few phrases in French. Our education system is incredibly weak for culture and languages.',\n",
       " '@nypost They got married in a dirty barn.... thats all you need to know...keep scrolling',\n",
       " '@patrickxwest too *convenient* to fail now as so many house post offices',\n",
       " '@hongolala Jajajajaja eres chingona!',\n",
       " '@AndreaNRuth @JayCaruso @Independent @AOC @SpeakerPelosi Yes Nancy is the nicest Fake Democrat we have ever seen.',\n",
       " '@bennyjohnson @AnthonyCumiaCPM @AOC The #SeaOfLove',\n",
       " '@ScotGovFM @NicolaSturgeon @RemSrebScot @SrebrenicaUK @ScotGovFairer Didnt you lot oppose the intervention?',\n",
       " 'Wow @AOC https//t.co/hy0XULnnZM',\n",
       " '@UnburntWitch What the https//t.co/SMFRlIxaZi',\n",
       " '@matthewstoller @mehdirhasan @AOC Owning Nancy Palsy, er Nancy Perosis, er Nancy Pelosi.',\n",
       " 'https//t.co/GRPG9QrENf https//t.co/O9ySkR5j2J',\n",
       " 'https//t.co/b0yNqmfaSf',\n",
       " 'https//t.co/ABVQib4imK',\n",
       " 'https//t.co/M2L8DQjbc5',\n",
       " 'https//t.co/tOWbIUz7wR',\n",
       " 'https//t.co/j6POMNSII9',\n",
       " 'Police can now fine you $448 for having a dirty car https//t.co/R9ZhxULPbF',\n",
       " '@greymatters48 @carmic3 @NicolaSturgeon @strathearnrose @bethsy @HarrogateFest She already has..!!',\n",
       " '@GeraldoRivera @realDonaldTrump @AOC @RashidaTlaib @AyannaPressley @Ilhan @POTUS Friend LMAO',\n",
       " '@VoiceOfLiberty4 @realDonaldTrump @AOC @IlhanMN @RashidaTlaib @AyannaPressley bro shut up',\n",
       " 'Only managed to topple once getting distracted by good doggos on the trail @ Pitt Meadows Dyke Trail System https//t.co/LHBDqWLs1W',\n",
       " '@BernieSanders @AOC @repblumenauer So you will stop flying private jets? Stop heating three homes? What?',\n",
       " \"Hey @AOC @IlhanMN @RashidaTlaib here's a free economic lesson from a Texas heroin addict - limiting illegal immigration increases the opportunity for your/OUR constituents to get employment #T3 aka Trump Tulsi Ticket?\",\n",
       " \"@7of9bee @Tx_Rider1 @redeemed_Dem @AOC LOL. You're not even worth going off on. That's hilarious!!!\",\n",
       " 'If this is true, I will make it my job to be at the premiere to stage a dirty protest. https//t.co/FjggvzYHVv',\n",
       " '@AOC You dont have rights if you are here illegally. You give thos up as soon as you set foot in this country illegally.',\n",
       " '@PoliticalProgn @realDonaldTrump @SpeakerPelosi @AOC And make it a double shot!',\n",
       " '@AOC @AOC has no brains. She thinks that taking 25,000 jobs @ $150,000/yr per job, is helping her constituents.... DING THE FRIES ARE READY!!!!',\n",
       " '@Call_It_Out_ @policescotland @GlasgowCC @LeaderGCC @NicolaSturgeon @pauline4glasgow Ive never ever seen one of these ugly displays of #hate in Edinburgh but then again Im never in the UK in July and I havent lived in Edinburgh for many years. But am shocked these medieval mindset ignorant marches are still happening. #orangeorderyoureoutoforder',\n",
       " '@CBSThisMorning It must be the global warming and climate change threat. We have less than 12 years to act. @AOC',\n",
       " '@FranklinwRusse1 @AOC But, according to Madison, if a federal law is not consistent with the Constitution, it is null and void and education is nowhere mentioned in the Constitution.',\n",
       " '@AyannaPressley @MelindaWhitt3 @KellyannePolls @SpeakerPelosi @AOC @IlhanMN @RashidaTlaib I know enough! Grow up',\n",
       " '@AllisonMorris1 1 Build it out of wood. 2 Dont use tyres. (bad for the chils assma) 3 Dont build it in grannys good room',\n",
       " '@travisalabanza Playing the harp is a dream of mine. I even rented one, once. Maybe one day.',\n",
       " '@AshleyRParker @JessicaValenti I wish he took that advice for himself between 2008 and 2016.',\n",
       " '@IrishTimes Because of a dirty little corrupt crony system cultivated by the likes of Bertie that brought ppl like this to the fore of Irish life.... https//t.co/WsFnMllE5W',\n",
       " '@shahmiruk @NicolaSturgeon And @DavidLammy!',\n",
       " '@Lstedmanbryce @UKAnglosphere @theSNP @NicolaSturgeon @Telegraph Why do we keep paying for this unimportant outpost of the English empire',\n",
       " '@JaffBailie @NbfastH @AllisonMorris1 John Stannard then. You havent the foggiest clue but its entertaining reading your nonsense. Id love to see you before a high court judge. It would be hilarious. Comedy gold.',\n",
       " '@AOC You also forgot Communism and government control of everything and no free speech for infidels.',\n",
       " 'Mini rant about Pogba and then Rashford with a dirty dangle and easy goal slotted home! Beautiful! 2-0',\n",
       " '@AOC You lost all credibility when you voted against the house bill. Youre unfit for your position.',\n",
       " '@syxchi Well, Ive gotten the displeasure of watching that before, so I dont know how bad itd be doing it again, and as for murder . . Would it really be bad if I did it? Maybe that loved one has a reason they gotta be killed. . I dont know She shrugged, brows furrowing ( . . . )',\n",
       " 'Its sad that it took @AOC attacking @SpeakerPelosi to get people within their party to finally call her out, but at least its happening. Its literally just like dealing with a child. https//t.co/1TFnALfBnu',\n",
       " '@RealCandaceO @AOC Not to mention craves attention and the spotlight by milking controversy',\n",
       " '@TrumpStudents @realDonaldTrump @nytimes @AOC Theres nothing fake except Donald Trump!!',\n",
       " '@AOC @KellyannePolls Your are so full of crap.',\n",
       " '@AOC Maybe we could put them on horses?',\n",
       " '@SenSchumer @SenateDems Grandstanding. Did seems familiar. As I recall @aoc offered classes on how to duplicate her social media clickbait enterprises, but little did we know the #dramaqueen acting classes were just as popular, only she needs a refresher as her cries are as dry as her cold reptile tears',\n",
       " \"The weakest person is 'he' who believes everything he hears, you'll start hating a lovely person solely because you heard a dirty rumor about them that was actually false Mufti Menk https//t.co/dDOdh3aP2D\",\n",
       " \"@IamJohnBurnett @AOC AOC doesn't really want to help people and doesn't even know how. She just wants to talk and act important.\",\n",
       " \"@RudyGiuliani His past can slap your past to a dirty puddle. He has more honor in his little finger then you do Rudy in anything you have said the last 13 yrs. You're the one who is pathetic.\",\n",
       " \"@HustusMichael @QTAnon1 They're furious about junior tweeting camel toe isn't a real black person. They said it's the birther thing all over again sure don't take much for these ppl to go into bat crazy mode\",\n",
       " '//normally I just sigh and let this stuff go without saying a word but this genuinely pisses me off. People cant even accept important figures in our nations history. We live in such a bitch made generation. Everyone has to get offended over everything... https//t.co/t7Dkoi8ws4',\n",
       " 'yeah nyc smelling like a dirty shoe isnt great, but it about number 5 billion on the list of issues we have rn',\n",
       " '@wulfg_michael @JackPosobiec @RealCandaceO @TPUSA @AOC Too funny!!! Thanks for the laugh!!!! https//t.co/sLAOaWWnLO',\n",
       " '@YetiGrow @walterowensgrpa @AOC Its a parody account. You took the wrong bait.',\n",
       " '@hfcjgm @Thomasmck981 @SteveSayersOne @NicolaSturgeon Scotland didnt vote. The uk did.',\n",
       " '@_MattBoswell @AOC @BillPascrell Go big or go home. Put your Ways and Means where your mouth is! ^_^',\n",
       " '@Tra_Daysss No he is a dirty player',\n",
       " '@jack_burgess81 @MissButter @mistersamsa1984 @MorinMoss @CB50295524 @AOC Silence is complicity.',\n",
       " '@lmorihouse @ChiefnDatLoud @TodMoore3 @marisa_iati @AOC Awesome, let the battle begin. Strap up.',\n",
       " \"This bitch who's done fucking ivf but opposes the rape exception - there are literally no words, idk how much longer I can tolerate the joke that the pro-life movement is. As if the whole white male supremacy thing wasn't enough smh https//t.co/udPQPdYtqk\",\n",
       " \"@nowthisnews @AOC I just watched a documentary about the Holocaust in which a survivor describes the horrors that she had witnessed in the Nazi camps. It was the telling of being separated from her mother that brought her to tears. We're doing that now.\",\n",
       " 'Its Summer, who really wants to #clean a #dirty house? Well, the answer is @iQHomeServices These guys absolutely love cleaning. https//t.co/JtmM9fpU5v',\n",
       " '@LouiseMensch @realDonaldTrump @AOC @Ilhan @RashidaTlaib Your racist to. I would bet my last you wouldnt even be my friend',\n",
       " '@JaffBailie @AllisonMorris1 Stick to spouting nonsense. Its what you are best at.',\n",
       " '@realDonaldTrump @Chris11962 #BuildTheWall @AOC @RepAOC @KamalaHarris @SenKamalaHarris @CoryBooker @SenSchumer @SpeakerPelosi @chuckschumer @RashidaTlaib #MAGA #ProtectSouthTexas',\n",
       " '@ScottMo11582812 @NicolaSturgeon Easy peasy https//t.co/aqwpIP0uE4',\n",
       " '@DCooper_Resists @AOC Go back under your rock ....no-one is taking your race baiting',\n",
       " 'Stopped to walk Max at Devils Dyke - en route to Brighton. Beautiful day. South Downs - West Sussex, England. #devilsdyke #southdowns #westsussex #sussex #england #uk #rollinghills #hills #stunning https//t.co/ghjabTT1oT',\n",
       " '@AOC https//t.co/Ws2TTpXxAP',\n",
       " '@67_alonso https//t.co/Ft3olZLijN',\n",
       " '@AOC https//t.co/ohA3FWYqIp',\n",
       " '@embarrassedolan https//t.co/JWb1ghF3ue',\n",
       " '@AOC https//t.co/aRjEgtLtr8',\n",
       " '@AOC https//t.co/HGCw08W4rA',\n",
       " '@AOC https//t.co/lJC45rHI6W',\n",
       " '@NicolaSturgeon https//t.co/qYGsXuPyna',\n",
       " '@AOC https//t.co/SjU4wz4D6q',\n",
       " '@NicolaSturgeon https//t.co/FwsvfrpbMo',\n",
       " '@AOC https//t.co/mwnhhevpw6',\n",
       " '@NicolaSturgeon https//t.co/cxdW0al7pB',\n",
       " '@EverydaySexism https//t.co/ueFjxtJytV',\n",
       " ...]"
      ]
     },
     "execution_count": 133,
     "metadata": {},
     "output_type": "execute_result"
    }
   ],
   "source": [
    "df_test[df_test['prediction']<=.5].sort_values('prediction', ascending=False)['text'].tolist()"
   ]
  },
  {
   "cell_type": "markdown",
   "metadata": {},
   "source": [
    "### Visualization of probability distribution"
   ]
  },
  {
   "cell_type": "code",
   "execution_count": 134,
   "metadata": {
    "pycharm": {
     "is_executing": false
    }
   },
   "outputs": [
    {
     "data": {
      "image/png": "[encoded data removed]",
      "text/plain": [
       "<Figure size 432x288 with 1 Axes>"
      ]
     },
     "metadata": {
      "needs_background": "light"
     },
     "output_type": "display_data"
    }
   ],
   "source": [
    "df_test['prediction'][df_test['label']==1].plot.hist(bins=99, alpha=.5, label=\"Misogyny\")\n",
    "df_test['prediction'][df_test['label']!=1].plot.hist(bins=99, alpha=.5, label=\"No Misogyny\");\n",
    "plt.legend();"
   ]
  },
  {
   "cell_type": "markdown",
   "metadata": {},
   "source": [
    "## Parameter Optimization\n",
    "\n",
    "One can fine-tune the model's hyperparameters in order to\n",
    "find the best possible model."
   ]
  },
  {
   "cell_type": "code",
   "execution_count": 135,
   "metadata": {
    "pycharm": {
     "is_executing": false
    }
   },
   "outputs": [],
   "source": [
    "estimator = RandomForestClassifier(n_jobs=-1, random_state=42)"
   ]
  },
  {
   "cell_type": "code",
   "execution_count": 136,
   "metadata": {
    "pycharm": {
     "is_executing": false
    }
   },
   "outputs": [],
   "source": [
    "# BEWARE: Searching for more than just a couple parameters will increase the calculation time exponentially!\n",
    "param_grid = {\n",
    "    \"n_estimators\": [50, 200],\n",
    "#     \"max_depth\": [3, None],\n",
    "#     \"max_features\": [1, 10, 100],\n",
    "#     \"min_samples_split\": [10, 100, 1000],\n",
    "#     \"bootstrap\": [True, False],\n",
    "#     \"criterion\": [\"gini\", \"entropy\"],\n",
    "}"
   ]
  },
  {
   "cell_type": "code",
   "execution_count": 137,
   "metadata": {
    "pycharm": {
     "is_executing": false
    }
   },
   "outputs": [],
   "source": [
    "grid_search = GridSearchCV(estimator, param_grid=param_grid, cv=5, iid=False, verbose=2, n_jobs=-1)"
   ]
  },
  {
   "cell_type": "code",
   "execution_count": 138,
   "metadata": {
    "pycharm": {
     "is_executing": false
    }
   },
   "outputs": [
    {
     "name": "stdout",
     "output_type": "stream",
     "text": [
      "Fitting 5 folds for each of 2 candidates, totalling 10 fits\n"
     ]
    },
    {
     "name": "stderr",
     "output_type": "stream",
     "text": [
      "[Parallel(n_jobs=-1)]: Using backend LokyBackend with 4 concurrent workers.\n",
      "[Parallel(n_jobs=-1)]: Done  10 out of  10 | elapsed:  4.3min finished\n"
     ]
    },
    {
     "name": "stdout",
     "output_type": "stream",
     "text": [
      "CPU times: user 2min 18s, sys: 51.3 ms, total: 2min 18s\n",
      "Wall time: 5min 48s\n"
     ]
    },
    {
     "data": {
      "text/plain": [
       "GridSearchCV(cv=5, error_score='raise-deprecating',\n",
       "             estimator=RandomForestClassifier(bootstrap=True, class_weight=None,\n",
       "                                              criterion='gini', max_depth=None,\n",
       "                                              max_features='auto',\n",
       "                                              max_leaf_nodes=None,\n",
       "                                              min_impurity_decrease=0.0,\n",
       "                                              min_impurity_split=None,\n",
       "                                              min_samples_leaf=1,\n",
       "                                              min_samples_split=2,\n",
       "                                              min_weight_fraction_leaf=0.0,\n",
       "                                              n_estimators='warn', n_jobs=-1,\n",
       "                                              oob_score=False, random_state=42,\n",
       "                                              verbose=0, warm_start=False),\n",
       "             iid=False, n_jobs=-1, param_grid={'n_estimators': [50, 200]},\n",
       "             pre_dispatch='2*n_jobs', refit=True, return_train_score=False,\n",
       "             scoring=None, verbose=2)"
      ]
     },
     "execution_count": 138,
     "metadata": {},
     "output_type": "execute_result"
    }
   ],
   "source": [
    "%%time\n",
    "grid_search.fit(x_train, y_train)"
   ]
  },
  {
   "cell_type": "code",
   "execution_count": 139,
   "metadata": {
    "pycharm": {
     "is_executing": false
    }
   },
   "outputs": [
    {
     "data": {
      "text/plain": [
       "{'mean_fit_time': array([ 35.10880055, 128.00320044]),\n",
       " 'std_fit_time': array([ 0.51565492, 26.99964939]),\n",
       " 'mean_score_time': array([0.23607812, 0.52265096]),\n",
       " 'std_score_time': array([0.04018389, 0.09832141]),\n",
       " 'param_n_estimators': masked_array(data=[50, 200],\n",
       "              mask=[False, False],\n",
       "        fill_value='?',\n",
       "             dtype=object),\n",
       " 'params': [{'n_estimators': 50}, {'n_estimators': 200}],\n",
       " 'split0_test_score': array([0.76967849, 0.77466741]),\n",
       " 'split1_test_score': array([0.78381375, 0.79268293]),\n",
       " 'split2_test_score': array([0.77937916, 0.78575388]),\n",
       " 'split3_test_score': array([0.77287854, 0.77981143]),\n",
       " 'split4_test_score': array([0.78757626, 0.79062673]),\n",
       " 'mean_test_score': array([0.77866524, 0.78470847]),\n",
       " 'std_test_score': array([0.00664335, 0.00670097]),\n",
       " 'rank_test_score': array([2, 1], dtype=int32)}"
      ]
     },
     "execution_count": 139,
     "metadata": {},
     "output_type": "execute_result"
    }
   ],
   "source": [
    "grid_search.cv_results_"
   ]
  },
  {
   "cell_type": "code",
   "execution_count": 140,
   "metadata": {
    "pycharm": {
     "is_executing": false
    }
   },
   "outputs": [
    {
     "data": {
      "text/plain": [
       "RandomForestClassifier(bootstrap=True, class_weight=None, criterion='gini',\n",
       "                       max_depth=None, max_features='auto', max_leaf_nodes=None,\n",
       "                       min_impurity_decrease=0.0, min_impurity_split=None,\n",
       "                       min_samples_leaf=1, min_samples_split=2,\n",
       "                       min_weight_fraction_leaf=0.0, n_estimators=200,\n",
       "                       n_jobs=-1, oob_score=False, random_state=42, verbose=0,\n",
       "                       warm_start=False)"
      ]
     },
     "execution_count": 140,
     "metadata": {},
     "output_type": "execute_result"
    }
   ],
   "source": [
    "grid_search.best_estimator_"
   ]
  },
  {
   "cell_type": "code",
   "execution_count": 141,
   "metadata": {
    "pycharm": {
     "is_executing": false
    }
   },
   "outputs": [
    {
     "data": {
      "text/plain": [
       "0.7688249400479616"
      ]
     },
     "execution_count": 141,
     "metadata": {},
     "output_type": "execute_result"
    }
   ],
   "source": [
    "f1_score(y_test, grid_search.predict(x_test))"
   ]
  },
  {
   "cell_type": "code",
   "execution_count": 142,
   "metadata": {
    "pycharm": {
     "is_executing": false
    }
   },
   "outputs": [],
   "source": [
    "y_proba = grid_search.predict_proba(x_test)"
   ]
  },
  {
   "cell_type": "code",
   "execution_count": 143,
   "metadata": {
    "pycharm": {
     "is_executing": false
    }
   },
   "outputs": [
    {
     "data": {
      "image/png": "[encoded data removed]",
      "text/plain": [
       "<Figure size 432x432 with 1 Axes>"
      ]
     },
     "metadata": {
      "needs_background": "light"
     },
     "output_type": "display_data"
    }
   ],
   "source": [
    "plot_roc_auc_f1(y_test, y_proba, title=\"Random forest - Grid search best result\");"
   ]
  },
  {
   "cell_type": "markdown",
   "metadata": {},
   "source": [
    "## Predict user input\n",
    "\n",
    "Remember: 0 is not misogynistic, 1 is misogynistic."
   ]
  },
  {
   "cell_type": "code",
   "execution_count": 144,
   "metadata": {
    "pycharm": {
     "is_executing": false
    }
   },
   "outputs": [],
   "source": [
    "best_rf = grid_search.best_estimator_"
   ]
  },
  {
   "cell_type": "code",
   "execution_count": 145,
   "metadata": {
    "pycharm": {
     "is_executing": false
    },
    "scrolled": true
   },
   "outputs": [],
   "source": [
    "biatch = nlp(\"bitch\").vector"
   ]
  },
  {
   "cell_type": "code",
   "execution_count": 146,
   "metadata": {
    "pycharm": {
     "is_executing": false
    }
   },
   "outputs": [
    {
     "data": {
      "text/plain": [
       "array([1])"
      ]
     },
     "execution_count": 146,
     "metadata": {},
     "output_type": "execute_result"
    }
   ],
   "source": [
    "best_rf.predict(biatch.reshape(1, -1))"
   ]
  },
  {
   "cell_type": "code",
   "execution_count": 147,
   "metadata": {
    "pycharm": {
     "is_executing": false
    }
   },
   "outputs": [
    {
     "data": {
      "text/plain": [
       "array([0])"
      ]
     },
     "execution_count": 147,
     "metadata": {},
     "output_type": "execute_result"
    }
   ],
   "source": [
    "best_rf.predict(nlp(\"Have a nice day\").vector.reshape(1, -1))"
   ]
  },
  {
   "cell_type": "markdown",
   "metadata": {},
   "source": [
    "Seems to be working!"
   ]
  },
  {
   "cell_type": "code",
   "execution_count": null,
   "metadata": {
    "pycharm": {
     "is_executing": false
    }
   },
   "outputs": [],
   "source": []
  }
 ],
 "metadata": {
  "kernelspec": {
   "display_name": "Python 3",
   "language": "python",
   "name": "python3"
  },
  "language_info": {
   "codemirror_mode": {
    "name": "ipython",
    "version": 3
   },
   "file_extension": ".py",
   "mimetype": "text/x-python",
   "name": "python",
   "nbconvert_exporter": "python",
   "pygments_lexer": "ipython3",
   "version": "3.7.3"
  },
  "pycharm": {
   "stem_cell": {
    "cell_type": "raw",
    "metadata": {
     "collapsed": false
    },
    "source": []
   }
  }
 },
 "nbformat": 4,
 "nbformat_minor": 2
}
